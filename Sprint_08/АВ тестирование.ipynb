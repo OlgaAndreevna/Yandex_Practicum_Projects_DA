{
 "cells": [
  {
   "cell_type": "markdown",
   "metadata": {},
   "source": [
    "<div style=\"border:solid green 2px; padding: 20px\"> <h1 style=\"color:green; margin-bottom:20px\">Комментарий ревьюера v1</h1>\n",
    "\n",
    "Ольга привет! Меня зовут Дмитрий Пышненко, и я буду проверять твой проект. Предлагаю общаться на «ты» если ты не против 😊 Но если нет, то дай знать, и мы перейдем на \"вы\". \n",
    "    \n",
    "Для своих комментариев я буду использовать цветовую разметку:\n",
    "\n",
    "<div class=\"alert alert-success\">\n",
    "    <b>Успех:</b> все сделано правильно.\n",
    "</div>\n",
    "<div class=\"alert alert-warning\">\n",
    "    <b>Есть замечания:</b> так выделены небольшие замечания которые не критичны, но было бы здорово исправить. Если таких замечаний немного, то такой проект может быть принят.\n",
    "</div>\n",
    "<div class=\"alert alert-danger\">\n",
    "    <b>Нужно переделать:</b> есть замечания которые необходимо исправить или доделать для сдачи проекта.\n",
    "</div>\n",
    "    \n",
    "Я буду поддерживать версионность комментариев, и при следующих итерациях я буду оставлять ячейки с новой версией v2 (v3 и.т.д.)\"\n",
    "    \n",
    "Если у тебя есть вопросы, замечания или отвечаешь на комментарии — пиши об этом. Мне будет легче отследить изменения, если ты выделишь свои комментарии: \n",
    "<div class=\"alert alert-info\"> <b>Комментарий студента:</b> Например, вот так.</div>"
   ]
  },
  {
   "cell_type": "markdown",
   "metadata": {},
   "source": [
    "<div style=\"border:solid green 2px; padding: 20px\">\n",
    "<b>Комментарий ревьюера v1:</b>\n",
    "    \n",
    "<b>Общее впечатление:</b> \n",
    "    \n",
    "- У тебя получилась отличная работа, поздравляю! Очень чистый код и структурированный подход к решению задачи. \n",
    "- Осталось исправить совсем чуть-чуть для сдачи проекта (буду также рад исправлениям желтых:):\n",
    "    - Добавить дополнительную проверку данных.\n",
    "    \n",
    "Буду ждать новую версию на повторную проверку. Успехов!\n",
    "    \n",
    "</div>"
   ]
  },
  {
   "cell_type": "markdown",
   "metadata": {},
   "source": [
    "<div style=\"border:solid green 2px; padding: 20px\">\n",
    "<b>Комментарий ревьюера v2:</b>\n",
    "    \n",
    "Ольга привет! Очень здорово, что дополнительно поработала над проектом и внесла улучшения в него! \n",
    "    \n",
    "Было интересно его проверять и осталось только пожелать тебе успехов на следующих спринтах 🍀\n",
    "    \n",
    "А тут можно найти больше примеров того, как проводить А/Б тестирование - \n",
    "\n",
    "https://habr.com/ru/company/boodet_online/blog/498688/\n",
    "    \n",
    "https://vc.ru/u/1174886-koptelnya/413265-chto-takoe-a-b-testirovanie-i-kak-provesti-ego-pravilno-urok-1    \n",
    " \n",
    "     \n",
    "</div>"
   ]
  },
  {
   "cell_type": "markdown",
   "metadata": {},
   "source": [
    "# Описание проекта\n",
    "Контекст\n",
    "Вы — аналитик крупного интернет-магазина. Вместе с отделом маркетинга вы подготовили список гипотез для увеличения выручки.\n",
    "Приоритизируйте гипотезы, запустите A/B-тест и проанализируйте результаты."
   ]
  },
  {
   "cell_type": "markdown",
   "metadata": {},
   "source": [
    "<div class=\"alert alert-warning\">\n",
    "<b>Комментарий ревьюера v1:</b>\n",
    "    \n",
    "Дополнительно было бы здорово оставить более подробное описание проекта, данных и задач. Описание проекта важная часть работы так как она дает вводные для стороннего читателя (будь то коллега-ревьюер или же бизнес-заказчик). На данном этапе также полезно выполнять декомпозицию задачи.\n",
    "\n"
   ]
  },
  {
   "cell_type": "code",
   "execution_count": 1,
   "metadata": {},
   "outputs": [],
   "source": [
    "# импортируем нужные библиотеки\n",
    "import pandas as pd\n",
    "import numpy as np\n",
    "import matplotlib.pyplot as plt\n",
    "from scipy import stats\n",
    "import datetime as dt"
   ]
  },
  {
   "cell_type": "markdown",
   "metadata": {},
   "source": [
    "## Приоритизация гипотез"
   ]
  },
  {
   "cell_type": "markdown",
   "metadata": {},
   "source": [
    "Файл /datasets/hypothesis.csv\n",
    "- Hypothesis — краткое описание гипотезы;\n",
    "- Reach — охват пользователей по 10-балльной шкале;\n",
    "- Impact — влияние на пользователей по 10-балльной шкале;\n",
    "- Confidence — уверенность в гипотезе по 10-балльной шкале;\n",
    "- Efforts — затраты ресурсов на проверку гипотезы по 10-балльной шкале. Чем больше значение Efforts, тем дороже проверка гипотезы."
   ]
  },
  {
   "cell_type": "markdown",
   "metadata": {},
   "source": [
    "Посмотрим на данные и при необходимости подготовим их для расчёта нужных нам показателей"
   ]
  },
  {
   "cell_type": "code",
   "execution_count": 2,
   "metadata": {},
   "outputs": [
    {
     "name": "stdout",
     "output_type": "stream",
     "text": [
      "<class 'pandas.core.frame.DataFrame'>\n",
      "RangeIndex: 9 entries, 0 to 8\n",
      "Data columns (total 5 columns):\n",
      " #   Column      Non-Null Count  Dtype \n",
      "---  ------      --------------  ----- \n",
      " 0   Hypothesis  9 non-null      object\n",
      " 1   Reach       9 non-null      int64 \n",
      " 2   Impact      9 non-null      int64 \n",
      " 3   Confidence  9 non-null      int64 \n",
      " 4   Efforts     9 non-null      int64 \n",
      "dtypes: int64(4), object(1)\n",
      "memory usage: 488.0+ bytes\n"
     ]
    }
   ],
   "source": [
    "# зададим переменную и посмотрим на данные\n",
    "hypothesis = pd.read_csv('/datasets/hypothesis.csv', sep=',')\n",
    "\n",
    "hypothesis.info()"
   ]
  },
  {
   "cell_type": "code",
   "execution_count": 3,
   "metadata": {},
   "outputs": [],
   "source": [
    "# переименуем столбцы\n",
    "hypothesis.columns = ['hypothesis', 'reach', 'impact', 'confidence', 'efforts']"
   ]
  },
  {
   "cell_type": "code",
   "execution_count": 4,
   "metadata": {},
   "outputs": [
    {
     "data": {
      "text/html": [
       "<div>\n",
       "<style scoped>\n",
       "    .dataframe tbody tr th:only-of-type {\n",
       "        vertical-align: middle;\n",
       "    }\n",
       "\n",
       "    .dataframe tbody tr th {\n",
       "        vertical-align: top;\n",
       "    }\n",
       "\n",
       "    .dataframe thead th {\n",
       "        text-align: right;\n",
       "    }\n",
       "</style>\n",
       "<table border=\"1\" class=\"dataframe\">\n",
       "  <thead>\n",
       "    <tr style=\"text-align: right;\">\n",
       "      <th></th>\n",
       "      <th>hypothesis</th>\n",
       "      <th>reach</th>\n",
       "      <th>impact</th>\n",
       "      <th>confidence</th>\n",
       "      <th>efforts</th>\n",
       "    </tr>\n",
       "  </thead>\n",
       "  <tbody>\n",
       "    <tr>\n",
       "      <th>0</th>\n",
       "      <td>Добавить два новых канала привлечения трафика,...</td>\n",
       "      <td>3</td>\n",
       "      <td>10</td>\n",
       "      <td>8</td>\n",
       "      <td>6</td>\n",
       "    </tr>\n",
       "    <tr>\n",
       "      <th>1</th>\n",
       "      <td>Запустить собственную службу доставки, что сок...</td>\n",
       "      <td>2</td>\n",
       "      <td>5</td>\n",
       "      <td>4</td>\n",
       "      <td>10</td>\n",
       "    </tr>\n",
       "    <tr>\n",
       "      <th>2</th>\n",
       "      <td>Добавить блоки рекомендаций товаров на сайт ин...</td>\n",
       "      <td>8</td>\n",
       "      <td>3</td>\n",
       "      <td>7</td>\n",
       "      <td>3</td>\n",
       "    </tr>\n",
       "    <tr>\n",
       "      <th>3</th>\n",
       "      <td>Изменить структура категорий, что увеличит кон...</td>\n",
       "      <td>8</td>\n",
       "      <td>3</td>\n",
       "      <td>3</td>\n",
       "      <td>8</td>\n",
       "    </tr>\n",
       "    <tr>\n",
       "      <th>4</th>\n",
       "      <td>Изменить цвет фона главной страницы, чтобы уве...</td>\n",
       "      <td>3</td>\n",
       "      <td>1</td>\n",
       "      <td>1</td>\n",
       "      <td>1</td>\n",
       "    </tr>\n",
       "    <tr>\n",
       "      <th>5</th>\n",
       "      <td>Добавить страницу отзывов клиентов о магазине,...</td>\n",
       "      <td>3</td>\n",
       "      <td>2</td>\n",
       "      <td>2</td>\n",
       "      <td>3</td>\n",
       "    </tr>\n",
       "    <tr>\n",
       "      <th>6</th>\n",
       "      <td>Показать на главной странице баннеры с актуаль...</td>\n",
       "      <td>5</td>\n",
       "      <td>3</td>\n",
       "      <td>8</td>\n",
       "      <td>3</td>\n",
       "    </tr>\n",
       "    <tr>\n",
       "      <th>7</th>\n",
       "      <td>Добавить форму подписки на все основные страни...</td>\n",
       "      <td>10</td>\n",
       "      <td>7</td>\n",
       "      <td>8</td>\n",
       "      <td>5</td>\n",
       "    </tr>\n",
       "    <tr>\n",
       "      <th>8</th>\n",
       "      <td>Запустить акцию, дающую скидку на товар в день...</td>\n",
       "      <td>1</td>\n",
       "      <td>9</td>\n",
       "      <td>9</td>\n",
       "      <td>5</td>\n",
       "    </tr>\n",
       "  </tbody>\n",
       "</table>\n",
       "</div>"
      ],
      "text/plain": [
       "                                          hypothesis  reach  impact  \\\n",
       "0  Добавить два новых канала привлечения трафика,...      3      10   \n",
       "1  Запустить собственную службу доставки, что сок...      2       5   \n",
       "2  Добавить блоки рекомендаций товаров на сайт ин...      8       3   \n",
       "3  Изменить структура категорий, что увеличит кон...      8       3   \n",
       "4  Изменить цвет фона главной страницы, чтобы уве...      3       1   \n",
       "5  Добавить страницу отзывов клиентов о магазине,...      3       2   \n",
       "6  Показать на главной странице баннеры с актуаль...      5       3   \n",
       "7  Добавить форму подписки на все основные страни...     10       7   \n",
       "8  Запустить акцию, дающую скидку на товар в день...      1       9   \n",
       "\n",
       "   confidence  efforts  \n",
       "0           8        6  \n",
       "1           4       10  \n",
       "2           7        3  \n",
       "3           3        8  \n",
       "4           1        1  \n",
       "5           2        3  \n",
       "6           8        3  \n",
       "7           8        5  \n",
       "8           9        5  "
      ]
     },
     "execution_count": 4,
     "metadata": {},
     "output_type": "execute_result"
    }
   ],
   "source": [
    "# посмотрим на результат\n",
    "hypothesis"
   ]
  },
  {
   "cell_type": "markdown",
   "metadata": {},
   "source": [
    "### Примените фреймворк ICE для приоритизации гипотез. Отсортируйте их по убыванию приоритета."
   ]
  },
  {
   "cell_type": "code",
   "execution_count": 5,
   "metadata": {},
   "outputs": [
    {
     "data": {
      "text/html": [
       "<div>\n",
       "<style scoped>\n",
       "    .dataframe tbody tr th:only-of-type {\n",
       "        vertical-align: middle;\n",
       "    }\n",
       "\n",
       "    .dataframe tbody tr th {\n",
       "        vertical-align: top;\n",
       "    }\n",
       "\n",
       "    .dataframe thead th {\n",
       "        text-align: right;\n",
       "    }\n",
       "</style>\n",
       "<table border=\"1\" class=\"dataframe\">\n",
       "  <thead>\n",
       "    <tr style=\"text-align: right;\">\n",
       "      <th></th>\n",
       "      <th>hypothesis</th>\n",
       "      <th>reach</th>\n",
       "      <th>impact</th>\n",
       "      <th>confidence</th>\n",
       "      <th>efforts</th>\n",
       "      <th>ice</th>\n",
       "    </tr>\n",
       "  </thead>\n",
       "  <tbody>\n",
       "    <tr>\n",
       "      <th>8</th>\n",
       "      <td>Запустить акцию, дающую скидку на товар в день...</td>\n",
       "      <td>1</td>\n",
       "      <td>9</td>\n",
       "      <td>9</td>\n",
       "      <td>5</td>\n",
       "      <td>16</td>\n",
       "    </tr>\n",
       "    <tr>\n",
       "      <th>0</th>\n",
       "      <td>Добавить два новых канала привлечения трафика,...</td>\n",
       "      <td>3</td>\n",
       "      <td>10</td>\n",
       "      <td>8</td>\n",
       "      <td>6</td>\n",
       "      <td>13</td>\n",
       "    </tr>\n",
       "    <tr>\n",
       "      <th>7</th>\n",
       "      <td>Добавить форму подписки на все основные страни...</td>\n",
       "      <td>10</td>\n",
       "      <td>7</td>\n",
       "      <td>8</td>\n",
       "      <td>5</td>\n",
       "      <td>11</td>\n",
       "    </tr>\n",
       "    <tr>\n",
       "      <th>6</th>\n",
       "      <td>Показать на главной странице баннеры с актуаль...</td>\n",
       "      <td>5</td>\n",
       "      <td>3</td>\n",
       "      <td>8</td>\n",
       "      <td>3</td>\n",
       "      <td>8</td>\n",
       "    </tr>\n",
       "    <tr>\n",
       "      <th>2</th>\n",
       "      <td>Добавить блоки рекомендаций товаров на сайт ин...</td>\n",
       "      <td>8</td>\n",
       "      <td>3</td>\n",
       "      <td>7</td>\n",
       "      <td>3</td>\n",
       "      <td>7</td>\n",
       "    </tr>\n",
       "    <tr>\n",
       "      <th>1</th>\n",
       "      <td>Запустить собственную службу доставки, что сок...</td>\n",
       "      <td>2</td>\n",
       "      <td>5</td>\n",
       "      <td>4</td>\n",
       "      <td>10</td>\n",
       "      <td>2</td>\n",
       "    </tr>\n",
       "    <tr>\n",
       "      <th>3</th>\n",
       "      <td>Изменить структура категорий, что увеличит кон...</td>\n",
       "      <td>8</td>\n",
       "      <td>3</td>\n",
       "      <td>3</td>\n",
       "      <td>8</td>\n",
       "      <td>1</td>\n",
       "    </tr>\n",
       "    <tr>\n",
       "      <th>4</th>\n",
       "      <td>Изменить цвет фона главной страницы, чтобы уве...</td>\n",
       "      <td>3</td>\n",
       "      <td>1</td>\n",
       "      <td>1</td>\n",
       "      <td>1</td>\n",
       "      <td>1</td>\n",
       "    </tr>\n",
       "    <tr>\n",
       "      <th>5</th>\n",
       "      <td>Добавить страницу отзывов клиентов о магазине,...</td>\n",
       "      <td>3</td>\n",
       "      <td>2</td>\n",
       "      <td>2</td>\n",
       "      <td>3</td>\n",
       "      <td>1</td>\n",
       "    </tr>\n",
       "  </tbody>\n",
       "</table>\n",
       "</div>"
      ],
      "text/plain": [
       "                                          hypothesis  reach  impact  \\\n",
       "8  Запустить акцию, дающую скидку на товар в день...      1       9   \n",
       "0  Добавить два новых канала привлечения трафика,...      3      10   \n",
       "7  Добавить форму подписки на все основные страни...     10       7   \n",
       "6  Показать на главной странице баннеры с актуаль...      5       3   \n",
       "2  Добавить блоки рекомендаций товаров на сайт ин...      8       3   \n",
       "1  Запустить собственную службу доставки, что сок...      2       5   \n",
       "3  Изменить структура категорий, что увеличит кон...      8       3   \n",
       "4  Изменить цвет фона главной страницы, чтобы уве...      3       1   \n",
       "5  Добавить страницу отзывов клиентов о магазине,...      3       2   \n",
       "\n",
       "   confidence  efforts  ice  \n",
       "8           9        5   16  \n",
       "0           8        6   13  \n",
       "7           8        5   11  \n",
       "6           8        3    8  \n",
       "2           7        3    7  \n",
       "1           4       10    2  \n",
       "3           3        8    1  \n",
       "4           1        1    1  \n",
       "5           2        3    1  "
      ]
     },
     "execution_count": 5,
     "metadata": {},
     "output_type": "execute_result"
    }
   ],
   "source": [
    "# посчитаем в отдельном столбце показатель ICE и посмотрим на результат\n",
    "hypothesis['ice'] = (hypothesis['impact'] * hypothesis['confidence']) / hypothesis['efforts']\n",
    "hypothesis['ice'] = hypothesis['ice'].astype('int')\n",
    "\n",
    "hypothesis.sort_values(by='ice', ascending=False)"
   ]
  },
  {
   "cell_type": "markdown",
   "metadata": {},
   "source": [
    "### Примените фреймворк RICE для приоритизации гипотез. Отсортируйте их по убыванию приоритета."
   ]
  },
  {
   "cell_type": "code",
   "execution_count": 6,
   "metadata": {},
   "outputs": [
    {
     "data": {
      "text/html": [
       "<div>\n",
       "<style scoped>\n",
       "    .dataframe tbody tr th:only-of-type {\n",
       "        vertical-align: middle;\n",
       "    }\n",
       "\n",
       "    .dataframe tbody tr th {\n",
       "        vertical-align: top;\n",
       "    }\n",
       "\n",
       "    .dataframe thead th {\n",
       "        text-align: right;\n",
       "    }\n",
       "</style>\n",
       "<table border=\"1\" class=\"dataframe\">\n",
       "  <thead>\n",
       "    <tr style=\"text-align: right;\">\n",
       "      <th></th>\n",
       "      <th>hypothesis</th>\n",
       "      <th>reach</th>\n",
       "      <th>impact</th>\n",
       "      <th>confidence</th>\n",
       "      <th>efforts</th>\n",
       "      <th>ice</th>\n",
       "      <th>rice</th>\n",
       "    </tr>\n",
       "  </thead>\n",
       "  <tbody>\n",
       "    <tr>\n",
       "      <th>7</th>\n",
       "      <td>Добавить форму подписки на все основные страни...</td>\n",
       "      <td>10</td>\n",
       "      <td>7</td>\n",
       "      <td>8</td>\n",
       "      <td>5</td>\n",
       "      <td>11</td>\n",
       "      <td>112</td>\n",
       "    </tr>\n",
       "    <tr>\n",
       "      <th>2</th>\n",
       "      <td>Добавить блоки рекомендаций товаров на сайт ин...</td>\n",
       "      <td>8</td>\n",
       "      <td>3</td>\n",
       "      <td>7</td>\n",
       "      <td>3</td>\n",
       "      <td>7</td>\n",
       "      <td>56</td>\n",
       "    </tr>\n",
       "    <tr>\n",
       "      <th>0</th>\n",
       "      <td>Добавить два новых канала привлечения трафика,...</td>\n",
       "      <td>3</td>\n",
       "      <td>10</td>\n",
       "      <td>8</td>\n",
       "      <td>6</td>\n",
       "      <td>13</td>\n",
       "      <td>40</td>\n",
       "    </tr>\n",
       "    <tr>\n",
       "      <th>6</th>\n",
       "      <td>Показать на главной странице баннеры с актуаль...</td>\n",
       "      <td>5</td>\n",
       "      <td>3</td>\n",
       "      <td>8</td>\n",
       "      <td>3</td>\n",
       "      <td>8</td>\n",
       "      <td>40</td>\n",
       "    </tr>\n",
       "    <tr>\n",
       "      <th>8</th>\n",
       "      <td>Запустить акцию, дающую скидку на товар в день...</td>\n",
       "      <td>1</td>\n",
       "      <td>9</td>\n",
       "      <td>9</td>\n",
       "      <td>5</td>\n",
       "      <td>16</td>\n",
       "      <td>16</td>\n",
       "    </tr>\n",
       "    <tr>\n",
       "      <th>3</th>\n",
       "      <td>Изменить структура категорий, что увеличит кон...</td>\n",
       "      <td>8</td>\n",
       "      <td>3</td>\n",
       "      <td>3</td>\n",
       "      <td>8</td>\n",
       "      <td>1</td>\n",
       "      <td>9</td>\n",
       "    </tr>\n",
       "    <tr>\n",
       "      <th>1</th>\n",
       "      <td>Запустить собственную службу доставки, что сок...</td>\n",
       "      <td>2</td>\n",
       "      <td>5</td>\n",
       "      <td>4</td>\n",
       "      <td>10</td>\n",
       "      <td>2</td>\n",
       "      <td>4</td>\n",
       "    </tr>\n",
       "    <tr>\n",
       "      <th>5</th>\n",
       "      <td>Добавить страницу отзывов клиентов о магазине,...</td>\n",
       "      <td>3</td>\n",
       "      <td>2</td>\n",
       "      <td>2</td>\n",
       "      <td>3</td>\n",
       "      <td>1</td>\n",
       "      <td>4</td>\n",
       "    </tr>\n",
       "    <tr>\n",
       "      <th>4</th>\n",
       "      <td>Изменить цвет фона главной страницы, чтобы уве...</td>\n",
       "      <td>3</td>\n",
       "      <td>1</td>\n",
       "      <td>1</td>\n",
       "      <td>1</td>\n",
       "      <td>1</td>\n",
       "      <td>3</td>\n",
       "    </tr>\n",
       "  </tbody>\n",
       "</table>\n",
       "</div>"
      ],
      "text/plain": [
       "                                          hypothesis  reach  impact  \\\n",
       "7  Добавить форму подписки на все основные страни...     10       7   \n",
       "2  Добавить блоки рекомендаций товаров на сайт ин...      8       3   \n",
       "0  Добавить два новых канала привлечения трафика,...      3      10   \n",
       "6  Показать на главной странице баннеры с актуаль...      5       3   \n",
       "8  Запустить акцию, дающую скидку на товар в день...      1       9   \n",
       "3  Изменить структура категорий, что увеличит кон...      8       3   \n",
       "1  Запустить собственную службу доставки, что сок...      2       5   \n",
       "5  Добавить страницу отзывов клиентов о магазине,...      3       2   \n",
       "4  Изменить цвет фона главной страницы, чтобы уве...      3       1   \n",
       "\n",
       "   confidence  efforts  ice  rice  \n",
       "7           8        5   11   112  \n",
       "2           7        3    7    56  \n",
       "0           8        6   13    40  \n",
       "6           8        3    8    40  \n",
       "8           9        5   16    16  \n",
       "3           3        8    1     9  \n",
       "1           4       10    2     4  \n",
       "5           2        3    1     4  \n",
       "4           1        1    1     3  "
      ]
     },
     "execution_count": 6,
     "metadata": {},
     "output_type": "execute_result"
    }
   ],
   "source": [
    "# посчитаем в отдельном столбце показатель RICE и посмотрим на результат\n",
    "hypothesis['rice'] = (hypothesis['reach'] * hypothesis['impact'] * hypothesis['confidence']) / hypothesis['efforts']\n",
    "hypothesis['rice'] = hypothesis['rice'].astype('int')\n",
    "\n",
    "hypothesis.sort_values(by='rice', ascending=False)"
   ]
  },
  {
   "cell_type": "markdown",
   "metadata": {},
   "source": [
    "<div class=\"alert alert-block alert-warning\">\n",
    "<b>Комментарий ревьюера v1:</b>\n",
    "    \n",
    "Можно добавить следующий код, чтобы отобразить все данные в таблицах: \n",
    "    \n",
    "    pd.options.display.max_colwidth = 210\n"
   ]
  },
  {
   "cell_type": "markdown",
   "metadata": {},
   "source": [
    "### Укажите, как изменилась приоритизация гипотез при применении RICE вместо ICE. Объясните, почему так произошло."
   ]
  },
  {
   "cell_type": "markdown",
   "metadata": {},
   "source": [
    "Топ - гипотез по ICE: 8, 0, 7.\n",
    "\n",
    "Топ - гипотез по RICE: 7, 2, 0.\n",
    "\n",
    "При использовании ICE не учитывается одна из важной составляющей оценки гипотез - охват изменений (Reach), именно это и определяет разницу в итоговых приоритетах гипотез. Гипотеза 7 заняла первое место, поскольку затронет всех пользователей сайта.\n",
    "\n",
    "Таким образом, для нас наиболее приоритетными гипотезами будут 7, 2, 0 (по RICE)."
   ]
  },
  {
   "cell_type": "markdown",
   "metadata": {},
   "source": [
    "<div class=\"alert alert-block alert-success\">\n",
    "<b>Комментарий ревьюера v1:</b>\n",
    "    \n",
    "Отлично! Все выполнено правильно. Фреймворки `ICE` и `RICE` были рассчитаны верно. И по результатам теперь понятно, как фактор охвата (Reach) влияет на общую ценность гипотезы.\n",
    "\n",
    "Дополнительно было бы совсем здорово создать точечную диаграмму, чтобы сопоставить все метрики для каждой гипотезы и сравнить их.\n",
    "    \n",
    "Для стороннего читателя (например бизнес-заказчик) также было бы интересно добавить краткое описание фреймворков и как они работают.\n",
    "    \n",
    "Интересные примеры использования данных методов можно почитать тут:\n",
    "    \n",
    "- https://habr.com/ru/company/hygger/blog/424323/ \n",
    "- https://vc.ru/tribuna/260086-kak-delat-to-chto-prineset-bolshe-polzy-biznesu-i-ne-kosyachit-so-srokami    "
   ]
  },
  {
   "cell_type": "markdown",
   "metadata": {},
   "source": [
    "## Анализ A/B-теста"
   ]
  },
  {
   "cell_type": "markdown",
   "metadata": {},
   "source": [
    "Файл /datasets/orders.csv\n",
    "\n",
    "- transactionId — идентификатор заказа;\n",
    "- visitorId — идентификатор пользователя, совершившего заказ;\n",
    "- date — дата, когда был совершён заказ;\n",
    "- revenue — выручка заказа;\n",
    "- group — группа A/B-теста, в которую попал заказ.\n",
    "\n",
    "Файл /datasets/visitors.csv\n",
    "\n",
    "- date — дата;\n",
    "- group — группа A/B-теста;\n",
    "- visitors — количество пользователей в указанную дату в указанной группе A/B-теста"
   ]
  },
  {
   "cell_type": "markdown",
   "metadata": {},
   "source": [
    "Посмотрим на данные и при необходимости подготовим их для использования в дальнейшем анализе"
   ]
  },
  {
   "cell_type": "code",
   "execution_count": 7,
   "metadata": {},
   "outputs": [
    {
     "name": "stdout",
     "output_type": "stream",
     "text": [
      "<class 'pandas.core.frame.DataFrame'>\n",
      "RangeIndex: 1197 entries, 0 to 1196\n",
      "Data columns (total 5 columns):\n",
      " #   Column         Non-Null Count  Dtype \n",
      "---  ------         --------------  ----- \n",
      " 0   transactionId  1197 non-null   int64 \n",
      " 1   visitorId      1197 non-null   int64 \n",
      " 2   date           1197 non-null   object\n",
      " 3   revenue        1197 non-null   int64 \n",
      " 4   group          1197 non-null   object\n",
      "dtypes: int64(3), object(2)\n",
      "memory usage: 46.9+ KB\n"
     ]
    },
    {
     "data": {
      "text/html": [
       "<div>\n",
       "<style scoped>\n",
       "    .dataframe tbody tr th:only-of-type {\n",
       "        vertical-align: middle;\n",
       "    }\n",
       "\n",
       "    .dataframe tbody tr th {\n",
       "        vertical-align: top;\n",
       "    }\n",
       "\n",
       "    .dataframe thead th {\n",
       "        text-align: right;\n",
       "    }\n",
       "</style>\n",
       "<table border=\"1\" class=\"dataframe\">\n",
       "  <thead>\n",
       "    <tr style=\"text-align: right;\">\n",
       "      <th></th>\n",
       "      <th>transactionId</th>\n",
       "      <th>visitorId</th>\n",
       "      <th>date</th>\n",
       "      <th>revenue</th>\n",
       "      <th>group</th>\n",
       "    </tr>\n",
       "  </thead>\n",
       "  <tbody>\n",
       "    <tr>\n",
       "      <th>0</th>\n",
       "      <td>3667963787</td>\n",
       "      <td>3312258926</td>\n",
       "      <td>2019-08-15</td>\n",
       "      <td>1650</td>\n",
       "      <td>B</td>\n",
       "    </tr>\n",
       "    <tr>\n",
       "      <th>1</th>\n",
       "      <td>2804400009</td>\n",
       "      <td>3642806036</td>\n",
       "      <td>2019-08-15</td>\n",
       "      <td>730</td>\n",
       "      <td>B</td>\n",
       "    </tr>\n",
       "    <tr>\n",
       "      <th>2</th>\n",
       "      <td>2961555356</td>\n",
       "      <td>4069496402</td>\n",
       "      <td>2019-08-15</td>\n",
       "      <td>400</td>\n",
       "      <td>A</td>\n",
       "    </tr>\n",
       "    <tr>\n",
       "      <th>3</th>\n",
       "      <td>3797467345</td>\n",
       "      <td>1196621759</td>\n",
       "      <td>2019-08-15</td>\n",
       "      <td>9759</td>\n",
       "      <td>B</td>\n",
       "    </tr>\n",
       "    <tr>\n",
       "      <th>4</th>\n",
       "      <td>2282983706</td>\n",
       "      <td>2322279887</td>\n",
       "      <td>2019-08-15</td>\n",
       "      <td>2308</td>\n",
       "      <td>B</td>\n",
       "    </tr>\n",
       "  </tbody>\n",
       "</table>\n",
       "</div>"
      ],
      "text/plain": [
       "   transactionId   visitorId        date  revenue group\n",
       "0     3667963787  3312258926  2019-08-15     1650     B\n",
       "1     2804400009  3642806036  2019-08-15      730     B\n",
       "2     2961555356  4069496402  2019-08-15      400     A\n",
       "3     3797467345  1196621759  2019-08-15     9759     B\n",
       "4     2282983706  2322279887  2019-08-15     2308     B"
      ]
     },
     "execution_count": 7,
     "metadata": {},
     "output_type": "execute_result"
    }
   ],
   "source": [
    "# зададим переменную и посмотрим на общую информацию о датасете\n",
    "orders = pd.read_csv('/datasets/orders.csv', sep=',')\n",
    "orders.info()\n",
    "orders.head()"
   ]
  },
  {
   "cell_type": "code",
   "execution_count": 8,
   "metadata": {},
   "outputs": [],
   "source": [
    "# исправим тип данных в date\n",
    "orders['date'] = pd.to_datetime(orders['date'], format='%Y-%m-%d')"
   ]
  },
  {
   "cell_type": "code",
   "execution_count": 9,
   "metadata": {},
   "outputs": [],
   "source": [
    "# переименуем столбцы\n",
    "orders.columns = ['transaction_id', 'visitor_id', 'date', 'revenue', 'group']"
   ]
  },
  {
   "cell_type": "code",
   "execution_count": 10,
   "metadata": {},
   "outputs": [
    {
     "name": "stdout",
     "output_type": "stream",
     "text": [
      "<class 'pandas.core.frame.DataFrame'>\n",
      "RangeIndex: 1197 entries, 0 to 1196\n",
      "Data columns (total 5 columns):\n",
      " #   Column          Non-Null Count  Dtype         \n",
      "---  ------          --------------  -----         \n",
      " 0   transaction_id  1197 non-null   int64         \n",
      " 1   visitor_id      1197 non-null   int64         \n",
      " 2   date            1197 non-null   datetime64[ns]\n",
      " 3   revenue         1197 non-null   int64         \n",
      " 4   group           1197 non-null   object        \n",
      "dtypes: datetime64[ns](1), int64(3), object(1)\n",
      "memory usage: 46.9+ KB\n"
     ]
    },
    {
     "data": {
      "text/html": [
       "<div>\n",
       "<style scoped>\n",
       "    .dataframe tbody tr th:only-of-type {\n",
       "        vertical-align: middle;\n",
       "    }\n",
       "\n",
       "    .dataframe tbody tr th {\n",
       "        vertical-align: top;\n",
       "    }\n",
       "\n",
       "    .dataframe thead th {\n",
       "        text-align: right;\n",
       "    }\n",
       "</style>\n",
       "<table border=\"1\" class=\"dataframe\">\n",
       "  <thead>\n",
       "    <tr style=\"text-align: right;\">\n",
       "      <th></th>\n",
       "      <th>transaction_id</th>\n",
       "      <th>visitor_id</th>\n",
       "      <th>date</th>\n",
       "      <th>revenue</th>\n",
       "      <th>group</th>\n",
       "    </tr>\n",
       "  </thead>\n",
       "  <tbody>\n",
       "    <tr>\n",
       "      <th>0</th>\n",
       "      <td>3667963787</td>\n",
       "      <td>3312258926</td>\n",
       "      <td>2019-08-15</td>\n",
       "      <td>1650</td>\n",
       "      <td>B</td>\n",
       "    </tr>\n",
       "    <tr>\n",
       "      <th>1</th>\n",
       "      <td>2804400009</td>\n",
       "      <td>3642806036</td>\n",
       "      <td>2019-08-15</td>\n",
       "      <td>730</td>\n",
       "      <td>B</td>\n",
       "    </tr>\n",
       "    <tr>\n",
       "      <th>2</th>\n",
       "      <td>2961555356</td>\n",
       "      <td>4069496402</td>\n",
       "      <td>2019-08-15</td>\n",
       "      <td>400</td>\n",
       "      <td>A</td>\n",
       "    </tr>\n",
       "    <tr>\n",
       "      <th>3</th>\n",
       "      <td>3797467345</td>\n",
       "      <td>1196621759</td>\n",
       "      <td>2019-08-15</td>\n",
       "      <td>9759</td>\n",
       "      <td>B</td>\n",
       "    </tr>\n",
       "    <tr>\n",
       "      <th>4</th>\n",
       "      <td>2282983706</td>\n",
       "      <td>2322279887</td>\n",
       "      <td>2019-08-15</td>\n",
       "      <td>2308</td>\n",
       "      <td>B</td>\n",
       "    </tr>\n",
       "  </tbody>\n",
       "</table>\n",
       "</div>"
      ],
      "text/plain": [
       "   transaction_id  visitor_id       date  revenue group\n",
       "0      3667963787  3312258926 2019-08-15     1650     B\n",
       "1      2804400009  3642806036 2019-08-15      730     B\n",
       "2      2961555356  4069496402 2019-08-15      400     A\n",
       "3      3797467345  1196621759 2019-08-15     9759     B\n",
       "4      2282983706  2322279887 2019-08-15     2308     B"
      ]
     },
     "execution_count": 10,
     "metadata": {},
     "output_type": "execute_result"
    }
   ],
   "source": [
    "# посмотрим на результат\n",
    "orders.info()\n",
    "orders.head()"
   ]
  },
  {
   "cell_type": "markdown",
   "metadata": {},
   "source": [
    "Теперь тут всё хорошо. Переходим к следующему датасету."
   ]
  },
  {
   "cell_type": "code",
   "execution_count": 11,
   "metadata": {},
   "outputs": [
    {
     "name": "stdout",
     "output_type": "stream",
     "text": [
      "<class 'pandas.core.frame.DataFrame'>\n",
      "RangeIndex: 62 entries, 0 to 61\n",
      "Data columns (total 3 columns):\n",
      " #   Column    Non-Null Count  Dtype \n",
      "---  ------    --------------  ----- \n",
      " 0   date      62 non-null     object\n",
      " 1   group     62 non-null     object\n",
      " 2   visitors  62 non-null     int64 \n",
      "dtypes: int64(1), object(2)\n",
      "memory usage: 1.6+ KB\n"
     ]
    },
    {
     "data": {
      "text/html": [
       "<div>\n",
       "<style scoped>\n",
       "    .dataframe tbody tr th:only-of-type {\n",
       "        vertical-align: middle;\n",
       "    }\n",
       "\n",
       "    .dataframe tbody tr th {\n",
       "        vertical-align: top;\n",
       "    }\n",
       "\n",
       "    .dataframe thead th {\n",
       "        text-align: right;\n",
       "    }\n",
       "</style>\n",
       "<table border=\"1\" class=\"dataframe\">\n",
       "  <thead>\n",
       "    <tr style=\"text-align: right;\">\n",
       "      <th></th>\n",
       "      <th>date</th>\n",
       "      <th>group</th>\n",
       "      <th>visitors</th>\n",
       "    </tr>\n",
       "  </thead>\n",
       "  <tbody>\n",
       "    <tr>\n",
       "      <th>0</th>\n",
       "      <td>2019-08-01</td>\n",
       "      <td>A</td>\n",
       "      <td>719</td>\n",
       "    </tr>\n",
       "    <tr>\n",
       "      <th>1</th>\n",
       "      <td>2019-08-02</td>\n",
       "      <td>A</td>\n",
       "      <td>619</td>\n",
       "    </tr>\n",
       "    <tr>\n",
       "      <th>2</th>\n",
       "      <td>2019-08-03</td>\n",
       "      <td>A</td>\n",
       "      <td>507</td>\n",
       "    </tr>\n",
       "    <tr>\n",
       "      <th>3</th>\n",
       "      <td>2019-08-04</td>\n",
       "      <td>A</td>\n",
       "      <td>717</td>\n",
       "    </tr>\n",
       "    <tr>\n",
       "      <th>4</th>\n",
       "      <td>2019-08-05</td>\n",
       "      <td>A</td>\n",
       "      <td>756</td>\n",
       "    </tr>\n",
       "  </tbody>\n",
       "</table>\n",
       "</div>"
      ],
      "text/plain": [
       "         date group  visitors\n",
       "0  2019-08-01     A       719\n",
       "1  2019-08-02     A       619\n",
       "2  2019-08-03     A       507\n",
       "3  2019-08-04     A       717\n",
       "4  2019-08-05     A       756"
      ]
     },
     "execution_count": 11,
     "metadata": {},
     "output_type": "execute_result"
    }
   ],
   "source": [
    "# зададим переменную и посмотрим на общую информацию о датасете\n",
    "visitors = pd.read_csv('/datasets/visitors.csv', sep=',')\n",
    "visitors.info()\n",
    "visitors.head()"
   ]
  },
  {
   "cell_type": "code",
   "execution_count": 12,
   "metadata": {},
   "outputs": [],
   "source": [
    "# исправим тип данных в date\n",
    "visitors['date'] = pd.to_datetime(visitors['date'], format='%Y-%m-%d')"
   ]
  },
  {
   "cell_type": "code",
   "execution_count": 13,
   "metadata": {},
   "outputs": [
    {
     "name": "stdout",
     "output_type": "stream",
     "text": [
      "<class 'pandas.core.frame.DataFrame'>\n",
      "RangeIndex: 62 entries, 0 to 61\n",
      "Data columns (total 3 columns):\n",
      " #   Column    Non-Null Count  Dtype         \n",
      "---  ------    --------------  -----         \n",
      " 0   date      62 non-null     datetime64[ns]\n",
      " 1   group     62 non-null     object        \n",
      " 2   visitors  62 non-null     int64         \n",
      "dtypes: datetime64[ns](1), int64(1), object(1)\n",
      "memory usage: 1.6+ KB\n"
     ]
    }
   ],
   "source": [
    "# посмотрим на результат\n",
    "visitors.info()"
   ]
  },
  {
   "cell_type": "markdown",
   "metadata": {},
   "source": [
    "Теперь и здесь всё в порядке, можно переходить дальше!"
   ]
  },
  {
   "cell_type": "code",
   "execution_count": 14,
   "metadata": {},
   "outputs": [
    {
     "name": "stdout",
     "output_type": "stream",
     "text": [
      "Минимальная дата в датасете orders: 2019-08-01 00:00:00\n",
      "Минимальная дата в датасете visitors: 2019-08-01 00:00:00\n",
      "Максимальная дата в датасете orders: 2019-08-31 00:00:00\n",
      "Максимальная дата в датасете visitors: 2019-08-31 00:00:00\n"
     ]
    }
   ],
   "source": [
    "# определим минимальные и максимальные даты в каждом из датасетов\n",
    "print(f\"Минимальная дата в датасете orders: {orders['date'].min()}\")\n",
    "print(f\"Минимальная дата в датасете visitors: {visitors['date'].min()}\")\n",
    "print(f\"Максимальная дата в датасете orders: {orders['date'].max()}\")\n",
    "print(f\"Максимальная дата в датасете visitors: {visitors['date'].max()}\")"
   ]
  },
  {
   "cell_type": "markdown",
   "metadata": {},
   "source": [
    "Даты совпадают - отлично! Запомним и позже используем в графиках."
   ]
  },
  {
   "cell_type": "markdown",
   "metadata": {},
   "source": [
    "<div class=\"alert alert-block alert-danger\">\n",
    "<b>Комментарий ревьюера v1:</b>\n",
    "\n",
    "Дополнительно было бы интересно проверить доступные данные:\n",
    "- Проверить не попадают ли у нас пользователи в обе группы и принять решение о том, что с ними делать.\n",
    "- Количество уникальных групп и распределение по ним."
   ]
  },
  {
   "cell_type": "markdown",
   "metadata": {},
   "source": [
    "Оценим размер групп и распределение по ним"
   ]
  },
  {
   "cell_type": "code",
   "execution_count": 15,
   "metadata": {},
   "outputs": [
    {
     "name": "stdout",
     "output_type": "stream",
     "text": [
      "Размер группы А : 503\n",
      "Размер группы B : 586\n",
      "Разница между группами : 16%\n",
      "Уникальные группы: ['B' 'A']\n"
     ]
    }
   ],
   "source": [
    "# сбор уникальных пользователей по группам\n",
    "group_a = orders[orders['group'] == 'A']['visitor_id'].unique() \n",
    "group_b = orders[orders['group'] == 'B']['visitor_id'].unique()\n",
    "\n",
    "print(f'Размер группы А : {len(group_a)}')\n",
    "print(f'Размер группы B : {len(group_b)}')\n",
    "print(f'Разница между группами : {int((len(group_b) / len(group_a) - 1)*100)}%')\n",
    "print(f'Уникальные группы: {orders[\"group\"].unique()}')"
   ]
  },
  {
   "cell_type": "markdown",
   "metadata": {},
   "source": [
    "- Размеры групп разные - группа B больше на 83 пользователя (16%) - это много!\n",
    "- Неоднородность распределения может повлиять на итоговую конверсию - возможно, пользователи группы B делали больше заказов\n",
    "- Работаем с тем, что имеем, так как тест уже проведен"
   ]
  },
  {
   "cell_type": "markdown",
   "metadata": {},
   "source": [
    "Проверим, не попадают ли у нас пользователи в обе группы"
   ]
  },
  {
   "cell_type": "code",
   "execution_count": 16,
   "metadata": {},
   "outputs": [
    {
     "name": "stdout",
     "output_type": "stream",
     "text": [
      "Одновременно в обе группы попало 58 пользователей\n"
     ]
    }
   ],
   "source": [
    "# intersect1d находит пересечение двух массивов\n",
    "# нас же интересует длина возвращаемого массива\n",
    "suspicious_visitors = np.intersect1d(orders.query('group == \"A\"')['visitor_id'].unique(), \n",
    "                                orders.query('group == \"B\"')['visitor_id'].unique())\n",
    "\n",
    "print(f'Одновременно в обе группы попало {len(suspicious_visitors)} пользователей')"
   ]
  },
  {
   "cell_type": "markdown",
   "metadata": {},
   "source": [
    "58 пользователей, чьи заказы входят в обе группы, будут в дальнейшем искажать результаты анализа тестирования - уберём их!"
   ]
  },
  {
   "cell_type": "code",
   "execution_count": 17,
   "metadata": {},
   "outputs": [],
   "source": [
    "orders = orders[~orders['visitor_id'].isin(suspicious_visitors)]"
   ]
  },
  {
   "cell_type": "code",
   "execution_count": 18,
   "metadata": {},
   "outputs": [],
   "source": [
    "# посчитаем количество уникальных пользователей без \"подозрительных пользователей\"\n",
    "# сбор уникальных пользователей по группам\n",
    "a_without_suspicious_visitors = orders[orders['group'] == 'A']['visitor_id'].unique() \n",
    "b_without_suspicious_visitors = orders[orders['group'] == 'B']['visitor_id'].unique()"
   ]
  },
  {
   "cell_type": "code",
   "execution_count": 19,
   "metadata": {},
   "outputs": [
    {
     "name": "stdout",
     "output_type": "stream",
     "text": [
      "Итоговое количество уникальных пользователей : 1031 \n"
     ]
    }
   ],
   "source": [
    "print(f'Итоговое количество уникальных пользователей : {len(suspicious_visitors) + len(a_without_suspicious_visitors) + len(b_without_suspicious_visitors)} ')"
   ]
  },
  {
   "cell_type": "markdown",
   "metadata": {},
   "source": [
    "<div class=\"alert alert-info\"> <b>Комментарий студента:</b> Добавила дополнительную проверку на принадлежность пользователей к обеим группам. Проанализирован состав групп, дополнены выводы. Ниже также исправлены персентили - на новых данных значения несколько иные, но на общие выводы и на результат это никак не повлияло.</div>"
   ]
  },
  {
   "cell_type": "markdown",
   "metadata": {},
   "source": [
    "<div class=\"alert alert-block alert-success\">\n",
    "<b>Комментарий ревьюера v2:</b>\n",
    "    \n",
    "Все твои комментарии верные. В целом ситуация с пользователями в двух группах неприятная и на реальном проекте стоит узнать у того кто собирал данные, что пошло не так. В данном случае пользователей не так много поэтому их также можно оставить как есть, плюс мы не можем их полностью убрать из visitors."
   ]
  },
  {
   "cell_type": "markdown",
   "metadata": {},
   "source": [
    "### Постройте график кумулятивной выручки по группам. Сделайте выводы и предположения."
   ]
  },
  {
   "cell_type": "code",
   "execution_count": 20,
   "metadata": {},
   "outputs": [
    {
     "data": {
      "text/html": [
       "<div>\n",
       "<style scoped>\n",
       "    .dataframe tbody tr th:only-of-type {\n",
       "        vertical-align: middle;\n",
       "    }\n",
       "\n",
       "    .dataframe tbody tr th {\n",
       "        vertical-align: top;\n",
       "    }\n",
       "\n",
       "    .dataframe thead th {\n",
       "        text-align: right;\n",
       "    }\n",
       "</style>\n",
       "<table border=\"1\" class=\"dataframe\">\n",
       "  <thead>\n",
       "    <tr style=\"text-align: right;\">\n",
       "      <th></th>\n",
       "      <th>date</th>\n",
       "      <th>group</th>\n",
       "    </tr>\n",
       "  </thead>\n",
       "  <tbody>\n",
       "    <tr>\n",
       "      <th>0</th>\n",
       "      <td>2019-08-15</td>\n",
       "      <td>B</td>\n",
       "    </tr>\n",
       "    <tr>\n",
       "      <th>7</th>\n",
       "      <td>2019-08-15</td>\n",
       "      <td>A</td>\n",
       "    </tr>\n",
       "    <tr>\n",
       "      <th>45</th>\n",
       "      <td>2019-08-16</td>\n",
       "      <td>A</td>\n",
       "    </tr>\n",
       "    <tr>\n",
       "      <th>47</th>\n",
       "      <td>2019-08-16</td>\n",
       "      <td>B</td>\n",
       "    </tr>\n",
       "    <tr>\n",
       "      <th>55</th>\n",
       "      <td>2019-08-01</td>\n",
       "      <td>A</td>\n",
       "    </tr>\n",
       "  </tbody>\n",
       "</table>\n",
       "</div>"
      ],
      "text/plain": [
       "         date group\n",
       "0  2019-08-15     B\n",
       "7  2019-08-15     A\n",
       "45 2019-08-16     A\n",
       "47 2019-08-16     B\n",
       "55 2019-08-01     A"
      ]
     },
     "execution_count": 20,
     "metadata": {},
     "output_type": "execute_result"
    }
   ],
   "source": [
    "# создаем массив уникальных пар значений дат и групп теста\n",
    "datesGroups = orders[['date','group']].drop_duplicates()\n",
    "datesGroups.head()"
   ]
  },
  {
   "cell_type": "code",
   "execution_count": 21,
   "metadata": {},
   "outputs": [
    {
     "name": "stdout",
     "output_type": "stream",
     "text": [
      "        date group  orders  buyers  revenue  visitors\n",
      "0 2019-08-01     A      23      19   142779       719\n",
      "1 2019-08-01     B      17      17    59758       713\n",
      "2 2019-08-02     A      42      36   234381      1338\n",
      "3 2019-08-02     B      40      39   221801      1294\n",
      "4 2019-08-03     A      66      60   346854      1845\n"
     ]
    }
   ],
   "source": [
    "# собираем куммулятивные данные в разные переменные\n",
    "ordersAggregated = datesGroups.apply(lambda x: orders[np.logical_and(orders['date'] <= x['date'], \n",
    "                                                                     orders['group'] == x['group'])]\n",
    "                              .agg({'date' : 'max', \n",
    "                                    'group' : 'max', \n",
    "                                    'transaction_id' : 'nunique', \n",
    "                                    'visitor_id' : 'nunique', \n",
    "                                    'revenue' : 'sum'\n",
    "                                    }), axis=1).sort_values(by=['date','group'])\n",
    "\n",
    "visitorsAggregated = datesGroups.apply(lambda x: visitors[np.logical_and(visitors['date'] <= x['date'],\n",
    "                                                                         visitors['group'] == x['group'])]\n",
    "                                .agg({'date': 'max',\n",
    "                                      'group': 'max',\n",
    "                                      'visitors': 'sum'\n",
    "                                     }), axis=1).sort_values(by=['date', 'group'])\n",
    "\n",
    "# объединяем кумулятивные данные в одной таблице и присваиваем ее столбцам понятные названия\n",
    "cumulativeData = ordersAggregated.merge(visitorsAggregated, left_on=['date', 'group'], right_on=['date', 'group'])\n",
    "cumulativeData.columns = ['date', 'group', 'orders', 'buyers', 'revenue', 'visitors']\n",
    "\n",
    "# посмотрим на результат\n",
    "print(cumulativeData.head(5))"
   ]
  },
  {
   "cell_type": "code",
   "execution_count": 22,
   "metadata": {},
   "outputs": [],
   "source": [
    "# датафрейм с кумулятивным количеством заказов и кумулятивной выручкой по дням в группе А\n",
    "cumulativeRevenueA = cumulativeData[cumulativeData['group'] == 'A'][['date', 'revenue', 'orders']]\n",
    "\n",
    "# датафрейм с кумулятивным количеством заказов и кумулятивной выручкой по дням в группе B\n",
    "cumulativeRevenueB = cumulativeData[cumulativeData['group'] == 'B'][['date', 'revenue', 'orders']]"
   ]
  },
  {
   "cell_type": "code",
   "execution_count": 23,
   "metadata": {},
   "outputs": [
    {
     "data": {
      "image/png": "[encoded data removed]",
      "text/plain": [
       "<Figure size 864x360 with 1 Axes>"
      ]
     },
     "metadata": {
      "needs_background": "light"
     },
     "output_type": "display_data"
    }
   ],
   "source": [
    "# график кумулятивной выручки по группам\n",
    "\n",
    "plt.figure(figsize=(12,5))\n",
    "plt.plot(cumulativeRevenueA['date'], cumulativeRevenueA['revenue'], label='A')\n",
    "plt.plot(cumulativeRevenueB['date'], cumulativeRevenueB['revenue'], label='B')\n",
    "plt.tick_params(axis='x', which='major', labelsize=10)\n",
    "plt.title('График кумулятивной выручки по группам')\n",
    "plt.xlabel('Дата')\n",
    "plt.ylabel('Выручка')\n",
    "plt.legend();"
   ]
  },
  {
   "cell_type": "markdown",
   "metadata": {},
   "source": [
    "- Для группы А характерен равномерный рост выручки практически весь месяц.\n",
    "- Группа B на графике стабильно показывает бОльшую выручку, чем группа А. Стоит заметить, что с 18 августа в группе B наблюдается скачок выручки, что может может объясняться возросшим количеством заказов, наличием дорогих товаров в заказах или и тем, и другим одновременно.\n",
    "- Резюмируя: на данный момент группа B лидирует."
   ]
  },
  {
   "cell_type": "markdown",
   "metadata": {},
   "source": [
    "<div class=\"alert alert-block alert-success\">\n",
    "<b>Комментарий ревьюера v1:</b>\n",
    "    \n",
    "Верные результаты и выводы! \n"
   ]
  },
  {
   "cell_type": "markdown",
   "metadata": {},
   "source": [
    "### Постройте график кумулятивного среднего чека по группам. Сделайте выводы и предположения."
   ]
  },
  {
   "cell_type": "code",
   "execution_count": 24,
   "metadata": {},
   "outputs": [
    {
     "data": {
      "image/png": "[encoded data removed]",
      "text/plain": [
       "<Figure size 864x360 with 1 Axes>"
      ]
     },
     "metadata": {
      "needs_background": "light"
     },
     "output_type": "display_data"
    }
   ],
   "source": [
    "# график кумулятивного среднего чека по группам\n",
    "\n",
    "plt.figure(figsize=(12,5))\n",
    "plt.plot(cumulativeRevenueA['date'], cumulativeRevenueA['revenue']/cumulativeRevenueA['orders'], label='A')\n",
    "plt.plot(cumulativeRevenueB['date'], cumulativeRevenueB['revenue']/cumulativeRevenueB['orders'], label='B')\n",
    "plt.tick_params(axis='x', which='major', labelsize=10)\n",
    "plt.title('График кумулятивного среднего чека по группам')\n",
    "plt.xlabel('Дата')\n",
    "plt.ylabel('Средний чек')\n",
    "plt.legend();"
   ]
  },
  {
   "cell_type": "markdown",
   "metadata": {},
   "source": [
    "- До 14.08.2019 наблюдается абсолютно разное поведение среднего чека у двух групп, но стоит отметить, что средний чек группы B почти всё время был выше.\n",
    "- Также наблюдается реактивный скачок в группе B, который мы уже видели чуть выше, с дальнейшей стабилизацией кривых. Можно предположить, что были очень крупные заказы, которые могут влиять на результаты."
   ]
  },
  {
   "cell_type": "markdown",
   "metadata": {},
   "source": [
    "<div class=\"alert alert-block alert-success\">\n",
    "<b>Комментарий ревьюера v1:</b>\n",
    "    \n",
    "Здесь также все верно."
   ]
  },
  {
   "cell_type": "markdown",
   "metadata": {},
   "source": [
    "### Постройте график относительного изменения кумулятивного среднего чека группы B к группе A. Сделайте выводы и предположения."
   ]
  },
  {
   "cell_type": "code",
   "execution_count": 25,
   "metadata": {},
   "outputs": [
    {
     "data": {
      "text/html": [
       "<div>\n",
       "<style scoped>\n",
       "    .dataframe tbody tr th:only-of-type {\n",
       "        vertical-align: middle;\n",
       "    }\n",
       "\n",
       "    .dataframe tbody tr th {\n",
       "        vertical-align: top;\n",
       "    }\n",
       "\n",
       "    .dataframe thead th {\n",
       "        text-align: right;\n",
       "    }\n",
       "</style>\n",
       "<table border=\"1\" class=\"dataframe\">\n",
       "  <thead>\n",
       "    <tr style=\"text-align: right;\">\n",
       "      <th></th>\n",
       "      <th>date</th>\n",
       "      <th>revenueA</th>\n",
       "      <th>ordersA</th>\n",
       "      <th>revenueB</th>\n",
       "      <th>ordersB</th>\n",
       "    </tr>\n",
       "  </thead>\n",
       "  <tbody>\n",
       "    <tr>\n",
       "      <th>0</th>\n",
       "      <td>2019-08-01</td>\n",
       "      <td>142779</td>\n",
       "      <td>23</td>\n",
       "      <td>59758</td>\n",
       "      <td>17</td>\n",
       "    </tr>\n",
       "    <tr>\n",
       "      <th>1</th>\n",
       "      <td>2019-08-02</td>\n",
       "      <td>234381</td>\n",
       "      <td>42</td>\n",
       "      <td>221801</td>\n",
       "      <td>40</td>\n",
       "    </tr>\n",
       "    <tr>\n",
       "      <th>2</th>\n",
       "      <td>2019-08-03</td>\n",
       "      <td>346854</td>\n",
       "      <td>66</td>\n",
       "      <td>288850</td>\n",
       "      <td>54</td>\n",
       "    </tr>\n",
       "    <tr>\n",
       "      <th>3</th>\n",
       "      <td>2019-08-04</td>\n",
       "      <td>388030</td>\n",
       "      <td>77</td>\n",
       "      <td>385740</td>\n",
       "      <td>68</td>\n",
       "    </tr>\n",
       "    <tr>\n",
       "      <th>4</th>\n",
       "      <td>2019-08-05</td>\n",
       "      <td>474413</td>\n",
       "      <td>99</td>\n",
       "      <td>475648</td>\n",
       "      <td>89</td>\n",
       "    </tr>\n",
       "  </tbody>\n",
       "</table>\n",
       "</div>"
      ],
      "text/plain": [
       "        date  revenueA  ordersA  revenueB  ordersB\n",
       "0 2019-08-01    142779       23     59758       17\n",
       "1 2019-08-02    234381       42    221801       40\n",
       "2 2019-08-03    346854       66    288850       54\n",
       "3 2019-08-04    388030       77    385740       68\n",
       "4 2019-08-05    474413       99    475648       89"
      ]
     },
     "execution_count": 25,
     "metadata": {},
     "output_type": "execute_result"
    }
   ],
   "source": [
    "# соберём необходимые данные в отдельную переменную\n",
    "mergedCumulativeRevenue  = cumulativeRevenueA.merge(cumulativeRevenueB, \n",
    "                                                    left_on='date', \n",
    "                                                    right_on='date', \n",
    "                                                    how='left', \n",
    "                                                    suffixes=['A', 'B'])\n",
    "# посмотрим на результат\n",
    "mergedCumulativeRevenue.head()"
   ]
  },
  {
   "cell_type": "code",
   "execution_count": 26,
   "metadata": {},
   "outputs": [
    {
     "data": {
      "image/png": "[encoded data removed]",
      "text/plain": [
       "<Figure size 864x360 with 1 Axes>"
      ]
     },
     "metadata": {
      "needs_background": "light"
     },
     "output_type": "display_data"
    }
   ],
   "source": [
    "# график относительного изменения кумулятивного среднего чека группы B к группе A\n",
    "\n",
    "plt.figure(figsize=(12,5))\n",
    "plt.plot(mergedCumulativeRevenue['date'], \n",
    "        (mergedCumulativeRevenue['revenueB']/mergedCumulativeRevenue['ordersB'])\n",
    "         /(mergedCumulativeRevenue['revenueA']/mergedCumulativeRevenue['ordersA'])-1);\n",
    "plt.axhline(y=0, color='black', linestyle='--');\n",
    "plt.tick_params(axis='x', which='major', labelsize=10)\n",
    "plt.title('График относительного изменения кумулятивного среднего чека группы B к группе A')\n",
    "plt.xlabel('Дата')\n",
    "plt.ylabel('(ср.чек В/ср.чек А) -1')\n",
    "plt.show()"
   ]
  },
  {
   "cell_type": "markdown",
   "metadata": {},
   "source": [
    "\n",
    "- График резко \"ломается\" в нескольких точках - определённо,  присутствуют выбросы (крупные заказы) в эти даты."
   ]
  },
  {
   "cell_type": "markdown",
   "metadata": {},
   "source": [
    "<div class=\"alert alert-block alert-success\">\n",
    "<b>Комментарий ревьюера v1:</b>\n",
    "    \n",
    "Действительно, было бы полезно изучать данные без выбросов."
   ]
  },
  {
   "cell_type": "markdown",
   "metadata": {},
   "source": [
    "### Постройте график кумулятивной конверсии по группам. Сделайте выводы и предположения."
   ]
  },
  {
   "cell_type": "code",
   "execution_count": 27,
   "metadata": {},
   "outputs": [],
   "source": [
    "# считаем кумулятивную конверсию\n",
    "cumulativeData['conversion'] = cumulativeData['orders']/cumulativeData['visitors']\n",
    "\n",
    "# отделяем данные по группе A\n",
    "cumulativeDataA = cumulativeData[cumulativeData['group']=='A']\n",
    "\n",
    "# отделяем данные по группе B\n",
    "cumulativeDataB = cumulativeData[cumulativeData['group']=='B']"
   ]
  },
  {
   "cell_type": "code",
   "execution_count": 28,
   "metadata": {},
   "outputs": [
    {
     "data": {
      "image/png": "[encoded data removed]",
      "text/plain": [
       "<Figure size 864x360 with 1 Axes>"
      ]
     },
     "metadata": {
      "needs_background": "light"
     },
     "output_type": "display_data"
    }
   ],
   "source": [
    "# график кумулятивной конверсии по группам\n",
    "\n",
    "plt.figure(figsize=(12,5))\n",
    "plt.plot(cumulativeDataA['date'], cumulativeDataA['conversion'], label='A')\n",
    "plt.plot(cumulativeDataB['date'], cumulativeDataB['conversion'], label='B')\n",
    "plt.legend()\n",
    "plt.tick_params(axis='x', which='major', labelsize=10)\n",
    "plt.axis([dt.datetime(2019, 8, 1), dt.datetime(2019, 9, 1), 0.02, 0.04])\n",
    "plt.title('График кумулятивной конверсии по группам')\n",
    "plt.xlabel('Дата')\n",
    "plt.ylabel('Конверсия')\n",
    "plt.show()"
   ]
  },
  {
   "cell_type": "markdown",
   "metadata": {},
   "source": [
    "- В начале месяца обе группы заметно нестабильны, но к концу месяца колебания в группах затихают\n",
    "- В целом, конверсия у группы В оказалась стабильно лучше группы А."
   ]
  },
  {
   "cell_type": "markdown",
   "metadata": {},
   "source": [
    "<div class=\"alert alert-success\">\n",
    "<b>Комментарий ревьюера v1:</b>\n",
    "    \n",
    "Верные результаты и выводы, а на основании данного графика легче сказать, что группа B действительно лучше."
   ]
  },
  {
   "cell_type": "markdown",
   "metadata": {},
   "source": [
    "### Постройте график относительного изменения кумулятивной конверсии группы B к группе A. Сделайте выводы и предположения."
   ]
  },
  {
   "cell_type": "code",
   "execution_count": 29,
   "metadata": {},
   "outputs": [
    {
     "data": {
      "image/png": "[encoded data removed]",
      "text/plain": [
       "<Figure size 864x360 with 1 Axes>"
      ]
     },
     "metadata": {
      "needs_background": "light"
     },
     "output_type": "display_data"
    }
   ],
   "source": [
    "mergedCumulativeConversions = cumulativeDataA[['date','conversion']].merge(cumulativeDataB[['date','conversion']], \n",
    "                                                                           left_on='date', \n",
    "                                                                           right_on='date', \n",
    "                                                                           how='left', \n",
    "                                                                           suffixes=['A', 'B'])\n",
    "# график относительного изменения кумулятивной конверсии группы B к группе A\n",
    "\n",
    "plt.figure(figsize=(12,5))\n",
    "plt.plot(mergedCumulativeConversions['date'], \n",
    "         mergedCumulativeConversions['conversionB']/mergedCumulativeConversions['conversionA']-1, \n",
    "         label=\"Относительный прирост конверсии группы B относительно группы A\")\n",
    "plt.legend()\n",
    "plt.axhline(y=0, color='black', linestyle='--')\n",
    "plt.axhline(y=0.2, color='grey', linestyle='--')\n",
    "plt.axis([dt.datetime(2019, 8, 1), dt.datetime(2019, 9, 1), -0.3, 0.4])\n",
    "plt.tick_params(axis='x', which='major', labelsize=10)\n",
    "plt.title('График относительного изменения кумулятивной конверсии группы B к группе A')\n",
    "plt.xlabel('Дата')\n",
    "plt.ylabel('(конверсия В/конверсия А) -1')\n",
    "plt.show()"
   ]
  },
  {
   "cell_type": "markdown",
   "metadata": {},
   "source": [
    "- В конце первой недели конверсия группы B стала стабильно больше конверсии группы А"
   ]
  },
  {
   "cell_type": "markdown",
   "metadata": {},
   "source": [
    "<div class=\"alert alert-success\">\n",
    "<b>Комментарий ревьюера v1:</b>\n",
    "    \n",
    "На мой взгляд тут уже можно отметить небольшую стаблизацию результатов теста после около определенного значения после 21.08\n",
    "    \n",
    "    \n",
    "Отлично, что используешь plt.axhline. "
   ]
  },
  {
   "cell_type": "markdown",
   "metadata": {},
   "source": [
    "### Постройте точечный график количества заказов по пользователям. Сделайте выводы и предположения."
   ]
  },
  {
   "cell_type": "code",
   "execution_count": 30,
   "metadata": {},
   "outputs": [
    {
     "name": "stdout",
     "output_type": "stream",
     "text": [
      "      visitorId  orders\n",
      "908  3967698036       3\n",
      "55    249864742       3\n",
      "478  2108163459       3\n",
      "687  2988190573       3\n",
      "890  3908431265       3\n",
      "138   611059232       3\n",
      "632  2742574263       3\n",
      "157   678354126       2\n",
      "323  1404560065       2\n",
      "452  1985475298       2\n"
     ]
    }
   ],
   "source": [
    "ordersByUsers = (orders.groupby('visitor_id', as_index=False)\n",
    "                       .agg({'transaction_id': pd.Series.nunique}))\n",
    "ordersByUsers.columns = ['visitorId', 'orders']\n",
    "\n",
    "print(ordersByUsers.sort_values(by='orders', ascending=False).head(10))"
   ]
  },
  {
   "cell_type": "code",
   "execution_count": 31,
   "metadata": {},
   "outputs": [
    {
     "data": {
      "image/png": "[encoded data removed]",
      "text/plain": [
       "<Figure size 864x360 with 1 Axes>"
      ]
     },
     "metadata": {
      "needs_background": "light"
     },
     "output_type": "display_data"
    }
   ],
   "source": [
    "# точечный график количества заказов по пользователям\n",
    "\n",
    "plt.figure(figsize=(12,5))\n",
    "x_values = pd.Series(range(0, len(ordersByUsers)))\n",
    "plt.scatter(x_values, ordersByUsers['orders']);\n",
    "plt.title('Точечный график количества заказов по пользователям')\n",
    "plt.ylabel('Количество заказов')\n",
    "plt.show()"
   ]
  },
  {
   "cell_type": "markdown",
   "metadata": {},
   "source": [
    "- Судя по графику большинство пользователей оформляли заказ единожды.\n",
    "- В целом большинство пользователей не совершает более 2 заказов."
   ]
  },
  {
   "cell_type": "markdown",
   "metadata": {},
   "source": [
    "### Посчитайте 95-й и 99-й перцентили количества заказов на пользователя. Выберите границу для определения аномальных пользователей."
   ]
  },
  {
   "cell_type": "code",
   "execution_count": 32,
   "metadata": {},
   "outputs": [
    {
     "name": "stdout",
     "output_type": "stream",
     "text": [
      "[1. 2.]\n"
     ]
    }
   ],
   "source": [
    "print(np.percentile(ordersByUsers['orders'], [95, 99]))"
   ]
  },
  {
   "cell_type": "markdown",
   "metadata": {},
   "source": [
    "- Не более 5% пользователей совершали больше 1 заказа.\n",
    "- Не более 1% пользователей совершали больше 2 заказов.\n",
    "- За границу для определения аномальных пользователей примем 2 заказа на одного пользователя."
   ]
  },
  {
   "cell_type": "markdown",
   "metadata": {},
   "source": [
    "### Постройте точечный график стоимостей заказов. Сделайте выводы и предположения."
   ]
  },
  {
   "cell_type": "code",
   "execution_count": 33,
   "metadata": {},
   "outputs": [
    {
     "data": {
      "image/png": "[encoded data removed]",
      "text/plain": [
       "<Figure size 864x360 with 1 Axes>"
      ]
     },
     "metadata": {
      "needs_background": "light"
     },
     "output_type": "display_data"
    }
   ],
   "source": [
    "# точечный график стоимостей заказов\n",
    "\n",
    "x_values = pd.Series(range(0, len(orders['revenue'])))\n",
    "plt.figure(figsize=(12,5))\n",
    "plt.scatter(x_values, orders['revenue'])\n",
    "plt.title('Точечный график стоимостей заказов')\n",
    "plt.ylabel('Стоимость заказа')\n",
    "plt.show()"
   ]
  },
  {
   "cell_type": "markdown",
   "metadata": {},
   "source": [
    "- На графике замечен  самый крупный заказ на сумму свыше 1 миллиона - явная аномалия по сравнению с другими.\n",
    "- Следующий за ним крупный заказ в районе 200000 ед., что также является аномалией.\n",
    "- Все остальные заказы значительно дешевле\n",
    "\n",
    "Посмотрим на графики поближе"
   ]
  },
  {
   "cell_type": "markdown",
   "metadata": {},
   "source": [
    "<div class=\"alert alert-block alert-success\">\n",
    "<b>Комментарий ревьюера v1:</b>\n",
    "    \n",
    "Можно также выделить две группы на этом графике, используя параметр hue:  (https://seaborn.pydata.org/generated/seaborn.scatterplot.html)\n",
    "  \n",
    "А также посмотреть на график без выбросов."
   ]
  },
  {
   "cell_type": "code",
   "execution_count": 34,
   "metadata": {},
   "outputs": [
    {
     "data": {
      "image/png": "[encoded data removed]",
      "text/plain": [
       "<Figure size 864x360 with 1 Axes>"
      ]
     },
     "metadata": {
      "needs_background": "light"
     },
     "output_type": "display_data"
    }
   ],
   "source": [
    "# точечный график стоимостей заказов с увеличенным масштабом\n",
    "\n",
    "x_values = pd.Series(range(0, len(orders['revenue'])))\n",
    "plt.figure(figsize=(12,5))\n",
    "plt.scatter(x_values, orders['revenue'])\n",
    "plt.axis([0, 1030, 0, 150000])\n",
    "plt.title('Точечный график стоимостей заказов')\n",
    "plt.ylabel('Стоимость заказа')\n",
    "plt.show()"
   ]
  },
  {
   "cell_type": "markdown",
   "metadata": {},
   "source": [
    "- Большая часть пользователей делает покупки суммой стоимостью не более 30000 ед.. "
   ]
  },
  {
   "cell_type": "markdown",
   "metadata": {},
   "source": [
    "### Посчитайте 95-й и 99-й перцентили стоимости заказов. Выберите границу для определения аномальных заказов."
   ]
  },
  {
   "cell_type": "code",
   "execution_count": 35,
   "metadata": {},
   "outputs": [
    {
     "name": "stdout",
     "output_type": "stream",
     "text": [
      "[26785. 53904.]\n"
     ]
    }
   ],
   "source": [
    "print(np.percentile(orders['revenue'], [95, 99])) "
   ]
  },
  {
   "cell_type": "markdown",
   "metadata": {},
   "source": [
    "- Не больше 5% заказов дороже ~27 тыс. ед.\n",
    "- Не больше 1% - дороже 53 904 ед.\n",
    "- За границу для определения аномальных заказов примем 27 тыс. ед."
   ]
  },
  {
   "cell_type": "markdown",
   "metadata": {},
   "source": [
    "<div class=\"alert alert-block alert-success\">\n",
    "<b>Комментарий ревьюера v1:</b>\n",
    "    \n",
    "Диаграммы рассеяния и выбросы по 90, 95 и по 99 персентилю определены полностью верно."
   ]
  },
  {
   "cell_type": "markdown",
   "metadata": {},
   "source": [
    "### Посчитайте статистическую значимость различий в конверсии между группами по «сырым» данным. Сделайте выводы и предположения."
   ]
  },
  {
   "cell_type": "markdown",
   "metadata": {},
   "source": [
    "Сформируем нулевую и альтернативную гипотезы для проверки\n",
    "\n",
    "- H0: Нулевая гипотеза - различий в конверсии между группами нет.\n",
    "- H1: Альтернативная гипотеза - различия в конверсии между группами есть."
   ]
  },
  {
   "cell_type": "code",
   "execution_count": 36,
   "metadata": {},
   "outputs": [],
   "source": [
    "visitorsADaily = visitors[visitors['group'] == 'A'][['date', 'visitors']]\n",
    "visitorsADaily.columns = ['date', 'visitorsPerDateA']\n",
    "\n",
    "visitorsACummulative = visitorsADaily.apply(\n",
    "    lambda x: visitorsADaily[visitorsADaily['date'] <= x['date']]\n",
    "                                     .agg({'date': 'max', 'visitorsPerDateA': 'sum'}), axis=1)\n",
    "visitorsACummulative.columns = ['date', 'visitorsCummulativeA']\n",
    "\n",
    "visitorsBDaily = visitors[visitors['group'] == 'B'][['date', 'visitors']]\n",
    "visitorsBDaily.columns = ['date', 'visitorsPerDateB']\n",
    "\n",
    "visitorsBCummulative = visitorsBDaily.apply(\n",
    "    lambda x: visitorsBDaily[visitorsBDaily['date'] <= x['date']]\n",
    "                                     .agg({'date': 'max', 'visitorsPerDateB': 'sum'}), axis=1)\n",
    "visitorsBCummulative.columns = ['date', 'visitorsCummulativeB']\n",
    "\n",
    "ordersADaily = (\n",
    "    orders[orders['group'] == 'A'][['date', 'transaction_id', 'visitor_id', 'revenue']]\n",
    "    .groupby('date', as_index=False)\n",
    "    .agg({'transaction_id': pd.Series.nunique, 'revenue': 'sum'}))\n",
    "ordersADaily.columns = ['date', 'ordersPerDateA', 'revenuePerDateA']\n",
    "\n",
    "ordersACummulative = ordersADaily.apply(\n",
    "    lambda x: ordersADaily[ordersADaily['date'] <= x['date']]\n",
    "                                 .agg({'date': 'max', 'ordersPerDateA': 'sum', 'revenuePerDateA': 'sum'}),\n",
    "    axis=1).sort_values(by=['date'])\n",
    "ordersACummulative.columns = ['date', 'ordersCummulativeA', 'revenueCummulativeA']\n",
    "\n",
    "ordersBDaily = (\n",
    "    orders[orders['group'] == 'B'][['date', 'transaction_id', 'visitor_id', 'revenue']]\n",
    "    .groupby('date', as_index=False)\n",
    "    .agg({'transaction_id': pd.Series.nunique, 'revenue': 'sum'}))\n",
    "ordersBDaily.columns = ['date', 'ordersPerDateB', 'revenuePerDateB']\n",
    "\n",
    "ordersBCummulative = ordersBDaily.apply(\n",
    "    lambda x: ordersBDaily[ordersBDaily['date'] <= x['date']]\n",
    "                                 .agg({'date': 'max', 'ordersPerDateB': 'sum', 'revenuePerDateB': 'sum'}),\n",
    "    axis=1).sort_values(by=['date'])\n",
    "ordersBCummulative.columns = ['date', 'ordersCummulativeB', 'revenueCummulativeB']\n",
    "\n",
    "data = (\n",
    "    ordersADaily\n",
    "    .merge(ordersBDaily, left_on='date', right_on='date', how='left')\n",
    "    .merge(ordersACummulative, left_on='date', right_on='date', how='left')\n",
    "    .merge(ordersBCummulative, left_on='date', right_on='date', how='left')\n",
    "    .merge(visitorsADaily, left_on='date', right_on='date', how='left')\n",
    "    .merge(visitorsBDaily, left_on='date', right_on='date', how='left')\n",
    "    .merge(visitorsACummulative, left_on='date', right_on='date', how='left')\n",
    "    .merge(visitorsBCummulative, left_on='date', right_on='date', how='left'))\n",
    "\n",
    "# для пользователей, совершивших хотя бы 1 заказ, будет указано число заказов\n",
    "ordersByUsersA = (orders[orders['group'] == 'A']\n",
    "                                              .groupby('visitor_id', as_index=False)\n",
    "                                              .agg({'transaction_id': pd.Series.nunique}))\n",
    "ordersByUsersA.columns = ['userId', 'orders']\n",
    "\n",
    "ordersByUsersB = (orders[orders['group'] == 'B']\n",
    "                                              .groupby('visitor_id', as_index=False)\n",
    "                                              .agg({'transaction_id': pd.Series.nunique}))\n",
    "ordersByUsersB.columns = ['userId', 'orders'] \n",
    "\n",
    "# пользователям с заказами будет соответствовать число заказов пользователя, а пользователям без заказов — нули\n",
    "sampleA = pd.concat([ordersByUsersA['orders'], pd.Series(0, index=np.arange(data['visitorsPerDateA'].sum() - len(ordersByUsersA['orders'])), name='orders')],axis=0)\n",
    "\n",
    "sampleB = pd.concat([ordersByUsersB['orders'], pd.Series(0, index=np.arange(data['visitorsPerDateB'].sum() - len(ordersByUsersB['orders'])), name='orders')],axis=0)"
   ]
  },
  {
   "cell_type": "code",
   "execution_count": 37,
   "metadata": {},
   "outputs": [
    {
     "name": "stdout",
     "output_type": "stream",
     "text": [
      "p-value: 0.01102\n",
      "Относительный прирост конверсии: 0.160\n"
     ]
    }
   ],
   "source": [
    "print(f'p-value: {\"{0:.5f}\".format(stats.mannwhitneyu(sampleA, sampleB)[1])}')\n",
    "print(f'Относительный прирост конверсии: {\"{0:.3f}\".format(sampleB.mean() / sampleA.mean() - 1)}')"
   ]
  },
  {
   "cell_type": "markdown",
   "metadata": {},
   "source": [
    "- P-value = 0.01102 < 0.05 (критический уровень статистической значимости).\n",
    "- Отвергаем нулевую гипотезу о том, что статистически значимых различий в конверсии между группами нет.\n",
    "- Относительный прирост конверсии группы В к конверсии группы А равен 16%."
   ]
  },
  {
   "cell_type": "markdown",
   "metadata": {},
   "source": [
    "### Посчитайте статистическую значимость различий в среднем чеке заказа между группами по «сырым» данным. Сделайте выводы и предположения."
   ]
  },
  {
   "cell_type": "markdown",
   "metadata": {},
   "source": [
    "Сформируем нулевую и альтернативную гипотезы для проверки\n",
    "\n",
    "- H0: Нулевая гипотеза - различий в среднем чеке между группами нет.\n",
    "- H1: Альтернативная гипотеза - различия в среднем чеке между группами есть."
   ]
  },
  {
   "cell_type": "markdown",
   "metadata": {},
   "source": [
    "<div class=\"alert alert-block alert-success\">\n",
    "<b>Комментарий ревьюера v1:</b>\n",
    "    \n",
    "Гипотезы сформулированы верно."
   ]
  },
  {
   "cell_type": "code",
   "execution_count": 38,
   "metadata": {},
   "outputs": [
    {
     "name": "stdout",
     "output_type": "stream",
     "text": [
      "p-value: 0.829\n",
      "Относительное различие среднего чека: 0.287\n"
     ]
    }
   ],
   "source": [
    "p_val = '{0:.3f}'.format(stats.mannwhitneyu(orders[orders['group']=='A']['revenue'], \n",
    "                                          orders[orders['group']=='B']['revenue'])[1])\n",
    "\n",
    "diff = '{0:.3f}'.format(orders[orders['group']=='B']['revenue']\n",
    "                       .mean()/orders[orders['group']=='A']['revenue']\n",
    "                       .mean()-1)\n",
    "\n",
    "print(f'p-value: {p_val}')\n",
    "print(f'Относительное различие среднего чека: {diff}')"
   ]
  },
  {
   "cell_type": "markdown",
   "metadata": {},
   "source": [
    "- P-value > 0,05 (критический уровень статистической значимости).\n",
    "- Cтатистически значимых отличий в среднем чеке между группами нет.\n",
    "- Относительное различие среднего чека между сегментами - 28,7%."
   ]
  },
  {
   "cell_type": "markdown",
   "metadata": {},
   "source": [
    "### Посчитайте статистическую значимость различий в конверсии между группами по «очищенным» данным. Сделайте выводы и предположения."
   ]
  },
  {
   "cell_type": "markdown",
   "metadata": {},
   "source": [
    "Исходя из анализа ранее подавляющее большинство пользователей не делает более 2 заказов и сумма одной покупки в большинстве случаев не превышает 27 тыс. ед.\n",
    "\n",
    "Очистим данные от аномальных пользователей."
   ]
  },
  {
   "cell_type": "code",
   "execution_count": 39,
   "metadata": {},
   "outputs": [
    {
     "name": "stdout",
     "output_type": "stream",
     "text": [
      "Количество аномальных пользовтелей: 58\n"
     ]
    }
   ],
   "source": [
    "# пользоватиели с большим количеством заказов\n",
    "usersWithManyOrders = pd.concat(\n",
    "    [\n",
    "        ordersByUsersA[ordersByUsersA['orders'] > 2]['userId'],\n",
    "        ordersByUsersB[ordersByUsersB['orders'] > 2]['userId'],\n",
    "    ],\n",
    "    axis=0,\n",
    ")\n",
    "\n",
    "# пользователи с дорогими заказами\n",
    "usersWithExpensiveOrders = orders[orders['revenue'] > 27000]['visitor_id']\n",
    "abnormalUsers = (\n",
    "    pd.concat([usersWithManyOrders, usersWithExpensiveOrders], axis=0)\n",
    "    .drop_duplicates()\n",
    "    .sort_values()\n",
    ")\n",
    "print(f'Количество аномальных пользовтелей: {abnormalUsers.shape[0]}') "
   ]
  },
  {
   "cell_type": "markdown",
   "metadata": {},
   "source": [
    "<div class=\"alert alert-block alert-warning\">\n",
    "<b>Комментарий ревьюера v1:</b>\n",
    "    \n",
    "Было бы совсем здорово не харкодить границы аномалий. Тут можно использовать код для расчета выбросов или переменную со значением. Это поможет избежать ошибок в будущем, особенно если проект нужно будет прогнать на новых данных.\n",
    "\n",
    "Гипотезы сформулированы верно."
   ]
  },
  {
   "cell_type": "code",
   "execution_count": 40,
   "metadata": {},
   "outputs": [],
   "source": [
    "sampleAFiltered = pd.concat(\n",
    "    [\n",
    "        ordersByUsersA[\n",
    "            np.logical_not(ordersByUsersA['userId'].isin(abnormalUsers))\n",
    "        ]['orders'],\n",
    "        pd.Series(\n",
    "            0,\n",
    "            index=np.arange(\n",
    "                data['visitorsPerDateA'].sum() - len(ordersByUsersA['orders'])\n",
    "            ),\n",
    "            name='orders',\n",
    "        ),\n",
    "    ],\n",
    "    axis=0,\n",
    ")\n",
    "\n",
    "sampleBFiltered = pd.concat(\n",
    "    [\n",
    "        ordersByUsersB[\n",
    "            np.logical_not(ordersByUsersB['userId'].isin(abnormalUsers))\n",
    "        ]['orders'],\n",
    "        pd.Series(\n",
    "            0,\n",
    "            index=np.arange(\n",
    "                data['visitorsPerDateB'].sum() - len(ordersByUsersB['orders'])\n",
    "            ),\n",
    "            name='orders',\n",
    "        ),\n",
    "    ],\n",
    "    axis=0,\n",
    ")"
   ]
  },
  {
   "cell_type": "code",
   "execution_count": 41,
   "metadata": {},
   "outputs": [
    {
     "name": "stdout",
     "output_type": "stream",
     "text": [
      "p-value: 0.01235\n",
      "Относительный прирост конверсии: 0.182\n"
     ]
    }
   ],
   "source": [
    "print(f'p-value: {\"{0:.5f}\".format(stats.mannwhitneyu(sampleAFiltered, sampleBFiltered)[1])}')\n",
    "print(f'Относительный прирост конверсии: {\"{0:.3f}\".format(sampleBFiltered.mean()/sampleAFiltered.mean()-1)}') "
   ]
  },
  {
   "cell_type": "markdown",
   "metadata": {},
   "source": [
    "- Аномальные пользователи - те, кто совершил 3 заказа и более, или совершил заказ на сумму свыше 27 тыс. ед.\n",
    "- Аналогично сырым данным, p-value не превысил 0,05, а значит, нулевую гипотезу отвергаем - между конверсиями групп А и В по-прежнему есть статистически значимая разница.\n",
    "- Сегмент В оказался лучше по конверсии на 18,2%."
   ]
  },
  {
   "cell_type": "markdown",
   "metadata": {},
   "source": [
    "### Посчитайте статистическую значимость различий в среднем чеке заказа между группами по «очищенным» данным. Сделайте выводы и предположения."
   ]
  },
  {
   "cell_type": "code",
   "execution_count": 42,
   "metadata": {},
   "outputs": [
    {
     "name": "stdout",
     "output_type": "stream",
     "text": [
      "p-value: 0.646\n",
      "Относительное различие среднего чека: -0.048\n"
     ]
    }
   ],
   "source": [
    "p_val_clean = '{0:.3f}'.format(\n",
    "        stats.mannwhitneyu(\n",
    "            orders[\n",
    "                np.logical_and(\n",
    "                    orders['group'] == 'A',\n",
    "                    np.logical_not(orders['visitor_id'].isin(abnormalUsers)),\n",
    "                )\n",
    "            ]['revenue'],\n",
    "            orders[\n",
    "                np.logical_and(\n",
    "                    orders['group'] == 'B',\n",
    "                    np.logical_not(orders['visitor_id'].isin(abnormalUsers)),\n",
    "                )\n",
    "            ]['revenue'],\n",
    "        )[1]\n",
    "    )\n",
    "\n",
    "diff_clean = \"{0:.3f}\".format(\n",
    "        orders[\n",
    "            np.logical_and(\n",
    "                orders['group'] == 'B',\n",
    "                np.logical_not(orders['visitor_id'].isin(abnormalUsers)),\n",
    "            )\n",
    "        ]['revenue'].mean()\n",
    "        / orders[\n",
    "            np.logical_and(\n",
    "                orders['group'] == 'A',\n",
    "                np.logical_not(orders['visitor_id'].isin(abnormalUsers)),\n",
    "            )\n",
    "        ]['revenue'].mean()\n",
    "        - 1\n",
    "    )\n",
    "\n",
    "print(f'p-value: {p_val_clean}')\n",
    "print(f'Относительное различие среднего чека: {diff_clean}')"
   ]
  },
  {
   "cell_type": "markdown",
   "metadata": {},
   "source": [
    "<div class=\"alert alert-block alert-warning\">\n",
    "<b>Комментарий ревьюера v1:</b>\n",
    "    \n",
    "Было бы здорово подписать что означает второе число.\n"
   ]
  },
  {
   "cell_type": "markdown",
   "metadata": {},
   "source": [
    "- P-value оказался примерно на том же уровне - 0,646, как и с сырыми данными\n",
    "- Нулевую гипотезу отвергнуть нельзя\n",
    "- Средний чек у группы A превосходит средний чек у группы B на 4.8% в \"очищенных\" данных."
   ]
  },
  {
   "cell_type": "markdown",
   "metadata": {},
   "source": [
    "<div class=\"alert alert-block alert-success\">\n",
    "<b>Комментарий ревьюера v1:</b>\n",
    "    \n",
    "Верные выводы для всех тестов!"
   ]
  },
  {
   "cell_type": "markdown",
   "metadata": {},
   "source": [
    "### Примите решение по результатам теста и объясните его.\n",
    "\n",
    "Варианты решений:\n",
    "- 1. Остановить тест, зафиксировать победу одной из групп.\n",
    "- 2. Остановить тест, зафиксировать отсутствие различий между группами.\n",
    "- 3. Продолжить тест."
   ]
  },
  {
   "cell_type": "markdown",
   "metadata": {},
   "source": [
    "# Результаты теста\n",
    "\n",
    "- Из графика различия конверсии между группами видно, что результаты группы B стабильно лучше группы A.\n",
    "\n",
    "- Из колебаний на графике различия среднего чека зафиксировано наличие аномалий.\n",
    "\n",
    "- Выявлено статистически значимое различие по конверсии между группами и по исходным, и по отфильтрованным от аномалий данным.\n",
    "\n",
    "- Статистически значимое различие по среднему чеку не были выявлены в обоих случаях.\n",
    "\n",
    "Резюмируя: тест следует остановить и признать его успешным - лидирует группа В. Средний чек не стал выше, но значительно увеличилась конверсия."
   ]
  },
  {
   "cell_type": "markdown",
   "metadata": {},
   "source": [
    "<div class=\"alert alert-block alert-success\">\n",
    "<b>Комментарий ревьюера v1:</b>\n",
    "    \n",
    "    \n",
    "Спасибо за проделанную работу 🤝\n",
    "\n",
    "Ты провела отличное исследование с правильными промежуточными выводами, чистым кодом и хорошей визуализацией. У тебя получилось верно применить фреймворки для тестирования гипотез, выявить аномалии в данных и провести все статистические проверки. \n",
    "    \n",
    "Также полностью согласен с твоими итогами теста. В данном проекте можно попасть в \"ловушку подглядывания\" и ждать пока появится разница в средних чеках, но делать так неправильно. Подробнее почитать можно тут: https://gopractice.ru/how-not-to-analyze-abtests/\n",
    "    \n",
    "\n",
    "Спасибо за классный проект и буду ждать твой проект на повторное ревью 😉\n",
    "    "
   ]
  },
  {
   "cell_type": "markdown",
   "metadata": {},
   "source": [
    "<div class=\"alert alert-warning\">\n",
    "<b>Комментарий ревьюера v1:</b>\n",
    "    \n",
    "Тем не менее общие выводы в данном случае это мини-презентация всей работы перед бизнес-заказчиком. На реальном проекте это, возможно, единственное, что бизнес будет читать. Поэтому необходимо структурировано указывать развернутые комментарии ко всем выводам, которые ты получила по каждому пункту работы.\n"
   ]
  }
 ],
 "metadata": {
  "ExecuteTimeLog": [
   {
    "duration": 44,
    "start_time": "2022-09-14T07:46:41.431Z"
   },
   {
    "duration": 1143,
    "start_time": "2022-09-14T07:46:45.694Z"
   },
   {
    "duration": 88,
    "start_time": "2022-09-14T07:46:49.266Z"
   },
   {
    "duration": 11,
    "start_time": "2022-09-14T07:47:05.262Z"
   },
   {
    "duration": 11,
    "start_time": "2022-09-14T07:48:27.142Z"
   },
   {
    "duration": 1009,
    "start_time": "2022-09-14T07:48:58.417Z"
   },
   {
    "duration": 39,
    "start_time": "2022-09-14T07:48:59.428Z"
   },
   {
    "duration": 11,
    "start_time": "2022-09-14T07:48:59.468Z"
   },
   {
    "duration": 34,
    "start_time": "2022-09-14T07:51:36.163Z"
   },
   {
    "duration": 3,
    "start_time": "2022-09-14T07:52:00.142Z"
   },
   {
    "duration": 8,
    "start_time": "2022-09-14T07:52:04.286Z"
   },
   {
    "duration": 11,
    "start_time": "2022-09-14T07:53:05.877Z"
   },
   {
    "duration": 12,
    "start_time": "2022-09-14T07:53:43.638Z"
   },
   {
    "duration": 72,
    "start_time": "2022-09-14T07:57:28.693Z"
   },
   {
    "duration": 85,
    "start_time": "2022-09-14T07:58:28.674Z"
   },
   {
    "duration": 96,
    "start_time": "2022-09-14T07:58:50.950Z"
   },
   {
    "duration": 5,
    "start_time": "2022-09-14T08:00:10.643Z"
   },
   {
    "duration": 2,
    "start_time": "2022-09-14T08:00:12.708Z"
   },
   {
    "duration": 14,
    "start_time": "2022-09-14T08:00:14.593Z"
   },
   {
    "duration": 80,
    "start_time": "2022-09-14T08:01:02.988Z"
   },
   {
    "duration": 4,
    "start_time": "2022-09-14T08:02:00.824Z"
   },
   {
    "duration": 10,
    "start_time": "2022-09-14T08:02:15.067Z"
   },
   {
    "duration": 61,
    "start_time": "2022-09-14T08:03:34.360Z"
   },
   {
    "duration": 9,
    "start_time": "2022-09-14T08:07:54.788Z"
   },
   {
    "duration": 8,
    "start_time": "2022-09-14T08:08:18.625Z"
   },
   {
    "duration": 102,
    "start_time": "2022-09-14T08:32:35.423Z"
   },
   {
    "duration": 20,
    "start_time": "2022-09-14T08:34:17.088Z"
   },
   {
    "duration": 24,
    "start_time": "2022-09-14T09:05:29.400Z"
   },
   {
    "duration": 964,
    "start_time": "2022-09-14T09:05:51.273Z"
   },
   {
    "duration": 36,
    "start_time": "2022-09-14T09:05:52.239Z"
   },
   {
    "duration": 3,
    "start_time": "2022-09-14T09:05:52.276Z"
   },
   {
    "duration": 12,
    "start_time": "2022-09-14T09:05:52.280Z"
   },
   {
    "duration": 11,
    "start_time": "2022-09-14T09:05:52.293Z"
   },
   {
    "duration": 10,
    "start_time": "2022-09-14T09:05:52.305Z"
   },
   {
    "duration": 57,
    "start_time": "2022-09-14T09:05:52.316Z"
   },
   {
    "duration": 6,
    "start_time": "2022-09-14T09:05:52.375Z"
   },
   {
    "duration": 9,
    "start_time": "2022-09-14T09:05:52.382Z"
   },
   {
    "duration": 15,
    "start_time": "2022-09-14T09:05:52.392Z"
   },
   {
    "duration": 25,
    "start_time": "2022-09-14T09:05:52.409Z"
   },
   {
    "duration": 3,
    "start_time": "2022-09-14T09:05:52.435Z"
   },
   {
    "duration": 17,
    "start_time": "2022-09-14T09:05:52.440Z"
   },
   {
    "duration": 13,
    "start_time": "2022-09-14T09:05:52.459Z"
   },
   {
    "duration": 165,
    "start_time": "2022-09-14T09:05:52.473Z"
   },
   {
    "duration": 102,
    "start_time": "2022-09-14T09:06:22.596Z"
   },
   {
    "duration": 163,
    "start_time": "2022-09-14T09:07:42.763Z"
   },
   {
    "duration": 158,
    "start_time": "2022-09-14T09:09:38.812Z"
   },
   {
    "duration": 145,
    "start_time": "2022-09-14T09:10:20.734Z"
   },
   {
    "duration": 257,
    "start_time": "2022-09-14T09:10:36.102Z"
   },
   {
    "duration": 11,
    "start_time": "2022-09-14T09:14:26.816Z"
   },
   {
    "duration": 239,
    "start_time": "2022-09-14T09:14:31.285Z"
   },
   {
    "duration": 163,
    "start_time": "2022-09-14T09:14:34.158Z"
   },
   {
    "duration": 271,
    "start_time": "2022-09-14T09:16:10.208Z"
   },
   {
    "duration": 158,
    "start_time": "2022-09-14T09:16:18.088Z"
   },
   {
    "duration": 199,
    "start_time": "2022-09-14T09:16:24.911Z"
   },
   {
    "duration": 178,
    "start_time": "2022-09-14T09:16:34.895Z"
   },
   {
    "duration": 11,
    "start_time": "2022-09-14T09:17:24.649Z"
   },
   {
    "duration": 252,
    "start_time": "2022-09-14T09:17:29.043Z"
   },
   {
    "duration": 172,
    "start_time": "2022-09-14T09:17:32.424Z"
   },
   {
    "duration": 302,
    "start_time": "2022-09-14T09:24:48.438Z"
   },
   {
    "duration": 6,
    "start_time": "2022-09-14T09:25:34.197Z"
   },
   {
    "duration": 5,
    "start_time": "2022-09-14T09:25:36.741Z"
   },
   {
    "duration": 170,
    "start_time": "2022-09-14T09:26:11.742Z"
   },
   {
    "duration": 1019,
    "start_time": "2022-09-14T09:26:50.416Z"
   },
   {
    "duration": 36,
    "start_time": "2022-09-14T09:26:51.436Z"
   },
   {
    "duration": 3,
    "start_time": "2022-09-14T09:26:51.474Z"
   },
   {
    "duration": 20,
    "start_time": "2022-09-14T09:26:51.479Z"
   },
   {
    "duration": 19,
    "start_time": "2022-09-14T09:26:51.501Z"
   },
   {
    "duration": 11,
    "start_time": "2022-09-14T09:26:51.522Z"
   },
   {
    "duration": 57,
    "start_time": "2022-09-14T09:26:51.535Z"
   },
   {
    "duration": 5,
    "start_time": "2022-09-14T09:26:51.594Z"
   },
   {
    "duration": 7,
    "start_time": "2022-09-14T09:26:51.600Z"
   },
   {
    "duration": 20,
    "start_time": "2022-09-14T09:26:51.610Z"
   },
   {
    "duration": 26,
    "start_time": "2022-09-14T09:26:51.632Z"
   },
   {
    "duration": 4,
    "start_time": "2022-09-14T09:26:51.659Z"
   },
   {
    "duration": 11,
    "start_time": "2022-09-14T09:26:51.664Z"
   },
   {
    "duration": 13,
    "start_time": "2022-09-14T09:26:51.677Z"
   },
   {
    "duration": 278,
    "start_time": "2022-09-14T09:26:51.692Z"
   },
   {
    "duration": 6,
    "start_time": "2022-09-14T09:26:51.971Z"
   },
   {
    "duration": 100,
    "start_time": "2022-09-14T09:26:51.978Z"
   },
   {
    "duration": 11,
    "start_time": "2022-09-14T09:27:47.027Z"
   },
   {
    "duration": 6,
    "start_time": "2022-09-14T09:27:50.546Z"
   },
   {
    "duration": 278,
    "start_time": "2022-09-14T09:27:54.754Z"
   },
   {
    "duration": 240,
    "start_time": "2022-09-14T09:47:18.125Z"
   },
   {
    "duration": 193,
    "start_time": "2022-09-14T09:48:29.477Z"
   },
   {
    "duration": 191,
    "start_time": "2022-09-14T09:49:05.406Z"
   },
   {
    "duration": 177,
    "start_time": "2022-09-14T09:54:51.712Z"
   },
   {
    "duration": 195,
    "start_time": "2022-09-14T09:56:00.001Z"
   },
   {
    "duration": 177,
    "start_time": "2022-09-14T09:56:24.137Z"
   },
   {
    "duration": 238,
    "start_time": "2022-09-14T09:56:31.554Z"
   },
   {
    "duration": 317,
    "start_time": "2022-09-14T10:01:20.308Z"
   },
   {
    "duration": 306,
    "start_time": "2022-09-14T10:01:50.486Z"
   },
   {
    "duration": 261,
    "start_time": "2022-09-14T10:02:06.837Z"
   },
   {
    "duration": 6,
    "start_time": "2022-09-14T10:03:12.901Z"
   },
   {
    "duration": 275,
    "start_time": "2022-09-14T10:03:16.317Z"
   },
   {
    "duration": 12,
    "start_time": "2022-09-14T10:03:44.233Z"
   },
   {
    "duration": 279,
    "start_time": "2022-09-14T10:04:26.614Z"
   },
   {
    "duration": 173,
    "start_time": "2022-09-14T10:12:11.348Z"
   },
   {
    "duration": 215,
    "start_time": "2022-09-14T10:12:25.948Z"
   },
   {
    "duration": 205,
    "start_time": "2022-09-14T10:12:37.019Z"
   },
   {
    "duration": 257,
    "start_time": "2022-09-14T10:23:49.497Z"
   },
   {
    "duration": 8,
    "start_time": "2022-09-14T10:24:19.837Z"
   },
   {
    "duration": 4,
    "start_time": "2022-09-14T10:24:43.242Z"
   },
   {
    "duration": 200,
    "start_time": "2022-09-14T10:27:01.220Z"
   },
   {
    "duration": 222,
    "start_time": "2022-09-14T10:27:27.869Z"
   },
   {
    "duration": 262,
    "start_time": "2022-09-14T10:29:45.809Z"
   },
   {
    "duration": 184,
    "start_time": "2022-09-14T10:33:46.759Z"
   },
   {
    "duration": 13,
    "start_time": "2022-09-14T10:39:32.403Z"
   },
   {
    "duration": 281,
    "start_time": "2022-09-14T10:40:45.317Z"
   },
   {
    "duration": 1091,
    "start_time": "2022-09-14T10:41:02.232Z"
   },
   {
    "duration": 36,
    "start_time": "2022-09-14T10:41:03.325Z"
   },
   {
    "duration": 2,
    "start_time": "2022-09-14T10:41:03.363Z"
   },
   {
    "duration": 19,
    "start_time": "2022-09-14T10:41:03.367Z"
   },
   {
    "duration": 10,
    "start_time": "2022-09-14T10:41:03.388Z"
   },
   {
    "duration": 14,
    "start_time": "2022-09-14T10:41:03.399Z"
   },
   {
    "duration": 53,
    "start_time": "2022-09-14T10:41:03.415Z"
   },
   {
    "duration": 5,
    "start_time": "2022-09-14T10:41:03.469Z"
   },
   {
    "duration": 6,
    "start_time": "2022-09-14T10:41:03.475Z"
   },
   {
    "duration": 17,
    "start_time": "2022-09-14T10:41:03.482Z"
   },
   {
    "duration": 26,
    "start_time": "2022-09-14T10:41:03.500Z"
   },
   {
    "duration": 3,
    "start_time": "2022-09-14T10:41:03.527Z"
   },
   {
    "duration": 11,
    "start_time": "2022-09-14T10:41:03.531Z"
   },
   {
    "duration": 4,
    "start_time": "2022-09-14T10:41:03.544Z"
   },
   {
    "duration": 16,
    "start_time": "2022-09-14T10:41:03.549Z"
   },
   {
    "duration": 270,
    "start_time": "2022-09-14T10:41:03.567Z"
   },
   {
    "duration": 5,
    "start_time": "2022-09-14T10:41:03.839Z"
   },
   {
    "duration": 100,
    "start_time": "2022-09-14T10:41:03.846Z"
   },
   {
    "duration": 0,
    "start_time": "2022-09-14T10:41:03.948Z"
   },
   {
    "duration": 0,
    "start_time": "2022-09-14T10:41:03.949Z"
   },
   {
    "duration": 0,
    "start_time": "2022-09-14T10:41:03.951Z"
   },
   {
    "duration": 0,
    "start_time": "2022-09-14T10:41:03.952Z"
   },
   {
    "duration": 0,
    "start_time": "2022-09-14T10:41:03.953Z"
   },
   {
    "duration": 0,
    "start_time": "2022-09-14T10:41:03.954Z"
   },
   {
    "duration": 254,
    "start_time": "2022-09-14T10:43:34.034Z"
   },
   {
    "duration": 183,
    "start_time": "2022-09-14T10:43:55.746Z"
   },
   {
    "duration": 11,
    "start_time": "2022-09-14T10:44:16.714Z"
   },
   {
    "duration": 261,
    "start_time": "2022-09-14T10:44:19.346Z"
   },
   {
    "duration": 5,
    "start_time": "2022-09-14T10:44:37.284Z"
   },
   {
    "duration": 183,
    "start_time": "2022-09-14T10:44:39.490Z"
   },
   {
    "duration": 284,
    "start_time": "2022-09-14T10:44:56.459Z"
   },
   {
    "duration": 318,
    "start_time": "2022-09-14T10:47:49.094Z"
   },
   {
    "duration": 316,
    "start_time": "2022-09-14T10:47:59.293Z"
   },
   {
    "duration": 313,
    "start_time": "2022-09-14T10:48:17.525Z"
   },
   {
    "duration": 398,
    "start_time": "2022-09-14T10:48:25.701Z"
   },
   {
    "duration": 259,
    "start_time": "2022-09-14T10:49:28.757Z"
   },
   {
    "duration": 345,
    "start_time": "2022-09-14T10:50:27.303Z"
   },
   {
    "duration": 14,
    "start_time": "2022-09-14T11:01:38.380Z"
   },
   {
    "duration": 223,
    "start_time": "2022-09-14T11:02:06.836Z"
   },
   {
    "duration": 234,
    "start_time": "2022-09-14T11:02:29.365Z"
   },
   {
    "duration": 114,
    "start_time": "2022-09-14T11:02:52.637Z"
   },
   {
    "duration": 1493,
    "start_time": "2022-09-14T11:03:12.988Z"
   },
   {
    "duration": 238,
    "start_time": "2022-09-14T11:03:29.121Z"
   },
   {
    "duration": 212,
    "start_time": "2022-09-14T11:04:47.463Z"
   },
   {
    "duration": 138,
    "start_time": "2022-09-14T11:04:52.045Z"
   },
   {
    "duration": 107,
    "start_time": "2022-09-14T11:05:14.638Z"
   },
   {
    "duration": 123,
    "start_time": "2022-09-14T11:05:32.632Z"
   },
   {
    "duration": 4,
    "start_time": "2022-09-14T11:14:46.674Z"
   },
   {
    "duration": 115,
    "start_time": "2022-09-14T11:17:51.228Z"
   },
   {
    "duration": 408,
    "start_time": "2022-09-14T11:18:20.124Z"
   },
   {
    "duration": 123,
    "start_time": "2022-09-14T11:21:05.240Z"
   },
   {
    "duration": 142,
    "start_time": "2022-09-14T11:21:17.257Z"
   },
   {
    "duration": 113,
    "start_time": "2022-09-14T11:21:40.735Z"
   },
   {
    "duration": 334,
    "start_time": "2022-09-14T11:22:13.990Z"
   },
   {
    "duration": 125,
    "start_time": "2022-09-14T11:22:36.839Z"
   },
   {
    "duration": 412,
    "start_time": "2022-09-14T11:22:53.864Z"
   },
   {
    "duration": 138,
    "start_time": "2022-09-14T11:23:19.280Z"
   },
   {
    "duration": 164,
    "start_time": "2022-09-14T11:23:27.326Z"
   },
   {
    "duration": 136,
    "start_time": "2022-09-14T11:23:48.864Z"
   },
   {
    "duration": 161,
    "start_time": "2022-09-14T11:27:37.997Z"
   },
   {
    "duration": 152,
    "start_time": "2022-09-14T11:27:49.210Z"
   },
   {
    "duration": 180,
    "start_time": "2022-09-14T11:27:57.898Z"
   },
   {
    "duration": 154,
    "start_time": "2022-09-14T11:28:43.328Z"
   },
   {
    "duration": 130,
    "start_time": "2022-09-14T11:30:20.372Z"
   },
   {
    "duration": 169,
    "start_time": "2022-09-14T11:30:31.843Z"
   },
   {
    "duration": 4,
    "start_time": "2022-09-14T11:30:56.811Z"
   },
   {
    "duration": 97,
    "start_time": "2022-09-14T11:53:21.290Z"
   },
   {
    "duration": 1027,
    "start_time": "2022-09-14T11:54:48.018Z"
   },
   {
    "duration": 37,
    "start_time": "2022-09-14T11:54:49.048Z"
   },
   {
    "duration": 3,
    "start_time": "2022-09-14T11:54:49.086Z"
   },
   {
    "duration": 14,
    "start_time": "2022-09-14T11:54:49.092Z"
   },
   {
    "duration": 11,
    "start_time": "2022-09-14T11:54:49.107Z"
   },
   {
    "duration": 10,
    "start_time": "2022-09-14T11:54:49.119Z"
   },
   {
    "duration": 48,
    "start_time": "2022-09-14T11:54:49.130Z"
   },
   {
    "duration": 4,
    "start_time": "2022-09-14T11:54:49.180Z"
   },
   {
    "duration": 5,
    "start_time": "2022-09-14T11:54:49.185Z"
   },
   {
    "duration": 16,
    "start_time": "2022-09-14T11:54:49.192Z"
   },
   {
    "duration": 26,
    "start_time": "2022-09-14T11:54:49.209Z"
   },
   {
    "duration": 3,
    "start_time": "2022-09-14T11:54:49.236Z"
   },
   {
    "duration": 11,
    "start_time": "2022-09-14T11:54:49.241Z"
   },
   {
    "duration": 7,
    "start_time": "2022-09-14T11:54:49.253Z"
   },
   {
    "duration": 14,
    "start_time": "2022-09-14T11:54:49.262Z"
   },
   {
    "duration": 270,
    "start_time": "2022-09-14T11:54:49.277Z"
   },
   {
    "duration": 6,
    "start_time": "2022-09-14T11:54:49.548Z"
   },
   {
    "duration": 264,
    "start_time": "2022-09-14T11:54:49.555Z"
   },
   {
    "duration": 212,
    "start_time": "2022-09-14T11:54:49.821Z"
   },
   {
    "duration": 11,
    "start_time": "2022-09-14T11:54:50.034Z"
   },
   {
    "duration": 266,
    "start_time": "2022-09-14T11:54:50.046Z"
   },
   {
    "duration": 5,
    "start_time": "2022-09-14T11:54:50.313Z"
   },
   {
    "duration": 202,
    "start_time": "2022-09-14T11:54:50.320Z"
   },
   {
    "duration": 287,
    "start_time": "2022-09-14T11:54:50.523Z"
   },
   {
    "duration": 120,
    "start_time": "2022-09-14T11:54:50.811Z"
   },
   {
    "duration": 129,
    "start_time": "2022-09-14T11:54:50.932Z"
   },
   {
    "duration": 4,
    "start_time": "2022-09-14T11:54:51.063Z"
   },
   {
    "duration": 141,
    "start_time": "2022-09-14T11:54:51.069Z"
   },
   {
    "duration": 137,
    "start_time": "2022-09-14T11:54:51.212Z"
   },
   {
    "duration": 4,
    "start_time": "2022-09-14T11:54:51.350Z"
   },
   {
    "duration": 261,
    "start_time": "2022-09-14T11:54:51.355Z"
   },
   {
    "duration": 332,
    "start_time": "2022-09-14T11:56:54.565Z"
   },
   {
    "duration": 84,
    "start_time": "2022-09-14T12:05:17.140Z"
   },
   {
    "duration": 323,
    "start_time": "2022-09-14T12:05:49.219Z"
   },
   {
    "duration": 10,
    "start_time": "2022-09-14T12:10:23.398Z"
   },
   {
    "duration": 2,
    "start_time": "2022-09-14T12:22:36.630Z"
   },
   {
    "duration": 1691,
    "start_time": "2022-09-14T12:25:25.031Z"
   },
   {
    "duration": 1945,
    "start_time": "2022-09-14T12:25:56.663Z"
   },
   {
    "duration": 1476,
    "start_time": "2022-09-14T12:26:16.142Z"
   },
   {
    "duration": 7,
    "start_time": "2022-09-14T12:26:29.272Z"
   },
   {
    "duration": 24,
    "start_time": "2022-09-14T12:27:31.720Z"
   },
   {
    "duration": 7,
    "start_time": "2022-09-14T12:28:13.873Z"
   },
   {
    "duration": 18,
    "start_time": "2022-09-14T12:28:18.546Z"
   },
   {
    "duration": 2608,
    "start_time": "2022-09-14T12:30:02.273Z"
   },
   {
    "duration": 13,
    "start_time": "2022-09-14T12:31:12.143Z"
   },
   {
    "duration": 326,
    "start_time": "2022-09-14T12:51:15.255Z"
   },
   {
    "duration": 18,
    "start_time": "2022-09-14T12:51:46.033Z"
   },
   {
    "duration": 85,
    "start_time": "2022-09-14T12:53:20.887Z"
   },
   {
    "duration": 107,
    "start_time": "2022-09-14T12:55:21.081Z"
   },
   {
    "duration": 87,
    "start_time": "2022-09-14T12:55:55.617Z"
   },
   {
    "duration": 80,
    "start_time": "2022-09-14T12:56:17.760Z"
   },
   {
    "duration": 9,
    "start_time": "2022-09-14T12:56:47.650Z"
   },
   {
    "duration": 11,
    "start_time": "2022-09-14T12:58:40.851Z"
   },
   {
    "duration": 11,
    "start_time": "2022-09-14T13:00:21.572Z"
   },
   {
    "duration": 96,
    "start_time": "2022-09-14T13:03:23.473Z"
   },
   {
    "duration": 23,
    "start_time": "2022-09-14T13:04:06.263Z"
   },
   {
    "duration": 13,
    "start_time": "2022-09-14T13:06:41.039Z"
   },
   {
    "duration": 1185,
    "start_time": "2022-09-14T17:20:31.529Z"
   },
   {
    "duration": 102,
    "start_time": "2022-09-14T17:20:32.716Z"
   },
   {
    "duration": 3,
    "start_time": "2022-09-14T17:20:32.820Z"
   },
   {
    "duration": 16,
    "start_time": "2022-09-14T17:20:32.824Z"
   },
   {
    "duration": 19,
    "start_time": "2022-09-14T17:20:32.841Z"
   },
   {
    "duration": 18,
    "start_time": "2022-09-14T17:20:32.861Z"
   },
   {
    "duration": 103,
    "start_time": "2022-09-14T17:20:32.880Z"
   },
   {
    "duration": 4,
    "start_time": "2022-09-14T17:20:32.984Z"
   },
   {
    "duration": 11,
    "start_time": "2022-09-14T17:20:32.990Z"
   },
   {
    "duration": 27,
    "start_time": "2022-09-14T17:20:33.004Z"
   },
   {
    "duration": 81,
    "start_time": "2022-09-14T17:20:33.032Z"
   },
   {
    "duration": 3,
    "start_time": "2022-09-14T17:20:33.115Z"
   },
   {
    "duration": 25,
    "start_time": "2022-09-14T17:20:33.119Z"
   },
   {
    "duration": 22,
    "start_time": "2022-09-14T17:20:33.145Z"
   },
   {
    "duration": 17,
    "start_time": "2022-09-14T17:20:33.169Z"
   },
   {
    "duration": 273,
    "start_time": "2022-09-14T17:20:33.187Z"
   },
   {
    "duration": 5,
    "start_time": "2022-09-14T17:20:33.462Z"
   },
   {
    "duration": 251,
    "start_time": "2022-09-14T17:20:33.476Z"
   },
   {
    "duration": 186,
    "start_time": "2022-09-14T17:20:33.729Z"
   },
   {
    "duration": 9,
    "start_time": "2022-09-14T17:20:33.917Z"
   },
   {
    "duration": 375,
    "start_time": "2022-09-14T17:20:33.928Z"
   },
   {
    "duration": 5,
    "start_time": "2022-09-14T17:20:34.305Z"
   },
   {
    "duration": 196,
    "start_time": "2022-09-14T17:20:34.312Z"
   },
   {
    "duration": 301,
    "start_time": "2022-09-14T17:20:34.509Z"
   },
   {
    "duration": 123,
    "start_time": "2022-09-14T17:20:34.812Z"
   },
   {
    "duration": 133,
    "start_time": "2022-09-14T17:20:34.936Z"
   },
   {
    "duration": 9,
    "start_time": "2022-09-14T17:20:35.070Z"
   },
   {
    "duration": 145,
    "start_time": "2022-09-14T17:20:35.082Z"
   },
   {
    "duration": 152,
    "start_time": "2022-09-14T17:20:35.228Z"
   },
   {
    "duration": 4,
    "start_time": "2022-09-14T17:20:35.382Z"
   },
   {
    "duration": 408,
    "start_time": "2022-09-14T17:20:35.388Z"
   },
   {
    "duration": 21,
    "start_time": "2022-09-14T17:20:35.798Z"
   },
   {
    "duration": 10,
    "start_time": "2022-09-14T17:20:35.820Z"
   },
   {
    "duration": 11,
    "start_time": "2022-09-14T17:20:35.832Z"
   },
   {
    "duration": 32,
    "start_time": "2022-09-14T17:20:35.845Z"
   },
   {
    "duration": 20,
    "start_time": "2022-09-14T17:20:35.879Z"
   },
   {
    "duration": 14,
    "start_time": "2022-09-14T17:20:35.901Z"
   },
   {
    "duration": 326,
    "start_time": "2022-09-14T17:47:51.576Z"
   },
   {
    "duration": 319,
    "start_time": "2022-09-14T17:47:57.868Z"
   },
   {
    "duration": 189,
    "start_time": "2022-09-14T17:50:26.259Z"
   },
   {
    "duration": 214,
    "start_time": "2022-09-14T17:50:39.260Z"
   },
   {
    "duration": 269,
    "start_time": "2022-09-14T17:51:28.924Z"
   },
   {
    "duration": 194,
    "start_time": "2022-09-14T17:51:32.756Z"
   },
   {
    "duration": 369,
    "start_time": "2022-09-14T17:53:46.631Z"
   },
   {
    "duration": 1003,
    "start_time": "2022-09-14T18:45:31.105Z"
   },
   {
    "duration": 36,
    "start_time": "2022-09-14T18:45:32.110Z"
   },
   {
    "duration": 3,
    "start_time": "2022-09-14T18:45:32.148Z"
   },
   {
    "duration": 14,
    "start_time": "2022-09-14T18:45:32.153Z"
   },
   {
    "duration": 11,
    "start_time": "2022-09-14T18:45:32.169Z"
   },
   {
    "duration": 10,
    "start_time": "2022-09-14T18:45:32.184Z"
   },
   {
    "duration": 55,
    "start_time": "2022-09-14T18:45:32.195Z"
   },
   {
    "duration": 5,
    "start_time": "2022-09-14T18:45:32.251Z"
   },
   {
    "duration": 6,
    "start_time": "2022-09-14T18:45:32.258Z"
   },
   {
    "duration": 24,
    "start_time": "2022-09-14T18:45:32.266Z"
   },
   {
    "duration": 26,
    "start_time": "2022-09-14T18:45:32.292Z"
   },
   {
    "duration": 3,
    "start_time": "2022-09-14T18:45:32.319Z"
   },
   {
    "duration": 14,
    "start_time": "2022-09-14T18:45:32.324Z"
   },
   {
    "duration": 6,
    "start_time": "2022-09-14T18:45:32.341Z"
   },
   {
    "duration": 12,
    "start_time": "2022-09-14T18:45:32.349Z"
   },
   {
    "duration": 266,
    "start_time": "2022-09-14T18:45:32.363Z"
   },
   {
    "duration": 6,
    "start_time": "2022-09-14T18:45:32.630Z"
   },
   {
    "duration": 283,
    "start_time": "2022-09-14T18:45:32.637Z"
   },
   {
    "duration": 182,
    "start_time": "2022-09-14T18:45:32.921Z"
   },
   {
    "duration": 10,
    "start_time": "2022-09-14T18:45:33.105Z"
   },
   {
    "duration": 266,
    "start_time": "2022-09-14T18:45:33.117Z"
   },
   {
    "duration": 6,
    "start_time": "2022-09-14T18:45:33.384Z"
   },
   {
    "duration": 188,
    "start_time": "2022-09-14T18:45:33.391Z"
   },
   {
    "duration": 312,
    "start_time": "2022-09-14T18:45:33.581Z"
   },
   {
    "duration": 137,
    "start_time": "2022-09-14T18:45:33.894Z"
   },
   {
    "duration": 133,
    "start_time": "2022-09-14T18:45:34.033Z"
   },
   {
    "duration": 11,
    "start_time": "2022-09-14T18:45:34.168Z"
   },
   {
    "duration": 147,
    "start_time": "2022-09-14T18:45:34.181Z"
   },
   {
    "duration": 142,
    "start_time": "2022-09-14T18:45:34.330Z"
   },
   {
    "duration": 4,
    "start_time": "2022-09-14T18:45:34.476Z"
   },
   {
    "duration": 385,
    "start_time": "2022-09-14T18:45:34.481Z"
   },
   {
    "duration": 20,
    "start_time": "2022-09-14T18:45:34.868Z"
   },
   {
    "duration": 10,
    "start_time": "2022-09-14T18:45:34.890Z"
   },
   {
    "duration": 14,
    "start_time": "2022-09-14T18:45:34.901Z"
   },
   {
    "duration": 7,
    "start_time": "2022-09-14T18:45:34.916Z"
   },
   {
    "duration": 18,
    "start_time": "2022-09-14T18:45:34.924Z"
   },
   {
    "duration": 34,
    "start_time": "2022-09-14T18:45:34.943Z"
   },
   {
    "duration": 1116,
    "start_time": "2022-09-14T18:53:47.376Z"
   },
   {
    "duration": 36,
    "start_time": "2022-09-14T18:53:48.494Z"
   },
   {
    "duration": 3,
    "start_time": "2022-09-14T18:53:48.531Z"
   },
   {
    "duration": 12,
    "start_time": "2022-09-14T18:53:48.536Z"
   },
   {
    "duration": 11,
    "start_time": "2022-09-14T18:53:48.550Z"
   },
   {
    "duration": 11,
    "start_time": "2022-09-14T18:53:48.562Z"
   },
   {
    "duration": 50,
    "start_time": "2022-09-14T18:53:48.576Z"
   },
   {
    "duration": 5,
    "start_time": "2022-09-14T18:53:48.627Z"
   },
   {
    "duration": 4,
    "start_time": "2022-09-14T18:53:48.634Z"
   },
   {
    "duration": 15,
    "start_time": "2022-09-14T18:53:48.639Z"
   },
   {
    "duration": 25,
    "start_time": "2022-09-14T18:53:48.655Z"
   },
   {
    "duration": 3,
    "start_time": "2022-09-14T18:53:48.682Z"
   },
   {
    "duration": 11,
    "start_time": "2022-09-14T18:53:48.686Z"
   },
   {
    "duration": 5,
    "start_time": "2022-09-14T18:53:48.700Z"
   },
   {
    "duration": 15,
    "start_time": "2022-09-14T18:53:48.706Z"
   },
   {
    "duration": 284,
    "start_time": "2022-09-14T18:53:48.723Z"
   },
   {
    "duration": 5,
    "start_time": "2022-09-14T18:53:49.009Z"
   },
   {
    "duration": 256,
    "start_time": "2022-09-14T18:53:49.015Z"
   },
   {
    "duration": 176,
    "start_time": "2022-09-14T18:53:49.272Z"
   },
   {
    "duration": 10,
    "start_time": "2022-09-14T18:53:49.450Z"
   },
   {
    "duration": 317,
    "start_time": "2022-09-14T18:53:49.462Z"
   },
   {
    "duration": 6,
    "start_time": "2022-09-14T18:53:49.781Z"
   },
   {
    "duration": 195,
    "start_time": "2022-09-14T18:53:49.789Z"
   },
   {
    "duration": 317,
    "start_time": "2022-09-14T18:53:49.985Z"
   },
   {
    "duration": 130,
    "start_time": "2022-09-14T18:53:50.303Z"
   },
   {
    "duration": 131,
    "start_time": "2022-09-14T18:53:50.434Z"
   },
   {
    "duration": 4,
    "start_time": "2022-09-14T18:53:50.567Z"
   },
   {
    "duration": 144,
    "start_time": "2022-09-14T18:53:50.572Z"
   },
   {
    "duration": 145,
    "start_time": "2022-09-14T18:53:50.717Z"
   },
   {
    "duration": 4,
    "start_time": "2022-09-14T18:53:50.863Z"
   },
   {
    "duration": 395,
    "start_time": "2022-09-14T18:53:50.869Z"
   },
   {
    "duration": 28,
    "start_time": "2022-09-14T18:53:51.266Z"
   },
   {
    "duration": 9,
    "start_time": "2022-09-14T18:53:51.295Z"
   },
   {
    "duration": 8,
    "start_time": "2022-09-14T18:53:51.306Z"
   },
   {
    "duration": 7,
    "start_time": "2022-09-14T18:53:51.315Z"
   },
   {
    "duration": 18,
    "start_time": "2022-09-14T18:53:51.323Z"
   },
   {
    "duration": 34,
    "start_time": "2022-09-14T18:53:51.343Z"
   },
   {
    "duration": 1158,
    "start_time": "2022-09-15T14:45:25.266Z"
   },
   {
    "duration": 41,
    "start_time": "2022-09-15T14:45:26.427Z"
   },
   {
    "duration": 2,
    "start_time": "2022-09-15T14:45:26.470Z"
   },
   {
    "duration": 16,
    "start_time": "2022-09-15T14:45:26.474Z"
   },
   {
    "duration": 15,
    "start_time": "2022-09-15T14:45:26.493Z"
   },
   {
    "duration": 14,
    "start_time": "2022-09-15T14:45:26.510Z"
   },
   {
    "duration": 62,
    "start_time": "2022-09-15T14:45:26.525Z"
   },
   {
    "duration": 5,
    "start_time": "2022-09-15T14:45:26.588Z"
   },
   {
    "duration": 7,
    "start_time": "2022-09-15T14:45:26.594Z"
   },
   {
    "duration": 18,
    "start_time": "2022-09-15T14:45:26.602Z"
   },
   {
    "duration": 27,
    "start_time": "2022-09-15T14:45:26.621Z"
   },
   {
    "duration": 3,
    "start_time": "2022-09-15T14:45:26.649Z"
   },
   {
    "duration": 26,
    "start_time": "2022-09-15T14:45:26.654Z"
   },
   {
    "duration": 8,
    "start_time": "2022-09-15T14:45:26.682Z"
   },
   {
    "duration": 12,
    "start_time": "2022-09-15T14:45:26.691Z"
   },
   {
    "duration": 273,
    "start_time": "2022-09-15T14:45:26.705Z"
   },
   {
    "duration": 6,
    "start_time": "2022-09-15T14:45:26.979Z"
   },
   {
    "duration": 283,
    "start_time": "2022-09-15T14:45:26.986Z"
   },
   {
    "duration": 212,
    "start_time": "2022-09-15T14:45:27.271Z"
   },
   {
    "duration": 12,
    "start_time": "2022-09-15T14:45:27.485Z"
   },
   {
    "duration": 294,
    "start_time": "2022-09-15T14:45:27.498Z"
   },
   {
    "duration": 5,
    "start_time": "2022-09-15T14:45:27.794Z"
   },
   {
    "duration": 213,
    "start_time": "2022-09-15T14:45:27.801Z"
   },
   {
    "duration": 338,
    "start_time": "2022-09-15T14:45:28.016Z"
   },
   {
    "duration": 130,
    "start_time": "2022-09-15T14:45:28.356Z"
   },
   {
    "duration": 134,
    "start_time": "2022-09-15T14:45:28.488Z"
   },
   {
    "duration": 4,
    "start_time": "2022-09-15T14:45:28.624Z"
   },
   {
    "duration": 151,
    "start_time": "2022-09-15T14:45:28.629Z"
   },
   {
    "duration": 155,
    "start_time": "2022-09-15T14:45:28.782Z"
   },
   {
    "duration": 11,
    "start_time": "2022-09-15T14:45:28.938Z"
   },
   {
    "duration": 398,
    "start_time": "2022-09-15T14:45:28.950Z"
   },
   {
    "duration": 21,
    "start_time": "2022-09-15T14:45:29.350Z"
   },
   {
    "duration": 9,
    "start_time": "2022-09-15T14:45:29.373Z"
   },
   {
    "duration": 9,
    "start_time": "2022-09-15T14:45:29.384Z"
   },
   {
    "duration": 13,
    "start_time": "2022-09-15T14:45:29.394Z"
   },
   {
    "duration": 44,
    "start_time": "2022-09-15T14:45:29.408Z"
   },
   {
    "duration": 13,
    "start_time": "2022-09-15T14:45:29.454Z"
   },
   {
    "duration": 46,
    "start_time": "2022-09-15T16:18:05.729Z"
   },
   {
    "duration": 1261,
    "start_time": "2022-09-15T16:18:14.399Z"
   },
   {
    "duration": 73,
    "start_time": "2022-09-15T16:18:15.662Z"
   },
   {
    "duration": 4,
    "start_time": "2022-09-15T16:18:15.737Z"
   },
   {
    "duration": 36,
    "start_time": "2022-09-15T16:18:15.743Z"
   },
   {
    "duration": 14,
    "start_time": "2022-09-15T16:18:15.782Z"
   },
   {
    "duration": 23,
    "start_time": "2022-09-15T16:18:15.797Z"
   },
   {
    "duration": 110,
    "start_time": "2022-09-15T16:18:15.821Z"
   },
   {
    "duration": 6,
    "start_time": "2022-09-15T16:18:15.933Z"
   },
   {
    "duration": 44,
    "start_time": "2022-09-15T16:18:15.940Z"
   },
   {
    "duration": 49,
    "start_time": "2022-09-15T16:18:15.986Z"
   },
   {
    "duration": 75,
    "start_time": "2022-09-15T16:18:16.036Z"
   },
   {
    "duration": 4,
    "start_time": "2022-09-15T16:18:16.113Z"
   },
   {
    "duration": 21,
    "start_time": "2022-09-15T16:18:16.119Z"
   },
   {
    "duration": 24,
    "start_time": "2022-09-15T16:18:16.144Z"
   },
   {
    "duration": 37,
    "start_time": "2022-09-15T16:18:16.170Z"
   },
   {
    "duration": 14,
    "start_time": "2022-09-15T16:18:16.209Z"
   },
   {
    "duration": 262,
    "start_time": "2022-09-15T16:18:16.224Z"
   },
   {
    "duration": 6,
    "start_time": "2022-09-15T16:18:16.487Z"
   },
   {
    "duration": 270,
    "start_time": "2022-09-15T16:18:16.495Z"
   },
   {
    "duration": 226,
    "start_time": "2022-09-15T16:18:16.767Z"
   },
   {
    "duration": 11,
    "start_time": "2022-09-15T16:18:16.995Z"
   },
   {
    "duration": 369,
    "start_time": "2022-09-15T16:18:17.008Z"
   },
   {
    "duration": 6,
    "start_time": "2022-09-15T16:18:17.378Z"
   },
   {
    "duration": 228,
    "start_time": "2022-09-15T16:18:17.385Z"
   },
   {
    "duration": 335,
    "start_time": "2022-09-15T16:18:17.615Z"
   },
   {
    "duration": 137,
    "start_time": "2022-09-15T16:18:17.952Z"
   },
   {
    "duration": 164,
    "start_time": "2022-09-15T16:18:18.090Z"
   },
   {
    "duration": 6,
    "start_time": "2022-09-15T16:18:18.256Z"
   },
   {
    "duration": 174,
    "start_time": "2022-09-15T16:18:18.264Z"
   },
   {
    "duration": 144,
    "start_time": "2022-09-15T16:18:18.440Z"
   },
   {
    "duration": 4,
    "start_time": "2022-09-15T16:18:18.586Z"
   },
   {
    "duration": 492,
    "start_time": "2022-09-15T16:18:18.591Z"
   },
   {
    "duration": 26,
    "start_time": "2022-09-15T16:18:19.085Z"
   },
   {
    "duration": 10,
    "start_time": "2022-09-15T16:18:19.122Z"
   },
   {
    "duration": 12,
    "start_time": "2022-09-15T16:18:19.133Z"
   },
   {
    "duration": 18,
    "start_time": "2022-09-15T16:18:19.146Z"
   },
   {
    "duration": 31,
    "start_time": "2022-09-15T16:18:19.166Z"
   },
   {
    "duration": 13,
    "start_time": "2022-09-15T16:18:19.199Z"
   },
   {
    "duration": 9,
    "start_time": "2022-09-15T16:21:27.753Z"
   },
   {
    "duration": 5,
    "start_time": "2022-09-15T16:21:42.976Z"
   },
   {
    "duration": 6,
    "start_time": "2022-09-15T16:22:25.527Z"
   },
   {
    "duration": 4,
    "start_time": "2022-09-15T16:22:44.336Z"
   },
   {
    "duration": 1081,
    "start_time": "2022-09-15T16:24:26.085Z"
   },
   {
    "duration": 36,
    "start_time": "2022-09-15T16:24:27.167Z"
   },
   {
    "duration": 2,
    "start_time": "2022-09-15T16:24:27.205Z"
   },
   {
    "duration": 27,
    "start_time": "2022-09-15T16:24:27.209Z"
   },
   {
    "duration": 36,
    "start_time": "2022-09-15T16:24:27.237Z"
   },
   {
    "duration": 31,
    "start_time": "2022-09-15T16:24:27.274Z"
   },
   {
    "duration": 67,
    "start_time": "2022-09-15T16:24:27.307Z"
   },
   {
    "duration": 5,
    "start_time": "2022-09-15T16:24:27.375Z"
   },
   {
    "duration": 47,
    "start_time": "2022-09-15T16:24:27.381Z"
   },
   {
    "duration": 26,
    "start_time": "2022-09-15T16:24:27.431Z"
   },
   {
    "duration": 43,
    "start_time": "2022-09-15T16:24:27.458Z"
   },
   {
    "duration": 3,
    "start_time": "2022-09-15T16:24:27.503Z"
   },
   {
    "duration": 36,
    "start_time": "2022-09-15T16:24:27.507Z"
   },
   {
    "duration": 13,
    "start_time": "2022-09-15T16:24:27.545Z"
   },
   {
    "duration": 25,
    "start_time": "2022-09-15T16:24:27.560Z"
   },
   {
    "duration": 15,
    "start_time": "2022-09-15T16:24:27.587Z"
   },
   {
    "duration": 22,
    "start_time": "2022-09-15T16:24:27.604Z"
   },
   {
    "duration": 276,
    "start_time": "2022-09-15T16:24:27.628Z"
   },
   {
    "duration": 6,
    "start_time": "2022-09-15T16:24:27.905Z"
   },
   {
    "duration": 253,
    "start_time": "2022-09-15T16:24:27.922Z"
   },
   {
    "duration": 199,
    "start_time": "2022-09-15T16:24:28.177Z"
   },
   {
    "duration": 11,
    "start_time": "2022-09-15T16:24:28.377Z"
   },
   {
    "duration": 320,
    "start_time": "2022-09-15T16:24:28.390Z"
   },
   {
    "duration": 14,
    "start_time": "2022-09-15T16:24:28.711Z"
   },
   {
    "duration": 225,
    "start_time": "2022-09-15T16:24:28.726Z"
   },
   {
    "duration": 305,
    "start_time": "2022-09-15T16:24:28.953Z"
   },
   {
    "duration": 162,
    "start_time": "2022-09-15T16:24:29.260Z"
   },
   {
    "duration": 132,
    "start_time": "2022-09-15T16:24:29.425Z"
   },
   {
    "duration": 6,
    "start_time": "2022-09-15T16:24:29.559Z"
   },
   {
    "duration": 158,
    "start_time": "2022-09-15T16:24:29.567Z"
   },
   {
    "duration": 150,
    "start_time": "2022-09-15T16:24:29.727Z"
   },
   {
    "duration": 5,
    "start_time": "2022-09-15T16:24:29.879Z"
   },
   {
    "duration": 407,
    "start_time": "2022-09-15T16:24:29.887Z"
   },
   {
    "duration": 27,
    "start_time": "2022-09-15T16:24:30.296Z"
   },
   {
    "duration": 15,
    "start_time": "2022-09-15T16:24:30.325Z"
   },
   {
    "duration": 30,
    "start_time": "2022-09-15T16:24:30.341Z"
   },
   {
    "duration": 49,
    "start_time": "2022-09-15T16:24:30.372Z"
   },
   {
    "duration": 63,
    "start_time": "2022-09-15T16:24:30.423Z"
   },
   {
    "duration": 19,
    "start_time": "2022-09-15T16:24:30.488Z"
   },
   {
    "duration": 1132,
    "start_time": "2022-09-15T16:28:16.318Z"
   },
   {
    "duration": 37,
    "start_time": "2022-09-15T16:28:17.451Z"
   },
   {
    "duration": 4,
    "start_time": "2022-09-15T16:28:17.489Z"
   },
   {
    "duration": 14,
    "start_time": "2022-09-15T16:28:17.494Z"
   },
   {
    "duration": 14,
    "start_time": "2022-09-15T16:28:17.510Z"
   },
   {
    "duration": 13,
    "start_time": "2022-09-15T16:28:17.526Z"
   },
   {
    "duration": 53,
    "start_time": "2022-09-15T16:28:17.541Z"
   },
   {
    "duration": 5,
    "start_time": "2022-09-15T16:28:17.595Z"
   },
   {
    "duration": 6,
    "start_time": "2022-09-15T16:28:17.601Z"
   },
   {
    "duration": 17,
    "start_time": "2022-09-15T16:28:17.608Z"
   },
   {
    "duration": 33,
    "start_time": "2022-09-15T16:28:17.626Z"
   },
   {
    "duration": 3,
    "start_time": "2022-09-15T16:28:17.661Z"
   },
   {
    "duration": 12,
    "start_time": "2022-09-15T16:28:17.666Z"
   },
   {
    "duration": 8,
    "start_time": "2022-09-15T16:28:17.681Z"
   },
   {
    "duration": 8,
    "start_time": "2022-09-15T16:28:17.691Z"
   },
   {
    "duration": 4,
    "start_time": "2022-09-15T16:28:17.701Z"
   },
   {
    "duration": 16,
    "start_time": "2022-09-15T16:28:17.707Z"
   },
   {
    "duration": 8,
    "start_time": "2022-09-15T16:28:17.724Z"
   },
   {
    "duration": 8,
    "start_time": "2022-09-15T16:28:17.733Z"
   },
   {
    "duration": 7,
    "start_time": "2022-09-15T16:28:17.743Z"
   },
   {
    "duration": 12,
    "start_time": "2022-09-15T16:28:17.752Z"
   },
   {
    "duration": 268,
    "start_time": "2022-09-15T16:28:17.766Z"
   },
   {
    "duration": 5,
    "start_time": "2022-09-15T16:28:18.036Z"
   },
   {
    "duration": 260,
    "start_time": "2022-09-15T16:28:18.042Z"
   },
   {
    "duration": 189,
    "start_time": "2022-09-15T16:28:18.303Z"
   },
   {
    "duration": 10,
    "start_time": "2022-09-15T16:28:18.493Z"
   },
   {
    "duration": 322,
    "start_time": "2022-09-15T16:28:18.505Z"
   },
   {
    "duration": 6,
    "start_time": "2022-09-15T16:28:18.829Z"
   },
   {
    "duration": 256,
    "start_time": "2022-09-15T16:28:18.836Z"
   },
   {
    "duration": 341,
    "start_time": "2022-09-15T16:28:19.094Z"
   },
   {
    "duration": 146,
    "start_time": "2022-09-15T16:28:19.437Z"
   },
   {
    "duration": 154,
    "start_time": "2022-09-15T16:28:19.585Z"
   },
   {
    "duration": 5,
    "start_time": "2022-09-15T16:28:19.741Z"
   },
   {
    "duration": 145,
    "start_time": "2022-09-15T16:28:19.748Z"
   },
   {
    "duration": 151,
    "start_time": "2022-09-15T16:28:19.895Z"
   },
   {
    "duration": 4,
    "start_time": "2022-09-15T16:28:20.047Z"
   },
   {
    "duration": 382,
    "start_time": "2022-09-15T16:28:20.053Z"
   },
   {
    "duration": 21,
    "start_time": "2022-09-15T16:28:20.436Z"
   },
   {
    "duration": 8,
    "start_time": "2022-09-15T16:28:20.458Z"
   },
   {
    "duration": 7,
    "start_time": "2022-09-15T16:28:20.468Z"
   },
   {
    "duration": 7,
    "start_time": "2022-09-15T16:28:20.478Z"
   },
   {
    "duration": 46,
    "start_time": "2022-09-15T16:28:20.486Z"
   },
   {
    "duration": 12,
    "start_time": "2022-09-15T16:28:20.533Z"
   },
   {
    "duration": 136,
    "start_time": "2022-09-15T16:33:21.814Z"
   },
   {
    "duration": 136,
    "start_time": "2022-09-15T16:33:34.984Z"
   },
   {
    "duration": 7,
    "start_time": "2022-09-15T16:44:35.166Z"
   },
   {
    "duration": 8,
    "start_time": "2022-09-15T16:44:45.184Z"
   },
   {
    "duration": 7,
    "start_time": "2022-09-15T16:45:17.829Z"
   },
   {
    "duration": 107,
    "start_time": "2022-09-15T16:47:41.087Z"
   },
   {
    "duration": 8,
    "start_time": "2022-09-15T16:47:51.630Z"
   },
   {
    "duration": 6,
    "start_time": "2022-09-15T16:48:18.600Z"
   },
   {
    "duration": 54,
    "start_time": "2022-09-15T16:51:42.887Z"
   },
   {
    "duration": 8,
    "start_time": "2022-09-15T16:52:03.708Z"
   },
   {
    "duration": 1033,
    "start_time": "2022-09-15T16:58:12.127Z"
   },
   {
    "duration": 35,
    "start_time": "2022-09-15T16:58:13.162Z"
   },
   {
    "duration": 3,
    "start_time": "2022-09-15T16:58:13.198Z"
   },
   {
    "duration": 36,
    "start_time": "2022-09-15T16:58:13.202Z"
   },
   {
    "duration": 29,
    "start_time": "2022-09-15T16:58:13.239Z"
   },
   {
    "duration": 29,
    "start_time": "2022-09-15T16:58:13.269Z"
   },
   {
    "duration": 63,
    "start_time": "2022-09-15T16:58:13.299Z"
   },
   {
    "duration": 5,
    "start_time": "2022-09-15T16:58:13.363Z"
   },
   {
    "duration": 35,
    "start_time": "2022-09-15T16:58:13.369Z"
   },
   {
    "duration": 17,
    "start_time": "2022-09-15T16:58:13.406Z"
   },
   {
    "duration": 24,
    "start_time": "2022-09-15T16:58:13.425Z"
   },
   {
    "duration": 3,
    "start_time": "2022-09-15T16:58:13.451Z"
   },
   {
    "duration": 11,
    "start_time": "2022-09-15T16:58:13.455Z"
   },
   {
    "duration": 7,
    "start_time": "2022-09-15T16:58:13.467Z"
   },
   {
    "duration": 12,
    "start_time": "2022-09-15T16:58:13.476Z"
   },
   {
    "duration": 10,
    "start_time": "2022-09-15T16:58:13.489Z"
   },
   {
    "duration": 101,
    "start_time": "2022-09-15T16:58:13.500Z"
   },
   {
    "duration": 0,
    "start_time": "2022-09-15T16:58:13.602Z"
   },
   {
    "duration": 0,
    "start_time": "2022-09-15T16:58:13.604Z"
   },
   {
    "duration": 0,
    "start_time": "2022-09-15T16:58:13.604Z"
   },
   {
    "duration": 0,
    "start_time": "2022-09-15T16:58:13.605Z"
   },
   {
    "duration": 0,
    "start_time": "2022-09-15T16:58:13.606Z"
   },
   {
    "duration": 0,
    "start_time": "2022-09-15T16:58:13.607Z"
   },
   {
    "duration": 0,
    "start_time": "2022-09-15T16:58:13.608Z"
   },
   {
    "duration": 0,
    "start_time": "2022-09-15T16:58:13.622Z"
   },
   {
    "duration": 0,
    "start_time": "2022-09-15T16:58:13.623Z"
   },
   {
    "duration": 0,
    "start_time": "2022-09-15T16:58:13.624Z"
   },
   {
    "duration": 0,
    "start_time": "2022-09-15T16:58:13.625Z"
   },
   {
    "duration": 0,
    "start_time": "2022-09-15T16:58:13.626Z"
   },
   {
    "duration": 0,
    "start_time": "2022-09-15T16:58:13.627Z"
   },
   {
    "duration": 0,
    "start_time": "2022-09-15T16:58:13.628Z"
   },
   {
    "duration": 0,
    "start_time": "2022-09-15T16:58:13.628Z"
   },
   {
    "duration": 0,
    "start_time": "2022-09-15T16:58:13.629Z"
   },
   {
    "duration": 0,
    "start_time": "2022-09-15T16:58:13.630Z"
   },
   {
    "duration": 0,
    "start_time": "2022-09-15T16:58:13.631Z"
   },
   {
    "duration": 0,
    "start_time": "2022-09-15T16:58:13.632Z"
   },
   {
    "duration": 0,
    "start_time": "2022-09-15T16:58:13.633Z"
   },
   {
    "duration": 0,
    "start_time": "2022-09-15T16:58:13.635Z"
   },
   {
    "duration": 0,
    "start_time": "2022-09-15T16:58:13.636Z"
   },
   {
    "duration": 0,
    "start_time": "2022-09-15T16:58:13.637Z"
   },
   {
    "duration": 0,
    "start_time": "2022-09-15T16:58:13.639Z"
   },
   {
    "duration": 0,
    "start_time": "2022-09-15T16:58:13.640Z"
   },
   {
    "duration": 1085,
    "start_time": "2022-09-15T16:58:43.653Z"
   },
   {
    "duration": 35,
    "start_time": "2022-09-15T16:58:44.740Z"
   },
   {
    "duration": 3,
    "start_time": "2022-09-15T16:58:44.778Z"
   },
   {
    "duration": 22,
    "start_time": "2022-09-15T16:58:44.783Z"
   },
   {
    "duration": 17,
    "start_time": "2022-09-15T16:58:44.806Z"
   },
   {
    "duration": 13,
    "start_time": "2022-09-15T16:58:44.825Z"
   },
   {
    "duration": 50,
    "start_time": "2022-09-15T16:58:44.840Z"
   },
   {
    "duration": 4,
    "start_time": "2022-09-15T16:58:44.892Z"
   },
   {
    "duration": 5,
    "start_time": "2022-09-15T16:58:44.898Z"
   },
   {
    "duration": 20,
    "start_time": "2022-09-15T16:58:44.907Z"
   },
   {
    "duration": 26,
    "start_time": "2022-09-15T16:58:44.928Z"
   },
   {
    "duration": 3,
    "start_time": "2022-09-15T16:58:44.955Z"
   },
   {
    "duration": 12,
    "start_time": "2022-09-15T16:58:44.960Z"
   },
   {
    "duration": 6,
    "start_time": "2022-09-15T16:58:44.973Z"
   },
   {
    "duration": 9,
    "start_time": "2022-09-15T16:58:44.981Z"
   },
   {
    "duration": 9,
    "start_time": "2022-09-15T16:58:44.991Z"
   },
   {
    "duration": 25,
    "start_time": "2022-09-15T16:58:45.001Z"
   },
   {
    "duration": 9,
    "start_time": "2022-09-15T16:58:45.028Z"
   },
   {
    "duration": 6,
    "start_time": "2022-09-15T16:58:45.038Z"
   },
   {
    "duration": 11,
    "start_time": "2022-09-15T16:58:45.045Z"
   },
   {
    "duration": 277,
    "start_time": "2022-09-15T16:58:45.058Z"
   },
   {
    "duration": 6,
    "start_time": "2022-09-15T16:58:45.337Z"
   },
   {
    "duration": 258,
    "start_time": "2022-09-15T16:58:45.344Z"
   },
   {
    "duration": 212,
    "start_time": "2022-09-15T16:58:45.603Z"
   },
   {
    "duration": 12,
    "start_time": "2022-09-15T16:58:45.817Z"
   },
   {
    "duration": 277,
    "start_time": "2022-09-15T16:58:45.831Z"
   },
   {
    "duration": 12,
    "start_time": "2022-09-15T16:58:46.110Z"
   },
   {
    "duration": 189,
    "start_time": "2022-09-15T16:58:46.125Z"
   },
   {
    "duration": 311,
    "start_time": "2022-09-15T16:58:46.322Z"
   },
   {
    "duration": 124,
    "start_time": "2022-09-15T16:58:46.634Z"
   },
   {
    "duration": 146,
    "start_time": "2022-09-15T16:58:46.760Z"
   },
   {
    "duration": 15,
    "start_time": "2022-09-15T16:58:46.908Z"
   },
   {
    "duration": 153,
    "start_time": "2022-09-15T16:58:46.924Z"
   },
   {
    "duration": 145,
    "start_time": "2022-09-15T16:58:47.079Z"
   },
   {
    "duration": 4,
    "start_time": "2022-09-15T16:58:47.225Z"
   },
   {
    "duration": 410,
    "start_time": "2022-09-15T16:58:47.231Z"
   },
   {
    "duration": 21,
    "start_time": "2022-09-15T16:58:47.642Z"
   },
   {
    "duration": 9,
    "start_time": "2022-09-15T16:58:47.665Z"
   },
   {
    "duration": 14,
    "start_time": "2022-09-15T16:58:47.675Z"
   },
   {
    "duration": 10,
    "start_time": "2022-09-15T16:58:47.690Z"
   },
   {
    "duration": 34,
    "start_time": "2022-09-15T16:58:47.702Z"
   },
   {
    "duration": 13,
    "start_time": "2022-09-15T16:58:47.737Z"
   },
   {
    "duration": 3,
    "start_time": "2022-09-15T17:01:26.808Z"
   },
   {
    "duration": 7,
    "start_time": "2022-09-15T17:04:46.162Z"
   },
   {
    "duration": 124,
    "start_time": "2022-09-15T17:05:39.984Z"
   },
   {
    "duration": 8,
    "start_time": "2022-09-15T17:05:53.133Z"
   },
   {
    "duration": 203,
    "start_time": "2022-09-15T17:23:03.340Z"
   },
   {
    "duration": 189,
    "start_time": "2022-09-15T17:23:11.734Z"
   },
   {
    "duration": 1122,
    "start_time": "2022-09-15T17:30:32.118Z"
   },
   {
    "duration": 34,
    "start_time": "2022-09-15T17:30:33.242Z"
   },
   {
    "duration": 3,
    "start_time": "2022-09-15T17:30:33.278Z"
   },
   {
    "duration": 12,
    "start_time": "2022-09-15T17:30:33.282Z"
   },
   {
    "duration": 11,
    "start_time": "2022-09-15T17:30:33.297Z"
   },
   {
    "duration": 16,
    "start_time": "2022-09-15T17:30:33.310Z"
   },
   {
    "duration": 63,
    "start_time": "2022-09-15T17:30:33.328Z"
   },
   {
    "duration": 5,
    "start_time": "2022-09-15T17:30:33.392Z"
   },
   {
    "duration": 20,
    "start_time": "2022-09-15T17:30:33.398Z"
   },
   {
    "duration": 29,
    "start_time": "2022-09-15T17:30:33.419Z"
   },
   {
    "duration": 29,
    "start_time": "2022-09-15T17:30:33.450Z"
   },
   {
    "duration": 3,
    "start_time": "2022-09-15T17:30:33.481Z"
   },
   {
    "duration": 12,
    "start_time": "2022-09-15T17:30:33.486Z"
   },
   {
    "duration": 6,
    "start_time": "2022-09-15T17:30:33.501Z"
   },
   {
    "duration": 8,
    "start_time": "2022-09-15T17:30:33.508Z"
   },
   {
    "duration": 12,
    "start_time": "2022-09-15T17:30:33.522Z"
   },
   {
    "duration": 9,
    "start_time": "2022-09-15T17:30:33.535Z"
   },
   {
    "duration": 14,
    "start_time": "2022-09-15T17:30:33.545Z"
   },
   {
    "duration": 6,
    "start_time": "2022-09-15T17:30:33.560Z"
   },
   {
    "duration": 12,
    "start_time": "2022-09-15T17:30:33.567Z"
   },
   {
    "duration": 297,
    "start_time": "2022-09-15T17:30:33.580Z"
   },
   {
    "duration": 5,
    "start_time": "2022-09-15T17:30:33.879Z"
   },
   {
    "duration": 291,
    "start_time": "2022-09-15T17:30:33.886Z"
   },
   {
    "duration": 201,
    "start_time": "2022-09-15T17:30:34.179Z"
   },
   {
    "duration": 10,
    "start_time": "2022-09-15T17:30:34.382Z"
   },
   {
    "duration": 329,
    "start_time": "2022-09-15T17:30:34.393Z"
   },
   {
    "duration": 12,
    "start_time": "2022-09-15T17:30:34.724Z"
   },
   {
    "duration": 217,
    "start_time": "2022-09-15T17:30:34.738Z"
   },
   {
    "duration": 313,
    "start_time": "2022-09-15T17:30:34.956Z"
   },
   {
    "duration": 132,
    "start_time": "2022-09-15T17:30:35.271Z"
   },
   {
    "duration": 162,
    "start_time": "2022-09-15T17:30:35.404Z"
   },
   {
    "duration": 5,
    "start_time": "2022-09-15T17:30:35.568Z"
   },
   {
    "duration": 164,
    "start_time": "2022-09-15T17:30:35.574Z"
   },
   {
    "duration": 145,
    "start_time": "2022-09-15T17:30:35.740Z"
   },
   {
    "duration": 4,
    "start_time": "2022-09-15T17:30:35.886Z"
   },
   {
    "duration": 408,
    "start_time": "2022-09-15T17:30:35.891Z"
   },
   {
    "duration": 24,
    "start_time": "2022-09-15T17:30:36.300Z"
   },
   {
    "duration": 13,
    "start_time": "2022-09-15T17:30:36.326Z"
   },
   {
    "duration": 10,
    "start_time": "2022-09-15T17:30:36.341Z"
   },
   {
    "duration": 7,
    "start_time": "2022-09-15T17:30:36.352Z"
   },
   {
    "duration": 21,
    "start_time": "2022-09-15T17:30:36.362Z"
   },
   {
    "duration": 39,
    "start_time": "2022-09-15T17:30:36.384Z"
   },
   {
    "duration": 8,
    "start_time": "2022-09-15T17:47:19.106Z"
   },
   {
    "duration": 7,
    "start_time": "2022-09-15T17:47:25.390Z"
   },
   {
    "duration": 23,
    "start_time": "2022-09-15T17:47:36.729Z"
   },
   {
    "duration": 12,
    "start_time": "2022-09-15T17:48:10.515Z"
   },
   {
    "duration": 1049,
    "start_time": "2022-09-15T17:49:24.722Z"
   },
   {
    "duration": 35,
    "start_time": "2022-09-15T17:49:25.773Z"
   },
   {
    "duration": 2,
    "start_time": "2022-09-15T17:49:25.810Z"
   },
   {
    "duration": 11,
    "start_time": "2022-09-15T17:49:25.815Z"
   },
   {
    "duration": 11,
    "start_time": "2022-09-15T17:49:25.828Z"
   },
   {
    "duration": 11,
    "start_time": "2022-09-15T17:49:25.841Z"
   },
   {
    "duration": 54,
    "start_time": "2022-09-15T17:49:25.853Z"
   },
   {
    "duration": 4,
    "start_time": "2022-09-15T17:49:25.908Z"
   },
   {
    "duration": 6,
    "start_time": "2022-09-15T17:49:25.914Z"
   },
   {
    "duration": 15,
    "start_time": "2022-09-15T17:49:25.922Z"
   },
   {
    "duration": 26,
    "start_time": "2022-09-15T17:49:25.939Z"
   },
   {
    "duration": 4,
    "start_time": "2022-09-15T17:49:25.966Z"
   },
   {
    "duration": 13,
    "start_time": "2022-09-15T17:49:25.971Z"
   },
   {
    "duration": 7,
    "start_time": "2022-09-15T17:49:25.986Z"
   },
   {
    "duration": 8,
    "start_time": "2022-09-15T17:49:25.994Z"
   },
   {
    "duration": 10,
    "start_time": "2022-09-15T17:49:26.022Z"
   },
   {
    "duration": 6,
    "start_time": "2022-09-15T17:49:26.033Z"
   },
   {
    "duration": 8,
    "start_time": "2022-09-15T17:49:26.041Z"
   },
   {
    "duration": 4,
    "start_time": "2022-09-15T17:49:26.051Z"
   },
   {
    "duration": 11,
    "start_time": "2022-09-15T17:49:26.057Z"
   },
   {
    "duration": 287,
    "start_time": "2022-09-15T17:49:26.070Z"
   },
   {
    "duration": 6,
    "start_time": "2022-09-15T17:49:26.358Z"
   },
   {
    "duration": 266,
    "start_time": "2022-09-15T17:49:26.365Z"
   },
   {
    "duration": 192,
    "start_time": "2022-09-15T17:49:26.633Z"
   },
   {
    "duration": 11,
    "start_time": "2022-09-15T17:49:26.827Z"
   },
   {
    "duration": 284,
    "start_time": "2022-09-15T17:49:26.840Z"
   },
   {
    "duration": 6,
    "start_time": "2022-09-15T17:49:27.125Z"
   },
   {
    "duration": 202,
    "start_time": "2022-09-15T17:49:27.134Z"
   },
   {
    "duration": 320,
    "start_time": "2022-09-15T17:49:27.338Z"
   },
   {
    "duration": 117,
    "start_time": "2022-09-15T17:49:27.660Z"
   },
   {
    "duration": 144,
    "start_time": "2022-09-15T17:49:27.779Z"
   },
   {
    "duration": 4,
    "start_time": "2022-09-15T17:49:27.925Z"
   },
   {
    "duration": 149,
    "start_time": "2022-09-15T17:49:27.930Z"
   },
   {
    "duration": 138,
    "start_time": "2022-09-15T17:49:28.080Z"
   },
   {
    "duration": 4,
    "start_time": "2022-09-15T17:49:28.222Z"
   },
   {
    "duration": 377,
    "start_time": "2022-09-15T17:49:28.228Z"
   },
   {
    "duration": 23,
    "start_time": "2022-09-15T17:49:28.606Z"
   },
   {
    "duration": 10,
    "start_time": "2022-09-15T17:49:28.630Z"
   },
   {
    "duration": 11,
    "start_time": "2022-09-15T17:49:28.641Z"
   },
   {
    "duration": 11,
    "start_time": "2022-09-15T17:49:28.653Z"
   },
   {
    "duration": 23,
    "start_time": "2022-09-15T17:49:28.665Z"
   },
   {
    "duration": 13,
    "start_time": "2022-09-15T17:49:28.689Z"
   },
   {
    "duration": 1183,
    "start_time": "2022-09-16T09:34:02.316Z"
   },
   {
    "duration": 38,
    "start_time": "2022-09-16T09:34:03.501Z"
   },
   {
    "duration": 3,
    "start_time": "2022-09-16T09:34:03.541Z"
   },
   {
    "duration": 22,
    "start_time": "2022-09-16T09:34:03.546Z"
   },
   {
    "duration": 14,
    "start_time": "2022-09-16T09:34:03.570Z"
   },
   {
    "duration": 17,
    "start_time": "2022-09-16T09:34:03.586Z"
   },
   {
    "duration": 58,
    "start_time": "2022-09-16T09:34:03.621Z"
   },
   {
    "duration": 6,
    "start_time": "2022-09-16T09:34:03.681Z"
   },
   {
    "duration": 5,
    "start_time": "2022-09-16T09:34:03.690Z"
   },
   {
    "duration": 27,
    "start_time": "2022-09-16T09:34:03.700Z"
   },
   {
    "duration": 36,
    "start_time": "2022-09-16T09:34:03.729Z"
   },
   {
    "duration": 5,
    "start_time": "2022-09-16T09:34:03.767Z"
   },
   {
    "duration": 15,
    "start_time": "2022-09-16T09:34:03.774Z"
   },
   {
    "duration": 13,
    "start_time": "2022-09-16T09:34:03.791Z"
   },
   {
    "duration": 20,
    "start_time": "2022-09-16T09:34:03.820Z"
   },
   {
    "duration": 12,
    "start_time": "2022-09-16T09:34:03.843Z"
   },
   {
    "duration": 13,
    "start_time": "2022-09-16T09:34:03.857Z"
   },
   {
    "duration": 10,
    "start_time": "2022-09-16T09:34:03.872Z"
   },
   {
    "duration": 5,
    "start_time": "2022-09-16T09:34:03.884Z"
   },
   {
    "duration": 26,
    "start_time": "2022-09-16T09:34:03.891Z"
   },
   {
    "duration": 316,
    "start_time": "2022-09-16T09:34:03.919Z"
   },
   {
    "duration": 8,
    "start_time": "2022-09-16T09:34:04.237Z"
   },
   {
    "duration": 318,
    "start_time": "2022-09-16T09:34:04.247Z"
   },
   {
    "duration": 243,
    "start_time": "2022-09-16T09:34:04.567Z"
   },
   {
    "duration": 16,
    "start_time": "2022-09-16T09:34:04.819Z"
   },
   {
    "duration": 300,
    "start_time": "2022-09-16T09:34:04.838Z"
   },
   {
    "duration": 7,
    "start_time": "2022-09-16T09:34:05.139Z"
   },
   {
    "duration": 245,
    "start_time": "2022-09-16T09:34:05.152Z"
   },
   {
    "duration": 366,
    "start_time": "2022-09-16T09:34:05.399Z"
   },
   {
    "duration": 170,
    "start_time": "2022-09-16T09:34:05.767Z"
   },
   {
    "duration": 206,
    "start_time": "2022-09-16T09:34:05.939Z"
   },
   {
    "duration": 4,
    "start_time": "2022-09-16T09:34:06.147Z"
   },
   {
    "duration": 171,
    "start_time": "2022-09-16T09:34:06.153Z"
   },
   {
    "duration": 178,
    "start_time": "2022-09-16T09:34:06.326Z"
   },
   {
    "duration": 15,
    "start_time": "2022-09-16T09:34:06.505Z"
   },
   {
    "duration": 455,
    "start_time": "2022-09-16T09:34:06.522Z"
   },
   {
    "duration": 25,
    "start_time": "2022-09-16T09:34:06.979Z"
   },
   {
    "duration": 23,
    "start_time": "2022-09-16T09:34:07.006Z"
   },
   {
    "duration": 13,
    "start_time": "2022-09-16T09:34:07.031Z"
   },
   {
    "duration": 11,
    "start_time": "2022-09-16T09:34:07.046Z"
   },
   {
    "duration": 28,
    "start_time": "2022-09-16T09:34:07.059Z"
   },
   {
    "duration": 38,
    "start_time": "2022-09-16T09:34:07.089Z"
   }
  ],
  "kernelspec": {
   "display_name": "Python 3 (ipykernel)",
   "language": "python",
   "name": "python3"
  },
  "language_info": {
   "codemirror_mode": {
    "name": "ipython",
    "version": 3
   },
   "file_extension": ".py",
   "mimetype": "text/x-python",
   "name": "python",
   "nbconvert_exporter": "python",
   "pygments_lexer": "ipython3",
   "version": "3.9.5"
  },
  "toc": {
   "base_numbering": 1,
   "nav_menu": {},
   "number_sections": true,
   "sideBar": true,
   "skip_h1_title": true,
   "title_cell": "Table of Contents",
   "title_sidebar": "Contents",
   "toc_cell": false,
   "toc_position": {
    "height": "calc(100% - 180px)",
    "left": "10px",
    "top": "150px",
    "width": "165px"
   },
   "toc_section_display": true,
   "toc_window_display": false
  }
 },
 "nbformat": 4,
 "nbformat_minor": 2
}
