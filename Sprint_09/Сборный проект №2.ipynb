{
 "cells": [
  {
   "cell_type": "markdown",
   "metadata": {},
   "source": [
    "<div class=\"alert alert-success\">\n",
    "  <b> ✔️Комментарий ревьюера ✔️</b>\n",
    "\n",
    "Привет, Ольга! Меня зовут Михаил Майоров, я буду проверять твой проект. Предлагаю общаться на 'ты' :)\n",
    "Однако, если это неудобно - сообщи, и мы перейдем на 'Вы'. Моя главная цель —  поделиться с тобой своим опытом и помочь тебе стать аналитиком данных, а не только указать на совершенные тобой ошибки.\n",
    "\n",
    "Видно, что к проету приложен большой труд. Все ключевые этапы в работе выполнены, статистическое исследование проведено качественно. Так что в целом справиться с задачей тебе удалось.\n",
    "\n",
    "Есть несколько аспектов, которые **требуют** твоего **внимания**. Комментарии по ним помечены красным цветом и символами ❌. После их доработки проект будет принят, осталось совсем немного :) \n",
    "    \n",
    "\n",
    "Давай работать над проектом в диалоге: если **ты что-то меняешь** в проекте по моим рекомендациям — **пиши об этом**. Мне будет легче отследить изменения, если ты будешь использовать синюю форму, которую я прикреплю ниже. Пожалуйста, **не перемещай, не изменяй и не удаляй мои комментарии**. Всё это поможет выполнить повторную проверку твоего проекта оперативнее. \n",
    "\n",
    "\n",
    "\n",
    "Жду проект на повторное ревью. Успехов в изучении!\n",
    "\n",
    "\n",
    "\n",
    "</div>\n",
    "<div class=\"alert alert-block alert-danger\"> <b>❌ Комментарий ревьюера ❌</b> \n",
    "    Так я выделяю моменты, которые требуют особого внимания. Нужно будет учесть их и внести корректировки в свою работу. </div>\n",
    "<div class=\"alert alert-block alert-warning\"> <b>⚠️ Комментарий ревьюера ⚠️</b> \n",
    "    Желтым я отмечу рекомендации, которые, могут быть полезными при твоей работе. Они носят рекомендационный характер, но будет классно, если ты будешь учитывать их при работе.</div>\n",
    "<div class=\"alert alert-block alert-success\"> <b>✔️ Комментарий ревьюера ✔️</b>\n",
    "    Так я выделяю удачные и элегантные решения, на которые можно опираться в будущих проектах.</div>\n",
    "<div class=\"alert alert-block alert-info\">\n",
    "    \n",
    "А в таком блоке ты можешь оставить комментарии для меня \n",
    "    \n",
    "</div>"
   ]
  },
  {
   "cell_type": "markdown",
   "metadata": {},
   "source": [
    "# Описание проекта"
   ]
  },
  {
   "cell_type": "markdown",
   "metadata": {},
   "source": [
    "Вы работаете в стартапе, который продаёт продукты питания. Нужно разобраться, как ведут себя пользователи вашего мобильного приложения.\n",
    "Изучите воронку продаж. Узнайте, как пользователи доходят до покупки. Сколько пользователей доходит до покупки, а сколько — «застревает» на предыдущих шагах? На каких именно?\n",
    "После этого исследуйте результаты A/A/B-эксперимента. Дизайнеры захотели поменять шрифты во всём приложении, а менеджеры испугались, что пользователям будет непривычно. Договорились принять решение по результатам A/A/B-теста. Пользователей разбили на 3 группы: 2 контрольные со старыми шрифтами и одну экспериментальную — с новыми. Выясните, какой шрифт лучше."
   ]
  },
  {
   "cell_type": "markdown",
   "metadata": {},
   "source": [
    "Цели исследования:\n",
    "\n",
    "- Найти шаги, на которых происходит потеря пользователей для дальнейшего выявления причин.\n",
    "- Принять решение о смене шрифта на основании результатов A/A/B-теста.\n",
    "\n",
    "План исследования:\n",
    "\n",
    "- Шаг 1. Знакомство с данными\n",
    "- Шаг 2. Подготовка данных к анализу\n",
    "- Шаг 3. Изучение данных\n",
    "- Шаг 4. Изучение воронки событий\n",
    "- Шаг 5. Изучение результатов эксперимента\n",
    "- Шаг 6. Общий вывод"
   ]
  },
  {
   "cell_type": "markdown",
   "metadata": {},
   "source": [
    "<div class=\"alert alert-info\"> <b>Комментарий студента:</b> Ревьюер, привет! Признаюсь честно - это было нелегко на фоне происходящих событий вокруг, но я очень старалась не падать духом и довести эту работу до конца. Буду очень признательна, если в тех моментах, где я могла бы сделать лучше, ты дашь мне совет на будущее. Не уверена, что будет время править замечания, но если так, то штош. Надеюсь, что у тебя всё хорошо. Спасибо! </div>"
   ]
  },
  {
   "cell_type": "markdown",
   "metadata": {},
   "source": [
    "<div class=\"alert alert-success\">\n",
    "\n",
    "**✔️ Комментарий ревьюера ✔️**\n",
    "   \n",
    "   Очень хорошее введение в проект. Оно будет полезным, когда соберешь большое портфолио и в какой-то момент решишь освежить проект в памяти.\n",
    "\n",
    "</div>\n"
   ]
  },
  {
   "cell_type": "markdown",
   "metadata": {},
   "source": [
    "## Откроем файл с данными и изучим общую информацию"
   ]
  },
  {
   "cell_type": "code",
   "execution_count": 1,
   "metadata": {},
   "outputs": [],
   "source": [
    "# подгружаем необходимые библиотеки\n",
    "import pandas as pd\n",
    "import datetime as dt\n",
    "import numpy as np\n",
    "import matplotlib.pyplot as plt\n",
    "import plotly.express as px\n",
    "import seaborn as sns\n",
    "from scipy import stats as st\n",
    "import math as mth\n",
    "from plotly import graph_objects as go"
   ]
  },
  {
   "cell_type": "code",
   "execution_count": 2,
   "metadata": {},
   "outputs": [],
   "source": [
    "# импорт датасета\n",
    "df = pd.read_csv('/datasets/logs_exp.csv', sep = '\\t')"
   ]
  },
  {
   "cell_type": "code",
   "execution_count": 3,
   "metadata": {},
   "outputs": [],
   "source": [
    "# функция для получения первичной информации\n",
    "def helicopter_view(df):\n",
    "    print ('Первые 5 строк')\n",
    "    print(df.head())\n",
    "    print ('Общая информация')\n",
    "    display(df.info()) # общая информация\n",
    "    print ('Пропуски')\n",
    "    display(df.isnull().sum()) # пропуски в данных\n",
    "    print ('Столбцы')\n",
    "    display(df.columns) # названия столбцов\n",
    "    print ('Статистические данные')\n",
    "    display(df.describe()) \n",
    "    print(f'Количество дубликатов: {df.duplicated().sum()}') # дубликаты"
   ]
  },
  {
   "cell_type": "code",
   "execution_count": 4,
   "metadata": {},
   "outputs": [
    {
     "name": "stdout",
     "output_type": "stream",
     "text": [
      "Первые 5 строк\n",
      "                 EventName         DeviceIDHash  EventTimestamp  ExpId\n",
      "0         MainScreenAppear  4575588528974610257      1564029816    246\n",
      "1         MainScreenAppear  7416695313311560658      1564053102    246\n",
      "2  PaymentScreenSuccessful  3518123091307005509      1564054127    248\n",
      "3         CartScreenAppear  3518123091307005509      1564054127    248\n",
      "4  PaymentScreenSuccessful  6217807653094995999      1564055322    248\n",
      "Общая информация\n",
      "<class 'pandas.core.frame.DataFrame'>\n",
      "RangeIndex: 244126 entries, 0 to 244125\n",
      "Data columns (total 4 columns):\n",
      " #   Column          Non-Null Count   Dtype \n",
      "---  ------          --------------   ----- \n",
      " 0   EventName       244126 non-null  object\n",
      " 1   DeviceIDHash    244126 non-null  int64 \n",
      " 2   EventTimestamp  244126 non-null  int64 \n",
      " 3   ExpId           244126 non-null  int64 \n",
      "dtypes: int64(3), object(1)\n",
      "memory usage: 7.5+ MB\n"
     ]
    },
    {
     "data": {
      "text/plain": [
       "None"
      ]
     },
     "metadata": {},
     "output_type": "display_data"
    },
    {
     "name": "stdout",
     "output_type": "stream",
     "text": [
      "Пропуски\n"
     ]
    },
    {
     "data": {
      "text/plain": [
       "EventName         0\n",
       "DeviceIDHash      0\n",
       "EventTimestamp    0\n",
       "ExpId             0\n",
       "dtype: int64"
      ]
     },
     "metadata": {},
     "output_type": "display_data"
    },
    {
     "name": "stdout",
     "output_type": "stream",
     "text": [
      "Столбцы\n"
     ]
    },
    {
     "data": {
      "text/plain": [
       "Index(['EventName', 'DeviceIDHash', 'EventTimestamp', 'ExpId'], dtype='object')"
      ]
     },
     "metadata": {},
     "output_type": "display_data"
    },
    {
     "name": "stdout",
     "output_type": "stream",
     "text": [
      "Статистические данные\n"
     ]
    },
    {
     "data": {
      "text/html": [
       "<div>\n",
       "<style scoped>\n",
       "    .dataframe tbody tr th:only-of-type {\n",
       "        vertical-align: middle;\n",
       "    }\n",
       "\n",
       "    .dataframe tbody tr th {\n",
       "        vertical-align: top;\n",
       "    }\n",
       "\n",
       "    .dataframe thead th {\n",
       "        text-align: right;\n",
       "    }\n",
       "</style>\n",
       "<table border=\"1\" class=\"dataframe\">\n",
       "  <thead>\n",
       "    <tr style=\"text-align: right;\">\n",
       "      <th></th>\n",
       "      <th>DeviceIDHash</th>\n",
       "      <th>EventTimestamp</th>\n",
       "      <th>ExpId</th>\n",
       "    </tr>\n",
       "  </thead>\n",
       "  <tbody>\n",
       "    <tr>\n",
       "      <th>count</th>\n",
       "      <td>2.441260e+05</td>\n",
       "      <td>2.441260e+05</td>\n",
       "      <td>244126.000000</td>\n",
       "    </tr>\n",
       "    <tr>\n",
       "      <th>mean</th>\n",
       "      <td>4.627568e+18</td>\n",
       "      <td>1.564914e+09</td>\n",
       "      <td>247.022296</td>\n",
       "    </tr>\n",
       "    <tr>\n",
       "      <th>std</th>\n",
       "      <td>2.642425e+18</td>\n",
       "      <td>1.771343e+05</td>\n",
       "      <td>0.824434</td>\n",
       "    </tr>\n",
       "    <tr>\n",
       "      <th>min</th>\n",
       "      <td>6.888747e+15</td>\n",
       "      <td>1.564030e+09</td>\n",
       "      <td>246.000000</td>\n",
       "    </tr>\n",
       "    <tr>\n",
       "      <th>25%</th>\n",
       "      <td>2.372212e+18</td>\n",
       "      <td>1.564757e+09</td>\n",
       "      <td>246.000000</td>\n",
       "    </tr>\n",
       "    <tr>\n",
       "      <th>50%</th>\n",
       "      <td>4.623192e+18</td>\n",
       "      <td>1.564919e+09</td>\n",
       "      <td>247.000000</td>\n",
       "    </tr>\n",
       "    <tr>\n",
       "      <th>75%</th>\n",
       "      <td>6.932517e+18</td>\n",
       "      <td>1.565075e+09</td>\n",
       "      <td>248.000000</td>\n",
       "    </tr>\n",
       "    <tr>\n",
       "      <th>max</th>\n",
       "      <td>9.222603e+18</td>\n",
       "      <td>1.565213e+09</td>\n",
       "      <td>248.000000</td>\n",
       "    </tr>\n",
       "  </tbody>\n",
       "</table>\n",
       "</div>"
      ],
      "text/plain": [
       "       DeviceIDHash  EventTimestamp          ExpId\n",
       "count  2.441260e+05    2.441260e+05  244126.000000\n",
       "mean   4.627568e+18    1.564914e+09     247.022296\n",
       "std    2.642425e+18    1.771343e+05       0.824434\n",
       "min    6.888747e+15    1.564030e+09     246.000000\n",
       "25%    2.372212e+18    1.564757e+09     246.000000\n",
       "50%    4.623192e+18    1.564919e+09     247.000000\n",
       "75%    6.932517e+18    1.565075e+09     248.000000\n",
       "max    9.222603e+18    1.565213e+09     248.000000"
      ]
     },
     "metadata": {},
     "output_type": "display_data"
    },
    {
     "name": "stdout",
     "output_type": "stream",
     "text": [
      "Количество дубликатов: 413\n"
     ]
    }
   ],
   "source": [
    "helicopter_view(df)"
   ]
  },
  {
   "cell_type": "markdown",
   "metadata": {},
   "source": [
    "Промежуточный вывод.\n",
    "\n",
    "Таблица содержит информацию о событиях\n",
    "- название события\n",
    "- уникальный идентификатор пользователя\n",
    "- время события\n",
    "- номер эксперимента \n",
    "\n",
    "Пропусков нет. \n",
    "\n",
    "Проблемы, которые нужно решать:\n",
    "- удалим дубликаты;\n",
    "- названия столбцов заменим на более удобные и приведем их к нижнему регистру;\n",
    "- приведем данные к нужному типу (к дате в 'EventTimestamp')"
   ]
  },
  {
   "cell_type": "markdown",
   "metadata": {},
   "source": [
    "<div class=\"alert alert-success\">\n",
    "\n",
    "**✔️ Комментарий ревьюера ✔️**\n",
    "   \n",
    "   Отлично👍 Приступаем к предобработке\n",
    "\n",
    "</div>\n"
   ]
  },
  {
   "cell_type": "markdown",
   "metadata": {},
   "source": [
    "## Подготовим данные"
   ]
  },
  {
   "cell_type": "markdown",
   "metadata": {},
   "source": [
    "### Замените названия столбцов на удобные для вас"
   ]
  },
  {
   "cell_type": "code",
   "execution_count": 5,
   "metadata": {},
   "outputs": [],
   "source": [
    "# названия столбцов меняем\n",
    "df.columns = ['event_name', 'device_id_hash', 'event_timestamp', 'exp_id']"
   ]
  },
  {
   "cell_type": "code",
   "execution_count": 6,
   "metadata": {},
   "outputs": [
    {
     "data": {
      "text/html": [
       "<div>\n",
       "<style scoped>\n",
       "    .dataframe tbody tr th:only-of-type {\n",
       "        vertical-align: middle;\n",
       "    }\n",
       "\n",
       "    .dataframe tbody tr th {\n",
       "        vertical-align: top;\n",
       "    }\n",
       "\n",
       "    .dataframe thead th {\n",
       "        text-align: right;\n",
       "    }\n",
       "</style>\n",
       "<table border=\"1\" class=\"dataframe\">\n",
       "  <thead>\n",
       "    <tr style=\"text-align: right;\">\n",
       "      <th></th>\n",
       "      <th>event_name</th>\n",
       "      <th>device_id_hash</th>\n",
       "      <th>event_timestamp</th>\n",
       "      <th>exp_id</th>\n",
       "    </tr>\n",
       "  </thead>\n",
       "  <tbody>\n",
       "    <tr>\n",
       "      <th>0</th>\n",
       "      <td>MainScreenAppear</td>\n",
       "      <td>4575588528974610257</td>\n",
       "      <td>1564029816</td>\n",
       "      <td>246</td>\n",
       "    </tr>\n",
       "    <tr>\n",
       "      <th>1</th>\n",
       "      <td>MainScreenAppear</td>\n",
       "      <td>7416695313311560658</td>\n",
       "      <td>1564053102</td>\n",
       "      <td>246</td>\n",
       "    </tr>\n",
       "    <tr>\n",
       "      <th>2</th>\n",
       "      <td>PaymentScreenSuccessful</td>\n",
       "      <td>3518123091307005509</td>\n",
       "      <td>1564054127</td>\n",
       "      <td>248</td>\n",
       "    </tr>\n",
       "    <tr>\n",
       "      <th>3</th>\n",
       "      <td>CartScreenAppear</td>\n",
       "      <td>3518123091307005509</td>\n",
       "      <td>1564054127</td>\n",
       "      <td>248</td>\n",
       "    </tr>\n",
       "    <tr>\n",
       "      <th>4</th>\n",
       "      <td>PaymentScreenSuccessful</td>\n",
       "      <td>6217807653094995999</td>\n",
       "      <td>1564055322</td>\n",
       "      <td>248</td>\n",
       "    </tr>\n",
       "  </tbody>\n",
       "</table>\n",
       "</div>"
      ],
      "text/plain": [
       "                event_name       device_id_hash  event_timestamp  exp_id\n",
       "0         MainScreenAppear  4575588528974610257       1564029816     246\n",
       "1         MainScreenAppear  7416695313311560658       1564053102     246\n",
       "2  PaymentScreenSuccessful  3518123091307005509       1564054127     248\n",
       "3         CartScreenAppear  3518123091307005509       1564054127     248\n",
       "4  PaymentScreenSuccessful  6217807653094995999       1564055322     248"
      ]
     },
     "execution_count": 6,
     "metadata": {},
     "output_type": "execute_result"
    }
   ],
   "source": [
    "# проверяем\n",
    "df.head()"
   ]
  },
  {
   "cell_type": "markdown",
   "metadata": {},
   "source": [
    "### Проверьте пропуски и типы данных. Откорректируйте, если нужно;"
   ]
  },
  {
   "cell_type": "code",
   "execution_count": 7,
   "metadata": {},
   "outputs": [],
   "source": [
    "# приводим данные к нужным типам - дате\n",
    "df['event_timestamp'] = pd.to_datetime(df['event_timestamp'], unit='s')"
   ]
  },
  {
   "cell_type": "code",
   "execution_count": 8,
   "metadata": {},
   "outputs": [],
   "source": [
    "# удаляем дубликаты\n",
    "df = df.drop_duplicates().reset_index(drop = True)"
   ]
  },
  {
   "cell_type": "markdown",
   "metadata": {},
   "source": [
    "### Добавьте столбец даты и времени, а также отдельный столбец дат;"
   ]
  },
  {
   "cell_type": "code",
   "execution_count": 9,
   "metadata": {},
   "outputs": [],
   "source": [
    "# Выделим в отдельный столбец полную дату\n",
    "df['date']  = df['event_timestamp'].dt.date\n",
    "\n",
    "# приведем к нужному типу данных\n",
    "df['date'] = pd.to_datetime(df['date'])"
   ]
  },
  {
   "cell_type": "code",
   "execution_count": 10,
   "metadata": {},
   "outputs": [
    {
     "name": "stdout",
     "output_type": "stream",
     "text": [
      "Первые 5 строк\n",
      "                event_name       device_id_hash     event_timestamp  exp_id  \\\n",
      "0         MainScreenAppear  4575588528974610257 2019-07-25 04:43:36     246   \n",
      "1         MainScreenAppear  7416695313311560658 2019-07-25 11:11:42     246   \n",
      "2  PaymentScreenSuccessful  3518123091307005509 2019-07-25 11:28:47     248   \n",
      "3         CartScreenAppear  3518123091307005509 2019-07-25 11:28:47     248   \n",
      "4  PaymentScreenSuccessful  6217807653094995999 2019-07-25 11:48:42     248   \n",
      "\n",
      "        date  \n",
      "0 2019-07-25  \n",
      "1 2019-07-25  \n",
      "2 2019-07-25  \n",
      "3 2019-07-25  \n",
      "4 2019-07-25  \n",
      "Общая информация\n",
      "<class 'pandas.core.frame.DataFrame'>\n",
      "RangeIndex: 243713 entries, 0 to 243712\n",
      "Data columns (total 5 columns):\n",
      " #   Column           Non-Null Count   Dtype         \n",
      "---  ------           --------------   -----         \n",
      " 0   event_name       243713 non-null  object        \n",
      " 1   device_id_hash   243713 non-null  int64         \n",
      " 2   event_timestamp  243713 non-null  datetime64[ns]\n",
      " 3   exp_id           243713 non-null  int64         \n",
      " 4   date             243713 non-null  datetime64[ns]\n",
      "dtypes: datetime64[ns](2), int64(2), object(1)\n",
      "memory usage: 9.3+ MB\n"
     ]
    },
    {
     "data": {
      "text/plain": [
       "None"
      ]
     },
     "metadata": {},
     "output_type": "display_data"
    },
    {
     "name": "stdout",
     "output_type": "stream",
     "text": [
      "Пропуски\n"
     ]
    },
    {
     "data": {
      "text/plain": [
       "event_name         0\n",
       "device_id_hash     0\n",
       "event_timestamp    0\n",
       "exp_id             0\n",
       "date               0\n",
       "dtype: int64"
      ]
     },
     "metadata": {},
     "output_type": "display_data"
    },
    {
     "name": "stdout",
     "output_type": "stream",
     "text": [
      "Столбцы\n"
     ]
    },
    {
     "data": {
      "text/plain": [
       "Index(['event_name', 'device_id_hash', 'event_timestamp', 'exp_id', 'date'], dtype='object')"
      ]
     },
     "metadata": {},
     "output_type": "display_data"
    },
    {
     "name": "stdout",
     "output_type": "stream",
     "text": [
      "Статистические данные\n"
     ]
    },
    {
     "data": {
      "text/html": [
       "<div>\n",
       "<style scoped>\n",
       "    .dataframe tbody tr th:only-of-type {\n",
       "        vertical-align: middle;\n",
       "    }\n",
       "\n",
       "    .dataframe tbody tr th {\n",
       "        vertical-align: top;\n",
       "    }\n",
       "\n",
       "    .dataframe thead th {\n",
       "        text-align: right;\n",
       "    }\n",
       "</style>\n",
       "<table border=\"1\" class=\"dataframe\">\n",
       "  <thead>\n",
       "    <tr style=\"text-align: right;\">\n",
       "      <th></th>\n",
       "      <th>device_id_hash</th>\n",
       "      <th>exp_id</th>\n",
       "    </tr>\n",
       "  </thead>\n",
       "  <tbody>\n",
       "    <tr>\n",
       "      <th>count</th>\n",
       "      <td>2.437130e+05</td>\n",
       "      <td>243713.000000</td>\n",
       "    </tr>\n",
       "    <tr>\n",
       "      <th>mean</th>\n",
       "      <td>4.627963e+18</td>\n",
       "      <td>247.022161</td>\n",
       "    </tr>\n",
       "    <tr>\n",
       "      <th>std</th>\n",
       "      <td>2.642723e+18</td>\n",
       "      <td>0.824420</td>\n",
       "    </tr>\n",
       "    <tr>\n",
       "      <th>min</th>\n",
       "      <td>6.888747e+15</td>\n",
       "      <td>246.000000</td>\n",
       "    </tr>\n",
       "    <tr>\n",
       "      <th>25%</th>\n",
       "      <td>2.372212e+18</td>\n",
       "      <td>246.000000</td>\n",
       "    </tr>\n",
       "    <tr>\n",
       "      <th>50%</th>\n",
       "      <td>4.623192e+18</td>\n",
       "      <td>247.000000</td>\n",
       "    </tr>\n",
       "    <tr>\n",
       "      <th>75%</th>\n",
       "      <td>6.932517e+18</td>\n",
       "      <td>248.000000</td>\n",
       "    </tr>\n",
       "    <tr>\n",
       "      <th>max</th>\n",
       "      <td>9.222603e+18</td>\n",
       "      <td>248.000000</td>\n",
       "    </tr>\n",
       "  </tbody>\n",
       "</table>\n",
       "</div>"
      ],
      "text/plain": [
       "       device_id_hash         exp_id\n",
       "count    2.437130e+05  243713.000000\n",
       "mean     4.627963e+18     247.022161\n",
       "std      2.642723e+18       0.824420\n",
       "min      6.888747e+15     246.000000\n",
       "25%      2.372212e+18     246.000000\n",
       "50%      4.623192e+18     247.000000\n",
       "75%      6.932517e+18     248.000000\n",
       "max      9.222603e+18     248.000000"
      ]
     },
     "metadata": {},
     "output_type": "display_data"
    },
    {
     "name": "stdout",
     "output_type": "stream",
     "text": [
      "Количество дубликатов: 0\n"
     ]
    }
   ],
   "source": [
    "helicopter_view(df)"
   ]
  },
  {
   "cell_type": "code",
   "execution_count": 11,
   "metadata": {},
   "outputs": [
    {
     "name": "stdout",
     "output_type": "stream",
     "text": [
      "Количество уникальных пользователей по всей таблице: 7551\n",
      "В группе 246 - 2489 уникальных пользователей\n",
      "В группе 248 - 2542 уникальных пользователей\n",
      "В группе 247 - 2520 уникальных пользователей\n",
      "При сложениии 3 групп получается - 7551 уникальных пользователей\n"
     ]
    }
   ],
   "source": [
    "print(f'Количество уникальных пользователей по всей таблице: {df[\"device_id_hash\"].nunique()}')\n",
    "\n",
    "summ = 0\n",
    "\n",
    "for _ in df['exp_id'].unique():\n",
    "    users_a = df[df[\"exp_id\"]==_][\"device_id_hash\"].nunique()\n",
    "    summ = summ + users_a\n",
    "    print(f'В группе {_} - {users_a} уникальных пользователей')\n",
    "    \n",
    "print(f'При сложениии 3 групп получается - {summ} уникальных пользователей')"
   ]
  },
  {
   "cell_type": "markdown",
   "metadata": {},
   "source": [
    "Посчитав количество уникальных пользователей сразу по всей таблице и просуммировав отдельных значения по каждой группе - получили одинаковое значение: 7551 => в данных отсутствуют пользователи, одновременно присутствующие в нескольких группах."
   ]
  },
  {
   "cell_type": "markdown",
   "metadata": {},
   "source": [
    "Промежуточный вывод:\n",
    "- дубликаты удалены\n",
    "- названия столбцов переведены в нижний регистр и заменены на более удобные\n",
    "- данные приведены к нужным типам\n",
    "- добавлен столбец с датой события\n",
    "- данные готовы для анализа"
   ]
  },
  {
   "cell_type": "markdown",
   "metadata": {},
   "source": [
    "<div class=\"alert alert-success\">\n",
    "\n",
    "**✔️ Комментарий ревьюера ✔️**\n",
    "   \n",
    "   Хороший предварительный анализ👍 Молодец, что приводишь даты к нужному формату и проверяешь дубликаты и пропуски.\n",
    "\n",
    "</div>"
   ]
  },
  {
   "cell_type": "markdown",
   "metadata": {},
   "source": [
    "## Изучим и проверим данные"
   ]
  },
  {
   "cell_type": "markdown",
   "metadata": {},
   "source": [
    "### Сколько всего событий в логе?"
   ]
  },
  {
   "cell_type": "code",
   "execution_count": 12,
   "metadata": {},
   "outputs": [
    {
     "name": "stdout",
     "output_type": "stream",
     "text": [
      "Всего событий: 243713\n"
     ]
    }
   ],
   "source": [
    "# считаем количество событий\n",
    "event_counter = df['event_name'].count()\n",
    "print(f'Всего событий: {event_counter}')"
   ]
  },
  {
   "cell_type": "code",
   "execution_count": 13,
   "metadata": {},
   "outputs": [
    {
     "name": "stdout",
     "output_type": "stream",
     "text": [
      "Всего событий в таблице: 243713\n",
      "Уникальных событий в таблице:5\n",
      "Список событий: ['MainScreenAppear' 'PaymentScreenSuccessful' 'CartScreenAppear'\n",
      " 'OffersScreenAppear' 'Tutorial']\n"
     ]
    }
   ],
   "source": [
    "# считаем типы событий\n",
    "all_events = df['event_name'].count()\n",
    "print(f'Всего событий в таблице: {all_events}')\n",
    "\n",
    "nunique_events = df['event_name'].nunique()\n",
    "print(f'Уникальных событий в таблице:{nunique_events}')\n",
    "print(f'Список событий: {df[\"event_name\"].unique()}')"
   ]
  },
  {
   "cell_type": "code",
   "execution_count": 14,
   "metadata": {},
   "outputs": [
    {
     "name": "stdout",
     "output_type": "stream",
     "text": [
      "Всего событий по типам:\n",
      "MainScreenAppear           119101\n",
      "OffersScreenAppear          46808\n",
      "CartScreenAppear            42668\n",
      "PaymentScreenSuccessful     34118\n",
      "Tutorial                     1018\n",
      "Name: event_name, dtype: int64\n"
     ]
    }
   ],
   "source": [
    "# смотрим, скольrо всего событий по типам\n",
    "print('Всего событий по типам:')\n",
    "print(df['event_name'].value_counts())"
   ]
  },
  {
   "cell_type": "markdown",
   "metadata": {},
   "source": [
    "### Сколько всего пользователей в логе?"
   ]
  },
  {
   "cell_type": "code",
   "execution_count": 15,
   "metadata": {},
   "outputs": [
    {
     "name": "stdout",
     "output_type": "stream",
     "text": [
      "Всего пользователей: 7551\n"
     ]
    }
   ],
   "source": [
    "# считаем пользователей\n",
    "users_counter = df['device_id_hash'].nunique()\n",
    "print(f'Всего пользователей: {users_counter}')"
   ]
  },
  {
   "cell_type": "markdown",
   "metadata": {},
   "source": [
    "### Сколько в среднем событий приходится на пользователя?"
   ]
  },
  {
   "cell_type": "code",
   "execution_count": 16,
   "metadata": {},
   "outputs": [
    {
     "name": "stdout",
     "output_type": "stream",
     "text": [
      "Среднее количество событий на пользователя: 32\n"
     ]
    }
   ],
   "source": [
    "print(f'Среднее количество событий на пользователя: {round(event_counter / users_counter)}')"
   ]
  },
  {
   "cell_type": "markdown",
   "metadata": {},
   "source": [
    "### Данными за какой период вы располагаете?"
   ]
  },
  {
   "cell_type": "markdown",
   "metadata": {},
   "source": [
    "#### Найдите максимальную и минимальную дату"
   ]
  },
  {
   "cell_type": "code",
   "execution_count": 17,
   "metadata": {},
   "outputs": [
    {
     "name": "stdout",
     "output_type": "stream",
     "text": [
      "Максимальная дата: 2019-08-07 00:00:00\n",
      "Минимальная дата: 2019-07-25 00:00:00\n"
     ]
    }
   ],
   "source": [
    "# смотрим наибольшую и наименьшую даты\n",
    "print(f'Максимальная дата: {df[\"date\"].max()}')\n",
    "print(f'Минимальная дата: {df[\"date\"].min()}')"
   ]
  },
  {
   "cell_type": "markdown",
   "metadata": {},
   "source": [
    "#### Постройте гистограмму по дате и времени"
   ]
  },
  {
   "cell_type": "code",
   "execution_count": null,
   "metadata": {},
   "outputs": [],
   "source": [
    "# строим гистограмму\n",
    "fig = px.bar(df.groupby('date')['event_timestamp'].count().reset_index(),\n",
    "                                                                x='date',\n",
    "                                                     y='event_timestamp',\n",
    "                                   title='Гистограмма по дате и времени',\n",
    "                                                  text='event_timestamp')\n",
    "\n",
    "fig.update_layout(xaxis_title=\"Дата\", yaxis_title=\"Частота\")\n",
    "fig.update_traces(textposition='outside')\n",
    "fig.update_xaxes(nticks=20)\n",
    "fig.show()"
   ]
  },
  {
   "cell_type": "markdown",
   "metadata": {},
   "source": [
    "Судя по графику, полные данные представлены с первого августа по седьмое - а значит, отбросим всё лишнее и продолжим анализ на практически полной второй неделе (возможно, в первую неделю проводились тестовые активности, а корректные данные стали собираться со второй недели)."
   ]
  },
  {
   "cell_type": "markdown",
   "metadata": {},
   "source": [
    "#### Можно ли быть уверенным, что у вас одинаково полные данные за весь период? Технически в логи новых дней по некоторым пользователям могут «доезжать» события из прошлого — это может «перекашивать данные». Определите, с какого момента данные полные и отбросьте более старые."
   ]
  },
  {
   "cell_type": "code",
   "execution_count": null,
   "metadata": {},
   "outputs": [],
   "source": [
    "# оставим только полные данные\n",
    "df_filter = df.loc[df['date'] > '2019-07-31']"
   ]
  },
  {
   "cell_type": "markdown",
   "metadata": {},
   "source": [
    "#### Данными за какой период времени вы располагаете на самом деле?"
   ]
  },
  {
   "cell_type": "code",
   "execution_count": null,
   "metadata": {},
   "outputs": [],
   "source": [
    "# смотрим период\n",
    "print(f'Период времени: {df_filter[\"event_timestamp\"].max() - df_filter[\"event_timestamp\"].min()}')"
   ]
  },
  {
   "cell_type": "markdown",
   "metadata": {},
   "source": [
    "### Много ли событий и пользователей вы потеряли, отбросив старые данные?"
   ]
  },
  {
   "cell_type": "code",
   "execution_count": null,
   "metadata": {},
   "outputs": [],
   "source": [
    "# считаем сколько потеряли событий\n",
    "print(f'Всего событий: {df[\"event_name\"].count()}')\n",
    "print(f'Всего событий на полных (отфильтрованных) данных: {df_filter[\"event_name\"].count()}')\n",
    "percent = round(100 - (df_filter['event_name'].count() * 100 / df['event_name'].count()), 2)\n",
    "print('Потеряли {} событий ({}%)'.format(df['event_name'].count() - df_filter['event_name'].count(), percent))"
   ]
  },
  {
   "cell_type": "code",
   "execution_count": null,
   "metadata": {},
   "outputs": [],
   "source": [
    "# считаем типы событий\n",
    "print(f'Всего типов событий: {df[\"event_name\"].nunique()}')\n",
    "print(f'Всего типов событий на полных (отфильтрованных) данных: {df_filter[\"event_name\"].nunique()}')"
   ]
  },
  {
   "cell_type": "code",
   "execution_count": null,
   "metadata": {},
   "outputs": [],
   "source": [
    "# считаем среднее число событий на пользователя\n",
    "print('Среднее число событий на пользователя: {:.0f}'.format(df.groupby('device_id_hash')['event_name'].count().mean()))\n",
    "print('Среднее число событий на полных (отфильтрованных) данных на пользователя: {:.0f}'.format(df_filter.groupby('device_id_hash')['event_name'].count().mean()))"
   ]
  },
  {
   "cell_type": "code",
   "execution_count": null,
   "metadata": {},
   "outputs": [],
   "source": [
    "# считаем сколько потеряли пользователей\n",
    "print(f'Всего пользователей: {df[\"device_id_hash\"].nunique()}')\n",
    "print(f'Всего пользователей на полных (отфильтрованных) данных: {df_filter[\"device_id_hash\"].nunique()}')\n",
    "percent = round(100 - (df_filter['device_id_hash'].nunique() * 100 / df['device_id_hash'].nunique()),2)\n",
    "print('Потеряли {} пользователей ({}%)'.format(df['device_id_hash'].nunique() - df_filter['device_id_hash'].nunique(), percent))"
   ]
  },
  {
   "cell_type": "markdown",
   "metadata": {},
   "source": [
    "Потерянные данные незначительны - 0,23% пользователей и  1,16% событий. "
   ]
  },
  {
   "cell_type": "markdown",
   "metadata": {},
   "source": [
    "<div class=\"alert alert-success\">\n",
    "\n",
    "**✔️ Комментарий ревьюера ✔️**\n",
    "   \n",
    "   Отлично! Доля удаленных данных соразмерно мала с общим количеством данных. Рекомендую рассматривать процентное соотношение в любой сфере деятельности -  Это очень наглядный показатель. 👍\n",
    "\n",
    "</div>\n"
   ]
  },
  {
   "cell_type": "markdown",
   "metadata": {},
   "source": [
    "### Проверьте, что у вас есть пользователи из всех трёх экспериментальных групп."
   ]
  },
  {
   "cell_type": "code",
   "execution_count": null,
   "metadata": {},
   "outputs": [],
   "source": [
    "# проверяем пользователей по экспериментальным группам\n",
    "df_filter.groupby('exp_id')['device_id_hash'].nunique().reset_index()"
   ]
  },
  {
   "cell_type": "code",
   "execution_count": null,
   "metadata": {},
   "outputs": [],
   "source": [
    "# проверяем пользователей по количеству событий\n",
    "df_filter.groupby('exp_id')['device_id_hash'].count().reset_index()"
   ]
  },
  {
   "cell_type": "markdown",
   "metadata": {},
   "source": [
    "Пользователей в каждой группе по ~2500, событий по ~ 80000, выглядит прилично."
   ]
  },
  {
   "cell_type": "markdown",
   "metadata": {},
   "source": [
    "Промежуточный вывод:\n",
    "\n",
    "- данные предоставлены с 25 июля по 7 августа\n",
    "- события в  июле незначительны по сравнению с августом - июль исключен из анализа\n",
    "- после отбора корректного периода отсечены 0,23% пользователей и 1,16% событий - несущественно и не влияет на дальнейший анализ\n",
    "- среднее количествово событий пользователя равно 32\n",
    "- общая сводка по количеству пользователей и событий выглядит примерно одинаково"
   ]
  },
  {
   "cell_type": "markdown",
   "metadata": {},
   "source": [
    "## Изучите воронку событий"
   ]
  },
  {
   "cell_type": "markdown",
   "metadata": {},
   "source": [
    "### Посмотрите, какие события есть в логах, как часто они встречаются. Отсортируйте события по частоте."
   ]
  },
  {
   "cell_type": "code",
   "execution_count": 28,
   "metadata": {},
   "outputs": [
    {
     "data": {
      "text/html": [
       "<div>\n",
       "<style scoped>\n",
       "    .dataframe tbody tr th:only-of-type {\n",
       "        vertical-align: middle;\n",
       "    }\n",
       "\n",
       "    .dataframe tbody tr th {\n",
       "        vertical-align: top;\n",
       "    }\n",
       "\n",
       "    .dataframe thead th {\n",
       "        text-align: right;\n",
       "    }\n",
       "</style>\n",
       "<table border=\"1\" class=\"dataframe\">\n",
       "  <thead>\n",
       "    <tr style=\"text-align: right;\">\n",
       "      <th></th>\n",
       "      <th>name</th>\n",
       "      <th>count</th>\n",
       "    </tr>\n",
       "  </thead>\n",
       "  <tbody>\n",
       "    <tr>\n",
       "      <th>1</th>\n",
       "      <td>MainScreenAppear</td>\n",
       "      <td>117328</td>\n",
       "    </tr>\n",
       "    <tr>\n",
       "      <th>2</th>\n",
       "      <td>OffersScreenAppear</td>\n",
       "      <td>46333</td>\n",
       "    </tr>\n",
       "    <tr>\n",
       "      <th>0</th>\n",
       "      <td>CartScreenAppear</td>\n",
       "      <td>42303</td>\n",
       "    </tr>\n",
       "    <tr>\n",
       "      <th>3</th>\n",
       "      <td>PaymentScreenSuccessful</td>\n",
       "      <td>33918</td>\n",
       "    </tr>\n",
       "    <tr>\n",
       "      <th>4</th>\n",
       "      <td>Tutorial</td>\n",
       "      <td>1005</td>\n",
       "    </tr>\n",
       "  </tbody>\n",
       "</table>\n",
       "</div>"
      ],
      "text/plain": [
       "                      name   count\n",
       "1         MainScreenAppear  117328\n",
       "2       OffersScreenAppear   46333\n",
       "0         CartScreenAppear   42303\n",
       "3  PaymentScreenSuccessful   33918\n",
       "4                 Tutorial    1005"
      ]
     },
     "execution_count": 28,
     "metadata": {},
     "output_type": "execute_result"
    }
   ],
   "source": [
    "# соберём в отдельную таблицу\n",
    "events = (\n",
    "    df_filter.groupby('event_name')['device_id_hash']\n",
    "    .count()\n",
    "    .reset_index()\n",
    "    .sort_values(by='device_id_hash', ascending=False)\n",
    ")\n",
    "\n",
    "events.columns = ['name', 'count']\n",
    "events"
   ]
  },
  {
   "cell_type": "code",
   "execution_count": 29,
   "metadata": {},
   "outputs": [
    {
     "data": {
      "image/png": "[encoded data removed]",
      "text/plain": [
       "<Figure size 864x504 with 1 Axes>"
      ]
     },
     "metadata": {
      "needs_background": "light"
     },
     "output_type": "display_data"
    }
   ],
   "source": [
    "# построим график\n",
    "plt.figure(figsize=(12, 7))\n",
    "sns.barplot(y='name', x='count', data=events)\n",
    "plt.title('Гистограмма количества событий')\n",
    "plt.xlabel('Количество событий')\n",
    "plt.ylabel('Название события')\n",
    "plt.show();"
   ]
  },
  {
   "cell_type": "markdown",
   "metadata": {},
   "source": [
    "Частота событий в порядке убывания следующая:\n",
    "- посещение главной страницы\n",
    "- посещение страницы предложений\n",
    "- посещение корзины\n",
    "- оплата\n",
    "- руководство"
   ]
  },
  {
   "cell_type": "markdown",
   "metadata": {},
   "source": [
    "### Посчитайте, сколько пользователей совершали каждое из этих событий. Отсортируйте события по числу пользователей. Посчитайте долю пользователей, которые хоть раз совершали событие."
   ]
  },
  {
   "cell_type": "code",
   "execution_count": 30,
   "metadata": {},
   "outputs": [
    {
     "data": {
      "text/html": [
       "<div>\n",
       "<style scoped>\n",
       "    .dataframe tbody tr th:only-of-type {\n",
       "        vertical-align: middle;\n",
       "    }\n",
       "\n",
       "    .dataframe tbody tr th {\n",
       "        vertical-align: top;\n",
       "    }\n",
       "\n",
       "    .dataframe thead th {\n",
       "        text-align: right;\n",
       "    }\n",
       "</style>\n",
       "<table border=\"1\" class=\"dataframe\">\n",
       "  <thead>\n",
       "    <tr style=\"text-align: right;\">\n",
       "      <th></th>\n",
       "      <th>event_name</th>\n",
       "      <th>count</th>\n",
       "      <th>nunique</th>\n",
       "      <th>part</th>\n",
       "    </tr>\n",
       "  </thead>\n",
       "  <tbody>\n",
       "    <tr>\n",
       "      <th>1</th>\n",
       "      <td>MainScreenAppear</td>\n",
       "      <td>117328</td>\n",
       "      <td>7419</td>\n",
       "      <td>98.3</td>\n",
       "    </tr>\n",
       "    <tr>\n",
       "      <th>2</th>\n",
       "      <td>OffersScreenAppear</td>\n",
       "      <td>46333</td>\n",
       "      <td>4593</td>\n",
       "      <td>60.8</td>\n",
       "    </tr>\n",
       "    <tr>\n",
       "      <th>0</th>\n",
       "      <td>CartScreenAppear</td>\n",
       "      <td>42303</td>\n",
       "      <td>3734</td>\n",
       "      <td>49.5</td>\n",
       "    </tr>\n",
       "    <tr>\n",
       "      <th>3</th>\n",
       "      <td>PaymentScreenSuccessful</td>\n",
       "      <td>33918</td>\n",
       "      <td>3539</td>\n",
       "      <td>46.9</td>\n",
       "    </tr>\n",
       "    <tr>\n",
       "      <th>4</th>\n",
       "      <td>Tutorial</td>\n",
       "      <td>1005</td>\n",
       "      <td>840</td>\n",
       "      <td>11.1</td>\n",
       "    </tr>\n",
       "  </tbody>\n",
       "</table>\n",
       "</div>"
      ],
      "text/plain": [
       "                event_name   count  nunique  part\n",
       "1         MainScreenAppear  117328     7419  98.3\n",
       "2       OffersScreenAppear   46333     4593  60.8\n",
       "0         CartScreenAppear   42303     3734  49.5\n",
       "3  PaymentScreenSuccessful   33918     3539  46.9\n",
       "4                 Tutorial    1005      840  11.1"
      ]
     },
     "execution_count": 30,
     "metadata": {},
     "output_type": "execute_result"
    }
   ],
   "source": [
    "# соберём в отдельную таблицу\n",
    "users = (\n",
    "    df_filter.groupby('event_name')['device_id_hash']\n",
    "    .agg(['count', 'nunique'])\n",
    "    .reset_index()\n",
    "    .sort_values(by='nunique', ascending=False)\n",
    ")\n",
    "\n",
    "# считаем долю пользователей, совершивших хотя бы одно событие\n",
    "users['part'] = (users['nunique'] / users_counter * 100).round(1) \n",
    "\n",
    "users"
   ]
  },
  {
   "cell_type": "code",
   "execution_count": 31,
   "metadata": {},
   "outputs": [
    {
     "data": {
      "text/plain": [
       "exp_id  event_name             \n",
       "248     MainScreenAppear           40562\n",
       "247     MainScreenAppear           39090\n",
       "246     MainScreenAppear           37676\n",
       "248     OffersScreenAppear         16387\n",
       "247     OffersScreenAppear         15179\n",
       "248     CartScreenAppear           15179\n",
       "246     OffersScreenAppear         14767\n",
       "        CartScreenAppear           14690\n",
       "247     CartScreenAppear           12434\n",
       "248     PaymentScreenSuccessful    12085\n",
       "246     PaymentScreenSuccessful    11852\n",
       "247     PaymentScreenSuccessful     9981\n",
       "248     Tutorial                     350\n",
       "247     Tutorial                     338\n",
       "246     Tutorial                     317\n",
       "Name: device_id_hash, dtype: int64"
      ]
     },
     "execution_count": 31,
     "metadata": {},
     "output_type": "execute_result"
    }
   ],
   "source": [
    "# посмотрим подробнее\n",
    "df_filter.groupby(['exp_id','event_name'])['device_id_hash'].count().sort_values(ascending=False)"
   ]
  },
  {
   "cell_type": "markdown",
   "metadata": {},
   "source": [
    "Данные по группам распределены довольно равномерно - результаты всех групп примерно похожи\n",
    "\n",
    "В целом всё выглядит хорошо, смущает только последний пункт - кажется нелогичным смотреть руководство после полного цикла оплаты."
   ]
  },
  {
   "cell_type": "code",
   "execution_count": 32,
   "metadata": {},
   "outputs": [
    {
     "data": {
      "image/png": "[encoded data removed]",
      "text/plain": [
       "<Figure size 864x504 with 1 Axes>"
      ]
     },
     "metadata": {
      "needs_background": "light"
     },
     "output_type": "display_data"
    }
   ],
   "source": [
    "plt.figure(figsize=(12, 7))\n",
    "ax = sns.barplot(y='event_name', x='part',  data=users)\n",
    "plt.xlabel('Название события')\n",
    "plt.ylabel('Доля в процентах %')\n",
    "ax.set_title('Доля пользователей, которые хоть раз совершали событие');"
   ]
  },
  {
   "cell_type": "markdown",
   "metadata": {},
   "source": [
    "Аналогично и по долям пользователей."
   ]
  },
  {
   "cell_type": "markdown",
   "metadata": {},
   "source": [
    "### Предположите, в каком порядке происходят события. Все ли они выстраиваются в последовательную цепочку? Их не нужно учитывать при расчёте воронки."
   ]
  },
  {
   "cell_type": "markdown",
   "metadata": {},
   "source": [
    "Последовательность следующая:\n",
    "\n",
    "- MainScreenAppear (Главный экран)\n",
    "- OffersScreenAppear (Экран предложения)\n",
    "- CartScreenAppear (Переход к корзине)\n",
    "- PaymentScreenSuccessful (Экран успешной оплаты)\n",
    "- Tutorial (Руководство)\n",
    "\n",
    "Предположу, что открытие руководства - опциональный шаг, уберём его при построении воронки."
   ]
  },
  {
   "cell_type": "markdown",
   "metadata": {},
   "source": [
    "### По воронке событий посчитайте, какая доля пользователей проходит на следующий шаг воронки (от числа пользователей на предыдущем).\n",
    "\n",
    "То есть для последовательности событий A → B → C посчитайте отношение числа пользователей с событием B к количеству пользователей с событием A, а также отношение числа пользователей с событием C к количеству пользователей с событием B."
   ]
  },
  {
   "cell_type": "code",
   "execution_count": 33,
   "metadata": {},
   "outputs": [
    {
     "data": {
      "application/vnd.plotly.v1+json": {
       "config": {
        "plotlyServerURL": "https://plot.ly"
       },
       "data": [
        {
         "textinfo": "value+percent previous+percent initial",
         "type": "funnel",
         "x": [
          7419,
          4593,
          3734,
          3539,
          840
         ],
         "y": [
          "Просмотр главного экрана",
          "Просмотр страницы с продуктом",
          "Просмотр корзины",
          "Успешная оплата"
         ]
        }
       ],
       "layout": {
        "height": 500,
        "showlegend": false,
        "template": {
         "data": {
          "bar": [
           {
            "error_x": {
             "color": "#2a3f5f"
            },
            "error_y": {
             "color": "#2a3f5f"
            },
            "marker": {
             "line": {
              "color": "#E5ECF6",
              "width": 0.5
             },
             "pattern": {
              "fillmode": "overlay",
              "size": 10,
              "solidity": 0.2
             }
            },
            "type": "bar"
           }
          ],
          "barpolar": [
           {
            "marker": {
             "line": {
              "color": "#E5ECF6",
              "width": 0.5
             },
             "pattern": {
              "fillmode": "overlay",
              "size": 10,
              "solidity": 0.2
             }
            },
            "type": "barpolar"
           }
          ],
          "carpet": [
           {
            "aaxis": {
             "endlinecolor": "#2a3f5f",
             "gridcolor": "white",
             "linecolor": "white",
             "minorgridcolor": "white",
             "startlinecolor": "#2a3f5f"
            },
            "baxis": {
             "endlinecolor": "#2a3f5f",
             "gridcolor": "white",
             "linecolor": "white",
             "minorgridcolor": "white",
             "startlinecolor": "#2a3f5f"
            },
            "type": "carpet"
           }
          ],
          "choropleth": [
           {
            "colorbar": {
             "outlinewidth": 0,
             "ticks": ""
            },
            "type": "choropleth"
           }
          ],
          "contour": [
           {
            "colorbar": {
             "outlinewidth": 0,
             "ticks": ""
            },
            "colorscale": [
             [
              0,
              "#0d0887"
             ],
             [
              0.1111111111111111,
              "#46039f"
             ],
             [
              0.2222222222222222,
              "#7201a8"
             ],
             [
              0.3333333333333333,
              "#9c179e"
             ],
             [
              0.4444444444444444,
              "#bd3786"
             ],
             [
              0.5555555555555556,
              "#d8576b"
             ],
             [
              0.6666666666666666,
              "#ed7953"
             ],
             [
              0.7777777777777778,
              "#fb9f3a"
             ],
             [
              0.8888888888888888,
              "#fdca26"
             ],
             [
              1,
              "#f0f921"
             ]
            ],
            "type": "contour"
           }
          ],
          "contourcarpet": [
           {
            "colorbar": {
             "outlinewidth": 0,
             "ticks": ""
            },
            "type": "contourcarpet"
           }
          ],
          "heatmap": [
           {
            "colorbar": {
             "outlinewidth": 0,
             "ticks": ""
            },
            "colorscale": [
             [
              0,
              "#0d0887"
             ],
             [
              0.1111111111111111,
              "#46039f"
             ],
             [
              0.2222222222222222,
              "#7201a8"
             ],
             [
              0.3333333333333333,
              "#9c179e"
             ],
             [
              0.4444444444444444,
              "#bd3786"
             ],
             [
              0.5555555555555556,
              "#d8576b"
             ],
             [
              0.6666666666666666,
              "#ed7953"
             ],
             [
              0.7777777777777778,
              "#fb9f3a"
             ],
             [
              0.8888888888888888,
              "#fdca26"
             ],
             [
              1,
              "#f0f921"
             ]
            ],
            "type": "heatmap"
           }
          ],
          "heatmapgl": [
           {
            "colorbar": {
             "outlinewidth": 0,
             "ticks": ""
            },
            "colorscale": [
             [
              0,
              "#0d0887"
             ],
             [
              0.1111111111111111,
              "#46039f"
             ],
             [
              0.2222222222222222,
              "#7201a8"
             ],
             [
              0.3333333333333333,
              "#9c179e"
             ],
             [
              0.4444444444444444,
              "#bd3786"
             ],
             [
              0.5555555555555556,
              "#d8576b"
             ],
             [
              0.6666666666666666,
              "#ed7953"
             ],
             [
              0.7777777777777778,
              "#fb9f3a"
             ],
             [
              0.8888888888888888,
              "#fdca26"
             ],
             [
              1,
              "#f0f921"
             ]
            ],
            "type": "heatmapgl"
           }
          ],
          "histogram": [
           {
            "marker": {
             "pattern": {
              "fillmode": "overlay",
              "size": 10,
              "solidity": 0.2
             }
            },
            "type": "histogram"
           }
          ],
          "histogram2d": [
           {
            "colorbar": {
             "outlinewidth": 0,
             "ticks": ""
            },
            "colorscale": [
             [
              0,
              "#0d0887"
             ],
             [
              0.1111111111111111,
              "#46039f"
             ],
             [
              0.2222222222222222,
              "#7201a8"
             ],
             [
              0.3333333333333333,
              "#9c179e"
             ],
             [
              0.4444444444444444,
              "#bd3786"
             ],
             [
              0.5555555555555556,
              "#d8576b"
             ],
             [
              0.6666666666666666,
              "#ed7953"
             ],
             [
              0.7777777777777778,
              "#fb9f3a"
             ],
             [
              0.8888888888888888,
              "#fdca26"
             ],
             [
              1,
              "#f0f921"
             ]
            ],
            "type": "histogram2d"
           }
          ],
          "histogram2dcontour": [
           {
            "colorbar": {
             "outlinewidth": 0,
             "ticks": ""
            },
            "colorscale": [
             [
              0,
              "#0d0887"
             ],
             [
              0.1111111111111111,
              "#46039f"
             ],
             [
              0.2222222222222222,
              "#7201a8"
             ],
             [
              0.3333333333333333,
              "#9c179e"
             ],
             [
              0.4444444444444444,
              "#bd3786"
             ],
             [
              0.5555555555555556,
              "#d8576b"
             ],
             [
              0.6666666666666666,
              "#ed7953"
             ],
             [
              0.7777777777777778,
              "#fb9f3a"
             ],
             [
              0.8888888888888888,
              "#fdca26"
             ],
             [
              1,
              "#f0f921"
             ]
            ],
            "type": "histogram2dcontour"
           }
          ],
          "mesh3d": [
           {
            "colorbar": {
             "outlinewidth": 0,
             "ticks": ""
            },
            "type": "mesh3d"
           }
          ],
          "parcoords": [
           {
            "line": {
             "colorbar": {
              "outlinewidth": 0,
              "ticks": ""
             }
            },
            "type": "parcoords"
           }
          ],
          "pie": [
           {
            "automargin": true,
            "type": "pie"
           }
          ],
          "scatter": [
           {
            "marker": {
             "colorbar": {
              "outlinewidth": 0,
              "ticks": ""
             }
            },
            "type": "scatter"
           }
          ],
          "scatter3d": [
           {
            "line": {
             "colorbar": {
              "outlinewidth": 0,
              "ticks": ""
             }
            },
            "marker": {
             "colorbar": {
              "outlinewidth": 0,
              "ticks": ""
             }
            },
            "type": "scatter3d"
           }
          ],
          "scattercarpet": [
           {
            "marker": {
             "colorbar": {
              "outlinewidth": 0,
              "ticks": ""
             }
            },
            "type": "scattercarpet"
           }
          ],
          "scattergeo": [
           {
            "marker": {
             "colorbar": {
              "outlinewidth": 0,
              "ticks": ""
             }
            },
            "type": "scattergeo"
           }
          ],
          "scattergl": [
           {
            "marker": {
             "colorbar": {
              "outlinewidth": 0,
              "ticks": ""
             }
            },
            "type": "scattergl"
           }
          ],
          "scattermapbox": [
           {
            "marker": {
             "colorbar": {
              "outlinewidth": 0,
              "ticks": ""
             }
            },
            "type": "scattermapbox"
           }
          ],
          "scatterpolar": [
           {
            "marker": {
             "colorbar": {
              "outlinewidth": 0,
              "ticks": ""
             }
            },
            "type": "scatterpolar"
           }
          ],
          "scatterpolargl": [
           {
            "marker": {
             "colorbar": {
              "outlinewidth": 0,
              "ticks": ""
             }
            },
            "type": "scatterpolargl"
           }
          ],
          "scatterternary": [
           {
            "marker": {
             "colorbar": {
              "outlinewidth": 0,
              "ticks": ""
             }
            },
            "type": "scatterternary"
           }
          ],
          "surface": [
           {
            "colorbar": {
             "outlinewidth": 0,
             "ticks": ""
            },
            "colorscale": [
             [
              0,
              "#0d0887"
             ],
             [
              0.1111111111111111,
              "#46039f"
             ],
             [
              0.2222222222222222,
              "#7201a8"
             ],
             [
              0.3333333333333333,
              "#9c179e"
             ],
             [
              0.4444444444444444,
              "#bd3786"
             ],
             [
              0.5555555555555556,
              "#d8576b"
             ],
             [
              0.6666666666666666,
              "#ed7953"
             ],
             [
              0.7777777777777778,
              "#fb9f3a"
             ],
             [
              0.8888888888888888,
              "#fdca26"
             ],
             [
              1,
              "#f0f921"
             ]
            ],
            "type": "surface"
           }
          ],
          "table": [
           {
            "cells": {
             "fill": {
              "color": "#EBF0F8"
             },
             "line": {
              "color": "white"
             }
            },
            "header": {
             "fill": {
              "color": "#C8D4E3"
             },
             "line": {
              "color": "white"
             }
            },
            "type": "table"
           }
          ]
         },
         "layout": {
          "annotationdefaults": {
           "arrowcolor": "#2a3f5f",
           "arrowhead": 0,
           "arrowwidth": 1
          },
          "autotypenumbers": "strict",
          "coloraxis": {
           "colorbar": {
            "outlinewidth": 0,
            "ticks": ""
           }
          },
          "colorscale": {
           "diverging": [
            [
             0,
             "#8e0152"
            ],
            [
             0.1,
             "#c51b7d"
            ],
            [
             0.2,
             "#de77ae"
            ],
            [
             0.3,
             "#f1b6da"
            ],
            [
             0.4,
             "#fde0ef"
            ],
            [
             0.5,
             "#f7f7f7"
            ],
            [
             0.6,
             "#e6f5d0"
            ],
            [
             0.7,
             "#b8e186"
            ],
            [
             0.8,
             "#7fbc41"
            ],
            [
             0.9,
             "#4d9221"
            ],
            [
             1,
             "#276419"
            ]
           ],
           "sequential": [
            [
             0,
             "#0d0887"
            ],
            [
             0.1111111111111111,
             "#46039f"
            ],
            [
             0.2222222222222222,
             "#7201a8"
            ],
            [
             0.3333333333333333,
             "#9c179e"
            ],
            [
             0.4444444444444444,
             "#bd3786"
            ],
            [
             0.5555555555555556,
             "#d8576b"
            ],
            [
             0.6666666666666666,
             "#ed7953"
            ],
            [
             0.7777777777777778,
             "#fb9f3a"
            ],
            [
             0.8888888888888888,
             "#fdca26"
            ],
            [
             1,
             "#f0f921"
            ]
           ],
           "sequentialminus": [
            [
             0,
             "#0d0887"
            ],
            [
             0.1111111111111111,
             "#46039f"
            ],
            [
             0.2222222222222222,
             "#7201a8"
            ],
            [
             0.3333333333333333,
             "#9c179e"
            ],
            [
             0.4444444444444444,
             "#bd3786"
            ],
            [
             0.5555555555555556,
             "#d8576b"
            ],
            [
             0.6666666666666666,
             "#ed7953"
            ],
            [
             0.7777777777777778,
             "#fb9f3a"
            ],
            [
             0.8888888888888888,
             "#fdca26"
            ],
            [
             1,
             "#f0f921"
            ]
           ]
          },
          "colorway": [
           "#636efa",
           "#EF553B",
           "#00cc96",
           "#ab63fa",
           "#FFA15A",
           "#19d3f3",
           "#FF6692",
           "#B6E880",
           "#FF97FF",
           "#FECB52"
          ],
          "font": {
           "color": "#2a3f5f"
          },
          "geo": {
           "bgcolor": "white",
           "lakecolor": "white",
           "landcolor": "#E5ECF6",
           "showlakes": true,
           "showland": true,
           "subunitcolor": "white"
          },
          "hoverlabel": {
           "align": "left"
          },
          "hovermode": "closest",
          "mapbox": {
           "style": "light"
          },
          "paper_bgcolor": "white",
          "plot_bgcolor": "#E5ECF6",
          "polar": {
           "angularaxis": {
            "gridcolor": "white",
            "linecolor": "white",
            "ticks": ""
           },
           "bgcolor": "#E5ECF6",
           "radialaxis": {
            "gridcolor": "white",
            "linecolor": "white",
            "ticks": ""
           }
          },
          "scene": {
           "xaxis": {
            "backgroundcolor": "#E5ECF6",
            "gridcolor": "white",
            "gridwidth": 2,
            "linecolor": "white",
            "showbackground": true,
            "ticks": "",
            "zerolinecolor": "white"
           },
           "yaxis": {
            "backgroundcolor": "#E5ECF6",
            "gridcolor": "white",
            "gridwidth": 2,
            "linecolor": "white",
            "showbackground": true,
            "ticks": "",
            "zerolinecolor": "white"
           },
           "zaxis": {
            "backgroundcolor": "#E5ECF6",
            "gridcolor": "white",
            "gridwidth": 2,
            "linecolor": "white",
            "showbackground": true,
            "ticks": "",
            "zerolinecolor": "white"
           }
          },
          "shapedefaults": {
           "line": {
            "color": "#2a3f5f"
           }
          },
          "ternary": {
           "aaxis": {
            "gridcolor": "white",
            "linecolor": "white",
            "ticks": ""
           },
           "baxis": {
            "gridcolor": "white",
            "linecolor": "white",
            "ticks": ""
           },
           "bgcolor": "#E5ECF6",
           "caxis": {
            "gridcolor": "white",
            "linecolor": "white",
            "ticks": ""
           }
          },
          "title": {
           "x": 0.05
          },
          "xaxis": {
           "automargin": true,
           "gridcolor": "white",
           "linecolor": "white",
           "ticks": "",
           "title": {
            "standoff": 15
           },
           "zerolinecolor": "white",
           "zerolinewidth": 2
          },
          "yaxis": {
           "automargin": true,
           "gridcolor": "white",
           "linecolor": "white",
           "ticks": "",
           "title": {
            "standoff": 15
           },
           "zerolinecolor": "white",
           "zerolinewidth": 2
          }
         }
        },
        "title": {
         "text": "Воронка событий"
        },
        "width": 750
       }
      },
      "text/html": [
       "<div>                            <div id=\"1d73684c-a325-4648-ad15-57ff6c004bdb\" class=\"plotly-graph-div\" style=\"height:500px; width:750px;\"></div>            <script type=\"text/javascript\">                require([\"plotly\"], function(Plotly) {                    window.PLOTLYENV=window.PLOTLYENV || {};                                    if (document.getElementById(\"1d73684c-a325-4648-ad15-57ff6c004bdb\")) {                    Plotly.newPlot(                        \"1d73684c-a325-4648-ad15-57ff6c004bdb\",                        [{\"textinfo\":\"value+percent previous+percent initial\",\"x\":[7419,4593,3734,3539,840],\"y\":[\"\\u041f\\u0440\\u043e\\u0441\\u043c\\u043e\\u0442\\u0440 \\u0433\\u043b\\u0430\\u0432\\u043d\\u043e\\u0433\\u043e \\u044d\\u043a\\u0440\\u0430\\u043d\\u0430\",\"\\u041f\\u0440\\u043e\\u0441\\u043c\\u043e\\u0442\\u0440 \\u0441\\u0442\\u0440\\u0430\\u043d\\u0438\\u0446\\u044b \\u0441 \\u043f\\u0440\\u043e\\u0434\\u0443\\u043a\\u0442\\u043e\\u043c\",\"\\u041f\\u0440\\u043e\\u0441\\u043c\\u043e\\u0442\\u0440 \\u043a\\u043e\\u0440\\u0437\\u0438\\u043d\\u044b\",\"\\u0423\\u0441\\u043f\\u0435\\u0448\\u043d\\u0430\\u044f \\u043e\\u043f\\u043b\\u0430\\u0442\\u0430\"],\"type\":\"funnel\"}],                        {\"template\":{\"data\":{\"bar\":[{\"error_x\":{\"color\":\"#2a3f5f\"},\"error_y\":{\"color\":\"#2a3f5f\"},\"marker\":{\"line\":{\"color\":\"#E5ECF6\",\"width\":0.5},\"pattern\":{\"fillmode\":\"overlay\",\"size\":10,\"solidity\":0.2}},\"type\":\"bar\"}],\"barpolar\":[{\"marker\":{\"line\":{\"color\":\"#E5ECF6\",\"width\":0.5},\"pattern\":{\"fillmode\":\"overlay\",\"size\":10,\"solidity\":0.2}},\"type\":\"barpolar\"}],\"carpet\":[{\"aaxis\":{\"endlinecolor\":\"#2a3f5f\",\"gridcolor\":\"white\",\"linecolor\":\"white\",\"minorgridcolor\":\"white\",\"startlinecolor\":\"#2a3f5f\"},\"baxis\":{\"endlinecolor\":\"#2a3f5f\",\"gridcolor\":\"white\",\"linecolor\":\"white\",\"minorgridcolor\":\"white\",\"startlinecolor\":\"#2a3f5f\"},\"type\":\"carpet\"}],\"choropleth\":[{\"colorbar\":{\"outlinewidth\":0,\"ticks\":\"\"},\"type\":\"choropleth\"}],\"contour\":[{\"colorbar\":{\"outlinewidth\":0,\"ticks\":\"\"},\"colorscale\":[[0.0,\"#0d0887\"],[0.1111111111111111,\"#46039f\"],[0.2222222222222222,\"#7201a8\"],[0.3333333333333333,\"#9c179e\"],[0.4444444444444444,\"#bd3786\"],[0.5555555555555556,\"#d8576b\"],[0.6666666666666666,\"#ed7953\"],[0.7777777777777778,\"#fb9f3a\"],[0.8888888888888888,\"#fdca26\"],[1.0,\"#f0f921\"]],\"type\":\"contour\"}],\"contourcarpet\":[{\"colorbar\":{\"outlinewidth\":0,\"ticks\":\"\"},\"type\":\"contourcarpet\"}],\"heatmap\":[{\"colorbar\":{\"outlinewidth\":0,\"ticks\":\"\"},\"colorscale\":[[0.0,\"#0d0887\"],[0.1111111111111111,\"#46039f\"],[0.2222222222222222,\"#7201a8\"],[0.3333333333333333,\"#9c179e\"],[0.4444444444444444,\"#bd3786\"],[0.5555555555555556,\"#d8576b\"],[0.6666666666666666,\"#ed7953\"],[0.7777777777777778,\"#fb9f3a\"],[0.8888888888888888,\"#fdca26\"],[1.0,\"#f0f921\"]],\"type\":\"heatmap\"}],\"heatmapgl\":[{\"colorbar\":{\"outlinewidth\":0,\"ticks\":\"\"},\"colorscale\":[[0.0,\"#0d0887\"],[0.1111111111111111,\"#46039f\"],[0.2222222222222222,\"#7201a8\"],[0.3333333333333333,\"#9c179e\"],[0.4444444444444444,\"#bd3786\"],[0.5555555555555556,\"#d8576b\"],[0.6666666666666666,\"#ed7953\"],[0.7777777777777778,\"#fb9f3a\"],[0.8888888888888888,\"#fdca26\"],[1.0,\"#f0f921\"]],\"type\":\"heatmapgl\"}],\"histogram\":[{\"marker\":{\"pattern\":{\"fillmode\":\"overlay\",\"size\":10,\"solidity\":0.2}},\"type\":\"histogram\"}],\"histogram2d\":[{\"colorbar\":{\"outlinewidth\":0,\"ticks\":\"\"},\"colorscale\":[[0.0,\"#0d0887\"],[0.1111111111111111,\"#46039f\"],[0.2222222222222222,\"#7201a8\"],[0.3333333333333333,\"#9c179e\"],[0.4444444444444444,\"#bd3786\"],[0.5555555555555556,\"#d8576b\"],[0.6666666666666666,\"#ed7953\"],[0.7777777777777778,\"#fb9f3a\"],[0.8888888888888888,\"#fdca26\"],[1.0,\"#f0f921\"]],\"type\":\"histogram2d\"}],\"histogram2dcontour\":[{\"colorbar\":{\"outlinewidth\":0,\"ticks\":\"\"},\"colorscale\":[[0.0,\"#0d0887\"],[0.1111111111111111,\"#46039f\"],[0.2222222222222222,\"#7201a8\"],[0.3333333333333333,\"#9c179e\"],[0.4444444444444444,\"#bd3786\"],[0.5555555555555556,\"#d8576b\"],[0.6666666666666666,\"#ed7953\"],[0.7777777777777778,\"#fb9f3a\"],[0.8888888888888888,\"#fdca26\"],[1.0,\"#f0f921\"]],\"type\":\"histogram2dcontour\"}],\"mesh3d\":[{\"colorbar\":{\"outlinewidth\":0,\"ticks\":\"\"},\"type\":\"mesh3d\"}],\"parcoords\":[{\"line\":{\"colorbar\":{\"outlinewidth\":0,\"ticks\":\"\"}},\"type\":\"parcoords\"}],\"pie\":[{\"automargin\":true,\"type\":\"pie\"}],\"scatter\":[{\"marker\":{\"colorbar\":{\"outlinewidth\":0,\"ticks\":\"\"}},\"type\":\"scatter\"}],\"scatter3d\":[{\"line\":{\"colorbar\":{\"outlinewidth\":0,\"ticks\":\"\"}},\"marker\":{\"colorbar\":{\"outlinewidth\":0,\"ticks\":\"\"}},\"type\":\"scatter3d\"}],\"scattercarpet\":[{\"marker\":{\"colorbar\":{\"outlinewidth\":0,\"ticks\":\"\"}},\"type\":\"scattercarpet\"}],\"scattergeo\":[{\"marker\":{\"colorbar\":{\"outlinewidth\":0,\"ticks\":\"\"}},\"type\":\"scattergeo\"}],\"scattergl\":[{\"marker\":{\"colorbar\":{\"outlinewidth\":0,\"ticks\":\"\"}},\"type\":\"scattergl\"}],\"scattermapbox\":[{\"marker\":{\"colorbar\":{\"outlinewidth\":0,\"ticks\":\"\"}},\"type\":\"scattermapbox\"}],\"scatterpolar\":[{\"marker\":{\"colorbar\":{\"outlinewidth\":0,\"ticks\":\"\"}},\"type\":\"scatterpolar\"}],\"scatterpolargl\":[{\"marker\":{\"colorbar\":{\"outlinewidth\":0,\"ticks\":\"\"}},\"type\":\"scatterpolargl\"}],\"scatterternary\":[{\"marker\":{\"colorbar\":{\"outlinewidth\":0,\"ticks\":\"\"}},\"type\":\"scatterternary\"}],\"surface\":[{\"colorbar\":{\"outlinewidth\":0,\"ticks\":\"\"},\"colorscale\":[[0.0,\"#0d0887\"],[0.1111111111111111,\"#46039f\"],[0.2222222222222222,\"#7201a8\"],[0.3333333333333333,\"#9c179e\"],[0.4444444444444444,\"#bd3786\"],[0.5555555555555556,\"#d8576b\"],[0.6666666666666666,\"#ed7953\"],[0.7777777777777778,\"#fb9f3a\"],[0.8888888888888888,\"#fdca26\"],[1.0,\"#f0f921\"]],\"type\":\"surface\"}],\"table\":[{\"cells\":{\"fill\":{\"color\":\"#EBF0F8\"},\"line\":{\"color\":\"white\"}},\"header\":{\"fill\":{\"color\":\"#C8D4E3\"},\"line\":{\"color\":\"white\"}},\"type\":\"table\"}]},\"layout\":{\"annotationdefaults\":{\"arrowcolor\":\"#2a3f5f\",\"arrowhead\":0,\"arrowwidth\":1},\"autotypenumbers\":\"strict\",\"coloraxis\":{\"colorbar\":{\"outlinewidth\":0,\"ticks\":\"\"}},\"colorscale\":{\"diverging\":[[0,\"#8e0152\"],[0.1,\"#c51b7d\"],[0.2,\"#de77ae\"],[0.3,\"#f1b6da\"],[0.4,\"#fde0ef\"],[0.5,\"#f7f7f7\"],[0.6,\"#e6f5d0\"],[0.7,\"#b8e186\"],[0.8,\"#7fbc41\"],[0.9,\"#4d9221\"],[1,\"#276419\"]],\"sequential\":[[0.0,\"#0d0887\"],[0.1111111111111111,\"#46039f\"],[0.2222222222222222,\"#7201a8\"],[0.3333333333333333,\"#9c179e\"],[0.4444444444444444,\"#bd3786\"],[0.5555555555555556,\"#d8576b\"],[0.6666666666666666,\"#ed7953\"],[0.7777777777777778,\"#fb9f3a\"],[0.8888888888888888,\"#fdca26\"],[1.0,\"#f0f921\"]],\"sequentialminus\":[[0.0,\"#0d0887\"],[0.1111111111111111,\"#46039f\"],[0.2222222222222222,\"#7201a8\"],[0.3333333333333333,\"#9c179e\"],[0.4444444444444444,\"#bd3786\"],[0.5555555555555556,\"#d8576b\"],[0.6666666666666666,\"#ed7953\"],[0.7777777777777778,\"#fb9f3a\"],[0.8888888888888888,\"#fdca26\"],[1.0,\"#f0f921\"]]},\"colorway\":[\"#636efa\",\"#EF553B\",\"#00cc96\",\"#ab63fa\",\"#FFA15A\",\"#19d3f3\",\"#FF6692\",\"#B6E880\",\"#FF97FF\",\"#FECB52\"],\"font\":{\"color\":\"#2a3f5f\"},\"geo\":{\"bgcolor\":\"white\",\"lakecolor\":\"white\",\"landcolor\":\"#E5ECF6\",\"showlakes\":true,\"showland\":true,\"subunitcolor\":\"white\"},\"hoverlabel\":{\"align\":\"left\"},\"hovermode\":\"closest\",\"mapbox\":{\"style\":\"light\"},\"paper_bgcolor\":\"white\",\"plot_bgcolor\":\"#E5ECF6\",\"polar\":{\"angularaxis\":{\"gridcolor\":\"white\",\"linecolor\":\"white\",\"ticks\":\"\"},\"bgcolor\":\"#E5ECF6\",\"radialaxis\":{\"gridcolor\":\"white\",\"linecolor\":\"white\",\"ticks\":\"\"}},\"scene\":{\"xaxis\":{\"backgroundcolor\":\"#E5ECF6\",\"gridcolor\":\"white\",\"gridwidth\":2,\"linecolor\":\"white\",\"showbackground\":true,\"ticks\":\"\",\"zerolinecolor\":\"white\"},\"yaxis\":{\"backgroundcolor\":\"#E5ECF6\",\"gridcolor\":\"white\",\"gridwidth\":2,\"linecolor\":\"white\",\"showbackground\":true,\"ticks\":\"\",\"zerolinecolor\":\"white\"},\"zaxis\":{\"backgroundcolor\":\"#E5ECF6\",\"gridcolor\":\"white\",\"gridwidth\":2,\"linecolor\":\"white\",\"showbackground\":true,\"ticks\":\"\",\"zerolinecolor\":\"white\"}},\"shapedefaults\":{\"line\":{\"color\":\"#2a3f5f\"}},\"ternary\":{\"aaxis\":{\"gridcolor\":\"white\",\"linecolor\":\"white\",\"ticks\":\"\"},\"baxis\":{\"gridcolor\":\"white\",\"linecolor\":\"white\",\"ticks\":\"\"},\"bgcolor\":\"#E5ECF6\",\"caxis\":{\"gridcolor\":\"white\",\"linecolor\":\"white\",\"ticks\":\"\"}},\"title\":{\"x\":0.05},\"xaxis\":{\"automargin\":true,\"gridcolor\":\"white\",\"linecolor\":\"white\",\"ticks\":\"\",\"title\":{\"standoff\":15},\"zerolinecolor\":\"white\",\"zerolinewidth\":2},\"yaxis\":{\"automargin\":true,\"gridcolor\":\"white\",\"linecolor\":\"white\",\"ticks\":\"\",\"title\":{\"standoff\":15},\"zerolinecolor\":\"white\",\"zerolinewidth\":2}}},\"showlegend\":false,\"height\":500,\"width\":750,\"title\":{\"text\":\"\\u0412\\u043e\\u0440\\u043e\\u043d\\u043a\\u0430 \\u0441\\u043e\\u0431\\u044b\\u0442\\u0438\\u0439\"}},                        {\"responsive\": true}                    ).then(function(){\n",
       "                            \n",
       "var gd = document.getElementById('1d73684c-a325-4648-ad15-57ff6c004bdb');\n",
       "var x = new MutationObserver(function (mutations, observer) {{\n",
       "        var display = window.getComputedStyle(gd).display;\n",
       "        if (!display || display === 'none') {{\n",
       "            console.log([gd, 'removed!']);\n",
       "            Plotly.purge(gd);\n",
       "            observer.disconnect();\n",
       "        }}\n",
       "}});\n",
       "\n",
       "// Listen for the removal of the full notebook cells\n",
       "var notebookContainer = gd.closest('#notebook-container');\n",
       "if (notebookContainer) {{\n",
       "    x.observe(notebookContainer, {childList: true});\n",
       "}}\n",
       "\n",
       "// Listen for the clearing of the current output cell\n",
       "var outputEl = gd.closest('.output');\n",
       "if (outputEl) {{\n",
       "    x.observe(outputEl, {childList: true});\n",
       "}}\n",
       "\n",
       "                        })                };                });            </script>        </div>"
      ]
     },
     "metadata": {},
     "output_type": "display_data"
    }
   ],
   "source": [
    "# построим графим\n",
    "fig = go.Figure(\n",
    "    go.Funnel(\n",
    "        y=[\n",
    "            'Просмотр главного экрана',\n",
    "            'Просмотр страницы с продуктом',\n",
    "            'Просмотр корзины',\n",
    "            'Успешная оплата',\n",
    "        ],\n",
    "        x=users['nunique'],\n",
    "        textinfo = \"value + percent previous + percent initial\"\n",
    "    )\n",
    ")\n",
    "fig.update_layout(showlegend=False,height=500, width=750, title = \"Воронка событий\")\n",
    "fig.show() "
   ]
  },
  {
   "cell_type": "code",
   "execution_count": 33,
   "metadata": {},
   "outputs": [
    {
     "data": {
      "text/html": [
       "<div>\n",
       "<style scoped>\n",
       "    .dataframe tbody tr th:only-of-type {\n",
       "        vertical-align: middle;\n",
       "    }\n",
       "\n",
       "    .dataframe tbody tr th {\n",
       "        vertical-align: top;\n",
       "    }\n",
       "\n",
       "    .dataframe thead th {\n",
       "        text-align: right;\n",
       "    }\n",
       "</style>\n",
       "<table border=\"1\" class=\"dataframe\">\n",
       "  <thead>\n",
       "    <tr style=\"text-align: right;\">\n",
       "      <th></th>\n",
       "      <th>event_name</th>\n",
       "      <th>nunique</th>\n",
       "      <th>part</th>\n",
       "      <th>prev_step</th>\n",
       "      <th>conv_previous</th>\n",
       "      <th>conversion</th>\n",
       "    </tr>\n",
       "  </thead>\n",
       "  <tbody>\n",
       "    <tr>\n",
       "      <th>1</th>\n",
       "      <td>MainScreenAppear</td>\n",
       "      <td>7419</td>\n",
       "      <td>98.3</td>\n",
       "      <td>NaN</td>\n",
       "      <td>NaN</td>\n",
       "      <td>100.0</td>\n",
       "    </tr>\n",
       "    <tr>\n",
       "      <th>2</th>\n",
       "      <td>OffersScreenAppear</td>\n",
       "      <td>4593</td>\n",
       "      <td>60.8</td>\n",
       "      <td>7419.0</td>\n",
       "      <td>61.9</td>\n",
       "      <td>61.9</td>\n",
       "    </tr>\n",
       "    <tr>\n",
       "      <th>0</th>\n",
       "      <td>CartScreenAppear</td>\n",
       "      <td>3734</td>\n",
       "      <td>49.5</td>\n",
       "      <td>4593.0</td>\n",
       "      <td>81.3</td>\n",
       "      <td>50.3</td>\n",
       "    </tr>\n",
       "    <tr>\n",
       "      <th>3</th>\n",
       "      <td>PaymentScreenSuccessful</td>\n",
       "      <td>3539</td>\n",
       "      <td>46.9</td>\n",
       "      <td>3734.0</td>\n",
       "      <td>94.8</td>\n",
       "      <td>47.7</td>\n",
       "    </tr>\n",
       "  </tbody>\n",
       "</table>\n",
       "</div>"
      ],
      "text/plain": [
       "                event_name  nunique  part  prev_step  conv_previous  \\\n",
       "1         MainScreenAppear     7419  98.3        NaN            NaN   \n",
       "2       OffersScreenAppear     4593  60.8     7419.0           61.9   \n",
       "0         CartScreenAppear     3734  49.5     4593.0           81.3   \n",
       "3  PaymentScreenSuccessful     3539  46.9     3734.0           94.8   \n",
       "\n",
       "   conversion  \n",
       "1       100.0  \n",
       "2        61.9  \n",
       "0        50.3  \n",
       "3        47.7  "
      ]
     },
     "execution_count": 33,
     "metadata": {},
     "output_type": "execute_result"
    }
   ],
   "source": [
    "# соберём все расчёты в одну таблицу\n",
    "funnel_table = users.query('event_name != \"Tutorial\"')[['event_name', 'nunique', 'part']]\n",
    "funnel_table['prev_step'] = funnel_table['nunique'].shift()\n",
    "funnel_table['conv_previous'] = round((funnel_table['nunique']/funnel_table['prev_step'])*100, 1)\n",
    "funnel_table['conversion'] = round((funnel_table['nunique']/7419)*100, 1)\n",
    "funnel_table"
   ]
  },
  {
   "cell_type": "markdown",
   "metadata": {},
   "source": [
    "Промежуточные выводы:\n",
    "\n",
    "Воронка продаж:\n",
    "- MainScreenAppear (Главный экран)\n",
    "- OffersScreenAppear (Экран предложения)\n",
    "- CartScreenAppear (Переход к корзине)\n",
    "- PaymentScreenSuccessful (Экран успешной оплаты)\n",
    "- Tutorial (Руководство)\n",
    "\n",
    "\n",
    "- на второй этап попадает 62% пользователей, а 38% теряется - нужно отдельно разбираться, в чём причина\n",
    "- руководство пользователя считаем опциональным шагом и пропускаем при анализе\n",
    "- оплату завершают 48% пользователей от общего числа пользователей"
   ]
  },
  {
   "cell_type": "markdown",
   "metadata": {},
   "source": [
    "<div class=\"alert alert-success\">\n",
    "\n",
    "**✔️ Комментарий ревьюера ✔️**\n",
    "   \n",
    "   Последовательность абсолютно правильная. Да и кто из нас хотя бы раз не пропускал `tutorial`?😏\n",
    "\n",
    "</div>\n"
   ]
  },
  {
   "cell_type": "markdown",
   "metadata": {},
   "source": [
    "### На каком шаге теряете больше всего пользователей?"
   ]
  },
  {
   "cell_type": "markdown",
   "metadata": {},
   "source": [
    "Больше всего пользователей теряется на этапе перехода из MainScreenAppear к OffersScreenAppear (38%)"
   ]
  },
  {
   "cell_type": "markdown",
   "metadata": {},
   "source": [
    "### Какая доля пользователей доходит от первого события до оплаты?"
   ]
  },
  {
   "cell_type": "code",
   "execution_count": 1,
   "metadata": {},
   "outputs": [
    {
     "ename": "NameError",
     "evalue": "name 'df_filter' is not defined",
     "output_type": "error",
     "traceback": [
      "\u001b[0;31m---------------------------------------------------------------------------\u001b[0m",
      "\u001b[0;31mNameError\u001b[0m                                 Traceback (most recent call last)",
      "\u001b[0;32m/tmp/ipykernel_31/2117182056.py\u001b[0m in \u001b[0;36m<module>\u001b[0;34m\u001b[0m\n\u001b[1;32m      1\u001b[0m \u001b[0;31m# соберём в отдельную таблицу\u001b[0m\u001b[0;34m\u001b[0m\u001b[0;34m\u001b[0m\u001b[0;34m\u001b[0m\u001b[0m\n\u001b[0;32m----> 2\u001b[0;31m group_event_count = (df_filter.query('event_name != \"Tutorial\"')\n\u001b[0m\u001b[1;32m      3\u001b[0m                              \u001b[0;34m.\u001b[0m\u001b[0mgroupby\u001b[0m\u001b[0;34m(\u001b[0m\u001b[0;34m[\u001b[0m\u001b[0;34m'exp_id'\u001b[0m\u001b[0;34m,\u001b[0m \u001b[0;34m'event_name'\u001b[0m\u001b[0;34m]\u001b[0m\u001b[0;34m)\u001b[0m\u001b[0;34m\u001b[0m\u001b[0;34m\u001b[0m\u001b[0m\n\u001b[1;32m      4\u001b[0m                              \u001b[0;34m.\u001b[0m\u001b[0magg\u001b[0m\u001b[0;34m(\u001b[0m\u001b[0;34m{\u001b[0m\u001b[0;34m'device_id_hash'\u001b[0m\u001b[0;34m:\u001b[0m\u001b[0;34m'nunique'\u001b[0m\u001b[0;34m}\u001b[0m\u001b[0;34m)\u001b[0m\u001b[0;34m\u001b[0m\u001b[0;34m\u001b[0m\u001b[0m\n\u001b[1;32m      5\u001b[0m                              \u001b[0;34m.\u001b[0m\u001b[0mreset_index\u001b[0m\u001b[0;34m(\u001b[0m\u001b[0;34m)\u001b[0m\u001b[0;34m\u001b[0m\u001b[0;34m\u001b[0m\u001b[0m\n",
      "\u001b[0;31mNameError\u001b[0m: name 'df_filter' is not defined"
     ]
    }
   ],
   "source": [
    "# соберём в отдельную таблицу\n",
    "group_event_count = (df_filter.query('event_name != \"Tutorial\"')\n",
    "                             .groupby(['exp_id', 'event_name'])\n",
    "                             .agg({'device_id_hash':'nunique'})\n",
    "                             .reset_index()\n",
    "                             .sort_values('device_id_hash', ascending=False))\n",
    "\n",
    "# построим график\n",
    "fig = go.Figure() \n",
    "for group in [246,247,248]:\n",
    "    funnel = group_event_count.query('exp_id ==@group')\n",
    "    fig.add_trace(go.Funnel(name = group,\n",
    "                            y = funnel['event_name'],\n",
    "                            x = funnel['device_id_hash'],\n",
    "                            orientation = \"h\",\n",
    "                            textinfo = \"value+percent initial\"))\n",
    "    fig.update_layout(title='Воронка событий по группам')\n",
    "fig.show()"
   ]
  },
  {
   "cell_type": "markdown",
   "metadata": {},
   "source": [
    "Промежуточные выводы:\n",
    "- в среднем 47% пользователей - успешно доходят до экрана оплаты\n",
    "- наибольшие потери пользователей на втором шаге воронки - OffersScreenAppear\n",
    "- на остальных шагах воронки потери пользователей относительно приемлимы\n",
    "- тестовые группы выглядят идентично, дельта примерно 1-2%"
   ]
  },
  {
   "cell_type": "markdown",
   "metadata": {},
   "source": [
    "<div class=\"alert alert-success\">\n",
    "\n",
    "**✔️ Комментарий ревьюера ✔️**\n",
    "   \n",
    "   Отличная визуализация👍\n",
    "\n",
    "</div>\n"
   ]
  },
  {
   "cell_type": "markdown",
   "metadata": {},
   "source": [
    "## Изучите результаты эксперимента"
   ]
  },
  {
   "cell_type": "markdown",
   "metadata": {},
   "source": [
    "### Сколько пользователей в каждой экспериментальной группе?"
   ]
  },
  {
   "cell_type": "code",
   "execution_count": 35,
   "metadata": {},
   "outputs": [
    {
     "data": {
      "text/html": [
       "<div>\n",
       "<style scoped>\n",
       "    .dataframe tbody tr th:only-of-type {\n",
       "        vertical-align: middle;\n",
       "    }\n",
       "\n",
       "    .dataframe tbody tr th {\n",
       "        vertical-align: top;\n",
       "    }\n",
       "\n",
       "    .dataframe thead th {\n",
       "        text-align: right;\n",
       "    }\n",
       "</style>\n",
       "<table border=\"1\" class=\"dataframe\">\n",
       "  <thead>\n",
       "    <tr style=\"text-align: right;\">\n",
       "      <th>exp_id</th>\n",
       "      <th>event_name</th>\n",
       "      <th>246</th>\n",
       "      <th>247</th>\n",
       "      <th>248</th>\n",
       "    </tr>\n",
       "  </thead>\n",
       "  <tbody>\n",
       "    <tr>\n",
       "      <th>1</th>\n",
       "      <td>MainScreenAppear</td>\n",
       "      <td>2450</td>\n",
       "      <td>2476</td>\n",
       "      <td>2493</td>\n",
       "    </tr>\n",
       "    <tr>\n",
       "      <th>2</th>\n",
       "      <td>OffersScreenAppear</td>\n",
       "      <td>1542</td>\n",
       "      <td>1520</td>\n",
       "      <td>1531</td>\n",
       "    </tr>\n",
       "    <tr>\n",
       "      <th>0</th>\n",
       "      <td>CartScreenAppear</td>\n",
       "      <td>1266</td>\n",
       "      <td>1238</td>\n",
       "      <td>1230</td>\n",
       "    </tr>\n",
       "    <tr>\n",
       "      <th>3</th>\n",
       "      <td>PaymentScreenSuccessful</td>\n",
       "      <td>1200</td>\n",
       "      <td>1158</td>\n",
       "      <td>1181</td>\n",
       "    </tr>\n",
       "  </tbody>\n",
       "</table>\n",
       "</div>"
      ],
      "text/plain": [
       "exp_id               event_name   246   247   248\n",
       "1              MainScreenAppear  2450  2476  2493\n",
       "2            OffersScreenAppear  1542  1520  1531\n",
       "0              CartScreenAppear  1266  1238  1230\n",
       "3       PaymentScreenSuccessful  1200  1158  1181"
      ]
     },
     "execution_count": 35,
     "metadata": {},
     "output_type": "execute_result"
    }
   ],
   "source": [
    "# сформируем отдельную таблицу с количеством пользователей по каждой группе\n",
    "# отфильтруем \"руководство\"\n",
    "users_by_event = df_filter[df_filter['event_name'] != 'Tutorial'].pivot_table(\n",
    "    index='event_name',\n",
    "    columns='exp_id',\n",
    "    values='device_id_hash',\n",
    "    aggfunc='nunique'\n",
    ").reset_index().sort_values(by=248, ascending=False)\n",
    "\n",
    "\n",
    "users_by_event"
   ]
  },
  {
   "cell_type": "code",
   "execution_count": 36,
   "metadata": {},
   "outputs": [
    {
     "data": {
      "text/plain": [
       "exp_id\n",
       "246        2484\n",
       "247        2513\n",
       "248        2537\n",
       "246+247    4997\n",
       "Name: device_id_hash, dtype: int64"
      ]
     },
     "execution_count": 36,
     "metadata": {},
     "output_type": "execute_result"
    }
   ],
   "source": [
    "# общее количество пользователей в каждой группе:\n",
    "users_in_group = df_filter.groupby('exp_id')['device_id_hash'].nunique()\n",
    "users_in_group['246+247'] = users_in_group[246] + users_in_group[247]\n",
    "users_in_group"
   ]
  },
  {
   "cell_type": "markdown",
   "metadata": {},
   "source": [
    "Количество пользователей в каждой группе приблизительно равно - разбивка на группы довольно равномерная."
   ]
  },
  {
   "cell_type": "markdown",
   "metadata": {},
   "source": [
    "### Есть 2 контрольные группы для А/А-эксперимента, чтобы проверить корректность всех механизмов и расчётов. Проверьте, находят ли статистические критерии разницу между выборками 246 и 247."
   ]
  },
  {
   "cell_type": "code",
   "execution_count": 37,
   "metadata": {},
   "outputs": [
    {
     "data": {
      "text/html": [
       "<div>\n",
       "<style scoped>\n",
       "    .dataframe tbody tr th:only-of-type {\n",
       "        vertical-align: middle;\n",
       "    }\n",
       "\n",
       "    .dataframe tbody tr th {\n",
       "        vertical-align: top;\n",
       "    }\n",
       "\n",
       "    .dataframe thead th {\n",
       "        text-align: right;\n",
       "    }\n",
       "</style>\n",
       "<table border=\"1\" class=\"dataframe\">\n",
       "  <thead>\n",
       "    <tr style=\"text-align: right;\">\n",
       "      <th>exp_id</th>\n",
       "      <th>event_name</th>\n",
       "      <th>246</th>\n",
       "      <th>247</th>\n",
       "      <th>248</th>\n",
       "      <th>246+247</th>\n",
       "      <th>total</th>\n",
       "      <th>part_246</th>\n",
       "      <th>part_247</th>\n",
       "      <th>part_248</th>\n",
       "      <th>part_246+247</th>\n",
       "    </tr>\n",
       "  </thead>\n",
       "  <tbody>\n",
       "    <tr>\n",
       "      <th>0</th>\n",
       "      <td>MainScreenAppear</td>\n",
       "      <td>2450</td>\n",
       "      <td>2476</td>\n",
       "      <td>2493</td>\n",
       "      <td>4926</td>\n",
       "      <td>7419</td>\n",
       "      <td>98.6</td>\n",
       "      <td>98.5</td>\n",
       "      <td>98.3</td>\n",
       "      <td>98.6</td>\n",
       "    </tr>\n",
       "    <tr>\n",
       "      <th>1</th>\n",
       "      <td>OffersScreenAppear</td>\n",
       "      <td>1542</td>\n",
       "      <td>1520</td>\n",
       "      <td>1531</td>\n",
       "      <td>3062</td>\n",
       "      <td>4593</td>\n",
       "      <td>62.1</td>\n",
       "      <td>60.5</td>\n",
       "      <td>60.3</td>\n",
       "      <td>61.3</td>\n",
       "    </tr>\n",
       "    <tr>\n",
       "      <th>2</th>\n",
       "      <td>CartScreenAppear</td>\n",
       "      <td>1266</td>\n",
       "      <td>1238</td>\n",
       "      <td>1230</td>\n",
       "      <td>2504</td>\n",
       "      <td>3734</td>\n",
       "      <td>51.0</td>\n",
       "      <td>49.3</td>\n",
       "      <td>48.5</td>\n",
       "      <td>50.1</td>\n",
       "    </tr>\n",
       "    <tr>\n",
       "      <th>3</th>\n",
       "      <td>PaymentScreenSuccessful</td>\n",
       "      <td>1200</td>\n",
       "      <td>1158</td>\n",
       "      <td>1181</td>\n",
       "      <td>2358</td>\n",
       "      <td>3539</td>\n",
       "      <td>48.3</td>\n",
       "      <td>46.1</td>\n",
       "      <td>46.6</td>\n",
       "      <td>47.2</td>\n",
       "    </tr>\n",
       "  </tbody>\n",
       "</table>\n",
       "</div>"
      ],
      "text/plain": [
       "exp_id               event_name   246   247   248  246+247  total  part_246  \\\n",
       "0              MainScreenAppear  2450  2476  2493     4926   7419      98.6   \n",
       "1            OffersScreenAppear  1542  1520  1531     3062   4593      62.1   \n",
       "2              CartScreenAppear  1266  1238  1230     2504   3734      51.0   \n",
       "3       PaymentScreenSuccessful  1200  1158  1181     2358   3539      48.3   \n",
       "\n",
       "exp_id  part_247  part_248  part_246+247  \n",
       "0           98.5      98.3          98.6  \n",
       "1           60.5      60.3          61.3  \n",
       "2           49.3      48.5          50.1  \n",
       "3           46.1      46.6          47.2  "
      ]
     },
     "execution_count": 37,
     "metadata": {},
     "output_type": "execute_result"
    }
   ],
   "source": [
    "# срез данных без \"руководства\"\n",
    "\n",
    "event_and_group = df_filter[df_filter['event_name']!='Tutorial'].pivot_table(\n",
    "    index='event_name', \n",
    "    columns='exp_id', \n",
    "    values='device_id_hash',\n",
    "    aggfunc='nunique').sort_values(by=246, ascending=False).reset_index()\n",
    "\n",
    "\n",
    "# считаем сумму двух контрольных групп\n",
    "# сумму всех групп вместе и доли пользователей \n",
    "# в процентах, совершивших каждое из событий\n",
    "# и сводим в одну таблицу\n",
    "\n",
    "event_and_group['246+247'] = event_and_group[246] + event_and_group[247]\n",
    "event_and_group['total'] = event_and_group['246+247'] + event_and_group[248]\n",
    "event_and_group['part_246'] = (event_and_group[246] / users_in_group[246] * 100).round(1)\n",
    "event_and_group['part_247'] = (event_and_group[247] / users_in_group[247] * 100).round(1)\n",
    "event_and_group['part_248'] = (event_and_group[248] / users_in_group[248] * 100).round(1)\n",
    "event_and_group['part_246+247'] = ((event_and_group[246] + event_and_group[247]) / \\\n",
    "                                  (users_in_group[246] + users_in_group[247]) * 100).round(1)\n",
    "\n",
    "event_and_group"
   ]
  },
  {
   "cell_type": "markdown",
   "metadata": {},
   "source": [
    "Посещение главной страницы приложения лидирует - 98% пользователей в каждой из групп. \n",
    "\n",
    "Контрольные группы для А/А теста готовы.\n",
    "\n",
    "Проверим гипотезы:\n",
    "\n",
    "- H0: доли двух контрольных выборок разные\n",
    "- H1: доли двух контрольных выборок одинаковые"
   ]
  },
  {
   "cell_type": "code",
   "execution_count": 38,
   "metadata": {},
   "outputs": [],
   "source": [
    "def z_test(group1, group2, alpha):\n",
    "    \n",
    "    for i in event_and_group.index:\n",
    "        \n",
    "        # пропорция успеха в первой группе:\n",
    "        p1 = event_and_group[group1][i] / users_in_group[group1]\n",
    "        \n",
    "        # пропорция успеха во второй группе:\n",
    "        p2 = event_and_group[group2][i] / users_in_group[group2]\n",
    "        \n",
    "        # пропорция успехов в комбинированных данных:\n",
    "        p_combined = ((event_and_group[group1][i] + event_and_group[group2][i]) / \n",
    "                      (users_in_group[group1] + users_in_group[group2]))\n",
    "        \n",
    "        # разница пропорций в данных\n",
    "        difference = p1 - p2\n",
    "        \n",
    "        # статистика в ст.отклонениях стандартного нормального распределения\n",
    "        z_value = difference / mth.sqrt(p_combined * (1 - p_combined) * \\\n",
    "        (1/users_in_group[group1] + 1/users_in_group[group2]))\n",
    "        \n",
    "        # стандартное нормальное распределение (среднее 0, ст.отклонение 1)\n",
    "        distr = st.norm(0, 1) \n",
    "        p_value = (1 - distr.cdf(abs(z_value))) * 2\n",
    "        \n",
    "        bonferroni = alpha / 16\n",
    "        \n",
    "        print(f'{event_and_group[\"event_name\"][i]} p-значение: {p_value}')\n",
    "        \n",
    "        if (p_value < alpha):\n",
    "            print(\"Отвергаем нулевую гипотезу: между долями есть значимая разница\")\n",
    "        else:\n",
    "            print(\"Не получилось отвергнуть нулевую гипотезу, нет оснований считать доли разными\")\n",
    "        print('')"
   ]
  },
  {
   "cell_type": "markdown",
   "metadata": {},
   "source": [
    "### Выберите самое популярное событие. Посчитайте число пользователей, совершивших это событие в каждой из контрольных групп. Посчитайте долю пользователей, совершивших это событие. Проверьте, будет ли отличие между группами статистически достоверным. Проделайте то же самое для всех других событий (удобно обернуть проверку в отдельную функцию). Можно ли сказать, что разбиение на группы работает корректно?"
   ]
  },
  {
   "cell_type": "markdown",
   "metadata": {},
   "source": [
    "Успех A/A теста - различие ключевых метрик по группам не превышает 1%.\n",
    "\n",
    "Возьмем статистическую значимость в 0.01% для А/А теста, а для A/B тестов достаточно будет взять уровень значимости в 0.05%."
   ]
  },
  {
   "cell_type": "code",
   "execution_count": 39,
   "metadata": {},
   "outputs": [
    {
     "name": "stdout",
     "output_type": "stream",
     "text": [
      "A/A: сравнение 246 и 247 группы\n",
      "\n",
      "MainScreenAppear p-значение: 0.7570597232046099\n",
      "Не получилось отвергнуть нулевую гипотезу, нет оснований считать доли разными\n",
      "\n",
      "OffersScreenAppear p-значение: 0.2480954578522181\n",
      "Не получилось отвергнуть нулевую гипотезу, нет оснований считать доли разными\n",
      "\n",
      "CartScreenAppear p-значение: 0.22883372237997213\n",
      "Не получилось отвергнуть нулевую гипотезу, нет оснований считать доли разными\n",
      "\n",
      "PaymentScreenSuccessful p-значение: 0.11456679313141849\n",
      "Не получилось отвергнуть нулевую гипотезу, нет оснований считать доли разными\n",
      "\n"
     ]
    }
   ],
   "source": [
    "print('A/A: сравнение 246 и 247 группы')\n",
    "print()\n",
    "\n",
    "z_test(246, 247, 0.01)"
   ]
  },
  {
   "cell_type": "markdown",
   "metadata": {},
   "source": [
    "Резюмируя: можно сказать, что разбиение на группы работает корректно.\n",
    "\n",
    "Приступаем к A/B-тестированию и сравниваем контрольные группы с экспериментальной."
   ]
  },
  {
   "cell_type": "markdown",
   "metadata": {},
   "source": [
    "### Аналогично поступите с группой с изменённым шрифтом. Сравните результаты с каждой из контрольных групп в отдельности по каждому событию. Сравните результаты с объединённой контрольной группой. Какие выводы из эксперимента можно сделать?"
   ]
  },
  {
   "cell_type": "markdown",
   "metadata": {},
   "source": [
    "#### A1/B - тест:"
   ]
  },
  {
   "cell_type": "code",
   "execution_count": 40,
   "metadata": {},
   "outputs": [
    {
     "name": "stdout",
     "output_type": "stream",
     "text": [
      "A1/B: сравнение 246 и 248 группы\n",
      "\n",
      "MainScreenAppear p-значение: 0.2949721933554552\n",
      "Не получилось отвергнуть нулевую гипотезу, нет оснований считать доли разными\n",
      "\n",
      "OffersScreenAppear p-значение: 0.20836205402738917\n",
      "Не получилось отвергнуть нулевую гипотезу, нет оснований считать доли разными\n",
      "\n",
      "CartScreenAppear p-значение: 0.07842923237520116\n",
      "Не получилось отвергнуть нулевую гипотезу, нет оснований считать доли разными\n",
      "\n",
      "PaymentScreenSuccessful p-значение: 0.2122553275697796\n",
      "Не получилось отвергнуть нулевую гипотезу, нет оснований считать доли разными\n",
      "\n"
     ]
    }
   ],
   "source": [
    "print('A1/B: сравнение 246 и 248 группы')\n",
    "print()\n",
    "\n",
    "z_test(246, 248, 0.05)"
   ]
  },
  {
   "cell_type": "markdown",
   "metadata": {},
   "source": [
    "#### A2/B - тест:"
   ]
  },
  {
   "cell_type": "code",
   "execution_count": 41,
   "metadata": {},
   "outputs": [
    {
     "name": "stdout",
     "output_type": "stream",
     "text": [
      "A2/B: сравнение 247 и 248 группы\n",
      "\n",
      "MainScreenAppear p-значение: 0.4587053616621515\n",
      "Не получилось отвергнуть нулевую гипотезу, нет оснований считать доли разными\n",
      "\n",
      "OffersScreenAppear p-значение: 0.9197817830592261\n",
      "Не получилось отвергнуть нулевую гипотезу, нет оснований считать доли разными\n",
      "\n",
      "CartScreenAppear p-значение: 0.5786197879539783\n",
      "Не получилось отвергнуть нулевую гипотезу, нет оснований считать доли разными\n",
      "\n",
      "PaymentScreenSuccessful p-значение: 0.7373415053803964\n",
      "Не получилось отвергнуть нулевую гипотезу, нет оснований считать доли разными\n",
      "\n"
     ]
    }
   ],
   "source": [
    "print('A2/B: сравнение 247 и 248 группы')\n",
    "print()\n",
    "\n",
    "z_test(247, 248, 0.05)"
   ]
  },
  {
   "cell_type": "markdown",
   "metadata": {},
   "source": [
    "#### A1+A2/B - тест:"
   ]
  },
  {
   "cell_type": "code",
   "execution_count": 42,
   "metadata": {},
   "outputs": [
    {
     "name": "stdout",
     "output_type": "stream",
     "text": [
      "A1+A2/B: сравнение 246+247 и 248 группы\n",
      "\n",
      "MainScreenAppear p-значение: 0.29424526837179577\n",
      "Не получилось отвергнуть нулевую гипотезу, нет оснований считать доли разными\n",
      "\n",
      "OffersScreenAppear p-значение: 0.43425549655188256\n",
      "Не получилось отвергнуть нулевую гипотезу, нет оснований считать доли разными\n",
      "\n",
      "CartScreenAppear p-значение: 0.18175875284404386\n",
      "Не получилось отвергнуть нулевую гипотезу, нет оснований считать доли разными\n",
      "\n",
      "PaymentScreenSuccessful p-значение: 0.6004294282308704\n",
      "Не получилось отвергнуть нулевую гипотезу, нет оснований считать доли разными\n",
      "\n"
     ]
    }
   ],
   "source": [
    "print('A1+A2/B: сравнение 246+247 и 248 группы')\n",
    "print()\n",
    "\n",
    "z_test('246+247', 248, 0.05)"
   ]
  },
  {
   "cell_type": "markdown",
   "metadata": {},
   "source": [
    "Промежуточный вывод: значимой разницы между группами во всех тестах не выявлено."
   ]
  },
  {
   "cell_type": "markdown",
   "metadata": {},
   "source": [
    "### Какой уровень значимости вы выбрали при проверке статистических гипотез выше? Посчитайте, сколько проверок статистических гипотез вы сделали. При уровне значимости 0.1 каждый десятый раз можно получать ложный результат. Какой уровень значимости стоит применить? Если вы хотите изменить его, проделайте предыдущие пункты и проверьте свои выводы."
   ]
  },
  {
   "cell_type": "markdown",
   "metadata": {},
   "source": [
    "Итого у нас получилось 16 статистических проверок с одинаковым результатом: измененение шрифта в приложении никак не влияет на поведение пользователей, можно поменять шрифт, а можно оставить, как есть."
   ]
  },
  {
   "cell_type": "markdown",
   "metadata": {},
   "source": [
    "<div class=\"alert alert-success\">\n",
    "\n",
    "**✔️ Комментарий ревьюера ✔️** \n",
    "   \n",
    "   Хорошая работа👍 Гипотезы сформулированы верно. Для закрепления, хочу поделиться интересной статьей по проверке статистических гипотез: https://habr.com/ru/post/556852/.\n",
    "\n",
    "</div>\n"
   ]
  },
  {
   "cell_type": "markdown",
   "metadata": {},
   "source": [
    "# Итоговый вывод"
   ]
  },
  {
   "cell_type": "markdown",
   "metadata": {},
   "source": [
    "Изучив данные, обнаружили, что они содержат информацию о событиях: название события, уникальный идентификатор пользователя, время события, номер эксперимента. Привели данные к корректному виду для анализа.\n",
    "\n",
    "Сократили изучаемый период до одной недели - только за этот период присутствовали полные данные. Потери данных - несущественны.\n",
    "\n",
    "Исследуемая воронка продаж:\n",
    "- MainScreenAppear (Главный экран)\n",
    "- OffersScreenAppear (Экран предложения)\n",
    "- CartScreenAppear (Переход к корзине)\n",
    "- PaymentScreenSuccessful (Экран успешной оплаты)\n",
    "- Tutorial (Руководство)\n",
    "\n",
    "Выявлено, что оплату завершают 48% пользователей приложения.\n",
    "\n",
    "Наибольшие потери пользователей при переходе от главной страницы к странице с предложениями - возможно некорректное расположение кнопки перехода или дефект.\n",
    "\n",
    "Главная цель анализа - изучить влияние изменения шрифта на поведение пользователей.\n",
    "\n",
    "Для эксперимента пользователи были поделены на три группы: две контрольные и одна экспериментальная, которая видела новый шрифт в приложении.\n",
    "\n",
    "Корректность начала исследования подтверждена проведением А/А теста.\n",
    "\n",
    "A/A-тест не выявил статистически значимых различий между контрольными группами. Уровень статистической значимости был установлен в 0.01%. Для последующих A/B-тестов использовался уровень значимости в 0.05%.\n",
    "\n",
    "Согласно проведённому исследованию измененение шрифта в приложении не повлияло на поведение пользователей.\n",
    "\n",
    "Если целью было изменения UI/UX (например, на корпоративные стандарты) - то исследование можно признать успешным и внедрять на всех пользователей.\n",
    "\n",
    "В случае, если целью изменения шрифта было повышение прибыли, то результаты исследования стоит признать неутешительными и проверять другие гипотезы для поднятия процента ликвидных пользователей."
   ]
  },
  {
   "cell_type": "markdown",
   "metadata": {},
   "source": [
    "<div class=\"alert alert-success\">\n",
    "\n",
    "**✔️ Комментарий ревьюера ✔️**\n",
    "   \n",
    "   Ольга, проведен основательный и подробный анализ. Замечаний к проекту нет, мне он очень понравился. Постарался дать советы. Отправляю проект обратно, чтобы ответить на вопросы, если они возникнут.\n",
    "\n",
    "</div>"
   ]
  },
  {
   "cell_type": "markdown",
   "metadata": {},
   "source": [
    "<div class=\"alert alert-info\"> <b>Комментарий студента:</b> Михаил, большое спасибо за обратную связь и ссылки! Рада, что всё успешно. В процессе выполнения сформулировала для себя список тем, которые нужно подтянуть. Попрошу также поделиться с высоты своего опыта хорошими базовыми книгами по аналитике даннных, если это возможно.</div>\n",
    "<div class=\"alert alert-success\">\n",
    "\n",
    "**✔️ Комментарий ревьюера v2✔️**\n",
    "   \n",
    "   «Python и анализ данных», Уэс Маккинни\n",
    "    «Python для сложных задач: наука о данных и машинное обучение», Джейк Вандер Плас - применение стека инструментов исследования данных языка Python для хранения, манипуляции и понимания данных. Рассматриваются библиотеки IPython, NumPy, Pandas, Matplotlib и Scikit-Learn.\n",
    "\n",
    "</div>\n"
   ]
  },
  {
   "cell_type": "code",
   "execution_count": null,
   "metadata": {},
   "outputs": [],
   "source": []
  }
 ],
 "metadata": {
  "ExecuteTimeLog": [
   {
    "duration": 111,
    "start_time": "2022-09-21T08:53:47.781Z"
   },
   {
    "duration": 1466,
    "start_time": "2022-09-21T09:03:55.120Z"
   },
   {
    "duration": 773,
    "start_time": "2022-09-21T09:03:56.588Z"
   },
   {
    "duration": 23,
    "start_time": "2022-09-21T09:03:57.678Z"
   },
   {
    "duration": 45,
    "start_time": "2022-09-22T12:11:14.481Z"
   },
   {
    "duration": 6,
    "start_time": "2022-09-22T12:11:19.463Z"
   },
   {
    "duration": 1302,
    "start_time": "2022-09-22T12:11:23.630Z"
   },
   {
    "duration": 467,
    "start_time": "2022-09-22T12:11:24.933Z"
   },
   {
    "duration": 12,
    "start_time": "2022-09-22T12:11:25.778Z"
   },
   {
    "duration": 19,
    "start_time": "2022-09-22T12:11:27.267Z"
   },
   {
    "duration": 49,
    "start_time": "2022-09-22T12:11:45.807Z"
   },
   {
    "duration": 22,
    "start_time": "2022-09-22T12:11:57.771Z"
   },
   {
    "duration": 7,
    "start_time": "2022-09-22T12:16:54.734Z"
   },
   {
    "duration": 16,
    "start_time": "2022-09-22T12:17:34.385Z"
   },
   {
    "duration": 71,
    "start_time": "2022-09-22T12:29:43.744Z"
   },
   {
    "duration": 54,
    "start_time": "2022-09-22T12:31:26.191Z"
   },
   {
    "duration": 20,
    "start_time": "2022-09-22T12:31:40.822Z"
   },
   {
    "duration": 37,
    "start_time": "2022-09-22T12:34:31.417Z"
   },
   {
    "duration": 72,
    "start_time": "2022-09-22T12:35:13.234Z"
   },
   {
    "duration": 8,
    "start_time": "2022-09-22T12:36:21.718Z"
   },
   {
    "duration": 66,
    "start_time": "2022-09-22T12:36:53.467Z"
   },
   {
    "duration": 99,
    "start_time": "2022-09-22T12:37:39.070Z"
   },
   {
    "duration": 11,
    "start_time": "2022-09-22T12:37:53.717Z"
   },
   {
    "duration": 159,
    "start_time": "2022-09-22T12:38:25.734Z"
   },
   {
    "duration": 3,
    "start_time": "2022-09-22T12:38:36.114Z"
   },
   {
    "duration": 23,
    "start_time": "2022-09-22T12:38:45.123Z"
   },
   {
    "duration": 84,
    "start_time": "2022-09-22T12:45:24.749Z"
   },
   {
    "duration": 65,
    "start_time": "2022-09-22T12:46:38.197Z"
   },
   {
    "duration": 22,
    "start_time": "2022-09-22T14:06:03.749Z"
   },
   {
    "duration": 48,
    "start_time": "2022-09-22T14:06:25.588Z"
   },
   {
    "duration": 6,
    "start_time": "2022-09-22T14:07:07.934Z"
   },
   {
    "duration": 3,
    "start_time": "2022-09-22T14:07:54.058Z"
   },
   {
    "duration": 20,
    "start_time": "2022-09-22T14:10:13.011Z"
   },
   {
    "duration": 236,
    "start_time": "2022-09-22T14:10:25.829Z"
   },
   {
    "duration": 4,
    "start_time": "2022-09-22T14:11:57.721Z"
   },
   {
    "duration": 7,
    "start_time": "2022-09-22T14:13:21.425Z"
   },
   {
    "duration": 51,
    "start_time": "2022-09-22T14:15:05.699Z"
   },
   {
    "duration": 1185,
    "start_time": "2022-09-22T14:17:01.708Z"
   },
   {
    "duration": 1022,
    "start_time": "2022-09-22T14:17:15.924Z"
   },
   {
    "duration": 735,
    "start_time": "2022-09-22T14:17:46.538Z"
   },
   {
    "duration": 56,
    "start_time": "2022-09-22T14:28:12.502Z"
   },
   {
    "duration": 17,
    "start_time": "2022-09-22T14:31:47.368Z"
   },
   {
    "duration": 20,
    "start_time": "2022-09-22T14:47:26.947Z"
   },
   {
    "duration": 39,
    "start_time": "2022-09-22T14:47:37.214Z"
   },
   {
    "duration": 23,
    "start_time": "2022-09-22T14:49:58.392Z"
   },
   {
    "duration": 315,
    "start_time": "2022-09-22T14:50:22.214Z"
   },
   {
    "duration": 64,
    "start_time": "2022-09-22T14:53:06.213Z"
   },
   {
    "duration": 141,
    "start_time": "2022-09-22T14:54:23.961Z"
   },
   {
    "duration": 132,
    "start_time": "2022-09-22T14:56:48.452Z"
   },
   {
    "duration": 140,
    "start_time": "2022-09-22T14:58:37.972Z"
   },
   {
    "duration": 4,
    "start_time": "2022-09-22T14:59:43.907Z"
   },
   {
    "duration": 484,
    "start_time": "2022-09-22T15:00:03.994Z"
   },
   {
    "duration": 52,
    "start_time": "2022-09-22T15:04:19.066Z"
   },
   {
    "duration": 535,
    "start_time": "2022-09-22T15:04:42.636Z"
   },
   {
    "duration": 9,
    "start_time": "2022-09-22T15:08:18.108Z"
   },
   {
    "duration": 7,
    "start_time": "2022-09-22T15:09:02.355Z"
   },
   {
    "duration": 16,
    "start_time": "2022-09-22T15:09:31.795Z"
   },
   {
    "duration": 75,
    "start_time": "2022-09-22T15:10:20.773Z"
   },
   {
    "duration": 8,
    "start_time": "2022-09-22T15:10:38.056Z"
   },
   {
    "duration": 7,
    "start_time": "2022-09-22T15:11:30.563Z"
   },
   {
    "duration": 99,
    "start_time": "2022-09-22T15:12:12.925Z"
   },
   {
    "duration": 6,
    "start_time": "2022-09-22T15:12:26.365Z"
   },
   {
    "duration": 8,
    "start_time": "2022-09-22T15:12:36.948Z"
   },
   {
    "duration": 37,
    "start_time": "2022-09-22T15:16:24.287Z"
   },
   {
    "duration": 4,
    "start_time": "2022-09-22T15:21:24.140Z"
   },
   {
    "duration": 56,
    "start_time": "2022-09-22T15:22:59.433Z"
   },
   {
    "duration": 38,
    "start_time": "2022-09-22T15:27:10.392Z"
   },
   {
    "duration": 59,
    "start_time": "2022-09-22T15:27:43.046Z"
   },
   {
    "duration": 116,
    "start_time": "2022-09-22T15:28:10.688Z"
   },
   {
    "duration": 21,
    "start_time": "2022-09-22T15:28:20.534Z"
   },
   {
    "duration": 14,
    "start_time": "2022-09-22T15:34:45.723Z"
   },
   {
    "duration": 8,
    "start_time": "2022-09-22T15:35:50.638Z"
   },
   {
    "duration": 9,
    "start_time": "2022-09-22T15:36:16.948Z"
   },
   {
    "duration": 9,
    "start_time": "2022-09-22T15:36:42.709Z"
   },
   {
    "duration": 1279,
    "start_time": "2022-09-24T14:37:18.015Z"
   },
   {
    "duration": 590,
    "start_time": "2022-09-24T14:37:19.296Z"
   },
   {
    "duration": 12,
    "start_time": "2022-09-24T14:37:19.888Z"
   },
   {
    "duration": 32,
    "start_time": "2022-09-24T14:37:19.901Z"
   },
   {
    "duration": 43,
    "start_time": "2022-09-24T14:37:19.936Z"
   },
   {
    "duration": 41,
    "start_time": "2022-09-24T14:37:19.981Z"
   },
   {
    "duration": 10,
    "start_time": "2022-09-24T14:37:20.024Z"
   },
   {
    "duration": 19,
    "start_time": "2022-09-24T14:37:20.035Z"
   },
   {
    "duration": 81,
    "start_time": "2022-09-24T14:37:20.055Z"
   },
   {
    "duration": 52,
    "start_time": "2022-09-24T14:37:20.137Z"
   },
   {
    "duration": 22,
    "start_time": "2022-09-24T14:37:20.190Z"
   },
   {
    "duration": 41,
    "start_time": "2022-09-24T14:37:20.214Z"
   },
   {
    "duration": 64,
    "start_time": "2022-09-24T14:37:20.257Z"
   },
   {
    "duration": 8,
    "start_time": "2022-09-24T14:37:20.324Z"
   },
   {
    "duration": 75,
    "start_time": "2022-09-24T14:37:20.334Z"
   },
   {
    "duration": 99,
    "start_time": "2022-09-24T14:37:20.411Z"
   },
   {
    "duration": 9,
    "start_time": "2022-09-24T14:37:20.512Z"
   },
   {
    "duration": 161,
    "start_time": "2022-09-24T14:37:20.522Z"
   },
   {
    "duration": 4,
    "start_time": "2022-09-24T14:37:20.684Z"
   },
   {
    "duration": 34,
    "start_time": "2022-09-24T14:37:20.689Z"
   },
   {
    "duration": 59,
    "start_time": "2022-09-24T14:37:20.725Z"
   },
   {
    "duration": 24,
    "start_time": "2022-09-24T14:37:20.786Z"
   },
   {
    "duration": 46,
    "start_time": "2022-09-24T14:37:20.812Z"
   },
   {
    "duration": 6,
    "start_time": "2022-09-24T14:37:20.860Z"
   },
   {
    "duration": 9,
    "start_time": "2022-09-24T14:37:20.867Z"
   },
   {
    "duration": 34,
    "start_time": "2022-09-24T14:37:20.878Z"
   },
   {
    "duration": 257,
    "start_time": "2022-09-24T14:37:20.914Z"
   },
   {
    "duration": 4,
    "start_time": "2022-09-24T14:37:21.173Z"
   },
   {
    "duration": 21,
    "start_time": "2022-09-24T14:37:21.179Z"
   },
   {
    "duration": 1242,
    "start_time": "2022-09-24T14:37:21.202Z"
   },
   {
    "duration": 805,
    "start_time": "2022-09-24T14:37:22.446Z"
   },
   {
    "duration": 62,
    "start_time": "2022-09-24T14:37:23.253Z"
   },
   {
    "duration": 14,
    "start_time": "2022-09-24T14:37:23.316Z"
   },
   {
    "duration": 20,
    "start_time": "2022-09-24T14:37:23.331Z"
   },
   {
    "duration": 56,
    "start_time": "2022-09-24T14:37:23.353Z"
   },
   {
    "duration": 21,
    "start_time": "2022-09-24T14:37:23.410Z"
   },
   {
    "duration": 180,
    "start_time": "2022-09-24T14:37:23.433Z"
   },
   {
    "duration": 125,
    "start_time": "2022-09-24T14:37:23.615Z"
   },
   {
    "duration": 207,
    "start_time": "2022-09-24T14:37:23.742Z"
   },
   {
    "duration": 153,
    "start_time": "2022-09-24T14:37:23.950Z"
   },
   {
    "duration": 163,
    "start_time": "2022-09-24T14:37:24.109Z"
   },
   {
    "duration": 4,
    "start_time": "2022-09-24T14:37:24.274Z"
   },
   {
    "duration": 552,
    "start_time": "2022-09-24T14:37:24.280Z"
   },
   {
    "duration": 641,
    "start_time": "2022-09-24T14:37:24.834Z"
   },
   {
    "duration": 10,
    "start_time": "2022-09-24T14:37:25.477Z"
   },
   {
    "duration": 21,
    "start_time": "2022-09-24T14:37:25.488Z"
   },
   {
    "duration": 18,
    "start_time": "2022-09-24T14:37:25.511Z"
   },
   {
    "duration": 26,
    "start_time": "2022-09-24T14:37:25.531Z"
   },
   {
    "duration": 9,
    "start_time": "2022-09-24T14:37:25.558Z"
   },
   {
    "duration": 113,
    "start_time": "2022-09-24T14:37:25.568Z"
   },
   {
    "duration": 7,
    "start_time": "2022-09-24T14:37:25.683Z"
   },
   {
    "duration": 41,
    "start_time": "2022-09-24T14:37:25.691Z"
   },
   {
    "duration": 56,
    "start_time": "2022-09-24T14:37:25.735Z"
   },
   {
    "duration": 4,
    "start_time": "2022-09-24T14:37:25.792Z"
   },
   {
    "duration": 74,
    "start_time": "2022-09-24T14:37:25.797Z"
   },
   {
    "duration": 43,
    "start_time": "2022-09-24T14:37:25.872Z"
   },
   {
    "duration": 119,
    "start_time": "2022-09-24T14:37:25.916Z"
   },
   {
    "duration": 20,
    "start_time": "2022-09-24T14:37:26.037Z"
   },
   {
    "duration": 33,
    "start_time": "2022-09-24T14:37:26.058Z"
   },
   {
    "duration": 29,
    "start_time": "2022-09-24T14:37:26.092Z"
   },
   {
    "duration": 19,
    "start_time": "2022-09-24T14:37:26.123Z"
   },
   {
    "duration": 34,
    "start_time": "2022-09-24T14:37:26.144Z"
   },
   {
    "duration": 1180,
    "start_time": "2022-09-24T16:24:58.494Z"
   },
   {
    "duration": 154,
    "start_time": "2022-09-24T16:25:02.013Z"
   },
   {
    "duration": 5,
    "start_time": "2022-09-24T16:25:04.590Z"
   },
   {
    "duration": 130,
    "start_time": "2022-09-24T16:25:11.652Z"
   },
   {
    "duration": 61,
    "start_time": "2022-09-24T16:30:44.281Z"
   },
   {
    "duration": 3,
    "start_time": "2022-09-24T16:30:51.273Z"
   },
   {
    "duration": 8,
    "start_time": "2022-09-24T16:30:59.971Z"
   },
   {
    "duration": 1004,
    "start_time": "2022-09-24T16:36:58.878Z"
   },
   {
    "duration": 902,
    "start_time": "2022-09-24T16:37:13.172Z"
   },
   {
    "duration": 1128,
    "start_time": "2022-09-24T16:37:55.953Z"
   },
   {
    "duration": 138,
    "start_time": "2022-09-24T16:37:57.946Z"
   },
   {
    "duration": 4,
    "start_time": "2022-09-24T16:37:59.647Z"
   },
   {
    "duration": 131,
    "start_time": "2022-09-24T16:38:01.550Z"
   },
   {
    "duration": 67,
    "start_time": "2022-09-24T16:38:05.502Z"
   },
   {
    "duration": 3,
    "start_time": "2022-09-24T16:38:07.670Z"
   },
   {
    "duration": 7,
    "start_time": "2022-09-24T16:38:11.214Z"
   },
   {
    "duration": 3,
    "start_time": "2022-09-24T16:38:31.023Z"
   },
   {
    "duration": 6,
    "start_time": "2022-09-24T16:38:32.736Z"
   },
   {
    "duration": 7,
    "start_time": "2022-09-24T16:38:36.645Z"
   },
   {
    "duration": 24,
    "start_time": "2022-09-24T16:40:02.247Z"
   },
   {
    "duration": 115,
    "start_time": "2022-09-24T16:41:27.426Z"
   },
   {
    "duration": 23,
    "start_time": "2022-09-24T16:41:43.218Z"
   },
   {
    "duration": 23,
    "start_time": "2022-09-24T16:43:45.868Z"
   },
   {
    "duration": 19,
    "start_time": "2022-09-24T16:43:57.507Z"
   },
   {
    "duration": 1108,
    "start_time": "2022-09-24T16:44:16.709Z"
   },
   {
    "duration": 147,
    "start_time": "2022-09-24T16:44:19.333Z"
   },
   {
    "duration": 5,
    "start_time": "2022-09-24T16:44:21.634Z"
   },
   {
    "duration": 139,
    "start_time": "2022-09-24T16:44:23.705Z"
   },
   {
    "duration": 3,
    "start_time": "2022-09-24T16:44:38.090Z"
   },
   {
    "duration": 8,
    "start_time": "2022-09-24T16:44:39.834Z"
   },
   {
    "duration": 10,
    "start_time": "2022-09-24T16:44:50.386Z"
   },
   {
    "duration": 63,
    "start_time": "2022-09-24T16:44:55.786Z"
   },
   {
    "duration": 105,
    "start_time": "2022-09-24T16:52:12.641Z"
   },
   {
    "duration": 898,
    "start_time": "2022-09-24T16:52:40.210Z"
   },
   {
    "duration": 28,
    "start_time": "2022-09-24T16:53:32.065Z"
   },
   {
    "duration": 1121,
    "start_time": "2022-09-24T16:56:00.349Z"
   },
   {
    "duration": 135,
    "start_time": "2022-09-24T16:56:02.188Z"
   },
   {
    "duration": 4,
    "start_time": "2022-09-24T16:56:04.054Z"
   },
   {
    "duration": 135,
    "start_time": "2022-09-24T16:56:06.773Z"
   },
   {
    "duration": 3,
    "start_time": "2022-09-24T16:56:11.575Z"
   },
   {
    "duration": 7,
    "start_time": "2022-09-24T16:56:13.006Z"
   },
   {
    "duration": 12,
    "start_time": "2022-09-24T16:56:16.743Z"
   },
   {
    "duration": 61,
    "start_time": "2022-09-24T16:56:18.843Z"
   },
   {
    "duration": 89,
    "start_time": "2022-09-24T16:56:20.895Z"
   },
   {
    "duration": 114,
    "start_time": "2022-09-24T16:56:23.038Z"
   },
   {
    "duration": 23,
    "start_time": "2022-09-24T16:57:34.865Z"
   },
   {
    "duration": 47,
    "start_time": "2022-09-25T14:23:22.804Z"
   },
   {
    "duration": 1335,
    "start_time": "2022-09-25T14:24:51.840Z"
   },
   {
    "duration": 1150,
    "start_time": "2022-09-25T14:25:01.541Z"
   },
   {
    "duration": 536,
    "start_time": "2022-09-25T14:25:04.183Z"
   },
   {
    "duration": 4,
    "start_time": "2022-09-25T14:25:06.689Z"
   },
   {
    "duration": 137,
    "start_time": "2022-09-25T14:25:09.494Z"
   },
   {
    "duration": 3,
    "start_time": "2022-09-25T14:25:14.361Z"
   },
   {
    "duration": 7,
    "start_time": "2022-09-25T14:25:15.710Z"
   },
   {
    "duration": 10,
    "start_time": "2022-09-25T14:25:18.198Z"
   },
   {
    "duration": 66,
    "start_time": "2022-09-25T14:25:20.247Z"
   },
   {
    "duration": 88,
    "start_time": "2022-09-25T14:25:23.463Z"
   },
   {
    "duration": 128,
    "start_time": "2022-09-25T14:25:25.239Z"
   },
   {
    "duration": 27,
    "start_time": "2022-09-25T14:25:28.454Z"
   },
   {
    "duration": 10,
    "start_time": "2022-09-25T14:25:31.967Z"
   },
   {
    "duration": 1007,
    "start_time": "2022-09-25T14:25:57.730Z"
   },
   {
    "duration": 785,
    "start_time": "2022-09-25T14:26:12.825Z"
   },
   {
    "duration": 51,
    "start_time": "2022-09-25T14:26:23.073Z"
   },
   {
    "duration": 74,
    "start_time": "2022-09-25T14:28:27.563Z"
   },
   {
    "duration": 20,
    "start_time": "2022-09-25T14:28:58.737Z"
   },
   {
    "duration": 735,
    "start_time": "2022-09-25T14:29:26.731Z"
   },
   {
    "duration": 8,
    "start_time": "2022-09-25T14:29:53.963Z"
   },
   {
    "duration": 10,
    "start_time": "2022-09-25T14:32:52.396Z"
   },
   {
    "duration": 6,
    "start_time": "2022-09-25T14:33:20.204Z"
   },
   {
    "duration": 3,
    "start_time": "2022-09-25T14:33:53.364Z"
   },
   {
    "duration": 5,
    "start_time": "2022-09-25T14:36:49.038Z"
   },
   {
    "duration": 386,
    "start_time": "2022-09-25T14:37:10.775Z"
   },
   {
    "duration": 9,
    "start_time": "2022-09-25T14:41:39.657Z"
   },
   {
    "duration": 5289,
    "start_time": "2022-09-25T14:43:09.849Z"
   },
   {
    "duration": 45,
    "start_time": "2022-09-25T14:43:59.083Z"
   },
   {
    "duration": 50,
    "start_time": "2022-09-25T14:44:25.658Z"
   },
   {
    "duration": 62,
    "start_time": "2022-09-25T14:44:38.843Z"
   },
   {
    "duration": 40,
    "start_time": "2022-09-25T14:57:54.393Z"
   },
   {
    "duration": 22,
    "start_time": "2022-09-25T14:58:31.529Z"
   },
   {
    "duration": 12,
    "start_time": "2022-09-25T15:00:11.906Z"
   },
   {
    "duration": 30,
    "start_time": "2022-09-25T15:00:39.692Z"
   },
   {
    "duration": 8,
    "start_time": "2022-09-25T15:01:15.209Z"
   },
   {
    "duration": 7,
    "start_time": "2022-09-25T15:18:13.935Z"
   },
   {
    "duration": 5,
    "start_time": "2022-09-25T15:20:07.331Z"
   },
   {
    "duration": 11,
    "start_time": "2022-09-25T15:20:16.896Z"
   },
   {
    "duration": 1163,
    "start_time": "2022-09-25T15:22:50.428Z"
   },
   {
    "duration": 158,
    "start_time": "2022-09-25T15:22:51.690Z"
   },
   {
    "duration": 4,
    "start_time": "2022-09-25T15:22:53.347Z"
   },
   {
    "duration": 141,
    "start_time": "2022-09-25T15:22:55.231Z"
   },
   {
    "duration": 3,
    "start_time": "2022-09-25T15:23:00.490Z"
   },
   {
    "duration": 8,
    "start_time": "2022-09-25T15:23:02.506Z"
   },
   {
    "duration": 10,
    "start_time": "2022-09-25T15:23:05.893Z"
   },
   {
    "duration": 75,
    "start_time": "2022-09-25T15:23:09.212Z"
   },
   {
    "duration": 101,
    "start_time": "2022-09-25T15:23:11.483Z"
   },
   {
    "duration": 26,
    "start_time": "2022-09-25T15:23:13.831Z"
   },
   {
    "duration": 10,
    "start_time": "2022-09-25T15:23:20.011Z"
   },
   {
    "duration": 50,
    "start_time": "2022-09-25T15:23:22.236Z"
   },
   {
    "duration": 24,
    "start_time": "2022-09-25T15:23:27.246Z"
   },
   {
    "duration": 7,
    "start_time": "2022-09-25T15:23:34.076Z"
   },
   {
    "duration": 4,
    "start_time": "2022-09-25T15:23:38.370Z"
   },
   {
    "duration": 5,
    "start_time": "2022-09-25T15:23:42.404Z"
   },
   {
    "duration": 115,
    "start_time": "2022-09-25T15:26:06.050Z"
   },
   {
    "duration": 341,
    "start_time": "2022-09-25T15:26:17.796Z"
   },
   {
    "duration": 9,
    "start_time": "2022-09-25T15:26:25.845Z"
   },
   {
    "duration": 5,
    "start_time": "2022-09-25T15:26:29.533Z"
   },
   {
    "duration": 5,
    "start_time": "2022-09-25T15:27:53.392Z"
   },
   {
    "duration": 7,
    "start_time": "2022-09-25T15:28:37.301Z"
   },
   {
    "duration": 5328,
    "start_time": "2022-09-25T15:36:39.549Z"
   },
   {
    "duration": 5720,
    "start_time": "2022-09-25T15:36:51.229Z"
   },
   {
    "duration": 47,
    "start_time": "2022-09-25T15:39:57.662Z"
   },
   {
    "duration": 56,
    "start_time": "2022-09-25T15:40:00.372Z"
   },
   {
    "duration": 30,
    "start_time": "2022-09-25T15:40:03.054Z"
   },
   {
    "duration": 23,
    "start_time": "2022-09-25T15:40:05.298Z"
   },
   {
    "duration": 8,
    "start_time": "2022-09-25T15:40:10.151Z"
   },
   {
    "duration": 26,
    "start_time": "2022-09-25T15:42:10.897Z"
   },
   {
    "duration": 142,
    "start_time": "2022-09-25T15:43:37.764Z"
   },
   {
    "duration": 29,
    "start_time": "2022-09-25T15:45:33.610Z"
   },
   {
    "duration": 192,
    "start_time": "2022-09-25T15:45:41.233Z"
   },
   {
    "duration": 128,
    "start_time": "2022-09-25T15:46:15.354Z"
   },
   {
    "duration": 60,
    "start_time": "2022-09-25T15:49:55.436Z"
   },
   {
    "duration": 26,
    "start_time": "2022-09-25T15:50:03.939Z"
   },
   {
    "duration": 953,
    "start_time": "2022-09-25T15:50:14.230Z"
   },
   {
    "duration": 43,
    "start_time": "2022-09-25T15:58:17.005Z"
   },
   {
    "duration": 16,
    "start_time": "2022-09-25T15:58:25.403Z"
   },
   {
    "duration": 63,
    "start_time": "2022-09-25T16:07:53.002Z"
   },
   {
    "duration": 128,
    "start_time": "2022-09-25T16:08:17.785Z"
   },
   {
    "duration": 29,
    "start_time": "2022-09-25T16:22:45.721Z"
   },
   {
    "duration": 11,
    "start_time": "2022-09-25T16:25:08.819Z"
   },
   {
    "duration": 20,
    "start_time": "2022-09-25T16:30:21.673Z"
   },
   {
    "duration": 18,
    "start_time": "2022-09-25T16:31:00.497Z"
   },
   {
    "duration": 68,
    "start_time": "2022-09-25T16:31:23.689Z"
   },
   {
    "duration": 72,
    "start_time": "2022-09-25T16:31:37.649Z"
   },
   {
    "duration": 22,
    "start_time": "2022-09-25T16:31:52.787Z"
   },
   {
    "duration": 72,
    "start_time": "2022-09-25T16:40:59.262Z"
   },
   {
    "duration": 33,
    "start_time": "2022-09-25T16:41:29.655Z"
   },
   {
    "duration": 11,
    "start_time": "2022-09-25T17:20:56.895Z"
   },
   {
    "duration": 49,
    "start_time": "2022-09-25T17:38:49.896Z"
   },
   {
    "duration": 15,
    "start_time": "2022-09-25T17:39:40.430Z"
   },
   {
    "duration": 10,
    "start_time": "2022-09-25T17:41:01.438Z"
   },
   {
    "duration": 5,
    "start_time": "2022-09-25T17:41:20.519Z"
   },
   {
    "duration": 18,
    "start_time": "2022-09-25T17:41:52.126Z"
   },
   {
    "duration": 11,
    "start_time": "2022-09-25T17:43:44.538Z"
   },
   {
    "duration": 14,
    "start_time": "2022-09-25T17:56:48.804Z"
   },
   {
    "duration": 11,
    "start_time": "2022-09-25T18:14:50.183Z"
   },
   {
    "duration": 815,
    "start_time": "2022-09-25T18:14:59.511Z"
   },
   {
    "duration": 8,
    "start_time": "2022-09-25T18:15:34.342Z"
   },
   {
    "duration": 10,
    "start_time": "2022-09-25T18:15:44.935Z"
   },
   {
    "duration": 10,
    "start_time": "2022-09-25T18:16:20.560Z"
   },
   {
    "duration": 14,
    "start_time": "2022-09-25T18:16:28.992Z"
   },
   {
    "duration": 15,
    "start_time": "2022-09-25T18:16:38.671Z"
   },
   {
    "duration": 10,
    "start_time": "2022-09-25T18:16:46.759Z"
   },
   {
    "duration": 10,
    "start_time": "2022-09-25T18:16:54.095Z"
   },
   {
    "duration": 9,
    "start_time": "2022-09-25T18:17:09.081Z"
   },
   {
    "duration": 10,
    "start_time": "2022-09-25T18:17:21.655Z"
   },
   {
    "duration": 17,
    "start_time": "2022-09-25T18:18:04.729Z"
   },
   {
    "duration": 22,
    "start_time": "2022-09-25T18:19:04.555Z"
   },
   {
    "duration": 16,
    "start_time": "2022-09-25T18:20:00.010Z"
   },
   {
    "duration": 10,
    "start_time": "2022-09-25T18:21:04.807Z"
   },
   {
    "duration": 15,
    "start_time": "2022-09-25T18:21:10.841Z"
   },
   {
    "duration": 814,
    "start_time": "2022-09-25T18:24:38.377Z"
   },
   {
    "duration": 10,
    "start_time": "2022-09-25T18:24:51.508Z"
   },
   {
    "duration": 8,
    "start_time": "2022-09-25T18:25:07.011Z"
   },
   {
    "duration": 895,
    "start_time": "2022-09-25T18:29:10.332Z"
   },
   {
    "duration": 1561,
    "start_time": "2022-09-25T18:30:01.158Z"
   },
   {
    "duration": 15,
    "start_time": "2022-09-25T18:30:23.078Z"
   },
   {
    "duration": 21,
    "start_time": "2022-09-25T18:31:29.506Z"
   },
   {
    "duration": 15,
    "start_time": "2022-09-25T18:31:55.183Z"
   },
   {
    "duration": 19,
    "start_time": "2022-09-25T18:32:01.020Z"
   },
   {
    "duration": 18,
    "start_time": "2022-09-25T18:36:01.313Z"
   },
   {
    "duration": 14,
    "start_time": "2022-09-25T18:36:04.059Z"
   },
   {
    "duration": 780,
    "start_time": "2022-09-25T18:36:46.650Z"
   },
   {
    "duration": 14,
    "start_time": "2022-09-25T18:36:58.370Z"
   },
   {
    "duration": 13,
    "start_time": "2022-09-25T18:37:05.787Z"
   },
   {
    "duration": 88,
    "start_time": "2022-09-25T18:39:38.229Z"
   },
   {
    "duration": 46,
    "start_time": "2022-09-25T18:39:47.414Z"
   },
   {
    "duration": 169,
    "start_time": "2022-09-25T18:40:00.788Z"
   },
   {
    "duration": 15,
    "start_time": "2022-09-25T18:41:10.965Z"
   },
   {
    "duration": 8,
    "start_time": "2022-09-25T18:41:30.565Z"
   },
   {
    "duration": 14,
    "start_time": "2022-09-25T18:42:57.957Z"
   },
   {
    "duration": 7,
    "start_time": "2022-09-25T18:43:09.352Z"
   },
   {
    "duration": 15,
    "start_time": "2022-09-25T18:44:03.333Z"
   },
   {
    "duration": 18,
    "start_time": "2022-09-25T18:49:21.636Z"
   },
   {
    "duration": 10,
    "start_time": "2022-09-25T18:49:30.067Z"
   },
   {
    "duration": 1136,
    "start_time": "2022-09-25T18:56:47.366Z"
   },
   {
    "duration": 153,
    "start_time": "2022-09-25T18:56:48.504Z"
   },
   {
    "duration": 5,
    "start_time": "2022-09-25T18:56:48.658Z"
   },
   {
    "duration": 171,
    "start_time": "2022-09-25T18:56:48.664Z"
   },
   {
    "duration": 3,
    "start_time": "2022-09-25T18:56:48.837Z"
   },
   {
    "duration": 9,
    "start_time": "2022-09-25T18:56:48.842Z"
   },
   {
    "duration": 11,
    "start_time": "2022-09-25T18:56:48.852Z"
   },
   {
    "duration": 93,
    "start_time": "2022-09-25T18:56:48.864Z"
   },
   {
    "duration": 116,
    "start_time": "2022-09-25T18:56:48.959Z"
   },
   {
    "duration": 136,
    "start_time": "2022-09-25T18:56:49.077Z"
   },
   {
    "duration": 28,
    "start_time": "2022-09-25T18:56:49.215Z"
   },
   {
    "duration": 12,
    "start_time": "2022-09-25T18:56:49.245Z"
   },
   {
    "duration": 79,
    "start_time": "2022-09-25T18:56:49.259Z"
   },
   {
    "duration": 19,
    "start_time": "2022-09-25T18:56:49.340Z"
   },
   {
    "duration": 10,
    "start_time": "2022-09-25T18:56:49.360Z"
   },
   {
    "duration": 3,
    "start_time": "2022-09-25T18:56:49.372Z"
   },
   {
    "duration": 9,
    "start_time": "2022-09-25T18:56:49.376Z"
   },
   {
    "duration": 384,
    "start_time": "2022-09-25T18:56:49.409Z"
   },
   {
    "duration": 10,
    "start_time": "2022-09-25T18:56:49.795Z"
   },
   {
    "duration": 15,
    "start_time": "2022-09-25T18:56:49.807Z"
   },
   {
    "duration": 110,
    "start_time": "2022-09-25T18:56:49.825Z"
   },
   {
    "duration": 73,
    "start_time": "2022-09-25T18:56:49.937Z"
   },
   {
    "duration": 31,
    "start_time": "2022-09-25T18:56:50.012Z"
   },
   {
    "duration": 21,
    "start_time": "2022-09-25T18:56:50.044Z"
   },
   {
    "duration": 8,
    "start_time": "2022-09-25T18:56:50.066Z"
   },
   {
    "duration": 215,
    "start_time": "2022-09-25T18:56:50.075Z"
   },
   {
    "duration": 0,
    "start_time": "2022-09-25T18:56:50.292Z"
   },
   {
    "duration": 0,
    "start_time": "2022-09-25T18:56:50.293Z"
   },
   {
    "duration": 0,
    "start_time": "2022-09-25T18:56:50.294Z"
   },
   {
    "duration": 0,
    "start_time": "2022-09-25T18:56:50.295Z"
   },
   {
    "duration": 0,
    "start_time": "2022-09-25T18:56:50.295Z"
   },
   {
    "duration": 0,
    "start_time": "2022-09-25T18:56:50.309Z"
   },
   {
    "duration": 0,
    "start_time": "2022-09-25T18:56:50.310Z"
   },
   {
    "duration": 0,
    "start_time": "2022-09-25T18:56:50.311Z"
   },
   {
    "duration": 0,
    "start_time": "2022-09-25T18:56:50.312Z"
   },
   {
    "duration": 0,
    "start_time": "2022-09-25T18:56:50.313Z"
   },
   {
    "duration": 0,
    "start_time": "2022-09-25T18:56:50.315Z"
   },
   {
    "duration": 0,
    "start_time": "2022-09-25T18:56:50.316Z"
   },
   {
    "duration": 0,
    "start_time": "2022-09-25T18:56:50.317Z"
   },
   {
    "duration": 0,
    "start_time": "2022-09-25T18:56:50.318Z"
   },
   {
    "duration": 0,
    "start_time": "2022-09-25T18:56:50.323Z"
   },
   {
    "duration": 0,
    "start_time": "2022-09-25T18:56:50.326Z"
   },
   {
    "duration": 0,
    "start_time": "2022-09-25T18:56:50.327Z"
   },
   {
    "duration": 36,
    "start_time": "2022-09-25T18:57:48.231Z"
   },
   {
    "duration": 144,
    "start_time": "2022-09-25T18:57:50.935Z"
   },
   {
    "duration": 70,
    "start_time": "2022-09-25T18:58:01.631Z"
   },
   {
    "duration": 29,
    "start_time": "2022-09-25T18:58:07.060Z"
   },
   {
    "duration": 210,
    "start_time": "2022-09-25T18:58:10.796Z"
   },
   {
    "duration": 18,
    "start_time": "2022-09-25T18:58:44.158Z"
   },
   {
    "duration": 17,
    "start_time": "2022-09-25T18:58:54.117Z"
   },
   {
    "duration": 1266,
    "start_time": "2022-09-25T18:59:54.272Z"
   },
   {
    "duration": 10,
    "start_time": "2022-09-25T19:00:04.971Z"
   },
   {
    "duration": 20,
    "start_time": "2022-09-25T19:01:14.814Z"
   },
   {
    "duration": 11,
    "start_time": "2022-09-25T19:02:04.568Z"
   },
   {
    "duration": 9,
    "start_time": "2022-09-25T19:02:15.729Z"
   },
   {
    "duration": 16,
    "start_time": "2022-09-25T19:02:36.184Z"
   },
   {
    "duration": 10,
    "start_time": "2022-09-25T19:03:00.616Z"
   },
   {
    "duration": 9,
    "start_time": "2022-09-25T19:03:13.291Z"
   },
   {
    "duration": 11,
    "start_time": "2022-09-25T19:03:21.922Z"
   },
   {
    "duration": 14,
    "start_time": "2022-09-25T19:03:42.825Z"
   },
   {
    "duration": 10,
    "start_time": "2022-09-25T19:03:52.475Z"
   },
   {
    "duration": 10,
    "start_time": "2022-09-25T19:04:02.427Z"
   },
   {
    "duration": 10,
    "start_time": "2022-09-25T19:04:11.329Z"
   },
   {
    "duration": 19,
    "start_time": "2022-09-25T19:04:19.948Z"
   },
   {
    "duration": 18,
    "start_time": "2022-09-25T19:04:49.195Z"
   },
   {
    "duration": 13,
    "start_time": "2022-09-25T19:04:58.770Z"
   },
   {
    "duration": 14,
    "start_time": "2022-09-25T19:05:31.113Z"
   },
   {
    "duration": 985,
    "start_time": "2022-09-25T19:08:00.694Z"
   },
   {
    "duration": 18,
    "start_time": "2022-09-25T19:08:07.813Z"
   },
   {
    "duration": 3,
    "start_time": "2022-09-25T19:11:28.685Z"
   },
   {
    "duration": 23,
    "start_time": "2022-09-25T19:11:37.302Z"
   },
   {
    "duration": 9,
    "start_time": "2022-09-25T19:12:34.761Z"
   },
   {
    "duration": 3,
    "start_time": "2022-09-25T19:15:56.166Z"
   },
   {
    "duration": 15,
    "start_time": "2022-09-25T19:17:04.563Z"
   },
   {
    "duration": 107,
    "start_time": "2022-09-25T19:17:49.916Z"
   },
   {
    "duration": 91,
    "start_time": "2022-09-25T19:18:03.901Z"
   },
   {
    "duration": 42,
    "start_time": "2022-09-25T19:19:47.948Z"
   },
   {
    "duration": 69,
    "start_time": "2022-09-26T11:53:16.848Z"
   },
   {
    "duration": 1603,
    "start_time": "2022-09-26T11:53:25.462Z"
   },
   {
    "duration": 979,
    "start_time": "2022-09-26T11:53:27.068Z"
   },
   {
    "duration": 4,
    "start_time": "2022-09-26T11:53:28.049Z"
   },
   {
    "duration": 210,
    "start_time": "2022-09-26T11:53:28.055Z"
   },
   {
    "duration": 3,
    "start_time": "2022-09-26T11:53:28.268Z"
   },
   {
    "duration": 11,
    "start_time": "2022-09-26T11:53:28.273Z"
   },
   {
    "duration": 12,
    "start_time": "2022-09-26T11:53:28.296Z"
   },
   {
    "duration": 86,
    "start_time": "2022-09-26T11:53:28.309Z"
   },
   {
    "duration": 113,
    "start_time": "2022-09-26T11:53:28.397Z"
   },
   {
    "duration": 145,
    "start_time": "2022-09-26T11:53:28.511Z"
   },
   {
    "duration": 46,
    "start_time": "2022-09-26T11:53:28.658Z"
   },
   {
    "duration": 18,
    "start_time": "2022-09-26T11:53:28.706Z"
   },
   {
    "duration": 71,
    "start_time": "2022-09-26T11:53:28.726Z"
   },
   {
    "duration": 24,
    "start_time": "2022-09-26T11:53:28.800Z"
   },
   {
    "duration": 11,
    "start_time": "2022-09-26T11:53:28.827Z"
   },
   {
    "duration": 4,
    "start_time": "2022-09-26T11:53:28.841Z"
   },
   {
    "duration": 23,
    "start_time": "2022-09-26T11:53:28.848Z"
   },
   {
    "duration": 435,
    "start_time": "2022-09-26T11:53:28.873Z"
   },
   {
    "duration": 11,
    "start_time": "2022-09-26T11:53:29.310Z"
   },
   {
    "duration": 6,
    "start_time": "2022-09-26T11:53:29.322Z"
   },
   {
    "duration": 169,
    "start_time": "2022-09-26T11:53:29.330Z"
   },
   {
    "duration": 55,
    "start_time": "2022-09-26T11:53:29.501Z"
   },
   {
    "duration": 65,
    "start_time": "2022-09-26T11:53:29.558Z"
   },
   {
    "duration": 26,
    "start_time": "2022-09-26T11:53:29.624Z"
   },
   {
    "duration": 9,
    "start_time": "2022-09-26T11:53:29.652Z"
   },
   {
    "duration": 49,
    "start_time": "2022-09-26T11:53:29.663Z"
   },
   {
    "duration": 171,
    "start_time": "2022-09-26T11:53:29.713Z"
   },
   {
    "duration": 77,
    "start_time": "2022-09-26T11:53:29.886Z"
   },
   {
    "duration": 47,
    "start_time": "2022-09-26T11:53:29.966Z"
   },
   {
    "duration": 245,
    "start_time": "2022-09-26T11:53:30.015Z"
   },
   {
    "duration": 35,
    "start_time": "2022-09-26T11:53:30.262Z"
   },
   {
    "duration": 12,
    "start_time": "2022-09-26T11:53:30.299Z"
   },
   {
    "duration": 28,
    "start_time": "2022-09-26T11:53:30.313Z"
   },
   {
    "duration": 110,
    "start_time": "2022-09-26T11:53:30.344Z"
   },
   {
    "duration": 47,
    "start_time": "2022-09-26T11:53:30.456Z"
   },
   {
    "duration": 165,
    "start_time": "2022-09-26T11:53:30.505Z"
   },
   {
    "duration": 0,
    "start_time": "2022-09-26T11:53:30.672Z"
   },
   {
    "duration": 0,
    "start_time": "2022-09-26T11:53:30.674Z"
   },
   {
    "duration": 0,
    "start_time": "2022-09-26T11:53:30.675Z"
   },
   {
    "duration": 0,
    "start_time": "2022-09-26T11:53:30.677Z"
   },
   {
    "duration": 0,
    "start_time": "2022-09-26T11:53:30.678Z"
   },
   {
    "duration": 0,
    "start_time": "2022-09-26T11:53:30.678Z"
   },
   {
    "duration": 104,
    "start_time": "2022-09-26T12:10:10.792Z"
   },
   {
    "duration": 6,
    "start_time": "2022-09-26T13:21:31.328Z"
   },
   {
    "duration": 2780,
    "start_time": "2022-09-26T13:21:37.161Z"
   },
   {
    "duration": 1534,
    "start_time": "2022-09-26T13:23:54.943Z"
   },
   {
    "duration": 14,
    "start_time": "2022-09-26T13:26:45.685Z"
   },
   {
    "duration": 34,
    "start_time": "2022-09-26T13:27:01.285Z"
   },
   {
    "duration": 20,
    "start_time": "2022-09-26T13:29:23.093Z"
   },
   {
    "duration": 51,
    "start_time": "2022-09-26T13:29:31.550Z"
   },
   {
    "duration": 13,
    "start_time": "2022-09-26T13:34:23.933Z"
   },
   {
    "duration": 76,
    "start_time": "2022-09-26T13:34:37.089Z"
   },
   {
    "duration": 11,
    "start_time": "2022-09-26T13:39:44.831Z"
   },
   {
    "duration": 1936,
    "start_time": "2022-09-26T13:41:05.056Z"
   },
   {
    "duration": 2334,
    "start_time": "2022-09-26T13:41:14.008Z"
   },
   {
    "duration": 38,
    "start_time": "2022-09-26T13:41:23.080Z"
   },
   {
    "duration": 7,
    "start_time": "2022-09-26T13:42:54.758Z"
   },
   {
    "duration": 5,
    "start_time": "2022-09-26T13:43:53.872Z"
   },
   {
    "duration": 2335,
    "start_time": "2022-09-26T13:44:37.672Z"
   },
   {
    "duration": 85,
    "start_time": "2022-09-26T13:44:53.704Z"
   },
   {
    "duration": 78,
    "start_time": "2022-09-26T13:45:35.490Z"
   },
   {
    "duration": 84,
    "start_time": "2022-09-26T13:45:57.241Z"
   },
   {
    "duration": 90,
    "start_time": "2022-09-26T13:46:06.162Z"
   },
   {
    "duration": 8,
    "start_time": "2022-09-26T13:47:06.552Z"
   },
   {
    "duration": 87,
    "start_time": "2022-09-26T13:47:08.480Z"
   },
   {
    "duration": 11,
    "start_time": "2022-09-26T13:48:27.864Z"
   },
   {
    "duration": 12,
    "start_time": "2022-09-26T13:48:32.880Z"
   },
   {
    "duration": 92,
    "start_time": "2022-09-26T13:48:40.994Z"
   },
   {
    "duration": 93,
    "start_time": "2022-09-26T14:08:02.555Z"
   },
   {
    "duration": 34,
    "start_time": "2022-09-26T14:08:25.203Z"
   },
   {
    "duration": 114,
    "start_time": "2022-09-26T14:09:17.086Z"
   },
   {
    "duration": 16,
    "start_time": "2022-09-26T14:19:43.547Z"
   },
   {
    "duration": 8,
    "start_time": "2022-09-26T14:19:57.937Z"
   },
   {
    "duration": 10,
    "start_time": "2022-09-26T14:20:00.465Z"
   },
   {
    "duration": 10,
    "start_time": "2022-09-26T14:22:53.075Z"
   },
   {
    "duration": 9,
    "start_time": "2022-09-26T14:23:36.035Z"
   },
   {
    "duration": 10,
    "start_time": "2022-09-26T14:24:25.137Z"
   },
   {
    "duration": 1293,
    "start_time": "2022-09-26T14:29:50.143Z"
   },
   {
    "duration": 162,
    "start_time": "2022-09-26T14:29:51.439Z"
   },
   {
    "duration": 6,
    "start_time": "2022-09-26T14:29:51.604Z"
   },
   {
    "duration": 202,
    "start_time": "2022-09-26T14:29:51.612Z"
   },
   {
    "duration": 3,
    "start_time": "2022-09-26T14:29:51.817Z"
   },
   {
    "duration": 13,
    "start_time": "2022-09-26T14:29:51.821Z"
   },
   {
    "duration": 16,
    "start_time": "2022-09-26T14:29:51.835Z"
   },
   {
    "duration": 98,
    "start_time": "2022-09-26T14:29:51.853Z"
   },
   {
    "duration": 143,
    "start_time": "2022-09-26T14:29:51.953Z"
   },
   {
    "duration": 163,
    "start_time": "2022-09-26T14:29:52.098Z"
   },
   {
    "duration": 46,
    "start_time": "2022-09-26T14:29:52.263Z"
   },
   {
    "duration": 11,
    "start_time": "2022-09-26T14:29:52.311Z"
   },
   {
    "duration": 73,
    "start_time": "2022-09-26T14:29:52.323Z"
   },
   {
    "duration": 22,
    "start_time": "2022-09-26T14:29:52.400Z"
   },
   {
    "duration": 10,
    "start_time": "2022-09-26T14:29:52.424Z"
   },
   {
    "duration": 4,
    "start_time": "2022-09-26T14:29:52.436Z"
   },
   {
    "duration": 8,
    "start_time": "2022-09-26T14:29:52.442Z"
   },
   {
    "duration": 429,
    "start_time": "2022-09-26T14:29:52.453Z"
   },
   {
    "duration": 11,
    "start_time": "2022-09-26T14:29:52.884Z"
   },
   {
    "duration": 7,
    "start_time": "2022-09-26T14:29:52.897Z"
   },
   {
    "duration": 135,
    "start_time": "2022-09-26T14:29:52.906Z"
   },
   {
    "duration": 102,
    "start_time": "2022-09-26T14:29:53.043Z"
   },
   {
    "duration": 56,
    "start_time": "2022-09-26T14:29:53.147Z"
   },
   {
    "duration": 24,
    "start_time": "2022-09-26T14:29:53.205Z"
   },
   {
    "duration": 9,
    "start_time": "2022-09-26T14:29:53.230Z"
   },
   {
    "duration": 29,
    "start_time": "2022-09-26T14:29:53.241Z"
   },
   {
    "duration": 175,
    "start_time": "2022-09-26T14:29:53.296Z"
   },
   {
    "duration": 88,
    "start_time": "2022-09-26T14:29:53.473Z"
   },
   {
    "duration": 45,
    "start_time": "2022-09-26T14:29:53.563Z"
   },
   {
    "duration": 255,
    "start_time": "2022-09-26T14:29:53.610Z"
   },
   {
    "duration": 29,
    "start_time": "2022-09-26T14:29:53.867Z"
   },
   {
    "duration": 13,
    "start_time": "2022-09-26T14:29:53.898Z"
   },
   {
    "duration": 22,
    "start_time": "2022-09-26T14:29:53.912Z"
   },
   {
    "duration": 119,
    "start_time": "2022-09-26T14:29:53.935Z"
   },
   {
    "duration": 116,
    "start_time": "2022-09-26T14:29:54.056Z"
   },
   {
    "duration": 48,
    "start_time": "2022-09-26T14:29:54.173Z"
   },
   {
    "duration": 130,
    "start_time": "2022-09-26T14:29:54.223Z"
   },
   {
    "duration": 6,
    "start_time": "2022-09-26T14:29:54.355Z"
   },
   {
    "duration": 15,
    "start_time": "2022-09-26T14:29:54.363Z"
   },
   {
    "duration": 23,
    "start_time": "2022-09-26T14:29:54.380Z"
   },
   {
    "duration": 11,
    "start_time": "2022-09-26T14:29:54.406Z"
   },
   {
    "duration": 11,
    "start_time": "2022-09-26T14:29:54.419Z"
   },
   {
    "duration": 176,
    "start_time": "2022-09-26T14:54:29.220Z"
   },
   {
    "duration": 35,
    "start_time": "2022-09-26T14:54:46.693Z"
   },
   {
    "duration": 10,
    "start_time": "2022-09-26T14:55:28.147Z"
   },
   {
    "duration": 84,
    "start_time": "2022-09-26T14:57:15.813Z"
   },
   {
    "duration": 59,
    "start_time": "2022-09-26T14:57:23.245Z"
   },
   {
    "duration": 80,
    "start_time": "2022-09-26T14:57:36.260Z"
   },
   {
    "duration": 77,
    "start_time": "2022-09-26T14:58:10.247Z"
   },
   {
    "duration": 5,
    "start_time": "2022-09-26T14:58:35.149Z"
   },
   {
    "duration": 49,
    "start_time": "2022-09-26T14:58:53.030Z"
   },
   {
    "duration": 51,
    "start_time": "2022-09-26T14:59:18.323Z"
   },
   {
    "duration": 49,
    "start_time": "2022-09-26T14:59:34.311Z"
   },
   {
    "duration": 4,
    "start_time": "2022-09-26T14:59:51.181Z"
   },
   {
    "duration": 52,
    "start_time": "2022-09-26T15:00:18.359Z"
   },
   {
    "duration": 63,
    "start_time": "2022-09-26T15:00:34.159Z"
   },
   {
    "duration": 51,
    "start_time": "2022-09-26T15:00:44.182Z"
   },
   {
    "duration": 25,
    "start_time": "2022-09-26T15:01:16.724Z"
   },
   {
    "duration": 22,
    "start_time": "2022-09-26T15:01:29.704Z"
   },
   {
    "duration": 8,
    "start_time": "2022-09-26T15:01:56.893Z"
   },
   {
    "duration": 3,
    "start_time": "2022-09-26T15:02:57.633Z"
   },
   {
    "duration": 6,
    "start_time": "2022-09-26T15:03:51.674Z"
   },
   {
    "duration": 5,
    "start_time": "2022-09-26T15:07:24.979Z"
   },
   {
    "duration": 5,
    "start_time": "2022-09-26T15:07:32.680Z"
   },
   {
    "duration": 50,
    "start_time": "2022-09-26T15:10:07.155Z"
   },
   {
    "duration": 51,
    "start_time": "2022-09-26T15:11:18.217Z"
   },
   {
    "duration": 50,
    "start_time": "2022-09-26T15:11:33.733Z"
   },
   {
    "duration": 23,
    "start_time": "2022-09-26T15:12:58.854Z"
   },
   {
    "duration": 14,
    "start_time": "2022-09-26T15:15:04.398Z"
   },
   {
    "duration": 35,
    "start_time": "2022-09-26T15:15:13.880Z"
   },
   {
    "duration": 102,
    "start_time": "2022-09-26T15:35:20.822Z"
   },
   {
    "duration": 33,
    "start_time": "2022-09-26T15:35:32.041Z"
   },
   {
    "duration": 106,
    "start_time": "2022-09-26T15:40:39.446Z"
   },
   {
    "duration": 30,
    "start_time": "2022-09-26T15:41:41.381Z"
   },
   {
    "duration": 10,
    "start_time": "2022-09-26T15:46:17.711Z"
   },
   {
    "duration": 9,
    "start_time": "2022-09-26T15:46:22.333Z"
   },
   {
    "duration": 8,
    "start_time": "2022-09-26T15:46:28.456Z"
   },
   {
    "duration": 1036,
    "start_time": "2022-09-26T15:46:31.590Z"
   },
   {
    "duration": 34,
    "start_time": "2022-09-26T15:47:00.230Z"
   },
   {
    "duration": 11,
    "start_time": "2022-09-26T15:47:18.303Z"
   },
   {
    "duration": 1282,
    "start_time": "2022-09-26T15:47:42.624Z"
   },
   {
    "duration": 161,
    "start_time": "2022-09-26T15:47:43.908Z"
   },
   {
    "duration": 5,
    "start_time": "2022-09-26T15:47:44.070Z"
   },
   {
    "duration": 180,
    "start_time": "2022-09-26T15:47:44.076Z"
   },
   {
    "duration": 3,
    "start_time": "2022-09-26T15:47:44.258Z"
   },
   {
    "duration": 10,
    "start_time": "2022-09-26T15:47:44.263Z"
   },
   {
    "duration": 34,
    "start_time": "2022-09-26T15:47:44.274Z"
   },
   {
    "duration": 74,
    "start_time": "2022-09-26T15:47:44.309Z"
   },
   {
    "duration": 121,
    "start_time": "2022-09-26T15:47:44.385Z"
   },
   {
    "duration": 146,
    "start_time": "2022-09-26T15:47:44.508Z"
   },
   {
    "duration": 39,
    "start_time": "2022-09-26T15:47:44.656Z"
   },
   {
    "duration": 10,
    "start_time": "2022-09-26T15:47:44.697Z"
   },
   {
    "duration": 56,
    "start_time": "2022-09-26T15:47:44.709Z"
   },
   {
    "duration": 36,
    "start_time": "2022-09-26T15:47:44.768Z"
   },
   {
    "duration": 7,
    "start_time": "2022-09-26T15:47:44.806Z"
   },
   {
    "duration": 137,
    "start_time": "2022-09-26T15:47:44.815Z"
   },
   {
    "duration": 0,
    "start_time": "2022-09-26T15:47:44.954Z"
   },
   {
    "duration": 0,
    "start_time": "2022-09-26T15:47:44.956Z"
   },
   {
    "duration": 0,
    "start_time": "2022-09-26T15:47:44.958Z"
   },
   {
    "duration": 0,
    "start_time": "2022-09-26T15:47:44.959Z"
   },
   {
    "duration": 0,
    "start_time": "2022-09-26T15:47:44.961Z"
   },
   {
    "duration": 0,
    "start_time": "2022-09-26T15:47:44.963Z"
   },
   {
    "duration": 0,
    "start_time": "2022-09-26T15:47:44.965Z"
   },
   {
    "duration": 0,
    "start_time": "2022-09-26T15:47:44.966Z"
   },
   {
    "duration": 0,
    "start_time": "2022-09-26T15:47:44.968Z"
   },
   {
    "duration": 0,
    "start_time": "2022-09-26T15:47:44.969Z"
   },
   {
    "duration": 0,
    "start_time": "2022-09-26T15:47:44.996Z"
   },
   {
    "duration": 0,
    "start_time": "2022-09-26T15:47:44.998Z"
   },
   {
    "duration": 0,
    "start_time": "2022-09-26T15:47:44.999Z"
   },
   {
    "duration": 0,
    "start_time": "2022-09-26T15:47:45.001Z"
   },
   {
    "duration": 0,
    "start_time": "2022-09-26T15:47:45.002Z"
   },
   {
    "duration": 0,
    "start_time": "2022-09-26T15:47:45.004Z"
   },
   {
    "duration": 1,
    "start_time": "2022-09-26T15:47:45.005Z"
   },
   {
    "duration": 0,
    "start_time": "2022-09-26T15:47:45.008Z"
   },
   {
    "duration": 0,
    "start_time": "2022-09-26T15:47:45.009Z"
   },
   {
    "duration": 0,
    "start_time": "2022-09-26T15:47:45.011Z"
   },
   {
    "duration": 0,
    "start_time": "2022-09-26T15:47:45.012Z"
   },
   {
    "duration": 0,
    "start_time": "2022-09-26T15:47:45.014Z"
   },
   {
    "duration": 0,
    "start_time": "2022-09-26T15:47:45.016Z"
   },
   {
    "duration": 0,
    "start_time": "2022-09-26T15:47:45.017Z"
   },
   {
    "duration": 0,
    "start_time": "2022-09-26T15:47:45.019Z"
   },
   {
    "duration": 1272,
    "start_time": "2022-09-26T15:48:41.849Z"
   },
   {
    "duration": 153,
    "start_time": "2022-09-26T15:48:43.123Z"
   },
   {
    "duration": 4,
    "start_time": "2022-09-26T15:48:43.278Z"
   },
   {
    "duration": 184,
    "start_time": "2022-09-26T15:48:43.284Z"
   },
   {
    "duration": 3,
    "start_time": "2022-09-26T15:48:43.471Z"
   },
   {
    "duration": 14,
    "start_time": "2022-09-26T15:48:43.495Z"
   },
   {
    "duration": 44,
    "start_time": "2022-09-26T15:48:43.511Z"
   },
   {
    "duration": 94,
    "start_time": "2022-09-26T15:48:43.557Z"
   },
   {
    "duration": 107,
    "start_time": "2022-09-26T15:48:43.653Z"
   },
   {
    "duration": 146,
    "start_time": "2022-09-26T15:48:43.762Z"
   },
   {
    "duration": 26,
    "start_time": "2022-09-26T15:48:43.909Z"
   },
   {
    "duration": 13,
    "start_time": "2022-09-26T15:48:43.937Z"
   },
   {
    "duration": 98,
    "start_time": "2022-09-26T15:48:43.952Z"
   },
   {
    "duration": 20,
    "start_time": "2022-09-26T15:48:44.053Z"
   },
   {
    "duration": 37,
    "start_time": "2022-09-26T15:48:44.075Z"
   },
   {
    "duration": 6,
    "start_time": "2022-09-26T15:48:44.114Z"
   },
   {
    "duration": 37,
    "start_time": "2022-09-26T15:48:44.121Z"
   },
   {
    "duration": 400,
    "start_time": "2022-09-26T15:48:44.160Z"
   },
   {
    "duration": 10,
    "start_time": "2022-09-26T15:48:44.562Z"
   },
   {
    "duration": 22,
    "start_time": "2022-09-26T15:48:44.574Z"
   },
   {
    "duration": 72,
    "start_time": "2022-09-26T15:48:44.597Z"
   },
   {
    "duration": 50,
    "start_time": "2022-09-26T15:48:44.695Z"
   },
   {
    "duration": 32,
    "start_time": "2022-09-26T15:48:44.746Z"
   },
   {
    "duration": 24,
    "start_time": "2022-09-26T15:48:44.796Z"
   },
   {
    "duration": 41,
    "start_time": "2022-09-26T15:48:44.822Z"
   },
   {
    "duration": 42,
    "start_time": "2022-09-26T15:48:44.865Z"
   },
   {
    "duration": 187,
    "start_time": "2022-09-26T15:48:44.909Z"
   },
   {
    "duration": 218,
    "start_time": "2022-09-26T15:48:45.097Z"
   },
   {
    "duration": 0,
    "start_time": "2022-09-26T15:48:45.317Z"
   },
   {
    "duration": 0,
    "start_time": "2022-09-26T15:48:45.318Z"
   },
   {
    "duration": 0,
    "start_time": "2022-09-26T15:48:45.320Z"
   },
   {
    "duration": 0,
    "start_time": "2022-09-26T15:48:45.321Z"
   },
   {
    "duration": 0,
    "start_time": "2022-09-26T15:48:45.323Z"
   },
   {
    "duration": 0,
    "start_time": "2022-09-26T15:48:45.325Z"
   },
   {
    "duration": 0,
    "start_time": "2022-09-26T15:48:45.326Z"
   },
   {
    "duration": 0,
    "start_time": "2022-09-26T15:48:45.328Z"
   },
   {
    "duration": 0,
    "start_time": "2022-09-26T15:48:45.330Z"
   },
   {
    "duration": 0,
    "start_time": "2022-09-26T15:48:45.331Z"
   },
   {
    "duration": 0,
    "start_time": "2022-09-26T15:48:45.332Z"
   },
   {
    "duration": 0,
    "start_time": "2022-09-26T15:48:45.334Z"
   },
   {
    "duration": 0,
    "start_time": "2022-09-26T15:48:45.335Z"
   },
   {
    "duration": 1280,
    "start_time": "2022-09-26T15:49:43.334Z"
   },
   {
    "duration": 164,
    "start_time": "2022-09-26T15:49:44.616Z"
   },
   {
    "duration": 6,
    "start_time": "2022-09-26T15:49:44.782Z"
   },
   {
    "duration": 189,
    "start_time": "2022-09-26T15:49:44.789Z"
   },
   {
    "duration": 15,
    "start_time": "2022-09-26T15:49:44.980Z"
   },
   {
    "duration": 29,
    "start_time": "2022-09-26T15:49:44.997Z"
   },
   {
    "duration": 17,
    "start_time": "2022-09-26T15:49:45.029Z"
   },
   {
    "duration": 82,
    "start_time": "2022-09-26T15:49:45.048Z"
   },
   {
    "duration": 121,
    "start_time": "2022-09-26T15:49:45.132Z"
   },
   {
    "duration": 159,
    "start_time": "2022-09-26T15:49:45.255Z"
   },
   {
    "duration": 27,
    "start_time": "2022-09-26T15:49:45.416Z"
   },
   {
    "duration": 11,
    "start_time": "2022-09-26T15:49:45.445Z"
   },
   {
    "duration": 73,
    "start_time": "2022-09-26T15:49:45.458Z"
   },
   {
    "duration": 22,
    "start_time": "2022-09-26T15:49:45.534Z"
   },
   {
    "duration": 10,
    "start_time": "2022-09-26T15:49:45.558Z"
   },
   {
    "duration": 4,
    "start_time": "2022-09-26T15:49:45.570Z"
   },
   {
    "duration": 21,
    "start_time": "2022-09-26T15:49:45.581Z"
   },
   {
    "duration": 367,
    "start_time": "2022-09-26T15:49:45.604Z"
   },
   {
    "duration": 22,
    "start_time": "2022-09-26T15:49:45.973Z"
   },
   {
    "duration": 6,
    "start_time": "2022-09-26T15:49:45.997Z"
   },
   {
    "duration": 109,
    "start_time": "2022-09-26T15:49:46.005Z"
   },
   {
    "duration": 100,
    "start_time": "2022-09-26T15:49:46.116Z"
   },
   {
    "duration": 33,
    "start_time": "2022-09-26T15:49:46.217Z"
   },
   {
    "duration": 45,
    "start_time": "2022-09-26T15:49:46.251Z"
   },
   {
    "duration": 38,
    "start_time": "2022-09-26T15:49:46.298Z"
   },
   {
    "duration": 27,
    "start_time": "2022-09-26T15:49:46.337Z"
   },
   {
    "duration": 186,
    "start_time": "2022-09-26T15:49:46.365Z"
   },
   {
    "duration": 94,
    "start_time": "2022-09-26T15:49:46.553Z"
   },
   {
    "duration": 47,
    "start_time": "2022-09-26T15:49:46.649Z"
   },
   {
    "duration": 258,
    "start_time": "2022-09-26T15:49:46.699Z"
   },
   {
    "duration": 13,
    "start_time": "2022-09-26T15:49:46.959Z"
   },
   {
    "duration": 34,
    "start_time": "2022-09-26T15:49:46.974Z"
   },
   {
    "duration": 109,
    "start_time": "2022-09-26T15:49:47.010Z"
   },
   {
    "duration": 118,
    "start_time": "2022-09-26T15:49:47.121Z"
   },
   {
    "duration": 38,
    "start_time": "2022-09-26T15:49:47.240Z"
   },
   {
    "duration": 138,
    "start_time": "2022-09-26T15:49:47.280Z"
   },
   {
    "duration": 6,
    "start_time": "2022-09-26T15:49:47.420Z"
   },
   {
    "duration": 15,
    "start_time": "2022-09-26T15:49:47.427Z"
   },
   {
    "duration": 10,
    "start_time": "2022-09-26T15:49:47.444Z"
   },
   {
    "duration": 9,
    "start_time": "2022-09-26T15:49:47.456Z"
   },
   {
    "duration": 34,
    "start_time": "2022-09-26T15:49:47.468Z"
   },
   {
    "duration": 4,
    "start_time": "2022-09-26T16:10:57.994Z"
   },
   {
    "duration": 135,
    "start_time": "2022-09-26T16:11:00.434Z"
   },
   {
    "duration": 5,
    "start_time": "2022-09-26T16:11:52.146Z"
   },
   {
    "duration": 134,
    "start_time": "2022-09-26T16:11:54.389Z"
   },
   {
    "duration": 5,
    "start_time": "2022-09-26T16:13:01.091Z"
   },
   {
    "duration": 4,
    "start_time": "2022-09-26T16:13:18.605Z"
   },
   {
    "duration": 4,
    "start_time": "2022-09-26T16:13:22.426Z"
   },
   {
    "duration": 4,
    "start_time": "2022-09-26T16:13:26.997Z"
   },
   {
    "duration": 135,
    "start_time": "2022-09-26T16:13:32.706Z"
   },
   {
    "duration": 5,
    "start_time": "2022-09-26T16:16:52.318Z"
   },
   {
    "duration": 121,
    "start_time": "2022-09-26T16:16:54.232Z"
   },
   {
    "duration": 282,
    "start_time": "2022-09-26T16:22:41.677Z"
   },
   {
    "duration": 59,
    "start_time": "2022-09-26T16:22:58.707Z"
   },
   {
    "duration": 19,
    "start_time": "2022-09-26T16:24:05.091Z"
   },
   {
    "duration": 25,
    "start_time": "2022-09-26T16:24:15.649Z"
   },
   {
    "duration": 72,
    "start_time": "2022-09-26T16:25:17.355Z"
   },
   {
    "duration": 14,
    "start_time": "2022-09-26T16:27:54.950Z"
   },
   {
    "duration": 1308,
    "start_time": "2022-09-26T16:30:54.505Z"
   },
   {
    "duration": 163,
    "start_time": "2022-09-26T16:30:55.816Z"
   },
   {
    "duration": 4,
    "start_time": "2022-09-26T16:30:55.981Z"
   },
   {
    "duration": 186,
    "start_time": "2022-09-26T16:30:55.987Z"
   },
   {
    "duration": 3,
    "start_time": "2022-09-26T16:30:56.176Z"
   },
   {
    "duration": 21,
    "start_time": "2022-09-26T16:30:56.180Z"
   },
   {
    "duration": 15,
    "start_time": "2022-09-26T16:30:56.203Z"
   },
   {
    "duration": 88,
    "start_time": "2022-09-26T16:30:56.220Z"
   },
   {
    "duration": 113,
    "start_time": "2022-09-26T16:30:56.310Z"
   },
   {
    "duration": 174,
    "start_time": "2022-09-26T16:30:56.425Z"
   },
   {
    "duration": 93,
    "start_time": "2022-09-26T16:30:56.602Z"
   },
   {
    "duration": 0,
    "start_time": "2022-09-26T16:30:56.699Z"
   },
   {
    "duration": 0,
    "start_time": "2022-09-26T16:30:56.700Z"
   },
   {
    "duration": 0,
    "start_time": "2022-09-26T16:30:56.702Z"
   },
   {
    "duration": 0,
    "start_time": "2022-09-26T16:30:56.704Z"
   },
   {
    "duration": 0,
    "start_time": "2022-09-26T16:30:56.706Z"
   },
   {
    "duration": 0,
    "start_time": "2022-09-26T16:30:56.707Z"
   },
   {
    "duration": 0,
    "start_time": "2022-09-26T16:30:56.709Z"
   },
   {
    "duration": 0,
    "start_time": "2022-09-26T16:30:56.710Z"
   },
   {
    "duration": 0,
    "start_time": "2022-09-26T16:30:56.712Z"
   },
   {
    "duration": 0,
    "start_time": "2022-09-26T16:30:56.713Z"
   },
   {
    "duration": 0,
    "start_time": "2022-09-26T16:30:56.715Z"
   },
   {
    "duration": 0,
    "start_time": "2022-09-26T16:30:56.716Z"
   },
   {
    "duration": 0,
    "start_time": "2022-09-26T16:30:56.718Z"
   },
   {
    "duration": 0,
    "start_time": "2022-09-26T16:30:56.719Z"
   },
   {
    "duration": 0,
    "start_time": "2022-09-26T16:30:56.720Z"
   },
   {
    "duration": 0,
    "start_time": "2022-09-26T16:30:56.723Z"
   },
   {
    "duration": 0,
    "start_time": "2022-09-26T16:30:56.724Z"
   },
   {
    "duration": 0,
    "start_time": "2022-09-26T16:30:56.725Z"
   },
   {
    "duration": 0,
    "start_time": "2022-09-26T16:30:56.727Z"
   },
   {
    "duration": 0,
    "start_time": "2022-09-26T16:30:56.728Z"
   },
   {
    "duration": 0,
    "start_time": "2022-09-26T16:30:56.729Z"
   },
   {
    "duration": 0,
    "start_time": "2022-09-26T16:30:56.731Z"
   },
   {
    "duration": 0,
    "start_time": "2022-09-26T16:30:56.733Z"
   },
   {
    "duration": 0,
    "start_time": "2022-09-26T16:30:56.734Z"
   },
   {
    "duration": 0,
    "start_time": "2022-09-26T16:30:56.737Z"
   },
   {
    "duration": 0,
    "start_time": "2022-09-26T16:30:56.738Z"
   },
   {
    "duration": 0,
    "start_time": "2022-09-26T16:30:56.803Z"
   },
   {
    "duration": 0,
    "start_time": "2022-09-26T16:30:56.806Z"
   },
   {
    "duration": 0,
    "start_time": "2022-09-26T16:30:56.807Z"
   },
   {
    "duration": 0,
    "start_time": "2022-09-26T16:30:56.809Z"
   },
   {
    "duration": 1349,
    "start_time": "2022-09-26T16:31:26.165Z"
   },
   {
    "duration": 164,
    "start_time": "2022-09-26T16:31:27.517Z"
   },
   {
    "duration": 4,
    "start_time": "2022-09-26T16:31:27.682Z"
   },
   {
    "duration": 162,
    "start_time": "2022-09-26T16:31:27.694Z"
   },
   {
    "duration": 3,
    "start_time": "2022-09-26T16:31:27.859Z"
   },
   {
    "duration": 12,
    "start_time": "2022-09-26T16:31:27.863Z"
   },
   {
    "duration": 30,
    "start_time": "2022-09-26T16:31:27.877Z"
   },
   {
    "duration": 86,
    "start_time": "2022-09-26T16:31:27.909Z"
   },
   {
    "duration": 119,
    "start_time": "2022-09-26T16:31:27.997Z"
   },
   {
    "duration": 140,
    "start_time": "2022-09-26T16:31:28.118Z"
   },
   {
    "duration": 44,
    "start_time": "2022-09-26T16:31:28.260Z"
   },
   {
    "duration": 11,
    "start_time": "2022-09-26T16:31:28.305Z"
   },
   {
    "duration": 53,
    "start_time": "2022-09-26T16:31:28.318Z"
   },
   {
    "duration": 22,
    "start_time": "2022-09-26T16:31:28.395Z"
   },
   {
    "duration": 10,
    "start_time": "2022-09-26T16:31:28.418Z"
   },
   {
    "duration": 4,
    "start_time": "2022-09-26T16:31:28.429Z"
   },
   {
    "duration": 7,
    "start_time": "2022-09-26T16:31:28.435Z"
   },
   {
    "duration": 394,
    "start_time": "2022-09-26T16:31:28.444Z"
   },
   {
    "duration": 13,
    "start_time": "2022-09-26T16:31:28.840Z"
   },
   {
    "duration": 6,
    "start_time": "2022-09-26T16:31:28.856Z"
   },
   {
    "duration": 161,
    "start_time": "2022-09-26T16:31:28.865Z"
   },
   {
    "duration": 52,
    "start_time": "2022-09-26T16:31:29.028Z"
   },
   {
    "duration": 43,
    "start_time": "2022-09-26T16:31:29.082Z"
   },
   {
    "duration": 24,
    "start_time": "2022-09-26T16:31:29.127Z"
   },
   {
    "duration": 61,
    "start_time": "2022-09-26T16:31:29.153Z"
   },
   {
    "duration": 25,
    "start_time": "2022-09-26T16:31:29.216Z"
   },
   {
    "duration": 179,
    "start_time": "2022-09-26T16:31:29.242Z"
   },
   {
    "duration": 97,
    "start_time": "2022-09-26T16:31:29.423Z"
   },
   {
    "duration": 33,
    "start_time": "2022-09-26T16:31:29.522Z"
   },
   {
    "duration": 250,
    "start_time": "2022-09-26T16:31:29.557Z"
   },
   {
    "duration": 13,
    "start_time": "2022-09-26T16:31:29.809Z"
   },
   {
    "duration": 20,
    "start_time": "2022-09-26T16:31:29.824Z"
   },
   {
    "duration": 122,
    "start_time": "2022-09-26T16:31:29.846Z"
   },
   {
    "duration": 126,
    "start_time": "2022-09-26T16:31:29.970Z"
   },
   {
    "duration": 40,
    "start_time": "2022-09-26T16:31:30.098Z"
   },
   {
    "duration": 144,
    "start_time": "2022-09-26T16:31:30.140Z"
   },
   {
    "duration": 10,
    "start_time": "2022-09-26T16:31:30.287Z"
   },
   {
    "duration": 26,
    "start_time": "2022-09-26T16:31:30.299Z"
   },
   {
    "duration": 14,
    "start_time": "2022-09-26T16:31:30.328Z"
   },
   {
    "duration": 20,
    "start_time": "2022-09-26T16:31:30.345Z"
   },
   {
    "duration": 15,
    "start_time": "2022-09-26T16:31:30.369Z"
   },
   {
    "duration": 49,
    "start_time": "2022-09-26T16:44:52.213Z"
   },
   {
    "duration": 12,
    "start_time": "2022-09-26T16:45:54.393Z"
   },
   {
    "duration": 175,
    "start_time": "2022-09-26T16:48:13.147Z"
   },
   {
    "duration": 183,
    "start_time": "2022-09-26T16:48:20.960Z"
   },
   {
    "duration": 169,
    "start_time": "2022-09-26T16:48:34.746Z"
   },
   {
    "duration": 165,
    "start_time": "2022-09-26T16:49:00.403Z"
   },
   {
    "duration": 33,
    "start_time": "2022-09-26T16:53:30.574Z"
   },
   {
    "duration": 179,
    "start_time": "2022-09-26T16:54:11.945Z"
   },
   {
    "duration": 55,
    "start_time": "2022-09-26T16:54:22.852Z"
   },
   {
    "duration": 37,
    "start_time": "2022-09-26T16:54:29.084Z"
   },
   {
    "duration": 38,
    "start_time": "2022-09-26T16:55:26.999Z"
   },
   {
    "duration": 163,
    "start_time": "2022-09-26T16:58:23.218Z"
   },
   {
    "duration": 100,
    "start_time": "2022-09-26T17:07:30.471Z"
   },
   {
    "duration": 5,
    "start_time": "2022-09-26T17:16:22.980Z"
   },
   {
    "duration": 12,
    "start_time": "2022-09-26T17:16:26.470Z"
   },
   {
    "duration": 10,
    "start_time": "2022-09-26T17:18:16.009Z"
   },
   {
    "duration": 12,
    "start_time": "2022-09-26T17:19:12.792Z"
   },
   {
    "duration": 14,
    "start_time": "2022-09-26T17:19:24.583Z"
   },
   {
    "duration": 10,
    "start_time": "2022-09-26T17:19:36.257Z"
   },
   {
    "duration": 1240,
    "start_time": "2022-09-26T17:24:26.929Z"
   },
   {
    "duration": 166,
    "start_time": "2022-09-26T17:24:28.171Z"
   },
   {
    "duration": 4,
    "start_time": "2022-09-26T17:24:28.339Z"
   },
   {
    "duration": 187,
    "start_time": "2022-09-26T17:24:28.345Z"
   },
   {
    "duration": 3,
    "start_time": "2022-09-26T17:24:28.535Z"
   },
   {
    "duration": 25,
    "start_time": "2022-09-26T17:24:28.540Z"
   },
   {
    "duration": 16,
    "start_time": "2022-09-26T17:24:28.567Z"
   },
   {
    "duration": 86,
    "start_time": "2022-09-26T17:24:28.585Z"
   },
   {
    "duration": 125,
    "start_time": "2022-09-26T17:24:28.673Z"
   },
   {
    "duration": 142,
    "start_time": "2022-09-26T17:24:28.800Z"
   },
   {
    "duration": 27,
    "start_time": "2022-09-26T17:24:28.944Z"
   },
   {
    "duration": 26,
    "start_time": "2022-09-26T17:24:28.973Z"
   },
   {
    "duration": 51,
    "start_time": "2022-09-26T17:24:29.001Z"
   },
   {
    "duration": 41,
    "start_time": "2022-09-26T17:24:29.055Z"
   },
   {
    "duration": 7,
    "start_time": "2022-09-26T17:24:29.098Z"
   },
   {
    "duration": 5,
    "start_time": "2022-09-26T17:24:29.107Z"
   },
   {
    "duration": 4,
    "start_time": "2022-09-26T17:24:29.114Z"
   },
   {
    "duration": 28,
    "start_time": "2022-09-26T17:24:29.120Z"
   },
   {
    "duration": 464,
    "start_time": "2022-09-26T17:24:29.150Z"
   },
   {
    "duration": 10,
    "start_time": "2022-09-26T17:24:29.616Z"
   },
   {
    "duration": 5,
    "start_time": "2022-09-26T17:24:29.628Z"
   },
   {
    "duration": 92,
    "start_time": "2022-09-26T17:24:29.635Z"
   },
   {
    "duration": 101,
    "start_time": "2022-09-26T17:24:29.729Z"
   },
   {
    "duration": 33,
    "start_time": "2022-09-26T17:24:29.832Z"
   },
   {
    "duration": 44,
    "start_time": "2022-09-26T17:24:29.868Z"
   },
   {
    "duration": 37,
    "start_time": "2022-09-26T17:24:29.914Z"
   },
   {
    "duration": 11,
    "start_time": "2022-09-26T17:24:29.952Z"
   },
   {
    "duration": 46,
    "start_time": "2022-09-26T17:24:29.965Z"
   },
   {
    "duration": 214,
    "start_time": "2022-09-26T17:24:30.013Z"
   },
   {
    "duration": 99,
    "start_time": "2022-09-26T17:24:30.229Z"
   },
   {
    "duration": 39,
    "start_time": "2022-09-26T17:24:30.330Z"
   },
   {
    "duration": 268,
    "start_time": "2022-09-26T17:24:30.371Z"
   },
   {
    "duration": 11,
    "start_time": "2022-09-26T17:24:30.641Z"
   },
   {
    "duration": 19,
    "start_time": "2022-09-26T17:24:30.654Z"
   },
   {
    "duration": 104,
    "start_time": "2022-09-26T17:24:30.695Z"
   },
   {
    "duration": 121,
    "start_time": "2022-09-26T17:24:30.800Z"
   },
   {
    "duration": 39,
    "start_time": "2022-09-26T17:24:30.923Z"
   },
   {
    "duration": 135,
    "start_time": "2022-09-26T17:24:30.965Z"
   },
   {
    "duration": 7,
    "start_time": "2022-09-26T17:24:31.102Z"
   },
   {
    "duration": 16,
    "start_time": "2022-09-26T17:24:31.111Z"
   },
   {
    "duration": 11,
    "start_time": "2022-09-26T17:24:31.131Z"
   },
   {
    "duration": 11,
    "start_time": "2022-09-26T17:24:31.143Z"
   },
   {
    "duration": 46,
    "start_time": "2022-09-26T17:24:31.156Z"
   },
   {
    "duration": 12,
    "start_time": "2022-09-26T17:30:35.157Z"
   },
   {
    "duration": 12,
    "start_time": "2022-09-26T17:30:45.181Z"
   },
   {
    "duration": 1280,
    "start_time": "2022-09-26T17:53:01.343Z"
   },
   {
    "duration": 186,
    "start_time": "2022-09-26T17:53:02.626Z"
   },
   {
    "duration": 6,
    "start_time": "2022-09-26T17:53:02.814Z"
   },
   {
    "duration": 202,
    "start_time": "2022-09-26T17:53:02.822Z"
   },
   {
    "duration": 4,
    "start_time": "2022-09-26T17:53:03.028Z"
   },
   {
    "duration": 24,
    "start_time": "2022-09-26T17:53:03.034Z"
   },
   {
    "duration": 15,
    "start_time": "2022-09-26T17:53:03.059Z"
   },
   {
    "duration": 78,
    "start_time": "2022-09-26T17:53:03.076Z"
   },
   {
    "duration": 116,
    "start_time": "2022-09-26T17:53:03.156Z"
   },
   {
    "duration": 171,
    "start_time": "2022-09-26T17:53:03.273Z"
   },
   {
    "duration": 27,
    "start_time": "2022-09-26T17:53:03.445Z"
   },
   {
    "duration": 23,
    "start_time": "2022-09-26T17:53:03.474Z"
   },
   {
    "duration": 50,
    "start_time": "2022-09-26T17:53:03.499Z"
   },
   {
    "duration": 20,
    "start_time": "2022-09-26T17:53:03.552Z"
   },
   {
    "duration": 28,
    "start_time": "2022-09-26T17:53:03.574Z"
   },
   {
    "duration": 9,
    "start_time": "2022-09-26T17:53:03.604Z"
   },
   {
    "duration": 10,
    "start_time": "2022-09-26T17:53:03.614Z"
   },
   {
    "duration": 400,
    "start_time": "2022-09-26T17:53:03.625Z"
   },
   {
    "duration": 9,
    "start_time": "2022-09-26T17:53:04.027Z"
   },
   {
    "duration": 5,
    "start_time": "2022-09-26T17:53:04.038Z"
   },
   {
    "duration": 49,
    "start_time": "2022-09-26T17:53:04.045Z"
   },
   {
    "duration": 49,
    "start_time": "2022-09-26T17:53:04.095Z"
   },
   {
    "duration": 30,
    "start_time": "2022-09-26T17:53:04.146Z"
   },
   {
    "duration": 30,
    "start_time": "2022-09-26T17:53:04.178Z"
   },
   {
    "duration": 44,
    "start_time": "2022-09-26T17:53:04.210Z"
   },
   {
    "duration": 14,
    "start_time": "2022-09-26T17:53:04.256Z"
   },
   {
    "duration": 41,
    "start_time": "2022-09-26T17:53:04.272Z"
   },
   {
    "duration": 181,
    "start_time": "2022-09-26T17:53:04.314Z"
   },
   {
    "duration": 119,
    "start_time": "2022-09-26T17:53:04.496Z"
   },
   {
    "duration": 87,
    "start_time": "2022-09-26T17:53:04.617Z"
   },
   {
    "duration": 362,
    "start_time": "2022-09-26T17:53:04.706Z"
   },
   {
    "duration": 12,
    "start_time": "2022-09-26T17:53:05.069Z"
   },
   {
    "duration": 16,
    "start_time": "2022-09-26T17:53:05.095Z"
   },
   {
    "duration": 112,
    "start_time": "2022-09-26T17:53:05.113Z"
   },
   {
    "duration": 111,
    "start_time": "2022-09-26T17:53:05.226Z"
   },
   {
    "duration": 44,
    "start_time": "2022-09-26T17:53:05.339Z"
   },
   {
    "duration": 123,
    "start_time": "2022-09-26T17:53:05.394Z"
   },
   {
    "duration": 6,
    "start_time": "2022-09-26T17:53:05.518Z"
   },
   {
    "duration": 13,
    "start_time": "2022-09-26T17:53:05.526Z"
   },
   {
    "duration": 10,
    "start_time": "2022-09-26T17:53:05.540Z"
   },
   {
    "duration": 10,
    "start_time": "2022-09-26T17:53:05.553Z"
   },
   {
    "duration": 37,
    "start_time": "2022-09-26T17:53:05.564Z"
   },
   {
    "duration": 1301,
    "start_time": "2022-09-26T18:00:56.988Z"
   },
   {
    "duration": 161,
    "start_time": "2022-09-26T18:00:58.291Z"
   },
   {
    "duration": 4,
    "start_time": "2022-09-26T18:00:58.455Z"
   },
   {
    "duration": 173,
    "start_time": "2022-09-26T18:00:58.462Z"
   },
   {
    "duration": 4,
    "start_time": "2022-09-26T18:00:58.636Z"
   },
   {
    "duration": 11,
    "start_time": "2022-09-26T18:00:58.641Z"
   },
   {
    "duration": 14,
    "start_time": "2022-09-26T18:00:58.653Z"
   },
   {
    "duration": 88,
    "start_time": "2022-09-26T18:00:58.668Z"
   },
   {
    "duration": 118,
    "start_time": "2022-09-26T18:00:58.758Z"
   },
   {
    "duration": 153,
    "start_time": "2022-09-26T18:00:58.879Z"
   },
   {
    "duration": 29,
    "start_time": "2022-09-26T18:00:59.034Z"
   },
   {
    "duration": 31,
    "start_time": "2022-09-26T18:00:59.065Z"
   },
   {
    "duration": 53,
    "start_time": "2022-09-26T18:00:59.098Z"
   },
   {
    "duration": 22,
    "start_time": "2022-09-26T18:00:59.153Z"
   },
   {
    "duration": 7,
    "start_time": "2022-09-26T18:00:59.196Z"
   },
   {
    "duration": 3,
    "start_time": "2022-09-26T18:00:59.206Z"
   },
   {
    "duration": 7,
    "start_time": "2022-09-26T18:00:59.211Z"
   },
   {
    "duration": 394,
    "start_time": "2022-09-26T18:00:59.220Z"
   },
   {
    "duration": 12,
    "start_time": "2022-09-26T18:00:59.616Z"
   },
   {
    "duration": 6,
    "start_time": "2022-09-26T18:00:59.630Z"
   },
   {
    "duration": 95,
    "start_time": "2022-09-26T18:00:59.638Z"
   },
   {
    "duration": 109,
    "start_time": "2022-09-26T18:00:59.735Z"
   },
   {
    "duration": 51,
    "start_time": "2022-09-26T18:00:59.845Z"
   },
   {
    "duration": 24,
    "start_time": "2022-09-26T18:00:59.898Z"
   },
   {
    "duration": 35,
    "start_time": "2022-09-26T18:00:59.924Z"
   },
   {
    "duration": 35,
    "start_time": "2022-09-26T18:00:59.960Z"
   },
   {
    "duration": 26,
    "start_time": "2022-09-26T18:00:59.997Z"
   },
   {
    "duration": 204,
    "start_time": "2022-09-26T18:01:00.028Z"
   },
   {
    "duration": 83,
    "start_time": "2022-09-26T18:01:00.234Z"
   },
   {
    "duration": 31,
    "start_time": "2022-09-26T18:01:00.319Z"
   },
   {
    "duration": 261,
    "start_time": "2022-09-26T18:01:00.352Z"
   },
   {
    "duration": 12,
    "start_time": "2022-09-26T18:01:00.614Z"
   },
   {
    "duration": 19,
    "start_time": "2022-09-26T18:01:00.628Z"
   },
   {
    "duration": 114,
    "start_time": "2022-09-26T18:01:00.648Z"
   },
   {
    "duration": 126,
    "start_time": "2022-09-26T18:01:00.764Z"
   },
   {
    "duration": 38,
    "start_time": "2022-09-26T18:01:00.894Z"
   },
   {
    "duration": 131,
    "start_time": "2022-09-26T18:01:00.934Z"
   },
   {
    "duration": 7,
    "start_time": "2022-09-26T18:01:01.067Z"
   },
   {
    "duration": 27,
    "start_time": "2022-09-26T18:01:01.076Z"
   },
   {
    "duration": 10,
    "start_time": "2022-09-26T18:01:01.106Z"
   },
   {
    "duration": 17,
    "start_time": "2022-09-26T18:01:01.119Z"
   },
   {
    "duration": 20,
    "start_time": "2022-09-26T18:01:01.138Z"
   },
   {
    "duration": 1243,
    "start_time": "2022-09-26T19:34:16.668Z"
   },
   {
    "duration": 731,
    "start_time": "2022-09-26T19:34:17.913Z"
   },
   {
    "duration": 5,
    "start_time": "2022-09-26T19:34:18.645Z"
   },
   {
    "duration": 169,
    "start_time": "2022-09-26T19:34:18.652Z"
   },
   {
    "duration": 3,
    "start_time": "2022-09-26T19:34:18.823Z"
   },
   {
    "duration": 11,
    "start_time": "2022-09-26T19:34:18.828Z"
   },
   {
    "duration": 18,
    "start_time": "2022-09-26T19:34:18.841Z"
   },
   {
    "duration": 91,
    "start_time": "2022-09-26T19:34:18.860Z"
   },
   {
    "duration": 109,
    "start_time": "2022-09-26T19:34:18.953Z"
   },
   {
    "duration": 148,
    "start_time": "2022-09-26T19:34:19.065Z"
   },
   {
    "duration": 27,
    "start_time": "2022-09-26T19:34:19.215Z"
   },
   {
    "duration": 11,
    "start_time": "2022-09-26T19:34:19.244Z"
   },
   {
    "duration": 69,
    "start_time": "2022-09-26T19:34:19.257Z"
   },
   {
    "duration": 20,
    "start_time": "2022-09-26T19:34:19.328Z"
   },
   {
    "duration": 9,
    "start_time": "2022-09-26T19:34:19.350Z"
   },
   {
    "duration": 3,
    "start_time": "2022-09-26T19:34:19.360Z"
   },
   {
    "duration": 33,
    "start_time": "2022-09-26T19:34:19.364Z"
   },
   {
    "duration": 409,
    "start_time": "2022-09-26T19:34:19.399Z"
   },
   {
    "duration": 10,
    "start_time": "2022-09-26T19:34:19.810Z"
   },
   {
    "duration": 5,
    "start_time": "2022-09-26T19:34:19.821Z"
   },
   {
    "duration": 90,
    "start_time": "2022-09-26T19:34:19.828Z"
   },
   {
    "duration": 87,
    "start_time": "2022-09-26T19:34:19.919Z"
   },
   {
    "duration": 33,
    "start_time": "2022-09-26T19:34:20.008Z"
   },
   {
    "duration": 24,
    "start_time": "2022-09-26T19:34:20.043Z"
   },
   {
    "duration": 61,
    "start_time": "2022-09-26T19:34:20.068Z"
   },
   {
    "duration": 10,
    "start_time": "2022-09-26T19:34:20.130Z"
   },
   {
    "duration": 27,
    "start_time": "2022-09-26T19:34:20.142Z"
   },
   {
    "duration": 198,
    "start_time": "2022-09-26T19:34:20.172Z"
   },
   {
    "duration": 84,
    "start_time": "2022-09-26T19:34:20.372Z"
   },
   {
    "duration": 38,
    "start_time": "2022-09-26T19:34:20.458Z"
   },
   {
    "duration": 246,
    "start_time": "2022-09-26T19:34:20.498Z"
   },
   {
    "duration": 11,
    "start_time": "2022-09-26T19:34:20.746Z"
   },
   {
    "duration": 37,
    "start_time": "2022-09-26T19:34:20.758Z"
   },
   {
    "duration": 98,
    "start_time": "2022-09-26T19:34:20.797Z"
   },
   {
    "duration": 103,
    "start_time": "2022-09-26T19:34:20.896Z"
   },
   {
    "duration": 38,
    "start_time": "2022-09-26T19:34:21.000Z"
   },
   {
    "duration": 131,
    "start_time": "2022-09-26T19:34:21.040Z"
   },
   {
    "duration": 5,
    "start_time": "2022-09-26T19:34:21.173Z"
   },
   {
    "duration": 21,
    "start_time": "2022-09-26T19:34:21.180Z"
   },
   {
    "duration": 8,
    "start_time": "2022-09-26T19:34:21.202Z"
   },
   {
    "duration": 13,
    "start_time": "2022-09-26T19:34:21.211Z"
   },
   {
    "duration": 9,
    "start_time": "2022-09-26T19:34:21.225Z"
   },
   {
    "duration": 57,
    "start_time": "2022-10-05T16:41:11.521Z"
   },
   {
    "duration": 1360,
    "start_time": "2022-10-05T16:41:19.348Z"
   },
   {
    "duration": 968,
    "start_time": "2022-10-05T16:41:20.710Z"
   },
   {
    "duration": 4,
    "start_time": "2022-10-05T16:41:21.680Z"
   },
   {
    "duration": 157,
    "start_time": "2022-10-05T16:41:21.686Z"
   },
   {
    "duration": 3,
    "start_time": "2022-10-05T16:41:22.828Z"
   },
   {
    "duration": 9,
    "start_time": "2022-10-05T16:41:23.228Z"
   },
   {
    "duration": 11,
    "start_time": "2022-10-05T16:41:24.156Z"
   },
   {
    "duration": 74,
    "start_time": "2022-10-05T16:41:24.564Z"
   },
   {
    "duration": 98,
    "start_time": "2022-10-05T16:41:25.284Z"
   },
   {
    "duration": 130,
    "start_time": "2022-10-05T16:41:25.652Z"
   },
   {
    "duration": 27,
    "start_time": "2022-10-05T16:41:26.039Z"
   },
   {
    "duration": 10,
    "start_time": "2022-10-05T16:41:28.333Z"
   },
   {
    "duration": 48,
    "start_time": "2022-10-05T16:41:28.676Z"
   },
   {
    "duration": 19,
    "start_time": "2022-10-05T16:41:29.044Z"
   },
   {
    "duration": 7,
    "start_time": "2022-10-05T16:41:29.841Z"
   },
   {
    "duration": 3,
    "start_time": "2022-10-05T16:41:30.925Z"
   },
   {
    "duration": 6,
    "start_time": "2022-10-05T16:41:32.108Z"
   },
   {
    "duration": 402,
    "start_time": "2022-10-05T16:41:32.884Z"
   },
   {
    "duration": 11,
    "start_time": "2022-10-05T16:41:35.058Z"
   },
   {
    "duration": 6,
    "start_time": "2022-10-05T16:41:35.876Z"
   },
   {
    "duration": 51,
    "start_time": "2022-10-05T16:41:36.699Z"
   },
   {
    "duration": 48,
    "start_time": "2022-10-05T16:41:37.076Z"
   },
   {
    "duration": 30,
    "start_time": "2022-10-05T16:41:37.405Z"
   },
   {
    "duration": 24,
    "start_time": "2022-10-05T16:41:37.898Z"
   },
   {
    "duration": 35,
    "start_time": "2022-10-05T16:41:39.461Z"
   },
   {
    "duration": 10,
    "start_time": "2022-10-05T16:41:39.924Z"
   },
   {
    "duration": 25,
    "start_time": "2022-10-05T16:41:42.004Z"
   },
   {
    "duration": 181,
    "start_time": "2022-10-05T16:41:42.790Z"
   },
   {
    "duration": 71,
    "start_time": "2022-10-05T16:41:44.340Z"
   },
   {
    "duration": 31,
    "start_time": "2022-10-05T16:41:45.148Z"
   },
   {
    "duration": 238,
    "start_time": "2022-10-05T16:41:46.293Z"
   },
   {
    "duration": 11,
    "start_time": "2022-10-05T16:42:08.659Z"
   },
   {
    "duration": 1602,
    "start_time": "2022-10-12T09:07:31.126Z"
   },
   {
    "duration": 476,
    "start_time": "2022-10-12T09:07:32.730Z"
   },
   {
    "duration": 4,
    "start_time": "2022-10-12T09:07:33.208Z"
   },
   {
    "duration": 161,
    "start_time": "2022-10-12T09:07:33.214Z"
   },
   {
    "duration": 3,
    "start_time": "2022-10-12T09:07:36.536Z"
   },
   {
    "duration": 8,
    "start_time": "2022-10-12T09:07:37.168Z"
   },
   {
    "duration": 13,
    "start_time": "2022-10-12T09:07:38.559Z"
   },
   {
    "duration": 76,
    "start_time": "2022-10-12T09:07:38.944Z"
   },
   {
    "duration": 104,
    "start_time": "2022-10-12T09:07:39.545Z"
   },
   {
    "duration": 145,
    "start_time": "2022-10-12T09:07:40.043Z"
   },
   {
    "duration": 29,
    "start_time": "2022-10-12T09:07:40.594Z"
   },
   {
    "duration": 11,
    "start_time": "2022-10-12T09:07:43.026Z"
   },
   {
    "duration": 51,
    "start_time": "2022-10-12T09:07:43.361Z"
   },
   {
    "duration": 22,
    "start_time": "2022-10-12T09:07:43.944Z"
   },
   {
    "duration": 7,
    "start_time": "2022-10-12T09:07:44.870Z"
   },
   {
    "duration": 3,
    "start_time": "2022-10-12T09:07:46.535Z"
   },
   {
    "duration": 6,
    "start_time": "2022-10-12T09:07:48.192Z"
   }
  ],
  "kernelspec": {
   "display_name": "Python 3 (ipykernel)",
   "language": "python",
   "name": "python3"
  },
  "language_info": {
   "codemirror_mode": {
    "name": "ipython",
    "version": 3
   },
   "file_extension": ".py",
   "mimetype": "text/x-python",
   "name": "python",
   "nbconvert_exporter": "python",
   "pygments_lexer": "ipython3",
   "version": "3.9.5"
  },
  "toc": {
   "base_numbering": 1,
   "nav_menu": {},
   "number_sections": true,
   "sideBar": true,
   "skip_h1_title": true,
   "title_cell": "Table of Contents",
   "title_sidebar": "Contents",
   "toc_cell": false,
   "toc_position": {
    "height": "calc(100% - 180px)",
    "left": "10px",
    "top": "150px",
    "width": "237.25px"
   },
   "toc_section_display": true,
   "toc_window_display": true
  }
 },
 "nbformat": 4,
 "nbformat_minor": 2
}
