{
 "cells": [
  {
   "cell_type": "markdown",
   "metadata": {},
   "source": [
    "<div style=\"border:solid Chocolate 2px; padding: 40px\">\n",
    "\n",
    "<b>Ольга, привет!</b>\n",
    "\n",
    "Меня зовут Евгений Головин, я буду ревьюером твоего проекта. Если ты не против, то предлагаю посмотрить наше общение на \"ты\" ;) Если удобнее на \"вы\", то нет проблем, только скажи об этом. \n",
    "\n",
    "В ходе работы я оставил тебе комментарии <font color='green'>зеленого</font>, <font color='gold'>желтого</font> и <font color='red'>красного</font> цветов. Сейчас объясню, что они значат:\n",
    "\n",
    "<br/>\n",
    "\n",
    "<div class=\"alert alert-success\">\n",
    "<h2> Комментарий ревьюера <a class=\"tocSkip\"> </h2>\n",
    "\n",
    "<b>Все супер!👍:</b> Решение на этом шаге является полностью правильным.\n",
    "</div>\n",
    "\n",
    "<br/>\n",
    "\n",
    "<div class=\"alert alert-warning\">\n",
    "    <h2> Комментарий ревьюера <a class=\"tocSkip\"> </h2>\n",
    "    \n",
    "<b>Небольшие замечания и рекомендации💡:</b> Решение на этом шаге станет еще лучше, если внести небольшие коррективы.\n",
    "</div>\n",
    "\n",
    "\n",
    "<br/>\n",
    "<div class=\"alert alert-block alert-danger\">\n",
    "<h2> Комментарий ревьюера <a class=\"tocSkip\"></h2>\n",
    "\n",
    "    \n",
    "<b>На доработку🤔:</b>\n",
    " Решение на этом шаге требует существенной переработки и внесения правок. Напоминаю, что проект не может быть принят с первого раза, если ревью содержит комментарии, рекомендующие доработать шаги.\n",
    "</div>\n",
    "\n",
    "Увидев мой комментарий, не удаляй его, он будет очень полезен в случае повторной проверки работы :)\n",
    "    \n",
    "На мои комменатрии можно и нужно реагировать, только делать это стоит так, чтобы твои и мои комменты не смешались: выделяй свои цветами, сильно отличающимися от моих.\n",
    "    \n",
    "Увидев у тебя неточность, в первый раз я лишь укажу на ее наличие и дам тебе возможность самому найти и исправить ее. На реальной работе твой руководитель будет поступать также, и я пытаюсь подготовить тебя именно к работе аналитиком. Но если ты пока не справишься с такой задачей - при следующей проверке я дам более точную подсказку!"
   ]
  },
  {
   "cell_type": "markdown",
   "metadata": {},
   "source": [
    "# Исследование объявлений о продаже квартир\n",
    "\n",
    "В вашем распоряжении данные сервиса Яндекс.Недвижимость — архив объявлений о продаже квартир в Санкт-Петербурге и соседних населённых пунктов за несколько лет. Нужно научиться определять рыночную стоимость объектов недвижимости. Ваша задача — установить параметры. Это позволит построить автоматизированную систему: она отследит аномалии и мошенническую деятельность. \n",
    "\n",
    "По каждой квартире на продажу доступны два вида данных. Первые вписаны пользователем, вторые — получены автоматически на основе картографических данных. Например, расстояние до центра, аэропорта, ближайшего парка и водоёма. "
   ]
  },
  {
   "cell_type": "code",
   "execution_count": null,
   "metadata": {},
   "outputs": [],
   "source": []
  },
  {
   "cell_type": "markdown",
   "metadata": {},
   "source": [
    "<div class=\"alert alert-success\">\n",
    "<h2> Комментарий ревьюера <a class=\"tocSkip\"> </h2>\n",
    "\n",
    "<b>Все супер!👍:</b> Введение есть, супер)"
   ]
  },
  {
   "cell_type": "markdown",
   "metadata": {},
   "source": [
    "### Откройте файл с данными и изучите общую информацию. "
   ]
  },
  {
   "cell_type": "code",
   "execution_count": null,
   "metadata": {},
   "outputs": [],
   "source": []
  },
  {
   "cell_type": "code",
   "execution_count": 1,
   "metadata": {},
   "outputs": [],
   "source": [
    "import pandas as pd\n",
    "\n",
    "data = pd.read_csv('/datasets/real_estate_data.csv', sep='\\t')"
   ]
  },
  {
   "cell_type": "code",
   "execution_count": 2,
   "metadata": {},
   "outputs": [
    {
     "name": "stdout",
     "output_type": "stream",
     "text": [
      "<class 'pandas.core.frame.DataFrame'>\n",
      "RangeIndex: 23699 entries, 0 to 23698\n",
      "Data columns (total 22 columns):\n",
      " #   Column                Non-Null Count  Dtype  \n",
      "---  ------                --------------  -----  \n",
      " 0   total_images          23699 non-null  int64  \n",
      " 1   last_price            23699 non-null  float64\n",
      " 2   total_area            23699 non-null  float64\n",
      " 3   first_day_exposition  23699 non-null  object \n",
      " 4   rooms                 23699 non-null  int64  \n",
      " 5   ceiling_height        14504 non-null  float64\n",
      " 6   floors_total          23613 non-null  float64\n",
      " 7   living_area           21796 non-null  float64\n",
      " 8   floor                 23699 non-null  int64  \n",
      " 9   is_apartment          2775 non-null   object \n",
      " 10  studio                23699 non-null  bool   \n",
      " 11  open_plan             23699 non-null  bool   \n",
      " 12  kitchen_area          21421 non-null  float64\n",
      " 13  balcony               12180 non-null  float64\n",
      " 14  locality_name         23650 non-null  object \n",
      " 15  airports_nearest      18157 non-null  float64\n",
      " 16  cityCenters_nearest   18180 non-null  float64\n",
      " 17  parks_around3000      18181 non-null  float64\n",
      " 18  parks_nearest         8079 non-null   float64\n",
      " 19  ponds_around3000      18181 non-null  float64\n",
      " 20  ponds_nearest         9110 non-null   float64\n",
      " 21  days_exposition       20518 non-null  float64\n",
      "dtypes: bool(2), float64(14), int64(3), object(3)\n",
      "memory usage: 3.7+ MB\n"
     ]
    }
   ],
   "source": [
    "data.info()"
   ]
  },
  {
   "cell_type": "code",
   "execution_count": 3,
   "metadata": {
    "scrolled": true
   },
   "outputs": [
    {
     "data": {
      "text/html": [
       "<div>\n",
       "<style scoped>\n",
       "    .dataframe tbody tr th:only-of-type {\n",
       "        vertical-align: middle;\n",
       "    }\n",
       "\n",
       "    .dataframe tbody tr th {\n",
       "        vertical-align: top;\n",
       "    }\n",
       "\n",
       "    .dataframe thead th {\n",
       "        text-align: right;\n",
       "    }\n",
       "</style>\n",
       "<table border=\"1\" class=\"dataframe\">\n",
       "  <thead>\n",
       "    <tr style=\"text-align: right;\">\n",
       "      <th></th>\n",
       "      <th>total_images</th>\n",
       "      <th>last_price</th>\n",
       "      <th>total_area</th>\n",
       "      <th>first_day_exposition</th>\n",
       "      <th>rooms</th>\n",
       "      <th>ceiling_height</th>\n",
       "      <th>floors_total</th>\n",
       "      <th>living_area</th>\n",
       "      <th>floor</th>\n",
       "      <th>is_apartment</th>\n",
       "      <th>...</th>\n",
       "      <th>kitchen_area</th>\n",
       "      <th>balcony</th>\n",
       "      <th>locality_name</th>\n",
       "      <th>airports_nearest</th>\n",
       "      <th>cityCenters_nearest</th>\n",
       "      <th>parks_around3000</th>\n",
       "      <th>parks_nearest</th>\n",
       "      <th>ponds_around3000</th>\n",
       "      <th>ponds_nearest</th>\n",
       "      <th>days_exposition</th>\n",
       "    </tr>\n",
       "  </thead>\n",
       "  <tbody>\n",
       "    <tr>\n",
       "      <th>0</th>\n",
       "      <td>20</td>\n",
       "      <td>13000000.0</td>\n",
       "      <td>108.00</td>\n",
       "      <td>2019-03-07T00:00:00</td>\n",
       "      <td>3</td>\n",
       "      <td>2.70</td>\n",
       "      <td>16.0</td>\n",
       "      <td>51.00</td>\n",
       "      <td>8</td>\n",
       "      <td>NaN</td>\n",
       "      <td>...</td>\n",
       "      <td>25.00</td>\n",
       "      <td>NaN</td>\n",
       "      <td>Санкт-Петербург</td>\n",
       "      <td>18863.0</td>\n",
       "      <td>16028.0</td>\n",
       "      <td>1.0</td>\n",
       "      <td>482.0</td>\n",
       "      <td>2.0</td>\n",
       "      <td>755.0</td>\n",
       "      <td>NaN</td>\n",
       "    </tr>\n",
       "    <tr>\n",
       "      <th>1</th>\n",
       "      <td>7</td>\n",
       "      <td>3350000.0</td>\n",
       "      <td>40.40</td>\n",
       "      <td>2018-12-04T00:00:00</td>\n",
       "      <td>1</td>\n",
       "      <td>NaN</td>\n",
       "      <td>11.0</td>\n",
       "      <td>18.60</td>\n",
       "      <td>1</td>\n",
       "      <td>NaN</td>\n",
       "      <td>...</td>\n",
       "      <td>11.00</td>\n",
       "      <td>2.0</td>\n",
       "      <td>посёлок Шушары</td>\n",
       "      <td>12817.0</td>\n",
       "      <td>18603.0</td>\n",
       "      <td>0.0</td>\n",
       "      <td>NaN</td>\n",
       "      <td>0.0</td>\n",
       "      <td>NaN</td>\n",
       "      <td>81.0</td>\n",
       "    </tr>\n",
       "    <tr>\n",
       "      <th>2</th>\n",
       "      <td>10</td>\n",
       "      <td>5196000.0</td>\n",
       "      <td>56.00</td>\n",
       "      <td>2015-08-20T00:00:00</td>\n",
       "      <td>2</td>\n",
       "      <td>NaN</td>\n",
       "      <td>5.0</td>\n",
       "      <td>34.30</td>\n",
       "      <td>4</td>\n",
       "      <td>NaN</td>\n",
       "      <td>...</td>\n",
       "      <td>8.30</td>\n",
       "      <td>0.0</td>\n",
       "      <td>Санкт-Петербург</td>\n",
       "      <td>21741.0</td>\n",
       "      <td>13933.0</td>\n",
       "      <td>1.0</td>\n",
       "      <td>90.0</td>\n",
       "      <td>2.0</td>\n",
       "      <td>574.0</td>\n",
       "      <td>558.0</td>\n",
       "    </tr>\n",
       "    <tr>\n",
       "      <th>3</th>\n",
       "      <td>0</td>\n",
       "      <td>64900000.0</td>\n",
       "      <td>159.00</td>\n",
       "      <td>2015-07-24T00:00:00</td>\n",
       "      <td>3</td>\n",
       "      <td>NaN</td>\n",
       "      <td>14.0</td>\n",
       "      <td>NaN</td>\n",
       "      <td>9</td>\n",
       "      <td>NaN</td>\n",
       "      <td>...</td>\n",
       "      <td>NaN</td>\n",
       "      <td>0.0</td>\n",
       "      <td>Санкт-Петербург</td>\n",
       "      <td>28098.0</td>\n",
       "      <td>6800.0</td>\n",
       "      <td>2.0</td>\n",
       "      <td>84.0</td>\n",
       "      <td>3.0</td>\n",
       "      <td>234.0</td>\n",
       "      <td>424.0</td>\n",
       "    </tr>\n",
       "    <tr>\n",
       "      <th>4</th>\n",
       "      <td>2</td>\n",
       "      <td>10000000.0</td>\n",
       "      <td>100.00</td>\n",
       "      <td>2018-06-19T00:00:00</td>\n",
       "      <td>2</td>\n",
       "      <td>3.03</td>\n",
       "      <td>14.0</td>\n",
       "      <td>32.00</td>\n",
       "      <td>13</td>\n",
       "      <td>NaN</td>\n",
       "      <td>...</td>\n",
       "      <td>41.00</td>\n",
       "      <td>NaN</td>\n",
       "      <td>Санкт-Петербург</td>\n",
       "      <td>31856.0</td>\n",
       "      <td>8098.0</td>\n",
       "      <td>2.0</td>\n",
       "      <td>112.0</td>\n",
       "      <td>1.0</td>\n",
       "      <td>48.0</td>\n",
       "      <td>121.0</td>\n",
       "    </tr>\n",
       "    <tr>\n",
       "      <th>5</th>\n",
       "      <td>10</td>\n",
       "      <td>2890000.0</td>\n",
       "      <td>30.40</td>\n",
       "      <td>2018-09-10T00:00:00</td>\n",
       "      <td>1</td>\n",
       "      <td>NaN</td>\n",
       "      <td>12.0</td>\n",
       "      <td>14.40</td>\n",
       "      <td>5</td>\n",
       "      <td>NaN</td>\n",
       "      <td>...</td>\n",
       "      <td>9.10</td>\n",
       "      <td>NaN</td>\n",
       "      <td>городской посёлок Янино-1</td>\n",
       "      <td>NaN</td>\n",
       "      <td>NaN</td>\n",
       "      <td>NaN</td>\n",
       "      <td>NaN</td>\n",
       "      <td>NaN</td>\n",
       "      <td>NaN</td>\n",
       "      <td>55.0</td>\n",
       "    </tr>\n",
       "    <tr>\n",
       "      <th>6</th>\n",
       "      <td>6</td>\n",
       "      <td>3700000.0</td>\n",
       "      <td>37.30</td>\n",
       "      <td>2017-11-02T00:00:00</td>\n",
       "      <td>1</td>\n",
       "      <td>NaN</td>\n",
       "      <td>26.0</td>\n",
       "      <td>10.60</td>\n",
       "      <td>6</td>\n",
       "      <td>NaN</td>\n",
       "      <td>...</td>\n",
       "      <td>14.40</td>\n",
       "      <td>1.0</td>\n",
       "      <td>посёлок Парголово</td>\n",
       "      <td>52996.0</td>\n",
       "      <td>19143.0</td>\n",
       "      <td>0.0</td>\n",
       "      <td>NaN</td>\n",
       "      <td>0.0</td>\n",
       "      <td>NaN</td>\n",
       "      <td>155.0</td>\n",
       "    </tr>\n",
       "    <tr>\n",
       "      <th>7</th>\n",
       "      <td>5</td>\n",
       "      <td>7915000.0</td>\n",
       "      <td>71.60</td>\n",
       "      <td>2019-04-18T00:00:00</td>\n",
       "      <td>2</td>\n",
       "      <td>NaN</td>\n",
       "      <td>24.0</td>\n",
       "      <td>NaN</td>\n",
       "      <td>22</td>\n",
       "      <td>NaN</td>\n",
       "      <td>...</td>\n",
       "      <td>18.90</td>\n",
       "      <td>2.0</td>\n",
       "      <td>Санкт-Петербург</td>\n",
       "      <td>23982.0</td>\n",
       "      <td>11634.0</td>\n",
       "      <td>0.0</td>\n",
       "      <td>NaN</td>\n",
       "      <td>0.0</td>\n",
       "      <td>NaN</td>\n",
       "      <td>NaN</td>\n",
       "    </tr>\n",
       "    <tr>\n",
       "      <th>8</th>\n",
       "      <td>20</td>\n",
       "      <td>2900000.0</td>\n",
       "      <td>33.16</td>\n",
       "      <td>2018-05-23T00:00:00</td>\n",
       "      <td>1</td>\n",
       "      <td>NaN</td>\n",
       "      <td>27.0</td>\n",
       "      <td>15.43</td>\n",
       "      <td>26</td>\n",
       "      <td>NaN</td>\n",
       "      <td>...</td>\n",
       "      <td>8.81</td>\n",
       "      <td>NaN</td>\n",
       "      <td>посёлок Мурино</td>\n",
       "      <td>NaN</td>\n",
       "      <td>NaN</td>\n",
       "      <td>NaN</td>\n",
       "      <td>NaN</td>\n",
       "      <td>NaN</td>\n",
       "      <td>NaN</td>\n",
       "      <td>189.0</td>\n",
       "    </tr>\n",
       "    <tr>\n",
       "      <th>9</th>\n",
       "      <td>18</td>\n",
       "      <td>5400000.0</td>\n",
       "      <td>61.00</td>\n",
       "      <td>2017-02-26T00:00:00</td>\n",
       "      <td>3</td>\n",
       "      <td>2.50</td>\n",
       "      <td>9.0</td>\n",
       "      <td>43.60</td>\n",
       "      <td>7</td>\n",
       "      <td>NaN</td>\n",
       "      <td>...</td>\n",
       "      <td>6.50</td>\n",
       "      <td>2.0</td>\n",
       "      <td>Санкт-Петербург</td>\n",
       "      <td>50898.0</td>\n",
       "      <td>15008.0</td>\n",
       "      <td>0.0</td>\n",
       "      <td>NaN</td>\n",
       "      <td>0.0</td>\n",
       "      <td>NaN</td>\n",
       "      <td>289.0</td>\n",
       "    </tr>\n",
       "  </tbody>\n",
       "</table>\n",
       "<p>10 rows × 22 columns</p>\n",
       "</div>"
      ],
      "text/plain": [
       "   total_images  last_price  total_area first_day_exposition  rooms  \\\n",
       "0            20  13000000.0      108.00  2019-03-07T00:00:00      3   \n",
       "1             7   3350000.0       40.40  2018-12-04T00:00:00      1   \n",
       "2            10   5196000.0       56.00  2015-08-20T00:00:00      2   \n",
       "3             0  64900000.0      159.00  2015-07-24T00:00:00      3   \n",
       "4             2  10000000.0      100.00  2018-06-19T00:00:00      2   \n",
       "5            10   2890000.0       30.40  2018-09-10T00:00:00      1   \n",
       "6             6   3700000.0       37.30  2017-11-02T00:00:00      1   \n",
       "7             5   7915000.0       71.60  2019-04-18T00:00:00      2   \n",
       "8            20   2900000.0       33.16  2018-05-23T00:00:00      1   \n",
       "9            18   5400000.0       61.00  2017-02-26T00:00:00      3   \n",
       "\n",
       "   ceiling_height  floors_total  living_area  floor is_apartment  ...  \\\n",
       "0            2.70          16.0        51.00      8          NaN  ...   \n",
       "1             NaN          11.0        18.60      1          NaN  ...   \n",
       "2             NaN           5.0        34.30      4          NaN  ...   \n",
       "3             NaN          14.0          NaN      9          NaN  ...   \n",
       "4            3.03          14.0        32.00     13          NaN  ...   \n",
       "5             NaN          12.0        14.40      5          NaN  ...   \n",
       "6             NaN          26.0        10.60      6          NaN  ...   \n",
       "7             NaN          24.0          NaN     22          NaN  ...   \n",
       "8             NaN          27.0        15.43     26          NaN  ...   \n",
       "9            2.50           9.0        43.60      7          NaN  ...   \n",
       "\n",
       "   kitchen_area  balcony              locality_name  airports_nearest  \\\n",
       "0         25.00      NaN            Санкт-Петербург           18863.0   \n",
       "1         11.00      2.0             посёлок Шушары           12817.0   \n",
       "2          8.30      0.0            Санкт-Петербург           21741.0   \n",
       "3           NaN      0.0            Санкт-Петербург           28098.0   \n",
       "4         41.00      NaN            Санкт-Петербург           31856.0   \n",
       "5          9.10      NaN  городской посёлок Янино-1               NaN   \n",
       "6         14.40      1.0          посёлок Парголово           52996.0   \n",
       "7         18.90      2.0            Санкт-Петербург           23982.0   \n",
       "8          8.81      NaN             посёлок Мурино               NaN   \n",
       "9          6.50      2.0            Санкт-Петербург           50898.0   \n",
       "\n",
       "  cityCenters_nearest  parks_around3000  parks_nearest  ponds_around3000  \\\n",
       "0             16028.0               1.0          482.0               2.0   \n",
       "1             18603.0               0.0            NaN               0.0   \n",
       "2             13933.0               1.0           90.0               2.0   \n",
       "3              6800.0               2.0           84.0               3.0   \n",
       "4              8098.0               2.0          112.0               1.0   \n",
       "5                 NaN               NaN            NaN               NaN   \n",
       "6             19143.0               0.0            NaN               0.0   \n",
       "7             11634.0               0.0            NaN               0.0   \n",
       "8                 NaN               NaN            NaN               NaN   \n",
       "9             15008.0               0.0            NaN               0.0   \n",
       "\n",
       "   ponds_nearest  days_exposition  \n",
       "0          755.0              NaN  \n",
       "1            NaN             81.0  \n",
       "2          574.0            558.0  \n",
       "3          234.0            424.0  \n",
       "4           48.0            121.0  \n",
       "5            NaN             55.0  \n",
       "6            NaN            155.0  \n",
       "7            NaN              NaN  \n",
       "8            NaN            189.0  \n",
       "9            NaN            289.0  \n",
       "\n",
       "[10 rows x 22 columns]"
      ]
     },
     "execution_count": 3,
     "metadata": {},
     "output_type": "execute_result"
    }
   ],
   "source": [
    "data.head(10)"
   ]
  },
  {
   "cell_type": "code",
   "execution_count": 4,
   "metadata": {},
   "outputs": [],
   "source": [
    "# данные отображаются в усечённом варианте - для наглядности зададим отображение всех столбцов\n",
    "pd.set_option('display.max_columns', None)"
   ]
  },
  {
   "cell_type": "markdown",
   "metadata": {},
   "source": [
    "<div class=\"alert alert-success\">\n",
    "<h2> Комментарий ревьюера <a class=\"tocSkip\"> </h2>\n",
    "\n",
    "<b>Все супер!👍:</b> Отлично)"
   ]
  },
  {
   "cell_type": "code",
   "execution_count": 5,
   "metadata": {
    "scrolled": true
   },
   "outputs": [
    {
     "data": {
      "text/html": [
       "<div>\n",
       "<style scoped>\n",
       "    .dataframe tbody tr th:only-of-type {\n",
       "        vertical-align: middle;\n",
       "    }\n",
       "\n",
       "    .dataframe tbody tr th {\n",
       "        vertical-align: top;\n",
       "    }\n",
       "\n",
       "    .dataframe thead th {\n",
       "        text-align: right;\n",
       "    }\n",
       "</style>\n",
       "<table border=\"1\" class=\"dataframe\">\n",
       "  <thead>\n",
       "    <tr style=\"text-align: right;\">\n",
       "      <th></th>\n",
       "      <th>total_images</th>\n",
       "      <th>last_price</th>\n",
       "      <th>total_area</th>\n",
       "      <th>first_day_exposition</th>\n",
       "      <th>rooms</th>\n",
       "      <th>ceiling_height</th>\n",
       "      <th>floors_total</th>\n",
       "      <th>living_area</th>\n",
       "      <th>floor</th>\n",
       "      <th>is_apartment</th>\n",
       "      <th>studio</th>\n",
       "      <th>open_plan</th>\n",
       "      <th>kitchen_area</th>\n",
       "      <th>balcony</th>\n",
       "      <th>locality_name</th>\n",
       "      <th>airports_nearest</th>\n",
       "      <th>cityCenters_nearest</th>\n",
       "      <th>parks_around3000</th>\n",
       "      <th>parks_nearest</th>\n",
       "      <th>ponds_around3000</th>\n",
       "      <th>ponds_nearest</th>\n",
       "      <th>days_exposition</th>\n",
       "    </tr>\n",
       "  </thead>\n",
       "  <tbody>\n",
       "    <tr>\n",
       "      <th>23689</th>\n",
       "      <td>13</td>\n",
       "      <td>3550000.0</td>\n",
       "      <td>35.30</td>\n",
       "      <td>2018-02-28T00:00:00</td>\n",
       "      <td>1</td>\n",
       "      <td>2.86</td>\n",
       "      <td>15.0</td>\n",
       "      <td>16.3</td>\n",
       "      <td>4</td>\n",
       "      <td>NaN</td>\n",
       "      <td>False</td>\n",
       "      <td>False</td>\n",
       "      <td>9.10</td>\n",
       "      <td>2.0</td>\n",
       "      <td>Санкт-Петербург</td>\n",
       "      <td>17284.0</td>\n",
       "      <td>16081.0</td>\n",
       "      <td>1.0</td>\n",
       "      <td>353.0</td>\n",
       "      <td>2.0</td>\n",
       "      <td>652.0</td>\n",
       "      <td>29.0</td>\n",
       "    </tr>\n",
       "    <tr>\n",
       "      <th>23690</th>\n",
       "      <td>3</td>\n",
       "      <td>5500000.0</td>\n",
       "      <td>52.00</td>\n",
       "      <td>2018-07-19T00:00:00</td>\n",
       "      <td>2</td>\n",
       "      <td>NaN</td>\n",
       "      <td>5.0</td>\n",
       "      <td>31.0</td>\n",
       "      <td>2</td>\n",
       "      <td>NaN</td>\n",
       "      <td>False</td>\n",
       "      <td>False</td>\n",
       "      <td>6.00</td>\n",
       "      <td>NaN</td>\n",
       "      <td>Санкт-Петербург</td>\n",
       "      <td>20151.0</td>\n",
       "      <td>6263.0</td>\n",
       "      <td>1.0</td>\n",
       "      <td>300.0</td>\n",
       "      <td>0.0</td>\n",
       "      <td>NaN</td>\n",
       "      <td>15.0</td>\n",
       "    </tr>\n",
       "    <tr>\n",
       "      <th>23691</th>\n",
       "      <td>11</td>\n",
       "      <td>9470000.0</td>\n",
       "      <td>72.90</td>\n",
       "      <td>2016-10-13T00:00:00</td>\n",
       "      <td>2</td>\n",
       "      <td>2.75</td>\n",
       "      <td>25.0</td>\n",
       "      <td>40.3</td>\n",
       "      <td>7</td>\n",
       "      <td>NaN</td>\n",
       "      <td>False</td>\n",
       "      <td>False</td>\n",
       "      <td>10.60</td>\n",
       "      <td>1.0</td>\n",
       "      <td>Санкт-Петербург</td>\n",
       "      <td>19424.0</td>\n",
       "      <td>4489.0</td>\n",
       "      <td>0.0</td>\n",
       "      <td>NaN</td>\n",
       "      <td>1.0</td>\n",
       "      <td>806.0</td>\n",
       "      <td>519.0</td>\n",
       "    </tr>\n",
       "    <tr>\n",
       "      <th>23692</th>\n",
       "      <td>2</td>\n",
       "      <td>1350000.0</td>\n",
       "      <td>30.00</td>\n",
       "      <td>2017-07-07T00:00:00</td>\n",
       "      <td>1</td>\n",
       "      <td>NaN</td>\n",
       "      <td>5.0</td>\n",
       "      <td>17.5</td>\n",
       "      <td>4</td>\n",
       "      <td>NaN</td>\n",
       "      <td>False</td>\n",
       "      <td>False</td>\n",
       "      <td>6.00</td>\n",
       "      <td>NaN</td>\n",
       "      <td>Тихвин</td>\n",
       "      <td>NaN</td>\n",
       "      <td>NaN</td>\n",
       "      <td>NaN</td>\n",
       "      <td>NaN</td>\n",
       "      <td>NaN</td>\n",
       "      <td>NaN</td>\n",
       "      <td>413.0</td>\n",
       "    </tr>\n",
       "    <tr>\n",
       "      <th>23693</th>\n",
       "      <td>9</td>\n",
       "      <td>4600000.0</td>\n",
       "      <td>62.40</td>\n",
       "      <td>2016-08-05T00:00:00</td>\n",
       "      <td>3</td>\n",
       "      <td>2.60</td>\n",
       "      <td>9.0</td>\n",
       "      <td>40.0</td>\n",
       "      <td>8</td>\n",
       "      <td>NaN</td>\n",
       "      <td>False</td>\n",
       "      <td>False</td>\n",
       "      <td>8.00</td>\n",
       "      <td>0.0</td>\n",
       "      <td>Петергоф</td>\n",
       "      <td>45602.0</td>\n",
       "      <td>34104.0</td>\n",
       "      <td>1.0</td>\n",
       "      <td>352.0</td>\n",
       "      <td>1.0</td>\n",
       "      <td>675.0</td>\n",
       "      <td>239.0</td>\n",
       "    </tr>\n",
       "    <tr>\n",
       "      <th>23694</th>\n",
       "      <td>9</td>\n",
       "      <td>9700000.0</td>\n",
       "      <td>133.81</td>\n",
       "      <td>2017-03-21T00:00:00</td>\n",
       "      <td>3</td>\n",
       "      <td>3.70</td>\n",
       "      <td>5.0</td>\n",
       "      <td>73.3</td>\n",
       "      <td>3</td>\n",
       "      <td>NaN</td>\n",
       "      <td>False</td>\n",
       "      <td>False</td>\n",
       "      <td>13.83</td>\n",
       "      <td>NaN</td>\n",
       "      <td>Санкт-Петербург</td>\n",
       "      <td>24665.0</td>\n",
       "      <td>4232.0</td>\n",
       "      <td>1.0</td>\n",
       "      <td>796.0</td>\n",
       "      <td>3.0</td>\n",
       "      <td>381.0</td>\n",
       "      <td>NaN</td>\n",
       "    </tr>\n",
       "    <tr>\n",
       "      <th>23695</th>\n",
       "      <td>14</td>\n",
       "      <td>3100000.0</td>\n",
       "      <td>59.00</td>\n",
       "      <td>2018-01-15T00:00:00</td>\n",
       "      <td>3</td>\n",
       "      <td>NaN</td>\n",
       "      <td>5.0</td>\n",
       "      <td>38.0</td>\n",
       "      <td>4</td>\n",
       "      <td>NaN</td>\n",
       "      <td>False</td>\n",
       "      <td>False</td>\n",
       "      <td>8.50</td>\n",
       "      <td>NaN</td>\n",
       "      <td>Тосно</td>\n",
       "      <td>NaN</td>\n",
       "      <td>NaN</td>\n",
       "      <td>NaN</td>\n",
       "      <td>NaN</td>\n",
       "      <td>NaN</td>\n",
       "      <td>NaN</td>\n",
       "      <td>45.0</td>\n",
       "    </tr>\n",
       "    <tr>\n",
       "      <th>23696</th>\n",
       "      <td>18</td>\n",
       "      <td>2500000.0</td>\n",
       "      <td>56.70</td>\n",
       "      <td>2018-02-11T00:00:00</td>\n",
       "      <td>2</td>\n",
       "      <td>NaN</td>\n",
       "      <td>3.0</td>\n",
       "      <td>29.7</td>\n",
       "      <td>1</td>\n",
       "      <td>NaN</td>\n",
       "      <td>False</td>\n",
       "      <td>False</td>\n",
       "      <td>NaN</td>\n",
       "      <td>NaN</td>\n",
       "      <td>село Рождествено</td>\n",
       "      <td>NaN</td>\n",
       "      <td>NaN</td>\n",
       "      <td>NaN</td>\n",
       "      <td>NaN</td>\n",
       "      <td>NaN</td>\n",
       "      <td>NaN</td>\n",
       "      <td>NaN</td>\n",
       "    </tr>\n",
       "    <tr>\n",
       "      <th>23697</th>\n",
       "      <td>13</td>\n",
       "      <td>11475000.0</td>\n",
       "      <td>76.75</td>\n",
       "      <td>2017-03-28T00:00:00</td>\n",
       "      <td>2</td>\n",
       "      <td>3.00</td>\n",
       "      <td>17.0</td>\n",
       "      <td>NaN</td>\n",
       "      <td>12</td>\n",
       "      <td>NaN</td>\n",
       "      <td>False</td>\n",
       "      <td>False</td>\n",
       "      <td>23.30</td>\n",
       "      <td>2.0</td>\n",
       "      <td>Санкт-Петербург</td>\n",
       "      <td>39140.0</td>\n",
       "      <td>10364.0</td>\n",
       "      <td>2.0</td>\n",
       "      <td>173.0</td>\n",
       "      <td>3.0</td>\n",
       "      <td>196.0</td>\n",
       "      <td>602.0</td>\n",
       "    </tr>\n",
       "    <tr>\n",
       "      <th>23698</th>\n",
       "      <td>4</td>\n",
       "      <td>1350000.0</td>\n",
       "      <td>32.30</td>\n",
       "      <td>2017-07-21T00:00:00</td>\n",
       "      <td>1</td>\n",
       "      <td>2.50</td>\n",
       "      <td>5.0</td>\n",
       "      <td>12.3</td>\n",
       "      <td>1</td>\n",
       "      <td>NaN</td>\n",
       "      <td>False</td>\n",
       "      <td>False</td>\n",
       "      <td>9.00</td>\n",
       "      <td>NaN</td>\n",
       "      <td>поселок Новый Учхоз</td>\n",
       "      <td>NaN</td>\n",
       "      <td>NaN</td>\n",
       "      <td>NaN</td>\n",
       "      <td>NaN</td>\n",
       "      <td>NaN</td>\n",
       "      <td>NaN</td>\n",
       "      <td>NaN</td>\n",
       "    </tr>\n",
       "  </tbody>\n",
       "</table>\n",
       "</div>"
      ],
      "text/plain": [
       "       total_images  last_price  total_area first_day_exposition  rooms  \\\n",
       "23689            13   3550000.0       35.30  2018-02-28T00:00:00      1   \n",
       "23690             3   5500000.0       52.00  2018-07-19T00:00:00      2   \n",
       "23691            11   9470000.0       72.90  2016-10-13T00:00:00      2   \n",
       "23692             2   1350000.0       30.00  2017-07-07T00:00:00      1   \n",
       "23693             9   4600000.0       62.40  2016-08-05T00:00:00      3   \n",
       "23694             9   9700000.0      133.81  2017-03-21T00:00:00      3   \n",
       "23695            14   3100000.0       59.00  2018-01-15T00:00:00      3   \n",
       "23696            18   2500000.0       56.70  2018-02-11T00:00:00      2   \n",
       "23697            13  11475000.0       76.75  2017-03-28T00:00:00      2   \n",
       "23698             4   1350000.0       32.30  2017-07-21T00:00:00      1   \n",
       "\n",
       "       ceiling_height  floors_total  living_area  floor is_apartment  studio  \\\n",
       "23689            2.86          15.0         16.3      4          NaN   False   \n",
       "23690             NaN           5.0         31.0      2          NaN   False   \n",
       "23691            2.75          25.0         40.3      7          NaN   False   \n",
       "23692             NaN           5.0         17.5      4          NaN   False   \n",
       "23693            2.60           9.0         40.0      8          NaN   False   \n",
       "23694            3.70           5.0         73.3      3          NaN   False   \n",
       "23695             NaN           5.0         38.0      4          NaN   False   \n",
       "23696             NaN           3.0         29.7      1          NaN   False   \n",
       "23697            3.00          17.0          NaN     12          NaN   False   \n",
       "23698            2.50           5.0         12.3      1          NaN   False   \n",
       "\n",
       "       open_plan  kitchen_area  balcony        locality_name  \\\n",
       "23689      False          9.10      2.0      Санкт-Петербург   \n",
       "23690      False          6.00      NaN      Санкт-Петербург   \n",
       "23691      False         10.60      1.0      Санкт-Петербург   \n",
       "23692      False          6.00      NaN               Тихвин   \n",
       "23693      False          8.00      0.0             Петергоф   \n",
       "23694      False         13.83      NaN      Санкт-Петербург   \n",
       "23695      False          8.50      NaN                Тосно   \n",
       "23696      False           NaN      NaN     село Рождествено   \n",
       "23697      False         23.30      2.0      Санкт-Петербург   \n",
       "23698      False          9.00      NaN  поселок Новый Учхоз   \n",
       "\n",
       "       airports_nearest  cityCenters_nearest  parks_around3000  parks_nearest  \\\n",
       "23689           17284.0              16081.0               1.0          353.0   \n",
       "23690           20151.0               6263.0               1.0          300.0   \n",
       "23691           19424.0               4489.0               0.0            NaN   \n",
       "23692               NaN                  NaN               NaN            NaN   \n",
       "23693           45602.0              34104.0               1.0          352.0   \n",
       "23694           24665.0               4232.0               1.0          796.0   \n",
       "23695               NaN                  NaN               NaN            NaN   \n",
       "23696               NaN                  NaN               NaN            NaN   \n",
       "23697           39140.0              10364.0               2.0          173.0   \n",
       "23698               NaN                  NaN               NaN            NaN   \n",
       "\n",
       "       ponds_around3000  ponds_nearest  days_exposition  \n",
       "23689               2.0          652.0             29.0  \n",
       "23690               0.0            NaN             15.0  \n",
       "23691               1.0          806.0            519.0  \n",
       "23692               NaN            NaN            413.0  \n",
       "23693               1.0          675.0            239.0  \n",
       "23694               3.0          381.0              NaN  \n",
       "23695               NaN            NaN             45.0  \n",
       "23696               NaN            NaN              NaN  \n",
       "23697               3.0          196.0            602.0  \n",
       "23698               NaN            NaN              NaN  "
      ]
     },
     "execution_count": 5,
     "metadata": {},
     "output_type": "execute_result"
    }
   ],
   "source": [
    "data.tail(10)"
   ]
  },
  {
   "cell_type": "code",
   "execution_count": 6,
   "metadata": {},
   "outputs": [
    {
     "data": {
      "text/plain": [
       "array([[<AxesSubplot:title={'center':'total_images'}>,\n",
       "        <AxesSubplot:title={'center':'last_price'}>,\n",
       "        <AxesSubplot:title={'center':'total_area'}>,\n",
       "        <AxesSubplot:title={'center':'rooms'}>],\n",
       "       [<AxesSubplot:title={'center':'ceiling_height'}>,\n",
       "        <AxesSubplot:title={'center':'floors_total'}>,\n",
       "        <AxesSubplot:title={'center':'living_area'}>,\n",
       "        <AxesSubplot:title={'center':'floor'}>],\n",
       "       [<AxesSubplot:title={'center':'kitchen_area'}>,\n",
       "        <AxesSubplot:title={'center':'balcony'}>,\n",
       "        <AxesSubplot:title={'center':'airports_nearest'}>,\n",
       "        <AxesSubplot:title={'center':'cityCenters_nearest'}>],\n",
       "       [<AxesSubplot:title={'center':'parks_around3000'}>,\n",
       "        <AxesSubplot:title={'center':'parks_nearest'}>,\n",
       "        <AxesSubplot:title={'center':'ponds_around3000'}>,\n",
       "        <AxesSubplot:title={'center':'ponds_nearest'}>],\n",
       "       [<AxesSubplot:title={'center':'days_exposition'}>, <AxesSubplot:>,\n",
       "        <AxesSubplot:>, <AxesSubplot:>]], dtype=object)"
      ]
     },
     "execution_count": 6,
     "metadata": {},
     "output_type": "execute_result"
    },
    {
     "data": {
      "image/png": "[encoded data removed]",
      "text/plain": [
       "<Figure size 1080x1440 with 20 Axes>"
      ]
     },
     "metadata": {
      "needs_background": "light"
     },
     "output_type": "display_data"
    }
   ],
   "source": [
    "data.hist(figsize=(15, 20))"
   ]
  },
  {
   "cell_type": "markdown",
   "metadata": {},
   "source": [
    "Вывод:\n",
    "- Неправдоподобных данных мало по сравнению с правдоподобными.\n",
    "- На первый взгляд много пропусков\n",
    "- Есть выбросы"
   ]
  },
  {
   "cell_type": "markdown",
   "metadata": {},
   "source": [
    "<div class=\"alert alert-warning\">\n",
    "    <h2> Комментарий ревьюера <a class=\"tocSkip\"> </h2>\n",
    "    \n",
    "<b>Небольшие замечания и рекомендации💡:</b> Хорошо, но что у нас с дубликатами?"
   ]
  },
  {
   "cell_type": "markdown",
   "metadata": {},
   "source": [
    "### Предобработка данных\n",
    "\n",
    "Приведем названия столбцов в порядок и поработаем с данным"
   ]
  },
  {
   "cell_type": "code",
   "execution_count": 7,
   "metadata": {},
   "outputs": [
    {
     "data": {
      "text/plain": [
       "['total_images',\n",
       " 'last_price',\n",
       " 'total_area',\n",
       " 'first_day_exposition',\n",
       " 'rooms',\n",
       " 'ceiling_height',\n",
       " 'floors_total',\n",
       " 'living_area',\n",
       " 'floor',\n",
       " 'is_apartment',\n",
       " 'studio',\n",
       " 'open_plan',\n",
       " 'kitchen_area',\n",
       " 'balcony',\n",
       " 'locality_name',\n",
       " 'airports_nearest',\n",
       " 'cityCenters_nearest',\n",
       " 'parks_around3000',\n",
       " 'parks_nearest',\n",
       " 'ponds_around3000',\n",
       " 'ponds_nearest',\n",
       " 'days_exposition']"
      ]
     },
     "execution_count": 7,
     "metadata": {},
     "output_type": "execute_result"
    }
   ],
   "source": [
    "data.columns.tolist()"
   ]
  },
  {
   "cell_type": "code",
   "execution_count": 8,
   "metadata": {},
   "outputs": [],
   "source": [
    "# Переименуем столбцы\n",
    "cols = ['total_images',\n",
    "        'last_price',\n",
    "        'total_area_m2',\n",
    "        'first_day_exposition',\n",
    "        'number_of_rooms',\n",
    "        'ceiling_height_m',\n",
    "        'total_floors_in_house',\n",
    "        'living_area_m2',\n",
    "        'floor',\n",
    "        'is_apartment',\n",
    "        'is_studio',\n",
    "        'is_open_plan',\n",
    "        'kitchen_area_m2',\n",
    "        'number_of_balconies',\n",
    "        'town_name',\n",
    "        'nearest_airport_distance_m',\n",
    "        'city_center_distance_m',\n",
    "        'parks_numbers_within_3km',\n",
    "        'nearest_park_distance_m',\n",
    "        'ponds_number_within_3km',\n",
    "        'nearest_pond_distance_m',\n",
    "        'days_exposition']\n",
    "data.set_axis(cols, axis='columns', inplace=True)"
   ]
  },
  {
   "cell_type": "markdown",
   "metadata": {},
   "source": [
    "<div class=\"alert alert-warning\">\n",
    "    <h2> Комментарий ревьюера <a class=\"tocSkip\"> </h2>\n",
    "    \n",
    "<b>Небольшие замечания и рекомендации💡:</b> Отлично! Но помнишь, что у нас также есть команда rename?"
   ]
  },
  {
   "cell_type": "code",
   "execution_count": 9,
   "metadata": {},
   "outputs": [
    {
     "data": {
      "text/plain": [
       "['total_images',\n",
       " 'last_price',\n",
       " 'total_area_m2',\n",
       " 'first_day_exposition',\n",
       " 'number_of_rooms',\n",
       " 'ceiling_height_m',\n",
       " 'total_floors_in_house',\n",
       " 'living_area_m2',\n",
       " 'floor',\n",
       " 'is_apartment',\n",
       " 'is_studio',\n",
       " 'is_open_plan',\n",
       " 'kitchen_area_m2',\n",
       " 'number_of_balconies',\n",
       " 'town_name',\n",
       " 'nearest_airport_distance_m',\n",
       " 'city_center_distance_m',\n",
       " 'parks_numbers_within_3km',\n",
       " 'nearest_park_distance_m',\n",
       " 'ponds_number_within_3km',\n",
       " 'nearest_pond_distance_m',\n",
       " 'days_exposition']"
      ]
     },
     "execution_count": 9,
     "metadata": {},
     "output_type": "execute_result"
    }
   ],
   "source": [
    "# Убедимся, что столбцы переименованы\n",
    "data.columns.tolist()"
   ]
  },
  {
   "cell_type": "code",
   "execution_count": 10,
   "metadata": {},
   "outputs": [
    {
     "data": {
      "text/plain": [
       "total_images                      0\n",
       "is_open_plan                      0\n",
       "floor                             0\n",
       "number_of_rooms                   0\n",
       "is_studio                         0\n",
       "total_area_m2                     0\n",
       "last_price                        0\n",
       "first_day_exposition              0\n",
       "town_name                        49\n",
       "total_floors_in_house            86\n",
       "living_area_m2                 1903\n",
       "kitchen_area_m2                2278\n",
       "days_exposition                3181\n",
       "ponds_number_within_3km        5518\n",
       "parks_numbers_within_3km       5518\n",
       "city_center_distance_m         5519\n",
       "nearest_airport_distance_m     5542\n",
       "ceiling_height_m               9195\n",
       "number_of_balconies           11519\n",
       "nearest_pond_distance_m       14589\n",
       "nearest_park_distance_m       15620\n",
       "is_apartment                  20924\n",
       "dtype: int64"
      ]
     },
     "execution_count": 10,
     "metadata": {},
     "output_type": "execute_result"
    }
   ],
   "source": [
    "# Посмотрим на пропуски\n",
    "data.isnull().sum().sort_values()"
   ]
  },
  {
   "cell_type": "code",
   "execution_count": 11,
   "metadata": {},
   "outputs": [
    {
     "data": {
      "text/plain": [
       "total_images                   0.000000\n",
       "is_open_plan                   0.000000\n",
       "floor                          0.000000\n",
       "number_of_rooms                0.000000\n",
       "is_studio                      0.000000\n",
       "total_area_m2                  0.000000\n",
       "last_price                     0.000000\n",
       "first_day_exposition           0.000000\n",
       "town_name                      0.206760\n",
       "total_floors_in_house          0.362885\n",
       "living_area_m2                 8.029875\n",
       "kitchen_area_m2                9.612220\n",
       "days_exposition               13.422507\n",
       "ponds_number_within_3km       23.283683\n",
       "parks_numbers_within_3km      23.283683\n",
       "city_center_distance_m        23.287902\n",
       "nearest_airport_distance_m    23.384953\n",
       "ceiling_height_m              38.799105\n",
       "number_of_balconies           48.605426\n",
       "nearest_pond_distance_m       61.559559\n",
       "nearest_park_distance_m       65.909954\n",
       "is_apartment                  88.290645\n",
       "dtype: float64"
      ]
     },
     "execution_count": 11,
     "metadata": {},
     "output_type": "execute_result"
    }
   ],
   "source": [
    "# Посмотрим теперь в процентах\n",
    "# Очень много пропусков\n",
    "# Но люди могут не знать метры до объектов\n",
    "# Или высота потолков не обязательна к заполнению\n",
    "data.isnull().sum().sort_values() / data.shape[0] * 100"
   ]
  },
  {
   "cell_type": "markdown",
   "metadata": {},
   "source": [
    "<div class=\"alert alert-success\">\n",
    "<h2> Комментарий ревьюера <a class=\"tocSkip\"> </h2>\n",
    "\n",
    "<b>Все супер!👍:</b> Супер, это важно"
   ]
  },
  {
   "cell_type": "code",
   "execution_count": 12,
   "metadata": {},
   "outputs": [],
   "source": [
    "# Изменим порядок столбцов для удобства\n",
    "data = data[[\n",
    " 'town_name',  \n",
    " 'total_area_m2',\n",
    " 'living_area_m2',\n",
    " 'kitchen_area_m2',\n",
    " 'ceiling_height_m',\n",
    " 'number_of_rooms',\n",
    " 'number_of_balconies',\n",
    " 'floor',\n",
    " 'total_floors_in_house',\n",
    " 'is_apartment',\n",
    " 'is_studio',\n",
    " 'is_open_plan',  \n",
    " 'total_images',\n",
    " 'last_price',\n",
    " 'first_day_exposition',\n",
    " 'days_exposition',\n",
    " 'city_center_distance_m',\n",
    " 'nearest_airport_distance_m',\n",
    " 'parks_numbers_within_3km',\n",
    " 'nearest_park_distance_m',\n",
    " 'ponds_number_within_3km',\n",
    " 'nearest_pond_distance_m'\n",
    "]]"
   ]
  },
  {
   "cell_type": "code",
   "execution_count": 13,
   "metadata": {},
   "outputs": [
    {
     "data": {
      "text/html": [
       "<div>\n",
       "<style scoped>\n",
       "    .dataframe tbody tr th:only-of-type {\n",
       "        vertical-align: middle;\n",
       "    }\n",
       "\n",
       "    .dataframe tbody tr th {\n",
       "        vertical-align: top;\n",
       "    }\n",
       "\n",
       "    .dataframe thead th {\n",
       "        text-align: right;\n",
       "    }\n",
       "</style>\n",
       "<table border=\"1\" class=\"dataframe\">\n",
       "  <thead>\n",
       "    <tr style=\"text-align: right;\">\n",
       "      <th></th>\n",
       "      <th>town_name</th>\n",
       "      <th>total_area_m2</th>\n",
       "      <th>living_area_m2</th>\n",
       "      <th>kitchen_area_m2</th>\n",
       "      <th>ceiling_height_m</th>\n",
       "      <th>number_of_rooms</th>\n",
       "      <th>number_of_balconies</th>\n",
       "      <th>floor</th>\n",
       "      <th>total_floors_in_house</th>\n",
       "      <th>is_apartment</th>\n",
       "      <th>is_studio</th>\n",
       "      <th>is_open_plan</th>\n",
       "      <th>total_images</th>\n",
       "      <th>last_price</th>\n",
       "      <th>first_day_exposition</th>\n",
       "      <th>days_exposition</th>\n",
       "      <th>city_center_distance_m</th>\n",
       "      <th>nearest_airport_distance_m</th>\n",
       "      <th>parks_numbers_within_3km</th>\n",
       "      <th>nearest_park_distance_m</th>\n",
       "      <th>ponds_number_within_3km</th>\n",
       "      <th>nearest_pond_distance_m</th>\n",
       "    </tr>\n",
       "  </thead>\n",
       "  <tbody>\n",
       "    <tr>\n",
       "      <th>0</th>\n",
       "      <td>Санкт-Петербург</td>\n",
       "      <td>108.0</td>\n",
       "      <td>51.0</td>\n",
       "      <td>25.0</td>\n",
       "      <td>2.70</td>\n",
       "      <td>3</td>\n",
       "      <td>NaN</td>\n",
       "      <td>8</td>\n",
       "      <td>16.0</td>\n",
       "      <td>NaN</td>\n",
       "      <td>False</td>\n",
       "      <td>False</td>\n",
       "      <td>20</td>\n",
       "      <td>13000000.0</td>\n",
       "      <td>2019-03-07T00:00:00</td>\n",
       "      <td>NaN</td>\n",
       "      <td>16028.0</td>\n",
       "      <td>18863.0</td>\n",
       "      <td>1.0</td>\n",
       "      <td>482.0</td>\n",
       "      <td>2.0</td>\n",
       "      <td>755.0</td>\n",
       "    </tr>\n",
       "    <tr>\n",
       "      <th>1</th>\n",
       "      <td>посёлок Шушары</td>\n",
       "      <td>40.4</td>\n",
       "      <td>18.6</td>\n",
       "      <td>11.0</td>\n",
       "      <td>NaN</td>\n",
       "      <td>1</td>\n",
       "      <td>2.0</td>\n",
       "      <td>1</td>\n",
       "      <td>11.0</td>\n",
       "      <td>NaN</td>\n",
       "      <td>False</td>\n",
       "      <td>False</td>\n",
       "      <td>7</td>\n",
       "      <td>3350000.0</td>\n",
       "      <td>2018-12-04T00:00:00</td>\n",
       "      <td>81.0</td>\n",
       "      <td>18603.0</td>\n",
       "      <td>12817.0</td>\n",
       "      <td>0.0</td>\n",
       "      <td>NaN</td>\n",
       "      <td>0.0</td>\n",
       "      <td>NaN</td>\n",
       "    </tr>\n",
       "    <tr>\n",
       "      <th>2</th>\n",
       "      <td>Санкт-Петербург</td>\n",
       "      <td>56.0</td>\n",
       "      <td>34.3</td>\n",
       "      <td>8.3</td>\n",
       "      <td>NaN</td>\n",
       "      <td>2</td>\n",
       "      <td>0.0</td>\n",
       "      <td>4</td>\n",
       "      <td>5.0</td>\n",
       "      <td>NaN</td>\n",
       "      <td>False</td>\n",
       "      <td>False</td>\n",
       "      <td>10</td>\n",
       "      <td>5196000.0</td>\n",
       "      <td>2015-08-20T00:00:00</td>\n",
       "      <td>558.0</td>\n",
       "      <td>13933.0</td>\n",
       "      <td>21741.0</td>\n",
       "      <td>1.0</td>\n",
       "      <td>90.0</td>\n",
       "      <td>2.0</td>\n",
       "      <td>574.0</td>\n",
       "    </tr>\n",
       "    <tr>\n",
       "      <th>3</th>\n",
       "      <td>Санкт-Петербург</td>\n",
       "      <td>159.0</td>\n",
       "      <td>NaN</td>\n",
       "      <td>NaN</td>\n",
       "      <td>NaN</td>\n",
       "      <td>3</td>\n",
       "      <td>0.0</td>\n",
       "      <td>9</td>\n",
       "      <td>14.0</td>\n",
       "      <td>NaN</td>\n",
       "      <td>False</td>\n",
       "      <td>False</td>\n",
       "      <td>0</td>\n",
       "      <td>64900000.0</td>\n",
       "      <td>2015-07-24T00:00:00</td>\n",
       "      <td>424.0</td>\n",
       "      <td>6800.0</td>\n",
       "      <td>28098.0</td>\n",
       "      <td>2.0</td>\n",
       "      <td>84.0</td>\n",
       "      <td>3.0</td>\n",
       "      <td>234.0</td>\n",
       "    </tr>\n",
       "    <tr>\n",
       "      <th>4</th>\n",
       "      <td>Санкт-Петербург</td>\n",
       "      <td>100.0</td>\n",
       "      <td>32.0</td>\n",
       "      <td>41.0</td>\n",
       "      <td>3.03</td>\n",
       "      <td>2</td>\n",
       "      <td>NaN</td>\n",
       "      <td>13</td>\n",
       "      <td>14.0</td>\n",
       "      <td>NaN</td>\n",
       "      <td>False</td>\n",
       "      <td>False</td>\n",
       "      <td>2</td>\n",
       "      <td>10000000.0</td>\n",
       "      <td>2018-06-19T00:00:00</td>\n",
       "      <td>121.0</td>\n",
       "      <td>8098.0</td>\n",
       "      <td>31856.0</td>\n",
       "      <td>2.0</td>\n",
       "      <td>112.0</td>\n",
       "      <td>1.0</td>\n",
       "      <td>48.0</td>\n",
       "    </tr>\n",
       "  </tbody>\n",
       "</table>\n",
       "</div>"
      ],
      "text/plain": [
       "         town_name  total_area_m2  living_area_m2  kitchen_area_m2  \\\n",
       "0  Санкт-Петербург          108.0            51.0             25.0   \n",
       "1   посёлок Шушары           40.4            18.6             11.0   \n",
       "2  Санкт-Петербург           56.0            34.3              8.3   \n",
       "3  Санкт-Петербург          159.0             NaN              NaN   \n",
       "4  Санкт-Петербург          100.0            32.0             41.0   \n",
       "\n",
       "   ceiling_height_m  number_of_rooms  number_of_balconies  floor  \\\n",
       "0              2.70                3                  NaN      8   \n",
       "1               NaN                1                  2.0      1   \n",
       "2               NaN                2                  0.0      4   \n",
       "3               NaN                3                  0.0      9   \n",
       "4              3.03                2                  NaN     13   \n",
       "\n",
       "   total_floors_in_house is_apartment  is_studio  is_open_plan  total_images  \\\n",
       "0                   16.0          NaN      False         False            20   \n",
       "1                   11.0          NaN      False         False             7   \n",
       "2                    5.0          NaN      False         False            10   \n",
       "3                   14.0          NaN      False         False             0   \n",
       "4                   14.0          NaN      False         False             2   \n",
       "\n",
       "   last_price first_day_exposition  days_exposition  city_center_distance_m  \\\n",
       "0  13000000.0  2019-03-07T00:00:00              NaN                 16028.0   \n",
       "1   3350000.0  2018-12-04T00:00:00             81.0                 18603.0   \n",
       "2   5196000.0  2015-08-20T00:00:00            558.0                 13933.0   \n",
       "3  64900000.0  2015-07-24T00:00:00            424.0                  6800.0   \n",
       "4  10000000.0  2018-06-19T00:00:00            121.0                  8098.0   \n",
       "\n",
       "   nearest_airport_distance_m  parks_numbers_within_3km  \\\n",
       "0                     18863.0                       1.0   \n",
       "1                     12817.0                       0.0   \n",
       "2                     21741.0                       1.0   \n",
       "3                     28098.0                       2.0   \n",
       "4                     31856.0                       2.0   \n",
       "\n",
       "   nearest_park_distance_m  ponds_number_within_3km  nearest_pond_distance_m  \n",
       "0                    482.0                      2.0                    755.0  \n",
       "1                      NaN                      0.0                      NaN  \n",
       "2                     90.0                      2.0                    574.0  \n",
       "3                     84.0                      3.0                    234.0  \n",
       "4                    112.0                      1.0                     48.0  "
      ]
     },
     "execution_count": 13,
     "metadata": {},
     "output_type": "execute_result"
    }
   ],
   "source": [
    "data.head()"
   ]
  },
  {
   "cell_type": "code",
   "execution_count": 14,
   "metadata": {},
   "outputs": [
    {
     "data": {
      "text/plain": [
       "365"
      ]
     },
     "execution_count": 14,
     "metadata": {},
     "output_type": "execute_result"
    }
   ],
   "source": [
    "# Посмотрим на город\n",
    "len(data['town_name'].unique())"
   ]
  },
  {
   "cell_type": "markdown",
   "metadata": {},
   "source": [
    "<div class=\"alert alert-warning\">\n",
    "    <h2> Комментарий ревьюера <a class=\"tocSkip\"> </h2>\n",
    "    \n",
    "<b>Небольшие замечания и рекомендации💡:</b> Все, что ты зарешетила прям в коде, можно смело писать комментами в markdowm здесь ;)"
   ]
  },
  {
   "cell_type": "code",
   "execution_count": 15,
   "metadata": {},
   "outputs": [
    {
     "data": {
      "text/plain": [
       "['Санкт-Петербург',\n",
       " 'посёлок Шушары',\n",
       " 'городской посёлок Янино-1',\n",
       " 'посёлок Парголово',\n",
       " 'посёлок Мурино',\n",
       " 'Ломоносов',\n",
       " 'Сертолово',\n",
       " 'Петергоф',\n",
       " 'Пушкин',\n",
       " 'деревня Кудрово',\n",
       " 'Коммунар',\n",
       " 'Колпино',\n",
       " 'поселок городского типа Красный Бор',\n",
       " 'Гатчина',\n",
       " 'поселок Мурино',\n",
       " 'деревня Фёдоровское',\n",
       " 'Выборг',\n",
       " 'Кронштадт',\n",
       " 'Кировск',\n",
       " 'деревня Новое Девяткино',\n",
       " 'посёлок Металлострой',\n",
       " 'посёлок городского типа Лебяжье',\n",
       " 'посёлок городского типа Сиверский',\n",
       " 'поселок Молодцово',\n",
       " 'поселок городского типа Кузьмоловский',\n",
       " 'садовое товарищество Новая Ропша',\n",
       " 'Павловск',\n",
       " 'деревня Пикколово',\n",
       " 'Всеволожск',\n",
       " 'Волхов',\n",
       " 'Кингисепп',\n",
       " 'Приозерск',\n",
       " 'Сестрорецк',\n",
       " 'деревня Куттузи',\n",
       " 'посёлок Аннино',\n",
       " 'поселок городского типа Ефимовский',\n",
       " 'посёлок Плодовое',\n",
       " 'деревня Заклинье',\n",
       " 'поселок Торковичи',\n",
       " 'поселок Первомайское',\n",
       " 'Красное Село',\n",
       " 'посёлок Понтонный',\n",
       " 'Сясьстрой',\n",
       " 'деревня Старая',\n",
       " 'деревня Лесколово',\n",
       " 'посёлок Новый Свет',\n",
       " 'Сланцы',\n",
       " 'село Путилово',\n",
       " 'Ивангород',\n",
       " 'Мурино',\n",
       " 'Шлиссельбург',\n",
       " 'Никольское',\n",
       " 'Зеленогорск',\n",
       " 'Сосновый Бор',\n",
       " 'поселок Новый Свет',\n",
       " 'деревня Оржицы',\n",
       " 'деревня Кальтино',\n",
       " 'Кудрово',\n",
       " 'поселок Романовка',\n",
       " 'посёлок Бугры',\n",
       " 'поселок Бугры',\n",
       " 'поселок городского типа Рощино',\n",
       " 'Кириши',\n",
       " 'Луга',\n",
       " 'Волосово',\n",
       " 'Отрадное',\n",
       " 'село Павлово',\n",
       " 'поселок Оредеж',\n",
       " 'село Копорье',\n",
       " 'посёлок городского типа Красный Бор',\n",
       " 'посёлок Молодёжное',\n",
       " 'Тихвин',\n",
       " 'посёлок Победа',\n",
       " 'деревня Нурма',\n",
       " 'поселок городского типа Синявино',\n",
       " 'Тосно',\n",
       " 'посёлок городского типа Кузьмоловский',\n",
       " 'посёлок Стрельна',\n",
       " 'Бокситогорск',\n",
       " 'посёлок Александровская',\n",
       " 'деревня Лопухинка',\n",
       " 'Пикалёво',\n",
       " 'поселок Терволово',\n",
       " 'поселок городского типа Советский',\n",
       " 'Подпорожье',\n",
       " 'посёлок Петровское',\n",
       " 'посёлок городского типа Токсово',\n",
       " 'поселок Сельцо',\n",
       " 'посёлок городского типа Вырица',\n",
       " 'деревня Кипень',\n",
       " 'деревня Келози',\n",
       " 'деревня Вартемяги',\n",
       " 'посёлок Тельмана',\n",
       " 'поселок Севастьяново',\n",
       " 'городской поселок Большая Ижора',\n",
       " nan,\n",
       " 'городской посёлок Павлово',\n",
       " 'деревня Агалатово',\n",
       " 'посёлок Новогорелово',\n",
       " 'городской посёлок Лесогорский',\n",
       " 'деревня Лаголово',\n",
       " 'поселок Цвелодубово',\n",
       " 'поселок городского типа Рахья',\n",
       " 'поселок городского типа Вырица',\n",
       " 'деревня Белогорка',\n",
       " 'поселок Заводской',\n",
       " 'городской посёлок Новоселье',\n",
       " 'деревня Большие Колпаны',\n",
       " 'деревня Горбунки',\n",
       " 'деревня Батово',\n",
       " 'деревня Заневка',\n",
       " 'деревня Иссад',\n",
       " 'Приморск',\n",
       " 'городской посёлок Фёдоровское',\n",
       " 'деревня Мистолово',\n",
       " 'Новая Ладога',\n",
       " 'поселок Зимитицы',\n",
       " 'поселок Барышево',\n",
       " 'деревня Разметелево',\n",
       " 'поселок городского типа имени Свердлова',\n",
       " 'деревня Пеники',\n",
       " 'поселок Рябово',\n",
       " 'деревня Пудомяги',\n",
       " 'поселок станции Корнево',\n",
       " 'деревня Низино',\n",
       " 'деревня Бегуницы',\n",
       " 'посёлок Поляны',\n",
       " 'городской посёлок Мга',\n",
       " 'поселок Елизаветино',\n",
       " 'посёлок городского типа Кузнечное',\n",
       " 'деревня Колтуши',\n",
       " 'поселок Запорожское',\n",
       " 'посёлок городского типа Рощино',\n",
       " 'деревня Гостилицы',\n",
       " 'деревня Малое Карлино',\n",
       " 'посёлок Мичуринское',\n",
       " 'посёлок городского типа имени Морозова',\n",
       " 'посёлок Песочный',\n",
       " 'посёлок Сосново',\n",
       " 'деревня Аро',\n",
       " 'поселок Ильичёво',\n",
       " 'посёлок городского типа Тайцы',\n",
       " 'деревня Малое Верево',\n",
       " 'деревня Извара',\n",
       " 'поселок станции Вещево',\n",
       " 'село Паша',\n",
       " 'деревня Калитино',\n",
       " 'посёлок городского типа Ульяновка',\n",
       " 'деревня Чудской Бор',\n",
       " 'поселок городского типа Дубровка',\n",
       " 'деревня Мины',\n",
       " 'поселок Войсковицы',\n",
       " 'посёлок городского типа имени Свердлова',\n",
       " 'деревня Коркино',\n",
       " 'посёлок Ропша',\n",
       " 'поселок городского типа Приладожский',\n",
       " 'посёлок Щеглово',\n",
       " 'посёлок Гаврилово',\n",
       " 'Лодейное Поле',\n",
       " 'деревня Рабитицы',\n",
       " 'поселок городского типа Никольский',\n",
       " 'деревня Кузьмолово',\n",
       " 'деревня Малые Колпаны',\n",
       " 'поселок Тельмана',\n",
       " 'посёлок Петро-Славянка',\n",
       " 'городской посёлок Назия',\n",
       " 'посёлок Репино',\n",
       " 'посёлок Ильичёво',\n",
       " 'поселок Углово',\n",
       " 'поселок Старая Малукса',\n",
       " 'садовое товарищество Рахья',\n",
       " 'поселок Аннино',\n",
       " 'поселок Победа',\n",
       " 'деревня Меньково',\n",
       " 'деревня Старые Бегуницы',\n",
       " 'посёлок Сапёрный',\n",
       " 'поселок Семрино',\n",
       " 'поселок Гаврилово',\n",
       " 'поселок Глажево',\n",
       " 'поселок Кобринское',\n",
       " 'деревня Гарболово',\n",
       " 'деревня Юкки',\n",
       " 'поселок станции Приветнинское',\n",
       " 'деревня Мануйлово',\n",
       " 'деревня Пчева',\n",
       " 'поселок Поляны',\n",
       " 'поселок Цвылёво',\n",
       " 'поселок Мельниково',\n",
       " 'посёлок Пудость',\n",
       " 'посёлок Усть-Луга',\n",
       " 'Светогорск',\n",
       " 'Любань',\n",
       " 'поселок Селезнёво',\n",
       " 'поселок городского типа Рябово',\n",
       " 'Каменногорск',\n",
       " 'деревня Кривко',\n",
       " 'поселок Глебычево',\n",
       " 'деревня Парицы',\n",
       " 'поселок Жилпосёлок',\n",
       " 'посёлок городского типа Мга',\n",
       " 'городской поселок Янино-1',\n",
       " 'посёлок Войскорово',\n",
       " 'село Никольское',\n",
       " 'посёлок Терволово',\n",
       " 'поселок Стеклянный',\n",
       " 'посёлок городского типа Важины',\n",
       " 'посёлок Мыза-Ивановка',\n",
       " 'село Русско-Высоцкое',\n",
       " 'поселок городского типа Лебяжье',\n",
       " 'поселок городского типа Форносово',\n",
       " 'село Старая Ладога',\n",
       " 'поселок Житково',\n",
       " 'городской посёлок Виллози',\n",
       " 'деревня Лампово',\n",
       " 'деревня Шпаньково',\n",
       " 'деревня Лаврики',\n",
       " 'посёлок Сумино',\n",
       " 'посёлок Возрождение',\n",
       " 'деревня Старосиверская',\n",
       " 'посёлок Кикерино',\n",
       " 'поселок Возрождение',\n",
       " 'деревня Старое Хинколово',\n",
       " 'посёлок Пригородный',\n",
       " 'посёлок Торфяное',\n",
       " 'городской посёлок Будогощь',\n",
       " 'поселок Суходолье',\n",
       " 'поселок Красная Долина',\n",
       " 'деревня Хапо-Ое',\n",
       " 'поселок городского типа Дружная Горка',\n",
       " 'поселок Лисий Нос',\n",
       " 'деревня Яльгелево',\n",
       " 'посёлок Стеклянный',\n",
       " 'село Рождествено',\n",
       " 'деревня Старополье',\n",
       " 'посёлок Левашово',\n",
       " 'деревня Сяськелево',\n",
       " 'деревня Камышовка',\n",
       " 'садоводческое некоммерческое товарищество Лесная Поляна',\n",
       " 'деревня Хязельки',\n",
       " 'поселок Жилгородок',\n",
       " 'посёлок городского типа Павлово',\n",
       " 'деревня Ялгино',\n",
       " 'поселок Новый Учхоз',\n",
       " 'городской посёлок Рощино',\n",
       " 'поселок Гончарово',\n",
       " 'поселок Почап',\n",
       " 'посёлок Сапёрное',\n",
       " 'посёлок Платформа 69-й километр',\n",
       " 'поселок Каложицы',\n",
       " 'деревня Фалилеево',\n",
       " 'деревня Пельгора',\n",
       " 'поселок городского типа Лесогорский',\n",
       " 'деревня Торошковичи',\n",
       " 'посёлок Белоостров',\n",
       " 'посёлок Алексеевка',\n",
       " 'поселок Серебрянский',\n",
       " 'поселок Лукаши',\n",
       " 'поселок Петровское',\n",
       " 'деревня Щеглово',\n",
       " 'поселок Мичуринское',\n",
       " 'деревня Тарасово',\n",
       " 'поселок Кингисеппский',\n",
       " 'посёлок при железнодорожной станции Вещево',\n",
       " 'поселок Ушаки',\n",
       " 'деревня Котлы',\n",
       " 'деревня Сижно',\n",
       " 'деревня Торосово',\n",
       " 'посёлок Форт Красная Горка',\n",
       " 'поселок городского типа Токсово',\n",
       " 'деревня Новолисино',\n",
       " 'посёлок станции Громово',\n",
       " 'деревня Глинка',\n",
       " 'посёлок Мельниково',\n",
       " 'поселок городского типа Назия',\n",
       " 'деревня Старая Пустошь',\n",
       " 'поселок Коммунары',\n",
       " 'поселок Починок',\n",
       " 'посёлок городского типа Вознесенье',\n",
       " 'деревня Разбегаево',\n",
       " 'посёлок городского типа Рябово',\n",
       " 'поселок Гладкое',\n",
       " 'посёлок при железнодорожной станции Приветнинское',\n",
       " 'поселок Тёсово-4',\n",
       " 'посёлок Жилгородок',\n",
       " 'деревня Бор',\n",
       " 'посёлок Коробицыно',\n",
       " 'деревня Большая Вруда',\n",
       " 'деревня Курковицы',\n",
       " 'посёлок Лисий Нос',\n",
       " 'городской посёлок Советский',\n",
       " 'посёлок Кобралово',\n",
       " 'деревня Суоранда',\n",
       " 'поселок Кобралово',\n",
       " 'поселок городского типа Кондратьево',\n",
       " 'коттеджный поселок Счастье',\n",
       " 'поселок Любань',\n",
       " 'деревня Реброво',\n",
       " 'деревня Зимитицы',\n",
       " 'деревня Тойворово',\n",
       " 'поселок Семиозерье',\n",
       " 'поселок Лесное',\n",
       " 'поселок Совхозный',\n",
       " 'поселок Усть-Луга',\n",
       " 'посёлок Ленинское',\n",
       " 'посёлок Суйда',\n",
       " 'посёлок городского типа Форносово',\n",
       " 'деревня Нижние Осельки',\n",
       " 'посёлок станции Свирь',\n",
       " 'поселок Перово',\n",
       " 'Высоцк',\n",
       " 'поселок Гарболово',\n",
       " 'село Шум',\n",
       " 'поселок Котельский',\n",
       " 'поселок станции Лужайка',\n",
       " 'деревня Большая Пустомержа',\n",
       " 'поселок Красносельское',\n",
       " 'деревня Вахнова Кара',\n",
       " 'деревня Пижма',\n",
       " 'коттеджный поселок Кивеннапа Север',\n",
       " 'поселок Коробицыно',\n",
       " 'поселок Ромашки',\n",
       " 'посёлок Перово',\n",
       " 'деревня Каськово',\n",
       " 'деревня Куровицы',\n",
       " 'посёлок Плоское',\n",
       " 'поселок Сумино',\n",
       " 'поселок городского типа Большая Ижора',\n",
       " 'поселок Кирпичное',\n",
       " 'деревня Ям-Тесово',\n",
       " 'деревня Раздолье',\n",
       " 'деревня Терпилицы',\n",
       " 'посёлок Шугозеро',\n",
       " 'деревня Ваганово',\n",
       " 'поселок Пушное',\n",
       " 'садовое товарищество Садко',\n",
       " 'посёлок Усть-Ижора',\n",
       " 'деревня Выскатка',\n",
       " 'городской посёлок Свирьстрой',\n",
       " 'поселок Громово',\n",
       " 'деревня Кисельня',\n",
       " 'посёлок Старая Малукса',\n",
       " 'деревня Трубников Бор',\n",
       " 'поселок Калитино',\n",
       " 'посёлок Высокоключевой',\n",
       " 'садовое товарищество Приладожский',\n",
       " 'посёлок Пансионат Зелёный Бор',\n",
       " 'деревня Ненимяки',\n",
       " 'поселок Пансионат Зелёный Бор',\n",
       " 'деревня Снегирёвка',\n",
       " 'деревня Рапполово',\n",
       " 'деревня Пустынка',\n",
       " 'поселок Рабитицы',\n",
       " 'деревня Большой Сабск',\n",
       " 'деревня Русско',\n",
       " 'деревня Лупполово',\n",
       " 'деревня Большое Рейзино',\n",
       " 'деревня Малая Романовка',\n",
       " 'поселок Дружноселье',\n",
       " 'поселок Пчевжа',\n",
       " 'поселок Володарское',\n",
       " 'деревня Нижняя',\n",
       " 'коттеджный посёлок Лесное',\n",
       " 'деревня Тихковицы',\n",
       " 'деревня Борисова Грива',\n",
       " 'посёлок Дзержинского']"
      ]
     },
     "execution_count": 15,
     "metadata": {},
     "output_type": "execute_result"
    }
   ],
   "source": [
    "# Точно есть проблема с буквой Ё\n",
    "# Может есть ПГТ и деревня с одним названием (но может, и дубли)\n",
    "# Уточнить возможности нет - ничего с данными строками не делаем\n",
    "data['town_name'].unique().tolist()"
   ]
  },
  {
   "cell_type": "code",
   "execution_count": 16,
   "metadata": {},
   "outputs": [],
   "source": [
    "# Заменим ё на е\n",
    "data['town_name'] = data['town_name'].str.replace('ё', 'е', regex=True)"
   ]
  },
  {
   "cell_type": "code",
   "execution_count": 17,
   "metadata": {},
   "outputs": [],
   "source": [
    "# Переведём всё в нижний регистр\n",
    "data['town_name'] = data['town_name'].str.lower()"
   ]
  },
  {
   "cell_type": "code",
   "execution_count": 18,
   "metadata": {},
   "outputs": [
    {
     "data": {
      "text/plain": [
       "331"
      ]
     },
     "execution_count": 18,
     "metadata": {},
     "output_type": "execute_result"
    }
   ],
   "source": [
    "# Убрали 34 дубля\n",
    "len(data['town_name'].unique())"
   ]
  },
  {
   "cell_type": "markdown",
   "metadata": {},
   "source": [
    "<div class=\"alert alert-success\">\n",
    "<h2> Комментарий ревьюера <a class=\"tocSkip\"> </h2>\n",
    "\n",
    "<b>Все супер!👍:</b> Супер! ИЗбавились от нескольких десятков неявных дублей"
   ]
  },
  {
   "cell_type": "code",
   "execution_count": 19,
   "metadata": {},
   "outputs": [
    {
     "data": {
      "text/plain": [
       "49"
      ]
     },
     "execution_count": 19,
     "metadata": {},
     "output_type": "execute_result"
    }
   ],
   "source": [
    "data['town_name'].isna().sum()"
   ]
  },
  {
   "cell_type": "code",
   "execution_count": 20,
   "metadata": {},
   "outputs": [],
   "source": [
    "# Удалим строки без города, они будут мешать в анализе\n",
    "# Объявления без города - считаем невалидными с точки зрения пользователя\n",
    "data = data.dropna(subset=['town_name'])"
   ]
  },
  {
   "cell_type": "markdown",
   "metadata": {},
   "source": [
    "<div class=\"alert alert-warning\">\n",
    "    <h2> Комментарий ревьюера <a class=\"tocSkip\"> </h2>\n",
    "    \n",
    "<b>Небольшие замечания и рекомендации💡:</b> Можно, главное не забыть, что можем удалять не более 10% от исходного датафрейма ;)"
   ]
  },
  {
   "cell_type": "code",
   "execution_count": 21,
   "metadata": {},
   "outputs": [
    {
     "data": {
      "text/plain": [
       "0"
      ]
     },
     "execution_count": 21,
     "metadata": {},
     "output_type": "execute_result"
    }
   ],
   "source": [
    "# Проверим результат\n",
    "data['town_name'].isna().sum()"
   ]
  },
  {
   "cell_type": "code",
   "execution_count": 22,
   "metadata": {},
   "outputs": [
    {
     "name": "stdout",
     "output_type": "stream",
     "text": [
      "<class 'pandas.core.frame.DataFrame'>\n",
      "Int64Index: 23650 entries, 0 to 23698\n",
      "Data columns (total 22 columns):\n",
      " #   Column                      Non-Null Count  Dtype  \n",
      "---  ------                      --------------  -----  \n",
      " 0   town_name                   23650 non-null  object \n",
      " 1   total_area_m2               23650 non-null  float64\n",
      " 2   living_area_m2              21752 non-null  float64\n",
      " 3   kitchen_area_m2             21381 non-null  float64\n",
      " 4   ceiling_height_m            14490 non-null  float64\n",
      " 5   number_of_rooms             23650 non-null  int64  \n",
      " 6   number_of_balconies         12137 non-null  float64\n",
      " 7   floor                       23650 non-null  int64  \n",
      " 8   total_floors_in_house       23565 non-null  float64\n",
      " 9   is_apartment                2760 non-null   object \n",
      " 10  is_studio                   23650 non-null  bool   \n",
      " 11  is_open_plan                23650 non-null  bool   \n",
      " 12  total_images                23650 non-null  int64  \n",
      " 13  last_price                  23650 non-null  float64\n",
      " 14  first_day_exposition        23650 non-null  object \n",
      " 15  days_exposition             20470 non-null  float64\n",
      " 16  city_center_distance_m      18139 non-null  float64\n",
      " 17  nearest_airport_distance_m  18116 non-null  float64\n",
      " 18  parks_numbers_within_3km    18140 non-null  float64\n",
      " 19  nearest_park_distance_m     8064 non-null   float64\n",
      " 20  ponds_number_within_3km     18140 non-null  float64\n",
      " 21  nearest_pond_distance_m     9085 non-null   float64\n",
      "dtypes: bool(2), float64(14), int64(3), object(3)\n",
      "memory usage: 3.8+ MB\n"
     ]
    }
   ],
   "source": [
    "data.info()"
   ]
  },
  {
   "cell_type": "code",
   "execution_count": 23,
   "metadata": {},
   "outputs": [
    {
     "data": {
      "text/plain": [
       "array([nan, False, True], dtype=object)"
      ]
     },
     "execution_count": 23,
     "metadata": {},
     "output_type": "execute_result"
    }
   ],
   "source": [
    "# Разберемся с маркерами студии, апартаментов и открытой планировки\n",
    "data['is_apartment'].unique()"
   ]
  },
  {
   "cell_type": "code",
   "execution_count": 24,
   "metadata": {},
   "outputs": [],
   "source": [
    "# Nan заменим на False, так как это объекты жилового фонда\n",
    "# В целом немного данных, возможно, связано с необязательностью поля\n",
    "# Или люди не знают, что такое апартаменты\n",
    "data['is_apartment'] = data['is_apartment'].fillna(0)"
   ]
  },
  {
   "cell_type": "markdown",
   "metadata": {},
   "source": [
    "<div class=\"alert alert-success\">\n",
    "<h2> Комментарий ревьюера <a class=\"tocSkip\"> </h2>\n",
    "\n",
    "<b>Все супер!👍:</b> Верно)"
   ]
  },
  {
   "cell_type": "code",
   "execution_count": 25,
   "metadata": {},
   "outputs": [
    {
     "name": "stdout",
     "output_type": "stream",
     "text": [
      "      is_apartment  is_studio  is_open_plan\n",
      "0                0      False         False\n",
      "1                0      False         False\n",
      "2                0      False         False\n",
      "3                0      False         False\n",
      "4                0      False         False\n",
      "...            ...        ...           ...\n",
      "23694            0      False         False\n",
      "23695            0      False         False\n",
      "23696            0      False         False\n",
      "23697            0      False         False\n",
      "23698            0      False         False\n",
      "\n",
      "[23650 rows x 3 columns]\n"
     ]
    }
   ],
   "source": [
    "print(data[['is_apartment', 'is_studio', 'is_open_plan']])"
   ]
  },
  {
   "cell_type": "code",
   "execution_count": 26,
   "metadata": {},
   "outputs": [],
   "source": [
    "# Изменим тип данных на bool для соответствия остальным признакам\n",
    "# (исходные данные непоказательны - всего 50 значений заполнено)\n",
    "data['is_apartment'] = data['is_apartment'].astype('bool')"
   ]
  },
  {
   "cell_type": "markdown",
   "metadata": {},
   "source": [
    "<div class=\"alert alert-success\">\n",
    "<h2> Комментарий ревьюера <a class=\"tocSkip\"> </h2>\n",
    "\n",
    "<b>Все супер!👍:</b> Кстати, здесь можно не в bool переводить, а прям в int, тогда ты будешь работать с 0 и 1, а не с true or false"
   ]
  },
  {
   "cell_type": "code",
   "execution_count": 27,
   "metadata": {},
   "outputs": [
    {
     "name": "stdout",
     "output_type": "stream",
     "text": [
      "       is_apartment  is_studio  is_open_plan\n",
      "0             False      False         False\n",
      "1             False      False         False\n",
      "2             False      False         False\n",
      "3             False      False         False\n",
      "4             False      False         False\n",
      "...             ...        ...           ...\n",
      "23694         False      False         False\n",
      "23695         False      False         False\n",
      "23696         False      False         False\n",
      "23697         False      False         False\n",
      "23698         False      False         False\n",
      "\n",
      "[23650 rows x 3 columns]\n"
     ]
    }
   ],
   "source": [
    "print(data[['is_apartment', 'is_studio', 'is_open_plan']])"
   ]
  },
  {
   "cell_type": "code",
   "execution_count": 28,
   "metadata": {},
   "outputs": [
    {
     "name": "stdout",
     "output_type": "stream",
     "text": [
      "<class 'pandas.core.frame.DataFrame'>\n",
      "Int64Index: 23650 entries, 0 to 23698\n",
      "Data columns (total 22 columns):\n",
      " #   Column                      Non-Null Count  Dtype  \n",
      "---  ------                      --------------  -----  \n",
      " 0   town_name                   23650 non-null  object \n",
      " 1   total_area_m2               23650 non-null  float64\n",
      " 2   living_area_m2              21752 non-null  float64\n",
      " 3   kitchen_area_m2             21381 non-null  float64\n",
      " 4   ceiling_height_m            14490 non-null  float64\n",
      " 5   number_of_rooms             23650 non-null  int64  \n",
      " 6   number_of_balconies         12137 non-null  float64\n",
      " 7   floor                       23650 non-null  int64  \n",
      " 8   total_floors_in_house       23565 non-null  float64\n",
      " 9   is_apartment                23650 non-null  bool   \n",
      " 10  is_studio                   23650 non-null  bool   \n",
      " 11  is_open_plan                23650 non-null  bool   \n",
      " 12  total_images                23650 non-null  int64  \n",
      " 13  last_price                  23650 non-null  float64\n",
      " 14  first_day_exposition        23650 non-null  object \n",
      " 15  days_exposition             20470 non-null  float64\n",
      " 16  city_center_distance_m      18139 non-null  float64\n",
      " 17  nearest_airport_distance_m  18116 non-null  float64\n",
      " 18  parks_numbers_within_3km    18140 non-null  float64\n",
      " 19  nearest_park_distance_m     8064 non-null   float64\n",
      " 20  ponds_number_within_3km     18140 non-null  float64\n",
      " 21  nearest_pond_distance_m     9085 non-null   float64\n",
      "dtypes: bool(3), float64(14), int64(3), object(2)\n",
      "memory usage: 3.7+ MB\n"
     ]
    }
   ],
   "source": [
    "data.info()"
   ]
  },
  {
   "cell_type": "code",
   "execution_count": 29,
   "metadata": {},
   "outputs": [
    {
     "data": {
      "text/plain": [
       "array([nan,  2.,  0.,  1.,  5.,  4.,  3.])"
      ]
     },
     "execution_count": 29,
     "metadata": {},
     "output_type": "execute_result"
    }
   ],
   "source": [
    "# Посмотрим, что там с балконами\n",
    "data['number_of_balconies'].unique()"
   ]
  },
  {
   "cell_type": "code",
   "execution_count": 30,
   "metadata": {},
   "outputs": [],
   "source": [
    "# Заменим пропуски на 0 и изменит тип данных на int\n",
    "data['number_of_balconies'] = data['number_of_balconies'].fillna(0).astype('int')"
   ]
  },
  {
   "cell_type": "markdown",
   "metadata": {},
   "source": [
    "<div class=\"alert alert-warning\">\n",
    "    <h2> Комментарий ревьюера <a class=\"tocSkip\"> </h2>\n",
    "    \n",
    "<b>Небольшие замечания и рекомендации💡:</b> Не хватает комментария: почему можно заполнять именно так?"
   ]
  },
  {
   "cell_type": "code",
   "execution_count": 31,
   "metadata": {},
   "outputs": [
    {
     "name": "stdout",
     "output_type": "stream",
     "text": [
      "<class 'pandas.core.frame.DataFrame'>\n",
      "Int64Index: 23650 entries, 0 to 23698\n",
      "Data columns (total 22 columns):\n",
      " #   Column                      Non-Null Count  Dtype  \n",
      "---  ------                      --------------  -----  \n",
      " 0   town_name                   23650 non-null  object \n",
      " 1   total_area_m2               23650 non-null  float64\n",
      " 2   living_area_m2              21752 non-null  float64\n",
      " 3   kitchen_area_m2             21381 non-null  float64\n",
      " 4   ceiling_height_m            14490 non-null  float64\n",
      " 5   number_of_rooms             23650 non-null  int64  \n",
      " 6   number_of_balconies         23650 non-null  int64  \n",
      " 7   floor                       23650 non-null  int64  \n",
      " 8   total_floors_in_house       23565 non-null  float64\n",
      " 9   is_apartment                23650 non-null  bool   \n",
      " 10  is_studio                   23650 non-null  bool   \n",
      " 11  is_open_plan                23650 non-null  bool   \n",
      " 12  total_images                23650 non-null  int64  \n",
      " 13  last_price                  23650 non-null  float64\n",
      " 14  first_day_exposition        23650 non-null  object \n",
      " 15  days_exposition             20470 non-null  float64\n",
      " 16  city_center_distance_m      18139 non-null  float64\n",
      " 17  nearest_airport_distance_m  18116 non-null  float64\n",
      " 18  parks_numbers_within_3km    18140 non-null  float64\n",
      " 19  nearest_park_distance_m     8064 non-null   float64\n",
      " 20  ponds_number_within_3km     18140 non-null  float64\n",
      " 21  nearest_pond_distance_m     9085 non-null   float64\n",
      "dtypes: bool(3), float64(13), int64(4), object(2)\n",
      "memory usage: 3.7+ MB\n"
     ]
    }
   ],
   "source": [
    "data.info()"
   ]
  },
  {
   "cell_type": "code",
   "execution_count": 32,
   "metadata": {},
   "outputs": [
    {
     "data": {
      "text/plain": [
       "town_name                         0\n",
       "total_area_m2                     0\n",
       "living_area_m2                 1898\n",
       "kitchen_area_m2                2269\n",
       "ceiling_height_m               9160\n",
       "number_of_rooms                   0\n",
       "number_of_balconies               0\n",
       "floor                             0\n",
       "total_floors_in_house            85\n",
       "is_apartment                      0\n",
       "is_studio                         0\n",
       "is_open_plan                      0\n",
       "total_images                      0\n",
       "last_price                        0\n",
       "first_day_exposition              0\n",
       "days_exposition                3180\n",
       "city_center_distance_m         5511\n",
       "nearest_airport_distance_m     5534\n",
       "parks_numbers_within_3km       5510\n",
       "nearest_park_distance_m       15586\n",
       "ponds_number_within_3km        5510\n",
       "nearest_pond_distance_m       14565\n",
       "dtype: int64"
      ]
     },
     "execution_count": 32,
     "metadata": {},
     "output_type": "execute_result"
    }
   ],
   "source": [
    "# Посмотрим на итоговое количество пропусков\n",
    "data.isna().sum()"
   ]
  },
  {
   "cell_type": "markdown",
   "metadata": {},
   "source": [
    "Из того, что я вижу по пропускам:\n",
    "\n",
    "- living_area_m2, kitchen_area_m2 - не помешает нам сделать выводы, поскольку пропусков довольно мало и общие тенденции по выборке будут понятны\n",
    "- ceiling_height_m - довольно важная информация, но она отсуствует. Предполагаю, что некоторые не считают это обязательным для заполнения пунктом и поэтому не предприняли никаких действий для того, чтоб узнать высоту своих потолков, иначе бы данные присутствовали. Заполним их средним значением в 2.7 м - относительный \"стандарт\"\n",
    "- total_floors_in_house - не повлияет на выводы, оставляем, как есть\n",
    "- days_exposition - довольно важный параметр. Информация может отсутствовать, например, по причине того, что неизвестно когда было закрыто объявление о продаже (отсюда и продажи квартиры в несколько лет). Здесь \"среднее\"/\"медиана\" не подойдут, поэтому оставляем этот столбец, как есть\n",
    "- city_center_distance_m, nearest_airport_distance_m -  данные рассчитывала система (скорее всего по координатам в каком - либо радиусе). Если в пределах этого радиуса ни аэропорта, ни парков не было, то и указать в этом столбце системе было нечего - отталкиваясь от этого, пропуски предлагаю не трогать\n",
    "- parks_numbers_within_3km, nearest_park_distance_m, ponds_number_within_3km, nearest_pond_distance_m - вполне возможно, что данные просто не были выгружены системой. Учитывая, что это далеко не самые важные параметры, и отсутствие возможности проставить какое-либо адекватные расстояние, которое не испортит статистику по уже присутствующим данным по этим столбцам, предлагаю здесь не трогать пропуски (есть достаточное количество строк, где данные присутствуют, и по ним можно сделать срез)\n",
    "\n",
    "Вывод: данные достаточно \"грязные\" - тем не менее, общие тенденции можно будет проследить"
   ]
  },
  {
   "cell_type": "markdown",
   "metadata": {},
   "source": [
    "<div class=\"alert alert-warning\">\n",
    "    <h2> Комментарий ревьюера <a class=\"tocSkip\"> </h2>\n",
    "    \n",
    "<b>Небольшие замечания и рекомендации💡:</b> ПОзволю себе немного подскзаать: living_area_m2, kitchen_area_m2 можно заполнить через поиск отношения площади кухни/жилой площади и аппроксимации на пропущенные значения. По ceiling_height_m требуется пояснение - как ты вычислила это среднее значение? Нашла в интернете? Или вычислила здесь? days_exposition можно дополнительно исследовать: ниже ты добавила столбец с годом публикации объявления, так вот посмотри как пропуски распредлились по годам, возможно там будет какой-либо овтет"
   ]
  },
  {
   "cell_type": "markdown",
   "metadata": {},
   "source": [
    "<div class=\"alert alert-success\">\n",
    "<h2> Комментарий ревьюера <a class=\"tocSkip\"> </h2>\n",
    "\n",
    "<b>Все супер!👍:</b> В остальном все верно)"
   ]
  },
  {
   "cell_type": "code",
   "execution_count": 33,
   "metadata": {},
   "outputs": [
    {
     "data": {
      "text/plain": [
       "town_name                         0\n",
       "total_area_m2                     0\n",
       "living_area_m2                 1898\n",
       "kitchen_area_m2                2269\n",
       "ceiling_height_m                  0\n",
       "number_of_rooms                   0\n",
       "number_of_balconies               0\n",
       "floor                             0\n",
       "total_floors_in_house            85\n",
       "is_apartment                      0\n",
       "is_studio                         0\n",
       "is_open_plan                      0\n",
       "total_images                      0\n",
       "last_price                        0\n",
       "first_day_exposition              0\n",
       "days_exposition                3180\n",
       "city_center_distance_m         5511\n",
       "nearest_airport_distance_m     5534\n",
       "parks_numbers_within_3km       5510\n",
       "nearest_park_distance_m       15586\n",
       "ponds_number_within_3km        5510\n",
       "nearest_pond_distance_m       14565\n",
       "dtype: int64"
      ]
     },
     "execution_count": 33,
     "metadata": {},
     "output_type": "execute_result"
    }
   ],
   "source": [
    "# Заполним \"относительным стандартом\"\n",
    "data['ceiling_height_m'] = data['ceiling_height_m'].fillna(2.7)\n",
    "data.isna().sum()"
   ]
  },
  {
   "cell_type": "markdown",
   "metadata": {},
   "source": [
    "### Посчитайте и добавьте в таблицу новые столбцы"
   ]
  },
  {
   "cell_type": "code",
   "execution_count": 34,
   "metadata": {},
   "outputs": [],
   "source": [
    "# Добавим цену квадратного метра\n",
    "data['price_per_meter'] = data['last_price'] / data['total_area_m2']\n",
    "data['price_per_meter'] = data['price_per_meter'].round(decimals=2)"
   ]
  },
  {
   "cell_type": "code",
   "execution_count": 35,
   "metadata": {},
   "outputs": [
    {
     "data": {
      "text/html": [
       "<div>\n",
       "<style scoped>\n",
       "    .dataframe tbody tr th:only-of-type {\n",
       "        vertical-align: middle;\n",
       "    }\n",
       "\n",
       "    .dataframe tbody tr th {\n",
       "        vertical-align: top;\n",
       "    }\n",
       "\n",
       "    .dataframe thead th {\n",
       "        text-align: right;\n",
       "    }\n",
       "</style>\n",
       "<table border=\"1\" class=\"dataframe\">\n",
       "  <thead>\n",
       "    <tr style=\"text-align: right;\">\n",
       "      <th></th>\n",
       "      <th>town_name</th>\n",
       "      <th>total_area_m2</th>\n",
       "      <th>living_area_m2</th>\n",
       "      <th>kitchen_area_m2</th>\n",
       "      <th>ceiling_height_m</th>\n",
       "      <th>number_of_rooms</th>\n",
       "      <th>number_of_balconies</th>\n",
       "      <th>floor</th>\n",
       "      <th>total_floors_in_house</th>\n",
       "      <th>is_apartment</th>\n",
       "      <th>is_studio</th>\n",
       "      <th>is_open_plan</th>\n",
       "      <th>total_images</th>\n",
       "      <th>last_price</th>\n",
       "      <th>first_day_exposition</th>\n",
       "      <th>days_exposition</th>\n",
       "      <th>city_center_distance_m</th>\n",
       "      <th>nearest_airport_distance_m</th>\n",
       "      <th>parks_numbers_within_3km</th>\n",
       "      <th>nearest_park_distance_m</th>\n",
       "      <th>ponds_number_within_3km</th>\n",
       "      <th>nearest_pond_distance_m</th>\n",
       "      <th>price_per_meter</th>\n",
       "    </tr>\n",
       "  </thead>\n",
       "  <tbody>\n",
       "    <tr>\n",
       "      <th>0</th>\n",
       "      <td>санкт-петербург</td>\n",
       "      <td>108.0</td>\n",
       "      <td>51.0</td>\n",
       "      <td>25.0</td>\n",
       "      <td>2.70</td>\n",
       "      <td>3</td>\n",
       "      <td>0</td>\n",
       "      <td>8</td>\n",
       "      <td>16.0</td>\n",
       "      <td>False</td>\n",
       "      <td>False</td>\n",
       "      <td>False</td>\n",
       "      <td>20</td>\n",
       "      <td>13000000.0</td>\n",
       "      <td>2019-03-07T00:00:00</td>\n",
       "      <td>NaN</td>\n",
       "      <td>16028.0</td>\n",
       "      <td>18863.0</td>\n",
       "      <td>1.0</td>\n",
       "      <td>482.0</td>\n",
       "      <td>2.0</td>\n",
       "      <td>755.0</td>\n",
       "      <td>120370.37</td>\n",
       "    </tr>\n",
       "    <tr>\n",
       "      <th>1</th>\n",
       "      <td>поселок шушары</td>\n",
       "      <td>40.4</td>\n",
       "      <td>18.6</td>\n",
       "      <td>11.0</td>\n",
       "      <td>2.70</td>\n",
       "      <td>1</td>\n",
       "      <td>2</td>\n",
       "      <td>1</td>\n",
       "      <td>11.0</td>\n",
       "      <td>False</td>\n",
       "      <td>False</td>\n",
       "      <td>False</td>\n",
       "      <td>7</td>\n",
       "      <td>3350000.0</td>\n",
       "      <td>2018-12-04T00:00:00</td>\n",
       "      <td>81.0</td>\n",
       "      <td>18603.0</td>\n",
       "      <td>12817.0</td>\n",
       "      <td>0.0</td>\n",
       "      <td>NaN</td>\n",
       "      <td>0.0</td>\n",
       "      <td>NaN</td>\n",
       "      <td>82920.79</td>\n",
       "    </tr>\n",
       "    <tr>\n",
       "      <th>2</th>\n",
       "      <td>санкт-петербург</td>\n",
       "      <td>56.0</td>\n",
       "      <td>34.3</td>\n",
       "      <td>8.3</td>\n",
       "      <td>2.70</td>\n",
       "      <td>2</td>\n",
       "      <td>0</td>\n",
       "      <td>4</td>\n",
       "      <td>5.0</td>\n",
       "      <td>False</td>\n",
       "      <td>False</td>\n",
       "      <td>False</td>\n",
       "      <td>10</td>\n",
       "      <td>5196000.0</td>\n",
       "      <td>2015-08-20T00:00:00</td>\n",
       "      <td>558.0</td>\n",
       "      <td>13933.0</td>\n",
       "      <td>21741.0</td>\n",
       "      <td>1.0</td>\n",
       "      <td>90.0</td>\n",
       "      <td>2.0</td>\n",
       "      <td>574.0</td>\n",
       "      <td>92785.71</td>\n",
       "    </tr>\n",
       "    <tr>\n",
       "      <th>3</th>\n",
       "      <td>санкт-петербург</td>\n",
       "      <td>159.0</td>\n",
       "      <td>NaN</td>\n",
       "      <td>NaN</td>\n",
       "      <td>2.70</td>\n",
       "      <td>3</td>\n",
       "      <td>0</td>\n",
       "      <td>9</td>\n",
       "      <td>14.0</td>\n",
       "      <td>False</td>\n",
       "      <td>False</td>\n",
       "      <td>False</td>\n",
       "      <td>0</td>\n",
       "      <td>64900000.0</td>\n",
       "      <td>2015-07-24T00:00:00</td>\n",
       "      <td>424.0</td>\n",
       "      <td>6800.0</td>\n",
       "      <td>28098.0</td>\n",
       "      <td>2.0</td>\n",
       "      <td>84.0</td>\n",
       "      <td>3.0</td>\n",
       "      <td>234.0</td>\n",
       "      <td>408176.10</td>\n",
       "    </tr>\n",
       "    <tr>\n",
       "      <th>4</th>\n",
       "      <td>санкт-петербург</td>\n",
       "      <td>100.0</td>\n",
       "      <td>32.0</td>\n",
       "      <td>41.0</td>\n",
       "      <td>3.03</td>\n",
       "      <td>2</td>\n",
       "      <td>0</td>\n",
       "      <td>13</td>\n",
       "      <td>14.0</td>\n",
       "      <td>False</td>\n",
       "      <td>False</td>\n",
       "      <td>False</td>\n",
       "      <td>2</td>\n",
       "      <td>10000000.0</td>\n",
       "      <td>2018-06-19T00:00:00</td>\n",
       "      <td>121.0</td>\n",
       "      <td>8098.0</td>\n",
       "      <td>31856.0</td>\n",
       "      <td>2.0</td>\n",
       "      <td>112.0</td>\n",
       "      <td>1.0</td>\n",
       "      <td>48.0</td>\n",
       "      <td>100000.00</td>\n",
       "    </tr>\n",
       "  </tbody>\n",
       "</table>\n",
       "</div>"
      ],
      "text/plain": [
       "         town_name  total_area_m2  living_area_m2  kitchen_area_m2  \\\n",
       "0  санкт-петербург          108.0            51.0             25.0   \n",
       "1   поселок шушары           40.4            18.6             11.0   \n",
       "2  санкт-петербург           56.0            34.3              8.3   \n",
       "3  санкт-петербург          159.0             NaN              NaN   \n",
       "4  санкт-петербург          100.0            32.0             41.0   \n",
       "\n",
       "   ceiling_height_m  number_of_rooms  number_of_balconies  floor  \\\n",
       "0              2.70                3                    0      8   \n",
       "1              2.70                1                    2      1   \n",
       "2              2.70                2                    0      4   \n",
       "3              2.70                3                    0      9   \n",
       "4              3.03                2                    0     13   \n",
       "\n",
       "   total_floors_in_house  is_apartment  is_studio  is_open_plan  total_images  \\\n",
       "0                   16.0         False      False         False            20   \n",
       "1                   11.0         False      False         False             7   \n",
       "2                    5.0         False      False         False            10   \n",
       "3                   14.0         False      False         False             0   \n",
       "4                   14.0         False      False         False             2   \n",
       "\n",
       "   last_price first_day_exposition  days_exposition  city_center_distance_m  \\\n",
       "0  13000000.0  2019-03-07T00:00:00              NaN                 16028.0   \n",
       "1   3350000.0  2018-12-04T00:00:00             81.0                 18603.0   \n",
       "2   5196000.0  2015-08-20T00:00:00            558.0                 13933.0   \n",
       "3  64900000.0  2015-07-24T00:00:00            424.0                  6800.0   \n",
       "4  10000000.0  2018-06-19T00:00:00            121.0                  8098.0   \n",
       "\n",
       "   nearest_airport_distance_m  parks_numbers_within_3km  \\\n",
       "0                     18863.0                       1.0   \n",
       "1                     12817.0                       0.0   \n",
       "2                     21741.0                       1.0   \n",
       "3                     28098.0                       2.0   \n",
       "4                     31856.0                       2.0   \n",
       "\n",
       "   nearest_park_distance_m  ponds_number_within_3km  nearest_pond_distance_m  \\\n",
       "0                    482.0                      2.0                    755.0   \n",
       "1                      NaN                      0.0                      NaN   \n",
       "2                     90.0                      2.0                    574.0   \n",
       "3                     84.0                      3.0                    234.0   \n",
       "4                    112.0                      1.0                     48.0   \n",
       "\n",
       "   price_per_meter  \n",
       "0        120370.37  \n",
       "1         82920.79  \n",
       "2         92785.71  \n",
       "3        408176.10  \n",
       "4        100000.00  "
      ]
     },
     "execution_count": 35,
     "metadata": {},
     "output_type": "execute_result"
    }
   ],
   "source": [
    "data.head()"
   ]
  },
  {
   "cell_type": "code",
   "execution_count": 36,
   "metadata": {},
   "outputs": [],
   "source": [
    "# Теперь ко дню публикации объявления\n",
    "data['first_day_exposition'] = pd.to_datetime(data['first_day_exposition'], format=\"%Y-%m-%dT%H:%M:%S\")"
   ]
  },
  {
   "cell_type": "code",
   "execution_count": 37,
   "metadata": {},
   "outputs": [
    {
     "data": {
      "text/html": [
       "<div>\n",
       "<style scoped>\n",
       "    .dataframe tbody tr th:only-of-type {\n",
       "        vertical-align: middle;\n",
       "    }\n",
       "\n",
       "    .dataframe tbody tr th {\n",
       "        vertical-align: top;\n",
       "    }\n",
       "\n",
       "    .dataframe thead th {\n",
       "        text-align: right;\n",
       "    }\n",
       "</style>\n",
       "<table border=\"1\" class=\"dataframe\">\n",
       "  <thead>\n",
       "    <tr style=\"text-align: right;\">\n",
       "      <th></th>\n",
       "      <th>town_name</th>\n",
       "      <th>total_area_m2</th>\n",
       "      <th>living_area_m2</th>\n",
       "      <th>kitchen_area_m2</th>\n",
       "      <th>ceiling_height_m</th>\n",
       "      <th>number_of_rooms</th>\n",
       "      <th>number_of_balconies</th>\n",
       "      <th>floor</th>\n",
       "      <th>total_floors_in_house</th>\n",
       "      <th>is_apartment</th>\n",
       "      <th>is_studio</th>\n",
       "      <th>is_open_plan</th>\n",
       "      <th>total_images</th>\n",
       "      <th>last_price</th>\n",
       "      <th>first_day_exposition</th>\n",
       "      <th>days_exposition</th>\n",
       "      <th>city_center_distance_m</th>\n",
       "      <th>nearest_airport_distance_m</th>\n",
       "      <th>parks_numbers_within_3km</th>\n",
       "      <th>nearest_park_distance_m</th>\n",
       "      <th>ponds_number_within_3km</th>\n",
       "      <th>nearest_pond_distance_m</th>\n",
       "      <th>price_per_meter</th>\n",
       "    </tr>\n",
       "  </thead>\n",
       "  <tbody>\n",
       "    <tr>\n",
       "      <th>0</th>\n",
       "      <td>санкт-петербург</td>\n",
       "      <td>108.0</td>\n",
       "      <td>51.0</td>\n",
       "      <td>25.0</td>\n",
       "      <td>2.70</td>\n",
       "      <td>3</td>\n",
       "      <td>0</td>\n",
       "      <td>8</td>\n",
       "      <td>16.0</td>\n",
       "      <td>False</td>\n",
       "      <td>False</td>\n",
       "      <td>False</td>\n",
       "      <td>20</td>\n",
       "      <td>13000000.0</td>\n",
       "      <td>2019-03-07</td>\n",
       "      <td>NaN</td>\n",
       "      <td>16028.0</td>\n",
       "      <td>18863.0</td>\n",
       "      <td>1.0</td>\n",
       "      <td>482.0</td>\n",
       "      <td>2.0</td>\n",
       "      <td>755.0</td>\n",
       "      <td>120370.37</td>\n",
       "    </tr>\n",
       "    <tr>\n",
       "      <th>1</th>\n",
       "      <td>поселок шушары</td>\n",
       "      <td>40.4</td>\n",
       "      <td>18.6</td>\n",
       "      <td>11.0</td>\n",
       "      <td>2.70</td>\n",
       "      <td>1</td>\n",
       "      <td>2</td>\n",
       "      <td>1</td>\n",
       "      <td>11.0</td>\n",
       "      <td>False</td>\n",
       "      <td>False</td>\n",
       "      <td>False</td>\n",
       "      <td>7</td>\n",
       "      <td>3350000.0</td>\n",
       "      <td>2018-12-04</td>\n",
       "      <td>81.0</td>\n",
       "      <td>18603.0</td>\n",
       "      <td>12817.0</td>\n",
       "      <td>0.0</td>\n",
       "      <td>NaN</td>\n",
       "      <td>0.0</td>\n",
       "      <td>NaN</td>\n",
       "      <td>82920.79</td>\n",
       "    </tr>\n",
       "    <tr>\n",
       "      <th>2</th>\n",
       "      <td>санкт-петербург</td>\n",
       "      <td>56.0</td>\n",
       "      <td>34.3</td>\n",
       "      <td>8.3</td>\n",
       "      <td>2.70</td>\n",
       "      <td>2</td>\n",
       "      <td>0</td>\n",
       "      <td>4</td>\n",
       "      <td>5.0</td>\n",
       "      <td>False</td>\n",
       "      <td>False</td>\n",
       "      <td>False</td>\n",
       "      <td>10</td>\n",
       "      <td>5196000.0</td>\n",
       "      <td>2015-08-20</td>\n",
       "      <td>558.0</td>\n",
       "      <td>13933.0</td>\n",
       "      <td>21741.0</td>\n",
       "      <td>1.0</td>\n",
       "      <td>90.0</td>\n",
       "      <td>2.0</td>\n",
       "      <td>574.0</td>\n",
       "      <td>92785.71</td>\n",
       "    </tr>\n",
       "    <tr>\n",
       "      <th>3</th>\n",
       "      <td>санкт-петербург</td>\n",
       "      <td>159.0</td>\n",
       "      <td>NaN</td>\n",
       "      <td>NaN</td>\n",
       "      <td>2.70</td>\n",
       "      <td>3</td>\n",
       "      <td>0</td>\n",
       "      <td>9</td>\n",
       "      <td>14.0</td>\n",
       "      <td>False</td>\n",
       "      <td>False</td>\n",
       "      <td>False</td>\n",
       "      <td>0</td>\n",
       "      <td>64900000.0</td>\n",
       "      <td>2015-07-24</td>\n",
       "      <td>424.0</td>\n",
       "      <td>6800.0</td>\n",
       "      <td>28098.0</td>\n",
       "      <td>2.0</td>\n",
       "      <td>84.0</td>\n",
       "      <td>3.0</td>\n",
       "      <td>234.0</td>\n",
       "      <td>408176.10</td>\n",
       "    </tr>\n",
       "    <tr>\n",
       "      <th>4</th>\n",
       "      <td>санкт-петербург</td>\n",
       "      <td>100.0</td>\n",
       "      <td>32.0</td>\n",
       "      <td>41.0</td>\n",
       "      <td>3.03</td>\n",
       "      <td>2</td>\n",
       "      <td>0</td>\n",
       "      <td>13</td>\n",
       "      <td>14.0</td>\n",
       "      <td>False</td>\n",
       "      <td>False</td>\n",
       "      <td>False</td>\n",
       "      <td>2</td>\n",
       "      <td>10000000.0</td>\n",
       "      <td>2018-06-19</td>\n",
       "      <td>121.0</td>\n",
       "      <td>8098.0</td>\n",
       "      <td>31856.0</td>\n",
       "      <td>2.0</td>\n",
       "      <td>112.0</td>\n",
       "      <td>1.0</td>\n",
       "      <td>48.0</td>\n",
       "      <td>100000.00</td>\n",
       "    </tr>\n",
       "  </tbody>\n",
       "</table>\n",
       "</div>"
      ],
      "text/plain": [
       "         town_name  total_area_m2  living_area_m2  kitchen_area_m2  \\\n",
       "0  санкт-петербург          108.0            51.0             25.0   \n",
       "1   поселок шушары           40.4            18.6             11.0   \n",
       "2  санкт-петербург           56.0            34.3              8.3   \n",
       "3  санкт-петербург          159.0             NaN              NaN   \n",
       "4  санкт-петербург          100.0            32.0             41.0   \n",
       "\n",
       "   ceiling_height_m  number_of_rooms  number_of_balconies  floor  \\\n",
       "0              2.70                3                    0      8   \n",
       "1              2.70                1                    2      1   \n",
       "2              2.70                2                    0      4   \n",
       "3              2.70                3                    0      9   \n",
       "4              3.03                2                    0     13   \n",
       "\n",
       "   total_floors_in_house  is_apartment  is_studio  is_open_plan  total_images  \\\n",
       "0                   16.0         False      False         False            20   \n",
       "1                   11.0         False      False         False             7   \n",
       "2                    5.0         False      False         False            10   \n",
       "3                   14.0         False      False         False             0   \n",
       "4                   14.0         False      False         False             2   \n",
       "\n",
       "   last_price first_day_exposition  days_exposition  city_center_distance_m  \\\n",
       "0  13000000.0           2019-03-07              NaN                 16028.0   \n",
       "1   3350000.0           2018-12-04             81.0                 18603.0   \n",
       "2   5196000.0           2015-08-20            558.0                 13933.0   \n",
       "3  64900000.0           2015-07-24            424.0                  6800.0   \n",
       "4  10000000.0           2018-06-19            121.0                  8098.0   \n",
       "\n",
       "   nearest_airport_distance_m  parks_numbers_within_3km  \\\n",
       "0                     18863.0                       1.0   \n",
       "1                     12817.0                       0.0   \n",
       "2                     21741.0                       1.0   \n",
       "3                     28098.0                       2.0   \n",
       "4                     31856.0                       2.0   \n",
       "\n",
       "   nearest_park_distance_m  ponds_number_within_3km  nearest_pond_distance_m  \\\n",
       "0                    482.0                      2.0                    755.0   \n",
       "1                      NaN                      0.0                      NaN   \n",
       "2                     90.0                      2.0                    574.0   \n",
       "3                     84.0                      3.0                    234.0   \n",
       "4                    112.0                      1.0                     48.0   \n",
       "\n",
       "   price_per_meter  \n",
       "0        120370.37  \n",
       "1         82920.79  \n",
       "2         92785.71  \n",
       "3        408176.10  \n",
       "4        100000.00  "
      ]
     },
     "execution_count": 37,
     "metadata": {},
     "output_type": "execute_result"
    }
   ],
   "source": [
    "data.head()"
   ]
  },
  {
   "cell_type": "code",
   "execution_count": 38,
   "metadata": {},
   "outputs": [
    {
     "name": "stdout",
     "output_type": "stream",
     "text": [
      "<class 'pandas.core.frame.DataFrame'>\n",
      "Int64Index: 23650 entries, 0 to 23698\n",
      "Data columns (total 23 columns):\n",
      " #   Column                      Non-Null Count  Dtype         \n",
      "---  ------                      --------------  -----         \n",
      " 0   town_name                   23650 non-null  object        \n",
      " 1   total_area_m2               23650 non-null  float64       \n",
      " 2   living_area_m2              21752 non-null  float64       \n",
      " 3   kitchen_area_m2             21381 non-null  float64       \n",
      " 4   ceiling_height_m            23650 non-null  float64       \n",
      " 5   number_of_rooms             23650 non-null  int64         \n",
      " 6   number_of_balconies         23650 non-null  int64         \n",
      " 7   floor                       23650 non-null  int64         \n",
      " 8   total_floors_in_house       23565 non-null  float64       \n",
      " 9   is_apartment                23650 non-null  bool          \n",
      " 10  is_studio                   23650 non-null  bool          \n",
      " 11  is_open_plan                23650 non-null  bool          \n",
      " 12  total_images                23650 non-null  int64         \n",
      " 13  last_price                  23650 non-null  float64       \n",
      " 14  first_day_exposition        23650 non-null  datetime64[ns]\n",
      " 15  days_exposition             20470 non-null  float64       \n",
      " 16  city_center_distance_m      18139 non-null  float64       \n",
      " 17  nearest_airport_distance_m  18116 non-null  float64       \n",
      " 18  parks_numbers_within_3km    18140 non-null  float64       \n",
      " 19  nearest_park_distance_m     8064 non-null   float64       \n",
      " 20  ponds_number_within_3km     18140 non-null  float64       \n",
      " 21  nearest_pond_distance_m     9085 non-null   float64       \n",
      " 22  price_per_meter             23650 non-null  float64       \n",
      "dtypes: bool(3), datetime64[ns](1), float64(14), int64(4), object(1)\n",
      "memory usage: 3.9+ MB\n"
     ]
    }
   ],
   "source": [
    "data.info()"
   ]
  },
  {
   "cell_type": "code",
   "execution_count": 39,
   "metadata": {},
   "outputs": [],
   "source": [
    "# Добавим столбцы c днем, месяцем и годом\n",
    "data['day_of_week_exposition'] = data['first_day_exposition'].dt.day_name()\n",
    "data['month_exposition'] = data['first_day_exposition'].dt.month_name()\n",
    "data['year_exposition'] = data['first_day_exposition'].dt.year"
   ]
  },
  {
   "cell_type": "code",
   "execution_count": 40,
   "metadata": {},
   "outputs": [
    {
     "data": {
      "text/html": [
       "<div>\n",
       "<style scoped>\n",
       "    .dataframe tbody tr th:only-of-type {\n",
       "        vertical-align: middle;\n",
       "    }\n",
       "\n",
       "    .dataframe tbody tr th {\n",
       "        vertical-align: top;\n",
       "    }\n",
       "\n",
       "    .dataframe thead th {\n",
       "        text-align: right;\n",
       "    }\n",
       "</style>\n",
       "<table border=\"1\" class=\"dataframe\">\n",
       "  <thead>\n",
       "    <tr style=\"text-align: right;\">\n",
       "      <th></th>\n",
       "      <th>town_name</th>\n",
       "      <th>total_area_m2</th>\n",
       "      <th>living_area_m2</th>\n",
       "      <th>kitchen_area_m2</th>\n",
       "      <th>ceiling_height_m</th>\n",
       "      <th>number_of_rooms</th>\n",
       "      <th>number_of_balconies</th>\n",
       "      <th>floor</th>\n",
       "      <th>total_floors_in_house</th>\n",
       "      <th>is_apartment</th>\n",
       "      <th>is_studio</th>\n",
       "      <th>is_open_plan</th>\n",
       "      <th>total_images</th>\n",
       "      <th>last_price</th>\n",
       "      <th>first_day_exposition</th>\n",
       "      <th>days_exposition</th>\n",
       "      <th>city_center_distance_m</th>\n",
       "      <th>nearest_airport_distance_m</th>\n",
       "      <th>parks_numbers_within_3km</th>\n",
       "      <th>nearest_park_distance_m</th>\n",
       "      <th>ponds_number_within_3km</th>\n",
       "      <th>nearest_pond_distance_m</th>\n",
       "      <th>price_per_meter</th>\n",
       "      <th>day_of_week_exposition</th>\n",
       "      <th>month_exposition</th>\n",
       "      <th>year_exposition</th>\n",
       "    </tr>\n",
       "  </thead>\n",
       "  <tbody>\n",
       "    <tr>\n",
       "      <th>0</th>\n",
       "      <td>санкт-петербург</td>\n",
       "      <td>108.0</td>\n",
       "      <td>51.0</td>\n",
       "      <td>25.0</td>\n",
       "      <td>2.70</td>\n",
       "      <td>3</td>\n",
       "      <td>0</td>\n",
       "      <td>8</td>\n",
       "      <td>16.0</td>\n",
       "      <td>False</td>\n",
       "      <td>False</td>\n",
       "      <td>False</td>\n",
       "      <td>20</td>\n",
       "      <td>13000000.0</td>\n",
       "      <td>2019-03-07</td>\n",
       "      <td>NaN</td>\n",
       "      <td>16028.0</td>\n",
       "      <td>18863.0</td>\n",
       "      <td>1.0</td>\n",
       "      <td>482.0</td>\n",
       "      <td>2.0</td>\n",
       "      <td>755.0</td>\n",
       "      <td>120370.37</td>\n",
       "      <td>Thursday</td>\n",
       "      <td>March</td>\n",
       "      <td>2019</td>\n",
       "    </tr>\n",
       "    <tr>\n",
       "      <th>1</th>\n",
       "      <td>поселок шушары</td>\n",
       "      <td>40.4</td>\n",
       "      <td>18.6</td>\n",
       "      <td>11.0</td>\n",
       "      <td>2.70</td>\n",
       "      <td>1</td>\n",
       "      <td>2</td>\n",
       "      <td>1</td>\n",
       "      <td>11.0</td>\n",
       "      <td>False</td>\n",
       "      <td>False</td>\n",
       "      <td>False</td>\n",
       "      <td>7</td>\n",
       "      <td>3350000.0</td>\n",
       "      <td>2018-12-04</td>\n",
       "      <td>81.0</td>\n",
       "      <td>18603.0</td>\n",
       "      <td>12817.0</td>\n",
       "      <td>0.0</td>\n",
       "      <td>NaN</td>\n",
       "      <td>0.0</td>\n",
       "      <td>NaN</td>\n",
       "      <td>82920.79</td>\n",
       "      <td>Tuesday</td>\n",
       "      <td>December</td>\n",
       "      <td>2018</td>\n",
       "    </tr>\n",
       "    <tr>\n",
       "      <th>2</th>\n",
       "      <td>санкт-петербург</td>\n",
       "      <td>56.0</td>\n",
       "      <td>34.3</td>\n",
       "      <td>8.3</td>\n",
       "      <td>2.70</td>\n",
       "      <td>2</td>\n",
       "      <td>0</td>\n",
       "      <td>4</td>\n",
       "      <td>5.0</td>\n",
       "      <td>False</td>\n",
       "      <td>False</td>\n",
       "      <td>False</td>\n",
       "      <td>10</td>\n",
       "      <td>5196000.0</td>\n",
       "      <td>2015-08-20</td>\n",
       "      <td>558.0</td>\n",
       "      <td>13933.0</td>\n",
       "      <td>21741.0</td>\n",
       "      <td>1.0</td>\n",
       "      <td>90.0</td>\n",
       "      <td>2.0</td>\n",
       "      <td>574.0</td>\n",
       "      <td>92785.71</td>\n",
       "      <td>Thursday</td>\n",
       "      <td>August</td>\n",
       "      <td>2015</td>\n",
       "    </tr>\n",
       "    <tr>\n",
       "      <th>3</th>\n",
       "      <td>санкт-петербург</td>\n",
       "      <td>159.0</td>\n",
       "      <td>NaN</td>\n",
       "      <td>NaN</td>\n",
       "      <td>2.70</td>\n",
       "      <td>3</td>\n",
       "      <td>0</td>\n",
       "      <td>9</td>\n",
       "      <td>14.0</td>\n",
       "      <td>False</td>\n",
       "      <td>False</td>\n",
       "      <td>False</td>\n",
       "      <td>0</td>\n",
       "      <td>64900000.0</td>\n",
       "      <td>2015-07-24</td>\n",
       "      <td>424.0</td>\n",
       "      <td>6800.0</td>\n",
       "      <td>28098.0</td>\n",
       "      <td>2.0</td>\n",
       "      <td>84.0</td>\n",
       "      <td>3.0</td>\n",
       "      <td>234.0</td>\n",
       "      <td>408176.10</td>\n",
       "      <td>Friday</td>\n",
       "      <td>July</td>\n",
       "      <td>2015</td>\n",
       "    </tr>\n",
       "    <tr>\n",
       "      <th>4</th>\n",
       "      <td>санкт-петербург</td>\n",
       "      <td>100.0</td>\n",
       "      <td>32.0</td>\n",
       "      <td>41.0</td>\n",
       "      <td>3.03</td>\n",
       "      <td>2</td>\n",
       "      <td>0</td>\n",
       "      <td>13</td>\n",
       "      <td>14.0</td>\n",
       "      <td>False</td>\n",
       "      <td>False</td>\n",
       "      <td>False</td>\n",
       "      <td>2</td>\n",
       "      <td>10000000.0</td>\n",
       "      <td>2018-06-19</td>\n",
       "      <td>121.0</td>\n",
       "      <td>8098.0</td>\n",
       "      <td>31856.0</td>\n",
       "      <td>2.0</td>\n",
       "      <td>112.0</td>\n",
       "      <td>1.0</td>\n",
       "      <td>48.0</td>\n",
       "      <td>100000.00</td>\n",
       "      <td>Tuesday</td>\n",
       "      <td>June</td>\n",
       "      <td>2018</td>\n",
       "    </tr>\n",
       "  </tbody>\n",
       "</table>\n",
       "</div>"
      ],
      "text/plain": [
       "         town_name  total_area_m2  living_area_m2  kitchen_area_m2  \\\n",
       "0  санкт-петербург          108.0            51.0             25.0   \n",
       "1   поселок шушары           40.4            18.6             11.0   \n",
       "2  санкт-петербург           56.0            34.3              8.3   \n",
       "3  санкт-петербург          159.0             NaN              NaN   \n",
       "4  санкт-петербург          100.0            32.0             41.0   \n",
       "\n",
       "   ceiling_height_m  number_of_rooms  number_of_balconies  floor  \\\n",
       "0              2.70                3                    0      8   \n",
       "1              2.70                1                    2      1   \n",
       "2              2.70                2                    0      4   \n",
       "3              2.70                3                    0      9   \n",
       "4              3.03                2                    0     13   \n",
       "\n",
       "   total_floors_in_house  is_apartment  is_studio  is_open_plan  total_images  \\\n",
       "0                   16.0         False      False         False            20   \n",
       "1                   11.0         False      False         False             7   \n",
       "2                    5.0         False      False         False            10   \n",
       "3                   14.0         False      False         False             0   \n",
       "4                   14.0         False      False         False             2   \n",
       "\n",
       "   last_price first_day_exposition  days_exposition  city_center_distance_m  \\\n",
       "0  13000000.0           2019-03-07              NaN                 16028.0   \n",
       "1   3350000.0           2018-12-04             81.0                 18603.0   \n",
       "2   5196000.0           2015-08-20            558.0                 13933.0   \n",
       "3  64900000.0           2015-07-24            424.0                  6800.0   \n",
       "4  10000000.0           2018-06-19            121.0                  8098.0   \n",
       "\n",
       "   nearest_airport_distance_m  parks_numbers_within_3km  \\\n",
       "0                     18863.0                       1.0   \n",
       "1                     12817.0                       0.0   \n",
       "2                     21741.0                       1.0   \n",
       "3                     28098.0                       2.0   \n",
       "4                     31856.0                       2.0   \n",
       "\n",
       "   nearest_park_distance_m  ponds_number_within_3km  nearest_pond_distance_m  \\\n",
       "0                    482.0                      2.0                    755.0   \n",
       "1                      NaN                      0.0                      NaN   \n",
       "2                     90.0                      2.0                    574.0   \n",
       "3                     84.0                      3.0                    234.0   \n",
       "4                    112.0                      1.0                     48.0   \n",
       "\n",
       "   price_per_meter day_of_week_exposition month_exposition  year_exposition  \n",
       "0        120370.37               Thursday            March             2019  \n",
       "1         82920.79                Tuesday         December             2018  \n",
       "2         92785.71               Thursday           August             2015  \n",
       "3        408176.10                 Friday             July             2015  \n",
       "4        100000.00                Tuesday             June             2018  "
      ]
     },
     "execution_count": 40,
     "metadata": {},
     "output_type": "execute_result"
    }
   ],
   "source": [
    "# Теперь здесь порядок\n",
    "data.head()"
   ]
  },
  {
   "cell_type": "code",
   "execution_count": 41,
   "metadata": {},
   "outputs": [],
   "source": [
    "# Добавим этажи с помощью функции\n",
    "def floor_status(row):\n",
    "    if row['floor'] == 1:\n",
    "        return 'первый'\n",
    "    elif row['floor'] == row['total_floors_in_house']:\n",
    "        return 'последний'\n",
    "    else:\n",
    "        return 'другой'"
   ]
  },
  {
   "cell_type": "code",
   "execution_count": 42,
   "metadata": {},
   "outputs": [],
   "source": [
    "# Применим функцию и посмотрим на результат\n",
    "data['floor_status'] = data.apply(floor_status, axis=1)"
   ]
  },
  {
   "cell_type": "code",
   "execution_count": 43,
   "metadata": {},
   "outputs": [
    {
     "data": {
      "text/html": [
       "<div>\n",
       "<style scoped>\n",
       "    .dataframe tbody tr th:only-of-type {\n",
       "        vertical-align: middle;\n",
       "    }\n",
       "\n",
       "    .dataframe tbody tr th {\n",
       "        vertical-align: top;\n",
       "    }\n",
       "\n",
       "    .dataframe thead th {\n",
       "        text-align: right;\n",
       "    }\n",
       "</style>\n",
       "<table border=\"1\" class=\"dataframe\">\n",
       "  <thead>\n",
       "    <tr style=\"text-align: right;\">\n",
       "      <th></th>\n",
       "      <th>town_name</th>\n",
       "      <th>total_area_m2</th>\n",
       "      <th>living_area_m2</th>\n",
       "      <th>kitchen_area_m2</th>\n",
       "      <th>ceiling_height_m</th>\n",
       "      <th>number_of_rooms</th>\n",
       "      <th>number_of_balconies</th>\n",
       "      <th>floor</th>\n",
       "      <th>total_floors_in_house</th>\n",
       "      <th>is_apartment</th>\n",
       "      <th>is_studio</th>\n",
       "      <th>is_open_plan</th>\n",
       "      <th>total_images</th>\n",
       "      <th>last_price</th>\n",
       "      <th>first_day_exposition</th>\n",
       "      <th>days_exposition</th>\n",
       "      <th>city_center_distance_m</th>\n",
       "      <th>nearest_airport_distance_m</th>\n",
       "      <th>parks_numbers_within_3km</th>\n",
       "      <th>nearest_park_distance_m</th>\n",
       "      <th>ponds_number_within_3km</th>\n",
       "      <th>nearest_pond_distance_m</th>\n",
       "      <th>price_per_meter</th>\n",
       "      <th>day_of_week_exposition</th>\n",
       "      <th>month_exposition</th>\n",
       "      <th>year_exposition</th>\n",
       "      <th>floor_status</th>\n",
       "    </tr>\n",
       "  </thead>\n",
       "  <tbody>\n",
       "    <tr>\n",
       "      <th>0</th>\n",
       "      <td>санкт-петербург</td>\n",
       "      <td>108.0</td>\n",
       "      <td>51.0</td>\n",
       "      <td>25.0</td>\n",
       "      <td>2.70</td>\n",
       "      <td>3</td>\n",
       "      <td>0</td>\n",
       "      <td>8</td>\n",
       "      <td>16.0</td>\n",
       "      <td>False</td>\n",
       "      <td>False</td>\n",
       "      <td>False</td>\n",
       "      <td>20</td>\n",
       "      <td>13000000.0</td>\n",
       "      <td>2019-03-07</td>\n",
       "      <td>NaN</td>\n",
       "      <td>16028.0</td>\n",
       "      <td>18863.0</td>\n",
       "      <td>1.0</td>\n",
       "      <td>482.0</td>\n",
       "      <td>2.0</td>\n",
       "      <td>755.0</td>\n",
       "      <td>120370.37</td>\n",
       "      <td>Thursday</td>\n",
       "      <td>March</td>\n",
       "      <td>2019</td>\n",
       "      <td>другой</td>\n",
       "    </tr>\n",
       "    <tr>\n",
       "      <th>1</th>\n",
       "      <td>поселок шушары</td>\n",
       "      <td>40.4</td>\n",
       "      <td>18.6</td>\n",
       "      <td>11.0</td>\n",
       "      <td>2.70</td>\n",
       "      <td>1</td>\n",
       "      <td>2</td>\n",
       "      <td>1</td>\n",
       "      <td>11.0</td>\n",
       "      <td>False</td>\n",
       "      <td>False</td>\n",
       "      <td>False</td>\n",
       "      <td>7</td>\n",
       "      <td>3350000.0</td>\n",
       "      <td>2018-12-04</td>\n",
       "      <td>81.0</td>\n",
       "      <td>18603.0</td>\n",
       "      <td>12817.0</td>\n",
       "      <td>0.0</td>\n",
       "      <td>NaN</td>\n",
       "      <td>0.0</td>\n",
       "      <td>NaN</td>\n",
       "      <td>82920.79</td>\n",
       "      <td>Tuesday</td>\n",
       "      <td>December</td>\n",
       "      <td>2018</td>\n",
       "      <td>первый</td>\n",
       "    </tr>\n",
       "    <tr>\n",
       "      <th>2</th>\n",
       "      <td>санкт-петербург</td>\n",
       "      <td>56.0</td>\n",
       "      <td>34.3</td>\n",
       "      <td>8.3</td>\n",
       "      <td>2.70</td>\n",
       "      <td>2</td>\n",
       "      <td>0</td>\n",
       "      <td>4</td>\n",
       "      <td>5.0</td>\n",
       "      <td>False</td>\n",
       "      <td>False</td>\n",
       "      <td>False</td>\n",
       "      <td>10</td>\n",
       "      <td>5196000.0</td>\n",
       "      <td>2015-08-20</td>\n",
       "      <td>558.0</td>\n",
       "      <td>13933.0</td>\n",
       "      <td>21741.0</td>\n",
       "      <td>1.0</td>\n",
       "      <td>90.0</td>\n",
       "      <td>2.0</td>\n",
       "      <td>574.0</td>\n",
       "      <td>92785.71</td>\n",
       "      <td>Thursday</td>\n",
       "      <td>August</td>\n",
       "      <td>2015</td>\n",
       "      <td>другой</td>\n",
       "    </tr>\n",
       "    <tr>\n",
       "      <th>3</th>\n",
       "      <td>санкт-петербург</td>\n",
       "      <td>159.0</td>\n",
       "      <td>NaN</td>\n",
       "      <td>NaN</td>\n",
       "      <td>2.70</td>\n",
       "      <td>3</td>\n",
       "      <td>0</td>\n",
       "      <td>9</td>\n",
       "      <td>14.0</td>\n",
       "      <td>False</td>\n",
       "      <td>False</td>\n",
       "      <td>False</td>\n",
       "      <td>0</td>\n",
       "      <td>64900000.0</td>\n",
       "      <td>2015-07-24</td>\n",
       "      <td>424.0</td>\n",
       "      <td>6800.0</td>\n",
       "      <td>28098.0</td>\n",
       "      <td>2.0</td>\n",
       "      <td>84.0</td>\n",
       "      <td>3.0</td>\n",
       "      <td>234.0</td>\n",
       "      <td>408176.10</td>\n",
       "      <td>Friday</td>\n",
       "      <td>July</td>\n",
       "      <td>2015</td>\n",
       "      <td>другой</td>\n",
       "    </tr>\n",
       "    <tr>\n",
       "      <th>4</th>\n",
       "      <td>санкт-петербург</td>\n",
       "      <td>100.0</td>\n",
       "      <td>32.0</td>\n",
       "      <td>41.0</td>\n",
       "      <td>3.03</td>\n",
       "      <td>2</td>\n",
       "      <td>0</td>\n",
       "      <td>13</td>\n",
       "      <td>14.0</td>\n",
       "      <td>False</td>\n",
       "      <td>False</td>\n",
       "      <td>False</td>\n",
       "      <td>2</td>\n",
       "      <td>10000000.0</td>\n",
       "      <td>2018-06-19</td>\n",
       "      <td>121.0</td>\n",
       "      <td>8098.0</td>\n",
       "      <td>31856.0</td>\n",
       "      <td>2.0</td>\n",
       "      <td>112.0</td>\n",
       "      <td>1.0</td>\n",
       "      <td>48.0</td>\n",
       "      <td>100000.00</td>\n",
       "      <td>Tuesday</td>\n",
       "      <td>June</td>\n",
       "      <td>2018</td>\n",
       "      <td>другой</td>\n",
       "    </tr>\n",
       "  </tbody>\n",
       "</table>\n",
       "</div>"
      ],
      "text/plain": [
       "         town_name  total_area_m2  living_area_m2  kitchen_area_m2  \\\n",
       "0  санкт-петербург          108.0            51.0             25.0   \n",
       "1   поселок шушары           40.4            18.6             11.0   \n",
       "2  санкт-петербург           56.0            34.3              8.3   \n",
       "3  санкт-петербург          159.0             NaN              NaN   \n",
       "4  санкт-петербург          100.0            32.0             41.0   \n",
       "\n",
       "   ceiling_height_m  number_of_rooms  number_of_balconies  floor  \\\n",
       "0              2.70                3                    0      8   \n",
       "1              2.70                1                    2      1   \n",
       "2              2.70                2                    0      4   \n",
       "3              2.70                3                    0      9   \n",
       "4              3.03                2                    0     13   \n",
       "\n",
       "   total_floors_in_house  is_apartment  is_studio  is_open_plan  total_images  \\\n",
       "0                   16.0         False      False         False            20   \n",
       "1                   11.0         False      False         False             7   \n",
       "2                    5.0         False      False         False            10   \n",
       "3                   14.0         False      False         False             0   \n",
       "4                   14.0         False      False         False             2   \n",
       "\n",
       "   last_price first_day_exposition  days_exposition  city_center_distance_m  \\\n",
       "0  13000000.0           2019-03-07              NaN                 16028.0   \n",
       "1   3350000.0           2018-12-04             81.0                 18603.0   \n",
       "2   5196000.0           2015-08-20            558.0                 13933.0   \n",
       "3  64900000.0           2015-07-24            424.0                  6800.0   \n",
       "4  10000000.0           2018-06-19            121.0                  8098.0   \n",
       "\n",
       "   nearest_airport_distance_m  parks_numbers_within_3km  \\\n",
       "0                     18863.0                       1.0   \n",
       "1                     12817.0                       0.0   \n",
       "2                     21741.0                       1.0   \n",
       "3                     28098.0                       2.0   \n",
       "4                     31856.0                       2.0   \n",
       "\n",
       "   nearest_park_distance_m  ponds_number_within_3km  nearest_pond_distance_m  \\\n",
       "0                    482.0                      2.0                    755.0   \n",
       "1                      NaN                      0.0                      NaN   \n",
       "2                     90.0                      2.0                    574.0   \n",
       "3                     84.0                      3.0                    234.0   \n",
       "4                    112.0                      1.0                     48.0   \n",
       "\n",
       "   price_per_meter day_of_week_exposition month_exposition  year_exposition  \\\n",
       "0        120370.37               Thursday            March             2019   \n",
       "1         82920.79                Tuesday         December             2018   \n",
       "2         92785.71               Thursday           August             2015   \n",
       "3        408176.10                 Friday             July             2015   \n",
       "4        100000.00                Tuesday             June             2018   \n",
       "\n",
       "  floor_status  \n",
       "0       другой  \n",
       "1       первый  \n",
       "2       другой  \n",
       "3       другой  \n",
       "4       другой  "
      ]
     },
     "execution_count": 43,
     "metadata": {},
     "output_type": "execute_result"
    }
   ],
   "source": [
    "data.head()"
   ]
  },
  {
   "cell_type": "markdown",
   "metadata": {},
   "source": [
    "<div class=\"alert alert-success\">\n",
    "<h2> Комментарий ревьюера <a class=\"tocSkip\"> </h2>\n",
    "\n",
    "<b>Все супер!👍:</b> Отлично! Добавлены все необходимые столбцы, хорошая работа!"
   ]
  },
  {
   "cell_type": "code",
   "execution_count": 44,
   "metadata": {},
   "outputs": [],
   "source": [
    "# Уберем метры из столбцов с прудами, аэропортами и центрами городам, приведем все к километрам\n",
    "data['city_center_distance_km'] = data['city_center_distance_m'] / 1000\n",
    "data['city_center_distance_km'] = data['city_center_distance_km'].round(decimals=2)\n",
    "\n",
    "data['nearest_airport_distance_km'] = data['nearest_airport_distance_m'] / 1000\n",
    "data['nearest_airport_distance_km'] = data['nearest_airport_distance_km'].round(decimals=2)\n",
    "\n",
    "data['nearest_park_distance_km'] = data['nearest_park_distance_m'] / 1000\n",
    "data['nearest_park_distance_km'] = data['nearest_park_distance_km'].round(decimals=2)\n",
    "\n",
    "data['nearest_pond_distance_km'] = data['nearest_pond_distance_m'] / 1000\n",
    "data['nearest_pond_distance_km'] = data['nearest_pond_distance_km'].round(decimals=2)"
   ]
  },
  {
   "cell_type": "code",
   "execution_count": 45,
   "metadata": {},
   "outputs": [
    {
     "data": {
      "text/html": [
       "<div>\n",
       "<style scoped>\n",
       "    .dataframe tbody tr th:only-of-type {\n",
       "        vertical-align: middle;\n",
       "    }\n",
       "\n",
       "    .dataframe tbody tr th {\n",
       "        vertical-align: top;\n",
       "    }\n",
       "\n",
       "    .dataframe thead th {\n",
       "        text-align: right;\n",
       "    }\n",
       "</style>\n",
       "<table border=\"1\" class=\"dataframe\">\n",
       "  <thead>\n",
       "    <tr style=\"text-align: right;\">\n",
       "      <th></th>\n",
       "      <th>town_name</th>\n",
       "      <th>total_area_m2</th>\n",
       "      <th>living_area_m2</th>\n",
       "      <th>kitchen_area_m2</th>\n",
       "      <th>ceiling_height_m</th>\n",
       "      <th>number_of_rooms</th>\n",
       "      <th>number_of_balconies</th>\n",
       "      <th>floor</th>\n",
       "      <th>total_floors_in_house</th>\n",
       "      <th>is_apartment</th>\n",
       "      <th>is_studio</th>\n",
       "      <th>is_open_plan</th>\n",
       "      <th>total_images</th>\n",
       "      <th>last_price</th>\n",
       "      <th>first_day_exposition</th>\n",
       "      <th>days_exposition</th>\n",
       "      <th>city_center_distance_m</th>\n",
       "      <th>nearest_airport_distance_m</th>\n",
       "      <th>parks_numbers_within_3km</th>\n",
       "      <th>nearest_park_distance_m</th>\n",
       "      <th>ponds_number_within_3km</th>\n",
       "      <th>nearest_pond_distance_m</th>\n",
       "      <th>price_per_meter</th>\n",
       "      <th>day_of_week_exposition</th>\n",
       "      <th>month_exposition</th>\n",
       "      <th>year_exposition</th>\n",
       "      <th>floor_status</th>\n",
       "      <th>city_center_distance_km</th>\n",
       "      <th>nearest_airport_distance_km</th>\n",
       "      <th>nearest_park_distance_km</th>\n",
       "      <th>nearest_pond_distance_km</th>\n",
       "    </tr>\n",
       "  </thead>\n",
       "  <tbody>\n",
       "    <tr>\n",
       "      <th>0</th>\n",
       "      <td>санкт-петербург</td>\n",
       "      <td>108.0</td>\n",
       "      <td>51.0</td>\n",
       "      <td>25.0</td>\n",
       "      <td>2.70</td>\n",
       "      <td>3</td>\n",
       "      <td>0</td>\n",
       "      <td>8</td>\n",
       "      <td>16.0</td>\n",
       "      <td>False</td>\n",
       "      <td>False</td>\n",
       "      <td>False</td>\n",
       "      <td>20</td>\n",
       "      <td>13000000.0</td>\n",
       "      <td>2019-03-07</td>\n",
       "      <td>NaN</td>\n",
       "      <td>16028.0</td>\n",
       "      <td>18863.0</td>\n",
       "      <td>1.0</td>\n",
       "      <td>482.0</td>\n",
       "      <td>2.0</td>\n",
       "      <td>755.0</td>\n",
       "      <td>120370.37</td>\n",
       "      <td>Thursday</td>\n",
       "      <td>March</td>\n",
       "      <td>2019</td>\n",
       "      <td>другой</td>\n",
       "      <td>16.03</td>\n",
       "      <td>18.86</td>\n",
       "      <td>0.48</td>\n",
       "      <td>0.76</td>\n",
       "    </tr>\n",
       "    <tr>\n",
       "      <th>1</th>\n",
       "      <td>поселок шушары</td>\n",
       "      <td>40.4</td>\n",
       "      <td>18.6</td>\n",
       "      <td>11.0</td>\n",
       "      <td>2.70</td>\n",
       "      <td>1</td>\n",
       "      <td>2</td>\n",
       "      <td>1</td>\n",
       "      <td>11.0</td>\n",
       "      <td>False</td>\n",
       "      <td>False</td>\n",
       "      <td>False</td>\n",
       "      <td>7</td>\n",
       "      <td>3350000.0</td>\n",
       "      <td>2018-12-04</td>\n",
       "      <td>81.0</td>\n",
       "      <td>18603.0</td>\n",
       "      <td>12817.0</td>\n",
       "      <td>0.0</td>\n",
       "      <td>NaN</td>\n",
       "      <td>0.0</td>\n",
       "      <td>NaN</td>\n",
       "      <td>82920.79</td>\n",
       "      <td>Tuesday</td>\n",
       "      <td>December</td>\n",
       "      <td>2018</td>\n",
       "      <td>первый</td>\n",
       "      <td>18.60</td>\n",
       "      <td>12.82</td>\n",
       "      <td>NaN</td>\n",
       "      <td>NaN</td>\n",
       "    </tr>\n",
       "    <tr>\n",
       "      <th>2</th>\n",
       "      <td>санкт-петербург</td>\n",
       "      <td>56.0</td>\n",
       "      <td>34.3</td>\n",
       "      <td>8.3</td>\n",
       "      <td>2.70</td>\n",
       "      <td>2</td>\n",
       "      <td>0</td>\n",
       "      <td>4</td>\n",
       "      <td>5.0</td>\n",
       "      <td>False</td>\n",
       "      <td>False</td>\n",
       "      <td>False</td>\n",
       "      <td>10</td>\n",
       "      <td>5196000.0</td>\n",
       "      <td>2015-08-20</td>\n",
       "      <td>558.0</td>\n",
       "      <td>13933.0</td>\n",
       "      <td>21741.0</td>\n",
       "      <td>1.0</td>\n",
       "      <td>90.0</td>\n",
       "      <td>2.0</td>\n",
       "      <td>574.0</td>\n",
       "      <td>92785.71</td>\n",
       "      <td>Thursday</td>\n",
       "      <td>August</td>\n",
       "      <td>2015</td>\n",
       "      <td>другой</td>\n",
       "      <td>13.93</td>\n",
       "      <td>21.74</td>\n",
       "      <td>0.09</td>\n",
       "      <td>0.57</td>\n",
       "    </tr>\n",
       "    <tr>\n",
       "      <th>3</th>\n",
       "      <td>санкт-петербург</td>\n",
       "      <td>159.0</td>\n",
       "      <td>NaN</td>\n",
       "      <td>NaN</td>\n",
       "      <td>2.70</td>\n",
       "      <td>3</td>\n",
       "      <td>0</td>\n",
       "      <td>9</td>\n",
       "      <td>14.0</td>\n",
       "      <td>False</td>\n",
       "      <td>False</td>\n",
       "      <td>False</td>\n",
       "      <td>0</td>\n",
       "      <td>64900000.0</td>\n",
       "      <td>2015-07-24</td>\n",
       "      <td>424.0</td>\n",
       "      <td>6800.0</td>\n",
       "      <td>28098.0</td>\n",
       "      <td>2.0</td>\n",
       "      <td>84.0</td>\n",
       "      <td>3.0</td>\n",
       "      <td>234.0</td>\n",
       "      <td>408176.10</td>\n",
       "      <td>Friday</td>\n",
       "      <td>July</td>\n",
       "      <td>2015</td>\n",
       "      <td>другой</td>\n",
       "      <td>6.80</td>\n",
       "      <td>28.10</td>\n",
       "      <td>0.08</td>\n",
       "      <td>0.23</td>\n",
       "    </tr>\n",
       "    <tr>\n",
       "      <th>4</th>\n",
       "      <td>санкт-петербург</td>\n",
       "      <td>100.0</td>\n",
       "      <td>32.0</td>\n",
       "      <td>41.0</td>\n",
       "      <td>3.03</td>\n",
       "      <td>2</td>\n",
       "      <td>0</td>\n",
       "      <td>13</td>\n",
       "      <td>14.0</td>\n",
       "      <td>False</td>\n",
       "      <td>False</td>\n",
       "      <td>False</td>\n",
       "      <td>2</td>\n",
       "      <td>10000000.0</td>\n",
       "      <td>2018-06-19</td>\n",
       "      <td>121.0</td>\n",
       "      <td>8098.0</td>\n",
       "      <td>31856.0</td>\n",
       "      <td>2.0</td>\n",
       "      <td>112.0</td>\n",
       "      <td>1.0</td>\n",
       "      <td>48.0</td>\n",
       "      <td>100000.00</td>\n",
       "      <td>Tuesday</td>\n",
       "      <td>June</td>\n",
       "      <td>2018</td>\n",
       "      <td>другой</td>\n",
       "      <td>8.10</td>\n",
       "      <td>31.86</td>\n",
       "      <td>0.11</td>\n",
       "      <td>0.05</td>\n",
       "    </tr>\n",
       "  </tbody>\n",
       "</table>\n",
       "</div>"
      ],
      "text/plain": [
       "         town_name  total_area_m2  living_area_m2  kitchen_area_m2  \\\n",
       "0  санкт-петербург          108.0            51.0             25.0   \n",
       "1   поселок шушары           40.4            18.6             11.0   \n",
       "2  санкт-петербург           56.0            34.3              8.3   \n",
       "3  санкт-петербург          159.0             NaN              NaN   \n",
       "4  санкт-петербург          100.0            32.0             41.0   \n",
       "\n",
       "   ceiling_height_m  number_of_rooms  number_of_balconies  floor  \\\n",
       "0              2.70                3                    0      8   \n",
       "1              2.70                1                    2      1   \n",
       "2              2.70                2                    0      4   \n",
       "3              2.70                3                    0      9   \n",
       "4              3.03                2                    0     13   \n",
       "\n",
       "   total_floors_in_house  is_apartment  is_studio  is_open_plan  total_images  \\\n",
       "0                   16.0         False      False         False            20   \n",
       "1                   11.0         False      False         False             7   \n",
       "2                    5.0         False      False         False            10   \n",
       "3                   14.0         False      False         False             0   \n",
       "4                   14.0         False      False         False             2   \n",
       "\n",
       "   last_price first_day_exposition  days_exposition  city_center_distance_m  \\\n",
       "0  13000000.0           2019-03-07              NaN                 16028.0   \n",
       "1   3350000.0           2018-12-04             81.0                 18603.0   \n",
       "2   5196000.0           2015-08-20            558.0                 13933.0   \n",
       "3  64900000.0           2015-07-24            424.0                  6800.0   \n",
       "4  10000000.0           2018-06-19            121.0                  8098.0   \n",
       "\n",
       "   nearest_airport_distance_m  parks_numbers_within_3km  \\\n",
       "0                     18863.0                       1.0   \n",
       "1                     12817.0                       0.0   \n",
       "2                     21741.0                       1.0   \n",
       "3                     28098.0                       2.0   \n",
       "4                     31856.0                       2.0   \n",
       "\n",
       "   nearest_park_distance_m  ponds_number_within_3km  nearest_pond_distance_m  \\\n",
       "0                    482.0                      2.0                    755.0   \n",
       "1                      NaN                      0.0                      NaN   \n",
       "2                     90.0                      2.0                    574.0   \n",
       "3                     84.0                      3.0                    234.0   \n",
       "4                    112.0                      1.0                     48.0   \n",
       "\n",
       "   price_per_meter day_of_week_exposition month_exposition  year_exposition  \\\n",
       "0        120370.37               Thursday            March             2019   \n",
       "1         82920.79                Tuesday         December             2018   \n",
       "2         92785.71               Thursday           August             2015   \n",
       "3        408176.10                 Friday             July             2015   \n",
       "4        100000.00                Tuesday             June             2018   \n",
       "\n",
       "  floor_status  city_center_distance_km  nearest_airport_distance_km  \\\n",
       "0       другой                    16.03                        18.86   \n",
       "1       первый                    18.60                        12.82   \n",
       "2       другой                    13.93                        21.74   \n",
       "3       другой                     6.80                        28.10   \n",
       "4       другой                     8.10                        31.86   \n",
       "\n",
       "   nearest_park_distance_km  nearest_pond_distance_km  \n",
       "0                      0.48                      0.76  \n",
       "1                       NaN                       NaN  \n",
       "2                      0.09                      0.57  \n",
       "3                      0.08                      0.23  \n",
       "4                      0.11                      0.05  "
      ]
     },
     "execution_count": 45,
     "metadata": {},
     "output_type": "execute_result"
    }
   ],
   "source": [
    "data.head()"
   ]
  },
  {
   "cell_type": "code",
   "execution_count": 46,
   "metadata": {},
   "outputs": [],
   "source": [
    "# Удалим ненужные более столбцы\n",
    "# Да, можно было сделать написанием ещё одной функции\n",
    "# Но на мой взгляд, так нагляднее и последовательнее\n",
    "del data['city_center_distance_m']\n",
    "del data['nearest_airport_distance_m']\n",
    "del data['nearest_park_distance_m']\n",
    "del data['nearest_pond_distance_m']"
   ]
  },
  {
   "cell_type": "code",
   "execution_count": 47,
   "metadata": {},
   "outputs": [
    {
     "data": {
      "text/plain": [
       "['town_name',\n",
       " 'total_area_m2',\n",
       " 'living_area_m2',\n",
       " 'kitchen_area_m2',\n",
       " 'ceiling_height_m',\n",
       " 'number_of_rooms',\n",
       " 'number_of_balconies',\n",
       " 'floor',\n",
       " 'total_floors_in_house',\n",
       " 'is_apartment',\n",
       " 'is_studio',\n",
       " 'is_open_plan',\n",
       " 'total_images',\n",
       " 'last_price',\n",
       " 'first_day_exposition',\n",
       " 'days_exposition',\n",
       " 'parks_numbers_within_3km',\n",
       " 'ponds_number_within_3km',\n",
       " 'price_per_meter',\n",
       " 'day_of_week_exposition',\n",
       " 'month_exposition',\n",
       " 'year_exposition',\n",
       " 'floor_status',\n",
       " 'city_center_distance_km',\n",
       " 'nearest_airport_distance_km',\n",
       " 'nearest_park_distance_km',\n",
       " 'nearest_pond_distance_km']"
      ]
     },
     "execution_count": 47,
     "metadata": {},
     "output_type": "execute_result"
    }
   ],
   "source": [
    "data.columns.tolist()"
   ]
  },
  {
   "cell_type": "code",
   "execution_count": 48,
   "metadata": {},
   "outputs": [],
   "source": [
    "# Изменим порядок столбцов для удобства\n",
    "data = data[[\n",
    " 'town_name',\n",
    " 'total_area_m2',\n",
    " 'living_area_m2',\n",
    " 'kitchen_area_m2',\n",
    " 'ceiling_height_m',\n",
    " 'number_of_rooms',\n",
    " 'number_of_balconies',\n",
    " 'floor',\n",
    " 'total_floors_in_house',\n",
    " 'is_apartment',\n",
    " 'is_studio',\n",
    " 'is_open_plan',\n",
    " 'total_images',\n",
    " 'last_price',\n",
    " 'first_day_exposition',\n",
    " 'day_of_week_exposition',\n",
    " 'month_exposition',\n",
    " 'year_exposition',\n",
    " 'days_exposition',\n",
    " 'city_center_distance_km',\n",
    " 'nearest_airport_distance_km',\n",
    " 'parks_numbers_within_3km',\n",
    " 'nearest_park_distance_km',\n",
    " 'ponds_number_within_3km',\n",
    " 'nearest_pond_distance_km',\n",
    " 'floor_status',\n",
    " 'price_per_meter'\n",
    "]]"
   ]
  },
  {
   "cell_type": "code",
   "execution_count": 49,
   "metadata": {},
   "outputs": [
    {
     "data": {
      "text/html": [
       "<div>\n",
       "<style scoped>\n",
       "    .dataframe tbody tr th:only-of-type {\n",
       "        vertical-align: middle;\n",
       "    }\n",
       "\n",
       "    .dataframe tbody tr th {\n",
       "        vertical-align: top;\n",
       "    }\n",
       "\n",
       "    .dataframe thead th {\n",
       "        text-align: right;\n",
       "    }\n",
       "</style>\n",
       "<table border=\"1\" class=\"dataframe\">\n",
       "  <thead>\n",
       "    <tr style=\"text-align: right;\">\n",
       "      <th></th>\n",
       "      <th>total_area_m2</th>\n",
       "      <th>living_area_m2</th>\n",
       "      <th>kitchen_area_m2</th>\n",
       "      <th>ceiling_height_m</th>\n",
       "      <th>number_of_rooms</th>\n",
       "      <th>number_of_balconies</th>\n",
       "      <th>floor</th>\n",
       "      <th>total_floors_in_house</th>\n",
       "      <th>total_images</th>\n",
       "      <th>last_price</th>\n",
       "      <th>year_exposition</th>\n",
       "      <th>days_exposition</th>\n",
       "      <th>city_center_distance_km</th>\n",
       "      <th>nearest_airport_distance_km</th>\n",
       "      <th>parks_numbers_within_3km</th>\n",
       "      <th>nearest_park_distance_km</th>\n",
       "      <th>ponds_number_within_3km</th>\n",
       "      <th>nearest_pond_distance_km</th>\n",
       "      <th>price_per_meter</th>\n",
       "    </tr>\n",
       "  </thead>\n",
       "  <tbody>\n",
       "    <tr>\n",
       "      <th>count</th>\n",
       "      <td>23650.000000</td>\n",
       "      <td>21752.000000</td>\n",
       "      <td>21381.000000</td>\n",
       "      <td>23650.000000</td>\n",
       "      <td>23650.000000</td>\n",
       "      <td>23650.000000</td>\n",
       "      <td>23650.000000</td>\n",
       "      <td>23565.000000</td>\n",
       "      <td>23650.000000</td>\n",
       "      <td>2.365000e+04</td>\n",
       "      <td>23650.000000</td>\n",
       "      <td>20470.000000</td>\n",
       "      <td>18139.000000</td>\n",
       "      <td>18116.000000</td>\n",
       "      <td>18140.000000</td>\n",
       "      <td>8064.000000</td>\n",
       "      <td>18140.000000</td>\n",
       "      <td>9085.000000</td>\n",
       "      <td>2.365000e+04</td>\n",
       "    </tr>\n",
       "    <tr>\n",
       "      <th>mean</th>\n",
       "      <td>60.329069</td>\n",
       "      <td>34.448356</td>\n",
       "      <td>10.566403</td>\n",
       "      <td>2.743677</td>\n",
       "      <td>2.070106</td>\n",
       "      <td>0.591712</td>\n",
       "      <td>5.893277</td>\n",
       "      <td>10.675875</td>\n",
       "      <td>9.862326</td>\n",
       "      <td>6.541127e+06</td>\n",
       "      <td>2017.370021</td>\n",
       "      <td>180.753200</td>\n",
       "      <td>14.197815</td>\n",
       "      <td>28.803240</td>\n",
       "      <td>0.611577</td>\n",
       "      <td>0.490801</td>\n",
       "      <td>0.769680</td>\n",
       "      <td>0.517941</td>\n",
       "      <td>9.943225e+04</td>\n",
       "    </tr>\n",
       "    <tr>\n",
       "      <th>std</th>\n",
       "      <td>35.661808</td>\n",
       "      <td>22.037664</td>\n",
       "      <td>5.901753</td>\n",
       "      <td>0.988099</td>\n",
       "      <td>1.078620</td>\n",
       "      <td>0.959662</td>\n",
       "      <td>4.883317</td>\n",
       "      <td>6.594823</td>\n",
       "      <td>5.682278</td>\n",
       "      <td>1.089640e+07</td>\n",
       "      <td>1.037806</td>\n",
       "      <td>219.777916</td>\n",
       "      <td>8.606827</td>\n",
       "      <td>12.637314</td>\n",
       "      <td>0.802003</td>\n",
       "      <td>0.342642</td>\n",
       "      <td>0.937948</td>\n",
       "      <td>0.277886</td>\n",
       "      <td>5.033794e+04</td>\n",
       "    </tr>\n",
       "    <tr>\n",
       "      <th>min</th>\n",
       "      <td>12.000000</td>\n",
       "      <td>2.000000</td>\n",
       "      <td>1.300000</td>\n",
       "      <td>1.000000</td>\n",
       "      <td>0.000000</td>\n",
       "      <td>0.000000</td>\n",
       "      <td>1.000000</td>\n",
       "      <td>1.000000</td>\n",
       "      <td>0.000000</td>\n",
       "      <td>1.219000e+04</td>\n",
       "      <td>2014.000000</td>\n",
       "      <td>1.000000</td>\n",
       "      <td>0.180000</td>\n",
       "      <td>0.000000</td>\n",
       "      <td>0.000000</td>\n",
       "      <td>0.000000</td>\n",
       "      <td>0.000000</td>\n",
       "      <td>0.010000</td>\n",
       "      <td>1.118300e+02</td>\n",
       "    </tr>\n",
       "    <tr>\n",
       "      <th>25%</th>\n",
       "      <td>40.000000</td>\n",
       "      <td>18.600000</td>\n",
       "      <td>7.000000</td>\n",
       "      <td>2.600000</td>\n",
       "      <td>1.000000</td>\n",
       "      <td>0.000000</td>\n",
       "      <td>2.000000</td>\n",
       "      <td>5.000000</td>\n",
       "      <td>6.000000</td>\n",
       "      <td>3.400000e+06</td>\n",
       "      <td>2017.000000</td>\n",
       "      <td>45.000000</td>\n",
       "      <td>9.240000</td>\n",
       "      <td>18.580000</td>\n",
       "      <td>0.000000</td>\n",
       "      <td>0.290000</td>\n",
       "      <td>0.000000</td>\n",
       "      <td>0.290000</td>\n",
       "      <td>7.661496e+04</td>\n",
       "    </tr>\n",
       "    <tr>\n",
       "      <th>50%</th>\n",
       "      <td>52.000000</td>\n",
       "      <td>30.000000</td>\n",
       "      <td>9.100000</td>\n",
       "      <td>2.700000</td>\n",
       "      <td>2.000000</td>\n",
       "      <td>0.000000</td>\n",
       "      <td>4.000000</td>\n",
       "      <td>9.000000</td>\n",
       "      <td>9.000000</td>\n",
       "      <td>4.650000e+06</td>\n",
       "      <td>2017.000000</td>\n",
       "      <td>95.000000</td>\n",
       "      <td>13.100000</td>\n",
       "      <td>26.760000</td>\n",
       "      <td>0.000000</td>\n",
       "      <td>0.455000</td>\n",
       "      <td>1.000000</td>\n",
       "      <td>0.500000</td>\n",
       "      <td>9.500000e+04</td>\n",
       "    </tr>\n",
       "    <tr>\n",
       "      <th>75%</th>\n",
       "      <td>69.700000</td>\n",
       "      <td>42.300000</td>\n",
       "      <td>12.000000</td>\n",
       "      <td>2.700000</td>\n",
       "      <td>3.000000</td>\n",
       "      <td>1.000000</td>\n",
       "      <td>8.000000</td>\n",
       "      <td>16.000000</td>\n",
       "      <td>14.000000</td>\n",
       "      <td>6.799000e+06</td>\n",
       "      <td>2018.000000</td>\n",
       "      <td>231.000000</td>\n",
       "      <td>16.290000</td>\n",
       "      <td>37.290000</td>\n",
       "      <td>1.000000</td>\n",
       "      <td>0.610000</td>\n",
       "      <td>1.000000</td>\n",
       "      <td>0.730000</td>\n",
       "      <td>1.142742e+05</td>\n",
       "    </tr>\n",
       "    <tr>\n",
       "      <th>max</th>\n",
       "      <td>900.000000</td>\n",
       "      <td>409.700000</td>\n",
       "      <td>112.000000</td>\n",
       "      <td>100.000000</td>\n",
       "      <td>19.000000</td>\n",
       "      <td>5.000000</td>\n",
       "      <td>33.000000</td>\n",
       "      <td>60.000000</td>\n",
       "      <td>50.000000</td>\n",
       "      <td>7.630000e+08</td>\n",
       "      <td>2019.000000</td>\n",
       "      <td>1580.000000</td>\n",
       "      <td>65.970000</td>\n",
       "      <td>84.870000</td>\n",
       "      <td>3.000000</td>\n",
       "      <td>3.190000</td>\n",
       "      <td>3.000000</td>\n",
       "      <td>1.340000</td>\n",
       "      <td>1.907500e+06</td>\n",
       "    </tr>\n",
       "  </tbody>\n",
       "</table>\n",
       "</div>"
      ],
      "text/plain": [
       "       total_area_m2  living_area_m2  kitchen_area_m2  ceiling_height_m  \\\n",
       "count   23650.000000    21752.000000     21381.000000      23650.000000   \n",
       "mean       60.329069       34.448356        10.566403          2.743677   \n",
       "std        35.661808       22.037664         5.901753          0.988099   \n",
       "min        12.000000        2.000000         1.300000          1.000000   \n",
       "25%        40.000000       18.600000         7.000000          2.600000   \n",
       "50%        52.000000       30.000000         9.100000          2.700000   \n",
       "75%        69.700000       42.300000        12.000000          2.700000   \n",
       "max       900.000000      409.700000       112.000000        100.000000   \n",
       "\n",
       "       number_of_rooms  number_of_balconies         floor  \\\n",
       "count     23650.000000         23650.000000  23650.000000   \n",
       "mean          2.070106             0.591712      5.893277   \n",
       "std           1.078620             0.959662      4.883317   \n",
       "min           0.000000             0.000000      1.000000   \n",
       "25%           1.000000             0.000000      2.000000   \n",
       "50%           2.000000             0.000000      4.000000   \n",
       "75%           3.000000             1.000000      8.000000   \n",
       "max          19.000000             5.000000     33.000000   \n",
       "\n",
       "       total_floors_in_house  total_images    last_price  year_exposition  \\\n",
       "count           23565.000000  23650.000000  2.365000e+04     23650.000000   \n",
       "mean               10.675875      9.862326  6.541127e+06      2017.370021   \n",
       "std                 6.594823      5.682278  1.089640e+07         1.037806   \n",
       "min                 1.000000      0.000000  1.219000e+04      2014.000000   \n",
       "25%                 5.000000      6.000000  3.400000e+06      2017.000000   \n",
       "50%                 9.000000      9.000000  4.650000e+06      2017.000000   \n",
       "75%                16.000000     14.000000  6.799000e+06      2018.000000   \n",
       "max                60.000000     50.000000  7.630000e+08      2019.000000   \n",
       "\n",
       "       days_exposition  city_center_distance_km  nearest_airport_distance_km  \\\n",
       "count     20470.000000             18139.000000                 18116.000000   \n",
       "mean        180.753200                14.197815                    28.803240   \n",
       "std         219.777916                 8.606827                    12.637314   \n",
       "min           1.000000                 0.180000                     0.000000   \n",
       "25%          45.000000                 9.240000                    18.580000   \n",
       "50%          95.000000                13.100000                    26.760000   \n",
       "75%         231.000000                16.290000                    37.290000   \n",
       "max        1580.000000                65.970000                    84.870000   \n",
       "\n",
       "       parks_numbers_within_3km  nearest_park_distance_km  \\\n",
       "count              18140.000000               8064.000000   \n",
       "mean                   0.611577                  0.490801   \n",
       "std                    0.802003                  0.342642   \n",
       "min                    0.000000                  0.000000   \n",
       "25%                    0.000000                  0.290000   \n",
       "50%                    0.000000                  0.455000   \n",
       "75%                    1.000000                  0.610000   \n",
       "max                    3.000000                  3.190000   \n",
       "\n",
       "       ponds_number_within_3km  nearest_pond_distance_km  price_per_meter  \n",
       "count             18140.000000               9085.000000     2.365000e+04  \n",
       "mean                  0.769680                  0.517941     9.943225e+04  \n",
       "std                   0.937948                  0.277886     5.033794e+04  \n",
       "min                   0.000000                  0.010000     1.118300e+02  \n",
       "25%                   0.000000                  0.290000     7.661496e+04  \n",
       "50%                   1.000000                  0.500000     9.500000e+04  \n",
       "75%                   1.000000                  0.730000     1.142742e+05  \n",
       "max                   3.000000                  1.340000     1.907500e+06  "
      ]
     },
     "execution_count": 49,
     "metadata": {},
     "output_type": "execute_result"
    }
   ],
   "source": [
    "# Оценим итог\n",
    "# Здесь не отображаются столбцы с булевым типом данных (побороть это не получилось :с)\n",
    "data.describe() "
   ]
  },
  {
   "cell_type": "code",
   "execution_count": 50,
   "metadata": {},
   "outputs": [],
   "source": [
    "# Округлим расстояние до центра города\n",
    "data['city_center_distance_km'] = round(data['city_center_distance_km'])"
   ]
  },
  {
   "cell_type": "code",
   "execution_count": 51,
   "metadata": {},
   "outputs": [
    {
     "data": {
      "text/html": [
       "<div>\n",
       "<style scoped>\n",
       "    .dataframe tbody tr th:only-of-type {\n",
       "        vertical-align: middle;\n",
       "    }\n",
       "\n",
       "    .dataframe tbody tr th {\n",
       "        vertical-align: top;\n",
       "    }\n",
       "\n",
       "    .dataframe thead th {\n",
       "        text-align: right;\n",
       "    }\n",
       "</style>\n",
       "<table border=\"1\" class=\"dataframe\">\n",
       "  <thead>\n",
       "    <tr style=\"text-align: right;\">\n",
       "      <th></th>\n",
       "      <th>town_name</th>\n",
       "      <th>total_area_m2</th>\n",
       "      <th>living_area_m2</th>\n",
       "      <th>kitchen_area_m2</th>\n",
       "      <th>ceiling_height_m</th>\n",
       "      <th>number_of_rooms</th>\n",
       "      <th>number_of_balconies</th>\n",
       "      <th>floor</th>\n",
       "      <th>total_floors_in_house</th>\n",
       "      <th>is_apartment</th>\n",
       "      <th>is_studio</th>\n",
       "      <th>is_open_plan</th>\n",
       "      <th>total_images</th>\n",
       "      <th>last_price</th>\n",
       "      <th>first_day_exposition</th>\n",
       "      <th>day_of_week_exposition</th>\n",
       "      <th>month_exposition</th>\n",
       "      <th>year_exposition</th>\n",
       "      <th>days_exposition</th>\n",
       "      <th>city_center_distance_km</th>\n",
       "      <th>nearest_airport_distance_km</th>\n",
       "      <th>parks_numbers_within_3km</th>\n",
       "      <th>nearest_park_distance_km</th>\n",
       "      <th>ponds_number_within_3km</th>\n",
       "      <th>nearest_pond_distance_km</th>\n",
       "      <th>floor_status</th>\n",
       "      <th>price_per_meter</th>\n",
       "    </tr>\n",
       "  </thead>\n",
       "  <tbody>\n",
       "    <tr>\n",
       "      <th>0</th>\n",
       "      <td>санкт-петербург</td>\n",
       "      <td>108.0</td>\n",
       "      <td>51.0</td>\n",
       "      <td>25.0</td>\n",
       "      <td>2.70</td>\n",
       "      <td>3</td>\n",
       "      <td>0</td>\n",
       "      <td>8</td>\n",
       "      <td>16.0</td>\n",
       "      <td>False</td>\n",
       "      <td>False</td>\n",
       "      <td>False</td>\n",
       "      <td>20</td>\n",
       "      <td>13000000.0</td>\n",
       "      <td>2019-03-07</td>\n",
       "      <td>Thursday</td>\n",
       "      <td>March</td>\n",
       "      <td>2019</td>\n",
       "      <td>NaN</td>\n",
       "      <td>16.0</td>\n",
       "      <td>18.86</td>\n",
       "      <td>1.0</td>\n",
       "      <td>0.48</td>\n",
       "      <td>2.0</td>\n",
       "      <td>0.76</td>\n",
       "      <td>другой</td>\n",
       "      <td>120370.37</td>\n",
       "    </tr>\n",
       "    <tr>\n",
       "      <th>1</th>\n",
       "      <td>поселок шушары</td>\n",
       "      <td>40.4</td>\n",
       "      <td>18.6</td>\n",
       "      <td>11.0</td>\n",
       "      <td>2.70</td>\n",
       "      <td>1</td>\n",
       "      <td>2</td>\n",
       "      <td>1</td>\n",
       "      <td>11.0</td>\n",
       "      <td>False</td>\n",
       "      <td>False</td>\n",
       "      <td>False</td>\n",
       "      <td>7</td>\n",
       "      <td>3350000.0</td>\n",
       "      <td>2018-12-04</td>\n",
       "      <td>Tuesday</td>\n",
       "      <td>December</td>\n",
       "      <td>2018</td>\n",
       "      <td>81.0</td>\n",
       "      <td>19.0</td>\n",
       "      <td>12.82</td>\n",
       "      <td>0.0</td>\n",
       "      <td>NaN</td>\n",
       "      <td>0.0</td>\n",
       "      <td>NaN</td>\n",
       "      <td>первый</td>\n",
       "      <td>82920.79</td>\n",
       "    </tr>\n",
       "    <tr>\n",
       "      <th>2</th>\n",
       "      <td>санкт-петербург</td>\n",
       "      <td>56.0</td>\n",
       "      <td>34.3</td>\n",
       "      <td>8.3</td>\n",
       "      <td>2.70</td>\n",
       "      <td>2</td>\n",
       "      <td>0</td>\n",
       "      <td>4</td>\n",
       "      <td>5.0</td>\n",
       "      <td>False</td>\n",
       "      <td>False</td>\n",
       "      <td>False</td>\n",
       "      <td>10</td>\n",
       "      <td>5196000.0</td>\n",
       "      <td>2015-08-20</td>\n",
       "      <td>Thursday</td>\n",
       "      <td>August</td>\n",
       "      <td>2015</td>\n",
       "      <td>558.0</td>\n",
       "      <td>14.0</td>\n",
       "      <td>21.74</td>\n",
       "      <td>1.0</td>\n",
       "      <td>0.09</td>\n",
       "      <td>2.0</td>\n",
       "      <td>0.57</td>\n",
       "      <td>другой</td>\n",
       "      <td>92785.71</td>\n",
       "    </tr>\n",
       "    <tr>\n",
       "      <th>3</th>\n",
       "      <td>санкт-петербург</td>\n",
       "      <td>159.0</td>\n",
       "      <td>NaN</td>\n",
       "      <td>NaN</td>\n",
       "      <td>2.70</td>\n",
       "      <td>3</td>\n",
       "      <td>0</td>\n",
       "      <td>9</td>\n",
       "      <td>14.0</td>\n",
       "      <td>False</td>\n",
       "      <td>False</td>\n",
       "      <td>False</td>\n",
       "      <td>0</td>\n",
       "      <td>64900000.0</td>\n",
       "      <td>2015-07-24</td>\n",
       "      <td>Friday</td>\n",
       "      <td>July</td>\n",
       "      <td>2015</td>\n",
       "      <td>424.0</td>\n",
       "      <td>7.0</td>\n",
       "      <td>28.10</td>\n",
       "      <td>2.0</td>\n",
       "      <td>0.08</td>\n",
       "      <td>3.0</td>\n",
       "      <td>0.23</td>\n",
       "      <td>другой</td>\n",
       "      <td>408176.10</td>\n",
       "    </tr>\n",
       "    <tr>\n",
       "      <th>4</th>\n",
       "      <td>санкт-петербург</td>\n",
       "      <td>100.0</td>\n",
       "      <td>32.0</td>\n",
       "      <td>41.0</td>\n",
       "      <td>3.03</td>\n",
       "      <td>2</td>\n",
       "      <td>0</td>\n",
       "      <td>13</td>\n",
       "      <td>14.0</td>\n",
       "      <td>False</td>\n",
       "      <td>False</td>\n",
       "      <td>False</td>\n",
       "      <td>2</td>\n",
       "      <td>10000000.0</td>\n",
       "      <td>2018-06-19</td>\n",
       "      <td>Tuesday</td>\n",
       "      <td>June</td>\n",
       "      <td>2018</td>\n",
       "      <td>121.0</td>\n",
       "      <td>8.0</td>\n",
       "      <td>31.86</td>\n",
       "      <td>2.0</td>\n",
       "      <td>0.11</td>\n",
       "      <td>1.0</td>\n",
       "      <td>0.05</td>\n",
       "      <td>другой</td>\n",
       "      <td>100000.00</td>\n",
       "    </tr>\n",
       "  </tbody>\n",
       "</table>\n",
       "</div>"
      ],
      "text/plain": [
       "         town_name  total_area_m2  living_area_m2  kitchen_area_m2  \\\n",
       "0  санкт-петербург          108.0            51.0             25.0   \n",
       "1   поселок шушары           40.4            18.6             11.0   \n",
       "2  санкт-петербург           56.0            34.3              8.3   \n",
       "3  санкт-петербург          159.0             NaN              NaN   \n",
       "4  санкт-петербург          100.0            32.0             41.0   \n",
       "\n",
       "   ceiling_height_m  number_of_rooms  number_of_balconies  floor  \\\n",
       "0              2.70                3                    0      8   \n",
       "1              2.70                1                    2      1   \n",
       "2              2.70                2                    0      4   \n",
       "3              2.70                3                    0      9   \n",
       "4              3.03                2                    0     13   \n",
       "\n",
       "   total_floors_in_house  is_apartment  is_studio  is_open_plan  total_images  \\\n",
       "0                   16.0         False      False         False            20   \n",
       "1                   11.0         False      False         False             7   \n",
       "2                    5.0         False      False         False            10   \n",
       "3                   14.0         False      False         False             0   \n",
       "4                   14.0         False      False         False             2   \n",
       "\n",
       "   last_price first_day_exposition day_of_week_exposition month_exposition  \\\n",
       "0  13000000.0           2019-03-07               Thursday            March   \n",
       "1   3350000.0           2018-12-04                Tuesday         December   \n",
       "2   5196000.0           2015-08-20               Thursday           August   \n",
       "3  64900000.0           2015-07-24                 Friday             July   \n",
       "4  10000000.0           2018-06-19                Tuesday             June   \n",
       "\n",
       "   year_exposition  days_exposition  city_center_distance_km  \\\n",
       "0             2019              NaN                     16.0   \n",
       "1             2018             81.0                     19.0   \n",
       "2             2015            558.0                     14.0   \n",
       "3             2015            424.0                      7.0   \n",
       "4             2018            121.0                      8.0   \n",
       "\n",
       "   nearest_airport_distance_km  parks_numbers_within_3km  \\\n",
       "0                        18.86                       1.0   \n",
       "1                        12.82                       0.0   \n",
       "2                        21.74                       1.0   \n",
       "3                        28.10                       2.0   \n",
       "4                        31.86                       2.0   \n",
       "\n",
       "   nearest_park_distance_km  ponds_number_within_3km  \\\n",
       "0                      0.48                      2.0   \n",
       "1                       NaN                      0.0   \n",
       "2                      0.09                      2.0   \n",
       "3                      0.08                      3.0   \n",
       "4                      0.11                      1.0   \n",
       "\n",
       "   nearest_pond_distance_km floor_status  price_per_meter  \n",
       "0                      0.76       другой        120370.37  \n",
       "1                       NaN       первый         82920.79  \n",
       "2                      0.57       другой         92785.71  \n",
       "3                      0.23       другой        408176.10  \n",
       "4                      0.05       другой        100000.00  "
      ]
     },
     "execution_count": 51,
     "metadata": {},
     "output_type": "execute_result"
    }
   ],
   "source": [
    "data.head()"
   ]
  },
  {
   "cell_type": "code",
   "execution_count": 52,
   "metadata": {},
   "outputs": [],
   "source": [
    "# Добавили столбцы согласно заданию"
   ]
  },
  {
   "cell_type": "markdown",
   "metadata": {},
   "source": [
    "Вывод: в данных наблюдаются неправдоподобные значения (0 комнат, высоты потолков в 1 или 100 метров, а также цена квартиры в 12190 рублей - как примеры). Выбросы уточним у коллег, предоставивших нам выборку данных а для общего изучения данных, мы не станем убирать эти выбивающиеся значения - не отразится на общих тенденциях, их можно будет оценить."
   ]
  },
  {
   "cell_type": "markdown",
   "metadata": {},
   "source": [
    "<div class=\"alert alert-success\">\n",
    "<h2> Комментарий ревьюера <a class=\"tocSkip\"> </h2>\n",
    "\n",
    "<b>Все супер!👍:</b> Хорошо, молодец!"
   ]
  },
  {
   "cell_type": "markdown",
   "metadata": {},
   "source": [
    "<div class=\"alert alert-warning\">\n",
    "    <h2> Комментарий ревьюера <a class=\"tocSkip\"> </h2>\n",
    "    \n",
    "<b>Небольшие замечания и рекомендации💡:</b> Предобработка данных завершена, а мы так и не посмотрели/убрвли выбросы в столбцах :("
   ]
  },
  {
   "cell_type": "markdown",
   "metadata": {},
   "source": [
    "### Проведите исследовательский анализ данных\n",
    "\n",
    "#### Изучите следующие параметры объектов"
   ]
  },
  {
   "cell_type": "code",
   "execution_count": 53,
   "metadata": {},
   "outputs": [
    {
     "data": {
      "text/html": [
       "<div>\n",
       "<style scoped>\n",
       "    .dataframe tbody tr th:only-of-type {\n",
       "        vertical-align: middle;\n",
       "    }\n",
       "\n",
       "    .dataframe tbody tr th {\n",
       "        vertical-align: top;\n",
       "    }\n",
       "\n",
       "    .dataframe thead th {\n",
       "        text-align: right;\n",
       "    }\n",
       "</style>\n",
       "<table border=\"1\" class=\"dataframe\">\n",
       "  <thead>\n",
       "    <tr style=\"text-align: right;\">\n",
       "      <th></th>\n",
       "      <th>town_name</th>\n",
       "      <th>total_area_m2</th>\n",
       "      <th>living_area_m2</th>\n",
       "      <th>kitchen_area_m2</th>\n",
       "      <th>ceiling_height_m</th>\n",
       "      <th>number_of_rooms</th>\n",
       "      <th>number_of_balconies</th>\n",
       "      <th>floor</th>\n",
       "      <th>total_floors_in_house</th>\n",
       "      <th>is_apartment</th>\n",
       "      <th>is_studio</th>\n",
       "      <th>is_open_plan</th>\n",
       "      <th>total_images</th>\n",
       "      <th>last_price</th>\n",
       "      <th>first_day_exposition</th>\n",
       "      <th>day_of_week_exposition</th>\n",
       "      <th>month_exposition</th>\n",
       "      <th>year_exposition</th>\n",
       "      <th>days_exposition</th>\n",
       "      <th>city_center_distance_km</th>\n",
       "      <th>nearest_airport_distance_km</th>\n",
       "      <th>parks_numbers_within_3km</th>\n",
       "      <th>nearest_park_distance_km</th>\n",
       "      <th>ponds_number_within_3km</th>\n",
       "      <th>nearest_pond_distance_km</th>\n",
       "      <th>floor_status</th>\n",
       "      <th>price_per_meter</th>\n",
       "    </tr>\n",
       "  </thead>\n",
       "  <tbody>\n",
       "    <tr>\n",
       "      <th>0</th>\n",
       "      <td>санкт-петербург</td>\n",
       "      <td>108.0</td>\n",
       "      <td>51.0</td>\n",
       "      <td>25.0</td>\n",
       "      <td>2.70</td>\n",
       "      <td>3</td>\n",
       "      <td>0</td>\n",
       "      <td>8</td>\n",
       "      <td>16.0</td>\n",
       "      <td>False</td>\n",
       "      <td>False</td>\n",
       "      <td>False</td>\n",
       "      <td>20</td>\n",
       "      <td>13000000.0</td>\n",
       "      <td>2019-03-07</td>\n",
       "      <td>Thursday</td>\n",
       "      <td>March</td>\n",
       "      <td>2019</td>\n",
       "      <td>NaN</td>\n",
       "      <td>16.0</td>\n",
       "      <td>18.86</td>\n",
       "      <td>1.0</td>\n",
       "      <td>0.48</td>\n",
       "      <td>2.0</td>\n",
       "      <td>0.76</td>\n",
       "      <td>другой</td>\n",
       "      <td>120370.37</td>\n",
       "    </tr>\n",
       "    <tr>\n",
       "      <th>1</th>\n",
       "      <td>поселок шушары</td>\n",
       "      <td>40.4</td>\n",
       "      <td>18.6</td>\n",
       "      <td>11.0</td>\n",
       "      <td>2.70</td>\n",
       "      <td>1</td>\n",
       "      <td>2</td>\n",
       "      <td>1</td>\n",
       "      <td>11.0</td>\n",
       "      <td>False</td>\n",
       "      <td>False</td>\n",
       "      <td>False</td>\n",
       "      <td>7</td>\n",
       "      <td>3350000.0</td>\n",
       "      <td>2018-12-04</td>\n",
       "      <td>Tuesday</td>\n",
       "      <td>December</td>\n",
       "      <td>2018</td>\n",
       "      <td>81.0</td>\n",
       "      <td>19.0</td>\n",
       "      <td>12.82</td>\n",
       "      <td>0.0</td>\n",
       "      <td>NaN</td>\n",
       "      <td>0.0</td>\n",
       "      <td>NaN</td>\n",
       "      <td>первый</td>\n",
       "      <td>82920.79</td>\n",
       "    </tr>\n",
       "    <tr>\n",
       "      <th>2</th>\n",
       "      <td>санкт-петербург</td>\n",
       "      <td>56.0</td>\n",
       "      <td>34.3</td>\n",
       "      <td>8.3</td>\n",
       "      <td>2.70</td>\n",
       "      <td>2</td>\n",
       "      <td>0</td>\n",
       "      <td>4</td>\n",
       "      <td>5.0</td>\n",
       "      <td>False</td>\n",
       "      <td>False</td>\n",
       "      <td>False</td>\n",
       "      <td>10</td>\n",
       "      <td>5196000.0</td>\n",
       "      <td>2015-08-20</td>\n",
       "      <td>Thursday</td>\n",
       "      <td>August</td>\n",
       "      <td>2015</td>\n",
       "      <td>558.0</td>\n",
       "      <td>14.0</td>\n",
       "      <td>21.74</td>\n",
       "      <td>1.0</td>\n",
       "      <td>0.09</td>\n",
       "      <td>2.0</td>\n",
       "      <td>0.57</td>\n",
       "      <td>другой</td>\n",
       "      <td>92785.71</td>\n",
       "    </tr>\n",
       "    <tr>\n",
       "      <th>3</th>\n",
       "      <td>санкт-петербург</td>\n",
       "      <td>159.0</td>\n",
       "      <td>NaN</td>\n",
       "      <td>NaN</td>\n",
       "      <td>2.70</td>\n",
       "      <td>3</td>\n",
       "      <td>0</td>\n",
       "      <td>9</td>\n",
       "      <td>14.0</td>\n",
       "      <td>False</td>\n",
       "      <td>False</td>\n",
       "      <td>False</td>\n",
       "      <td>0</td>\n",
       "      <td>64900000.0</td>\n",
       "      <td>2015-07-24</td>\n",
       "      <td>Friday</td>\n",
       "      <td>July</td>\n",
       "      <td>2015</td>\n",
       "      <td>424.0</td>\n",
       "      <td>7.0</td>\n",
       "      <td>28.10</td>\n",
       "      <td>2.0</td>\n",
       "      <td>0.08</td>\n",
       "      <td>3.0</td>\n",
       "      <td>0.23</td>\n",
       "      <td>другой</td>\n",
       "      <td>408176.10</td>\n",
       "    </tr>\n",
       "    <tr>\n",
       "      <th>4</th>\n",
       "      <td>санкт-петербург</td>\n",
       "      <td>100.0</td>\n",
       "      <td>32.0</td>\n",
       "      <td>41.0</td>\n",
       "      <td>3.03</td>\n",
       "      <td>2</td>\n",
       "      <td>0</td>\n",
       "      <td>13</td>\n",
       "      <td>14.0</td>\n",
       "      <td>False</td>\n",
       "      <td>False</td>\n",
       "      <td>False</td>\n",
       "      <td>2</td>\n",
       "      <td>10000000.0</td>\n",
       "      <td>2018-06-19</td>\n",
       "      <td>Tuesday</td>\n",
       "      <td>June</td>\n",
       "      <td>2018</td>\n",
       "      <td>121.0</td>\n",
       "      <td>8.0</td>\n",
       "      <td>31.86</td>\n",
       "      <td>2.0</td>\n",
       "      <td>0.11</td>\n",
       "      <td>1.0</td>\n",
       "      <td>0.05</td>\n",
       "      <td>другой</td>\n",
       "      <td>100000.00</td>\n",
       "    </tr>\n",
       "  </tbody>\n",
       "</table>\n",
       "</div>"
      ],
      "text/plain": [
       "         town_name  total_area_m2  living_area_m2  kitchen_area_m2  \\\n",
       "0  санкт-петербург          108.0            51.0             25.0   \n",
       "1   поселок шушары           40.4            18.6             11.0   \n",
       "2  санкт-петербург           56.0            34.3              8.3   \n",
       "3  санкт-петербург          159.0             NaN              NaN   \n",
       "4  санкт-петербург          100.0            32.0             41.0   \n",
       "\n",
       "   ceiling_height_m  number_of_rooms  number_of_balconies  floor  \\\n",
       "0              2.70                3                    0      8   \n",
       "1              2.70                1                    2      1   \n",
       "2              2.70                2                    0      4   \n",
       "3              2.70                3                    0      9   \n",
       "4              3.03                2                    0     13   \n",
       "\n",
       "   total_floors_in_house  is_apartment  is_studio  is_open_plan  total_images  \\\n",
       "0                   16.0         False      False         False            20   \n",
       "1                   11.0         False      False         False             7   \n",
       "2                    5.0         False      False         False            10   \n",
       "3                   14.0         False      False         False             0   \n",
       "4                   14.0         False      False         False             2   \n",
       "\n",
       "   last_price first_day_exposition day_of_week_exposition month_exposition  \\\n",
       "0  13000000.0           2019-03-07               Thursday            March   \n",
       "1   3350000.0           2018-12-04                Tuesday         December   \n",
       "2   5196000.0           2015-08-20               Thursday           August   \n",
       "3  64900000.0           2015-07-24                 Friday             July   \n",
       "4  10000000.0           2018-06-19                Tuesday             June   \n",
       "\n",
       "   year_exposition  days_exposition  city_center_distance_km  \\\n",
       "0             2019              NaN                     16.0   \n",
       "1             2018             81.0                     19.0   \n",
       "2             2015            558.0                     14.0   \n",
       "3             2015            424.0                      7.0   \n",
       "4             2018            121.0                      8.0   \n",
       "\n",
       "   nearest_airport_distance_km  parks_numbers_within_3km  \\\n",
       "0                        18.86                       1.0   \n",
       "1                        12.82                       0.0   \n",
       "2                        21.74                       1.0   \n",
       "3                        28.10                       2.0   \n",
       "4                        31.86                       2.0   \n",
       "\n",
       "   nearest_park_distance_km  ponds_number_within_3km  \\\n",
       "0                      0.48                      2.0   \n",
       "1                       NaN                      0.0   \n",
       "2                      0.09                      2.0   \n",
       "3                      0.08                      3.0   \n",
       "4                      0.11                      1.0   \n",
       "\n",
       "   nearest_pond_distance_km floor_status  price_per_meter  \n",
       "0                      0.76       другой        120370.37  \n",
       "1                       NaN       первый         82920.79  \n",
       "2                      0.57       другой         92785.71  \n",
       "3                      0.23       другой        408176.10  \n",
       "4                      0.05       другой        100000.00  "
      ]
     },
     "execution_count": 53,
     "metadata": {},
     "output_type": "execute_result"
    }
   ],
   "source": [
    "data.head()"
   ]
  },
  {
   "cell_type": "markdown",
   "metadata": {},
   "source": [
    "<div class=\"alert alert-warning\">\n",
    "    <h2> Комментарий ревьюера <a class=\"tocSkip\"> </h2>\n",
    "    \n",
    "<b>Небольшие замечания и рекомендации💡:</b> Ага, вот здесь точно все то, что ты зарешетила можно перевести в markdown ;)"
   ]
  },
  {
   "cell_type": "code",
   "execution_count": 54,
   "metadata": {},
   "outputs": [
    {
     "data": {
      "text/plain": [
       "count    23650.000000\n",
       "mean        60.329069\n",
       "std         35.661808\n",
       "min         12.000000\n",
       "25%         40.000000\n",
       "50%         52.000000\n",
       "75%         69.700000\n",
       "max        900.000000\n",
       "Name: total_area_m2, dtype: float64"
      ]
     },
     "execution_count": 54,
     "metadata": {},
     "output_type": "execute_result"
    },
    {
     "data": {
      "image/png": "[encoded data removed]",
      "text/plain": [
       "<Figure size 720x432 with 1 Axes>"
      ]
     },
     "metadata": {
      "needs_background": "light"
     },
     "output_type": "display_data"
    }
   ],
   "source": [
    "# Изучим общую площадь\n",
    "data.plot(y = 'total_area_m2', kind = 'hist', bins = 100, grid=True, figsize = (10,6), range = (0,300))\n",
    "data['total_area_m2'].describe()\n",
    "# Для красоты графиков здесь и далее определен диапазон графиков\n",
    "# Общая площадь в нашей выборке колеблется от 12 до 900 м2, среднее значение 60, а медиана 52 м2. Распределение данных Гаусса.е"
   ]
  },
  {
   "cell_type": "markdown",
   "metadata": {},
   "source": [
    "<div class=\"alert alert-success\">\n",
    "<h2> Комментарий ревьюера <a class=\"tocSkip\"> </h2>\n",
    "\n",
    "<b>Все супер!👍:</b> Верно)"
   ]
  },
  {
   "cell_type": "code",
   "execution_count": 55,
   "metadata": {},
   "outputs": [
    {
     "data": {
      "text/plain": [
       "count    21752.000000\n",
       "mean        34.448356\n",
       "std         22.037664\n",
       "min          2.000000\n",
       "25%         18.600000\n",
       "50%         30.000000\n",
       "75%         42.300000\n",
       "max        409.700000\n",
       "Name: living_area_m2, dtype: float64"
      ]
     },
     "execution_count": 55,
     "metadata": {},
     "output_type": "execute_result"
    },
    {
     "data": {
      "image/png": "[encoded data removed]",
      "text/plain": [
       "<Figure size 720x432 with 1 Axes>"
      ]
     },
     "metadata": {
      "needs_background": "light"
     },
     "output_type": "display_data"
    }
   ],
   "source": [
    "# Изучим жилую площадь\n",
    "data.plot(y = 'living_area_m2', kind = 'hist', bins = 100, grid=True, figsize = (10,6), range = (0,200))\n",
    "data['living_area_m2'].describe()\n",
    "# В общем жилая площадь колеблется от 25 до 50 м2."
   ]
  },
  {
   "cell_type": "markdown",
   "metadata": {},
   "source": [
    "<div class=\"alert alert-success\">\n",
    "<h2> Комментарий ревьюера <a class=\"tocSkip\"> </h2>\n",
    "\n",
    "<b>Все супер!👍:</b> Хорошо"
   ]
  },
  {
   "cell_type": "code",
   "execution_count": 56,
   "metadata": {},
   "outputs": [
    {
     "data": {
      "text/plain": [
       "count    21381.000000\n",
       "mean        10.566403\n",
       "std          5.901753\n",
       "min          1.300000\n",
       "25%          7.000000\n",
       "50%          9.100000\n",
       "75%         12.000000\n",
       "max        112.000000\n",
       "Name: kitchen_area_m2, dtype: float64"
      ]
     },
     "execution_count": 56,
     "metadata": {},
     "output_type": "execute_result"
    },
    {
     "data": {
      "image/png": "[encoded data removed]",
      "text/plain": [
       "<Figure size 720x432 with 1 Axes>"
      ]
     },
     "metadata": {
      "needs_background": "light"
     },
     "output_type": "display_data"
    }
   ],
   "source": [
    "# Изучим площадь кухни\n",
    "data.plot(y = 'kitchen_area_m2', kind = 'hist', bins = 100, grid=True, figsize = (10,6), range = (0,60))\n",
    "data['kitchen_area_m2'].describe()\n",
    "# Площадь кухни - от 5 до 15 м2"
   ]
  },
  {
   "cell_type": "markdown",
   "metadata": {},
   "source": [
    "<div class=\"alert alert-success\">\n",
    "<h2> Комментарий ревьюера <a class=\"tocSkip\"> </h2>\n",
    "\n",
    "<b>Все супер!👍:</b> Да, соотвествует действиетльности"
   ]
  },
  {
   "cell_type": "code",
   "execution_count": 57,
   "metadata": {},
   "outputs": [
    {
     "data": {
      "text/plain": [
       "count    2.365000e+04\n",
       "mean     6.541127e+06\n",
       "std      1.089640e+07\n",
       "min      1.219000e+04\n",
       "25%      3.400000e+06\n",
       "50%      4.650000e+06\n",
       "75%      6.799000e+06\n",
       "max      7.630000e+08\n",
       "Name: last_price, dtype: float64"
      ]
     },
     "execution_count": 57,
     "metadata": {},
     "output_type": "execute_result"
    },
    {
     "data": {
      "image/png": "[encoded data removed]",
      "text/plain": [
       "<Figure size 720x432 with 1 Axes>"
      ]
     },
     "metadata": {
      "needs_background": "light"
     },
     "output_type": "display_data"
    }
   ],
   "source": [
    "# Изучим цену объекта\n",
    "data.plot(y = 'last_price', kind = 'hist', bins = 100, grid=True, figsize = (10,6), range = (0,20000000))\n",
    "data['last_price'].describe()\n",
    "# Цены на недвижимость имеют среднее значение в 6,5 млн руб., медиана 4,6 млн руб. Распределение данных Гаусса."
   ]
  },
  {
   "cell_type": "markdown",
   "metadata": {},
   "source": [
    "<div class=\"alert alert-success\">\n",
    "<h2> Комментарий ревьюера <a class=\"tocSkip\"> </h2>\n",
    "\n",
    "<b>Все супер!👍:</b> Верно"
   ]
  },
  {
   "cell_type": "code",
   "execution_count": 58,
   "metadata": {},
   "outputs": [
    {
     "data": {
      "text/plain": [
       "count    23650.000000\n",
       "mean         2.070106\n",
       "std          1.078620\n",
       "min          0.000000\n",
       "25%          1.000000\n",
       "50%          2.000000\n",
       "75%          3.000000\n",
       "max         19.000000\n",
       "Name: number_of_rooms, dtype: float64"
      ]
     },
     "execution_count": 58,
     "metadata": {},
     "output_type": "execute_result"
    },
    {
     "data": {
      "image/png": "[encoded data removed]",
      "text/plain": [
       "<Figure size 720x432 with 1 Axes>"
      ]
     },
     "metadata": {
      "needs_background": "light"
     },
     "output_type": "display_data"
    }
   ],
   "source": [
    "# Изучим количество комнат\n",
    "data.plot(y = 'number_of_rooms', kind = 'hist', bins = 30, grid=True, figsize = (10,6), range = (0,10))\n",
    "data['number_of_rooms'].describe()\n",
    "# Количество комнат колеблется от 1 до 19. Больше всего однокомнатных квартир."
   ]
  },
  {
   "cell_type": "markdown",
   "metadata": {},
   "source": [
    "<div class=\"alert alert-warning\">\n",
    "    <h2> Комментарий ревьюера <a class=\"tocSkip\"> </h2>\n",
    "    \n",
    "<b>Небольшие замечания и рекомендации💡:</b> От скольки до скольки??)"
   ]
  },
  {
   "cell_type": "code",
   "execution_count": 59,
   "metadata": {},
   "outputs": [
    {
     "data": {
      "text/plain": [
       "count    23650.000000\n",
       "mean         2.743677\n",
       "std          0.988099\n",
       "min          1.000000\n",
       "25%          2.600000\n",
       "50%          2.700000\n",
       "75%          2.700000\n",
       "max        100.000000\n",
       "Name: ceiling_height_m, dtype: float64"
      ]
     },
     "execution_count": 59,
     "metadata": {},
     "output_type": "execute_result"
    },
    {
     "data": {
      "image/png": "[encoded data removed]",
      "text/plain": [
       "<Figure size 720x432 with 1 Axes>"
      ]
     },
     "metadata": {
      "needs_background": "light"
     },
     "output_type": "display_data"
    }
   ],
   "source": [
    "# Изучим высоту потолков\n",
    "data.plot(y = 'ceiling_height_m', kind = 'hist', bins = 30, grid=True, figsize = (10,6), range = (2,5))\n",
    "data['ceiling_height_m'].describe()\n",
    "# Высота потолков в среднем составляет 2,77 м, медиана 2,65 м."
   ]
  },
  {
   "cell_type": "markdown",
   "metadata": {},
   "source": [
    "<div class=\"alert alert-success\">\n",
    "<h2> Комментарий ревьюера <a class=\"tocSkip\"> </h2>\n",
    "\n",
    "<b>Все супер!👍:</b> Хорошо)"
   ]
  },
  {
   "cell_type": "code",
   "execution_count": 60,
   "metadata": {},
   "outputs": [
    {
     "data": {
      "text/plain": [
       "count    23650.000000\n",
       "mean         5.893277\n",
       "std          4.883317\n",
       "min          1.000000\n",
       "25%          2.000000\n",
       "50%          4.000000\n",
       "75%          8.000000\n",
       "max         33.000000\n",
       "Name: floor, dtype: float64"
      ]
     },
     "execution_count": 60,
     "metadata": {},
     "output_type": "execute_result"
    },
    {
     "data": {
      "image/png": "[encoded data removed]",
      "text/plain": [
       "<Figure size 720x432 with 1 Axes>"
      ]
     },
     "metadata": {
      "needs_background": "light"
     },
     "output_type": "display_data"
    }
   ],
   "source": [
    "# изучим этаж квартиры\n",
    "data.plot(y = 'floor', kind = 'hist', bins = 100, grid=True, figsize = (10,6), range = (0,35))\n",
    "data['floor'].describe()\n",
    "# Квартир на этажах > 5 меньше в выборке"
   ]
  },
  {
   "cell_type": "markdown",
   "metadata": {},
   "source": [
    "<div class=\"alert alert-success\">\n",
    "<h2> Комментарий ревьюера <a class=\"tocSkip\"> </h2>\n",
    "\n",
    "<b>Все супер!👍:</b>Верно"
   ]
  },
  {
   "cell_type": "code",
   "execution_count": 61,
   "metadata": {},
   "outputs": [
    {
     "data": {
      "text/html": [
       "<div>\n",
       "<style scoped>\n",
       "    .dataframe tbody tr th:only-of-type {\n",
       "        vertical-align: middle;\n",
       "    }\n",
       "\n",
       "    .dataframe tbody tr th {\n",
       "        vertical-align: top;\n",
       "    }\n",
       "\n",
       "    .dataframe thead th {\n",
       "        text-align: right;\n",
       "    }\n",
       "</style>\n",
       "<table border=\"1\" class=\"dataframe\">\n",
       "  <thead>\n",
       "    <tr style=\"text-align: right;\">\n",
       "      <th></th>\n",
       "      <th>mean</th>\n",
       "      <th>count</th>\n",
       "      <th>median</th>\n",
       "    </tr>\n",
       "    <tr>\n",
       "      <th>floor_status</th>\n",
       "      <th></th>\n",
       "      <th></th>\n",
       "      <th></th>\n",
       "    </tr>\n",
       "  </thead>\n",
       "  <tbody>\n",
       "    <tr>\n",
       "      <th>другой</th>\n",
       "      <td>103508.033401</td>\n",
       "      <td>17408</td>\n",
       "      <td>98305.435</td>\n",
       "    </tr>\n",
       "    <tr>\n",
       "      <th>первый</th>\n",
       "      <td>81989.310038</td>\n",
       "      <td>2912</td>\n",
       "      <td>81236.815</td>\n",
       "    </tr>\n",
       "    <tr>\n",
       "      <th>последний</th>\n",
       "      <td>93378.957679</td>\n",
       "      <td>3330</td>\n",
       "      <td>87763.150</td>\n",
       "    </tr>\n",
       "  </tbody>\n",
       "</table>\n",
       "</div>"
      ],
      "text/plain": [
       "                       mean  count     median\n",
       "floor_status                                 \n",
       "другой        103508.033401  17408  98305.435\n",
       "первый         81989.310038   2912  81236.815\n",
       "последний      93378.957679   3330  87763.150"
      ]
     },
     "execution_count": 61,
     "metadata": {},
     "output_type": "execute_result"
    },
    {
     "data": {
      "image/png": "[encoded data removed]",
      "text/plain": [
       "<Figure size 432x288 with 1 Axes>"
      ]
     },
     "metadata": {
      "needs_background": "light"
     },
     "output_type": "display_data"
    }
   ],
   "source": [
    "# Изучим тип этажа квартиры\n",
    "pivot_table_floor_category = data.pivot_table(index = 'floor_status', values = 'price_per_meter', aggfunc = ['mean', 'count', 'median'])\n",
    "pivot_table_floor_category.columns = ['mean', 'count', 'median']\n",
    "pivot_table_floor_category.plot(y = 'median')\n",
    "pivot_table_floor_category\n",
    "# Посчитано по цене за квадратный метр - график нагляднее\n",
    "# Согласно медиане - как правило квартиры на первом этаже дешевле квартир на последнем этаже - в среднем на 10%"
   ]
  },
  {
   "cell_type": "markdown",
   "metadata": {},
   "source": [
    "<div class=\"alert alert-success\">\n",
    "<h2> Комментарий ревьюера <a class=\"tocSkip\"> </h2>\n",
    "\n",
    "<b>Все супер!👍:</b> Хорошо"
   ]
  },
  {
   "cell_type": "code",
   "execution_count": 62,
   "metadata": {},
   "outputs": [
    {
     "data": {
      "text/plain": [
       "count    23565.000000\n",
       "mean        10.675875\n",
       "std          6.594823\n",
       "min          1.000000\n",
       "25%          5.000000\n",
       "50%          9.000000\n",
       "75%         16.000000\n",
       "max         60.000000\n",
       "Name: total_floors_in_house, dtype: float64"
      ]
     },
     "execution_count": 62,
     "metadata": {},
     "output_type": "execute_result"
    },
    {
     "data": {
      "image/png": "[encoded data removed]",
      "text/plain": [
       "<Figure size 720x432 with 1 Axes>"
      ]
     },
     "metadata": {
      "needs_background": "light"
     },
     "output_type": "display_data"
    }
   ],
   "source": [
    "# Изучим общее количество этажей в доме\n",
    "data.plot(y = 'total_floors_in_house', kind = 'hist', bins = 100, grid=True, figsize = (10,6), range = (0,30))\n",
    "data['total_floors_in_house'].describe()\n",
    "# Наиболее распространённое количество этажей - панельки, как в треке Хаски"
   ]
  },
  {
   "cell_type": "markdown",
   "metadata": {},
   "source": [
    "<div class=\"alert alert-success\">\n",
    "<h2> Комментарий ревьюера <a class=\"tocSkip\"> </h2>\n",
    "\n",
    "<b>Все супер!👍:</b> Хорошо"
   ]
  },
  {
   "cell_type": "code",
   "execution_count": 63,
   "metadata": {},
   "outputs": [
    {
     "data": {
      "text/plain": [
       "count    18139.000000\n",
       "mean        14.192403\n",
       "std          8.615359\n",
       "min          0.000000\n",
       "25%          9.000000\n",
       "50%         13.000000\n",
       "75%         16.000000\n",
       "max         66.000000\n",
       "Name: city_center_distance_km, dtype: float64"
      ]
     },
     "execution_count": 63,
     "metadata": {},
     "output_type": "execute_result"
    },
    {
     "data": {
      "image/png": "[encoded data removed]",
      "text/plain": [
       "<Figure size 720x432 with 1 Axes>"
      ]
     },
     "metadata": {
      "needs_background": "light"
     },
     "output_type": "display_data"
    }
   ],
   "source": [
    "# Изучим расстояние до центра города - в км (до этого специально в них и переводили)\n",
    "data.plot(y = 'city_center_distance_km', kind = 'hist', bins = 100, grid=True, figsize = (10,6), range = (0,70))\n",
    "data['city_center_distance_km'].describe()\n",
    "# Больше всего квартир в радиусе ~20 км от центра города"
   ]
  },
  {
   "cell_type": "markdown",
   "metadata": {},
   "source": [
    "<div class=\"alert alert-success\">\n",
    "<h2> Комментарий ревьюера <a class=\"tocSkip\"> </h2>\n",
    "\n",
    "<b>Все супер!👍:</b> Верно"
   ]
  },
  {
   "cell_type": "code",
   "execution_count": 64,
   "metadata": {},
   "outputs": [
    {
     "data": {
      "text/plain": [
       "count    18116.000000\n",
       "mean        28.803240\n",
       "std         12.637314\n",
       "min          0.000000\n",
       "25%         18.580000\n",
       "50%         26.760000\n",
       "75%         37.290000\n",
       "max         84.870000\n",
       "Name: nearest_airport_distance_km, dtype: float64"
      ]
     },
     "execution_count": 64,
     "metadata": {},
     "output_type": "execute_result"
    },
    {
     "data": {
      "image/png": "[encoded data removed]",
      "text/plain": [
       "<Figure size 720x432 with 1 Axes>"
      ]
     },
     "metadata": {
      "needs_background": "light"
     },
     "output_type": "display_data"
    }
   ],
   "source": [
    "# Изучим расстояние до ближайшего аэропорта\n",
    "data.plot(y = 'nearest_airport_distance_km', kind = 'hist', bins = 100, grid=True, figsize = (10,6), range = (0,100))\n",
    "data['nearest_airport_distance_km'].describe()\n",
    "# В целом - адекватное расстояние, в среднем от 30 до 40 км"
   ]
  },
  {
   "cell_type": "markdown",
   "metadata": {},
   "source": [
    "<div class=\"alert alert-success\">\n",
    "<h2> Комментарий ревьюера <a class=\"tocSkip\"> </h2>\n",
    "\n",
    "<b>Все супер!👍:</b> Отлично"
   ]
  },
  {
   "cell_type": "code",
   "execution_count": 65,
   "metadata": {},
   "outputs": [
    {
     "data": {
      "text/plain": [
       "count    8064.000000\n",
       "mean        0.490801\n",
       "std         0.342642\n",
       "min         0.000000\n",
       "25%         0.290000\n",
       "50%         0.455000\n",
       "75%         0.610000\n",
       "max         3.190000\n",
       "Name: nearest_park_distance_km, dtype: float64"
      ]
     },
     "execution_count": 65,
     "metadata": {},
     "output_type": "execute_result"
    },
    {
     "data": {
      "image/png": "[encoded data removed]",
      "text/plain": [
       "<Figure size 720x432 with 1 Axes>"
      ]
     },
     "metadata": {
      "needs_background": "light"
     },
     "output_type": "display_data"
    }
   ],
   "source": [
    "# Изучим расстояние до ближайшего парка\n",
    "data.plot(y = 'nearest_park_distance_km', kind = 'hist', bins = 100, grid=True, figsize = (10,6), range = (0,4))\n",
    "data['nearest_park_distance_km'].describe()\n",
    "# Большинство квартир - с шаговой доступностью до парка"
   ]
  },
  {
   "cell_type": "markdown",
   "metadata": {},
   "source": [
    "<div class=\"alert alert-success\">\n",
    "<h2> Комментарий ревьюера <a class=\"tocSkip\"> </h2>\n",
    "\n",
    "<b>Все супер!👍:</b> Отлично"
   ]
  },
  {
   "cell_type": "code",
   "execution_count": 66,
   "metadata": {},
   "outputs": [
    {
     "data": {
      "text/html": [
       "<div>\n",
       "<style scoped>\n",
       "    .dataframe tbody tr th:only-of-type {\n",
       "        vertical-align: middle;\n",
       "    }\n",
       "\n",
       "    .dataframe tbody tr th {\n",
       "        vertical-align: top;\n",
       "    }\n",
       "\n",
       "    .dataframe thead th {\n",
       "        text-align: right;\n",
       "    }\n",
       "</style>\n",
       "<table border=\"1\" class=\"dataframe\">\n",
       "  <thead>\n",
       "    <tr style=\"text-align: right;\">\n",
       "      <th></th>\n",
       "      <th>mean</th>\n",
       "      <th>count</th>\n",
       "      <th>median</th>\n",
       "    </tr>\n",
       "    <tr>\n",
       "      <th>day_of_week_exposition</th>\n",
       "      <th></th>\n",
       "      <th></th>\n",
       "      <th></th>\n",
       "    </tr>\n",
       "  </thead>\n",
       "  <tbody>\n",
       "    <tr>\n",
       "      <th>Tuesday</th>\n",
       "      <td>99724.551947</td>\n",
       "      <td>4175</td>\n",
       "      <td>95634.100</td>\n",
       "    </tr>\n",
       "    <tr>\n",
       "      <th>Wednesday</th>\n",
       "      <td>99605.973825</td>\n",
       "      <td>3966</td>\n",
       "      <td>95473.810</td>\n",
       "    </tr>\n",
       "    <tr>\n",
       "      <th>Thursday</th>\n",
       "      <td>100193.163915</td>\n",
       "      <td>4286</td>\n",
       "      <td>95152.585</td>\n",
       "    </tr>\n",
       "    <tr>\n",
       "      <th>Monday</th>\n",
       "      <td>99470.371204</td>\n",
       "      <td>3606</td>\n",
       "      <td>94703.960</td>\n",
       "    </tr>\n",
       "    <tr>\n",
       "      <th>Friday</th>\n",
       "      <td>98987.215358</td>\n",
       "      <td>3992</td>\n",
       "      <td>94608.145</td>\n",
       "    </tr>\n",
       "    <tr>\n",
       "      <th>Sunday</th>\n",
       "      <td>97763.149486</td>\n",
       "      <td>1692</td>\n",
       "      <td>94594.590</td>\n",
       "    </tr>\n",
       "    <tr>\n",
       "      <th>Saturday</th>\n",
       "      <td>99066.258169</td>\n",
       "      <td>1933</td>\n",
       "      <td>93548.390</td>\n",
       "    </tr>\n",
       "  </tbody>\n",
       "</table>\n",
       "</div>"
      ],
      "text/plain": [
       "                                 mean  count     median\n",
       "day_of_week_exposition                                 \n",
       "Tuesday                  99724.551947   4175  95634.100\n",
       "Wednesday                99605.973825   3966  95473.810\n",
       "Thursday                100193.163915   4286  95152.585\n",
       "Monday                   99470.371204   3606  94703.960\n",
       "Friday                   98987.215358   3992  94608.145\n",
       "Sunday                   97763.149486   1692  94594.590\n",
       "Saturday                 99066.258169   1933  93548.390"
      ]
     },
     "execution_count": 66,
     "metadata": {},
     "output_type": "execute_result"
    },
    {
     "data": {
      "image/png": "[encoded data removed]",
      "text/plain": [
       "<Figure size 432x288 with 1 Axes>"
      ]
     },
     "metadata": {
      "needs_background": "light"
     },
     "output_type": "display_data"
    }
   ],
   "source": [
    "# Изучим день публикации объявления\n",
    "pivot_table_weekday_exposition = data.pivot_table(index = 'day_of_week_exposition', values = 'price_per_meter', aggfunc = ['mean', 'count', 'median'])\n",
    "pivot_table_weekday_exposition.columns = ['mean', 'count', 'median']\n",
    "pivot_table_weekday_exposition.plot(y = 'median')\n",
    "\n",
    "pivot_table_weekday_exposition.sort_values('median', ascending = False)"
   ]
  },
  {
   "cell_type": "markdown",
   "metadata": {},
   "source": [
    "<div class=\"alert alert-warning\">\n",
    "    <h2> Комментарий ревьюера <a class=\"tocSkip\"> </h2>\n",
    "    \n",
    "<b>Небольшие замечания и рекомендации💡:</b> Здесь рекомендую брать bar, а не линию, так результат будет ближе к истине"
   ]
  },
  {
   "cell_type": "code",
   "execution_count": 67,
   "metadata": {},
   "outputs": [
    {
     "data": {
      "text/html": [
       "<div>\n",
       "<style scoped>\n",
       "    .dataframe tbody tr th:only-of-type {\n",
       "        vertical-align: middle;\n",
       "    }\n",
       "\n",
       "    .dataframe tbody tr th {\n",
       "        vertical-align: top;\n",
       "    }\n",
       "\n",
       "    .dataframe thead th {\n",
       "        text-align: right;\n",
       "    }\n",
       "</style>\n",
       "<table border=\"1\" class=\"dataframe\">\n",
       "  <thead>\n",
       "    <tr style=\"text-align: right;\">\n",
       "      <th></th>\n",
       "      <th>mean</th>\n",
       "      <th>count</th>\n",
       "      <th>median</th>\n",
       "    </tr>\n",
       "    <tr>\n",
       "      <th>month_exposition</th>\n",
       "      <th></th>\n",
       "      <th></th>\n",
       "      <th></th>\n",
       "    </tr>\n",
       "  </thead>\n",
       "  <tbody>\n",
       "    <tr>\n",
       "      <th>April</th>\n",
       "      <td>101956.699558</td>\n",
       "      <td>2373</td>\n",
       "      <td>96451.610</td>\n",
       "    </tr>\n",
       "    <tr>\n",
       "      <th>August</th>\n",
       "      <td>100147.231975</td>\n",
       "      <td>1742</td>\n",
       "      <td>96103.240</td>\n",
       "    </tr>\n",
       "    <tr>\n",
       "      <th>November</th>\n",
       "      <td>99254.440803</td>\n",
       "      <td>2367</td>\n",
       "      <td>95625.000</td>\n",
       "    </tr>\n",
       "    <tr>\n",
       "      <th>September</th>\n",
       "      <td>100490.822592</td>\n",
       "      <td>1979</td>\n",
       "      <td>95608.780</td>\n",
       "    </tr>\n",
       "    <tr>\n",
       "      <th>March</th>\n",
       "      <td>98997.838393</td>\n",
       "      <td>2582</td>\n",
       "      <td>95293.470</td>\n",
       "    </tr>\n",
       "    <tr>\n",
       "      <th>January</th>\n",
       "      <td>99838.433870</td>\n",
       "      <td>1491</td>\n",
       "      <td>95209.580</td>\n",
       "    </tr>\n",
       "    <tr>\n",
       "      <th>July</th>\n",
       "      <td>99650.840734</td>\n",
       "      <td>1690</td>\n",
       "      <td>95023.945</td>\n",
       "    </tr>\n",
       "    <tr>\n",
       "      <th>February</th>\n",
       "      <td>98769.773335</td>\n",
       "      <td>2639</td>\n",
       "      <td>95000.000</td>\n",
       "    </tr>\n",
       "    <tr>\n",
       "      <th>December</th>\n",
       "      <td>99501.624628</td>\n",
       "      <td>1638</td>\n",
       "      <td>94238.400</td>\n",
       "    </tr>\n",
       "    <tr>\n",
       "      <th>October</th>\n",
       "      <td>97969.126634</td>\n",
       "      <td>2124</td>\n",
       "      <td>94212.560</td>\n",
       "    </tr>\n",
       "    <tr>\n",
       "      <th>June</th>\n",
       "      <td>97789.346689</td>\n",
       "      <td>1755</td>\n",
       "      <td>92857.140</td>\n",
       "    </tr>\n",
       "    <tr>\n",
       "      <th>May</th>\n",
       "      <td>98536.263039</td>\n",
       "      <td>1270</td>\n",
       "      <td>92857.140</td>\n",
       "    </tr>\n",
       "  </tbody>\n",
       "</table>\n",
       "</div>"
      ],
      "text/plain": [
       "                           mean  count     median\n",
       "month_exposition                                 \n",
       "April             101956.699558   2373  96451.610\n",
       "August            100147.231975   1742  96103.240\n",
       "November           99254.440803   2367  95625.000\n",
       "September         100490.822592   1979  95608.780\n",
       "March              98997.838393   2582  95293.470\n",
       "January            99838.433870   1491  95209.580\n",
       "July               99650.840734   1690  95023.945\n",
       "February           98769.773335   2639  95000.000\n",
       "December           99501.624628   1638  94238.400\n",
       "October            97969.126634   2124  94212.560\n",
       "June               97789.346689   1755  92857.140\n",
       "May                98536.263039   1270  92857.140"
      ]
     },
     "execution_count": 67,
     "metadata": {},
     "output_type": "execute_result"
    },
    {
     "data": {
      "image/png": "[encoded data removed]",
      "text/plain": [
       "<Figure size 432x288 with 1 Axes>"
      ]
     },
     "metadata": {
      "needs_background": "light"
     },
     "output_type": "display_data"
    }
   ],
   "source": [
    "#изучим месяц публикации объявления\n",
    "pivot_table_month_exposition = data.pivot_table(index = 'month_exposition', values = 'price_per_meter', aggfunc = ['mean', 'count', 'median'])\n",
    "pivot_table_month_exposition.columns = ['mean', 'count', 'median']\n",
    "pivot_table_month_exposition.plot(y = 'median')\n",
    "\n",
    "pivot_table_month_exposition.sort_values('median', ascending = False)"
   ]
  },
  {
   "cell_type": "markdown",
   "metadata": {},
   "source": [
    "<div class=\"alert alert-warning\">\n",
    "    <h2> Комментарий ревьюера <a class=\"tocSkip\"> </h2>\n",
    "    \n",
    "<b>Небольшие замечания и рекомендации💡:</b> Тоже можно взять bar"
   ]
  },
  {
   "cell_type": "code",
   "execution_count": 68,
   "metadata": {},
   "outputs": [
    {
     "data": {
      "text/html": [
       "<div>\n",
       "<style scoped>\n",
       "    .dataframe tbody tr th:only-of-type {\n",
       "        vertical-align: middle;\n",
       "    }\n",
       "\n",
       "    .dataframe tbody tr th {\n",
       "        vertical-align: top;\n",
       "    }\n",
       "\n",
       "    .dataframe thead th {\n",
       "        text-align: right;\n",
       "    }\n",
       "</style>\n",
       "<table border=\"1\" class=\"dataframe\">\n",
       "  <thead>\n",
       "    <tr style=\"text-align: right;\">\n",
       "      <th></th>\n",
       "      <th>mean</th>\n",
       "      <th>count</th>\n",
       "      <th>median</th>\n",
       "    </tr>\n",
       "    <tr>\n",
       "      <th>year_exposition</th>\n",
       "      <th></th>\n",
       "      <th></th>\n",
       "      <th></th>\n",
       "    </tr>\n",
       "  </thead>\n",
       "  <tbody>\n",
       "    <tr>\n",
       "      <th>2014</th>\n",
       "      <td>124302.355882</td>\n",
       "      <td>136</td>\n",
       "      <td>106901.90</td>\n",
       "    </tr>\n",
       "    <tr>\n",
       "      <th>2019</th>\n",
       "      <td>107123.780215</td>\n",
       "      <td>2879</td>\n",
       "      <td>103305.79</td>\n",
       "    </tr>\n",
       "    <tr>\n",
       "      <th>2018</th>\n",
       "      <td>97800.065875</td>\n",
       "      <td>8512</td>\n",
       "      <td>95704.32</td>\n",
       "    </tr>\n",
       "    <tr>\n",
       "      <th>2015</th>\n",
       "      <td>104719.098517</td>\n",
       "      <td>1173</td>\n",
       "      <td>93396.23</td>\n",
       "    </tr>\n",
       "    <tr>\n",
       "      <th>2017</th>\n",
       "      <td>97637.360194</td>\n",
       "      <td>8185</td>\n",
       "      <td>92569.66</td>\n",
       "    </tr>\n",
       "    <tr>\n",
       "      <th>2016</th>\n",
       "      <td>98295.372597</td>\n",
       "      <td>2765</td>\n",
       "      <td>91666.67</td>\n",
       "    </tr>\n",
       "  </tbody>\n",
       "</table>\n",
       "</div>"
      ],
      "text/plain": [
       "                          mean  count     median\n",
       "year_exposition                                 \n",
       "2014             124302.355882    136  106901.90\n",
       "2019             107123.780215   2879  103305.79\n",
       "2018              97800.065875   8512   95704.32\n",
       "2015             104719.098517   1173   93396.23\n",
       "2017              97637.360194   8185   92569.66\n",
       "2016              98295.372597   2765   91666.67"
      ]
     },
     "execution_count": 68,
     "metadata": {},
     "output_type": "execute_result"
    },
    {
     "data": {
      "image/png": "[encoded data removed]",
      "text/plain": [
       "<Figure size 432x288 with 1 Axes>"
      ]
     },
     "metadata": {
      "needs_background": "light"
     },
     "output_type": "display_data"
    }
   ],
   "source": [
    "pivot_table_year_exposition = data.pivot_table(index = 'year_exposition', values = 'price_per_meter', aggfunc = ['mean', 'count', 'median'])\n",
    "pivot_table_year_exposition.columns = ['mean', 'count', 'median']\n",
    "pivot_table_year_exposition.plot(y = 'median')\n",
    "\n",
    "pivot_table_year_exposition.sort_values('median', ascending = False)"
   ]
  },
  {
   "cell_type": "markdown",
   "metadata": {},
   "source": [
    "<div class=\"alert alert-warning\">\n",
    "    <h2> Комментарий ревьюера <a class=\"tocSkip\"> </h2>\n",
    "    \n",
    "<b>Небольшие замечания и рекомендации💡:</b> B pltcm nj;t)"
   ]
  },
  {
   "cell_type": "markdown",
   "metadata": {},
   "source": [
    "Выводы: \n",
    "- чем ближе ко вторнику выставлены объявления, тем в среднем выше стоимость, но незначительно, а по субботам стоимость самая низкая - зависит от общей активности людей, так как именно в рабочие дни цены выше\n",
    "- самая высокая стоимость квадратного метра в апреле и августе, самая низкая стоимость в мае и июне - связанно с сезонностью - в начале лета наименьшее предложение как по количеству, так и по стоимости недвижимости. Возможжно, это связано с отпусками.\n",
    "- цена с 2014-2016 планомерно снижалась (а в 14 мог быть ажиотаж - курс рубля падал)"
   ]
  },
  {
   "cell_type": "markdown",
   "metadata": {},
   "source": [
    "<div class=\"alert alert-success\">\n",
    "<h2> Комментарий ревьюера <a class=\"tocSkip\"> </h2>\n",
    "\n",
    "<b>Все супер!👍:</b> Хороший вывод, молодец"
   ]
  },
  {
   "cell_type": "markdown",
   "metadata": {},
   "source": [
    "#### Изучите, как быстро продавались квартиры (столбец days_exposition). Этот параметр показывает, сколько дней было размещено каждое объявление"
   ]
  },
  {
   "cell_type": "code",
   "execution_count": 69,
   "metadata": {},
   "outputs": [
    {
     "data": {
      "text/plain": [
       "count    20470.000000\n",
       "mean       180.753200\n",
       "std        219.777916\n",
       "min          1.000000\n",
       "25%         45.000000\n",
       "50%         95.000000\n",
       "75%        231.000000\n",
       "max       1580.000000\n",
       "Name: days_exposition, dtype: float64"
      ]
     },
     "execution_count": 69,
     "metadata": {},
     "output_type": "execute_result"
    },
    {
     "data": {
      "image/png": "[encoded data removed]",
      "text/plain": [
       "<Figure size 720x432 with 1 Axes>"
      ]
     },
     "metadata": {
      "needs_background": "light"
     },
     "output_type": "display_data"
    }
   ],
   "source": [
    "# Посмотрим, как быстро продавались квартиры\n",
    "data['days_exposition'].hist(bins=70, figsize=(10,6), ec='black')\n",
    "data[data['days_exposition']!=0]['days_exposition'].describe()\n",
    "# В среднем квартиры продаются полгода, медиана - 95 дней\n",
    "# Есть и такая квартира, которая продаётся 5 лет - вполне возможно!\n",
    "# Большая часть квартир продавалась в течение первых 50 дней"
   ]
  },
  {
   "cell_type": "code",
   "execution_count": 70,
   "metadata": {},
   "outputs": [
    {
     "data": {
      "text/plain": [
       "<AxesSubplot:>"
      ]
     },
     "execution_count": 70,
     "metadata": {},
     "output_type": "execute_result"
    },
    {
     "data": {
      "image/png": "[encoded data removed]",
      "text/plain": [
       "<Figure size 432x288 with 1 Axes>"
      ]
     },
     "metadata": {
      "needs_background": "light"
     },
     "output_type": "display_data"
    }
   ],
   "source": [
    "# посмотрим на boxplot и сузим выборку для исключения выбросов\n",
    "data.boxplot(column='days_exposition')"
   ]
  },
  {
   "cell_type": "code",
   "execution_count": 71,
   "metadata": {},
   "outputs": [
    {
     "data": {
      "text/plain": [
       "<AxesSubplot:>"
      ]
     },
     "execution_count": 71,
     "metadata": {},
     "output_type": "execute_result"
    },
    {
     "data": {
      "image/png": "[encoded data removed]",
      "text/plain": [
       "<Figure size 720x432 with 1 Axes>"
      ]
     },
     "metadata": {
      "needs_background": "light"
     },
     "output_type": "display_data"
    }
   ],
   "source": [
    "data.query('days_exposition < 500')['days_exposition'].hist(bins=70, figsize=(10,6), ec='black')\n",
    "# Какие неприятные пики на 45 и 60 дней, посмотрим подробнее"
   ]
  },
  {
   "cell_type": "code",
   "execution_count": 72,
   "metadata": {},
   "outputs": [
    {
     "data": {
      "text/plain": [
       "<AxesSubplot:>"
      ]
     },
     "execution_count": 72,
     "metadata": {},
     "output_type": "execute_result"
    },
    {
     "data": {
      "image/png": "[encoded data removed]",
      "text/plain": [
       "<Figure size 720x432 with 1 Axes>"
      ]
     },
     "metadata": {
      "needs_background": "light"
     },
     "output_type": "display_data"
    }
   ],
   "source": [
    "data.query('40 < days_exposition < 65')['days_exposition'].hist(bins=70, figsize=(10,6), ec='black')"
   ]
  },
  {
   "cell_type": "markdown",
   "metadata": {},
   "source": [
    "Гугл дал ответ на вопрос - Яндекс.Недвижимость снимает с публикации объявления на 45 и 60 дни - уберём их из среза и посмотрим на данные без искажений"
   ]
  },
  {
   "cell_type": "markdown",
   "metadata": {},
   "source": [
    "<div class=\"alert alert-success\">\n",
    "<h2> Комментарий ревьюера <a class=\"tocSkip\"> </h2>\n",
    "\n",
    "<b>Все супер!👍:</b> Отлично! Это то, что нужно)"
   ]
  },
  {
   "cell_type": "code",
   "execution_count": 73,
   "metadata": {},
   "outputs": [
    {
     "data": {
      "text/plain": [
       "<AxesSubplot:>"
      ]
     },
     "execution_count": 73,
     "metadata": {},
     "output_type": "execute_result"
    },
    {
     "data": {
      "image/png": "[encoded data removed]",
      "text/plain": [
       "<Figure size 720x216 with 1 Axes>"
      ]
     },
     "metadata": {
      "needs_background": "light"
     },
     "output_type": "display_data"
    }
   ],
   "source": [
    "data.query('days_exposition != 45 and days_exposition != 60')['days_exposition'].hist(bins=70, figsize=(10,3), ec='black')\n",
    "# Пиков нет, всё фруктово"
   ]
  },
  {
   "cell_type": "markdown",
   "metadata": {},
   "source": [
    "<div class=\"alert alert-success\">\n",
    "<h2> Комментарий ревьюера <a class=\"tocSkip\"> </h2>\n",
    "\n",
    "<b>Все супер!👍:</b> Супер"
   ]
  },
  {
   "cell_type": "markdown",
   "metadata": {},
   "source": [
    "#### Какие факторы больше всего влияют на общую (полную) стоимость объекта?"
   ]
  },
  {
   "cell_type": "code",
   "execution_count": 74,
   "metadata": {},
   "outputs": [
    {
     "data": {
      "text/html": [
       "<div>\n",
       "<style scoped>\n",
       "    .dataframe tbody tr th:only-of-type {\n",
       "        vertical-align: middle;\n",
       "    }\n",
       "\n",
       "    .dataframe tbody tr th {\n",
       "        vertical-align: top;\n",
       "    }\n",
       "\n",
       "    .dataframe thead th {\n",
       "        text-align: right;\n",
       "    }\n",
       "</style>\n",
       "<table border=\"1\" class=\"dataframe\">\n",
       "  <thead>\n",
       "    <tr style=\"text-align: right;\">\n",
       "      <th></th>\n",
       "      <th>town_name</th>\n",
       "      <th>total_area_m2</th>\n",
       "      <th>living_area_m2</th>\n",
       "      <th>kitchen_area_m2</th>\n",
       "      <th>ceiling_height_m</th>\n",
       "      <th>number_of_rooms</th>\n",
       "      <th>number_of_balconies</th>\n",
       "      <th>floor</th>\n",
       "      <th>total_floors_in_house</th>\n",
       "      <th>is_apartment</th>\n",
       "      <th>is_studio</th>\n",
       "      <th>is_open_plan</th>\n",
       "      <th>total_images</th>\n",
       "      <th>last_price</th>\n",
       "      <th>first_day_exposition</th>\n",
       "      <th>day_of_week_exposition</th>\n",
       "      <th>month_exposition</th>\n",
       "      <th>year_exposition</th>\n",
       "      <th>days_exposition</th>\n",
       "      <th>city_center_distance_km</th>\n",
       "      <th>nearest_airport_distance_km</th>\n",
       "      <th>parks_numbers_within_3km</th>\n",
       "      <th>nearest_park_distance_km</th>\n",
       "      <th>ponds_number_within_3km</th>\n",
       "      <th>nearest_pond_distance_km</th>\n",
       "      <th>floor_status</th>\n",
       "      <th>price_per_meter</th>\n",
       "    </tr>\n",
       "  </thead>\n",
       "  <tbody>\n",
       "    <tr>\n",
       "      <th>0</th>\n",
       "      <td>санкт-петербург</td>\n",
       "      <td>108.0</td>\n",
       "      <td>51.0</td>\n",
       "      <td>25.0</td>\n",
       "      <td>2.70</td>\n",
       "      <td>3</td>\n",
       "      <td>0</td>\n",
       "      <td>8</td>\n",
       "      <td>16.0</td>\n",
       "      <td>False</td>\n",
       "      <td>False</td>\n",
       "      <td>False</td>\n",
       "      <td>20</td>\n",
       "      <td>13000000.0</td>\n",
       "      <td>2019-03-07</td>\n",
       "      <td>Thursday</td>\n",
       "      <td>March</td>\n",
       "      <td>2019</td>\n",
       "      <td>NaN</td>\n",
       "      <td>16.0</td>\n",
       "      <td>18.86</td>\n",
       "      <td>1.0</td>\n",
       "      <td>0.48</td>\n",
       "      <td>2.0</td>\n",
       "      <td>0.76</td>\n",
       "      <td>другой</td>\n",
       "      <td>120370.37</td>\n",
       "    </tr>\n",
       "    <tr>\n",
       "      <th>1</th>\n",
       "      <td>поселок шушары</td>\n",
       "      <td>40.4</td>\n",
       "      <td>18.6</td>\n",
       "      <td>11.0</td>\n",
       "      <td>2.70</td>\n",
       "      <td>1</td>\n",
       "      <td>2</td>\n",
       "      <td>1</td>\n",
       "      <td>11.0</td>\n",
       "      <td>False</td>\n",
       "      <td>False</td>\n",
       "      <td>False</td>\n",
       "      <td>7</td>\n",
       "      <td>3350000.0</td>\n",
       "      <td>2018-12-04</td>\n",
       "      <td>Tuesday</td>\n",
       "      <td>December</td>\n",
       "      <td>2018</td>\n",
       "      <td>81.0</td>\n",
       "      <td>19.0</td>\n",
       "      <td>12.82</td>\n",
       "      <td>0.0</td>\n",
       "      <td>NaN</td>\n",
       "      <td>0.0</td>\n",
       "      <td>NaN</td>\n",
       "      <td>первый</td>\n",
       "      <td>82920.79</td>\n",
       "    </tr>\n",
       "    <tr>\n",
       "      <th>2</th>\n",
       "      <td>санкт-петербург</td>\n",
       "      <td>56.0</td>\n",
       "      <td>34.3</td>\n",
       "      <td>8.3</td>\n",
       "      <td>2.70</td>\n",
       "      <td>2</td>\n",
       "      <td>0</td>\n",
       "      <td>4</td>\n",
       "      <td>5.0</td>\n",
       "      <td>False</td>\n",
       "      <td>False</td>\n",
       "      <td>False</td>\n",
       "      <td>10</td>\n",
       "      <td>5196000.0</td>\n",
       "      <td>2015-08-20</td>\n",
       "      <td>Thursday</td>\n",
       "      <td>August</td>\n",
       "      <td>2015</td>\n",
       "      <td>558.0</td>\n",
       "      <td>14.0</td>\n",
       "      <td>21.74</td>\n",
       "      <td>1.0</td>\n",
       "      <td>0.09</td>\n",
       "      <td>2.0</td>\n",
       "      <td>0.57</td>\n",
       "      <td>другой</td>\n",
       "      <td>92785.71</td>\n",
       "    </tr>\n",
       "    <tr>\n",
       "      <th>3</th>\n",
       "      <td>санкт-петербург</td>\n",
       "      <td>159.0</td>\n",
       "      <td>NaN</td>\n",
       "      <td>NaN</td>\n",
       "      <td>2.70</td>\n",
       "      <td>3</td>\n",
       "      <td>0</td>\n",
       "      <td>9</td>\n",
       "      <td>14.0</td>\n",
       "      <td>False</td>\n",
       "      <td>False</td>\n",
       "      <td>False</td>\n",
       "      <td>0</td>\n",
       "      <td>64900000.0</td>\n",
       "      <td>2015-07-24</td>\n",
       "      <td>Friday</td>\n",
       "      <td>July</td>\n",
       "      <td>2015</td>\n",
       "      <td>424.0</td>\n",
       "      <td>7.0</td>\n",
       "      <td>28.10</td>\n",
       "      <td>2.0</td>\n",
       "      <td>0.08</td>\n",
       "      <td>3.0</td>\n",
       "      <td>0.23</td>\n",
       "      <td>другой</td>\n",
       "      <td>408176.10</td>\n",
       "    </tr>\n",
       "    <tr>\n",
       "      <th>4</th>\n",
       "      <td>санкт-петербург</td>\n",
       "      <td>100.0</td>\n",
       "      <td>32.0</td>\n",
       "      <td>41.0</td>\n",
       "      <td>3.03</td>\n",
       "      <td>2</td>\n",
       "      <td>0</td>\n",
       "      <td>13</td>\n",
       "      <td>14.0</td>\n",
       "      <td>False</td>\n",
       "      <td>False</td>\n",
       "      <td>False</td>\n",
       "      <td>2</td>\n",
       "      <td>10000000.0</td>\n",
       "      <td>2018-06-19</td>\n",
       "      <td>Tuesday</td>\n",
       "      <td>June</td>\n",
       "      <td>2018</td>\n",
       "      <td>121.0</td>\n",
       "      <td>8.0</td>\n",
       "      <td>31.86</td>\n",
       "      <td>2.0</td>\n",
       "      <td>0.11</td>\n",
       "      <td>1.0</td>\n",
       "      <td>0.05</td>\n",
       "      <td>другой</td>\n",
       "      <td>100000.00</td>\n",
       "    </tr>\n",
       "  </tbody>\n",
       "</table>\n",
       "</div>"
      ],
      "text/plain": [
       "         town_name  total_area_m2  living_area_m2  kitchen_area_m2  \\\n",
       "0  санкт-петербург          108.0            51.0             25.0   \n",
       "1   поселок шушары           40.4            18.6             11.0   \n",
       "2  санкт-петербург           56.0            34.3              8.3   \n",
       "3  санкт-петербург          159.0             NaN              NaN   \n",
       "4  санкт-петербург          100.0            32.0             41.0   \n",
       "\n",
       "   ceiling_height_m  number_of_rooms  number_of_balconies  floor  \\\n",
       "0              2.70                3                    0      8   \n",
       "1              2.70                1                    2      1   \n",
       "2              2.70                2                    0      4   \n",
       "3              2.70                3                    0      9   \n",
       "4              3.03                2                    0     13   \n",
       "\n",
       "   total_floors_in_house  is_apartment  is_studio  is_open_plan  total_images  \\\n",
       "0                   16.0         False      False         False            20   \n",
       "1                   11.0         False      False         False             7   \n",
       "2                    5.0         False      False         False            10   \n",
       "3                   14.0         False      False         False             0   \n",
       "4                   14.0         False      False         False             2   \n",
       "\n",
       "   last_price first_day_exposition day_of_week_exposition month_exposition  \\\n",
       "0  13000000.0           2019-03-07               Thursday            March   \n",
       "1   3350000.0           2018-12-04                Tuesday         December   \n",
       "2   5196000.0           2015-08-20               Thursday           August   \n",
       "3  64900000.0           2015-07-24                 Friday             July   \n",
       "4  10000000.0           2018-06-19                Tuesday             June   \n",
       "\n",
       "   year_exposition  days_exposition  city_center_distance_km  \\\n",
       "0             2019              NaN                     16.0   \n",
       "1             2018             81.0                     19.0   \n",
       "2             2015            558.0                     14.0   \n",
       "3             2015            424.0                      7.0   \n",
       "4             2018            121.0                      8.0   \n",
       "\n",
       "   nearest_airport_distance_km  parks_numbers_within_3km  \\\n",
       "0                        18.86                       1.0   \n",
       "1                        12.82                       0.0   \n",
       "2                        21.74                       1.0   \n",
       "3                        28.10                       2.0   \n",
       "4                        31.86                       2.0   \n",
       "\n",
       "   nearest_park_distance_km  ponds_number_within_3km  \\\n",
       "0                      0.48                      2.0   \n",
       "1                       NaN                      0.0   \n",
       "2                      0.09                      2.0   \n",
       "3                      0.08                      3.0   \n",
       "4                      0.11                      1.0   \n",
       "\n",
       "   nearest_pond_distance_km floor_status  price_per_meter  \n",
       "0                      0.76       другой        120370.37  \n",
       "1                       NaN       первый         82920.79  \n",
       "2                      0.57       другой         92785.71  \n",
       "3                      0.23       другой        408176.10  \n",
       "4                      0.05       другой        100000.00  "
      ]
     },
     "execution_count": 74,
     "metadata": {},
     "output_type": "execute_result"
    }
   ],
   "source": [
    "data.head()"
   ]
  },
  {
   "cell_type": "code",
   "execution_count": 75,
   "metadata": {},
   "outputs": [
    {
     "data": {
      "text/html": [
       "<div>\n",
       "<style scoped>\n",
       "    .dataframe tbody tr th:only-of-type {\n",
       "        vertical-align: middle;\n",
       "    }\n",
       "\n",
       "    .dataframe tbody tr th {\n",
       "        vertical-align: top;\n",
       "    }\n",
       "\n",
       "    .dataframe thead th {\n",
       "        text-align: right;\n",
       "    }\n",
       "</style>\n",
       "<table border=\"1\" class=\"dataframe\">\n",
       "  <thead>\n",
       "    <tr style=\"text-align: right;\">\n",
       "      <th></th>\n",
       "      <th>total_area_m2</th>\n",
       "      <th>last_price</th>\n",
       "    </tr>\n",
       "  </thead>\n",
       "  <tbody>\n",
       "    <tr>\n",
       "      <th>total_area_m2</th>\n",
       "      <td>1.000000</td>\n",
       "      <td>0.653743</td>\n",
       "    </tr>\n",
       "    <tr>\n",
       "      <th>last_price</th>\n",
       "      <td>0.653743</td>\n",
       "      <td>1.000000</td>\n",
       "    </tr>\n",
       "  </tbody>\n",
       "</table>\n",
       "</div>"
      ],
      "text/plain": [
       "               total_area_m2  last_price\n",
       "total_area_m2       1.000000    0.653743\n",
       "last_price          0.653743    1.000000"
      ]
     },
     "execution_count": 75,
     "metadata": {},
     "output_type": "execute_result"
    },
    {
     "data": {
      "image/png": "[encoded data removed]",
      "text/plain": [
       "<Figure size 432x288 with 1 Axes>"
      ]
     },
     "metadata": {
      "needs_background": "light"
     },
     "output_type": "display_data"
    }
   ],
   "source": [
    "# Зависимость от общей площади;\n",
    "pivot_table_total_area = data.pivot_table(index = 'total_area_m2', values = 'last_price', aggfunc = ['mean', 'count', 'median'])\n",
    "pivot_table_total_area.columns = ['mean', 'count', 'median']\n",
    "pivot_table_total_area.plot(y = 'median', style = 'o')\n",
    "\n",
    "data[['total_area_m2', 'last_price']].corr()\n",
    "# Чем больше площадь, тем выше стоимость - всё корректно"
   ]
  },
  {
   "cell_type": "markdown",
   "metadata": {},
   "source": [
    "<div class=\"alert alert-success\">\n",
    "<h2> Комментарий ревьюера <a class=\"tocSkip\"> </h2>\n",
    "\n",
    "<b>Все супер!👍:</b> Согласен"
   ]
  },
  {
   "cell_type": "code",
   "execution_count": 76,
   "metadata": {},
   "outputs": [
    {
     "data": {
      "text/html": [
       "<div>\n",
       "<style scoped>\n",
       "    .dataframe tbody tr th:only-of-type {\n",
       "        vertical-align: middle;\n",
       "    }\n",
       "\n",
       "    .dataframe tbody tr th {\n",
       "        vertical-align: top;\n",
       "    }\n",
       "\n",
       "    .dataframe thead th {\n",
       "        text-align: right;\n",
       "    }\n",
       "</style>\n",
       "<table border=\"1\" class=\"dataframe\">\n",
       "  <thead>\n",
       "    <tr style=\"text-align: right;\">\n",
       "      <th></th>\n",
       "      <th>living_area_m2</th>\n",
       "      <th>last_price</th>\n",
       "    </tr>\n",
       "  </thead>\n",
       "  <tbody>\n",
       "    <tr>\n",
       "      <th>living_area_m2</th>\n",
       "      <td>1.000000</td>\n",
       "      <td>0.566517</td>\n",
       "    </tr>\n",
       "    <tr>\n",
       "      <th>last_price</th>\n",
       "      <td>0.566517</td>\n",
       "      <td>1.000000</td>\n",
       "    </tr>\n",
       "  </tbody>\n",
       "</table>\n",
       "</div>"
      ],
      "text/plain": [
       "                living_area_m2  last_price\n",
       "living_area_m2        1.000000    0.566517\n",
       "last_price            0.566517    1.000000"
      ]
     },
     "execution_count": 76,
     "metadata": {},
     "output_type": "execute_result"
    },
    {
     "data": {
      "image/png": "[encoded data removed]",
      "text/plain": [
       "<Figure size 432x288 with 1 Axes>"
      ]
     },
     "metadata": {
      "needs_background": "light"
     },
     "output_type": "display_data"
    }
   ],
   "source": [
    "# Зависимость от жилой площади;\n",
    "pivot_table_living_area_m2 = data.pivot_table(index = 'living_area_m2', values = 'last_price', aggfunc = ['mean', 'count', 'median'])\n",
    "pivot_table_living_area_m2.columns = ['mean', 'count', 'median']\n",
    "pivot_table_living_area_m2.plot(y = 'median', style = 'o')\n",
    "\n",
    "data[['living_area_m2', 'last_price']].corr()\n",
    "# Аналогично"
   ]
  },
  {
   "cell_type": "markdown",
   "metadata": {},
   "source": [
    "<div class=\"alert alert-success\">\n",
    "<h2> Комментарий ревьюера <a class=\"tocSkip\"> </h2>\n",
    "\n",
    "<b>Все супер!👍:</b> Так и должно быть"
   ]
  },
  {
   "cell_type": "code",
   "execution_count": 77,
   "metadata": {},
   "outputs": [
    {
     "data": {
      "text/html": [
       "<div>\n",
       "<style scoped>\n",
       "    .dataframe tbody tr th:only-of-type {\n",
       "        vertical-align: middle;\n",
       "    }\n",
       "\n",
       "    .dataframe tbody tr th {\n",
       "        vertical-align: top;\n",
       "    }\n",
       "\n",
       "    .dataframe thead th {\n",
       "        text-align: right;\n",
       "    }\n",
       "</style>\n",
       "<table border=\"1\" class=\"dataframe\">\n",
       "  <thead>\n",
       "    <tr style=\"text-align: right;\">\n",
       "      <th></th>\n",
       "      <th>kitchen_area_m2</th>\n",
       "      <th>last_price</th>\n",
       "    </tr>\n",
       "  </thead>\n",
       "  <tbody>\n",
       "    <tr>\n",
       "      <th>kitchen_area_m2</th>\n",
       "      <td>1.000000</td>\n",
       "      <td>0.520233</td>\n",
       "    </tr>\n",
       "    <tr>\n",
       "      <th>last_price</th>\n",
       "      <td>0.520233</td>\n",
       "      <td>1.000000</td>\n",
       "    </tr>\n",
       "  </tbody>\n",
       "</table>\n",
       "</div>"
      ],
      "text/plain": [
       "                 kitchen_area_m2  last_price\n",
       "kitchen_area_m2         1.000000    0.520233\n",
       "last_price              0.520233    1.000000"
      ]
     },
     "execution_count": 77,
     "metadata": {},
     "output_type": "execute_result"
    },
    {
     "data": {
      "image/png": "[encoded data removed]",
      "text/plain": [
       "<Figure size 432x288 with 1 Axes>"
      ]
     },
     "metadata": {
      "needs_background": "light"
     },
     "output_type": "display_data"
    }
   ],
   "source": [
    "# Зависимость от площади кухни;\n",
    "pivot_table_kitchen_area_m2 = data.pivot_table(index = 'kitchen_area_m2', values = 'last_price', aggfunc = ['mean', 'count', 'median'])\n",
    "pivot_table_kitchen_area_m2.columns = ['mean', 'count', 'median']\n",
    "pivot_table_kitchen_area_m2.plot(y = 'median', style = 'o')\n",
    "\n",
    "data[['kitchen_area_m2', 'last_price']].corr()\n",
    "# В среднем цена схожа на квартиры с 20-40-метровой кухней, но вывод аналогичен двум выше. В целом - логично"
   ]
  },
  {
   "cell_type": "markdown",
   "metadata": {},
   "source": [
    "<div class=\"alert alert-success\">\n",
    "<h2> Комментарий ревьюера <a class=\"tocSkip\"> </h2>\n",
    "\n",
    "<b>Все супер!👍:</b> Да, это же тоже площадь"
   ]
  },
  {
   "cell_type": "code",
   "execution_count": 78,
   "metadata": {},
   "outputs": [
    {
     "data": {
      "text/html": [
       "<div>\n",
       "<style scoped>\n",
       "    .dataframe tbody tr th:only-of-type {\n",
       "        vertical-align: middle;\n",
       "    }\n",
       "\n",
       "    .dataframe tbody tr th {\n",
       "        vertical-align: top;\n",
       "    }\n",
       "\n",
       "    .dataframe thead th {\n",
       "        text-align: right;\n",
       "    }\n",
       "</style>\n",
       "<table border=\"1\" class=\"dataframe\">\n",
       "  <thead>\n",
       "    <tr style=\"text-align: right;\">\n",
       "      <th></th>\n",
       "      <th>number_of_rooms</th>\n",
       "      <th>price_per_meter</th>\n",
       "    </tr>\n",
       "  </thead>\n",
       "  <tbody>\n",
       "    <tr>\n",
       "      <th>number_of_rooms</th>\n",
       "      <td>1.000000</td>\n",
       "      <td>0.055471</td>\n",
       "    </tr>\n",
       "    <tr>\n",
       "      <th>price_per_meter</th>\n",
       "      <td>0.055471</td>\n",
       "      <td>1.000000</td>\n",
       "    </tr>\n",
       "  </tbody>\n",
       "</table>\n",
       "</div>"
      ],
      "text/plain": [
       "                 number_of_rooms  price_per_meter\n",
       "number_of_rooms         1.000000         0.055471\n",
       "price_per_meter         0.055471         1.000000"
      ]
     },
     "execution_count": 78,
     "metadata": {},
     "output_type": "execute_result"
    },
    {
     "data": {
      "image/png": "[encoded data removed]",
      "text/plain": [
       "<Figure size 432x288 with 1 Axes>"
      ]
     },
     "metadata": {
      "needs_background": "light"
     },
     "output_type": "display_data"
    }
   ],
   "source": [
    "# Зависимость от количества комнат\n",
    "pivot_table_number_of_rooms = data.pivot_table(index = 'number_of_rooms', values = 'price_per_meter', aggfunc = ['mean', 'count', 'median'])\n",
    "pivot_table_number_of_rooms.columns = ['mean', 'count', 'median']\n",
    "pivot_table_number_of_rooms.query('count > 50').plot(y = 'median')\n",
    "\n",
    "data[['number_of_rooms', 'price_per_meter']].corr()\n",
    "# Трехкомнатные квартиры - самая низкая стоимость квадратного метра"
   ]
  },
  {
   "cell_type": "markdown",
   "metadata": {},
   "source": [
    "<div class=\"alert alert-warning\">\n",
    "    <h2> Комментарий ревьюера <a class=\"tocSkip\"> </h2>\n",
    "    \n",
    "<b>Небольшие замечания и рекомендации💡:</b> А почему здесь мы взяли не цену квартиры, а цену квадратного метра?"
   ]
  },
  {
   "cell_type": "code",
   "execution_count": 79,
   "metadata": {},
   "outputs": [
    {
     "data": {
      "text/html": [
       "<div>\n",
       "<style scoped>\n",
       "    .dataframe tbody tr th:only-of-type {\n",
       "        vertical-align: middle;\n",
       "    }\n",
       "\n",
       "    .dataframe tbody tr th {\n",
       "        vertical-align: top;\n",
       "    }\n",
       "\n",
       "    .dataframe thead th {\n",
       "        text-align: right;\n",
       "    }\n",
       "</style>\n",
       "<table border=\"1\" class=\"dataframe\">\n",
       "  <thead>\n",
       "    <tr style=\"text-align: right;\">\n",
       "      <th></th>\n",
       "      <th>mean</th>\n",
       "      <th>count</th>\n",
       "      <th>median</th>\n",
       "    </tr>\n",
       "    <tr>\n",
       "      <th>floor_status</th>\n",
       "      <th></th>\n",
       "      <th></th>\n",
       "      <th></th>\n",
       "    </tr>\n",
       "  </thead>\n",
       "  <tbody>\n",
       "    <tr>\n",
       "      <th>другой</th>\n",
       "      <td>6.675825e+06</td>\n",
       "      <td>17408</td>\n",
       "      <td>4850000.0</td>\n",
       "    </tr>\n",
       "    <tr>\n",
       "      <th>первый</th>\n",
       "      <td>4.800465e+06</td>\n",
       "      <td>2912</td>\n",
       "      <td>3900000.0</td>\n",
       "    </tr>\n",
       "    <tr>\n",
       "      <th>последний</th>\n",
       "      <td>7.359138e+06</td>\n",
       "      <td>3330</td>\n",
       "      <td>4300000.0</td>\n",
       "    </tr>\n",
       "  </tbody>\n",
       "</table>\n",
       "</div>"
      ],
      "text/plain": [
       "                      mean  count     median\n",
       "floor_status                                \n",
       "другой        6.675825e+06  17408  4850000.0\n",
       "первый        4.800465e+06   2912  3900000.0\n",
       "последний     7.359138e+06   3330  4300000.0"
      ]
     },
     "execution_count": 79,
     "metadata": {},
     "output_type": "execute_result"
    },
    {
     "data": {
      "image/png": "[encoded data removed]",
      "text/plain": [
       "<Figure size 432x288 with 1 Axes>"
      ]
     },
     "metadata": {
      "needs_background": "light"
     },
     "output_type": "display_data"
    }
   ],
   "source": [
    "# Зависимость от этажа\n",
    "pivot_table_floor_status = data.pivot_table(index = 'floor_status', values = 'last_price', aggfunc = ['mean', 'count', 'median'])\n",
    "pivot_table_floor_status.columns = ['mean', 'count', 'median']\n",
    "pivot_table_floor_status.plot(y = 'median')\n",
    "\n",
    "pivot_table_floor_status\n",
    "# Квартиры на первом этаже - дешевле"
   ]
  },
  {
   "cell_type": "markdown",
   "metadata": {},
   "source": [
    "<div class=\"alert alert-success\">\n",
    "<h2> Комментарий ревьюера <a class=\"tocSkip\"> </h2>\n",
    "\n",
    "<b>Все супер!👍:</b> Отлично!"
   ]
  },
  {
   "cell_type": "code",
   "execution_count": 80,
   "metadata": {},
   "outputs": [
    {
     "data": {
      "text/html": [
       "<div>\n",
       "<style scoped>\n",
       "    .dataframe tbody tr th:only-of-type {\n",
       "        vertical-align: middle;\n",
       "    }\n",
       "\n",
       "    .dataframe tbody tr th {\n",
       "        vertical-align: top;\n",
       "    }\n",
       "\n",
       "    .dataframe thead th {\n",
       "        text-align: right;\n",
       "    }\n",
       "</style>\n",
       "<table border=\"1\" class=\"dataframe\">\n",
       "  <thead>\n",
       "    <tr style=\"text-align: right;\">\n",
       "      <th></th>\n",
       "      <th>mean</th>\n",
       "      <th>count</th>\n",
       "      <th>median</th>\n",
       "    </tr>\n",
       "    <tr>\n",
       "      <th>day_of_week_exposition</th>\n",
       "      <th></th>\n",
       "      <th></th>\n",
       "      <th></th>\n",
       "    </tr>\n",
       "  </thead>\n",
       "  <tbody>\n",
       "    <tr>\n",
       "      <th>Tuesday</th>\n",
       "      <td>6.393782e+06</td>\n",
       "      <td>4175</td>\n",
       "      <td>4720000.0</td>\n",
       "    </tr>\n",
       "    <tr>\n",
       "      <th>Wednesday</th>\n",
       "      <td>6.626416e+06</td>\n",
       "      <td>3966</td>\n",
       "      <td>4700000.0</td>\n",
       "    </tr>\n",
       "    <tr>\n",
       "      <th>Monday</th>\n",
       "      <td>6.510815e+06</td>\n",
       "      <td>3606</td>\n",
       "      <td>4650000.0</td>\n",
       "    </tr>\n",
       "    <tr>\n",
       "      <th>Thursday</th>\n",
       "      <td>6.711767e+06</td>\n",
       "      <td>4286</td>\n",
       "      <td>4650000.0</td>\n",
       "    </tr>\n",
       "    <tr>\n",
       "      <th>Friday</th>\n",
       "      <td>6.364605e+06</td>\n",
       "      <td>3992</td>\n",
       "      <td>4577500.0</td>\n",
       "    </tr>\n",
       "    <tr>\n",
       "      <th>Saturday</th>\n",
       "      <td>6.982510e+06</td>\n",
       "      <td>1933</td>\n",
       "      <td>4575000.0</td>\n",
       "    </tr>\n",
       "    <tr>\n",
       "      <th>Sunday</th>\n",
       "      <td>6.249360e+06</td>\n",
       "      <td>1692</td>\n",
       "      <td>4550000.0</td>\n",
       "    </tr>\n",
       "  </tbody>\n",
       "</table>\n",
       "</div>"
      ],
      "text/plain": [
       "                                mean  count     median\n",
       "day_of_week_exposition                                \n",
       "Tuesday                 6.393782e+06   4175  4720000.0\n",
       "Wednesday               6.626416e+06   3966  4700000.0\n",
       "Monday                  6.510815e+06   3606  4650000.0\n",
       "Thursday                6.711767e+06   4286  4650000.0\n",
       "Friday                  6.364605e+06   3992  4577500.0\n",
       "Saturday                6.982510e+06   1933  4575000.0\n",
       "Sunday                  6.249360e+06   1692  4550000.0"
      ]
     },
     "execution_count": 80,
     "metadata": {},
     "output_type": "execute_result"
    },
    {
     "data": {
      "image/png": "[encoded data removed]",
      "text/plain": [
       "<Figure size 432x288 with 1 Axes>"
      ]
     },
     "metadata": {
      "needs_background": "light"
     },
     "output_type": "display_data"
    }
   ],
   "source": [
    "# Зависимость от дня объявления\n",
    "pivot_table_day_of_week_exposition = data.pivot_table(index = 'day_of_week_exposition', values = 'last_price', aggfunc = ['mean', 'count', 'median'])\n",
    "pivot_table_day_of_week_exposition.columns = ['mean', 'count', 'median']\n",
    "pivot_table_day_of_week_exposition.plot(y = 'median')\n",
    "\n",
    "pivot_table_day_of_week_exposition.sort_values('median', ascending = False)\n",
    "# Самый успешный день для подачи объявления - вторник"
   ]
  },
  {
   "cell_type": "markdown",
   "metadata": {},
   "source": [
    "<div class=\"alert alert-warning\">\n",
    "    <h2> Комментарий ревьюера <a class=\"tocSkip\"> </h2>\n",
    "    \n",
    "<b>Небольшие замечания и рекомендации💡:</b> Вот здесь тоже уместно брать bar)"
   ]
  },
  {
   "cell_type": "code",
   "execution_count": 81,
   "metadata": {},
   "outputs": [
    {
     "data": {
      "text/html": [
       "<div>\n",
       "<style scoped>\n",
       "    .dataframe tbody tr th:only-of-type {\n",
       "        vertical-align: middle;\n",
       "    }\n",
       "\n",
       "    .dataframe tbody tr th {\n",
       "        vertical-align: top;\n",
       "    }\n",
       "\n",
       "    .dataframe thead th {\n",
       "        text-align: right;\n",
       "    }\n",
       "</style>\n",
       "<table border=\"1\" class=\"dataframe\">\n",
       "  <thead>\n",
       "    <tr style=\"text-align: right;\">\n",
       "      <th></th>\n",
       "      <th>mean</th>\n",
       "      <th>count</th>\n",
       "      <th>median</th>\n",
       "    </tr>\n",
       "    <tr>\n",
       "      <th>month_exposition</th>\n",
       "      <th></th>\n",
       "      <th></th>\n",
       "      <th></th>\n",
       "    </tr>\n",
       "  </thead>\n",
       "  <tbody>\n",
       "    <tr>\n",
       "      <th>April</th>\n",
       "      <td>6.742671e+06</td>\n",
       "      <td>2373</td>\n",
       "      <td>4800000.0</td>\n",
       "    </tr>\n",
       "    <tr>\n",
       "      <th>November</th>\n",
       "      <td>6.461458e+06</td>\n",
       "      <td>2367</td>\n",
       "      <td>4700000.0</td>\n",
       "    </tr>\n",
       "    <tr>\n",
       "      <th>September</th>\n",
       "      <td>6.828471e+06</td>\n",
       "      <td>1979</td>\n",
       "      <td>4700000.0</td>\n",
       "    </tr>\n",
       "    <tr>\n",
       "      <th>December</th>\n",
       "      <td>7.005343e+06</td>\n",
       "      <td>1638</td>\n",
       "      <td>4695000.0</td>\n",
       "    </tr>\n",
       "    <tr>\n",
       "      <th>February</th>\n",
       "      <td>6.464463e+06</td>\n",
       "      <td>2639</td>\n",
       "      <td>4650000.0</td>\n",
       "    </tr>\n",
       "    <tr>\n",
       "      <th>July</th>\n",
       "      <td>6.641336e+06</td>\n",
       "      <td>1690</td>\n",
       "      <td>4650000.0</td>\n",
       "    </tr>\n",
       "    <tr>\n",
       "      <th>March</th>\n",
       "      <td>6.362919e+06</td>\n",
       "      <td>2582</td>\n",
       "      <td>4650000.0</td>\n",
       "    </tr>\n",
       "    <tr>\n",
       "      <th>January</th>\n",
       "      <td>6.666975e+06</td>\n",
       "      <td>1491</td>\n",
       "      <td>4600000.0</td>\n",
       "    </tr>\n",
       "    <tr>\n",
       "      <th>August</th>\n",
       "      <td>6.352839e+06</td>\n",
       "      <td>1742</td>\n",
       "      <td>4570000.0</td>\n",
       "    </tr>\n",
       "    <tr>\n",
       "      <th>October</th>\n",
       "      <td>6.235166e+06</td>\n",
       "      <td>2124</td>\n",
       "      <td>4560000.0</td>\n",
       "    </tr>\n",
       "    <tr>\n",
       "      <th>May</th>\n",
       "      <td>6.594777e+06</td>\n",
       "      <td>1270</td>\n",
       "      <td>4500000.0</td>\n",
       "    </tr>\n",
       "    <tr>\n",
       "      <th>June</th>\n",
       "      <td>6.311184e+06</td>\n",
       "      <td>1755</td>\n",
       "      <td>4400000.0</td>\n",
       "    </tr>\n",
       "  </tbody>\n",
       "</table>\n",
       "</div>"
      ],
      "text/plain": [
       "                          mean  count     median\n",
       "month_exposition                                \n",
       "April             6.742671e+06   2373  4800000.0\n",
       "November          6.461458e+06   2367  4700000.0\n",
       "September         6.828471e+06   1979  4700000.0\n",
       "December          7.005343e+06   1638  4695000.0\n",
       "February          6.464463e+06   2639  4650000.0\n",
       "July              6.641336e+06   1690  4650000.0\n",
       "March             6.362919e+06   2582  4650000.0\n",
       "January           6.666975e+06   1491  4600000.0\n",
       "August            6.352839e+06   1742  4570000.0\n",
       "October           6.235166e+06   2124  4560000.0\n",
       "May               6.594777e+06   1270  4500000.0\n",
       "June              6.311184e+06   1755  4400000.0"
      ]
     },
     "execution_count": 81,
     "metadata": {},
     "output_type": "execute_result"
    },
    {
     "data": {
      "image/png": "[encoded data removed]",
      "text/plain": [
       "<Figure size 432x288 with 1 Axes>"
      ]
     },
     "metadata": {
      "needs_background": "light"
     },
     "output_type": "display_data"
    }
   ],
   "source": [
    "# Зависимость от месяца объявления\n",
    "pivot_table_month_exposition = data.pivot_table(index = 'month_exposition', values = 'last_price', aggfunc = ['mean', 'count', 'median'])\n",
    "pivot_table_month_exposition.columns = ['mean', 'count', 'median']\n",
    "pivot_table_month_exposition.plot(y = 'median')\n",
    "\n",
    "pivot_table_month_exposition.sort_values('median', ascending = False)\n",
    "# Самая высокая стоимость метра в апреле и августе\n",
    "# Самая низкая стоимость в мае и июне\n",
    "# В принципе, объясняется сезонностью: горячий сезон - весна и осень, летом - упадок"
   ]
  },
  {
   "cell_type": "markdown",
   "metadata": {},
   "source": [
    "<div class=\"alert alert-warning\">\n",
    "    <h2> Комментарий ревьюера <a class=\"tocSkip\"> </h2>\n",
    "    \n",
    "<b>Небольшие замечания и рекомендации💡:</b> Да, и здесь"
   ]
  },
  {
   "cell_type": "code",
   "execution_count": 82,
   "metadata": {},
   "outputs": [
    {
     "data": {
      "text/html": [
       "<div>\n",
       "<style scoped>\n",
       "    .dataframe tbody tr th:only-of-type {\n",
       "        vertical-align: middle;\n",
       "    }\n",
       "\n",
       "    .dataframe tbody tr th {\n",
       "        vertical-align: top;\n",
       "    }\n",
       "\n",
       "    .dataframe thead th {\n",
       "        text-align: right;\n",
       "    }\n",
       "</style>\n",
       "<table border=\"1\" class=\"dataframe\">\n",
       "  <thead>\n",
       "    <tr style=\"text-align: right;\">\n",
       "      <th></th>\n",
       "      <th>mean</th>\n",
       "      <th>count</th>\n",
       "      <th>median</th>\n",
       "    </tr>\n",
       "    <tr>\n",
       "      <th>year_exposition</th>\n",
       "      <th></th>\n",
       "      <th></th>\n",
       "      <th></th>\n",
       "    </tr>\n",
       "  </thead>\n",
       "  <tbody>\n",
       "    <tr>\n",
       "      <th>2014</th>\n",
       "      <td>1.204660e+07</td>\n",
       "      <td>136</td>\n",
       "      <td>7640000.0</td>\n",
       "    </tr>\n",
       "    <tr>\n",
       "      <th>2015</th>\n",
       "      <td>8.592727e+06</td>\n",
       "      <td>1173</td>\n",
       "      <td>5350000.0</td>\n",
       "    </tr>\n",
       "    <tr>\n",
       "      <th>2019</th>\n",
       "      <td>6.782388e+06</td>\n",
       "      <td>2879</td>\n",
       "      <td>5050000.0</td>\n",
       "    </tr>\n",
       "    <tr>\n",
       "      <th>2016</th>\n",
       "      <td>6.829415e+06</td>\n",
       "      <td>2765</td>\n",
       "      <td>4550000.0</td>\n",
       "    </tr>\n",
       "    <tr>\n",
       "      <th>2018</th>\n",
       "      <td>5.952216e+06</td>\n",
       "      <td>8512</td>\n",
       "      <td>4550000.0</td>\n",
       "    </tr>\n",
       "    <tr>\n",
       "      <th>2017</th>\n",
       "      <td>6.585822e+06</td>\n",
       "      <td>8185</td>\n",
       "      <td>4500000.0</td>\n",
       "    </tr>\n",
       "  </tbody>\n",
       "</table>\n",
       "</div>"
      ],
      "text/plain": [
       "                         mean  count     median\n",
       "year_exposition                                \n",
       "2014             1.204660e+07    136  7640000.0\n",
       "2015             8.592727e+06   1173  5350000.0\n",
       "2019             6.782388e+06   2879  5050000.0\n",
       "2016             6.829415e+06   2765  4550000.0\n",
       "2018             5.952216e+06   8512  4550000.0\n",
       "2017             6.585822e+06   8185  4500000.0"
      ]
     },
     "execution_count": 82,
     "metadata": {},
     "output_type": "execute_result"
    },
    {
     "data": {
      "image/png": "[encoded data removed]",
      "text/plain": [
       "<Figure size 432x288 with 1 Axes>"
      ]
     },
     "metadata": {
      "needs_background": "light"
     },
     "output_type": "display_data"
    }
   ],
   "source": [
    "# Зависимость от года объявления\n",
    "pivot_table_year_exposition = data.pivot_table(index = 'year_exposition', values = 'last_price', aggfunc = ['mean', 'count', 'median'])\n",
    "pivot_table_year_exposition.columns = ['mean', 'count', 'median']\n",
    "pivot_table_year_exposition.plot(y = 'median')\n",
    "\n",
    "pivot_table_year_exposition.sort_values('median', ascending = False)\n",
    "# В среднем с учётом того, что сегментация рынка не рассматривалась\n",
    "# Можно сказать, что цена с 2014-2016 планомерно снижалась (а в 14 мог быть ажиотаж - курс рубля падал)\n",
    "# Также стоимость аналогичных квартир от года к году может абсолютно меняться"
   ]
  },
  {
   "cell_type": "markdown",
   "metadata": {},
   "source": [
    "<div class=\"alert alert-warning\">\n",
    "    <h2> Комментарий ревьюера <a class=\"tocSkip\"> </h2>\n",
    "    \n",
    "<b>Небольшие замечания и рекомендации💡:</b> И здесь)"
   ]
  },
  {
   "cell_type": "markdown",
   "metadata": {},
   "source": [
    "#### Посчитайте среднюю цену одного квадратного метра в 10 населённых пунктах с наибольшим числом объявлений. Выделите населённые пункты с самой высокой и низкой стоимостью квадратного метра"
   ]
  },
  {
   "cell_type": "code",
   "execution_count": 83,
   "metadata": {},
   "outputs": [
    {
     "data": {
      "text/plain": [
       "санкт-петербург      15721\n",
       "поселок мурино         556\n",
       "поселок шушары         440\n",
       "всеволожск             398\n",
       "пушкин                 369\n",
       "колпино                338\n",
       "поселок парголово      327\n",
       "гатчина                307\n",
       "деревня кудрово        299\n",
       "выборг                 237\n",
       "Name: town_name, dtype: int64"
      ]
     },
     "execution_count": 83,
     "metadata": {},
     "output_type": "execute_result"
    }
   ],
   "source": [
    "data['town_name'].value_counts().head(10)"
   ]
  },
  {
   "cell_type": "code",
   "execution_count": 84,
   "metadata": {},
   "outputs": [
    {
     "name": "stdout",
     "output_type": "stream",
     "text": [
      "\n",
      "В  санкт-петербург всего 15721 объявлений со средней ценой метра 114849.00879333376\n",
      "\n",
      "В  поселок мурино всего 556 объявлений со средней ценой метра 85681.76257194244\n",
      "\n",
      "В  поселок шушары всего 440 объявлений со средней ценой метра 78677.3643181818\n",
      "\n",
      "В  всеволожск всего 398 объявлений со средней ценой метра 68654.47396984925\n",
      "\n",
      "В  пушкин всего 369 объявлений со средней ценой метра 103125.81937669375\n",
      "\n",
      "В  колпино всего 338 объявлений со средней ценой метра 75424.57911242604\n",
      "\n",
      "В  поселок парголово всего 327 объявлений со средней ценой метра 90175.91308868502\n",
      "\n",
      "В  гатчина всего 307 объявлений со средней ценой метра 68746.14651465797\n",
      "\n",
      "В  деревня кудрово всего 299 объявлений со средней ценой метра 92473.54755852843\n",
      "\n",
      "В  выборг всего 237 объявлений со средней ценой метра 58141.909324894514\n"
     ]
    }
   ],
   "source": [
    "# в список\n",
    "town_name_short = data['town_name'].value_counts()\n",
    "# срез 10 значений\n",
    "town_name_short = town_name_short[0:10]\n",
    "town_name_short\n",
    "\n",
    "rating_town_name = pd.DataFrame()\n",
    "for i in range(len(town_name_short)):\n",
    "    name= town_name_short.index[i]\n",
    "    qty= town_name_short[i]\n",
    "    mean= data.query('town_name == @name').price_per_meter.mean()\n",
    "    print()\n",
    "    print('В ', name, \"всего\", qty, \"объявлений со средней ценой метра\", mean)\n",
    "    \n",
    "    new_row = {'city':name, 'qty':qty, 'mean':mean}\n",
    "    \n",
    "    rating_town_name = rating_town_name.append(new_row, ignore_index=True)"
   ]
  },
  {
   "cell_type": "markdown",
   "metadata": {},
   "source": [
    "<div class=\"alert alert-success\">\n",
    "<h2> Комментарий ревьюера <a class=\"tocSkip\"> </h2>\n",
    "\n",
    "<b>Все супер!👍:</b> Супер, то, что нужно"
   ]
  },
  {
   "cell_type": "code",
   "execution_count": 85,
   "metadata": {},
   "outputs": [
    {
     "data": {
      "text/html": [
       "<div>\n",
       "<style scoped>\n",
       "    .dataframe tbody tr th:only-of-type {\n",
       "        vertical-align: middle;\n",
       "    }\n",
       "\n",
       "    .dataframe tbody tr th {\n",
       "        vertical-align: top;\n",
       "    }\n",
       "\n",
       "    .dataframe thead th {\n",
       "        text-align: right;\n",
       "    }\n",
       "</style>\n",
       "<table border=\"1\" class=\"dataframe\">\n",
       "  <thead>\n",
       "    <tr style=\"text-align: right;\">\n",
       "      <th></th>\n",
       "      <th>city</th>\n",
       "      <th>mean</th>\n",
       "      <th>qty</th>\n",
       "    </tr>\n",
       "  </thead>\n",
       "  <tbody>\n",
       "    <tr>\n",
       "      <th>0</th>\n",
       "      <td>санкт-петербург</td>\n",
       "      <td>114849.008793</td>\n",
       "      <td>15721.0</td>\n",
       "    </tr>\n",
       "    <tr>\n",
       "      <th>1</th>\n",
       "      <td>поселок мурино</td>\n",
       "      <td>85681.762572</td>\n",
       "      <td>556.0</td>\n",
       "    </tr>\n",
       "    <tr>\n",
       "      <th>2</th>\n",
       "      <td>поселок шушары</td>\n",
       "      <td>78677.364318</td>\n",
       "      <td>440.0</td>\n",
       "    </tr>\n",
       "    <tr>\n",
       "      <th>3</th>\n",
       "      <td>всеволожск</td>\n",
       "      <td>68654.473970</td>\n",
       "      <td>398.0</td>\n",
       "    </tr>\n",
       "    <tr>\n",
       "      <th>4</th>\n",
       "      <td>пушкин</td>\n",
       "      <td>103125.819377</td>\n",
       "      <td>369.0</td>\n",
       "    </tr>\n",
       "    <tr>\n",
       "      <th>5</th>\n",
       "      <td>колпино</td>\n",
       "      <td>75424.579112</td>\n",
       "      <td>338.0</td>\n",
       "    </tr>\n",
       "    <tr>\n",
       "      <th>6</th>\n",
       "      <td>поселок парголово</td>\n",
       "      <td>90175.913089</td>\n",
       "      <td>327.0</td>\n",
       "    </tr>\n",
       "    <tr>\n",
       "      <th>7</th>\n",
       "      <td>гатчина</td>\n",
       "      <td>68746.146515</td>\n",
       "      <td>307.0</td>\n",
       "    </tr>\n",
       "    <tr>\n",
       "      <th>8</th>\n",
       "      <td>деревня кудрово</td>\n",
       "      <td>92473.547559</td>\n",
       "      <td>299.0</td>\n",
       "    </tr>\n",
       "    <tr>\n",
       "      <th>9</th>\n",
       "      <td>выборг</td>\n",
       "      <td>58141.909325</td>\n",
       "      <td>237.0</td>\n",
       "    </tr>\n",
       "  </tbody>\n",
       "</table>\n",
       "</div>"
      ],
      "text/plain": [
       "                city           mean      qty\n",
       "0    санкт-петербург  114849.008793  15721.0\n",
       "1     поселок мурино   85681.762572    556.0\n",
       "2     поселок шушары   78677.364318    440.0\n",
       "3         всеволожск   68654.473970    398.0\n",
       "4             пушкин  103125.819377    369.0\n",
       "5            колпино   75424.579112    338.0\n",
       "6  поселок парголово   90175.913089    327.0\n",
       "7            гатчина   68746.146515    307.0\n",
       "8    деревня кудрово   92473.547559    299.0\n",
       "9             выборг   58141.909325    237.0"
      ]
     },
     "execution_count": 85,
     "metadata": {},
     "output_type": "execute_result"
    }
   ],
   "source": [
    "rating_town_name"
   ]
  },
  {
   "cell_type": "code",
   "execution_count": 86,
   "metadata": {},
   "outputs": [
    {
     "data": {
      "text/html": [
       "<div>\n",
       "<style scoped>\n",
       "    .dataframe tbody tr th:only-of-type {\n",
       "        vertical-align: middle;\n",
       "    }\n",
       "\n",
       "    .dataframe tbody tr th {\n",
       "        vertical-align: top;\n",
       "    }\n",
       "\n",
       "    .dataframe thead th {\n",
       "        text-align: right;\n",
       "    }\n",
       "</style>\n",
       "<table border=\"1\" class=\"dataframe\">\n",
       "  <thead>\n",
       "    <tr style=\"text-align: right;\">\n",
       "      <th></th>\n",
       "      <th>mean</th>\n",
       "      <th>qty</th>\n",
       "    </tr>\n",
       "  </thead>\n",
       "  <tbody>\n",
       "    <tr>\n",
       "      <th>count</th>\n",
       "      <td>10.000000</td>\n",
       "      <td>10.000000</td>\n",
       "    </tr>\n",
       "    <tr>\n",
       "      <th>mean</th>\n",
       "      <td>83595.052463</td>\n",
       "      <td>1899.200000</td>\n",
       "    </tr>\n",
       "    <tr>\n",
       "      <th>std</th>\n",
       "      <td>17215.187365</td>\n",
       "      <td>4857.280076</td>\n",
       "    </tr>\n",
       "    <tr>\n",
       "      <th>min</th>\n",
       "      <td>58141.909325</td>\n",
       "      <td>237.000000</td>\n",
       "    </tr>\n",
       "    <tr>\n",
       "      <th>25%</th>\n",
       "      <td>70415.754664</td>\n",
       "      <td>312.000000</td>\n",
       "    </tr>\n",
       "    <tr>\n",
       "      <th>50%</th>\n",
       "      <td>82179.563445</td>\n",
       "      <td>353.500000</td>\n",
       "    </tr>\n",
       "    <tr>\n",
       "      <th>75%</th>\n",
       "      <td>91899.138941</td>\n",
       "      <td>429.500000</td>\n",
       "    </tr>\n",
       "    <tr>\n",
       "      <th>max</th>\n",
       "      <td>114849.008793</td>\n",
       "      <td>15721.000000</td>\n",
       "    </tr>\n",
       "  </tbody>\n",
       "</table>\n",
       "</div>"
      ],
      "text/plain": [
       "                mean           qty\n",
       "count      10.000000     10.000000\n",
       "mean    83595.052463   1899.200000\n",
       "std     17215.187365   4857.280076\n",
       "min     58141.909325    237.000000\n",
       "25%     70415.754664    312.000000\n",
       "50%     82179.563445    353.500000\n",
       "75%     91899.138941    429.500000\n",
       "max    114849.008793  15721.000000"
      ]
     },
     "execution_count": 86,
     "metadata": {},
     "output_type": "execute_result"
    }
   ],
   "source": [
    "rating_town_name.describe()"
   ]
  },
  {
   "cell_type": "code",
   "execution_count": 87,
   "metadata": {},
   "outputs": [
    {
     "data": {
      "text/html": [
       "<div>\n",
       "<style scoped>\n",
       "    .dataframe tbody tr th:only-of-type {\n",
       "        vertical-align: middle;\n",
       "    }\n",
       "\n",
       "    .dataframe tbody tr th {\n",
       "        vertical-align: top;\n",
       "    }\n",
       "\n",
       "    .dataframe thead th {\n",
       "        text-align: right;\n",
       "    }\n",
       "</style>\n",
       "<table border=\"1\" class=\"dataframe\">\n",
       "  <thead>\n",
       "    <tr style=\"text-align: right;\">\n",
       "      <th></th>\n",
       "      <th>count</th>\n",
       "      <th>mean</th>\n",
       "    </tr>\n",
       "    <tr>\n",
       "      <th>town_name</th>\n",
       "      <th></th>\n",
       "      <th></th>\n",
       "    </tr>\n",
       "  </thead>\n",
       "  <tbody>\n",
       "    <tr>\n",
       "      <th>санкт-петербург</th>\n",
       "      <td>15721</td>\n",
       "      <td>114849.008793</td>\n",
       "    </tr>\n",
       "  </tbody>\n",
       "</table>\n",
       "</div>"
      ],
      "text/plain": [
       "                 count           mean\n",
       "town_name                            \n",
       "санкт-петербург  15721  114849.008793"
      ]
     },
     "execution_count": 87,
     "metadata": {},
     "output_type": "execute_result"
    }
   ],
   "source": [
    "town_name_pivot_table = data.pivot_table(index = 'town_name', values = 'price_per_meter', aggfunc=['count', 'mean'])\n",
    "town_name_pivot_table.columns = ['count', 'mean']\n",
    "town_name_pivot_table = town_name_pivot_table.sort_values('count', ascending = False).head(10)\n",
    "town_name_pivot_table\n",
    "\n",
    "#самая высокая стоимость\n",
    "town_name_pivot_table[town_name_pivot_table['mean']==town_name_pivot_table['mean'].max()]"
   ]
  },
  {
   "cell_type": "code",
   "execution_count": 88,
   "metadata": {},
   "outputs": [
    {
     "data": {
      "text/html": [
       "<div>\n",
       "<style scoped>\n",
       "    .dataframe tbody tr th:only-of-type {\n",
       "        vertical-align: middle;\n",
       "    }\n",
       "\n",
       "    .dataframe tbody tr th {\n",
       "        vertical-align: top;\n",
       "    }\n",
       "\n",
       "    .dataframe thead th {\n",
       "        text-align: right;\n",
       "    }\n",
       "</style>\n",
       "<table border=\"1\" class=\"dataframe\">\n",
       "  <thead>\n",
       "    <tr style=\"text-align: right;\">\n",
       "      <th></th>\n",
       "      <th>count</th>\n",
       "      <th>mean</th>\n",
       "    </tr>\n",
       "    <tr>\n",
       "      <th>town_name</th>\n",
       "      <th></th>\n",
       "      <th></th>\n",
       "    </tr>\n",
       "  </thead>\n",
       "  <tbody>\n",
       "    <tr>\n",
       "      <th>выборг</th>\n",
       "      <td>237</td>\n",
       "      <td>58141.909325</td>\n",
       "    </tr>\n",
       "  </tbody>\n",
       "</table>\n",
       "</div>"
      ],
      "text/plain": [
       "           count          mean\n",
       "town_name                     \n",
       "выборг       237  58141.909325"
      ]
     },
     "execution_count": 88,
     "metadata": {},
     "output_type": "execute_result"
    }
   ],
   "source": [
    "town_name_pivot_table = data.pivot_table(index = 'town_name', values = 'price_per_meter', aggfunc=['count', 'mean'])\n",
    "town_name_pivot_table.columns = ['count', 'mean']\n",
    "town_name_pivot_table = town_name_pivot_table.sort_values('count', ascending = False).head(10)\n",
    "town_name_pivot_table\n",
    "\n",
    "#самая низкая стоимость\n",
    "town_name_pivot_table[town_name_pivot_table['mean']==town_name_pivot_table['mean'].min()]"
   ]
  },
  {
   "cell_type": "markdown",
   "metadata": {},
   "source": [
    "<div class=\"alert alert-success\">\n",
    "<h2> Комментарий ревьюера <a class=\"tocSkip\"> </h2>\n",
    "\n",
    "<b>Все супер!👍:</b> Ага, абсолюнто верно"
   ]
  },
  {
   "cell_type": "markdown",
   "metadata": {},
   "source": [
    "#### Ранее вы посчитали расстояние до центра в километрах. Теперь выделите квартиры в Санкт-Петербурге с помощью столбца locality_name и вычислите среднюю цену каждого километра. Опишите, как стоимость объектов зависит от расстояния до центра города."
   ]
  },
  {
   "cell_type": "code",
   "execution_count": 89,
   "metadata": {},
   "outputs": [
    {
     "data": {
      "text/html": [
       "<div>\n",
       "<style scoped>\n",
       "    .dataframe tbody tr th:only-of-type {\n",
       "        vertical-align: middle;\n",
       "    }\n",
       "\n",
       "    .dataframe tbody tr th {\n",
       "        vertical-align: top;\n",
       "    }\n",
       "\n",
       "    .dataframe thead th {\n",
       "        text-align: right;\n",
       "    }\n",
       "</style>\n",
       "<table border=\"1\" class=\"dataframe\">\n",
       "  <thead>\n",
       "    <tr style=\"text-align: right;\">\n",
       "      <th></th>\n",
       "      <th>price_per_meter</th>\n",
       "    </tr>\n",
       "    <tr>\n",
       "      <th>city_center_distance_km</th>\n",
       "      <th></th>\n",
       "    </tr>\n",
       "  </thead>\n",
       "  <tbody>\n",
       "    <tr>\n",
       "      <th>0</th>\n",
       "      <td>245833.530370</td>\n",
       "    </tr>\n",
       "    <tr>\n",
       "      <th>1</th>\n",
       "      <td>177005.407604</td>\n",
       "    </tr>\n",
       "    <tr>\n",
       "      <th>2</th>\n",
       "      <td>157849.007290</td>\n",
       "    </tr>\n",
       "    <tr>\n",
       "      <th>3</th>\n",
       "      <td>121448.735845</td>\n",
       "    </tr>\n",
       "    <tr>\n",
       "      <th>4</th>\n",
       "      <td>133528.354741</td>\n",
       "    </tr>\n",
       "    <tr>\n",
       "      <th>5</th>\n",
       "      <td>140276.624092</td>\n",
       "    </tr>\n",
       "    <tr>\n",
       "      <th>6</th>\n",
       "      <td>151143.572935</td>\n",
       "    </tr>\n",
       "    <tr>\n",
       "      <th>7</th>\n",
       "      <td>156221.286986</td>\n",
       "    </tr>\n",
       "    <tr>\n",
       "      <th>8</th>\n",
       "      <td>125559.012612</td>\n",
       "    </tr>\n",
       "    <tr>\n",
       "      <th>9</th>\n",
       "      <td>113249.783206</td>\n",
       "    </tr>\n",
       "    <tr>\n",
       "      <th>10</th>\n",
       "      <td>112588.487098</td>\n",
       "    </tr>\n",
       "    <tr>\n",
       "      <th>11</th>\n",
       "      <td>108678.535353</td>\n",
       "    </tr>\n",
       "    <tr>\n",
       "      <th>12</th>\n",
       "      <td>107419.001196</td>\n",
       "    </tr>\n",
       "    <tr>\n",
       "      <th>13</th>\n",
       "      <td>108004.693825</td>\n",
       "    </tr>\n",
       "    <tr>\n",
       "      <th>14</th>\n",
       "      <td>104631.487376</td>\n",
       "    </tr>\n",
       "    <tr>\n",
       "      <th>15</th>\n",
       "      <td>104202.049769</td>\n",
       "    </tr>\n",
       "    <tr>\n",
       "      <th>16</th>\n",
       "      <td>100552.908884</td>\n",
       "    </tr>\n",
       "    <tr>\n",
       "      <th>17</th>\n",
       "      <td>96477.295940</td>\n",
       "    </tr>\n",
       "    <tr>\n",
       "      <th>18</th>\n",
       "      <td>96336.421061</td>\n",
       "    </tr>\n",
       "    <tr>\n",
       "      <th>19</th>\n",
       "      <td>98652.735732</td>\n",
       "    </tr>\n",
       "    <tr>\n",
       "      <th>20</th>\n",
       "      <td>103045.181837</td>\n",
       "    </tr>\n",
       "    <tr>\n",
       "      <th>21</th>\n",
       "      <td>94582.033534</td>\n",
       "    </tr>\n",
       "    <tr>\n",
       "      <th>22</th>\n",
       "      <td>91281.632315</td>\n",
       "    </tr>\n",
       "    <tr>\n",
       "      <th>23</th>\n",
       "      <td>91828.517765</td>\n",
       "    </tr>\n",
       "    <tr>\n",
       "      <th>24</th>\n",
       "      <td>85736.904615</td>\n",
       "    </tr>\n",
       "    <tr>\n",
       "      <th>25</th>\n",
       "      <td>91531.371154</td>\n",
       "    </tr>\n",
       "    <tr>\n",
       "      <th>26</th>\n",
       "      <td>89285.877170</td>\n",
       "    </tr>\n",
       "    <tr>\n",
       "      <th>27</th>\n",
       "      <td>132115.710000</td>\n",
       "    </tr>\n",
       "    <tr>\n",
       "      <th>28</th>\n",
       "      <td>81161.914286</td>\n",
       "    </tr>\n",
       "    <tr>\n",
       "      <th>29</th>\n",
       "      <td>72953.365000</td>\n",
       "    </tr>\n",
       "  </tbody>\n",
       "</table>\n",
       "</div>"
      ],
      "text/plain": [
       "                         price_per_meter\n",
       "city_center_distance_km                 \n",
       "0                          245833.530370\n",
       "1                          177005.407604\n",
       "2                          157849.007290\n",
       "3                          121448.735845\n",
       "4                          133528.354741\n",
       "5                          140276.624092\n",
       "6                          151143.572935\n",
       "7                          156221.286986\n",
       "8                          125559.012612\n",
       "9                          113249.783206\n",
       "10                         112588.487098\n",
       "11                         108678.535353\n",
       "12                         107419.001196\n",
       "13                         108004.693825\n",
       "14                         104631.487376\n",
       "15                         104202.049769\n",
       "16                         100552.908884\n",
       "17                          96477.295940\n",
       "18                          96336.421061\n",
       "19                          98652.735732\n",
       "20                         103045.181837\n",
       "21                          94582.033534\n",
       "22                          91281.632315\n",
       "23                          91828.517765\n",
       "24                          85736.904615\n",
       "25                          91531.371154\n",
       "26                          89285.877170\n",
       "27                         132115.710000\n",
       "28                          81161.914286\n",
       "29                          72953.365000"
      ]
     },
     "execution_count": 89,
     "metadata": {},
     "output_type": "execute_result"
    },
    {
     "data": {
      "image/png": "[encoded data removed]",
      "text/plain": [
       "<Figure size 432x288 with 1 Axes>"
      ]
     },
     "metadata": {
      "needs_background": "light"
     },
     "output_type": "display_data"
    }
   ],
   "source": [
    "# Заполним пропуски маркером и отфильтруем их\n",
    "data['city_center_distance_km'] = data['city_center_distance_km'].fillna(999999)\n",
    "data['city_center_distance_km'] = data['city_center_distance_km'].astype('int')\n",
    "pivot_table_km = data.query('town_name == \"санкт-петербург\" and city_center_distance_km !=999999').pivot_table(index = 'city_center_distance_km', values = 'price_per_meter', aggfunc = 'mean')\n",
    "pivot_table_km.plot()\n",
    "pivot_table_km"
   ]
  },
  {
   "cell_type": "markdown",
   "metadata": {},
   "source": [
    "Вывод: \n",
    "- Ожидаемо, что в самом центре (в радиусе до 1 км) медианная цена на квартиру стремится к 20 млн р. Если опираться на резкое падение цены по графику, то центр ограничен радиусом в 8 км, далее медианная цена довольно заметно падает. Однако, цены на 4-7км сравнимы с ценами на квартиры, расположенные в 2 км от центра - предположительно из - за квартир в \"элитных районах\" - исторических, например."
   ]
  },
  {
   "cell_type": "markdown",
   "metadata": {},
   "source": [
    "<div class=\"alert alert-success\">\n",
    "<h2> Комментарий ревьюера <a class=\"tocSkip\"> </h2>\n",
    "\n",
    "<b>Все супер!👍:</b> Хорошая работа, молодец"
   ]
  },
  {
   "cell_type": "markdown",
   "metadata": {},
   "source": [
    "### Общий вывод"
   ]
  },
  {
   "cell_type": "markdown",
   "metadata": {},
   "source": [
    "Мы обработали полученный архив данных - обработали пропущенные значения там, где это необходимо, заменили типы данных на необходимые для удобной работы. \n",
    "Посчитали и добавили в таблицу цену квадратного метра жилья, вывели из даты дни недели, месяцы и года размещения объявлений, добавили категории по этажам квартир. \n",
    "Изучая время продажи квартир мы выявили, что большое количество объявлений было автоматически снято с Яндекс Недвижимость и дату из снятия нельзя считать датой продажи квартиры, поэтому, изучая средние сроки продажи квартир - данные значения не учитывались. \n",
    "Мы выявили. что в среднем большая часть квартир продавалась в течение первых 50 дней\n",
    "Мы выявили, что на стоимость квадратного метра квартиры больше всего влияют количество комнат, этаж квартиры, близость к центру, площадь. Незначительно на стоимость квадратного метра влияют день, месяц, год размещения - связано с сезонностью.\n",
    "Также важно учитывать, что, рассматривая среднюю стоимость квартир в 2014-2019 годах, мы не делали сегментацию рынка, а лишь смотрели средние показатели по рынку в целом. \n",
    "Возможно, что цены на аналогичные квартиры в разных годах вели себя абсолютно по-разному.\n",
    "Несмотря на общую \"загрязнённость\" данных, результаты исследования показательны."
   ]
  },
  {
   "cell_type": "markdown",
   "metadata": {},
   "source": [
    "<div class=\"alert alert-success\">\n",
    "<h2> Комментарий ревьюера <a class=\"tocSkip\"> </h2>\n",
    "\n",
    "<b>Все супер!👍:</b> Достойный вывод!"
   ]
  },
  {
   "cell_type": "markdown",
   "metadata": {},
   "source": [
    "P.S. Потратила на проект больше двух недель, надеюсь, что критичных замечаний нет и проект можно считать успешно выполненным (я крайне на это рассчитываю - совершенно нет времени на правки). Обещаю исправиться в следующем проекте и держу пальцы крестиком :)"
   ]
  },
  {
   "cell_type": "markdown",
   "metadata": {},
   "source": [
    "<div class=\"alert alert-warning\">\n",
    "    <h2> Комментарий ревьюера <a class=\"tocSkip\"> </h2>\n",
    "    \n",
    "<b>Небольшие замечания и рекомендации💡:</b> Очень рад, что ты уделила столько времени проекту, это важно. Но пообещай, что все желтые комменты исправишь. Они с большим красным оттенком ;)"
   ]
  },
  {
   "cell_type": "markdown",
   "metadata": {},
   "source": [
    "<div style=\"border:solid Chocolate 2px; padding: 40px\">\n",
    "    \n",
    "**Общий вывод по проекту ревьювера**:\n",
    " Ольга, спасибо за  проект! Ты приложил много усилий, чтобы довести его до конца, проделана огромная работа, и это видно невооруженным глазом, ты большой молодец!\n",
    "    \n",
    "**Отмечу положительные моменты**:\n",
    "    1. Все разложено по полочкам, всегда понятен ход твоих мыслей, приятно смотреть\n",
    "    \n",
    "    2. Отличные визуализации\n",
    "    \n",
    "    2. На разных шагах проекта ты предлагала очень интересные решения и методы для их реализации. Хорошая работа!\n",
    "    \n",
    "    \n",
    "**На что стоит обратить внимание**:\n",
    "    \n",
    "    1. Нет поиска явных дубликатов\n",
    "\n",
    "    2. Рассмотрены не все столбцы с пропусками, отметил это красным комментом\n",
    "\n",
    "    3. Не удалены выбросы из столбцов\n",
    "\n",
    "    3. В исследовательском анализе не везде взята конечная цена квартиры. Вместо нее фигурирует цена квадратного метра\n",
    "    \n",
    "    \n",
    "**Удачи и жду твой проект на повторное ревью!**"
   ]
  },
  {
   "cell_type": "markdown",
   "metadata": {},
   "source": [
    "**Чек-лист готовности проекта**\n",
    "\n",
    "Поставьте 'x' в выполненных пунктах. Далее нажмите Shift+Enter."
   ]
  },
  {
   "cell_type": "markdown",
   "metadata": {},
   "source": [
    "- [x]  открыт файл\n",
    "- [x]  файлы изучены (выведены первые строки, метод `info()`, гистограммы и т.д.)\n",
    "- [x]  определены пропущенные значения\n",
    "- [x]  заполнены пропущенные значения там, где это возможно\n",
    "- [x]  есть пояснение, какие пропущенные значения обнаружены\n",
    "- [x]  изменены типы данных\n",
    "- [x]  есть пояснение, в каких столбцах изменены типы и почему\n",
    "- [x]  устранены неявные дубликаты в названиях населённых пунктов\n",
    "- [x]  устранены редкие и выбивающиеся значения (аномалии) во всех столбцах\n",
    "- [x]  посчитано и добавлено в таблицу: цена одного квадратного метра\n",
    "- [x]  посчитано и добавлено в таблицу: день публикации объявления (0 - понедельник, 1 - вторник и т.д.)\n",
    "- [x]  посчитано и добавлено в таблицу: месяц публикации объявления\n",
    "- [x]  посчитано и добавлено в таблицу: год публикации объявления\n",
    "- [x]  посчитано и добавлено в таблицу: тип этажа квартиры (значения — «первый», «последний», «другой»)\n",
    "- [x]  посчитано и добавлено в таблицу: расстояние в км до центра города\n",
    "- [x]  изучены и описаны следующие параметры:\n",
    "        - общая площадь;\n",
    "        - жилая площадь;\n",
    "        - площадь кухни;\n",
    "        - цена объекта;\n",
    "        - количество комнат;\n",
    "        - высота потолков;\n",
    "        - этаж квартиры;\n",
    "        - тип этажа квартиры («первый», «последний», «другой»);\n",
    "        - общее количество этажей в доме;\n",
    "        - расстояние до центра города в метрах;\n",
    "        - расстояние до ближайшего аэропорта;\n",
    "        - расстояние до ближайшего парка;\n",
    "        - день и месяц публикации объявления\n",
    "- [x]  построены гистограммы для каждого параметра\n",
    "- [x]  выполнено задание: \"Изучите, как быстро продавались квартиры (столбец days_exposition). Этот параметр показывает, сколько дней «висело» каждое объявление.\n",
    "    - Постройте гистограмму.\n",
    "    - Посчитайте среднее и медиану.\n",
    "    - В ячейке типа markdown опишите, сколько обычно занимает продажа. Какие продажи можно считать быстрыми, а какие — необычно долгими?\"\n",
    "- [x]  выполнено задание: \"Какие факторы больше всего влияют на общую (полную) стоимость объекта? Постройте графики, которые покажут зависимость цены от указанных ниже параметров. Для подготовки данных перед визуализацией вы можете использовать сводные таблицы.\"\n",
    "        - общей площади;\n",
    "        - жилой площади;\n",
    "        - площади кухни;\n",
    "        - количество комнат;\n",
    "        - типа этажа, на котором расположена квартира (первый, последний, другой);\n",
    "        - даты размещения (день недели, месяц, год);\n",
    "- [x]  выполнено задание: \"Посчитайте среднюю цену одного квадратного метра в 10 населённых пунктах с наибольшим числом объявлений. Выделите населённые пункты с самой высокой и низкой стоимостью квадратного метра. Эти данные можно найти по имени в столбце `locality_name`.\"\n",
    "- [x]  выполнено задание: \"Ранее вы посчитали расстояние до центра в километрах. Теперь выделите квартиры в Санкт-Петербурге с помощью столбца `locality_name` и вычислите среднюю цену каждого километра. Опишите, как стоимость объектов зависит от расстояния до центра города.\"\n",
    "- [x]  в каждом этапе есть промежуточные выводы\n",
    "- [x]  есть общий вывод"
   ]
  }
 ],
 "metadata": {
  "ExecuteTimeLog": [
   {
    "duration": 563,
    "start_time": "2022-06-28T17:42:54.520Z"
   },
   {
    "duration": 84,
    "start_time": "2022-06-28T17:42:57.133Z"
   },
   {
    "duration": 81,
    "start_time": "2022-06-28T17:42:58.940Z"
   },
   {
    "duration": 100,
    "start_time": "2022-06-28T17:43:25.807Z"
   },
   {
    "duration": 5,
    "start_time": "2022-06-28T17:57:58.373Z"
   },
   {
    "duration": 5,
    "start_time": "2022-06-28T17:58:21.335Z"
   },
   {
    "duration": 7,
    "start_time": "2022-06-28T17:58:48.433Z"
   },
   {
    "duration": 6,
    "start_time": "2022-06-28T17:59:27.873Z"
   },
   {
    "duration": 5,
    "start_time": "2022-06-28T18:00:26.977Z"
   },
   {
    "duration": 70,
    "start_time": "2022-06-28T18:00:48.217Z"
   },
   {
    "duration": 5,
    "start_time": "2022-06-28T18:00:53.887Z"
   },
   {
    "duration": 9,
    "start_time": "2022-06-28T18:01:28.295Z"
   },
   {
    "duration": 5,
    "start_time": "2022-06-28T18:01:56.753Z"
   },
   {
    "duration": 4,
    "start_time": "2022-06-28T18:02:36.454Z"
   },
   {
    "duration": 6,
    "start_time": "2022-06-28T18:02:46.674Z"
   },
   {
    "duration": 6,
    "start_time": "2022-06-28T18:03:09.783Z"
   },
   {
    "duration": 6,
    "start_time": "2022-06-28T18:03:36.898Z"
   },
   {
    "duration": 4,
    "start_time": "2022-06-28T18:04:02.955Z"
   },
   {
    "duration": 5,
    "start_time": "2022-06-28T18:04:34.918Z"
   },
   {
    "duration": 4,
    "start_time": "2022-06-28T18:06:43.241Z"
   },
   {
    "duration": 8,
    "start_time": "2022-06-28T18:07:31.445Z"
   },
   {
    "duration": 2315,
    "start_time": "2022-06-28T18:13:11.274Z"
   },
   {
    "duration": 34,
    "start_time": "2022-06-28T18:14:27.279Z"
   },
   {
    "duration": 1887,
    "start_time": "2022-06-28T18:14:32.304Z"
   },
   {
    "duration": 508,
    "start_time": "2022-07-02T08:38:26.434Z"
   },
   {
    "duration": 36,
    "start_time": "2022-07-02T08:38:33.991Z"
   },
   {
    "duration": 32,
    "start_time": "2022-07-02T08:42:05.971Z"
   },
   {
    "duration": 70,
    "start_time": "2022-07-02T08:43:08.677Z"
   },
   {
    "duration": 70,
    "start_time": "2022-07-02T08:43:10.891Z"
   },
   {
    "duration": 33,
    "start_time": "2022-07-02T08:43:21.882Z"
   },
   {
    "duration": 70,
    "start_time": "2022-07-02T08:43:25.074Z"
   },
   {
    "duration": 78,
    "start_time": "2022-07-02T08:43:30.036Z"
   },
   {
    "duration": 33,
    "start_time": "2022-07-02T09:11:13.875Z"
   },
   {
    "duration": 81,
    "start_time": "2022-07-02T09:12:33.499Z"
   },
   {
    "duration": 21,
    "start_time": "2022-07-02T09:13:00.691Z"
   },
   {
    "duration": 14,
    "start_time": "2022-07-02T09:14:15.334Z"
   },
   {
    "duration": 29,
    "start_time": "2022-07-02T09:14:21.269Z"
   },
   {
    "duration": 43,
    "start_time": "2022-07-02T09:14:27.541Z"
   },
   {
    "duration": 27,
    "start_time": "2022-07-02T09:14:33.717Z"
   },
   {
    "duration": 2309,
    "start_time": "2022-07-02T09:15:12.162Z"
   },
   {
    "duration": 72,
    "start_time": "2022-07-02T09:30:28.502Z"
   },
   {
    "duration": 5,
    "start_time": "2022-07-02T09:30:34.517Z"
   },
   {
    "duration": 2,
    "start_time": "2022-07-02T09:32:35.401Z"
   },
   {
    "duration": 3,
    "start_time": "2022-07-02T09:32:48.672Z"
   },
   {
    "duration": 3,
    "start_time": "2022-07-02T09:32:59.182Z"
   },
   {
    "duration": 4,
    "start_time": "2022-07-02T09:33:14.974Z"
   },
   {
    "duration": 4,
    "start_time": "2022-07-02T09:36:52.881Z"
   },
   {
    "duration": 8,
    "start_time": "2022-07-02T09:48:00.119Z"
   },
   {
    "duration": 4,
    "start_time": "2022-07-02T09:48:05.439Z"
   },
   {
    "duration": 4,
    "start_time": "2022-07-02T09:48:10.049Z"
   },
   {
    "duration": 13,
    "start_time": "2022-07-02T09:48:30.032Z"
   },
   {
    "duration": 16,
    "start_time": "2022-07-02T09:55:15.256Z"
   },
   {
    "duration": 12,
    "start_time": "2022-07-02T09:55:48.061Z"
   },
   {
    "duration": 15,
    "start_time": "2022-07-02T09:57:04.557Z"
   },
   {
    "duration": 19,
    "start_time": "2022-07-02T09:58:06.068Z"
   },
   {
    "duration": 6,
    "start_time": "2022-07-02T09:58:43.526Z"
   },
   {
    "duration": 36,
    "start_time": "2022-07-02T09:59:02.310Z"
   },
   {
    "duration": 6,
    "start_time": "2022-07-02T10:01:02.913Z"
   },
   {
    "duration": 22,
    "start_time": "2022-07-02T10:01:32.051Z"
   },
   {
    "duration": 10,
    "start_time": "2022-07-02T10:01:50.866Z"
   },
   {
    "duration": 16,
    "start_time": "2022-07-02T10:03:33.978Z"
   },
   {
    "duration": 9,
    "start_time": "2022-07-02T10:03:37.016Z"
   },
   {
    "duration": 10,
    "start_time": "2022-07-02T10:04:00.217Z"
   },
   {
    "duration": 10,
    "start_time": "2022-07-02T10:04:31.297Z"
   },
   {
    "duration": 6,
    "start_time": "2022-07-02T10:04:45.343Z"
   },
   {
    "duration": 14,
    "start_time": "2022-07-02T10:04:58.927Z"
   },
   {
    "duration": 5,
    "start_time": "2022-07-02T10:06:22.280Z"
   },
   {
    "duration": 11,
    "start_time": "2022-07-02T10:06:51.375Z"
   },
   {
    "duration": 25,
    "start_time": "2022-07-02T10:07:09.660Z"
   },
   {
    "duration": 11,
    "start_time": "2022-07-02T10:16:34.667Z"
   },
   {
    "duration": 5,
    "start_time": "2022-07-02T10:20:37.995Z"
   },
   {
    "duration": 7,
    "start_time": "2022-07-02T10:20:48.889Z"
   },
   {
    "duration": 6,
    "start_time": "2022-07-02T10:21:00.940Z"
   },
   {
    "duration": 8,
    "start_time": "2022-07-02T10:21:10.833Z"
   },
   {
    "duration": 19,
    "start_time": "2022-07-02T10:22:14.688Z"
   },
   {
    "duration": 12,
    "start_time": "2022-07-02T10:23:15.577Z"
   },
   {
    "duration": 4,
    "start_time": "2022-07-02T10:23:19.435Z"
   },
   {
    "duration": 15,
    "start_time": "2022-07-02T10:23:41.955Z"
   },
   {
    "duration": 11,
    "start_time": "2022-07-02T10:24:08.178Z"
   },
   {
    "duration": 49,
    "start_time": "2022-07-02T10:24:16.445Z"
   },
   {
    "duration": 25,
    "start_time": "2022-07-02T10:25:39.616Z"
   },
   {
    "duration": 24,
    "start_time": "2022-07-02T10:25:55.381Z"
   },
   {
    "duration": 12,
    "start_time": "2022-07-02T10:25:57.990Z"
   },
   {
    "duration": 21,
    "start_time": "2022-07-02T10:26:32.388Z"
   },
   {
    "duration": 27,
    "start_time": "2022-07-02T10:26:43.638Z"
   },
   {
    "duration": 9,
    "start_time": "2022-07-02T10:27:38.458Z"
   },
   {
    "duration": 36,
    "start_time": "2022-07-02T10:27:53.877Z"
   },
   {
    "duration": 8,
    "start_time": "2022-07-02T10:39:43.694Z"
   },
   {
    "duration": 8,
    "start_time": "2022-07-02T10:39:52.260Z"
   },
   {
    "duration": 7,
    "start_time": "2022-07-02T10:40:02.558Z"
   },
   {
    "duration": 4,
    "start_time": "2022-07-02T10:40:06.749Z"
   },
   {
    "duration": 13,
    "start_time": "2022-07-02T10:42:17.289Z"
   },
   {
    "duration": 73,
    "start_time": "2022-07-02T10:42:28.372Z"
   },
   {
    "duration": 7,
    "start_time": "2022-07-02T10:44:44.972Z"
   },
   {
    "duration": 64,
    "start_time": "2022-07-02T10:44:47.266Z"
   },
   {
    "duration": 4,
    "start_time": "2022-07-02T10:49:29.988Z"
   },
   {
    "duration": 287,
    "start_time": "2022-07-02T10:49:52.995Z"
   },
   {
    "duration": 5,
    "start_time": "2022-07-02T10:50:38.004Z"
   },
   {
    "duration": 24,
    "start_time": "2022-07-02T10:50:50.674Z"
   },
   {
    "duration": 25,
    "start_time": "2022-07-02T10:51:45.356Z"
   },
   {
    "duration": 21,
    "start_time": "2022-07-02T10:54:09.886Z"
   },
   {
    "duration": 3,
    "start_time": "2022-07-02T10:55:31.942Z"
   },
   {
    "duration": 28,
    "start_time": "2022-07-02T10:55:47.524Z"
   },
   {
    "duration": 21,
    "start_time": "2022-07-02T10:56:06.183Z"
   },
   {
    "duration": 12,
    "start_time": "2022-07-02T11:00:04.425Z"
   },
   {
    "duration": 72,
    "start_time": "2022-07-02T11:00:06.370Z"
   },
   {
    "duration": 3,
    "start_time": "2022-07-02T11:00:09.210Z"
   },
   {
    "duration": 357,
    "start_time": "2022-07-02T11:00:12.506Z"
   },
   {
    "duration": 5,
    "start_time": "2022-07-02T11:00:15.968Z"
   },
   {
    "duration": 22,
    "start_time": "2022-07-02T11:00:18.808Z"
   },
   {
    "duration": 5,
    "start_time": "2022-07-02T11:01:10.483Z"
   },
   {
    "duration": 35,
    "start_time": "2022-07-02T11:01:12.774Z"
   },
   {
    "duration": 7,
    "start_time": "2022-07-02T11:03:57.555Z"
   },
   {
    "duration": 25,
    "start_time": "2022-07-02T11:03:59.756Z"
   },
   {
    "duration": 12,
    "start_time": "2022-07-02T11:04:39.222Z"
   },
   {
    "duration": 5,
    "start_time": "2022-07-02T11:21:43.857Z"
   },
   {
    "duration": 22,
    "start_time": "2022-07-02T11:21:46.015Z"
   },
   {
    "duration": 11,
    "start_time": "2022-07-02T11:22:23.090Z"
   },
   {
    "duration": 24,
    "start_time": "2022-07-02T11:22:39.095Z"
   },
   {
    "duration": 21,
    "start_time": "2022-07-02T11:22:55.567Z"
   },
   {
    "duration": 3,
    "start_time": "2022-07-02T11:24:43.794Z"
   },
   {
    "duration": 339,
    "start_time": "2022-07-02T11:24:45.832Z"
   },
   {
    "duration": 23,
    "start_time": "2022-07-02T11:24:57.714Z"
   },
   {
    "duration": 22,
    "start_time": "2022-07-02T11:26:06.723Z"
   },
   {
    "duration": 475,
    "start_time": "2022-07-02T11:31:20.365Z"
   },
   {
    "duration": 15,
    "start_time": "2022-07-02T11:31:20.842Z"
   },
   {
    "duration": 47,
    "start_time": "2022-07-02T11:31:20.859Z"
   },
   {
    "duration": 2,
    "start_time": "2022-07-02T11:31:20.908Z"
   },
   {
    "duration": 41,
    "start_time": "2022-07-02T11:31:20.912Z"
   },
   {
    "duration": 2152,
    "start_time": "2022-07-02T11:31:20.954Z"
   },
   {
    "duration": 5,
    "start_time": "2022-07-02T11:31:23.108Z"
   },
   {
    "duration": 6,
    "start_time": "2022-07-02T11:31:23.114Z"
   },
   {
    "duration": 5,
    "start_time": "2022-07-02T11:31:23.122Z"
   },
   {
    "duration": 10,
    "start_time": "2022-07-02T11:31:23.130Z"
   },
   {
    "duration": 10,
    "start_time": "2022-07-02T11:31:23.142Z"
   },
   {
    "duration": 7,
    "start_time": "2022-07-02T11:31:23.154Z"
   },
   {
    "duration": 22,
    "start_time": "2022-07-02T11:31:23.163Z"
   },
   {
    "duration": 7,
    "start_time": "2022-07-02T11:31:23.186Z"
   },
   {
    "duration": 13,
    "start_time": "2022-07-02T11:31:23.195Z"
   },
   {
    "duration": 11,
    "start_time": "2022-07-02T11:31:23.209Z"
   },
   {
    "duration": 39,
    "start_time": "2022-07-02T11:31:23.222Z"
   },
   {
    "duration": 8,
    "start_time": "2022-07-02T11:31:23.262Z"
   },
   {
    "duration": 8,
    "start_time": "2022-07-02T11:31:23.271Z"
   },
   {
    "duration": 12,
    "start_time": "2022-07-02T11:31:23.280Z"
   },
   {
    "duration": 5,
    "start_time": "2022-07-02T11:31:23.293Z"
   },
   {
    "duration": 16,
    "start_time": "2022-07-02T11:31:23.299Z"
   },
   {
    "duration": 4,
    "start_time": "2022-07-02T11:31:23.317Z"
   },
   {
    "duration": 33,
    "start_time": "2022-07-02T11:31:23.323Z"
   },
   {
    "duration": 8,
    "start_time": "2022-07-02T11:31:23.357Z"
   },
   {
    "duration": 8,
    "start_time": "2022-07-02T11:31:23.367Z"
   },
   {
    "duration": 8,
    "start_time": "2022-07-02T11:31:23.377Z"
   },
   {
    "duration": 12,
    "start_time": "2022-07-02T11:31:23.389Z"
   },
   {
    "duration": 3,
    "start_time": "2022-07-02T11:31:23.403Z"
   },
   {
    "duration": 7,
    "start_time": "2022-07-02T11:31:23.410Z"
   },
   {
    "duration": 35,
    "start_time": "2022-07-02T11:31:23.418Z"
   },
   {
    "duration": 25,
    "start_time": "2022-07-02T11:31:23.455Z"
   },
   {
    "duration": 12,
    "start_time": "2022-07-02T11:31:23.482Z"
   },
   {
    "duration": 23,
    "start_time": "2022-07-02T11:31:23.495Z"
   },
   {
    "duration": 31,
    "start_time": "2022-07-02T11:31:23.520Z"
   },
   {
    "duration": 21,
    "start_time": "2022-07-02T11:31:23.553Z"
   },
   {
    "duration": 22,
    "start_time": "2022-07-02T11:31:23.575Z"
   },
   {
    "duration": 7,
    "start_time": "2022-07-02T11:31:23.598Z"
   },
   {
    "duration": 314,
    "start_time": "2022-07-02T11:31:23.607Z"
   },
   {
    "duration": 30,
    "start_time": "2022-07-02T11:31:23.922Z"
   },
   {
    "duration": 7,
    "start_time": "2022-07-02T11:31:23.953Z"
   },
   {
    "duration": 26,
    "start_time": "2022-07-02T11:31:23.962Z"
   },
   {
    "duration": 7,
    "start_time": "2022-07-02T11:31:23.989Z"
   },
   {
    "duration": 4,
    "start_time": "2022-07-02T11:31:23.997Z"
   },
   {
    "duration": 12,
    "start_time": "2022-07-02T11:31:24.002Z"
   },
   {
    "duration": 114,
    "start_time": "2022-07-02T11:31:24.016Z"
   },
   {
    "duration": 19,
    "start_time": "2022-07-02T11:31:24.132Z"
   },
   {
    "duration": 25,
    "start_time": "2022-07-02T11:31:24.153Z"
   },
   {
    "duration": 12,
    "start_time": "2022-07-02T11:31:24.180Z"
   },
   {
    "duration": 2,
    "start_time": "2022-07-02T11:31:24.194Z"
   },
   {
    "duration": 495,
    "start_time": "2022-07-02T11:32:59.647Z"
   },
   {
    "duration": 14,
    "start_time": "2022-07-02T11:33:01.721Z"
   },
   {
    "duration": 41,
    "start_time": "2022-07-02T11:33:04.905Z"
   },
   {
    "duration": 2,
    "start_time": "2022-07-02T11:33:09.945Z"
   },
   {
    "duration": 24,
    "start_time": "2022-07-02T11:33:11.904Z"
   },
   {
    "duration": 2002,
    "start_time": "2022-07-02T11:33:28.748Z"
   },
   {
    "duration": 4,
    "start_time": "2022-07-02T11:33:42.899Z"
   },
   {
    "duration": 4,
    "start_time": "2022-07-02T11:33:45.659Z"
   },
   {
    "duration": 4,
    "start_time": "2022-07-02T11:33:47.963Z"
   },
   {
    "duration": 10,
    "start_time": "2022-07-02T11:33:50.739Z"
   },
   {
    "duration": 16,
    "start_time": "2022-07-02T11:33:58.127Z"
   },
   {
    "duration": 7,
    "start_time": "2022-07-02T11:34:02.428Z"
   },
   {
    "duration": 20,
    "start_time": "2022-07-02T11:34:05.203Z"
   },
   {
    "duration": 6,
    "start_time": "2022-07-02T11:34:39.892Z"
   },
   {
    "duration": 13,
    "start_time": "2022-07-02T11:34:42.477Z"
   },
   {
    "duration": 14,
    "start_time": "2022-07-02T11:34:45.093Z"
   },
   {
    "duration": 11,
    "start_time": "2022-07-02T11:34:51.971Z"
   },
   {
    "duration": 6,
    "start_time": "2022-07-02T11:34:53.651Z"
   },
   {
    "duration": 5,
    "start_time": "2022-07-02T11:34:56.683Z"
   },
   {
    "duration": 11,
    "start_time": "2022-07-02T11:34:59.179Z"
   },
   {
    "duration": 8,
    "start_time": "2022-07-02T11:35:01.692Z"
   },
   {
    "duration": 14,
    "start_time": "2022-07-02T11:35:03.412Z"
   },
   {
    "duration": 6,
    "start_time": "2022-07-02T11:35:09.611Z"
   },
   {
    "duration": 11,
    "start_time": "2022-07-02T11:35:14.940Z"
   },
   {
    "duration": 8,
    "start_time": "2022-07-02T11:35:17.658Z"
   },
   {
    "duration": 5,
    "start_time": "2022-07-02T11:35:24.276Z"
   },
   {
    "duration": 7,
    "start_time": "2022-07-02T11:35:30.573Z"
   },
   {
    "duration": 12,
    "start_time": "2022-07-02T11:35:34.068Z"
   },
   {
    "duration": 4,
    "start_time": "2022-07-02T11:35:37.885Z"
   },
   {
    "duration": 5,
    "start_time": "2022-07-02T11:35:41.540Z"
   },
   {
    "duration": 4,
    "start_time": "2022-07-02T11:35:47.813Z"
   },
   {
    "duration": 29,
    "start_time": "2022-07-02T11:35:51.924Z"
   },
   {
    "duration": 11,
    "start_time": "2022-07-02T11:36:05.205Z"
   },
   {
    "duration": 30,
    "start_time": "2022-07-02T11:36:11.213Z"
   },
   {
    "duration": 15,
    "start_time": "2022-07-02T11:36:31.484Z"
   },
   {
    "duration": 22,
    "start_time": "2022-07-02T11:36:36.454Z"
   },
   {
    "duration": 25,
    "start_time": "2022-07-02T11:36:38.926Z"
   },
   {
    "duration": 3,
    "start_time": "2022-07-02T11:36:45.957Z"
   },
   {
    "duration": 302,
    "start_time": "2022-07-02T11:36:48.260Z"
   },
   {
    "duration": 22,
    "start_time": "2022-07-02T11:36:51.045Z"
   },
   {
    "duration": 7,
    "start_time": "2022-07-02T11:36:59.917Z"
   },
   {
    "duration": 26,
    "start_time": "2022-07-02T11:37:02.693Z"
   },
   {
    "duration": 8,
    "start_time": "2022-07-02T11:37:22.062Z"
   },
   {
    "duration": 4,
    "start_time": "2022-07-02T11:37:24.885Z"
   },
   {
    "duration": 11,
    "start_time": "2022-07-02T11:37:46.518Z"
   },
   {
    "duration": 73,
    "start_time": "2022-07-02T11:37:49.375Z"
   },
   {
    "duration": 8,
    "start_time": "2022-07-02T11:39:19.335Z"
   },
   {
    "duration": 22,
    "start_time": "2022-07-02T11:39:22.007Z"
   },
   {
    "duration": 9,
    "start_time": "2022-07-02T11:39:46.536Z"
   },
   {
    "duration": 4,
    "start_time": "2022-07-02T11:52:19.868Z"
   },
   {
    "duration": 72,
    "start_time": "2022-07-02T11:54:17.882Z"
   },
   {
    "duration": 12,
    "start_time": "2022-07-02T11:54:19.626Z"
   },
   {
    "duration": 24,
    "start_time": "2022-07-02T11:54:22.545Z"
   },
   {
    "duration": 2,
    "start_time": "2022-07-02T11:54:24.858Z"
   },
   {
    "duration": 22,
    "start_time": "2022-07-02T11:54:26.482Z"
   },
   {
    "duration": 4,
    "start_time": "2022-07-02T11:54:33.578Z"
   },
   {
    "duration": 4,
    "start_time": "2022-07-02T11:54:38.080Z"
   },
   {
    "duration": 3,
    "start_time": "2022-07-02T11:54:42.424Z"
   },
   {
    "duration": 10,
    "start_time": "2022-07-02T11:54:44.751Z"
   },
   {
    "duration": 9,
    "start_time": "2022-07-02T11:54:58.183Z"
   },
   {
    "duration": 5,
    "start_time": "2022-07-02T11:55:01.377Z"
   },
   {
    "duration": 23,
    "start_time": "2022-07-02T11:55:07.490Z"
   },
   {
    "duration": 6,
    "start_time": "2022-07-02T11:55:11.736Z"
   },
   {
    "duration": 12,
    "start_time": "2022-07-02T11:55:14.745Z"
   },
   {
    "duration": 10,
    "start_time": "2022-07-02T11:55:16.649Z"
   },
   {
    "duration": 12,
    "start_time": "2022-07-02T11:55:19.729Z"
   },
   {
    "duration": 6,
    "start_time": "2022-07-02T11:55:22.506Z"
   },
   {
    "duration": 6,
    "start_time": "2022-07-02T11:55:25.489Z"
   },
   {
    "duration": 9,
    "start_time": "2022-07-02T11:55:30.745Z"
   },
   {
    "duration": 6,
    "start_time": "2022-07-02T11:55:32.641Z"
   },
   {
    "duration": 16,
    "start_time": "2022-07-02T11:55:34.881Z"
   },
   {
    "duration": 4,
    "start_time": "2022-07-02T11:55:39.890Z"
   },
   {
    "duration": 10,
    "start_time": "2022-07-02T11:55:44.225Z"
   },
   {
    "duration": 7,
    "start_time": "2022-07-02T11:55:46.659Z"
   },
   {
    "duration": 5,
    "start_time": "2022-07-02T11:55:51.074Z"
   },
   {
    "duration": 9,
    "start_time": "2022-07-02T11:55:53.192Z"
   },
   {
    "duration": 13,
    "start_time": "2022-07-02T11:55:56.266Z"
   },
   {
    "duration": 4,
    "start_time": "2022-07-02T11:55:59.276Z"
   },
   {
    "duration": 5,
    "start_time": "2022-07-02T11:56:01.761Z"
   },
   {
    "duration": 4,
    "start_time": "2022-07-02T11:56:05.226Z"
   },
   {
    "duration": 19,
    "start_time": "2022-07-02T11:56:07.858Z"
   },
   {
    "duration": 9,
    "start_time": "2022-07-02T11:56:19.487Z"
   },
   {
    "duration": 20,
    "start_time": "2022-07-02T11:56:21.355Z"
   },
   {
    "duration": 12,
    "start_time": "2022-07-02T11:56:29.354Z"
   },
   {
    "duration": 23,
    "start_time": "2022-07-02T11:56:32.707Z"
   },
   {
    "duration": 23,
    "start_time": "2022-07-02T11:56:34.788Z"
   },
   {
    "duration": 4,
    "start_time": "2022-07-02T11:56:49.930Z"
   },
   {
    "duration": 303,
    "start_time": "2022-07-02T11:56:51.675Z"
   },
   {
    "duration": 32,
    "start_time": "2022-07-02T11:56:53.356Z"
   },
   {
    "duration": 8,
    "start_time": "2022-07-02T11:57:04.460Z"
   },
   {
    "duration": 27,
    "start_time": "2022-07-02T11:57:06.186Z"
   },
   {
    "duration": 6,
    "start_time": "2022-07-02T11:57:47.420Z"
   },
   {
    "duration": 3,
    "start_time": "2022-07-02T11:57:49.412Z"
   },
   {
    "duration": 10,
    "start_time": "2022-07-02T12:02:37.742Z"
   },
   {
    "duration": 143,
    "start_time": "2022-07-02T12:02:40.576Z"
   },
   {
    "duration": 6,
    "start_time": "2022-07-02T12:03:19.983Z"
   },
   {
    "duration": 23,
    "start_time": "2022-07-02T12:03:24.077Z"
   },
   {
    "duration": 7,
    "start_time": "2022-07-02T12:03:30.408Z"
   },
   {
    "duration": 839,
    "start_time": "2022-07-02T12:08:25.979Z"
   },
   {
    "duration": 22,
    "start_time": "2022-07-02T12:08:38.098Z"
   },
   {
    "duration": 7,
    "start_time": "2022-07-02T12:10:10.720Z"
   },
   {
    "duration": 6,
    "start_time": "2022-07-02T12:10:16.986Z"
   },
   {
    "duration": 26,
    "start_time": "2022-07-02T12:10:32.762Z"
   },
   {
    "duration": 3,
    "start_time": "2022-07-02T12:10:56.890Z"
   },
   {
    "duration": 27,
    "start_time": "2022-07-02T12:10:58.970Z"
   },
   {
    "duration": 7,
    "start_time": "2022-07-02T12:12:02.962Z"
   },
   {
    "duration": 464,
    "start_time": "2022-07-02T12:28:05.738Z"
   },
   {
    "duration": 13,
    "start_time": "2022-07-02T12:28:06.204Z"
   },
   {
    "duration": 37,
    "start_time": "2022-07-02T12:28:06.221Z"
   },
   {
    "duration": 3,
    "start_time": "2022-07-02T12:28:06.259Z"
   },
   {
    "duration": 26,
    "start_time": "2022-07-02T12:28:06.263Z"
   },
   {
    "duration": 1971,
    "start_time": "2022-07-02T12:28:06.290Z"
   },
   {
    "duration": 4,
    "start_time": "2022-07-02T12:28:08.263Z"
   },
   {
    "duration": 6,
    "start_time": "2022-07-02T12:28:08.268Z"
   },
   {
    "duration": 9,
    "start_time": "2022-07-02T12:28:08.275Z"
   },
   {
    "duration": 10,
    "start_time": "2022-07-02T12:28:08.286Z"
   },
   {
    "duration": 9,
    "start_time": "2022-07-02T12:28:08.297Z"
   },
   {
    "duration": 7,
    "start_time": "2022-07-02T12:28:08.307Z"
   },
   {
    "duration": 35,
    "start_time": "2022-07-02T12:28:08.316Z"
   },
   {
    "duration": 4,
    "start_time": "2022-07-02T12:28:08.353Z"
   },
   {
    "duration": 15,
    "start_time": "2022-07-02T12:28:08.358Z"
   },
   {
    "duration": 9,
    "start_time": "2022-07-02T12:28:08.374Z"
   },
   {
    "duration": 13,
    "start_time": "2022-07-02T12:28:08.384Z"
   },
   {
    "duration": 5,
    "start_time": "2022-07-02T12:28:08.398Z"
   },
   {
    "duration": 8,
    "start_time": "2022-07-02T12:28:08.404Z"
   },
   {
    "duration": 14,
    "start_time": "2022-07-02T12:28:08.413Z"
   },
   {
    "duration": 5,
    "start_time": "2022-07-02T12:28:08.452Z"
   },
   {
    "duration": 18,
    "start_time": "2022-07-02T12:28:08.458Z"
   },
   {
    "duration": 4,
    "start_time": "2022-07-02T12:28:08.478Z"
   },
   {
    "duration": 14,
    "start_time": "2022-07-02T12:28:08.483Z"
   },
   {
    "duration": 8,
    "start_time": "2022-07-02T12:28:08.499Z"
   },
   {
    "duration": 6,
    "start_time": "2022-07-02T12:28:08.508Z"
   },
   {
    "duration": 7,
    "start_time": "2022-07-02T12:28:08.516Z"
   },
   {
    "duration": 35,
    "start_time": "2022-07-02T12:28:08.525Z"
   },
   {
    "duration": 4,
    "start_time": "2022-07-02T12:28:08.562Z"
   },
   {
    "duration": 6,
    "start_time": "2022-07-02T12:28:08.567Z"
   },
   {
    "duration": 5,
    "start_time": "2022-07-02T12:28:08.574Z"
   },
   {
    "duration": 21,
    "start_time": "2022-07-02T12:28:08.580Z"
   },
   {
    "duration": 9,
    "start_time": "2022-07-02T12:28:08.602Z"
   },
   {
    "duration": 47,
    "start_time": "2022-07-02T12:28:08.612Z"
   },
   {
    "duration": 14,
    "start_time": "2022-07-02T12:28:08.661Z"
   },
   {
    "duration": 20,
    "start_time": "2022-07-02T12:28:08.677Z"
   },
   {
    "duration": 21,
    "start_time": "2022-07-02T12:28:08.698Z"
   },
   {
    "duration": 3,
    "start_time": "2022-07-02T12:28:08.721Z"
   },
   {
    "duration": 333,
    "start_time": "2022-07-02T12:28:08.725Z"
   },
   {
    "duration": 22,
    "start_time": "2022-07-02T12:28:09.061Z"
   },
   {
    "duration": 8,
    "start_time": "2022-07-02T12:28:09.084Z"
   },
   {
    "duration": 24,
    "start_time": "2022-07-02T12:28:09.093Z"
   },
   {
    "duration": 5,
    "start_time": "2022-07-02T12:28:09.119Z"
   },
   {
    "duration": 25,
    "start_time": "2022-07-02T12:28:09.125Z"
   },
   {
    "duration": 10,
    "start_time": "2022-07-02T12:28:09.152Z"
   },
   {
    "duration": 72,
    "start_time": "2022-07-02T12:28:09.163Z"
   },
   {
    "duration": 18,
    "start_time": "2022-07-02T12:28:09.236Z"
   },
   {
    "duration": 23,
    "start_time": "2022-07-02T12:28:09.255Z"
   },
   {
    "duration": 10,
    "start_time": "2022-07-02T12:28:09.280Z"
   },
   {
    "duration": 3,
    "start_time": "2022-07-02T12:28:09.292Z"
   },
   {
    "duration": 25,
    "start_time": "2022-07-02T12:28:09.296Z"
   },
   {
    "duration": 29,
    "start_time": "2022-07-02T12:28:09.322Z"
   },
   {
    "duration": 16,
    "start_time": "2022-07-02T12:49:24.831Z"
   },
   {
    "duration": 3,
    "start_time": "2022-07-02T12:51:52.375Z"
   },
   {
    "duration": 6,
    "start_time": "2022-07-02T12:51:54.919Z"
   },
   {
    "duration": 5,
    "start_time": "2022-07-02T12:52:08.640Z"
   },
   {
    "duration": 17,
    "start_time": "2022-07-02T12:52:25.830Z"
   },
   {
    "duration": 6,
    "start_time": "2022-07-02T12:57:02.001Z"
   },
   {
    "duration": 5,
    "start_time": "2022-07-02T13:01:15.193Z"
   },
   {
    "duration": 5,
    "start_time": "2022-07-02T13:01:27.781Z"
   },
   {
    "duration": 16,
    "start_time": "2022-07-02T13:01:41.585Z"
   },
   {
    "duration": 4,
    "start_time": "2022-07-02T13:04:28.285Z"
   },
   {
    "duration": 17,
    "start_time": "2022-07-02T13:04:30.902Z"
   },
   {
    "duration": 424,
    "start_time": "2022-07-02T13:08:28.089Z"
   },
   {
    "duration": 13,
    "start_time": "2022-07-02T13:08:28.515Z"
   },
   {
    "duration": 42,
    "start_time": "2022-07-02T13:08:28.529Z"
   },
   {
    "duration": 3,
    "start_time": "2022-07-02T13:08:28.572Z"
   },
   {
    "duration": 23,
    "start_time": "2022-07-02T13:08:28.577Z"
   },
   {
    "duration": 2120,
    "start_time": "2022-07-02T13:08:28.602Z"
   },
   {
    "duration": 4,
    "start_time": "2022-07-02T13:08:30.723Z"
   },
   {
    "duration": 10,
    "start_time": "2022-07-02T13:08:30.729Z"
   },
   {
    "duration": 20,
    "start_time": "2022-07-02T13:08:30.741Z"
   },
   {
    "duration": 19,
    "start_time": "2022-07-02T13:08:30.764Z"
   },
   {
    "duration": 14,
    "start_time": "2022-07-02T13:08:30.784Z"
   },
   {
    "duration": 7,
    "start_time": "2022-07-02T13:08:30.799Z"
   },
   {
    "duration": 31,
    "start_time": "2022-07-02T13:08:30.808Z"
   },
   {
    "duration": 18,
    "start_time": "2022-07-02T13:08:30.843Z"
   },
   {
    "duration": 15,
    "start_time": "2022-07-02T13:08:30.866Z"
   },
   {
    "duration": 19,
    "start_time": "2022-07-02T13:08:30.883Z"
   },
   {
    "duration": 32,
    "start_time": "2022-07-02T13:08:30.904Z"
   },
   {
    "duration": 34,
    "start_time": "2022-07-02T13:08:30.937Z"
   },
   {
    "duration": 13,
    "start_time": "2022-07-02T13:08:30.972Z"
   },
   {
    "duration": 17,
    "start_time": "2022-07-02T13:08:30.987Z"
   },
   {
    "duration": 11,
    "start_time": "2022-07-02T13:08:31.006Z"
   },
   {
    "duration": 19,
    "start_time": "2022-07-02T13:08:31.019Z"
   },
   {
    "duration": 26,
    "start_time": "2022-07-02T13:08:31.040Z"
   },
   {
    "duration": 14,
    "start_time": "2022-07-02T13:08:31.068Z"
   },
   {
    "duration": 12,
    "start_time": "2022-07-02T13:08:31.084Z"
   },
   {
    "duration": 8,
    "start_time": "2022-07-02T13:08:31.098Z"
   },
   {
    "duration": 10,
    "start_time": "2022-07-02T13:08:31.107Z"
   },
   {
    "duration": 17,
    "start_time": "2022-07-02T13:08:31.119Z"
   },
   {
    "duration": 4,
    "start_time": "2022-07-02T13:08:31.138Z"
   },
   {
    "duration": 11,
    "start_time": "2022-07-02T13:08:31.143Z"
   },
   {
    "duration": 29,
    "start_time": "2022-07-02T13:08:31.155Z"
   },
   {
    "duration": 5,
    "start_time": "2022-07-02T13:08:31.186Z"
   },
   {
    "duration": 17,
    "start_time": "2022-07-02T13:08:31.192Z"
   },
   {
    "duration": 5,
    "start_time": "2022-07-02T13:08:31.210Z"
   },
   {
    "duration": 20,
    "start_time": "2022-07-02T13:08:31.217Z"
   },
   {
    "duration": 27,
    "start_time": "2022-07-02T13:08:31.239Z"
   },
   {
    "duration": 25,
    "start_time": "2022-07-02T13:08:31.267Z"
   },
   {
    "duration": 21,
    "start_time": "2022-07-02T13:08:31.294Z"
   },
   {
    "duration": 20,
    "start_time": "2022-07-02T13:08:31.317Z"
   },
   {
    "duration": 37,
    "start_time": "2022-07-02T13:08:31.338Z"
   },
   {
    "duration": 3,
    "start_time": "2022-07-02T13:08:31.379Z"
   },
   {
    "duration": 330,
    "start_time": "2022-07-02T13:08:31.383Z"
   },
   {
    "duration": 22,
    "start_time": "2022-07-02T13:08:31.714Z"
   },
   {
    "duration": 15,
    "start_time": "2022-07-02T13:08:31.737Z"
   },
   {
    "duration": 36,
    "start_time": "2022-07-02T13:08:31.754Z"
   },
   {
    "duration": 20,
    "start_time": "2022-07-02T13:08:31.791Z"
   },
   {
    "duration": 4,
    "start_time": "2022-07-02T13:08:31.813Z"
   },
   {
    "duration": 18,
    "start_time": "2022-07-02T13:08:31.819Z"
   },
   {
    "duration": 73,
    "start_time": "2022-07-02T13:08:31.839Z"
   },
   {
    "duration": 6,
    "start_time": "2022-07-02T13:08:31.914Z"
   },
   {
    "duration": 37,
    "start_time": "2022-07-02T13:08:31.921Z"
   },
   {
    "duration": 15,
    "start_time": "2022-07-02T13:08:31.961Z"
   },
   {
    "duration": 4,
    "start_time": "2022-07-02T13:08:31.977Z"
   },
   {
    "duration": 28,
    "start_time": "2022-07-02T13:08:31.982Z"
   },
   {
    "duration": 6,
    "start_time": "2022-07-02T13:08:32.012Z"
   },
   {
    "duration": 1061,
    "start_time": "2022-07-02T13:12:33.644Z"
   },
   {
    "duration": 485,
    "start_time": "2022-07-02T13:12:49.922Z"
   },
   {
    "duration": 13,
    "start_time": "2022-07-02T13:12:50.409Z"
   },
   {
    "duration": 43,
    "start_time": "2022-07-02T13:12:50.423Z"
   },
   {
    "duration": 3,
    "start_time": "2022-07-02T13:12:50.467Z"
   },
   {
    "duration": 25,
    "start_time": "2022-07-02T13:12:50.472Z"
   },
   {
    "duration": 2119,
    "start_time": "2022-07-02T13:12:50.499Z"
   },
   {
    "duration": 4,
    "start_time": "2022-07-02T13:12:52.620Z"
   },
   {
    "duration": 6,
    "start_time": "2022-07-02T13:12:52.626Z"
   },
   {
    "duration": 8,
    "start_time": "2022-07-02T13:12:52.633Z"
   },
   {
    "duration": 17,
    "start_time": "2022-07-02T13:12:52.642Z"
   },
   {
    "duration": 17,
    "start_time": "2022-07-02T13:12:52.661Z"
   },
   {
    "duration": 6,
    "start_time": "2022-07-02T13:12:52.679Z"
   },
   {
    "duration": 24,
    "start_time": "2022-07-02T13:12:52.687Z"
   },
   {
    "duration": 5,
    "start_time": "2022-07-02T13:12:52.714Z"
   },
   {
    "duration": 14,
    "start_time": "2022-07-02T13:12:52.721Z"
   },
   {
    "duration": 22,
    "start_time": "2022-07-02T13:12:52.737Z"
   },
   {
    "duration": 21,
    "start_time": "2022-07-02T13:12:52.760Z"
   },
   {
    "duration": 7,
    "start_time": "2022-07-02T13:12:52.783Z"
   },
   {
    "duration": 8,
    "start_time": "2022-07-02T13:12:52.791Z"
   },
   {
    "duration": 11,
    "start_time": "2022-07-02T13:12:52.801Z"
   },
   {
    "duration": 6,
    "start_time": "2022-07-02T13:12:52.813Z"
   },
   {
    "duration": 31,
    "start_time": "2022-07-02T13:12:52.820Z"
   },
   {
    "duration": 17,
    "start_time": "2022-07-02T13:12:52.853Z"
   },
   {
    "duration": 11,
    "start_time": "2022-07-02T13:12:52.872Z"
   },
   {
    "duration": 10,
    "start_time": "2022-07-02T13:12:52.885Z"
   },
   {
    "duration": 7,
    "start_time": "2022-07-02T13:12:52.896Z"
   },
   {
    "duration": 11,
    "start_time": "2022-07-02T13:12:52.905Z"
   },
   {
    "duration": 15,
    "start_time": "2022-07-02T13:12:52.918Z"
   },
   {
    "duration": 4,
    "start_time": "2022-07-02T13:12:52.935Z"
   },
   {
    "duration": 9,
    "start_time": "2022-07-02T13:12:52.956Z"
   },
   {
    "duration": 17,
    "start_time": "2022-07-02T13:12:52.966Z"
   },
   {
    "duration": 4,
    "start_time": "2022-07-02T13:12:52.985Z"
   },
   {
    "duration": 15,
    "start_time": "2022-07-02T13:12:52.990Z"
   },
   {
    "duration": 5,
    "start_time": "2022-07-02T13:12:53.006Z"
   },
   {
    "duration": 22,
    "start_time": "2022-07-02T13:12:53.012Z"
   },
   {
    "duration": 15,
    "start_time": "2022-07-02T13:12:53.053Z"
   },
   {
    "duration": 21,
    "start_time": "2022-07-02T13:12:53.070Z"
   },
   {
    "duration": 13,
    "start_time": "2022-07-02T13:12:53.093Z"
   },
   {
    "duration": 20,
    "start_time": "2022-07-02T13:12:53.107Z"
   },
   {
    "duration": 46,
    "start_time": "2022-07-02T13:12:53.129Z"
   },
   {
    "duration": 4,
    "start_time": "2022-07-02T13:12:53.179Z"
   },
   {
    "duration": 329,
    "start_time": "2022-07-02T13:12:53.185Z"
   },
   {
    "duration": 22,
    "start_time": "2022-07-02T13:12:53.516Z"
   },
   {
    "duration": 21,
    "start_time": "2022-07-02T13:12:53.539Z"
   },
   {
    "duration": 32,
    "start_time": "2022-07-02T13:12:53.562Z"
   },
   {
    "duration": 6,
    "start_time": "2022-07-02T13:12:53.595Z"
   },
   {
    "duration": 5,
    "start_time": "2022-07-02T13:12:53.603Z"
   },
   {
    "duration": 18,
    "start_time": "2022-07-02T13:12:53.609Z"
   },
   {
    "duration": 89,
    "start_time": "2022-07-02T13:12:53.629Z"
   },
   {
    "duration": 6,
    "start_time": "2022-07-02T13:12:53.720Z"
   },
   {
    "duration": 42,
    "start_time": "2022-07-02T13:12:53.727Z"
   },
   {
    "duration": 12,
    "start_time": "2022-07-02T13:12:53.770Z"
   },
   {
    "duration": 4,
    "start_time": "2022-07-02T13:12:53.784Z"
   },
   {
    "duration": 25,
    "start_time": "2022-07-02T13:12:53.790Z"
   },
   {
    "duration": 6,
    "start_time": "2022-07-02T13:12:53.817Z"
   },
   {
    "duration": 4,
    "start_time": "2022-07-02T13:15:37.837Z"
   },
   {
    "duration": 29,
    "start_time": "2022-07-02T13:16:21.377Z"
   },
   {
    "duration": 469,
    "start_time": "2022-07-02T13:33:08.151Z"
   },
   {
    "duration": 20,
    "start_time": "2022-07-02T13:33:08.623Z"
   },
   {
    "duration": 43,
    "start_time": "2022-07-02T13:33:08.645Z"
   },
   {
    "duration": 2,
    "start_time": "2022-07-02T13:33:08.690Z"
   },
   {
    "duration": 25,
    "start_time": "2022-07-02T13:33:08.694Z"
   },
   {
    "duration": 2068,
    "start_time": "2022-07-02T13:33:08.721Z"
   },
   {
    "duration": 3,
    "start_time": "2022-07-02T13:33:10.791Z"
   },
   {
    "duration": 7,
    "start_time": "2022-07-02T13:33:10.796Z"
   },
   {
    "duration": 9,
    "start_time": "2022-07-02T13:33:10.804Z"
   },
   {
    "duration": 9,
    "start_time": "2022-07-02T13:33:10.814Z"
   },
   {
    "duration": 10,
    "start_time": "2022-07-02T13:33:10.825Z"
   },
   {
    "duration": 19,
    "start_time": "2022-07-02T13:33:10.836Z"
   },
   {
    "duration": 23,
    "start_time": "2022-07-02T13:33:10.856Z"
   },
   {
    "duration": 5,
    "start_time": "2022-07-02T13:33:10.882Z"
   },
   {
    "duration": 16,
    "start_time": "2022-07-02T13:33:10.888Z"
   },
   {
    "duration": 9,
    "start_time": "2022-07-02T13:33:10.906Z"
   },
   {
    "duration": 35,
    "start_time": "2022-07-02T13:33:10.916Z"
   },
   {
    "duration": 6,
    "start_time": "2022-07-02T13:33:10.952Z"
   },
   {
    "duration": 7,
    "start_time": "2022-07-02T13:33:10.959Z"
   },
   {
    "duration": 12,
    "start_time": "2022-07-02T13:33:10.967Z"
   },
   {
    "duration": 5,
    "start_time": "2022-07-02T13:33:10.981Z"
   },
   {
    "duration": 18,
    "start_time": "2022-07-02T13:33:10.987Z"
   },
   {
    "duration": 5,
    "start_time": "2022-07-02T13:33:11.007Z"
   },
   {
    "duration": 11,
    "start_time": "2022-07-02T13:33:11.051Z"
   },
   {
    "duration": 10,
    "start_time": "2022-07-02T13:33:11.063Z"
   },
   {
    "duration": 7,
    "start_time": "2022-07-02T13:33:11.075Z"
   },
   {
    "duration": 11,
    "start_time": "2022-07-02T13:33:11.083Z"
   },
   {
    "duration": 19,
    "start_time": "2022-07-02T13:33:11.096Z"
   },
   {
    "duration": 5,
    "start_time": "2022-07-02T13:33:11.117Z"
   },
   {
    "duration": 27,
    "start_time": "2022-07-02T13:33:11.124Z"
   },
   {
    "duration": 20,
    "start_time": "2022-07-02T13:33:11.152Z"
   },
   {
    "duration": 5,
    "start_time": "2022-07-02T13:33:11.174Z"
   },
   {
    "duration": 23,
    "start_time": "2022-07-02T13:33:11.180Z"
   },
   {
    "duration": 12,
    "start_time": "2022-07-02T13:33:11.205Z"
   },
   {
    "duration": 36,
    "start_time": "2022-07-02T13:33:11.218Z"
   },
   {
    "duration": 12,
    "start_time": "2022-07-02T13:33:11.255Z"
   },
   {
    "duration": 21,
    "start_time": "2022-07-02T13:33:11.269Z"
   },
   {
    "duration": 22,
    "start_time": "2022-07-02T13:33:11.291Z"
   },
   {
    "duration": 6,
    "start_time": "2022-07-02T13:33:11.314Z"
   },
   {
    "duration": 335,
    "start_time": "2022-07-02T13:33:11.322Z"
   },
   {
    "duration": 25,
    "start_time": "2022-07-02T13:33:11.660Z"
   },
   {
    "duration": 14,
    "start_time": "2022-07-02T13:33:11.687Z"
   },
   {
    "duration": 25,
    "start_time": "2022-07-02T13:33:11.703Z"
   },
   {
    "duration": 24,
    "start_time": "2022-07-02T13:33:11.729Z"
   },
   {
    "duration": 5,
    "start_time": "2022-07-02T13:33:11.754Z"
   },
   {
    "duration": 11,
    "start_time": "2022-07-02T13:33:11.760Z"
   },
   {
    "duration": 85,
    "start_time": "2022-07-02T13:33:11.773Z"
   },
   {
    "duration": 6,
    "start_time": "2022-07-02T13:33:11.860Z"
   },
   {
    "duration": 34,
    "start_time": "2022-07-02T13:33:11.867Z"
   },
   {
    "duration": 10,
    "start_time": "2022-07-02T13:33:11.902Z"
   },
   {
    "duration": 3,
    "start_time": "2022-07-02T13:33:11.913Z"
   },
   {
    "duration": 40,
    "start_time": "2022-07-02T13:33:11.918Z"
   },
   {
    "duration": 31,
    "start_time": "2022-07-02T13:33:11.960Z"
   },
   {
    "duration": 5,
    "start_time": "2022-07-02T13:36:30.911Z"
   },
   {
    "duration": 69,
    "start_time": "2022-07-02T13:39:21.986Z"
   },
   {
    "duration": 5,
    "start_time": "2022-07-02T13:41:43.369Z"
   },
   {
    "duration": 167,
    "start_time": "2022-07-02T13:43:51.995Z"
   },
   {
    "duration": 776,
    "start_time": "2022-07-02T14:10:19.116Z"
   },
   {
    "duration": 25,
    "start_time": "2022-07-02T14:10:46.868Z"
   },
   {
    "duration": 277,
    "start_time": "2022-07-02T14:11:04.893Z"
   },
   {
    "duration": 371,
    "start_time": "2022-07-02T14:12:04.108Z"
   },
   {
    "duration": 251,
    "start_time": "2022-07-02T14:12:45.663Z"
   },
   {
    "duration": 259,
    "start_time": "2022-07-02T14:13:23.472Z"
   },
   {
    "duration": 256,
    "start_time": "2022-07-02T14:13:34.934Z"
   },
   {
    "duration": 258,
    "start_time": "2022-07-02T14:14:22.543Z"
   },
   {
    "duration": 365,
    "start_time": "2022-07-02T14:14:46.928Z"
   },
   {
    "duration": 272,
    "start_time": "2022-07-02T14:15:05.302Z"
   },
   {
    "duration": 252,
    "start_time": "2022-07-02T14:15:11.872Z"
   },
   {
    "duration": 260,
    "start_time": "2022-07-02T14:15:18.177Z"
   },
   {
    "duration": 292,
    "start_time": "2022-07-02T14:15:27.505Z"
   },
   {
    "duration": 272,
    "start_time": "2022-07-02T14:15:47.655Z"
   },
   {
    "duration": 384,
    "start_time": "2022-07-02T14:15:55.935Z"
   },
   {
    "duration": 258,
    "start_time": "2022-07-02T14:16:03.688Z"
   },
   {
    "duration": 258,
    "start_time": "2022-07-02T14:16:18.119Z"
   },
   {
    "duration": 269,
    "start_time": "2022-07-02T14:17:31.336Z"
   },
   {
    "duration": 304,
    "start_time": "2022-07-02T14:17:53.394Z"
   },
   {
    "duration": 367,
    "start_time": "2022-07-02T14:19:34.913Z"
   },
   {
    "duration": 252,
    "start_time": "2022-07-02T14:19:42.938Z"
   },
   {
    "duration": 263,
    "start_time": "2022-07-02T14:19:48.545Z"
   },
   {
    "duration": 258,
    "start_time": "2022-07-02T14:19:55.778Z"
   },
   {
    "duration": 246,
    "start_time": "2022-07-02T14:20:09.013Z"
   },
   {
    "duration": 173,
    "start_time": "2022-07-02T14:20:41.209Z"
   },
   {
    "duration": 191,
    "start_time": "2022-07-02T14:21:55.988Z"
   },
   {
    "duration": 307,
    "start_time": "2022-07-02T14:22:24.571Z"
   },
   {
    "duration": 178,
    "start_time": "2022-07-02T14:26:15.637Z"
   },
   {
    "duration": 272,
    "start_time": "2022-07-02T14:27:03.903Z"
   },
   {
    "duration": 281,
    "start_time": "2022-07-02T14:27:13.399Z"
   },
   {
    "duration": 299,
    "start_time": "2022-07-02T14:27:23.466Z"
   },
   {
    "duration": 16,
    "start_time": "2022-07-02T14:29:57.784Z"
   },
   {
    "duration": 21,
    "start_time": "2022-07-02T14:30:43.363Z"
   },
   {
    "duration": 18,
    "start_time": "2022-07-02T14:30:53.169Z"
   },
   {
    "duration": 12,
    "start_time": "2022-07-02T14:31:22.706Z"
   },
   {
    "duration": 37,
    "start_time": "2022-07-02T14:33:54.988Z"
   },
   {
    "duration": 57,
    "start_time": "2022-07-02T14:34:38.484Z"
   },
   {
    "duration": 160,
    "start_time": "2022-07-02T14:36:20.237Z"
   },
   {
    "duration": 161,
    "start_time": "2022-07-02T14:36:40.156Z"
   },
   {
    "duration": 367,
    "start_time": "2022-07-02T14:39:42.584Z"
   },
   {
    "duration": 287,
    "start_time": "2022-07-02T14:39:49.918Z"
   },
   {
    "duration": 300,
    "start_time": "2022-07-02T14:40:09.016Z"
   },
   {
    "duration": 293,
    "start_time": "2022-07-02T14:46:10.195Z"
   },
   {
    "duration": 302,
    "start_time": "2022-07-02T14:46:17.220Z"
   },
   {
    "duration": 277,
    "start_time": "2022-07-02T14:46:23.084Z"
   },
   {
    "duration": 430,
    "start_time": "2022-07-02T14:47:44.084Z"
   },
   {
    "duration": 308,
    "start_time": "2022-07-02T14:47:54.581Z"
   },
   {
    "duration": 253,
    "start_time": "2022-07-02T14:50:34.560Z"
   },
   {
    "duration": 279,
    "start_time": "2022-07-02T14:50:45.483Z"
   },
   {
    "duration": 277,
    "start_time": "2022-07-02T14:50:54.022Z"
   },
   {
    "duration": 238,
    "start_time": "2022-07-02T14:52:51.111Z"
   },
   {
    "duration": 17,
    "start_time": "2022-07-02T14:54:11.366Z"
   },
   {
    "duration": 259,
    "start_time": "2022-07-02T14:58:29.595Z"
   },
   {
    "duration": 381,
    "start_time": "2022-07-02T14:58:44.478Z"
   },
   {
    "duration": 414,
    "start_time": "2022-07-02T14:59:44.186Z"
   },
   {
    "duration": 166,
    "start_time": "2022-07-02T15:00:40.194Z"
   },
   {
    "duration": 27,
    "start_time": "2022-07-02T15:00:50.637Z"
   },
   {
    "duration": 165,
    "start_time": "2022-07-02T15:02:03.293Z"
   },
   {
    "duration": 398,
    "start_time": "2022-07-02T15:02:42.281Z"
   },
   {
    "duration": 404,
    "start_time": "2022-07-02T15:02:49.177Z"
   },
   {
    "duration": 373,
    "start_time": "2022-07-02T15:02:53.965Z"
   },
   {
    "duration": 36,
    "start_time": "2022-07-02T15:03:07.925Z"
   },
   {
    "duration": 177,
    "start_time": "2022-07-02T15:03:13.757Z"
   },
   {
    "duration": 27,
    "start_time": "2022-07-02T15:03:16.917Z"
   },
   {
    "duration": 162,
    "start_time": "2022-07-02T15:03:29.489Z"
   },
   {
    "duration": 9,
    "start_time": "2022-07-02T15:05:22.110Z"
   },
   {
    "duration": 296,
    "start_time": "2022-07-02T15:05:29.191Z"
   },
   {
    "duration": 16,
    "start_time": "2022-07-02T15:16:52.780Z"
   },
   {
    "duration": 19,
    "start_time": "2022-07-02T15:17:28.487Z"
   },
   {
    "duration": 242,
    "start_time": "2022-07-02T15:17:42.461Z"
   },
   {
    "duration": 199,
    "start_time": "2022-07-02T15:18:49.261Z"
   },
   {
    "duration": 167,
    "start_time": "2022-07-02T15:19:24.309Z"
   },
   {
    "duration": 307,
    "start_time": "2022-07-02T15:20:37.517Z"
   },
   {
    "duration": 287,
    "start_time": "2022-07-02T15:20:49.822Z"
   },
   {
    "duration": 403,
    "start_time": "2022-07-02T15:25:27.979Z"
   },
   {
    "duration": 324,
    "start_time": "2022-07-02T15:25:35.313Z"
   },
   {
    "duration": 290,
    "start_time": "2022-07-02T15:25:48.860Z"
   },
   {
    "duration": 326,
    "start_time": "2022-07-02T15:25:56.992Z"
   },
   {
    "duration": 279,
    "start_time": "2022-07-02T15:26:03.581Z"
   },
   {
    "duration": 492,
    "start_time": "2022-07-02T15:28:03.096Z"
   },
   {
    "duration": 5278,
    "start_time": "2022-07-02T15:28:20.939Z"
   },
   {
    "duration": 342,
    "start_time": "2022-07-02T15:28:37.018Z"
   },
   {
    "duration": 613,
    "start_time": "2022-07-02T15:28:50.583Z"
   },
   {
    "duration": 1848,
    "start_time": "2022-07-02T15:29:13.627Z"
   },
   {
    "duration": 304,
    "start_time": "2022-07-02T15:29:23.763Z"
   },
   {
    "duration": 317,
    "start_time": "2022-07-02T15:33:13.394Z"
   },
   {
    "duration": 318,
    "start_time": "2022-07-02T15:36:56.856Z"
   },
   {
    "duration": 452,
    "start_time": "2022-07-02T15:37:13.081Z"
   },
   {
    "duration": 338,
    "start_time": "2022-07-02T15:37:24.314Z"
   },
   {
    "duration": 327,
    "start_time": "2022-07-02T15:37:37.039Z"
   },
   {
    "duration": 280,
    "start_time": "2022-07-02T15:40:59.602Z"
   },
   {
    "duration": 290,
    "start_time": "2022-07-02T15:41:18.068Z"
   },
   {
    "duration": 469,
    "start_time": "2022-07-02T15:41:24.313Z"
   },
   {
    "duration": 312,
    "start_time": "2022-07-02T15:41:37.468Z"
   },
   {
    "duration": 55,
    "start_time": "2022-07-02T18:33:28.656Z"
   },
   {
    "duration": 579,
    "start_time": "2022-07-02T18:33:42.418Z"
   },
   {
    "duration": 15,
    "start_time": "2022-07-02T18:33:43.000Z"
   },
   {
    "duration": 46,
    "start_time": "2022-07-02T18:33:43.016Z"
   },
   {
    "duration": 5,
    "start_time": "2022-07-02T18:33:43.064Z"
   },
   {
    "duration": 27,
    "start_time": "2022-07-02T18:33:43.070Z"
   },
   {
    "duration": 2558,
    "start_time": "2022-07-02T18:33:43.098Z"
   },
   {
    "duration": 5,
    "start_time": "2022-07-02T18:33:45.658Z"
   },
   {
    "duration": 11,
    "start_time": "2022-07-02T18:33:45.665Z"
   },
   {
    "duration": 11,
    "start_time": "2022-07-02T18:33:45.678Z"
   },
   {
    "duration": 13,
    "start_time": "2022-07-02T18:33:45.692Z"
   },
   {
    "duration": 14,
    "start_time": "2022-07-02T18:33:45.707Z"
   },
   {
    "duration": 10,
    "start_time": "2022-07-02T18:33:45.723Z"
   },
   {
    "duration": 55,
    "start_time": "2022-07-02T18:33:45.735Z"
   },
   {
    "duration": 8,
    "start_time": "2022-07-02T18:33:45.792Z"
   },
   {
    "duration": 21,
    "start_time": "2022-07-02T18:33:45.802Z"
   },
   {
    "duration": 40,
    "start_time": "2022-07-02T18:33:45.824Z"
   },
   {
    "duration": 13,
    "start_time": "2022-07-02T18:33:45.866Z"
   },
   {
    "duration": 6,
    "start_time": "2022-07-02T18:33:45.881Z"
   },
   {
    "duration": 7,
    "start_time": "2022-07-02T18:33:45.888Z"
   },
   {
    "duration": 12,
    "start_time": "2022-07-02T18:33:45.896Z"
   },
   {
    "duration": 7,
    "start_time": "2022-07-02T18:33:45.909Z"
   },
   {
    "duration": 30,
    "start_time": "2022-07-02T18:33:45.918Z"
   },
   {
    "duration": 20,
    "start_time": "2022-07-02T18:33:45.950Z"
   },
   {
    "duration": 13,
    "start_time": "2022-07-02T18:33:45.972Z"
   },
   {
    "duration": 9,
    "start_time": "2022-07-02T18:33:45.987Z"
   },
   {
    "duration": 9,
    "start_time": "2022-07-02T18:33:45.997Z"
   },
   {
    "duration": 16,
    "start_time": "2022-07-02T18:33:46.007Z"
   },
   {
    "duration": 46,
    "start_time": "2022-07-02T18:33:46.028Z"
   },
   {
    "duration": 5,
    "start_time": "2022-07-02T18:33:46.076Z"
   },
   {
    "duration": 8,
    "start_time": "2022-07-02T18:33:46.083Z"
   },
   {
    "duration": 13,
    "start_time": "2022-07-02T18:33:46.092Z"
   },
   {
    "duration": 4,
    "start_time": "2022-07-02T18:33:46.107Z"
   },
   {
    "duration": 25,
    "start_time": "2022-07-02T18:33:46.112Z"
   },
   {
    "duration": 30,
    "start_time": "2022-07-02T18:33:46.142Z"
   },
   {
    "duration": 22,
    "start_time": "2022-07-02T18:33:46.174Z"
   },
   {
    "duration": 15,
    "start_time": "2022-07-02T18:33:46.198Z"
   },
   {
    "duration": 28,
    "start_time": "2022-07-02T18:33:46.214Z"
   },
   {
    "duration": 47,
    "start_time": "2022-07-02T18:33:46.243Z"
   },
   {
    "duration": 3,
    "start_time": "2022-07-02T18:33:46.292Z"
   },
   {
    "duration": 378,
    "start_time": "2022-07-02T18:33:46.297Z"
   },
   {
    "duration": 25,
    "start_time": "2022-07-02T18:33:46.677Z"
   },
   {
    "duration": 23,
    "start_time": "2022-07-02T18:33:46.703Z"
   },
   {
    "duration": 69,
    "start_time": "2022-07-02T18:33:46.734Z"
   },
   {
    "duration": 21,
    "start_time": "2022-07-02T18:33:46.805Z"
   },
   {
    "duration": 46,
    "start_time": "2022-07-02T18:33:46.828Z"
   },
   {
    "duration": 39,
    "start_time": "2022-07-02T18:33:46.875Z"
   },
   {
    "duration": 115,
    "start_time": "2022-07-02T18:33:46.916Z"
   },
   {
    "duration": 12,
    "start_time": "2022-07-02T18:33:47.032Z"
   },
   {
    "duration": 67,
    "start_time": "2022-07-02T18:33:47.049Z"
   },
   {
    "duration": 78,
    "start_time": "2022-07-02T18:33:47.118Z"
   },
   {
    "duration": 27,
    "start_time": "2022-07-02T18:33:47.198Z"
   },
   {
    "duration": 81,
    "start_time": "2022-07-02T18:33:47.230Z"
   },
   {
    "duration": 45,
    "start_time": "2022-07-02T18:33:47.313Z"
   },
   {
    "duration": 29,
    "start_time": "2022-07-02T18:33:47.360Z"
   },
   {
    "duration": 8,
    "start_time": "2022-07-02T18:33:47.391Z"
   },
   {
    "duration": 252,
    "start_time": "2022-07-02T18:33:47.401Z"
   },
   {
    "duration": 50,
    "start_time": "2022-07-02T18:33:47.655Z"
   },
   {
    "duration": 0,
    "start_time": "2022-07-02T18:33:47.707Z"
   },
   {
    "duration": 0,
    "start_time": "2022-07-02T18:33:47.708Z"
   },
   {
    "duration": 0,
    "start_time": "2022-07-02T18:33:47.710Z"
   },
   {
    "duration": 0,
    "start_time": "2022-07-02T18:33:47.711Z"
   },
   {
    "duration": 0,
    "start_time": "2022-07-02T18:33:47.712Z"
   },
   {
    "duration": 0,
    "start_time": "2022-07-02T18:33:47.713Z"
   },
   {
    "duration": 0,
    "start_time": "2022-07-02T18:33:47.714Z"
   },
   {
    "duration": 0,
    "start_time": "2022-07-02T18:33:47.716Z"
   },
   {
    "duration": 0,
    "start_time": "2022-07-02T18:33:47.717Z"
   },
   {
    "duration": 0,
    "start_time": "2022-07-02T18:33:47.718Z"
   },
   {
    "duration": 0,
    "start_time": "2022-07-02T18:33:47.719Z"
   },
   {
    "duration": 0,
    "start_time": "2022-07-02T18:33:47.720Z"
   },
   {
    "duration": 0,
    "start_time": "2022-07-02T18:33:47.721Z"
   },
   {
    "duration": 0,
    "start_time": "2022-07-02T18:33:47.722Z"
   },
   {
    "duration": 0,
    "start_time": "2022-07-02T18:33:47.723Z"
   },
   {
    "duration": 0,
    "start_time": "2022-07-02T18:33:47.724Z"
   },
   {
    "duration": 514,
    "start_time": "2022-07-02T18:34:26.246Z"
   },
   {
    "duration": 16,
    "start_time": "2022-07-02T18:34:26.762Z"
   },
   {
    "duration": 40,
    "start_time": "2022-07-02T18:34:26.779Z"
   },
   {
    "duration": 2,
    "start_time": "2022-07-02T18:34:26.828Z"
   },
   {
    "duration": 37,
    "start_time": "2022-07-02T18:34:26.832Z"
   },
   {
    "duration": 2450,
    "start_time": "2022-07-02T18:34:26.871Z"
   },
   {
    "duration": 8,
    "start_time": "2022-07-02T18:34:29.324Z"
   },
   {
    "duration": 40,
    "start_time": "2022-07-02T18:34:29.334Z"
   },
   {
    "duration": 8,
    "start_time": "2022-07-02T18:34:29.376Z"
   },
   {
    "duration": 19,
    "start_time": "2022-07-02T18:34:29.387Z"
   },
   {
    "duration": 16,
    "start_time": "2022-07-02T18:34:29.409Z"
   },
   {
    "duration": 7,
    "start_time": "2022-07-02T18:34:29.427Z"
   },
   {
    "duration": 56,
    "start_time": "2022-07-02T18:34:29.436Z"
   },
   {
    "duration": 15,
    "start_time": "2022-07-02T18:34:29.497Z"
   },
   {
    "duration": 18,
    "start_time": "2022-07-02T18:34:29.513Z"
   },
   {
    "duration": 55,
    "start_time": "2022-07-02T18:34:29.533Z"
   },
   {
    "duration": 22,
    "start_time": "2022-07-02T18:34:29.591Z"
   },
   {
    "duration": 7,
    "start_time": "2022-07-02T18:34:29.616Z"
   },
   {
    "duration": 44,
    "start_time": "2022-07-02T18:34:29.625Z"
   },
   {
    "duration": 11,
    "start_time": "2022-07-02T18:34:29.671Z"
   },
   {
    "duration": 6,
    "start_time": "2022-07-02T18:34:29.684Z"
   },
   {
    "duration": 16,
    "start_time": "2022-07-02T18:34:29.692Z"
   },
   {
    "duration": 5,
    "start_time": "2022-07-02T18:34:29.710Z"
   },
   {
    "duration": 31,
    "start_time": "2022-07-02T18:34:29.716Z"
   },
   {
    "duration": 19,
    "start_time": "2022-07-02T18:34:29.755Z"
   },
   {
    "duration": 7,
    "start_time": "2022-07-02T18:34:29.776Z"
   },
   {
    "duration": 11,
    "start_time": "2022-07-02T18:34:29.785Z"
   },
   {
    "duration": 25,
    "start_time": "2022-07-02T18:34:29.798Z"
   },
   {
    "duration": 13,
    "start_time": "2022-07-02T18:34:29.825Z"
   },
   {
    "duration": 33,
    "start_time": "2022-07-02T18:34:29.840Z"
   },
   {
    "duration": 23,
    "start_time": "2022-07-02T18:34:29.875Z"
   },
   {
    "duration": 6,
    "start_time": "2022-07-02T18:34:29.901Z"
   },
   {
    "duration": 32,
    "start_time": "2022-07-02T18:34:29.909Z"
   },
   {
    "duration": 40,
    "start_time": "2022-07-02T18:34:29.942Z"
   },
   {
    "duration": 37,
    "start_time": "2022-07-02T18:34:29.985Z"
   },
   {
    "duration": 20,
    "start_time": "2022-07-02T18:34:30.025Z"
   },
   {
    "duration": 50,
    "start_time": "2022-07-02T18:34:30.047Z"
   },
   {
    "duration": 24,
    "start_time": "2022-07-02T18:34:30.099Z"
   },
   {
    "duration": 43,
    "start_time": "2022-07-02T18:34:30.125Z"
   },
   {
    "duration": 374,
    "start_time": "2022-07-02T18:34:30.170Z"
   },
   {
    "duration": 27,
    "start_time": "2022-07-02T18:34:30.551Z"
   },
   {
    "duration": 30,
    "start_time": "2022-07-02T18:34:30.579Z"
   },
   {
    "duration": 48,
    "start_time": "2022-07-02T18:34:30.611Z"
   },
   {
    "duration": 21,
    "start_time": "2022-07-02T18:34:30.660Z"
   },
   {
    "duration": 23,
    "start_time": "2022-07-02T18:34:30.683Z"
   },
   {
    "duration": 66,
    "start_time": "2022-07-02T18:34:30.707Z"
   },
   {
    "duration": 85,
    "start_time": "2022-07-02T18:34:30.775Z"
   },
   {
    "duration": 7,
    "start_time": "2022-07-02T18:34:30.861Z"
   },
   {
    "duration": 30,
    "start_time": "2022-07-02T18:34:30.870Z"
   },
   {
    "duration": 14,
    "start_time": "2022-07-02T18:34:30.902Z"
   },
   {
    "duration": 13,
    "start_time": "2022-07-02T18:34:30.917Z"
   },
   {
    "duration": 55,
    "start_time": "2022-07-02T18:34:30.932Z"
   },
   {
    "duration": 35,
    "start_time": "2022-07-02T18:34:30.988Z"
   },
   {
    "duration": 15,
    "start_time": "2022-07-02T18:34:31.024Z"
   },
   {
    "duration": 30,
    "start_time": "2022-07-02T18:34:31.041Z"
   },
   {
    "duration": 150,
    "start_time": "2022-07-02T18:34:31.073Z"
   },
   {
    "duration": 1368,
    "start_time": "2022-07-02T18:34:31.225Z"
   },
   {
    "duration": 0,
    "start_time": "2022-07-02T18:34:32.595Z"
   },
   {
    "duration": 0,
    "start_time": "2022-07-02T18:34:32.596Z"
   },
   {
    "duration": 0,
    "start_time": "2022-07-02T18:34:32.598Z"
   },
   {
    "duration": 0,
    "start_time": "2022-07-02T18:34:32.598Z"
   },
   {
    "duration": 0,
    "start_time": "2022-07-02T18:34:32.600Z"
   },
   {
    "duration": 0,
    "start_time": "2022-07-02T18:34:32.600Z"
   },
   {
    "duration": 0,
    "start_time": "2022-07-02T18:34:32.602Z"
   },
   {
    "duration": 0,
    "start_time": "2022-07-02T18:34:32.603Z"
   },
   {
    "duration": 0,
    "start_time": "2022-07-02T18:34:32.604Z"
   },
   {
    "duration": 0,
    "start_time": "2022-07-02T18:34:32.605Z"
   },
   {
    "duration": 0,
    "start_time": "2022-07-02T18:34:32.608Z"
   },
   {
    "duration": 0,
    "start_time": "2022-07-02T18:34:32.628Z"
   },
   {
    "duration": 0,
    "start_time": "2022-07-02T18:34:32.629Z"
   },
   {
    "duration": 0,
    "start_time": "2022-07-02T18:34:32.629Z"
   },
   {
    "duration": 0,
    "start_time": "2022-07-02T18:34:32.630Z"
   },
   {
    "duration": 0,
    "start_time": "2022-07-02T18:34:32.631Z"
   },
   {
    "duration": 21,
    "start_time": "2022-07-02T18:40:34.168Z"
   },
   {
    "duration": 16,
    "start_time": "2022-07-02T18:41:50.070Z"
   },
   {
    "duration": 502,
    "start_time": "2022-07-02T18:42:01.947Z"
   },
   {
    "duration": 21,
    "start_time": "2022-07-02T18:42:02.451Z"
   },
   {
    "duration": 44,
    "start_time": "2022-07-02T18:42:02.474Z"
   },
   {
    "duration": 8,
    "start_time": "2022-07-02T18:42:02.520Z"
   },
   {
    "duration": 68,
    "start_time": "2022-07-02T18:42:02.530Z"
   },
   {
    "duration": 2461,
    "start_time": "2022-07-02T18:42:02.600Z"
   },
   {
    "duration": 5,
    "start_time": "2022-07-02T18:42:05.064Z"
   },
   {
    "duration": 13,
    "start_time": "2022-07-02T18:42:05.072Z"
   },
   {
    "duration": 14,
    "start_time": "2022-07-02T18:42:05.087Z"
   },
   {
    "duration": 22,
    "start_time": "2022-07-02T18:42:05.102Z"
   },
   {
    "duration": 53,
    "start_time": "2022-07-02T18:42:05.126Z"
   },
   {
    "duration": 9,
    "start_time": "2022-07-02T18:42:05.181Z"
   },
   {
    "duration": 28,
    "start_time": "2022-07-02T18:42:05.192Z"
   },
   {
    "duration": 52,
    "start_time": "2022-07-02T18:42:05.223Z"
   },
   {
    "duration": 24,
    "start_time": "2022-07-02T18:42:05.277Z"
   },
   {
    "duration": 17,
    "start_time": "2022-07-02T18:42:05.303Z"
   },
   {
    "duration": 45,
    "start_time": "2022-07-02T18:42:05.322Z"
   },
   {
    "duration": 13,
    "start_time": "2022-07-02T18:42:05.370Z"
   },
   {
    "duration": 24,
    "start_time": "2022-07-02T18:42:05.385Z"
   },
   {
    "duration": 24,
    "start_time": "2022-07-02T18:42:05.412Z"
   },
   {
    "duration": 40,
    "start_time": "2022-07-02T18:42:05.438Z"
   },
   {
    "duration": 38,
    "start_time": "2022-07-02T18:42:05.480Z"
   },
   {
    "duration": 47,
    "start_time": "2022-07-02T18:42:05.520Z"
   },
   {
    "duration": 32,
    "start_time": "2022-07-02T18:42:05.568Z"
   },
   {
    "duration": 16,
    "start_time": "2022-07-02T18:42:05.602Z"
   },
   {
    "duration": 49,
    "start_time": "2022-07-02T18:42:05.620Z"
   },
   {
    "duration": 26,
    "start_time": "2022-07-02T18:42:05.672Z"
   },
   {
    "duration": 23,
    "start_time": "2022-07-02T18:42:05.700Z"
   },
   {
    "duration": 64,
    "start_time": "2022-07-02T18:42:05.725Z"
   },
   {
    "duration": 18,
    "start_time": "2022-07-02T18:42:05.791Z"
   },
   {
    "duration": 28,
    "start_time": "2022-07-02T18:42:05.811Z"
   },
   {
    "duration": 28,
    "start_time": "2022-07-02T18:42:05.845Z"
   },
   {
    "duration": 8,
    "start_time": "2022-07-02T18:42:05.876Z"
   },
   {
    "duration": 57,
    "start_time": "2022-07-02T18:42:05.886Z"
   },
   {
    "duration": 19,
    "start_time": "2022-07-02T18:42:05.951Z"
   },
   {
    "duration": 29,
    "start_time": "2022-07-02T18:42:05.972Z"
   },
   {
    "duration": 33,
    "start_time": "2022-07-02T18:42:06.002Z"
   },
   {
    "duration": 55,
    "start_time": "2022-07-02T18:42:06.039Z"
   },
   {
    "duration": 48,
    "start_time": "2022-07-02T18:42:06.096Z"
   },
   {
    "duration": 37,
    "start_time": "2022-07-02T18:42:06.145Z"
   },
   {
    "duration": 389,
    "start_time": "2022-07-02T18:42:06.186Z"
   },
   {
    "duration": 25,
    "start_time": "2022-07-02T18:42:06.577Z"
   },
   {
    "duration": 35,
    "start_time": "2022-07-02T18:42:06.603Z"
   },
   {
    "duration": 45,
    "start_time": "2022-07-02T18:42:06.646Z"
   },
   {
    "duration": 11,
    "start_time": "2022-07-02T18:42:06.693Z"
   },
   {
    "duration": 4,
    "start_time": "2022-07-02T18:42:06.706Z"
   },
   {
    "duration": 21,
    "start_time": "2022-07-02T18:42:06.712Z"
   },
   {
    "duration": 136,
    "start_time": "2022-07-02T18:42:06.734Z"
   },
   {
    "duration": 4,
    "start_time": "2022-07-02T18:42:06.871Z"
   },
   {
    "duration": 27,
    "start_time": "2022-07-02T18:42:06.876Z"
   },
   {
    "duration": 50,
    "start_time": "2022-07-02T18:42:06.905Z"
   },
   {
    "duration": 10,
    "start_time": "2022-07-02T18:42:06.956Z"
   },
   {
    "duration": 170,
    "start_time": "2022-07-02T18:42:06.968Z"
   },
   {
    "duration": 29,
    "start_time": "2022-07-02T18:42:07.149Z"
   },
   {
    "duration": 383,
    "start_time": "2022-07-02T18:42:07.180Z"
   },
   {
    "duration": 408,
    "start_time": "2022-07-02T18:42:07.573Z"
   },
   {
    "duration": 352,
    "start_time": "2022-07-02T18:42:07.983Z"
   },
   {
    "duration": 341,
    "start_time": "2022-07-02T18:42:08.336Z"
   },
   {
    "duration": 228,
    "start_time": "2022-07-02T18:42:08.679Z"
   },
   {
    "duration": 225,
    "start_time": "2022-07-02T18:42:08.909Z"
   },
   {
    "duration": 357,
    "start_time": "2022-07-02T18:42:09.137Z"
   },
   {
    "duration": 221,
    "start_time": "2022-07-02T18:42:09.497Z"
   },
   {
    "duration": 462,
    "start_time": "2022-07-02T18:42:09.720Z"
   },
   {
    "duration": 339,
    "start_time": "2022-07-02T18:42:10.184Z"
   },
   {
    "duration": 344,
    "start_time": "2022-07-02T18:42:10.526Z"
   },
   {
    "duration": 356,
    "start_time": "2022-07-02T18:42:10.873Z"
   },
   {
    "duration": 619,
    "start_time": "2022-07-02T18:42:11.232Z"
   },
   {
    "duration": 624,
    "start_time": "2022-07-02T18:42:11.852Z"
   },
   {
    "duration": 439,
    "start_time": "2022-07-02T18:42:12.478Z"
   },
   {
    "duration": 32,
    "start_time": "2022-07-02T18:59:29.033Z"
   },
   {
    "duration": 33,
    "start_time": "2022-07-02T18:59:43.409Z"
   },
   {
    "duration": 320,
    "start_time": "2022-07-02T19:16:37.846Z"
   },
   {
    "duration": 647,
    "start_time": "2022-07-02T19:17:03.074Z"
   },
   {
    "duration": 331,
    "start_time": "2022-07-02T19:17:12.466Z"
   },
   {
    "duration": 626,
    "start_time": "2022-07-02T19:17:28.430Z"
   },
   {
    "duration": 304,
    "start_time": "2022-07-02T19:17:49.618Z"
   },
   {
    "duration": 46,
    "start_time": "2022-07-04T17:29:27.175Z"
   },
   {
    "duration": 8,
    "start_time": "2022-07-04T17:33:18.859Z"
   },
   {
    "duration": 10,
    "start_time": "2022-07-04T17:59:33.290Z"
   },
   {
    "duration": 646,
    "start_time": "2022-07-04T17:59:46.631Z"
   },
   {
    "duration": 21,
    "start_time": "2022-07-04T17:59:47.279Z"
   },
   {
    "duration": 55,
    "start_time": "2022-07-04T17:59:47.303Z"
   },
   {
    "duration": 4,
    "start_time": "2022-07-04T17:59:47.359Z"
   },
   {
    "duration": 34,
    "start_time": "2022-07-04T17:59:47.366Z"
   },
   {
    "duration": 2577,
    "start_time": "2022-07-04T17:59:47.401Z"
   },
   {
    "duration": 5,
    "start_time": "2022-07-04T17:59:49.980Z"
   },
   {
    "duration": 14,
    "start_time": "2022-07-04T17:59:49.987Z"
   },
   {
    "duration": 26,
    "start_time": "2022-07-04T17:59:50.003Z"
   },
   {
    "duration": 40,
    "start_time": "2022-07-04T17:59:50.031Z"
   },
   {
    "duration": 16,
    "start_time": "2022-07-04T17:59:50.074Z"
   },
   {
    "duration": 14,
    "start_time": "2022-07-04T17:59:50.092Z"
   },
   {
    "duration": 53,
    "start_time": "2022-07-04T17:59:50.108Z"
   },
   {
    "duration": 15,
    "start_time": "2022-07-04T17:59:50.164Z"
   },
   {
    "duration": 12,
    "start_time": "2022-07-04T17:59:50.180Z"
   },
   {
    "duration": 16,
    "start_time": "2022-07-04T17:59:50.193Z"
   },
   {
    "duration": 5,
    "start_time": "2022-07-04T17:59:50.211Z"
   },
   {
    "duration": 11,
    "start_time": "2022-07-04T17:59:50.217Z"
   },
   {
    "duration": 27,
    "start_time": "2022-07-04T17:59:50.229Z"
   },
   {
    "duration": 8,
    "start_time": "2022-07-04T17:59:50.258Z"
   },
   {
    "duration": 20,
    "start_time": "2022-07-04T17:59:50.268Z"
   },
   {
    "duration": 7,
    "start_time": "2022-07-04T17:59:50.291Z"
   },
   {
    "duration": 27,
    "start_time": "2022-07-04T17:59:50.299Z"
   },
   {
    "duration": 22,
    "start_time": "2022-07-04T17:59:50.333Z"
   },
   {
    "duration": 17,
    "start_time": "2022-07-04T17:59:50.357Z"
   },
   {
    "duration": 14,
    "start_time": "2022-07-04T17:59:50.376Z"
   },
   {
    "duration": 22,
    "start_time": "2022-07-04T17:59:50.393Z"
   },
   {
    "duration": 5,
    "start_time": "2022-07-04T17:59:50.416Z"
   },
   {
    "duration": 29,
    "start_time": "2022-07-04T17:59:50.422Z"
   },
   {
    "duration": 39,
    "start_time": "2022-07-04T17:59:50.453Z"
   },
   {
    "duration": 13,
    "start_time": "2022-07-04T17:59:50.493Z"
   },
   {
    "duration": 19,
    "start_time": "2022-07-04T17:59:50.508Z"
   },
   {
    "duration": 15,
    "start_time": "2022-07-04T17:59:50.533Z"
   },
   {
    "duration": 32,
    "start_time": "2022-07-04T17:59:50.550Z"
   },
   {
    "duration": 14,
    "start_time": "2022-07-04T17:59:50.584Z"
   },
   {
    "duration": 34,
    "start_time": "2022-07-04T17:59:50.599Z"
   },
   {
    "duration": 29,
    "start_time": "2022-07-04T17:59:50.635Z"
   },
   {
    "duration": 22,
    "start_time": "2022-07-04T17:59:50.666Z"
   },
   {
    "duration": 22,
    "start_time": "2022-07-04T17:59:50.690Z"
   },
   {
    "duration": 21,
    "start_time": "2022-07-04T17:59:50.714Z"
   },
   {
    "duration": 409,
    "start_time": "2022-07-04T17:59:50.744Z"
   },
   {
    "duration": 26,
    "start_time": "2022-07-04T17:59:51.155Z"
   },
   {
    "duration": 17,
    "start_time": "2022-07-04T17:59:51.182Z"
   },
   {
    "duration": 41,
    "start_time": "2022-07-04T17:59:51.201Z"
   },
   {
    "duration": 20,
    "start_time": "2022-07-04T17:59:51.245Z"
   },
   {
    "duration": 12,
    "start_time": "2022-07-04T17:59:51.267Z"
   },
   {
    "duration": 17,
    "start_time": "2022-07-04T17:59:51.281Z"
   },
   {
    "duration": 95,
    "start_time": "2022-07-04T17:59:51.300Z"
   },
   {
    "duration": 4,
    "start_time": "2022-07-04T17:59:51.397Z"
   },
   {
    "duration": 47,
    "start_time": "2022-07-04T17:59:51.402Z"
   },
   {
    "duration": 35,
    "start_time": "2022-07-04T17:59:51.451Z"
   },
   {
    "duration": 5,
    "start_time": "2022-07-04T17:59:51.488Z"
   },
   {
    "duration": 191,
    "start_time": "2022-07-04T17:59:51.496Z"
   },
   {
    "duration": 3,
    "start_time": "2022-07-04T17:59:51.690Z"
   },
   {
    "duration": 49,
    "start_time": "2022-07-04T17:59:51.695Z"
   },
   {
    "duration": 444,
    "start_time": "2022-07-04T17:59:51.747Z"
   },
   {
    "duration": 314,
    "start_time": "2022-07-04T17:59:52.193Z"
   },
   {
    "duration": 336,
    "start_time": "2022-07-04T17:59:52.508Z"
   },
   {
    "duration": 454,
    "start_time": "2022-07-04T17:59:52.847Z"
   },
   {
    "duration": 201,
    "start_time": "2022-07-04T17:59:53.302Z"
   },
   {
    "duration": 220,
    "start_time": "2022-07-04T17:59:53.505Z"
   },
   {
    "duration": 327,
    "start_time": "2022-07-04T17:59:53.727Z"
   },
   {
    "duration": 321,
    "start_time": "2022-07-04T17:59:54.056Z"
   },
   {
    "duration": 423,
    "start_time": "2022-07-04T17:59:54.381Z"
   },
   {
    "duration": 376,
    "start_time": "2022-07-04T17:59:54.807Z"
   },
   {
    "duration": 362,
    "start_time": "2022-07-04T17:59:55.185Z"
   },
   {
    "duration": 324,
    "start_time": "2022-07-04T17:59:55.549Z"
   },
   {
    "duration": 290,
    "start_time": "2022-07-04T17:59:55.875Z"
   },
   {
    "duration": 448,
    "start_time": "2022-07-04T17:59:56.167Z"
   },
   {
    "duration": 276,
    "start_time": "2022-07-04T17:59:56.622Z"
   },
   {
    "duration": 294,
    "start_time": "2022-07-04T17:59:56.901Z"
   },
   {
    "duration": 156,
    "start_time": "2022-07-04T17:59:57.198Z"
   },
   {
    "duration": 233,
    "start_time": "2022-07-04T17:59:57.357Z"
   },
   {
    "duration": 218,
    "start_time": "2022-07-04T17:59:57.592Z"
   },
   {
    "duration": 255,
    "start_time": "2022-07-04T17:59:57.811Z"
   },
   {
    "duration": 24,
    "start_time": "2022-07-04T17:59:58.069Z"
   },
   {
    "duration": 288,
    "start_time": "2022-07-04T17:59:58.094Z"
   },
   {
    "duration": 185,
    "start_time": "2022-07-04T17:59:58.385Z"
   },
   {
    "duration": 171,
    "start_time": "2022-07-04T17:59:58.572Z"
   },
   {
    "duration": 211,
    "start_time": "2022-07-04T17:59:58.745Z"
   },
   {
    "duration": 161,
    "start_time": "2022-07-04T17:59:58.958Z"
   },
   {
    "duration": 190,
    "start_time": "2022-07-04T17:59:59.123Z"
   },
   {
    "duration": 192,
    "start_time": "2022-07-04T17:59:59.321Z"
   },
   {
    "duration": 187,
    "start_time": "2022-07-04T17:59:59.515Z"
   },
   {
    "duration": 19,
    "start_time": "2022-07-04T17:59:59.704Z"
   },
   {
    "duration": 82,
    "start_time": "2022-07-04T17:59:59.724Z"
   },
   {
    "duration": 14,
    "start_time": "2022-07-04T17:59:59.824Z"
   },
   {
    "duration": 22,
    "start_time": "2022-07-04T17:59:59.841Z"
   },
   {
    "duration": 27,
    "start_time": "2022-07-04T17:59:59.865Z"
   },
   {
    "duration": 40,
    "start_time": "2022-07-04T17:59:59.894Z"
   },
   {
    "duration": 4,
    "start_time": "2022-07-04T17:59:59.935Z"
   },
   {
    "duration": 112,
    "start_time": "2022-07-04T17:59:59.944Z"
   },
   {
    "duration": 0,
    "start_time": "2022-07-04T18:00:00.059Z"
   },
   {
    "duration": 0,
    "start_time": "2022-07-04T18:00:00.060Z"
   },
   {
    "duration": 124,
    "start_time": "2022-07-04T18:00:03.756Z"
   },
   {
    "duration": 363,
    "start_time": "2022-07-04T18:01:03.049Z"
   },
   {
    "duration": 595,
    "start_time": "2022-07-04T18:01:11.902Z"
   },
   {
    "duration": 129,
    "start_time": "2022-07-04T18:01:53.026Z"
   },
   {
    "duration": 449,
    "start_time": "2022-07-04T18:02:15.414Z"
   },
   {
    "duration": 302,
    "start_time": "2022-07-04T18:02:25.843Z"
   },
   {
    "duration": 448,
    "start_time": "2022-07-04T18:02:39.616Z"
   },
   {
    "duration": 459,
    "start_time": "2022-07-04T18:03:02.981Z"
   },
   {
    "duration": 361,
    "start_time": "2022-07-04T18:03:45.705Z"
   },
   {
    "duration": 335,
    "start_time": "2022-07-04T18:03:55.020Z"
   },
   {
    "duration": 329,
    "start_time": "2022-07-04T18:04:21.503Z"
   },
   {
    "duration": 333,
    "start_time": "2022-07-04T18:04:30.120Z"
   },
   {
    "duration": 115,
    "start_time": "2022-07-04T18:05:10.889Z"
   },
   {
    "duration": 447,
    "start_time": "2022-07-04T18:05:34.638Z"
   },
   {
    "duration": 328,
    "start_time": "2022-07-04T18:05:45.367Z"
   },
   {
    "duration": 345,
    "start_time": "2022-07-04T18:05:52.710Z"
   },
   {
    "duration": 318,
    "start_time": "2022-07-04T18:05:59.154Z"
   },
   {
    "duration": 354,
    "start_time": "2022-07-04T18:06:07.304Z"
   },
   {
    "duration": 143,
    "start_time": "2022-07-04T18:06:46.808Z"
   },
   {
    "duration": 293,
    "start_time": "2022-07-04T18:07:10.897Z"
   },
   {
    "duration": 529,
    "start_time": "2022-07-04T18:07:17.634Z"
   },
   {
    "duration": 327,
    "start_time": "2022-07-04T18:07:25.681Z"
   },
   {
    "duration": 210,
    "start_time": "2022-07-04T18:08:01.871Z"
   },
   {
    "duration": 243,
    "start_time": "2022-07-04T18:08:16.516Z"
   },
   {
    "duration": 267,
    "start_time": "2022-07-04T18:08:32.818Z"
   },
   {
    "duration": 232,
    "start_time": "2022-07-04T18:09:02.026Z"
   },
   {
    "duration": 214,
    "start_time": "2022-07-04T18:09:25.410Z"
   },
   {
    "duration": 342,
    "start_time": "2022-07-04T18:09:43.282Z"
   },
   {
    "duration": 328,
    "start_time": "2022-07-04T18:10:06.340Z"
   },
   {
    "duration": 561,
    "start_time": "2022-07-04T18:10:22.398Z"
   },
   {
    "duration": 344,
    "start_time": "2022-07-04T18:10:31.916Z"
   },
   {
    "duration": 387,
    "start_time": "2022-07-04T18:10:47.554Z"
   },
   {
    "duration": 347,
    "start_time": "2022-07-04T18:11:01.218Z"
   },
   {
    "duration": 371,
    "start_time": "2022-07-04T18:11:13.101Z"
   },
   {
    "duration": 356,
    "start_time": "2022-07-04T18:29:31.858Z"
   },
   {
    "duration": 171,
    "start_time": "2022-07-04T18:52:17.975Z"
   },
   {
    "duration": 158,
    "start_time": "2022-07-04T18:53:13.650Z"
   },
   {
    "duration": 398,
    "start_time": "2022-07-04T18:53:48.261Z"
   },
   {
    "duration": 237,
    "start_time": "2022-07-04T18:59:33.946Z"
   },
   {
    "duration": 234,
    "start_time": "2022-07-04T19:00:47.497Z"
   },
   {
    "duration": 197,
    "start_time": "2022-07-04T19:01:57.833Z"
   },
   {
    "duration": 210,
    "start_time": "2022-07-04T19:02:03.571Z"
   },
   {
    "duration": 217,
    "start_time": "2022-07-04T19:04:16.607Z"
   },
   {
    "duration": 25,
    "start_time": "2022-07-04T19:26:18.019Z"
   },
   {
    "duration": 24,
    "start_time": "2022-07-04T19:26:54.801Z"
   },
   {
    "duration": 26,
    "start_time": "2022-07-04T19:27:04.033Z"
   },
   {
    "duration": 528,
    "start_time": "2022-07-04T19:27:38.220Z"
   },
   {
    "duration": 16,
    "start_time": "2022-07-04T19:27:38.750Z"
   },
   {
    "duration": 53,
    "start_time": "2022-07-04T19:27:38.769Z"
   },
   {
    "duration": 3,
    "start_time": "2022-07-04T19:27:38.824Z"
   },
   {
    "duration": 27,
    "start_time": "2022-07-04T19:27:38.829Z"
   },
   {
    "duration": 2075,
    "start_time": "2022-07-04T19:27:38.858Z"
   },
   {
    "duration": 4,
    "start_time": "2022-07-04T19:27:40.935Z"
   },
   {
    "duration": 7,
    "start_time": "2022-07-04T19:27:40.940Z"
   },
   {
    "duration": 18,
    "start_time": "2022-07-04T19:27:40.948Z"
   },
   {
    "duration": 13,
    "start_time": "2022-07-04T19:27:40.968Z"
   },
   {
    "duration": 12,
    "start_time": "2022-07-04T19:27:40.983Z"
   },
   {
    "duration": 31,
    "start_time": "2022-07-04T19:27:40.996Z"
   },
   {
    "duration": 26,
    "start_time": "2022-07-04T19:27:41.031Z"
   },
   {
    "duration": 11,
    "start_time": "2022-07-04T19:27:41.058Z"
   },
   {
    "duration": 15,
    "start_time": "2022-07-04T19:27:41.071Z"
   },
   {
    "duration": 18,
    "start_time": "2022-07-04T19:27:41.088Z"
   },
   {
    "duration": 6,
    "start_time": "2022-07-04T19:27:41.122Z"
   },
   {
    "duration": 13,
    "start_time": "2022-07-04T19:27:41.129Z"
   },
   {
    "duration": 17,
    "start_time": "2022-07-04T19:27:41.144Z"
   },
   {
    "duration": 17,
    "start_time": "2022-07-04T19:27:41.163Z"
   },
   {
    "duration": 20,
    "start_time": "2022-07-04T19:27:41.182Z"
   },
   {
    "duration": 6,
    "start_time": "2022-07-04T19:27:41.203Z"
   },
   {
    "duration": 11,
    "start_time": "2022-07-04T19:27:41.222Z"
   },
   {
    "duration": 15,
    "start_time": "2022-07-04T19:27:41.234Z"
   },
   {
    "duration": 7,
    "start_time": "2022-07-04T19:27:41.251Z"
   },
   {
    "duration": 8,
    "start_time": "2022-07-04T19:27:41.260Z"
   },
   {
    "duration": 19,
    "start_time": "2022-07-04T19:27:41.270Z"
   },
   {
    "duration": 4,
    "start_time": "2022-07-04T19:27:41.290Z"
   },
   {
    "duration": 26,
    "start_time": "2022-07-04T19:27:41.296Z"
   },
   {
    "duration": 13,
    "start_time": "2022-07-04T19:27:41.324Z"
   },
   {
    "duration": 8,
    "start_time": "2022-07-04T19:27:41.338Z"
   },
   {
    "duration": 9,
    "start_time": "2022-07-04T19:27:41.348Z"
   },
   {
    "duration": 5,
    "start_time": "2022-07-04T19:27:41.359Z"
   },
   {
    "duration": 65,
    "start_time": "2022-07-04T19:27:41.365Z"
   },
   {
    "duration": 10,
    "start_time": "2022-07-04T19:27:41.432Z"
   },
   {
    "duration": 22,
    "start_time": "2022-07-04T19:27:41.443Z"
   },
   {
    "duration": 17,
    "start_time": "2022-07-04T19:27:41.467Z"
   },
   {
    "duration": 43,
    "start_time": "2022-07-04T19:27:41.486Z"
   },
   {
    "duration": 21,
    "start_time": "2022-07-04T19:27:41.531Z"
   },
   {
    "duration": 3,
    "start_time": "2022-07-04T19:27:41.556Z"
   },
   {
    "duration": 343,
    "start_time": "2022-07-04T19:27:41.560Z"
   },
   {
    "duration": 27,
    "start_time": "2022-07-04T19:27:41.905Z"
   },
   {
    "duration": 9,
    "start_time": "2022-07-04T19:27:41.934Z"
   },
   {
    "duration": 35,
    "start_time": "2022-07-04T19:27:41.945Z"
   },
   {
    "duration": 9,
    "start_time": "2022-07-04T19:27:41.982Z"
   },
   {
    "duration": 32,
    "start_time": "2022-07-04T19:27:41.992Z"
   },
   {
    "duration": 13,
    "start_time": "2022-07-04T19:27:42.026Z"
   },
   {
    "duration": 96,
    "start_time": "2022-07-04T19:27:42.041Z"
   },
   {
    "duration": 3,
    "start_time": "2022-07-04T19:27:42.140Z"
   },
   {
    "duration": 30,
    "start_time": "2022-07-04T19:27:42.145Z"
   },
   {
    "duration": 8,
    "start_time": "2022-07-04T19:27:42.177Z"
   },
   {
    "duration": 44,
    "start_time": "2022-07-04T19:27:42.186Z"
   },
   {
    "duration": 333,
    "start_time": "2022-07-04T19:27:42.231Z"
   },
   {
    "duration": 439,
    "start_time": "2022-07-04T19:27:42.566Z"
   },
   {
    "duration": 318,
    "start_time": "2022-07-04T19:27:43.006Z"
   },
   {
    "duration": 332,
    "start_time": "2022-07-04T19:27:43.326Z"
   },
   {
    "duration": 229,
    "start_time": "2022-07-04T19:27:43.660Z"
   },
   {
    "duration": 239,
    "start_time": "2022-07-04T19:27:43.891Z"
   },
   {
    "duration": 379,
    "start_time": "2022-07-04T19:27:44.132Z"
   },
   {
    "duration": 189,
    "start_time": "2022-07-04T19:27:44.522Z"
   },
   {
    "duration": 469,
    "start_time": "2022-07-04T19:27:44.712Z"
   },
   {
    "duration": 339,
    "start_time": "2022-07-04T19:27:45.183Z"
   },
   {
    "duration": 321,
    "start_time": "2022-07-04T19:27:45.524Z"
   },
   {
    "duration": 345,
    "start_time": "2022-07-04T19:27:45.847Z"
   },
   {
    "duration": 185,
    "start_time": "2022-07-04T19:27:46.194Z"
   },
   {
    "duration": 197,
    "start_time": "2022-07-04T19:27:46.382Z"
   },
   {
    "duration": 190,
    "start_time": "2022-07-04T19:27:46.582Z"
   },
   {
    "duration": 387,
    "start_time": "2022-07-04T19:27:46.774Z"
   },
   {
    "duration": 147,
    "start_time": "2022-07-04T19:27:47.163Z"
   },
   {
    "duration": 253,
    "start_time": "2022-07-04T19:27:47.312Z"
   },
   {
    "duration": 215,
    "start_time": "2022-07-04T19:27:47.567Z"
   },
   {
    "duration": 240,
    "start_time": "2022-07-04T19:27:47.784Z"
   },
   {
    "duration": 24,
    "start_time": "2022-07-04T19:27:48.025Z"
   },
   {
    "duration": 155,
    "start_time": "2022-07-04T19:27:48.050Z"
   },
   {
    "duration": 166,
    "start_time": "2022-07-04T19:27:48.207Z"
   },
   {
    "duration": 156,
    "start_time": "2022-07-04T19:27:48.374Z"
   },
   {
    "duration": 268,
    "start_time": "2022-07-04T19:27:48.531Z"
   },
   {
    "duration": 170,
    "start_time": "2022-07-04T19:27:48.801Z"
   },
   {
    "duration": 183,
    "start_time": "2022-07-04T19:27:48.972Z"
   },
   {
    "duration": 180,
    "start_time": "2022-07-04T19:27:49.157Z"
   },
   {
    "duration": 174,
    "start_time": "2022-07-04T19:27:49.339Z"
   },
   {
    "duration": 14,
    "start_time": "2022-07-04T19:27:49.515Z"
   },
   {
    "duration": 77,
    "start_time": "2022-07-04T19:27:49.530Z"
   },
   {
    "duration": 8,
    "start_time": "2022-07-04T19:27:49.622Z"
   },
   {
    "duration": 17,
    "start_time": "2022-07-04T19:27:49.632Z"
   },
   {
    "duration": 25,
    "start_time": "2022-07-04T19:27:49.651Z"
   },
   {
    "duration": 55,
    "start_time": "2022-07-04T19:27:49.678Z"
   },
   {
    "duration": 25,
    "start_time": "2022-07-04T19:27:49.735Z"
   },
   {
    "duration": 118,
    "start_time": "2022-07-04T19:27:49.762Z"
   },
   {
    "duration": 0,
    "start_time": "2022-07-04T19:27:49.882Z"
   },
   {
    "duration": 0,
    "start_time": "2022-07-04T19:27:49.884Z"
   },
   {
    "duration": 487,
    "start_time": "2022-07-04T19:29:48.751Z"
   },
   {
    "duration": 14,
    "start_time": "2022-07-04T19:29:49.240Z"
   },
   {
    "duration": 34,
    "start_time": "2022-07-04T19:29:49.256Z"
   },
   {
    "duration": 3,
    "start_time": "2022-07-04T19:29:49.292Z"
   },
   {
    "duration": 44,
    "start_time": "2022-07-04T19:29:49.297Z"
   },
   {
    "duration": 2095,
    "start_time": "2022-07-04T19:29:49.343Z"
   },
   {
    "duration": 4,
    "start_time": "2022-07-04T19:29:51.439Z"
   },
   {
    "duration": 16,
    "start_time": "2022-07-04T19:29:51.445Z"
   },
   {
    "duration": 13,
    "start_time": "2022-07-04T19:29:51.463Z"
   },
   {
    "duration": 23,
    "start_time": "2022-07-04T19:29:51.478Z"
   },
   {
    "duration": 14,
    "start_time": "2022-07-04T19:29:51.503Z"
   },
   {
    "duration": 12,
    "start_time": "2022-07-04T19:29:51.518Z"
   },
   {
    "duration": 34,
    "start_time": "2022-07-04T19:29:51.532Z"
   },
   {
    "duration": 6,
    "start_time": "2022-07-04T19:29:51.570Z"
   },
   {
    "duration": 17,
    "start_time": "2022-07-04T19:29:51.577Z"
   },
   {
    "duration": 15,
    "start_time": "2022-07-04T19:29:51.595Z"
   },
   {
    "duration": 19,
    "start_time": "2022-07-04T19:29:51.611Z"
   },
   {
    "duration": 5,
    "start_time": "2022-07-04T19:29:51.632Z"
   },
   {
    "duration": 18,
    "start_time": "2022-07-04T19:29:51.638Z"
   },
   {
    "duration": 35,
    "start_time": "2022-07-04T19:29:51.657Z"
   },
   {
    "duration": 11,
    "start_time": "2022-07-04T19:29:51.694Z"
   },
   {
    "duration": 26,
    "start_time": "2022-07-04T19:29:51.707Z"
   },
   {
    "duration": 5,
    "start_time": "2022-07-04T19:29:51.735Z"
   },
   {
    "duration": 19,
    "start_time": "2022-07-04T19:29:51.742Z"
   },
   {
    "duration": 22,
    "start_time": "2022-07-04T19:29:51.763Z"
   },
   {
    "duration": 8,
    "start_time": "2022-07-04T19:29:51.787Z"
   },
   {
    "duration": 21,
    "start_time": "2022-07-04T19:29:51.796Z"
   },
   {
    "duration": 20,
    "start_time": "2022-07-04T19:29:51.818Z"
   },
   {
    "duration": 5,
    "start_time": "2022-07-04T19:29:51.840Z"
   },
   {
    "duration": 14,
    "start_time": "2022-07-04T19:29:51.846Z"
   },
   {
    "duration": 16,
    "start_time": "2022-07-04T19:29:51.862Z"
   },
   {
    "duration": 9,
    "start_time": "2022-07-04T19:29:51.881Z"
   },
   {
    "duration": 40,
    "start_time": "2022-07-04T19:29:51.892Z"
   },
   {
    "duration": 7,
    "start_time": "2022-07-04T19:29:51.933Z"
   },
   {
    "duration": 40,
    "start_time": "2022-07-04T19:29:51.942Z"
   },
   {
    "duration": 32,
    "start_time": "2022-07-04T19:29:51.985Z"
   },
   {
    "duration": 30,
    "start_time": "2022-07-04T19:29:52.018Z"
   },
   {
    "duration": 32,
    "start_time": "2022-07-04T19:29:52.049Z"
   },
   {
    "duration": 26,
    "start_time": "2022-07-04T19:29:52.082Z"
   },
   {
    "duration": 23,
    "start_time": "2022-07-04T19:29:52.109Z"
   },
   {
    "duration": 11,
    "start_time": "2022-07-04T19:29:52.137Z"
   },
   {
    "duration": 341,
    "start_time": "2022-07-04T19:29:52.150Z"
   },
   {
    "duration": 24,
    "start_time": "2022-07-04T19:29:52.492Z"
   },
   {
    "duration": 10,
    "start_time": "2022-07-04T19:29:52.523Z"
   },
   {
    "duration": 35,
    "start_time": "2022-07-04T19:29:52.534Z"
   },
   {
    "duration": 33,
    "start_time": "2022-07-04T19:29:52.571Z"
   },
   {
    "duration": 10,
    "start_time": "2022-07-04T19:29:52.606Z"
   },
   {
    "duration": 13,
    "start_time": "2022-07-04T19:29:52.617Z"
   },
   {
    "duration": 78,
    "start_time": "2022-07-04T19:29:52.632Z"
   },
   {
    "duration": 12,
    "start_time": "2022-07-04T19:29:52.712Z"
   },
   {
    "duration": 33,
    "start_time": "2022-07-04T19:29:52.725Z"
   },
   {
    "duration": 8,
    "start_time": "2022-07-04T19:29:52.760Z"
   },
   {
    "duration": 29,
    "start_time": "2022-07-04T19:29:52.769Z"
   },
   {
    "duration": 379,
    "start_time": "2022-07-04T19:29:52.800Z"
   },
   {
    "duration": 396,
    "start_time": "2022-07-04T19:29:53.181Z"
   },
   {
    "duration": 284,
    "start_time": "2022-07-04T19:29:53.578Z"
   },
   {
    "duration": 323,
    "start_time": "2022-07-04T19:29:53.864Z"
   },
   {
    "duration": 229,
    "start_time": "2022-07-04T19:29:54.189Z"
   },
   {
    "duration": 267,
    "start_time": "2022-07-04T19:29:54.422Z"
   },
   {
    "duration": 319,
    "start_time": "2022-07-04T19:29:54.691Z"
   },
   {
    "duration": 160,
    "start_time": "2022-07-04T19:29:55.012Z"
   },
   {
    "duration": 425,
    "start_time": "2022-07-04T19:29:55.173Z"
   },
   {
    "duration": 312,
    "start_time": "2022-07-04T19:29:55.600Z"
   },
   {
    "duration": 299,
    "start_time": "2022-07-04T19:29:55.914Z"
   },
   {
    "duration": 309,
    "start_time": "2022-07-04T19:29:56.215Z"
   },
   {
    "duration": 165,
    "start_time": "2022-07-04T19:29:56.526Z"
   },
   {
    "duration": 199,
    "start_time": "2022-07-04T19:29:56.692Z"
   },
   {
    "duration": 174,
    "start_time": "2022-07-04T19:29:56.892Z"
   },
   {
    "duration": 343,
    "start_time": "2022-07-04T19:29:57.068Z"
   },
   {
    "duration": 121,
    "start_time": "2022-07-04T19:29:57.422Z"
   },
   {
    "duration": 227,
    "start_time": "2022-07-04T19:29:57.545Z"
   },
   {
    "duration": 208,
    "start_time": "2022-07-04T19:29:57.774Z"
   },
   {
    "duration": 225,
    "start_time": "2022-07-04T19:29:57.985Z"
   },
   {
    "duration": 29,
    "start_time": "2022-07-04T19:29:58.213Z"
   },
   {
    "duration": 166,
    "start_time": "2022-07-04T19:29:58.245Z"
   },
   {
    "duration": 166,
    "start_time": "2022-07-04T19:29:58.422Z"
   },
   {
    "duration": 151,
    "start_time": "2022-07-04T19:29:58.589Z"
   },
   {
    "duration": 283,
    "start_time": "2022-07-04T19:29:58.742Z"
   },
   {
    "duration": 149,
    "start_time": "2022-07-04T19:29:59.026Z"
   },
   {
    "duration": 179,
    "start_time": "2022-07-04T19:29:59.177Z"
   },
   {
    "duration": 188,
    "start_time": "2022-07-04T19:29:59.358Z"
   },
   {
    "duration": 162,
    "start_time": "2022-07-04T19:29:59.548Z"
   },
   {
    "duration": 14,
    "start_time": "2022-07-04T19:29:59.712Z"
   },
   {
    "duration": 94,
    "start_time": "2022-07-04T19:29:59.728Z"
   },
   {
    "duration": 9,
    "start_time": "2022-07-04T19:29:59.825Z"
   },
   {
    "duration": 16,
    "start_time": "2022-07-04T19:29:59.836Z"
   },
   {
    "duration": 27,
    "start_time": "2022-07-04T19:29:59.853Z"
   },
   {
    "duration": 59,
    "start_time": "2022-07-04T19:29:59.882Z"
   },
   {
    "duration": 24,
    "start_time": "2022-07-04T19:29:59.942Z"
   },
   {
    "duration": 201,
    "start_time": "2022-07-04T19:29:59.968Z"
   },
   {
    "duration": 9,
    "start_time": "2022-07-04T19:30:00.171Z"
   },
   {
    "duration": 168,
    "start_time": "2022-07-04T19:30:00.181Z"
   },
   {
    "duration": 13,
    "start_time": "2022-07-04T19:41:27.910Z"
   },
   {
    "duration": 2226,
    "start_time": "2022-07-04T20:03:48.879Z"
   },
   {
    "duration": 76,
    "start_time": "2022-07-04T20:04:06.357Z"
   },
   {
    "duration": 562,
    "start_time": "2022-07-04T20:14:04.713Z"
   },
   {
    "duration": 18,
    "start_time": "2022-07-04T20:14:05.277Z"
   },
   {
    "duration": 58,
    "start_time": "2022-07-04T20:14:05.298Z"
   },
   {
    "duration": 12,
    "start_time": "2022-07-04T20:14:05.358Z"
   },
   {
    "duration": 55,
    "start_time": "2022-07-04T20:14:05.372Z"
   },
   {
    "duration": 2188,
    "start_time": "2022-07-04T20:14:05.429Z"
   },
   {
    "duration": 5,
    "start_time": "2022-07-04T20:14:07.619Z"
   },
   {
    "duration": 7,
    "start_time": "2022-07-04T20:14:07.626Z"
   },
   {
    "duration": 9,
    "start_time": "2022-07-04T20:14:07.635Z"
   },
   {
    "duration": 12,
    "start_time": "2022-07-04T20:14:07.646Z"
   },
   {
    "duration": 12,
    "start_time": "2022-07-04T20:14:07.660Z"
   },
   {
    "duration": 12,
    "start_time": "2022-07-04T20:14:07.674Z"
   },
   {
    "duration": 39,
    "start_time": "2022-07-04T20:14:07.687Z"
   },
   {
    "duration": 5,
    "start_time": "2022-07-04T20:14:07.730Z"
   },
   {
    "duration": 14,
    "start_time": "2022-07-04T20:14:07.737Z"
   },
   {
    "duration": 14,
    "start_time": "2022-07-04T20:14:07.753Z"
   },
   {
    "duration": 17,
    "start_time": "2022-07-04T20:14:07.769Z"
   },
   {
    "duration": 11,
    "start_time": "2022-07-04T20:14:07.788Z"
   },
   {
    "duration": 8,
    "start_time": "2022-07-04T20:14:07.823Z"
   },
   {
    "duration": 13,
    "start_time": "2022-07-04T20:14:07.833Z"
   },
   {
    "duration": 6,
    "start_time": "2022-07-04T20:14:07.848Z"
   },
   {
    "duration": 19,
    "start_time": "2022-07-04T20:14:07.855Z"
   },
   {
    "duration": 5,
    "start_time": "2022-07-04T20:14:07.875Z"
   },
   {
    "duration": 43,
    "start_time": "2022-07-04T20:14:07.882Z"
   },
   {
    "duration": 13,
    "start_time": "2022-07-04T20:14:07.927Z"
   },
   {
    "duration": 10,
    "start_time": "2022-07-04T20:14:07.941Z"
   },
   {
    "duration": 11,
    "start_time": "2022-07-04T20:14:07.952Z"
   },
   {
    "duration": 14,
    "start_time": "2022-07-04T20:14:07.966Z"
   },
   {
    "duration": 12,
    "start_time": "2022-07-04T20:14:07.981Z"
   },
   {
    "duration": 14,
    "start_time": "2022-07-04T20:14:07.995Z"
   },
   {
    "duration": 15,
    "start_time": "2022-07-04T20:14:08.023Z"
   },
   {
    "duration": 11,
    "start_time": "2022-07-04T20:14:08.039Z"
   },
   {
    "duration": 11,
    "start_time": "2022-07-04T20:14:08.052Z"
   },
   {
    "duration": 5,
    "start_time": "2022-07-04T20:14:08.064Z"
   },
   {
    "duration": 52,
    "start_time": "2022-07-04T20:14:08.071Z"
   },
   {
    "duration": 10,
    "start_time": "2022-07-04T20:14:08.124Z"
   },
   {
    "duration": 40,
    "start_time": "2022-07-04T20:14:08.136Z"
   },
   {
    "duration": 19,
    "start_time": "2022-07-04T20:14:08.178Z"
   },
   {
    "duration": 24,
    "start_time": "2022-07-04T20:14:08.199Z"
   },
   {
    "duration": 26,
    "start_time": "2022-07-04T20:14:08.225Z"
   },
   {
    "duration": 3,
    "start_time": "2022-07-04T20:14:08.256Z"
   },
   {
    "duration": 366,
    "start_time": "2022-07-04T20:14:08.261Z"
   },
   {
    "duration": 25,
    "start_time": "2022-07-04T20:14:08.629Z"
   },
   {
    "duration": 15,
    "start_time": "2022-07-04T20:14:08.656Z"
   },
   {
    "duration": 26,
    "start_time": "2022-07-04T20:14:08.672Z"
   },
   {
    "duration": 23,
    "start_time": "2022-07-04T20:14:08.700Z"
   },
   {
    "duration": 4,
    "start_time": "2022-07-04T20:14:08.725Z"
   },
   {
    "duration": 26,
    "start_time": "2022-07-04T20:14:08.730Z"
   },
   {
    "duration": 82,
    "start_time": "2022-07-04T20:14:08.758Z"
   },
   {
    "duration": 3,
    "start_time": "2022-07-04T20:14:08.842Z"
   },
   {
    "duration": 28,
    "start_time": "2022-07-04T20:14:08.847Z"
   },
   {
    "duration": 29,
    "start_time": "2022-07-04T20:14:08.877Z"
   },
   {
    "duration": 31,
    "start_time": "2022-07-04T20:14:08.907Z"
   },
   {
    "duration": 340,
    "start_time": "2022-07-04T20:14:08.940Z"
   },
   {
    "duration": 396,
    "start_time": "2022-07-04T20:14:09.282Z"
   },
   {
    "duration": 304,
    "start_time": "2022-07-04T20:14:09.679Z"
   },
   {
    "duration": 307,
    "start_time": "2022-07-04T20:14:09.984Z"
   },
   {
    "duration": 210,
    "start_time": "2022-07-04T20:14:10.293Z"
   },
   {
    "duration": 197,
    "start_time": "2022-07-04T20:14:10.504Z"
   },
   {
    "duration": 292,
    "start_time": "2022-07-04T20:14:10.703Z"
   },
   {
    "duration": 160,
    "start_time": "2022-07-04T20:14:10.997Z"
   },
   {
    "duration": 465,
    "start_time": "2022-07-04T20:14:11.158Z"
   },
   {
    "duration": 307,
    "start_time": "2022-07-04T20:14:11.625Z"
   },
   {
    "duration": 327,
    "start_time": "2022-07-04T20:14:11.934Z"
   },
   {
    "duration": 296,
    "start_time": "2022-07-04T20:14:12.263Z"
   },
   {
    "duration": 153,
    "start_time": "2022-07-04T20:14:12.561Z"
   },
   {
    "duration": 166,
    "start_time": "2022-07-04T20:14:12.716Z"
   },
   {
    "duration": 178,
    "start_time": "2022-07-04T20:14:12.884Z"
   },
   {
    "duration": 399,
    "start_time": "2022-07-04T20:14:13.064Z"
   },
   {
    "duration": 130,
    "start_time": "2022-07-04T20:14:13.465Z"
   },
   {
    "duration": 217,
    "start_time": "2022-07-04T20:14:13.597Z"
   },
   {
    "duration": 215,
    "start_time": "2022-07-04T20:14:13.816Z"
   },
   {
    "duration": 219,
    "start_time": "2022-07-04T20:14:14.033Z"
   },
   {
    "duration": 24,
    "start_time": "2022-07-04T20:14:14.253Z"
   },
   {
    "duration": 173,
    "start_time": "2022-07-04T20:14:14.278Z"
   },
   {
    "duration": 229,
    "start_time": "2022-07-04T20:14:14.453Z"
   },
   {
    "duration": 149,
    "start_time": "2022-07-04T20:14:14.683Z"
   },
   {
    "duration": 285,
    "start_time": "2022-07-04T20:14:14.833Z"
   },
   {
    "duration": 150,
    "start_time": "2022-07-04T20:14:15.122Z"
   },
   {
    "duration": 182,
    "start_time": "2022-07-04T20:14:15.273Z"
   },
   {
    "duration": 168,
    "start_time": "2022-07-04T20:14:15.457Z"
   },
   {
    "duration": 153,
    "start_time": "2022-07-04T20:14:15.626Z"
   },
   {
    "duration": 8,
    "start_time": "2022-07-04T20:14:15.781Z"
   },
   {
    "duration": 84,
    "start_time": "2022-07-04T20:14:15.791Z"
   },
   {
    "duration": 0,
    "start_time": "2022-07-04T20:14:15.877Z"
   },
   {
    "duration": 0,
    "start_time": "2022-07-04T20:14:15.878Z"
   },
   {
    "duration": 0,
    "start_time": "2022-07-04T20:14:15.879Z"
   },
   {
    "duration": 0,
    "start_time": "2022-07-04T20:14:15.880Z"
   },
   {
    "duration": 0,
    "start_time": "2022-07-04T20:14:15.881Z"
   },
   {
    "duration": 82,
    "start_time": "2022-07-04T20:15:37.904Z"
   },
   {
    "duration": 116,
    "start_time": "2022-07-04T20:16:47.323Z"
   },
   {
    "duration": 75,
    "start_time": "2022-07-04T20:17:39.200Z"
   },
   {
    "duration": 12,
    "start_time": "2022-07-04T20:19:02.449Z"
   },
   {
    "duration": 16,
    "start_time": "2022-07-04T20:19:05.334Z"
   },
   {
    "duration": 29,
    "start_time": "2022-07-04T20:19:10.326Z"
   },
   {
    "duration": 25,
    "start_time": "2022-07-04T20:19:16.809Z"
   },
   {
    "duration": 28,
    "start_time": "2022-07-04T20:19:21.229Z"
   },
   {
    "duration": 25,
    "start_time": "2022-07-04T20:19:32.149Z"
   },
   {
    "duration": 35,
    "start_time": "2022-07-04T20:19:40.113Z"
   },
   {
    "duration": 172,
    "start_time": "2022-07-04T20:19:46.495Z"
   },
   {
    "duration": 488,
    "start_time": "2022-07-04T20:19:56.555Z"
   },
   {
    "duration": 14,
    "start_time": "2022-07-04T20:19:57.045Z"
   },
   {
    "duration": 35,
    "start_time": "2022-07-04T20:19:57.061Z"
   },
   {
    "duration": 2,
    "start_time": "2022-07-04T20:19:57.097Z"
   },
   {
    "duration": 42,
    "start_time": "2022-07-04T20:19:57.101Z"
   },
   {
    "duration": 2064,
    "start_time": "2022-07-04T20:19:57.145Z"
   },
   {
    "duration": 5,
    "start_time": "2022-07-04T20:19:59.211Z"
   },
   {
    "duration": 6,
    "start_time": "2022-07-04T20:19:59.217Z"
   },
   {
    "duration": 10,
    "start_time": "2022-07-04T20:19:59.224Z"
   },
   {
    "duration": 12,
    "start_time": "2022-07-04T20:19:59.236Z"
   },
   {
    "duration": 11,
    "start_time": "2022-07-04T20:19:59.249Z"
   },
   {
    "duration": 8,
    "start_time": "2022-07-04T20:19:59.261Z"
   },
   {
    "duration": 22,
    "start_time": "2022-07-04T20:19:59.271Z"
   },
   {
    "duration": 27,
    "start_time": "2022-07-04T20:19:59.296Z"
   },
   {
    "duration": 8,
    "start_time": "2022-07-04T20:19:59.324Z"
   },
   {
    "duration": 15,
    "start_time": "2022-07-04T20:19:59.334Z"
   },
   {
    "duration": 15,
    "start_time": "2022-07-04T20:19:59.350Z"
   },
   {
    "duration": 7,
    "start_time": "2022-07-04T20:19:59.367Z"
   },
   {
    "duration": 7,
    "start_time": "2022-07-04T20:19:59.375Z"
   },
   {
    "duration": 11,
    "start_time": "2022-07-04T20:19:59.384Z"
   },
   {
    "duration": 5,
    "start_time": "2022-07-04T20:19:59.396Z"
   },
   {
    "duration": 15,
    "start_time": "2022-07-04T20:19:59.423Z"
   },
   {
    "duration": 6,
    "start_time": "2022-07-04T20:19:59.439Z"
   },
   {
    "duration": 17,
    "start_time": "2022-07-04T20:19:59.446Z"
   },
   {
    "duration": 12,
    "start_time": "2022-07-04T20:19:59.465Z"
   },
   {
    "duration": 5,
    "start_time": "2022-07-04T20:19:59.478Z"
   },
   {
    "duration": 9,
    "start_time": "2022-07-04T20:19:59.484Z"
   },
   {
    "duration": 39,
    "start_time": "2022-07-04T20:19:59.495Z"
   },
   {
    "duration": 5,
    "start_time": "2022-07-04T20:19:59.536Z"
   },
   {
    "duration": 12,
    "start_time": "2022-07-04T20:19:59.542Z"
   },
   {
    "duration": 14,
    "start_time": "2022-07-04T20:19:59.556Z"
   },
   {
    "duration": 8,
    "start_time": "2022-07-04T20:19:59.572Z"
   },
   {
    "duration": 45,
    "start_time": "2022-07-04T20:19:59.582Z"
   },
   {
    "duration": 5,
    "start_time": "2022-07-04T20:19:59.629Z"
   },
   {
    "duration": 23,
    "start_time": "2022-07-04T20:19:59.636Z"
   },
   {
    "duration": 9,
    "start_time": "2022-07-04T20:19:59.661Z"
   },
   {
    "duration": 24,
    "start_time": "2022-07-04T20:19:59.672Z"
   },
   {
    "duration": 16,
    "start_time": "2022-07-04T20:19:59.721Z"
   },
   {
    "duration": 24,
    "start_time": "2022-07-04T20:19:59.739Z"
   },
   {
    "duration": 25,
    "start_time": "2022-07-04T20:19:59.765Z"
   },
   {
    "duration": 3,
    "start_time": "2022-07-04T20:19:59.794Z"
   },
   {
    "duration": 332,
    "start_time": "2022-07-04T20:19:59.822Z"
   },
   {
    "duration": 24,
    "start_time": "2022-07-04T20:20:00.157Z"
   },
   {
    "duration": 20,
    "start_time": "2022-07-04T20:20:00.183Z"
   },
   {
    "duration": 38,
    "start_time": "2022-07-04T20:20:00.205Z"
   },
   {
    "duration": 27,
    "start_time": "2022-07-04T20:20:00.245Z"
   },
   {
    "duration": 28,
    "start_time": "2022-07-04T20:20:00.274Z"
   },
   {
    "duration": 21,
    "start_time": "2022-07-04T20:20:00.304Z"
   },
   {
    "duration": 78,
    "start_time": "2022-07-04T20:20:00.326Z"
   },
   {
    "duration": 3,
    "start_time": "2022-07-04T20:20:00.406Z"
   },
   {
    "duration": 31,
    "start_time": "2022-07-04T20:20:00.410Z"
   },
   {
    "duration": 15,
    "start_time": "2022-07-04T20:20:00.442Z"
   },
   {
    "duration": 33,
    "start_time": "2022-07-04T20:20:00.459Z"
   },
   {
    "duration": 311,
    "start_time": "2022-07-04T20:20:00.494Z"
   },
   {
    "duration": 396,
    "start_time": "2022-07-04T20:20:00.807Z"
   },
   {
    "duration": 295,
    "start_time": "2022-07-04T20:20:01.204Z"
   },
   {
    "duration": 327,
    "start_time": "2022-07-04T20:20:01.501Z"
   },
   {
    "duration": 219,
    "start_time": "2022-07-04T20:20:01.830Z"
   },
   {
    "duration": 220,
    "start_time": "2022-07-04T20:20:02.050Z"
   },
   {
    "duration": 312,
    "start_time": "2022-07-04T20:20:02.271Z"
   },
   {
    "duration": 157,
    "start_time": "2022-07-04T20:20:02.585Z"
   },
   {
    "duration": 428,
    "start_time": "2022-07-04T20:20:02.743Z"
   },
   {
    "duration": 318,
    "start_time": "2022-07-04T20:20:03.172Z"
   },
   {
    "duration": 321,
    "start_time": "2022-07-04T20:20:03.491Z"
   },
   {
    "duration": 339,
    "start_time": "2022-07-04T20:20:03.814Z"
   },
   {
    "duration": 159,
    "start_time": "2022-07-04T20:20:04.155Z"
   },
   {
    "duration": 217,
    "start_time": "2022-07-04T20:20:04.322Z"
   },
   {
    "duration": 198,
    "start_time": "2022-07-04T20:20:04.541Z"
   },
   {
    "duration": 378,
    "start_time": "2022-07-04T20:20:04.741Z"
   },
   {
    "duration": 140,
    "start_time": "2022-07-04T20:20:05.122Z"
   },
   {
    "duration": 242,
    "start_time": "2022-07-04T20:20:05.264Z"
   },
   {
    "duration": 221,
    "start_time": "2022-07-04T20:20:05.507Z"
   },
   {
    "duration": 229,
    "start_time": "2022-07-04T20:20:05.730Z"
   },
   {
    "duration": 29,
    "start_time": "2022-07-04T20:20:05.961Z"
   },
   {
    "duration": 172,
    "start_time": "2022-07-04T20:20:05.992Z"
   },
   {
    "duration": 183,
    "start_time": "2022-07-04T20:20:06.166Z"
   },
   {
    "duration": 145,
    "start_time": "2022-07-04T20:20:06.351Z"
   },
   {
    "duration": 278,
    "start_time": "2022-07-04T20:20:06.497Z"
   },
   {
    "duration": 150,
    "start_time": "2022-07-04T20:20:06.777Z"
   },
   {
    "duration": 172,
    "start_time": "2022-07-04T20:20:06.929Z"
   },
   {
    "duration": 167,
    "start_time": "2022-07-04T20:20:07.103Z"
   },
   {
    "duration": 185,
    "start_time": "2022-07-04T20:20:07.272Z"
   },
   {
    "duration": 9,
    "start_time": "2022-07-04T20:20:07.459Z"
   },
   {
    "duration": 108,
    "start_time": "2022-07-04T20:20:07.470Z"
   },
   {
    "duration": 8,
    "start_time": "2022-07-04T20:20:07.579Z"
   },
   {
    "duration": 34,
    "start_time": "2022-07-04T20:20:07.589Z"
   },
   {
    "duration": 28,
    "start_time": "2022-07-04T20:20:07.625Z"
   },
   {
    "duration": 25,
    "start_time": "2022-07-04T20:20:07.654Z"
   },
   {
    "duration": 198,
    "start_time": "2022-07-04T20:20:07.680Z"
   },
   {
    "duration": 524,
    "start_time": "2022-07-04T20:21:11.188Z"
   },
   {
    "duration": 15,
    "start_time": "2022-07-04T20:21:11.714Z"
   },
   {
    "duration": 34,
    "start_time": "2022-07-04T20:21:11.730Z"
   },
   {
    "duration": 2,
    "start_time": "2022-07-04T20:21:11.766Z"
   },
   {
    "duration": 31,
    "start_time": "2022-07-04T20:21:11.770Z"
   },
   {
    "duration": 2231,
    "start_time": "2022-07-04T20:21:11.803Z"
   },
   {
    "duration": 5,
    "start_time": "2022-07-04T20:21:14.036Z"
   },
   {
    "duration": 8,
    "start_time": "2022-07-04T20:21:14.042Z"
   },
   {
    "duration": 15,
    "start_time": "2022-07-04T20:21:14.051Z"
   },
   {
    "duration": 19,
    "start_time": "2022-07-04T20:21:14.069Z"
   },
   {
    "duration": 14,
    "start_time": "2022-07-04T20:21:14.090Z"
   },
   {
    "duration": 8,
    "start_time": "2022-07-04T20:21:14.106Z"
   },
   {
    "duration": 38,
    "start_time": "2022-07-04T20:21:14.115Z"
   },
   {
    "duration": 17,
    "start_time": "2022-07-04T20:21:14.154Z"
   },
   {
    "duration": 19,
    "start_time": "2022-07-04T20:21:14.173Z"
   },
   {
    "duration": 19,
    "start_time": "2022-07-04T20:21:14.194Z"
   },
   {
    "duration": 19,
    "start_time": "2022-07-04T20:21:14.215Z"
   },
   {
    "duration": 13,
    "start_time": "2022-07-04T20:21:14.236Z"
   },
   {
    "duration": 9,
    "start_time": "2022-07-04T20:21:14.251Z"
   },
   {
    "duration": 15,
    "start_time": "2022-07-04T20:21:14.261Z"
   },
   {
    "duration": 6,
    "start_time": "2022-07-04T20:21:14.278Z"
   },
   {
    "duration": 22,
    "start_time": "2022-07-04T20:21:14.285Z"
   },
   {
    "duration": 15,
    "start_time": "2022-07-04T20:21:14.309Z"
   },
   {
    "duration": 24,
    "start_time": "2022-07-04T20:21:14.326Z"
   },
   {
    "duration": 15,
    "start_time": "2022-07-04T20:21:14.351Z"
   },
   {
    "duration": 29,
    "start_time": "2022-07-04T20:21:14.368Z"
   },
   {
    "duration": 29,
    "start_time": "2022-07-04T20:21:14.399Z"
   },
   {
    "duration": 30,
    "start_time": "2022-07-04T20:21:14.434Z"
   },
   {
    "duration": 6,
    "start_time": "2022-07-04T20:21:14.466Z"
   },
   {
    "duration": 15,
    "start_time": "2022-07-04T20:21:14.474Z"
   },
   {
    "duration": 33,
    "start_time": "2022-07-04T20:21:14.492Z"
   },
   {
    "duration": 12,
    "start_time": "2022-07-04T20:21:14.527Z"
   },
   {
    "duration": 14,
    "start_time": "2022-07-04T20:21:14.542Z"
   },
   {
    "duration": 9,
    "start_time": "2022-07-04T20:21:14.558Z"
   },
   {
    "duration": 41,
    "start_time": "2022-07-04T20:21:14.569Z"
   },
   {
    "duration": 28,
    "start_time": "2022-07-04T20:21:14.622Z"
   },
   {
    "duration": 35,
    "start_time": "2022-07-04T20:21:14.652Z"
   },
   {
    "duration": 21,
    "start_time": "2022-07-04T20:21:14.690Z"
   },
   {
    "duration": 25,
    "start_time": "2022-07-04T20:21:14.713Z"
   },
   {
    "duration": 34,
    "start_time": "2022-07-04T20:21:14.740Z"
   },
   {
    "duration": 4,
    "start_time": "2022-07-04T20:21:14.775Z"
   },
   {
    "duration": 352,
    "start_time": "2022-07-04T20:21:14.781Z"
   },
   {
    "duration": 23,
    "start_time": "2022-07-04T20:21:15.135Z"
   },
   {
    "duration": 12,
    "start_time": "2022-07-04T20:21:15.160Z"
   },
   {
    "duration": 28,
    "start_time": "2022-07-04T20:21:15.174Z"
   },
   {
    "duration": 23,
    "start_time": "2022-07-04T20:21:15.203Z"
   },
   {
    "duration": 4,
    "start_time": "2022-07-04T20:21:15.228Z"
   },
   {
    "duration": 15,
    "start_time": "2022-07-04T20:21:15.233Z"
   },
   {
    "duration": 90,
    "start_time": "2022-07-04T20:21:15.250Z"
   },
   {
    "duration": 3,
    "start_time": "2022-07-04T20:21:15.342Z"
   },
   {
    "duration": 27,
    "start_time": "2022-07-04T20:21:15.346Z"
   },
   {
    "duration": 6,
    "start_time": "2022-07-04T20:21:15.374Z"
   },
   {
    "duration": 42,
    "start_time": "2022-07-04T20:21:15.381Z"
   },
   {
    "duration": 342,
    "start_time": "2022-07-04T20:21:15.425Z"
   },
   {
    "duration": 404,
    "start_time": "2022-07-04T20:21:15.768Z"
   },
   {
    "duration": 297,
    "start_time": "2022-07-04T20:21:16.173Z"
   },
   {
    "duration": 324,
    "start_time": "2022-07-04T20:21:16.472Z"
   },
   {
    "duration": 209,
    "start_time": "2022-07-04T20:21:16.797Z"
   },
   {
    "duration": 200,
    "start_time": "2022-07-04T20:21:17.009Z"
   },
   {
    "duration": 304,
    "start_time": "2022-07-04T20:21:17.210Z"
   },
   {
    "duration": 152,
    "start_time": "2022-07-04T20:21:17.516Z"
   },
   {
    "duration": 438,
    "start_time": "2022-07-04T20:21:17.669Z"
   },
   {
    "duration": 327,
    "start_time": "2022-07-04T20:21:18.109Z"
   },
   {
    "duration": 320,
    "start_time": "2022-07-04T20:21:18.438Z"
   },
   {
    "duration": 322,
    "start_time": "2022-07-04T20:21:18.759Z"
   },
   {
    "duration": 163,
    "start_time": "2022-07-04T20:21:19.082Z"
   },
   {
    "duration": 166,
    "start_time": "2022-07-04T20:21:19.246Z"
   },
   {
    "duration": 165,
    "start_time": "2022-07-04T20:21:19.414Z"
   },
   {
    "duration": 353,
    "start_time": "2022-07-04T20:21:19.580Z"
   },
   {
    "duration": 139,
    "start_time": "2022-07-04T20:21:19.935Z"
   },
   {
    "duration": 212,
    "start_time": "2022-07-04T20:21:20.075Z"
   },
   {
    "duration": 210,
    "start_time": "2022-07-04T20:21:20.289Z"
   },
   {
    "duration": 223,
    "start_time": "2022-07-04T20:21:20.500Z"
   },
   {
    "duration": 23,
    "start_time": "2022-07-04T20:21:20.724Z"
   },
   {
    "duration": 156,
    "start_time": "2022-07-04T20:21:20.749Z"
   },
   {
    "duration": 160,
    "start_time": "2022-07-04T20:21:20.907Z"
   },
   {
    "duration": 148,
    "start_time": "2022-07-04T20:21:21.069Z"
   },
   {
    "duration": 267,
    "start_time": "2022-07-04T20:21:21.223Z"
   },
   {
    "duration": 143,
    "start_time": "2022-07-04T20:21:21.492Z"
   },
   {
    "duration": 167,
    "start_time": "2022-07-04T20:21:21.637Z"
   },
   {
    "duration": 181,
    "start_time": "2022-07-04T20:21:21.806Z"
   },
   {
    "duration": 167,
    "start_time": "2022-07-04T20:21:21.992Z"
   },
   {
    "duration": 9,
    "start_time": "2022-07-04T20:21:22.162Z"
   },
   {
    "duration": 108,
    "start_time": "2022-07-04T20:21:22.173Z"
   },
   {
    "duration": 8,
    "start_time": "2022-07-04T20:21:22.283Z"
   },
   {
    "duration": 30,
    "start_time": "2022-07-04T20:21:22.293Z"
   },
   {
    "duration": 34,
    "start_time": "2022-07-04T20:21:22.325Z"
   },
   {
    "duration": 25,
    "start_time": "2022-07-04T20:21:22.361Z"
   },
   {
    "duration": 178,
    "start_time": "2022-07-04T20:21:22.388Z"
   }
  ],
  "kernelspec": {
   "display_name": "Python 3 (ipykernel)",
   "language": "python",
   "name": "python3"
  },
  "language_info": {
   "codemirror_mode": {
    "name": "ipython",
    "version": 3
   },
   "file_extension": ".py",
   "mimetype": "text/x-python",
   "name": "python",
   "nbconvert_exporter": "python",
   "pygments_lexer": "ipython3",
   "version": "3.9.5"
  },
  "toc": {
   "base_numbering": 1,
   "nav_menu": {},
   "number_sections": true,
   "sideBar": true,
   "skip_h1_title": true,
   "title_cell": "Table of Contents",
   "title_sidebar": "Contents",
   "toc_cell": false,
   "toc_position": {},
   "toc_section_display": true,
   "toc_window_display": false
  }
 },
 "nbformat": 4,
 "nbformat_minor": 2
}
