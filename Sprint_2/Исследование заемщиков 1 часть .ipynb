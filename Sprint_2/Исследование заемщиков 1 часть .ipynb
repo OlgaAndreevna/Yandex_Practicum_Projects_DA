{
 "cells": [
  {
   "cell_type": "markdown",
   "id": "0e42b26f",
   "metadata": {
    "deletable": false,
    "editable": false,
    "id": "c81daeeb"
   },
   "source": [
    "# Исследование надежности заемщиков"
   ]
  },
  {
   "cell_type": "markdown",
   "id": "96b8fd5e",
   "metadata": {
    "deletable": false,
    "editable": false,
    "id": "-G3EJWzf62s6"
   },
   "source": [
    "Это первая часть проекта, она будет проверена автоматически. Вторую часть проверит ревьюер. "
   ]
  },
  {
   "cell_type": "markdown",
   "id": "31c59fb3",
   "metadata": {
    "deletable": false,
    "editable": false,
    "id": "744d7639"
   },
   "source": [
    "## Откройте таблицу и изучите общую информацию о данных"
   ]
  },
  {
   "cell_type": "markdown",
   "id": "285d6a4a",
   "metadata": {
    "deletable": false,
    "editable": false,
    "id": "e7a14c31",
    "tags": [
     "start_task"
    ]
   },
   "source": [
    "**Задание 1. Импортируйте библиотеку pandas. Считайте данные из csv-файла в датафрейм и сохраните в переменную `data`. Путь к файлу:**\n",
    "\n",
    "`/datasets/data.csv`"
   ]
  },
  {
   "cell_type": "code",
   "execution_count": 21,
   "id": "c3493154",
   "metadata": {
    "id": "7bcf75c9"
   },
   "outputs": [],
   "source": [
    "import pandas as pd # импортируйте библиотеку pandas"
   ]
  },
  {
   "cell_type": "code",
   "execution_count": 22,
   "id": "7596d8a3",
   "metadata": {
    "id": "4d240ee2"
   },
   "outputs": [],
   "source": [
    "data = pd.read_csv('/datasets/data.csv') # прочитайте csv-файл"
   ]
  },
  {
   "cell_type": "markdown",
   "id": "8e88308a",
   "metadata": {
    "deletable": false,
    "editable": false,
    "id": "b8038fe3",
    "tags": [
     "start_task"
    ]
   },
   "source": [
    "**Задание 2. Выведите первые 20 строчек датафрейма `data` на экран.**"
   ]
  },
  {
   "cell_type": "code",
   "execution_count": 23,
   "id": "7811f535",
   "metadata": {
    "id": "2a7cab99"
   },
   "outputs": [
    {
     "name": "stdout",
     "output_type": "stream",
     "text": [
      "    children  days_employed  dob_years            education  education_id  \\\n",
      "0          1   -8437.673028         42               высшее             0   \n",
      "1          1   -4024.803754         36              среднее             1   \n",
      "2          0   -5623.422610         33              Среднее             1   \n",
      "3          3   -4124.747207         32              среднее             1   \n",
      "4          0  340266.072047         53              среднее             1   \n",
      "5          0    -926.185831         27               высшее             0   \n",
      "6          0   -2879.202052         43               высшее             0   \n",
      "7          0    -152.779569         50              СРЕДНЕЕ             1   \n",
      "8          2   -6929.865299         35               ВЫСШЕЕ             0   \n",
      "9          0   -2188.756445         41              среднее             1   \n",
      "10         2   -4171.483647         36               высшее             0   \n",
      "11         0    -792.701887         40              среднее             1   \n",
      "12         0            NaN         65              среднее             1   \n",
      "13         0   -1846.641941         54  неоконченное высшее             2   \n",
      "14         0   -1844.956182         56               высшее             0   \n",
      "15         1    -972.364419         26              среднее             1   \n",
      "16         0   -1719.934226         35              среднее             1   \n",
      "17         0   -2369.999720         33               высшее             0   \n",
      "18         0  400281.136913         53              среднее             1   \n",
      "19         0  -10038.818549         48              СРЕДНЕЕ             1   \n",
      "\n",
      "       family_status  family_status_id gender income_type  debt  \\\n",
      "0    женат / замужем                 0      F   сотрудник     0   \n",
      "1    женат / замужем                 0      F   сотрудник     0   \n",
      "2    женат / замужем                 0      M   сотрудник     0   \n",
      "3    женат / замужем                 0      M   сотрудник     0   \n",
      "4   гражданский брак                 1      F   пенсионер     0   \n",
      "5   гражданский брак                 1      M   компаньон     0   \n",
      "6    женат / замужем                 0      F   компаньон     0   \n",
      "7    женат / замужем                 0      M   сотрудник     0   \n",
      "8   гражданский брак                 1      F   сотрудник     0   \n",
      "9    женат / замужем                 0      M   сотрудник     0   \n",
      "10   женат / замужем                 0      M   компаньон     0   \n",
      "11   женат / замужем                 0      F   сотрудник     0   \n",
      "12  гражданский брак                 1      M   пенсионер     0   \n",
      "13   женат / замужем                 0      F   сотрудник     0   \n",
      "14  гражданский брак                 1      F   компаньон     1   \n",
      "15   женат / замужем                 0      F   сотрудник     0   \n",
      "16   женат / замужем                 0      F   сотрудник     0   \n",
      "17  гражданский брак                 1      M   сотрудник     0   \n",
      "18    вдовец / вдова                 2      F   пенсионер     0   \n",
      "19         в разводе                 3      F   сотрудник     0   \n",
      "\n",
      "     total_income                                 purpose  \n",
      "0   253875.639453                           покупка жилья  \n",
      "1   112080.014102                 приобретение автомобиля  \n",
      "2   145885.952297                           покупка жилья  \n",
      "3   267628.550329              дополнительное образование  \n",
      "4   158616.077870                         сыграть свадьбу  \n",
      "5   255763.565419                           покупка жилья  \n",
      "6   240525.971920                       операции с жильем  \n",
      "7   135823.934197                             образование  \n",
      "8    95856.832424                   на проведение свадьбы  \n",
      "9   144425.938277                 покупка жилья для семьи  \n",
      "10  113943.491460                    покупка недвижимости  \n",
      "11   77069.234271       покупка коммерческой недвижимости  \n",
      "12            NaN                         сыграть свадьбу  \n",
      "13  130458.228857                 приобретение автомобиля  \n",
      "14  165127.911772              покупка жилой недвижимости  \n",
      "15  116820.904450  строительство собственной недвижимости  \n",
      "16  289202.704229                            недвижимость  \n",
      "17   90410.586745              строительство недвижимости  \n",
      "18   56823.777243      на покупку подержанного автомобиля  \n",
      "19  242831.107982            на покупку своего автомобиля  \n"
     ]
    }
   ],
   "source": [
    "print(data.head(20)) # ваш код здесь"
   ]
  },
  {
   "cell_type": "markdown",
   "id": "4aba312d",
   "metadata": {
    "deletable": false,
    "editable": false,
    "id": "1c12e233",
    "tags": [
     "start_task"
    ]
   },
   "source": [
    "**Задание 3. Выведите основную информацию о датафрейме с помощью метода `info()`.**"
   ]
  },
  {
   "cell_type": "code",
   "execution_count": 24,
   "id": "7c3a01b6",
   "metadata": {
    "id": "2b757bca"
   },
   "outputs": [
    {
     "name": "stdout",
     "output_type": "stream",
     "text": [
      "<class 'pandas.core.frame.DataFrame'>\n",
      "RangeIndex: 21525 entries, 0 to 21524\n",
      "Data columns (total 12 columns):\n",
      " #   Column            Non-Null Count  Dtype  \n",
      "---  ------            --------------  -----  \n",
      " 0   children          21525 non-null  int64  \n",
      " 1   days_employed     19351 non-null  float64\n",
      " 2   dob_years         21525 non-null  int64  \n",
      " 3   education         21525 non-null  object \n",
      " 4   education_id      21525 non-null  int64  \n",
      " 5   family_status     21525 non-null  object \n",
      " 6   family_status_id  21525 non-null  int64  \n",
      " 7   gender            21525 non-null  object \n",
      " 8   income_type       21525 non-null  object \n",
      " 9   debt              21525 non-null  int64  \n",
      " 10  total_income      19351 non-null  float64\n",
      " 11  purpose           21525 non-null  object \n",
      "dtypes: float64(2), int64(5), object(5)\n",
      "memory usage: 2.0+ MB\n"
     ]
    }
   ],
   "source": [
    "data.info() # ваш код здесь"
   ]
  },
  {
   "cell_type": "markdown",
   "id": "529f5c21",
   "metadata": {
    "deletable": false,
    "editable": false,
    "id": "333ec665"
   },
   "source": [
    "## Предобработка данных"
   ]
  },
  {
   "cell_type": "markdown",
   "id": "a5f00230",
   "metadata": {
    "deletable": false,
    "editable": false,
    "id": "02d92d53"
   },
   "source": [
    "### Удаление пропусков"
   ]
  },
  {
   "cell_type": "markdown",
   "id": "7e4e0946",
   "metadata": {
    "deletable": false,
    "editable": false,
    "id": "cd84967c",
    "tags": [
     "start_task"
    ]
   },
   "source": [
    "**Задание 4. Выведите количество пропущенных значений для каждого столбца. Используйте комбинацию двух методов.**"
   ]
  },
  {
   "cell_type": "code",
   "execution_count": 25,
   "id": "b3f587fa",
   "metadata": {
    "id": "7f9b2309"
   },
   "outputs": [
    {
     "name": "stdout",
     "output_type": "stream",
     "text": [
      "children               0\n",
      "days_employed       2174\n",
      "dob_years              0\n",
      "education              0\n",
      "education_id           0\n",
      "family_status          0\n",
      "family_status_id       0\n",
      "gender                 0\n",
      "income_type            0\n",
      "debt                   0\n",
      "total_income        2174\n",
      "purpose                0\n",
      "dtype: int64\n"
     ]
    }
   ],
   "source": [
    "print(data.isna().sum())\n"
   ]
  },
  {
   "cell_type": "markdown",
   "id": "4a6818e2",
   "metadata": {
    "deletable": false,
    "editable": false,
    "id": "db86e27b",
    "tags": [
     "start_task"
    ]
   },
   "source": [
    "**Задание 5. В двух столбцах есть пропущенные значения. Один из них — `days_employed`. Пропуски в этом столбце вы обработаете на следующем этапе. Другой столбец с пропущенными значениями — `total_income` — хранит данные о доходах. На сумму дохода сильнее всего влияет тип занятости, поэтому заполнить пропуски в этом столбце нужно медианным значением по каждому типу из столбца `income_type`. Например, у человека с типом занятости `сотрудник` пропуск в столбце `total_income` должен быть заполнен медианным доходом среди всех записей с тем же типом.**"
   ]
  },
  {
   "cell_type": "code",
   "execution_count": 26,
   "id": "bf3e84d9",
   "metadata": {
    "id": "42006a93"
   },
   "outputs": [],
   "source": [
    "median_df = data.groupby('income_type')['total_income'].median()\n",
    " \n",
    "for inc_type in data['income_type'].unique():\n",
    "    data.loc[data['income_type'] == inc_type, 'total_income'] = data.loc[data['income_type'] == inc_type, 'total_income'].fillna(median_df[inc_type])"
   ]
  },
  {
   "cell_type": "markdown",
   "id": "e372a049",
   "metadata": {
    "deletable": false,
    "editable": false,
    "id": "89da5ece"
   },
   "source": [
    "### Обработка аномальных значений"
   ]
  },
  {
   "cell_type": "markdown",
   "id": "377fb5e6",
   "metadata": {
    "deletable": false,
    "editable": false,
    "id": "57964554",
    "tags": [
     "start_task"
    ]
   },
   "source": [
    "**Задание 6. В данных могут встречаться артефакты (аномалии) — значения, которые не отражают действительность и появились по какой-то ошибке. Таким артефактом будет отрицательное количество дней трудового стажа в столбце `days_employed`. Для реальных данных это нормально. Обработайте значения в этом столбце: замените все отрицательные значения положительными с помощью метода `abs()`.**"
   ]
  },
  {
   "cell_type": "code",
   "execution_count": 27,
   "id": "8e634520",
   "metadata": {
    "id": "f6f055bf"
   },
   "outputs": [],
   "source": [
    "data['days_employed'] = abs(data['days_employed'])"
   ]
  },
  {
   "cell_type": "markdown",
   "id": "acd334e6",
   "metadata": {
    "deletable": false,
    "editable": false,
    "id": "6107dd2f",
    "tags": [
     "start_task"
    ]
   },
   "source": [
    "**Задание 7. Для каждого типа занятости выведите медианное значение трудового стажа `days_employed` в днях.**"
   ]
  },
  {
   "cell_type": "code",
   "execution_count": 28,
   "id": "62892551",
   "metadata": {
    "id": "85a5faf6"
   },
   "outputs": [],
   "source": [
    "days_employed_median = data.groupby('income_type')['days_employed'].median()# ваш код здесь"
   ]
  },
  {
   "cell_type": "markdown",
   "id": "b9a80d73",
   "metadata": {
    "deletable": false,
    "editable": false,
    "id": "38d1a030"
   },
   "source": [
    "У двух типов (безработные и пенсионеры) получатся аномально большие значения. Исправить такие значения сложно, поэтому оставьте их как есть. Тем более этот столбец не понадобится вам для исследования."
   ]
  },
  {
   "cell_type": "markdown",
   "id": "0f6f6720",
   "metadata": {
    "deletable": false,
    "editable": false,
    "id": "d8a9f147",
    "tags": [
     "start_task"
    ]
   },
   "source": [
    "**Задание 8. Выведите перечень уникальных значений столбца `children`.**"
   ]
  },
  {
   "cell_type": "code",
   "execution_count": 29,
   "id": "e1f6b4c4",
   "metadata": {
    "id": "ef5056eb"
   },
   "outputs": [
    {
     "name": "stdout",
     "output_type": "stream",
     "text": [
      "[ 1  0  3  2 -1  4 20  5]\n"
     ]
    }
   ],
   "source": [
    "unique_children = data['children'].unique()  \n",
    "print(unique_children)\n"
   ]
  },
  {
   "cell_type": "markdown",
   "id": "89430786",
   "metadata": {
    "deletable": false,
    "editable": false,
    "id": "40b9ebf2",
    "tags": [
     "start_task"
    ]
   },
   "source": [
    "**Задание 9. В столбце `children` есть два аномальных значения. Удалите строки, в которых встречаются такие аномальные значения из датафрейма `data`.**"
   ]
  },
  {
   "cell_type": "code",
   "execution_count": 30,
   "id": "f48e1ae6",
   "metadata": {
    "id": "3ff9801d"
   },
   "outputs": [],
   "source": [
    "data = data[(data['children'] >= 0) & (data['children'] <= 5)]# ваш код здесь"
   ]
  },
  {
   "cell_type": "markdown",
   "id": "02c9ac00",
   "metadata": {
    "deletable": false,
    "editable": false,
    "id": "bbc4d0ce",
    "tags": [
     "start_task"
    ]
   },
   "source": [
    "**Задание 10. Ещё раз выведите перечень уникальных значений столбца `children`, чтобы убедиться, что артефакты удалены.**"
   ]
  },
  {
   "cell_type": "code",
   "execution_count": 31,
   "id": "1a1d5b09",
   "metadata": {
    "id": "ad4fa8b7"
   },
   "outputs": [
    {
     "name": "stdout",
     "output_type": "stream",
     "text": [
      "[1 0 3 2 4 5]\n"
     ]
    }
   ],
   "source": [
    "unique_children = data['children'].unique()  \n",
    "print(unique_children)# ваш код здесь"
   ]
  },
  {
   "cell_type": "markdown",
   "id": "bfafe4ad",
   "metadata": {
    "deletable": false,
    "editable": false,
    "id": "75440b63"
   },
   "source": [
    "### Удаление пропусков (продолжение)"
   ]
  },
  {
   "cell_type": "markdown",
   "id": "b9a27c80",
   "metadata": {
    "deletable": false,
    "editable": false,
    "id": "f4ea573f",
    "tags": [
     "start_task"
    ]
   },
   "source": [
    "**Задание 11. Заполните пропуски в столбце `days_employed` медианными значениями по каждому типу занятости `income_type`.**"
   ]
  },
  {
   "cell_type": "code",
   "execution_count": 32,
   "id": "4321d3dd",
   "metadata": {
    "id": "af6b1a7e"
   },
   "outputs": [],
   "source": [
    "days_employed_median = data.groupby('income_type')['days_employed'].median()\n",
    "\n",
    "for days_emp in data['income_type'].unique():\n",
    "    data.loc[data['income_type'] == days_emp, 'days_employed'] = data.loc[data['income_type'] == days_emp, 'days_employed'].fillna(days_employed_median[days_emp])"
   ]
  },
  {
   "cell_type": "markdown",
   "id": "5431ae0b",
   "metadata": {
    "deletable": false,
    "editable": false,
    "id": "2753f40d",
    "tags": [
     "start_task"
    ]
   },
   "source": [
    "**Задание 12. Убедитесь, что все пропуски заполнены. Проверьте себя и ещё раз выведите количество пропущенных значений для каждого столбца с помощью двух методов.**"
   ]
  },
  {
   "cell_type": "code",
   "execution_count": 33,
   "id": "3ad8d764",
   "metadata": {
    "id": "55f78bc2"
   },
   "outputs": [
    {
     "name": "stdout",
     "output_type": "stream",
     "text": [
      "children            0\n",
      "days_employed       0\n",
      "dob_years           0\n",
      "education           0\n",
      "education_id        0\n",
      "family_status       0\n",
      "family_status_id    0\n",
      "gender              0\n",
      "income_type         0\n",
      "debt                0\n",
      "total_income        0\n",
      "purpose             0\n",
      "dtype: int64\n"
     ]
    }
   ],
   "source": [
    "print(data.isna().sum())# ваш код здесь"
   ]
  },
  {
   "cell_type": "markdown",
   "id": "4c7500b8",
   "metadata": {
    "deletable": false,
    "editable": false,
    "id": "ddc81e43"
   },
   "source": [
    "### Изменение типов данных"
   ]
  },
  {
   "cell_type": "markdown",
   "id": "a00b5c37",
   "metadata": {
    "deletable": false,
    "editable": false,
    "id": "42d19d24",
    "tags": [
     "start_task"
    ]
   },
   "source": [
    "**Задание 13. Замените вещественный тип данных в столбце `total_income` на целочисленный с помощью метода `astype()`.**"
   ]
  },
  {
   "cell_type": "code",
   "execution_count": 34,
   "id": "27cf6166",
   "metadata": {
    "id": "920b65ad"
   },
   "outputs": [],
   "source": [
    "data['total_income'] = data['total_income'].astype('int') # ваш код здесь"
   ]
  },
  {
   "cell_type": "markdown",
   "id": "7dbefb61",
   "metadata": {
    "deletable": false,
    "editable": false,
    "id": "80c420ba"
   },
   "source": [
    "### Обработка дубликатов"
   ]
  },
  {
   "cell_type": "markdown",
   "id": "b455fc29",
   "metadata": {
    "deletable": false,
    "editable": false,
    "id": "dc587695",
    "tags": [
     "start_task"
    ]
   },
   "source": [
    "**Задание 14. Выведите на экран количество строк-дубликатов в данных. Если такие строки присутствуют, удалите их.**"
   ]
  },
  {
   "cell_type": "code",
   "execution_count": 35,
   "id": "c28994f5",
   "metadata": {
    "id": "3ee445e4"
   },
   "outputs": [
    {
     "data": {
      "text/plain": [
       "54"
      ]
     },
     "execution_count": 35,
     "metadata": {},
     "output_type": "execute_result"
    }
   ],
   "source": [
    "data.duplicated().sum()# посчитайте дубликаты"
   ]
  },
  {
   "cell_type": "code",
   "execution_count": 20,
   "id": "c9c3a804",
   "metadata": {
    "id": "8575fe05"
   },
   "outputs": [
    {
     "name": "stdout",
     "output_type": "stream",
     "text": [
      "       children  days_employed  dob_years education  education_id  \\\n",
      "0             1   -8437.673028         42    высшее             0   \n",
      "1             1   -4024.803754         36   среднее             1   \n",
      "2             0   -5623.422610         33   Среднее             1   \n",
      "3             3   -4124.747207         32   среднее             1   \n",
      "4             0  340266.072047         53   среднее             1   \n",
      "...         ...            ...        ...       ...           ...   \n",
      "21520         1   -4529.316663         43   среднее             1   \n",
      "21521         0  343937.404131         67   среднее             1   \n",
      "21522         1   -2113.346888         38   среднее             1   \n",
      "21523         3   -3112.481705         38   среднее             1   \n",
      "21524         2   -1984.507589         40   среднее             1   \n",
      "\n",
      "          family_status  family_status_id gender income_type  debt  \\\n",
      "0       женат / замужем                 0      F   сотрудник     0   \n",
      "1       женат / замужем                 0      F   сотрудник     0   \n",
      "2       женат / замужем                 0      M   сотрудник     0   \n",
      "3       женат / замужем                 0      M   сотрудник     0   \n",
      "4      гражданский брак                 1      F   пенсионер     0   \n",
      "...                 ...               ...    ...         ...   ...   \n",
      "21520  гражданский брак                 1      F   компаньон     0   \n",
      "21521   женат / замужем                 0      F   пенсионер     0   \n",
      "21522  гражданский брак                 1      M   сотрудник     1   \n",
      "21523   женат / замужем                 0      M   сотрудник     1   \n",
      "21524   женат / замужем                 0      F   сотрудник     0   \n",
      "\n",
      "       total_income                       purpose  \n",
      "0            253875                 покупка жилья  \n",
      "1            112080       приобретение автомобиля  \n",
      "2            145885                 покупка жилья  \n",
      "3            267628    дополнительное образование  \n",
      "4            158616               сыграть свадьбу  \n",
      "...             ...                           ...  \n",
      "21520        224791             операции с жильем  \n",
      "21521        155999          сделка с автомобилем  \n",
      "21522         89672                  недвижимость  \n",
      "21523        244093  на покупку своего автомобиля  \n",
      "21524         82047         на покупку автомобиля  \n",
      "\n",
      "[21348 rows x 12 columns]\n"
     ]
    }
   ],
   "source": [
    "data = data.drop_duplicates()# удалите дубликаты"
   ]
  },
  {
   "cell_type": "markdown",
   "id": "6682ceab",
   "metadata": {
    "deletable": false,
    "editable": false,
    "id": "9771a76c",
    "tags": [
     "start_task"
    ]
   },
   "source": [
    "**Задание 15. Обработайте неявные дубликаты в столбце `education`. В этом столбце есть одни и те же значения, но записанные по-разному: с использованием заглавных и строчных букв. Приведите их к нижнему регистру. Проверьте остальные столбцы.**"
   ]
  },
  {
   "cell_type": "code",
   "execution_count": 38,
   "id": "674407a7",
   "metadata": {
    "id": "a9f8e2bf"
   },
   "outputs": [],
   "source": [
    "\n",
    "data['education'] = data['education'].str.lower()\n",
    "\n",
    "# to_lower_family_status = pd.Series(data['family_status'].unique())\n",
    "# to_lower_family_status.str.lower()\n",
    "\n",
    "# to_lower_gender = pd.Series(data['gender'].unique())\n",
    "# to_lower_gender.str.lower()\n",
    "\n",
    "# to_lower_income_type = pd.Series(data['income_type'].unique())\n",
    "# to_lower_income_type.str.lower()\n",
    "\n",
    "# to_lower_purpose = pd.Series(data['purpose'].unique())\n",
    "# to_lower_purpose.str.lower()# ваш код здесь"
   ]
  },
  {
   "cell_type": "markdown",
   "id": "f112ed4d",
   "metadata": {
    "deletable": false,
    "editable": false,
    "id": "9904cf55"
   },
   "source": [
    "### Категоризация данных"
   ]
  },
  {
   "cell_type": "markdown",
   "id": "c2d7153e",
   "metadata": {
    "deletable": false,
    "editable": false,
    "id": "72fcc8a2",
    "tags": [
     "start_task"
    ]
   },
   "source": [
    "**Задание 16. На основании диапазонов, указанных ниже, создайте в датафрейме `data` столбец `total_income_category` с категориями:**\n",
    "\n",
    "- 0–30000 — `'E'`;\n",
    "- 30001–50000 — `'D'`;\n",
    "- 50001–200000 — `'C'`;\n",
    "- 200001–1000000 — `'B'`;\n",
    "- 1000001 и выше — `'A'`.\n",
    "\n",
    "\n",
    "**Например, кредитополучателю с доходом 25000 нужно назначить категорию `'E'`, а клиенту, получающему 235000, — `'B'`. Используйте собственную функцию с именем `categorize_income()` и метод `apply()`.**"
   ]
  },
  {
   "cell_type": "code",
   "execution_count": 39,
   "id": "7886d9de",
   "metadata": {
    "id": "e1771346"
   },
   "outputs": [],
   "source": [
    "def categorize_income(purpose):\n",
    "        if 0 <= purpose <= 30000:\n",
    "            return 'E'\n",
    "        if 30001 <= purpose <= 50000:\n",
    "            return 'D'\n",
    "        if 50001 <= purpose <= 200000:\n",
    "            return 'C'\n",
    "        if 200001 <= purpose <= 1000000:\n",
    "            return 'B'\n",
    "        return 'A'# создайте функцию categorize_income()"
   ]
  },
  {
   "cell_type": "code",
   "execution_count": null,
   "id": "06b2c96c",
   "metadata": {
    "id": "d5f3586d"
   },
   "outputs": [],
   "source": [
    "data['total_income_category'] = data['total_income'].apply(categorize_income)\n",
    "# примените функцию методом apply()"
   ]
  },
  {
   "cell_type": "markdown",
   "id": "25cde08a",
   "metadata": {
    "deletable": false,
    "editable": false,
    "id": "dde49b5c",
    "tags": [
     "start_task"
    ]
   },
   "source": [
    "**Задание 17. Выведите на экран перечень уникальных целей взятия кредита из столбца `purpose`.**"
   ]
  },
  {
   "cell_type": "code",
   "execution_count": 40,
   "id": "02a23ef0",
   "metadata": {
    "id": "f67ce9b3"
   },
   "outputs": [
    {
     "name": "stdout",
     "output_type": "stream",
     "text": [
      "['покупка жилья' 'приобретение автомобиля' 'дополнительное образование'\n",
      " 'сыграть свадьбу' 'операции с жильем' 'образование'\n",
      " 'на проведение свадьбы' 'покупка жилья для семьи' 'покупка недвижимости'\n",
      " 'покупка коммерческой недвижимости' 'покупка жилой недвижимости'\n",
      " 'строительство собственной недвижимости' 'недвижимость'\n",
      " 'строительство недвижимости' 'на покупку подержанного автомобиля'\n",
      " 'на покупку своего автомобиля' 'операции с коммерческой недвижимостью'\n",
      " 'строительство жилой недвижимости' 'жилье'\n",
      " 'операции со своей недвижимостью' 'автомобили' 'заняться образованием'\n",
      " 'сделка с подержанным автомобилем' 'получение образования' 'автомобиль'\n",
      " 'свадьба' 'получение дополнительного образования' 'покупка своего жилья'\n",
      " 'операции с недвижимостью' 'получение высшего образования'\n",
      " 'свой автомобиль' 'сделка с автомобилем' 'профильное образование'\n",
      " 'высшее образование' 'покупка жилья для сдачи' 'на покупку автомобиля'\n",
      " 'ремонт жилью' 'заняться высшим образованием']\n"
     ]
    }
   ],
   "source": [
    "unique_purpose = data['purpose'].unique()\n",
    "print(unique_purpose)# ваш код здесь"
   ]
  },
  {
   "cell_type": "markdown",
   "id": "45843b7f",
   "metadata": {
    "deletable": false,
    "editable": false,
    "id": "85d0aef0",
    "tags": [
     "start_task"
    ]
   },
   "source": [
    "**Задание 18. Создайте функцию, которая на основании данных из столбца `purpose` сформирует новый столбец `purpose_category`, в который войдут следующие категории:**\n",
    "\n",
    "- `'операции с автомобилем'`,\n",
    "- `'операции с недвижимостью'`,\n",
    "- `'проведение свадьбы'`,\n",
    "- `'получение образования'`.\n",
    "\n",
    "**Например, если в столбце `purpose` находится подстрока `'на покупку автомобиля'`, то в столбце `purpose_category` должна появиться строка `'операции с автомобилем'`.**\n",
    "\n",
    "**Используйте собственную функцию с именем `categorize_purpose()` и метод `apply()`. Изучите данные в столбце `purpose` и определите, какие подстроки помогут вам правильно определить категорию.**"
   ]
  },
  {
   "cell_type": "code",
   "execution_count": null,
   "id": "1d7b2ed8",
   "metadata": {
    "id": "e149fab4"
   },
   "outputs": [],
   "source": [
    "def categorize_purpose(row): # создайте функцию categorize_purpose()\n",
    "    if 'автом' in row:\n",
    "        return 'операции с автомобилем'\n",
    "    elif ('жил' in row) or ('недвиж' in row):\n",
    "        return 'операции с недвижимостью'\n",
    "    elif ('вед' in row) or ('вадь' in row):\n",
    "        return 'проведение свадьбы'\n",
    "    elif ('олуч'in row) or ('браз'in row):\n",
    "        return 'получение образования'\n",
    "        "
   ]
  },
  {
   "cell_type": "code",
   "execution_count": null,
   "id": "cf4e458d",
   "metadata": {
    "id": "bf36e69b"
   },
   "outputs": [],
   "source": [
    "data['purpose_category'] = data['purpose'].apply(categorize_purpose)# примените функцию методом apply()"
   ]
  }
 ],
 "metadata": {
  "ExecuteTimeLog": [
   {
    "duration": 58,
    "start_time": "2022-06-06T16:42:20.429Z"
   },
   {
    "duration": 7,
    "start_time": "2022-06-06T16:42:35.576Z"
   },
   {
    "duration": 17,
    "start_time": "2022-06-06T17:40:47.192Z"
   },
   {
    "duration": 10,
    "start_time": "2022-06-06T17:41:02.505Z"
   },
   {
    "duration": 19,
    "start_time": "2022-06-06T17:43:25.207Z"
   },
   {
    "duration": 10,
    "start_time": "2022-06-06T17:53:29.385Z"
   },
   {
    "duration": 12,
    "start_time": "2022-06-06T17:53:36.437Z"
   },
   {
    "duration": 35,
    "start_time": "2022-06-06T17:57:36.629Z"
   },
   {
    "duration": 13,
    "start_time": "2022-06-06T18:01:15.022Z"
   },
   {
    "duration": 59,
    "start_time": "2022-06-06T18:08:12.311Z"
   },
   {
    "duration": 51,
    "start_time": "2022-06-06T18:08:15.298Z"
   },
   {
    "duration": 53,
    "start_time": "2022-06-06T18:09:02.391Z"
   },
   {
    "duration": 55,
    "start_time": "2022-06-06T18:09:05.655Z"
   },
   {
    "duration": 61,
    "start_time": "2022-06-06T18:09:51.218Z"
   },
   {
    "duration": 5,
    "start_time": "2022-06-06T18:45:41.064Z"
   },
   {
    "duration": 11,
    "start_time": "2022-06-06T18:51:11.293Z"
   },
   {
    "duration": 56,
    "start_time": "2022-06-06T18:53:09.082Z"
   },
   {
    "duration": 51,
    "start_time": "2022-06-06T18:53:13.245Z"
   },
   {
    "duration": 57,
    "start_time": "2022-06-06T18:53:15.050Z"
   },
   {
    "duration": 26,
    "start_time": "2022-06-06T19:01:25.120Z"
   },
   {
    "duration": 26,
    "start_time": "2022-06-06T19:05:13.880Z"
   },
   {
    "duration": 32,
    "start_time": "2022-06-06T19:06:11.915Z"
   },
   {
    "duration": 26,
    "start_time": "2022-06-06T19:07:11.293Z"
   },
   {
    "duration": 28,
    "start_time": "2022-06-06T19:07:17.973Z"
   },
   {
    "duration": 8,
    "start_time": "2022-06-06T19:07:25.223Z"
   },
   {
    "duration": 9,
    "start_time": "2022-06-06T19:10:27.624Z"
   },
   {
    "duration": 29,
    "start_time": "2022-06-06T19:17:04.217Z"
   },
   {
    "duration": 7,
    "start_time": "2022-06-06T19:17:15.259Z"
   },
   {
    "duration": 12,
    "start_time": "2022-06-06T19:18:16.476Z"
   },
   {
    "duration": 7,
    "start_time": "2022-06-06T19:18:30.362Z"
   },
   {
    "duration": 75,
    "start_time": "2022-06-07T17:15:29.195Z"
   },
   {
    "duration": 7,
    "start_time": "2022-06-07T17:20:06.753Z"
   },
   {
    "duration": 10,
    "start_time": "2022-06-07T17:21:23.442Z"
   },
   {
    "duration": 15,
    "start_time": "2022-06-07T17:21:32.318Z"
   },
   {
    "duration": 7,
    "start_time": "2022-06-07T17:28:36.686Z"
   },
   {
    "duration": 7,
    "start_time": "2022-06-07T17:28:52.060Z"
   },
   {
    "duration": 8,
    "start_time": "2022-06-07T17:29:19.656Z"
   },
   {
    "duration": 10,
    "start_time": "2022-06-07T17:29:29.153Z"
   },
   {
    "duration": 6,
    "start_time": "2022-06-07T17:29:46.404Z"
   },
   {
    "duration": 7,
    "start_time": "2022-06-07T17:30:46.711Z"
   },
   {
    "duration": 8,
    "start_time": "2022-06-07T17:31:18.573Z"
   },
   {
    "duration": 9,
    "start_time": "2022-06-07T17:33:47.765Z"
   },
   {
    "duration": 11,
    "start_time": "2022-06-07T17:38:50.844Z"
   },
   {
    "duration": 2,
    "start_time": "2022-06-07T17:38:54.155Z"
   },
   {
    "duration": 8,
    "start_time": "2022-06-07T17:39:19.033Z"
   },
   {
    "duration": 10,
    "start_time": "2022-06-07T18:04:46.456Z"
   },
   {
    "duration": 7,
    "start_time": "2022-06-07T18:07:08.250Z"
   },
   {
    "duration": 8,
    "start_time": "2022-06-07T18:07:17.920Z"
   },
   {
    "duration": 10,
    "start_time": "2022-06-07T18:07:34.424Z"
   },
   {
    "duration": 9,
    "start_time": "2022-06-07T18:07:46.032Z"
   },
   {
    "duration": 7,
    "start_time": "2022-06-07T18:07:49.331Z"
   },
   {
    "duration": 9,
    "start_time": "2022-06-07T18:07:54.561Z"
   },
   {
    "duration": 8,
    "start_time": "2022-06-07T18:08:00.226Z"
   },
   {
    "duration": 452,
    "start_time": "2022-06-07T18:08:05.025Z"
   },
   {
    "duration": 299,
    "start_time": "2022-06-07T18:08:07.866Z"
   },
   {
    "duration": 11,
    "start_time": "2022-06-07T18:08:11.850Z"
   },
   {
    "duration": 16,
    "start_time": "2022-06-07T18:08:15.538Z"
   },
   {
    "duration": 12,
    "start_time": "2022-06-07T18:08:18.106Z"
   },
   {
    "duration": 50,
    "start_time": "2022-06-07T18:08:21.226Z"
   },
   {
    "duration": 3,
    "start_time": "2022-06-07T18:08:25.227Z"
   },
   {
    "duration": 13,
    "start_time": "2022-06-07T18:08:27.795Z"
   },
   {
    "duration": 4,
    "start_time": "2022-06-07T18:08:50.395Z"
   },
   {
    "duration": 8,
    "start_time": "2022-06-07T18:08:58.826Z"
   },
   {
    "duration": 5,
    "start_time": "2022-06-07T18:09:03.610Z"
   },
   {
    "duration": 34219,
    "start_time": "2022-06-07T18:09:13.426Z"
   },
   {
    "duration": 8,
    "start_time": "2022-06-07T18:11:02.154Z"
   },
   {
    "duration": 50,
    "start_time": "2022-06-07T18:12:09.952Z"
   },
   {
    "duration": 22,
    "start_time": "2022-06-07T18:12:30.531Z"
   },
   {
    "duration": 40075,
    "start_time": "2022-06-07T18:13:19.394Z"
   },
   {
    "duration": 11,
    "start_time": "2022-06-07T18:14:31.601Z"
   },
   {
    "duration": 31,
    "start_time": "2022-06-07T18:31:58.814Z"
   },
   {
    "duration": 10,
    "start_time": "2022-06-07T18:33:01.878Z"
   },
   {
    "duration": 8,
    "start_time": "2022-06-07T18:33:09.095Z"
   },
   {
    "duration": 9,
    "start_time": "2022-06-07T18:36:06.490Z"
   },
   {
    "duration": 7,
    "start_time": "2022-06-07T18:36:49.897Z"
   },
   {
    "duration": 23,
    "start_time": "2022-06-07T18:37:37.217Z"
   },
   {
    "duration": 96,
    "start_time": "2022-06-07T18:52:49.922Z"
   },
   {
    "duration": 19,
    "start_time": "2022-06-07T18:53:31.916Z"
   },
   {
    "duration": 18,
    "start_time": "2022-06-07T18:54:16.465Z"
   },
   {
    "duration": 6,
    "start_time": "2022-06-07T18:55:58.297Z"
   },
   {
    "duration": 64,
    "start_time": "2022-06-07T18:56:01.635Z"
   },
   {
    "duration": 8,
    "start_time": "2022-06-07T18:56:21.850Z"
   },
   {
    "duration": 49,
    "start_time": "2022-06-07T18:56:25.982Z"
   },
   {
    "duration": 14,
    "start_time": "2022-06-07T18:57:58.691Z"
   },
   {
    "duration": 6,
    "start_time": "2022-06-07T19:09:26.745Z"
   },
   {
    "duration": 33,
    "start_time": "2022-06-07T19:09:47.170Z"
   },
   {
    "duration": 15,
    "start_time": "2022-06-07T19:09:49.340Z"
   },
   {
    "duration": 6,
    "start_time": "2022-06-07T19:11:51.713Z"
   },
   {
    "duration": 52,
    "start_time": "2022-06-07T19:12:01.385Z"
   },
   {
    "duration": 53,
    "start_time": "2022-06-08T06:08:01.183Z"
   },
   {
    "duration": 6,
    "start_time": "2022-06-08T06:08:30.443Z"
   },
   {
    "duration": 414,
    "start_time": "2022-06-08T06:08:33.659Z"
   },
   {
    "duration": 296,
    "start_time": "2022-06-08T06:08:37.386Z"
   },
   {
    "duration": 10,
    "start_time": "2022-06-08T06:08:40.148Z"
   },
   {
    "duration": 8,
    "start_time": "2022-06-08T06:08:59.863Z"
   },
   {
    "duration": 33,
    "start_time": "2022-06-08T06:09:02.029Z"
   },
   {
    "duration": 3,
    "start_time": "2022-06-08T06:09:04.189Z"
   },
   {
    "duration": 6,
    "start_time": "2022-06-08T06:09:06.453Z"
   },
   {
    "duration": 5,
    "start_time": "2022-06-08T06:09:07.908Z"
   },
   {
    "duration": 7,
    "start_time": "2022-06-08T06:09:10.027Z"
   },
   {
    "duration": 4,
    "start_time": "2022-06-08T06:09:11.811Z"
   },
   {
    "duration": 32,
    "start_time": "2022-06-08T06:09:14.066Z"
   },
   {
    "duration": 8,
    "start_time": "2022-06-08T06:09:16.811Z"
   },
   {
    "duration": 4,
    "start_time": "2022-06-08T06:09:19.179Z"
   },
   {
    "duration": 17,
    "start_time": "2022-06-08T06:09:21.603Z"
   },
   {
    "duration": 39,
    "start_time": "2022-06-08T06:10:34.525Z"
   },
   {
    "duration": 15,
    "start_time": "2022-06-08T06:11:17.721Z"
   },
   {
    "duration": 16,
    "start_time": "2022-06-08T06:11:29.717Z"
   },
   {
    "duration": 14,
    "start_time": "2022-06-08T06:13:42.164Z"
   },
   {
    "duration": 20,
    "start_time": "2022-06-08T06:13:47.989Z"
   },
   {
    "duration": 19,
    "start_time": "2022-06-08T06:23:06.883Z"
   },
   {
    "duration": 7,
    "start_time": "2022-06-08T06:23:46.617Z"
   },
   {
    "duration": 6,
    "start_time": "2022-06-08T06:25:12.965Z"
   },
   {
    "duration": 3,
    "start_time": "2022-06-08T06:25:33.804Z"
   },
   {
    "duration": 85,
    "start_time": "2022-06-08T06:25:35.390Z"
   },
   {
    "duration": 8,
    "start_time": "2022-06-08T06:25:39.517Z"
   },
   {
    "duration": 14,
    "start_time": "2022-06-08T06:25:43.821Z"
   },
   {
    "duration": 18,
    "start_time": "2022-06-08T06:25:47.645Z"
   },
   {
    "duration": 34,
    "start_time": "2022-06-08T06:25:50.901Z"
   },
   {
    "duration": 3,
    "start_time": "2022-06-08T06:25:53.989Z"
   },
   {
    "duration": 6,
    "start_time": "2022-06-08T06:25:56.405Z"
   },
   {
    "duration": 12,
    "start_time": "2022-06-08T06:25:59.151Z"
   },
   {
    "duration": 6,
    "start_time": "2022-06-08T06:26:01.909Z"
   },
   {
    "duration": 3,
    "start_time": "2022-06-08T06:26:05.832Z"
   },
   {
    "duration": 33,
    "start_time": "2022-06-08T06:26:09.141Z"
   },
   {
    "duration": 7,
    "start_time": "2022-06-08T06:26:11.838Z"
   },
   {
    "duration": 6,
    "start_time": "2022-06-08T06:26:18.077Z"
   },
   {
    "duration": 23,
    "start_time": "2022-06-08T06:26:22.546Z"
   },
   {
    "duration": 17,
    "start_time": "2022-06-08T06:27:21.061Z"
   },
   {
    "duration": 3,
    "start_time": "2022-06-08T06:27:32.925Z"
   },
   {
    "duration": 69,
    "start_time": "2022-06-08T06:27:34.658Z"
   },
   {
    "duration": 8,
    "start_time": "2022-06-08T06:27:36.909Z"
   },
   {
    "duration": 13,
    "start_time": "2022-06-08T06:27:39.909Z"
   },
   {
    "duration": 8,
    "start_time": "2022-06-08T06:27:42.998Z"
   },
   {
    "duration": 49,
    "start_time": "2022-06-08T06:27:45.359Z"
   },
   {
    "duration": 3,
    "start_time": "2022-06-08T06:27:47.572Z"
   },
   {
    "duration": 5,
    "start_time": "2022-06-08T06:27:49.916Z"
   },
   {
    "duration": 4,
    "start_time": "2022-06-08T06:27:52.782Z"
   },
   {
    "duration": 8,
    "start_time": "2022-06-08T06:27:54.934Z"
   },
   {
    "duration": 4,
    "start_time": "2022-06-08T06:28:00.047Z"
   },
   {
    "duration": 32,
    "start_time": "2022-06-08T06:28:03.726Z"
   },
   {
    "duration": 12,
    "start_time": "2022-06-08T06:28:06.026Z"
   },
   {
    "duration": 4,
    "start_time": "2022-06-08T06:28:08.501Z"
   },
   {
    "duration": 19,
    "start_time": "2022-06-08T06:28:10.416Z"
   },
   {
    "duration": 26,
    "start_time": "2022-06-08T06:28:13.565Z"
   },
   {
    "duration": 3,
    "start_time": "2022-06-08T06:29:09.139Z"
   },
   {
    "duration": 64,
    "start_time": "2022-06-08T06:29:10.225Z"
   },
   {
    "duration": 9,
    "start_time": "2022-06-08T06:29:11.882Z"
   },
   {
    "duration": 15,
    "start_time": "2022-06-08T06:29:14.749Z"
   },
   {
    "duration": 14,
    "start_time": "2022-06-08T06:29:17.871Z"
   },
   {
    "duration": 33,
    "start_time": "2022-06-08T06:29:19.961Z"
   },
   {
    "duration": 3,
    "start_time": "2022-06-08T06:29:21.894Z"
   },
   {
    "duration": 5,
    "start_time": "2022-06-08T06:29:23.846Z"
   },
   {
    "duration": 4,
    "start_time": "2022-06-08T06:29:26.200Z"
   },
   {
    "duration": 6,
    "start_time": "2022-06-08T06:29:28.831Z"
   },
   {
    "duration": 4,
    "start_time": "2022-06-08T06:29:30.710Z"
   },
   {
    "duration": 33,
    "start_time": "2022-06-08T06:29:34.287Z"
   },
   {
    "duration": 7,
    "start_time": "2022-06-08T06:29:37.875Z"
   },
   {
    "duration": 4,
    "start_time": "2022-06-08T06:29:41.701Z"
   },
   {
    "duration": 24,
    "start_time": "2022-06-08T06:29:45.530Z"
   },
   {
    "duration": 16,
    "start_time": "2022-06-08T06:29:49.175Z"
   },
   {
    "duration": 384,
    "start_time": "2022-06-08T06:31:13.877Z"
   },
   {
    "duration": 72,
    "start_time": "2022-06-08T06:31:15.700Z"
   },
   {
    "duration": 11,
    "start_time": "2022-06-08T06:31:18.487Z"
   },
   {
    "duration": 17,
    "start_time": "2022-06-08T06:31:21.751Z"
   },
   {
    "duration": 8,
    "start_time": "2022-06-08T06:31:24.814Z"
   },
   {
    "duration": 35,
    "start_time": "2022-06-08T06:31:29.781Z"
   },
   {
    "duration": 7,
    "start_time": "2022-06-08T06:31:32.286Z"
   },
   {
    "duration": 5,
    "start_time": "2022-06-08T06:31:34.456Z"
   },
   {
    "duration": 6,
    "start_time": "2022-06-08T06:31:37.270Z"
   },
   {
    "duration": 5,
    "start_time": "2022-06-08T06:31:39.426Z"
   },
   {
    "duration": 31,
    "start_time": "2022-06-08T06:31:42.887Z"
   },
   {
    "duration": 10,
    "start_time": "2022-06-08T06:31:45.134Z"
   },
   {
    "duration": 4,
    "start_time": "2022-06-08T06:31:48.086Z"
   },
   {
    "duration": 21,
    "start_time": "2022-06-08T06:31:50.545Z"
   },
   {
    "duration": 21,
    "start_time": "2022-06-08T06:31:54.665Z"
   },
   {
    "duration": 18,
    "start_time": "2022-06-08T06:33:41.415Z"
   },
   {
    "duration": 3,
    "start_time": "2022-06-08T06:36:46.178Z"
   },
   {
    "duration": 22,
    "start_time": "2022-06-08T06:37:12.457Z"
   },
   {
    "duration": 17,
    "start_time": "2022-06-08T06:37:13.809Z"
   },
   {
    "duration": 28,
    "start_time": "2022-06-08T06:38:55.389Z"
   },
   {
    "duration": 2,
    "start_time": "2022-06-08T06:40:01.231Z"
   },
   {
    "duration": 69,
    "start_time": "2022-06-08T06:40:02.807Z"
   },
   {
    "duration": 10,
    "start_time": "2022-06-08T06:40:05.271Z"
   },
   {
    "duration": 12,
    "start_time": "2022-06-08T06:40:11.322Z"
   },
   {
    "duration": 15,
    "start_time": "2022-06-08T06:40:14.445Z"
   },
   {
    "duration": 31,
    "start_time": "2022-06-08T06:40:17.182Z"
   },
   {
    "duration": 4,
    "start_time": "2022-06-08T06:40:21.717Z"
   },
   {
    "duration": 5,
    "start_time": "2022-06-08T06:40:23.617Z"
   },
   {
    "duration": 4,
    "start_time": "2022-06-08T06:40:25.493Z"
   },
   {
    "duration": 6,
    "start_time": "2022-06-08T06:40:27.802Z"
   },
   {
    "duration": 4,
    "start_time": "2022-06-08T06:40:30.672Z"
   },
   {
    "duration": 38,
    "start_time": "2022-06-08T06:40:33.438Z"
   },
   {
    "duration": 17,
    "start_time": "2022-06-08T06:40:35.846Z"
   },
   {
    "duration": 4,
    "start_time": "2022-06-08T06:40:39.191Z"
   },
   {
    "duration": 17,
    "start_time": "2022-06-08T06:40:41.665Z"
   },
   {
    "duration": 8,
    "start_time": "2022-06-08T06:42:36.535Z"
   },
   {
    "duration": 70,
    "start_time": "2022-06-08T06:43:32.889Z"
   },
   {
    "duration": 9,
    "start_time": "2022-06-08T06:43:47.273Z"
   },
   {
    "duration": 3,
    "start_time": "2022-06-08T06:44:36.400Z"
   },
   {
    "duration": 5,
    "start_time": "2022-06-08T06:53:05.588Z"
   }
  ],
  "colab": {
   "name": "dpp_template_part1.ipynb",
   "provenance": []
  },
  "kernelspec": {
   "display_name": "Python 3 (ipykernel)",
   "language": "python",
   "name": "python3"
  },
  "language_info": {
   "codemirror_mode": {
    "name": "ipython",
    "version": 3
   },
   "file_extension": ".py",
   "mimetype": "text/x-python",
   "name": "python",
   "nbconvert_exporter": "python",
   "pygments_lexer": "ipython3",
   "version": "3.9.5"
  },
  "toc": {
   "base_numbering": 1,
   "nav_menu": {},
   "number_sections": true,
   "sideBar": true,
   "skip_h1_title": true,
   "title_cell": "Table of Contents",
   "title_sidebar": "Contents",
   "toc_cell": false,
   "toc_position": {},
   "toc_section_display": true,
   "toc_window_display": false
  }
 },
 "nbformat": 4,
 "nbformat_minor": 5
}
